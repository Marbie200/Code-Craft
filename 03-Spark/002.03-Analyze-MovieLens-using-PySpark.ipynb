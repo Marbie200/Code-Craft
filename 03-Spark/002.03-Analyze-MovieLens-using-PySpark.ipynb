{
 "cells": [
  {
   "cell_type": "markdown",
   "id": "5acbd621-c7b5-4426-899e-384245fa39b7",
   "metadata": {},
   "source": [
    "# Data Analysis using __PySpark__  \n",
    "*Fun with the __MovieLens__ dataset*  \n",
    "\n",
    "**Part 3: Data Analysis basics using movies.csv from the MovieLens dataset**"
   ]
  },
  {
   "cell_type": "markdown",
   "id": "7c71fa36-0ee8-4a4d-b659-9cefad682c16",
   "metadata": {},
   "source": [
    "<font color='green'>__Support for Google Colab__  </font>\n",
    "\n",
    "<font color='green'>uncomment and execute the cell below to setup and run this Spark notebook on Google Colab.</font>"
   ]
  },
  {
   "cell_type": "code",
   "execution_count": 1,
   "id": "97dcb9e0-a59f-4883-ba43-a46649b2432e",
   "metadata": {},
   "outputs": [],
   "source": [
    "# # SETUP FOR COLAB: select all the lines below and uncomment (CTRL+/ on windows)\n",
    "\n",
    "# # grab spark\n",
    "# # as of 2023-06-23, the latest version is 3.4.1, get the link from Apache Spark's website\n",
    "# ! wget -q https://dlcdn.apache.org/spark/spark-3.4.1/spark-3.4.1-bin-hadoop3.tgz\n",
    "# # unzip spark\n",
    "# !tar xf spark-3.4.1-bin-hadoop3.tgz\n",
    "# # install findspark package\n",
    "# !pip install -q findspark\n",
    "# # Let's download and unzip the MovieLens 25M Dataset as well.\n",
    "# ! mkdir ./../data\n",
    "# ! wget -q https://files.grouplens.org/datasets/movielens/ml-25m.zip\n",
    "# ! unzip ./ml-25m.zip -d ./../data/\n",
    "\n",
    "# # got to provide JAVA_HOME and SPARK_HOME vairables\n",
    "# import os\n",
    "# os.environ[\"JAVA_HOME\"] = \"/usr/lib/jvm/java-11-openjdk-amd64\"\n",
    "# # IMPORTANT - UPDATE THE SPARK_HOME PATH BASED ON THE PACKAGE YOU DOWNLOAD\n",
    "# os.environ[\"SPARK_HOME\"] = \"/content/spark-3.4.1-bin-hadoop3\"\n",
    "# ! echo \"DONE\""
   ]
  },
  {
   "cell_type": "markdown",
   "id": "1fe28621-01bc-4430-916e-88bbb7aaf2bb",
   "metadata": {},
   "source": [
    "## Start the local/colab Spark Cluster"
   ]
  },
  {
   "cell_type": "code",
   "execution_count": 3,
   "id": "b4bedad4-69b7-431f-b09f-102c6caeceea",
   "metadata": {},
   "outputs": [
    {
     "name": "stdout",
     "output_type": "stream",
     "text": [
      "3.5.0\n"
     ]
    }
   ],
   "source": [
    "# Step 1: initialize findspark\n",
    "import findspark\n",
    "\n",
    "findspark.init()\n",
    "\n",
    "# Step 2: import pyspark\n",
    "import pyspark\n",
    "from pyspark.sql import SparkSession\n",
    "\n",
    "print(pyspark.__version__)\n",
    "\n",
    "# Step 3: Create a spark session\n",
    "#     using local[*] to use as many logical cores as available, use 1 when in doubt\n",
    "#     'local[1]' indicates spark on 1 core on the local machine or specify the number of cores needed\n",
    "#     use .config(\"spark.some.config.option\", \"some-value\") for additional configuration\n",
    "\n",
    "spark = (\n",
    "    SparkSession.builder.master(\"local[*]\")\n",
    "    .appName(\"Analyzing Movielens Data\")\n",
    "    .getOrCreate()\n",
    ")\n",
    "\n",
    "# spark"
   ]
  },
  {
   "cell_type": "markdown",
   "id": "ab96e108-aab5-486c-8472-62a673c5fc51",
   "metadata": {},
   "source": [
    "# Problem Set 2  - ```movies.csv```\n",
    "\n",
    "1. How many unique movies exist in the ```movies.csv``` dataset?  \n",
    "\n",
    "1. Prepare a yearwise list of movies - Extract the year of release in movies.csv into a new column year_of_release   \n",
    "\n",
    "1. List all unique genres found in ```movies.csv```, ordered lexically, case insensitive  \n",
    "\n",
    "1. Prepare a genere wise list of movies - list all the movies for 'Crime', for 'Romance', and so on...  \n",
    "\n",
    "1. Find number of films associated with each genre - add a new column to the movies dataframe: ```absolute_frequency_of_genre```  \n",
    "\n",
    "1. Add another column ```num_genres``` and list total number of genres associated with each film  \n",
    "\n",
    "1. Find out if a movie has both genres associated with it and also has ```(no genres listed)``` - if this is the case, find out how many such movies exist in the data set\n"
   ]
  },
  {
   "cell_type": "markdown",
   "id": "e9007dd2-b5a3-4e02-9e37-c2ad8835afd1",
   "metadata": {},
   "source": [
    "# Load Movies data from the MovieLens dataset"
   ]
  },
  {
   "cell_type": "code",
   "execution_count": 4,
   "id": "cebcbb3d-0c8e-4a67-86a9-c09eb7571639",
   "metadata": {},
   "outputs": [],
   "source": [
    "from pyspark.sql.functions import *\n",
    "from pyspark.sql.types import *\n",
    "\n",
    "#\n",
    "datalocation = \"../data/ml-25m/\"\n",
    "file_path_movies = datalocation + \"movies.csv\"\n",
    "file_path_links = datalocation + \"links.csv\"\n",
    "#\n",
    "schema_movies = StructType(\n",
    "    [\n",
    "        StructField(\"movieId\", StringType(), False),\n",
    "        StructField(\"title\", StringType(), False),\n",
    "        StructField(\"genres\", StringType(), True),\n",
    "    ]\n",
    ")\n",
    "#\n",
    "schema_links = StructType(\n",
    "    [\n",
    "        StructField(\"movieId\", StringType(), False),\n",
    "        StructField(\"imdbId\", StringType(), True),\n",
    "        StructField(\"tmdbId\", StringType(), True),\n",
    "    ]\n",
    ")\n",
    "#\n",
    "movies_raw = (\n",
    "    spark.read.format(\"csv\")\n",
    "    .option(\"encoding\", \"UTF-8\")\n",
    "    .option(\"header\", True)\n",
    "    .option(\"sep\", \",\")\n",
    "    .option(\"escape\", '\"')\n",
    "    .schema(schema_movies)\n",
    "    .load(file_path_movies)\n",
    ")\n",
    "#\n",
    "links_raw = (\n",
    "    spark.read.format(\"csv\")\n",
    "    .option(\"encoding\", \"UTF-8\")\n",
    "    .option(\"header\", True)\n",
    "    .option(\"sep\", \",\")\n",
    "    .option(\"escape\", '\"')\n",
    "    .schema(schema_links)\n",
    "    .load(file_path_links)\n",
    ")"
   ]
  },
  {
   "cell_type": "code",
   "execution_count": 5,
   "id": "f27ea577-cf48-457f-b896-b4e1a0b8d3e2",
   "metadata": {},
   "outputs": [
    {
     "name": "stdout",
     "output_type": "stream",
     "text": [
      "+-------+----------------------------------+-------------------------------------------+\n",
      "|movieId|title                             |genres                                     |\n",
      "+-------+----------------------------------+-------------------------------------------+\n",
      "|1      |Toy Story (1995)                  |Adventure|Animation|Children|Comedy|Fantasy|\n",
      "|2      |Jumanji (1995)                    |Adventure|Children|Fantasy                 |\n",
      "|3      |Grumpier Old Men (1995)           |Comedy|Romance                             |\n",
      "|4      |Waiting to Exhale (1995)          |Comedy|Drama|Romance                       |\n",
      "|5      |Father of the Bride Part II (1995)|Comedy                                     |\n",
      "|6      |Heat (1995)                       |Action|Crime|Thriller                      |\n",
      "|7      |Sabrina (1995)                    |Comedy|Romance                             |\n",
      "|8      |Tom and Huck (1995)               |Adventure|Children                         |\n",
      "|9      |Sudden Death (1995)               |Action                                     |\n",
      "|10     |GoldenEye (1995)                  |Action|Adventure|Thriller                  |\n",
      "+-------+----------------------------------+-------------------------------------------+\n",
      "only showing top 10 rows\n",
      "\n"
     ]
    }
   ],
   "source": [
    "movies_raw.show(10, False)"
   ]
  },
  {
   "cell_type": "code",
   "execution_count": 6,
   "id": "2d17b459-f6ec-42aa-a3b6-80dd2f443362",
   "metadata": {},
   "outputs": [
    {
     "name": "stdout",
     "output_type": "stream",
     "text": [
      "+-------+-------+------+\n",
      "|movieId|imdbId |tmdbId|\n",
      "+-------+-------+------+\n",
      "|1      |0114709|862   |\n",
      "|2      |0113497|8844  |\n",
      "|3      |0113228|15602 |\n",
      "|4      |0114885|31357 |\n",
      "|5      |0113041|11862 |\n",
      "|6      |0113277|949   |\n",
      "|7      |0114319|11860 |\n",
      "|8      |0112302|45325 |\n",
      "|9      |0114576|9091  |\n",
      "|10     |0113189|710   |\n",
      "+-------+-------+------+\n",
      "only showing top 10 rows\n",
      "\n"
     ]
    }
   ],
   "source": [
    "links_raw.show(10, False)"
   ]
  },
  {
   "cell_type": "markdown",
   "id": "f7828707-ff85-43b3-a769-5437de9b5132",
   "metadata": {},
   "source": [
    "# Solutions to Problem Set 2"
   ]
  },
  {
   "cell_type": "markdown",
   "id": "7037c368-98bc-4cda-9a75-0fc7ba35c3e2",
   "metadata": {},
   "source": [
    "### How many unique movies exist in the movies.csv dataset?"
   ]
  },
  {
   "cell_type": "code",
   "execution_count": 7,
   "id": "a59b17cc-68d2-4f26-b9f2-c361df9bad13",
   "metadata": {},
   "outputs": [
    {
     "name": "stdout",
     "output_type": "stream",
     "text": [
      "+-------+--------------------+--------------------+\n",
      "|movieId|               title|              genres|\n",
      "+-------+--------------------+--------------------+\n",
      "|      1|    Toy Story (1995)|Adventure|Animati...|\n",
      "|      2|      Jumanji (1995)|Adventure|Childre...|\n",
      "|      3|Grumpier Old Men ...|      Comedy|Romance|\n",
      "|      4|Waiting to Exhale...|Comedy|Drama|Romance|\n",
      "|      5|Father of the Bri...|              Comedy|\n",
      "+-------+--------------------+--------------------+\n",
      "only showing top 5 rows\n",
      "\n"
     ]
    }
   ],
   "source": [
    "# this is what the movies_raw data looks like:\n",
    "movies_raw.show(5)"
   ]
  },
  {
   "cell_type": "markdown",
   "id": "18167a52-f66a-4fea-8d91-4d70eee98a0a",
   "metadata": {},
   "source": [
    "Let's think about uniqueness \n",
    "* Do we look at ```movieId``` for uniqueness or ```title```?\n",
    "* ```movieId``` sound like the right choice, as it'll keep the data consistent with tags, tag-relevance and ratings etc.\n",
    "* *What could break here?* Let's try to articulate our assumptions and test them\n",
    "* Can we assume that *primary keys mean unique movies*?\n",
    "* Let's test that assumption, if it breaks, we'll know that our solutions must account for multiple ```movieId``` pointing to the same ```title```\n",
    "* Following from above, can we assume that if the value in ```title``` matches for multiple ```movieId``` values then it's the same movie?\n",
    "* Again, let's test this by building and reviewing the IMDB links"
   ]
  },
  {
   "cell_type": "code",
   "execution_count": 8,
   "id": "1e099c11-f56b-49ac-848a-0d9af7100c52",
   "metadata": {},
   "outputs": [
    {
     "name": "stdout",
     "output_type": "stream",
     "text": [
      "+--------------------+-----+\n",
      "|               title|count|\n",
      "+--------------------+-----+\n",
      "|     Casanova (2005)|    2|\n",
      "|Another World (2014)|    2|\n",
      "|     Believer (2018)|    2|\n",
      "|         Eros (2004)|    2|\n",
      "|Let There Be Ligh...|    2|\n",
      "|    Slow Burn (2000)|    2|\n",
      "|   Absolution (2015)|    2|\n",
      "|     Paradise (2013)|    2|\n",
      "|  The Promise (2016)|    2|\n",
      "|        Reset (2017)|    2|\n",
      "|The Midnight Man ...|    2|\n",
      "|         Eden (2014)|    2|\n",
      "+--------------------+-----+\n",
      "only showing top 12 rows\n",
      "\n"
     ]
    },
    {
     "data": {
      "text/plain": [
       "98"
      ]
     },
     "execution_count": 8,
     "metadata": {},
     "output_type": "execute_result"
    }
   ],
   "source": [
    "movies_with_matching_titles = (\n",
    "    movies_raw.groupby(col(\"title\")).count().filter(col(\"count\") > 1)\n",
    ")\n",
    "movies_with_matching_titles.orderBy(col(\"count\").desc()).show(12)\n",
    "movies_with_matching_titles.count()"
   ]
  },
  {
   "cell_type": "code",
   "execution_count": 9,
   "id": "150bdf12-3b23-4e34-886e-341eb524017c",
   "metadata": {},
   "outputs": [
    {
     "name": "stdout",
     "output_type": "stream",
     "text": [
      "+-------+---------------+--------------------+\n",
      "|movieId|          title|              genres|\n",
      "+-------+---------------+--------------------+\n",
      "|  42015|Casanova (2005)|Action|Adventure|...|\n",
      "| 128862|Casanova (2005)|Comedy|Drama|Romance|\n",
      "+-------+---------------+--------------------+\n",
      "\n"
     ]
    }
   ],
   "source": [
    "movies_raw.filter(col(\"title\") == \"Casanova (2005)\").show()"
   ]
  },
  {
   "cell_type": "code",
   "execution_count": 10,
   "id": "5faa1430-eec9-4c1a-bc90-3dfe98c3eb41",
   "metadata": {},
   "outputs": [
    {
     "name": "stdout",
     "output_type": "stream",
     "text": [
      "+-------+-------+------+\n",
      "|movieId| imdbId|tmdbId|\n",
      "+-------+-------+------+\n",
      "|  42015|0402894|  9681|\n",
      "+-------+-------+------+\n",
      "\n",
      "+-------+-------+------+\n",
      "|movieId| imdbId|tmdbId|\n",
      "+-------+-------+------+\n",
      "| 128862|0427042|122023|\n",
      "+-------+-------+------+\n",
      "\n"
     ]
    }
   ],
   "source": [
    "# links look different - use the links data for this bit\n",
    "links_raw.filter(col(\"movieId\") == \"42015\").show()\n",
    "links_raw.filter(col(\"movieId\") == \"128862\").show()"
   ]
  },
  {
   "cell_type": "code",
   "execution_count": 11,
   "id": "7bea402a-3675-49c7-8980-3160a5006690",
   "metadata": {},
   "outputs": [],
   "source": [
    "# Right join to work out movieIds for all the movies with matching titles\n",
    "movies_with_multiple_title_matches = movies_raw.join(\n",
    "    movies_with_matching_titles, \"title\", \"right\"\n",
    ")"
   ]
  },
  {
   "cell_type": "code",
   "execution_count": 12,
   "id": "d91e24c3-5f51-40a9-b894-2c343be45e00",
   "metadata": {},
   "outputs": [],
   "source": [
    "# compare the imdbId values for all movies with matching 'title' values in movies_raw\n",
    "links_for_movies_with_multiple_title_matches = movies_with_multiple_title_matches.join(\n",
    "    links_raw, \"movieId\", \"left\"\n",
    ")"
   ]
  },
  {
   "cell_type": "code",
   "execution_count": 13,
   "id": "ec6bfecb-cb1a-4459-ab8e-b4b3fcbede71",
   "metadata": {},
   "outputs": [
    {
     "name": "stdout",
     "output_type": "stream",
     "text": [
      "+-------+--------------------+--------------------+-----+-------+------+\n",
      "|movieId|               title|              genres|count| imdbId|tmdbId|\n",
      "+-------+--------------------+--------------------+-----+-------+------+\n",
      "| 128862|     Casanova (2005)|Comedy|Drama|Romance|    2|0427042|122023|\n",
      "|  42015|     Casanova (2005)|Action|Adventure|...|    2|0402894|  9681|\n",
      "| 156686|Another World (2014)|  (no genres listed)|    2|3500888|355925|\n",
      "| 140633|Another World (2014)|         Documentary|    2|3326110|262897|\n",
      "| 198947|     Believer (2018)|        Action|Crime|    2|7095654|518963|\n",
      "| 190199|     Believer (2018)|         Documentary|    2|7689424|490001|\n",
      "| 147002|         Eros (2004)|       Drama|Romance|    2|0343663| 39850|\n",
      "|  32600|         Eros (2004)|               Drama|    2|0377059|  NULL|\n",
      "| 191867|Let There Be Ligh...|         Documentary|    2|6184774|438442|\n",
      "| 179783|Let There Be Ligh...|  (no genres listed)|    2|5804314|480881|\n",
      "+-------+--------------------+--------------------+-----+-------+------+\n",
      "only showing top 10 rows\n",
      "\n"
     ]
    }
   ],
   "source": [
    "links_for_movies_with_multiple_title_matches.show(10)"
   ]
  },
  {
   "cell_type": "code",
   "execution_count": 14,
   "id": "af6d2b3c-c747-4340-bf43-d5f733d94076",
   "metadata": {},
   "outputs": [
    {
     "name": "stdout",
     "output_type": "stream",
     "text": [
      "+--------+-----+\n",
      "|  imdbId|count|\n",
      "+--------+-----+\n",
      "| 6306400|    1|\n",
      "| 2463842|    1|\n",
      "|10376068|    1|\n",
      "| 0449040|    1|\n",
      "| 0377059|    1|\n",
      "+--------+-----+\n",
      "only showing top 5 rows\n",
      "\n"
     ]
    }
   ],
   "source": [
    "# counts are all 1 - therefore all movies with matching titles still are unique movies\n",
    "links_for_movies_with_multiple_title_matches.groupBy(col(\"imdbId\")).count().orderBy(\n",
    "    col(\"count\").desc()\n",
    ").show(5)\n",
    "\n",
    "# conclusion: all movies in movies.csv are unique."
   ]
  },
  {
   "cell_type": "code",
   "execution_count": 15,
   "id": "8c6d35db-28ef-4499-97a0-cd2869f8394f",
   "metadata": {},
   "outputs": [
    {
     "data": {
      "text/plain": [
       "62423"
      ]
     },
     "execution_count": 15,
     "metadata": {},
     "output_type": "execute_result"
    }
   ],
   "source": [
    "# number of unique movies in movies.csv\n",
    "movies_raw.distinct().count()"
   ]
  },
  {
   "cell_type": "markdown",
   "id": "9248d87f-9830-495e-91a4-11ce821773ac",
   "metadata": {},
   "source": [
    "The [site](https://grouplens.org/datasets/movielens/25m/) also reads:  \n",
    "\n",
    "\"MovieLens 25M movie ratings. Stable benchmark dataset. 25 million ratings and one million tag applications applied to 62,000 movies by 162,000 users. Includes tag genome data with 15 million relevance scores across 1,129 tags. Released 12/2019\"\n",
    "\n",
    "So we seem to be in the right ballpark here.  \n",
    "Let's continue with our analysis."
   ]
  },
  {
   "cell_type": "markdown",
   "id": "056ce8f5-5644-4a5a-834b-c28a995cb69a",
   "metadata": {},
   "source": [
    "### Extract the year of release in movies.csv into a new column year_of_release"
   ]
  },
  {
   "cell_type": "code",
   "execution_count": 16,
   "id": "a68bbd09-fecb-43a9-a6d4-9b8ef6dfce3a",
   "metadata": {},
   "outputs": [
    {
     "name": "stdout",
     "output_type": "stream",
     "text": [
      "\\(([0-9]{4})\\)$\n"
     ]
    }
   ],
   "source": [
    "# let's build a regex pattern to isolate the year of release\n",
    "# this should be the last set of parenthesis in the title\n",
    "# the regex needs a backslash to escape the parenthesis symbols, as these are used to identify groups\n",
    "open_paren = \"\\\\(\"\n",
    "close_paren = \"\\\\)\"\n",
    "# this should have only 4 digits between the parenthesis\n",
    "year_pattern = \"([0-9]{4})\"\n",
    "# the title should end with the closing parenthesis\n",
    "close_paren = close_paren + \"$\"\n",
    "# ignore whitespace\n",
    "# keep unicode in mind\n",
    "# global\n",
    "# options_pattern = '/gxu'\n",
    "# final pattern: the options_pattern thing is not supported in python\n",
    "year_of_release_regex = open_paren + year_pattern + close_paren  # +options_pattern\n",
    "print(year_of_release_regex)"
   ]
  },
  {
   "cell_type": "code",
   "execution_count": 17,
   "id": "f8f94cf1-6a58-4f47-893c-e76ece57f643",
   "metadata": {},
   "outputs": [],
   "source": [
    "# code cleanup update - all sql.functions imported at the top of this notebook\n",
    "# from pyspark.sql.functions import regexp_extract"
   ]
  },
  {
   "cell_type": "code",
   "execution_count": 18,
   "id": "3165c769-11af-4253-adbb-594a16b24a6d",
   "metadata": {},
   "outputs": [
    {
     "name": "stdout",
     "output_type": "stream",
     "text": [
      "+-------+--------------------+--------------------+-----------------+-----------------+\n",
      "|movieId|               title|              genres|year_of_release_0|year_of_release_1|\n",
      "+-------+--------------------+--------------------+-----------------+-----------------+\n",
      "|      1|    Toy Story (1995)|Adventure|Animati...|           (1995)|             1995|\n",
      "|      2|      Jumanji (1995)|Adventure|Childre...|           (1995)|             1995|\n",
      "|      3|Grumpier Old Men ...|      Comedy|Romance|           (1995)|             1995|\n",
      "|      4|Waiting to Exhale...|Comedy|Drama|Romance|           (1995)|             1995|\n",
      "|      5|Father of the Bri...|              Comedy|           (1995)|             1995|\n",
      "|      6|         Heat (1995)|Action|Crime|Thri...|           (1995)|             1995|\n",
      "|      7|      Sabrina (1995)|      Comedy|Romance|           (1995)|             1995|\n",
      "|      8| Tom and Huck (1995)|  Adventure|Children|           (1995)|             1995|\n",
      "|      9| Sudden Death (1995)|              Action|           (1995)|             1995|\n",
      "|     10|    GoldenEye (1995)|Action|Adventure|...|           (1995)|             1995|\n",
      "+-------+--------------------+--------------------+-----------------+-----------------+\n",
      "only showing top 10 rows\n",
      "\n"
     ]
    }
   ],
   "source": [
    "# our regex has 2 groups,\n",
    "# 0 gives the first group match i.e. (1995)\n",
    "# 1 gives the next group match i.e. 1995\n",
    "movies_raw.withColumn(\n",
    "    \"year_of_release_0\", regexp_extract(col(\"title\"), year_of_release_regex, 0)\n",
    ").withColumn(\n",
    "    \"year_of_release_1\", regexp_extract(col(\"title\"), year_of_release_regex, 1)\n",
    ").show(\n",
    "    10\n",
    ")"
   ]
  },
  {
   "cell_type": "code",
   "execution_count": 19,
   "id": "0b7e534f-8103-4965-8945-17652adef0b1",
   "metadata": {},
   "outputs": [],
   "source": [
    "# so we'll use group 1 to create our dataframe\n",
    "movies = movies_raw.withColumn(\n",
    "    \"year_of_release\", regexp_extract(col(\"title\"), year_of_release_regex, 1)\n",
    ")"
   ]
  },
  {
   "cell_type": "code",
   "execution_count": 20,
   "id": "1d80882e-47e1-491f-8f6c-522559746a8c",
   "metadata": {},
   "outputs": [
    {
     "name": "stdout",
     "output_type": "stream",
     "text": [
      "+-------+--------------------+--------------------+---------------+\n",
      "|movieId|               title|              genres|year_of_release|\n",
      "+-------+--------------------+--------------------+---------------+\n",
      "|      1|    Toy Story (1995)|Adventure|Animati...|           1995|\n",
      "|      2|      Jumanji (1995)|Adventure|Childre...|           1995|\n",
      "|      3|Grumpier Old Men ...|      Comedy|Romance|           1995|\n",
      "|      4|Waiting to Exhale...|Comedy|Drama|Romance|           1995|\n",
      "|      5|Father of the Bri...|              Comedy|           1995|\n",
      "|      6|         Heat (1995)|Action|Crime|Thri...|           1995|\n",
      "|      7|      Sabrina (1995)|      Comedy|Romance|           1995|\n",
      "|      8| Tom and Huck (1995)|  Adventure|Children|           1995|\n",
      "|      9| Sudden Death (1995)|              Action|           1995|\n",
      "|     10|    GoldenEye (1995)|Action|Adventure|...|           1995|\n",
      "+-------+--------------------+--------------------+---------------+\n",
      "only showing top 10 rows\n",
      "\n"
     ]
    }
   ],
   "source": [
    "movies.show(10)"
   ]
  },
  {
   "cell_type": "markdown",
   "id": "40a9106e-7cc2-4906-a6c1-a397d12c89b9",
   "metadata": {},
   "source": [
    "### List all unique genres found in movies.csv, ordered lexically, case insensitive"
   ]
  },
  {
   "cell_type": "code",
   "execution_count": 21,
   "id": "9aad5902-47e6-4d7a-ae8c-e1d6caea3c32",
   "metadata": {},
   "outputs": [],
   "source": [
    "# code cleanup update - all sql.functions imported at the top of this notebook\n",
    "# from pyspark.sql.functions import explode, split"
   ]
  },
  {
   "cell_type": "code",
   "execution_count": 22,
   "id": "8c4b45cc-6a16-4c9b-b061-75b628e360ad",
   "metadata": {},
   "outputs": [],
   "source": [
    "# unique genres found in movies.csv\n",
    "movie_genres = movies_raw.select(\n",
    "    explode(  # convert each element in an array to a new row\n",
    "        split(movies_raw.genres, \"\\|\")  # split the data on pipe and create an arry\n",
    "    ).alias(\"genre\")\n",
    ")"
   ]
  },
  {
   "cell_type": "code",
   "execution_count": 23,
   "id": "053be004-762e-48f9-844f-0a2c0f6f16a0",
   "metadata": {},
   "outputs": [
    {
     "name": "stdout",
     "output_type": "stream",
     "text": [
      "+------------------+\n",
      "|             genre|\n",
      "+------------------+\n",
      "|             Crime|\n",
      "|           Romance|\n",
      "|          Thriller|\n",
      "|         Adventure|\n",
      "|             Drama|\n",
      "|               War|\n",
      "|       Documentary|\n",
      "|           Fantasy|\n",
      "|           Mystery|\n",
      "|           Musical|\n",
      "|         Animation|\n",
      "|         Film-Noir|\n",
      "|(no genres listed)|\n",
      "|              IMAX|\n",
      "|            Horror|\n",
      "|           Western|\n",
      "|            Comedy|\n",
      "|          Children|\n",
      "|            Action|\n",
      "|            Sci-Fi|\n",
      "+------------------+\n",
      "\n"
     ]
    }
   ],
   "source": [
    "unique_movie_genres = movie_genres.distinct()\n",
    "unique_movie_genres.show()"
   ]
  },
  {
   "cell_type": "markdown",
   "id": "9bd19886-91ce-42bc-9646-51ccfcc97972",
   "metadata": {},
   "source": [
    "### Find number of films associated with each genre - absolute_frequency_of_genre  "
   ]
  },
  {
   "cell_type": "code",
   "execution_count": 24,
   "id": "828f1744-c1d5-4d45-9172-9c30dd57592c",
   "metadata": {},
   "outputs": [
    {
     "name": "stdout",
     "output_type": "stream",
     "text": [
      "+------------------+---------------------------+\n",
      "|             genre|absolute_frequency_of_genre|\n",
      "+------------------+---------------------------+\n",
      "|             Drama|                      25606|\n",
      "|            Comedy|                      16870|\n",
      "|          Thriller|                       8654|\n",
      "|           Romance|                       7719|\n",
      "|            Action|                       7348|\n",
      "|            Horror|                       5989|\n",
      "|       Documentary|                       5605|\n",
      "|             Crime|                       5319|\n",
      "|(no genres listed)|                       5062|\n",
      "|         Adventure|                       4145|\n",
      "|            Sci-Fi|                       3595|\n",
      "|          Children|                       2935|\n",
      "|         Animation|                       2929|\n",
      "|           Mystery|                       2925|\n",
      "|           Fantasy|                       2731|\n",
      "|               War|                       1874|\n",
      "|           Western|                       1399|\n",
      "|           Musical|                       1054|\n",
      "|         Film-Noir|                        353|\n",
      "|              IMAX|                        195|\n",
      "+------------------+---------------------------+\n",
      "\n"
     ]
    }
   ],
   "source": [
    "movie_genres_with_abs_freq = movie_genres.groupBy(\"genre\").count()\n",
    "movie_genres_with_abs_freq = movie_genres_with_abs_freq.orderBy(\n",
    "    col(\"count\").desc()\n",
    ").withColumnRenamed(\"count\", \"absolute_frequency_of_genre\")\n",
    "\n",
    "movie_genres_with_abs_freq.show()\n",
    "# TODO: rename the column 'count' to 'freq'"
   ]
  },
  {
   "cell_type": "code",
   "execution_count": 25,
   "id": "503d985e-c2df-4367-80ac-d2003ccf9a32",
   "metadata": {},
   "outputs": [],
   "source": [
    "# setup matplotlib before starting plotting\n",
    "import matplotlib.pyplot as plt\n",
    "\n",
    "# jupyter mpl magic\n",
    "%matplotlib inline\n",
    "\n",
    "# note: in case you want to use the widget or notebook magic:\n",
    "# ensure that ipympl is also installed.\n",
    "# there may be other steps involved as well\n",
    "# for e.g. widget works based on nodeJS, so you'll have to config/enable that too"
   ]
  },
  {
   "cell_type": "code",
   "execution_count": 26,
   "id": "3e9be1be-0b5a-40c9-b29a-52abef7347c3",
   "metadata": {},
   "outputs": [
    {
     "data": {
      "image/png": "[encoded data removed]",
      "text/plain": [
       "<Figure size 2000x500 with 1 Axes>"
      ]
     },
     "metadata": {},
     "output_type": "display_data"
    }
   ],
   "source": [
    "# convert each column to a list\n",
    "movie_genres_with_abs_freq_x = (\n",
    "    movie_genres_with_abs_freq.select(col(\"genre\")).rdd.flatMap(lambda x: x).collect()\n",
    ")\n",
    "movie_genres_with_abs_freq_y = (\n",
    "    movie_genres_with_abs_freq.select(col(\"absolute_frequency_of_genre\"))\n",
    "    .rdd.flatMap(lambda x: x)\n",
    "    .collect()\n",
    ")\n",
    "\n",
    "plt.figure(figsize=(20, 5))\n",
    "plt.bar(movie_genres_with_abs_freq_x, movie_genres_with_abs_freq_y)\n",
    "plt.title(\"Absolute Frequencies of Genres\")\n",
    "plt.xlabel(\"Genre\")\n",
    "plt.ylabel(\"Number Of Movies\")\n",
    "plt.show()"
   ]
  },
  {
   "cell_type": "markdown",
   "id": "66bd6106-2217-44bb-b429-3855749b4a07",
   "metadata": {},
   "source": [
    "### List total number of genres associated with each film\n",
    "\n",
    "* Add another column num_genres and list total number of genres associated with each film"
   ]
  },
  {
   "cell_type": "code",
   "execution_count": 27,
   "id": "f7ca9f7f-8436-453f-a4ab-5575720ada8e",
   "metadata": {},
   "outputs": [],
   "source": [
    "# like before we'll split the genres column on | and count the elements\n",
    "# code cleanup update - all sql.functions imported at the top of this notebook\n",
    "# from pyspark.sql.functions import size\n",
    "\n",
    "movies = movies.withColumn(\"num_genres\", size(split(col(\"genres\"), \"\\|\")))"
   ]
  },
  {
   "cell_type": "code",
   "execution_count": 28,
   "id": "68e9f4e2-c49d-45a7-aa4a-bf20f464df9a",
   "metadata": {},
   "outputs": [
    {
     "name": "stdout",
     "output_type": "stream",
     "text": [
      "+-------+----------------------------------+-------------------------------------------+---------------+----------+\n",
      "|movieId|title                             |genres                                     |year_of_release|num_genres|\n",
      "+-------+----------------------------------+-------------------------------------------+---------------+----------+\n",
      "|1      |Toy Story (1995)                  |Adventure|Animation|Children|Comedy|Fantasy|1995           |5         |\n",
      "|2      |Jumanji (1995)                    |Adventure|Children|Fantasy                 |1995           |3         |\n",
      "|3      |Grumpier Old Men (1995)           |Comedy|Romance                             |1995           |2         |\n",
      "|4      |Waiting to Exhale (1995)          |Comedy|Drama|Romance                       |1995           |3         |\n",
      "|5      |Father of the Bride Part II (1995)|Comedy                                     |1995           |1         |\n",
      "|6      |Heat (1995)                       |Action|Crime|Thriller                      |1995           |3         |\n",
      "|7      |Sabrina (1995)                    |Comedy|Romance                             |1995           |2         |\n",
      "|8      |Tom and Huck (1995)               |Adventure|Children                         |1995           |2         |\n",
      "|9      |Sudden Death (1995)               |Action                                     |1995           |1         |\n",
      "|10     |GoldenEye (1995)                  |Action|Adventure|Thriller                  |1995           |3         |\n",
      "+-------+----------------------------------+-------------------------------------------+---------------+----------+\n",
      "only showing top 10 rows\n",
      "\n"
     ]
    }
   ],
   "source": [
    "movies.show(10, False)"
   ]
  },
  {
   "cell_type": "markdown",
   "id": "9ea23b03-e52c-45ee-b621-57abeb5cd8e4",
   "metadata": {},
   "source": [
    "### Prepare a genere wise list of movies\n",
    "\n",
    "* list all the movies for 'Crime', for 'Romance', and so on..."
   ]
  },
  {
   "cell_type": "markdown",
   "id": "d811ae51-1053-4e05-bf3a-7fc194f9a452",
   "metadata": {},
   "source": [
    "A naive appoach would be to filter movies for each genre that we know. This is doable as the number of genres we found is small. But it's not flexible and will need revision as new genres come to light. In practice, we may need something that's more dynamic."
   ]
  },
  {
   "cell_type": "code",
   "execution_count": 29,
   "id": "84c9acd4-9268-443e-80e2-2abb0032564c",
   "metadata": {},
   "outputs": [
    {
     "name": "stdout",
     "output_type": "stream",
     "text": [
      "+-------+--------------------+--------------------+---------------+----------+\n",
      "|movieId|               title|              genres|year_of_release|num_genres|\n",
      "+-------+--------------------+--------------------+---------------+----------+\n",
      "|      3|Grumpier Old Men ...|      Comedy|Romance|           1995|         2|\n",
      "|      4|Waiting to Exhale...|Comedy|Drama|Romance|           1995|         3|\n",
      "|      7|      Sabrina (1995)|      Comedy|Romance|           1995|         2|\n",
      "|     11|American Presiden...|Comedy|Drama|Romance|           1995|         3|\n",
      "|     15|Cutthroat Island ...|Action|Adventure|...|           1995|         3|\n",
      "|     17|Sense and Sensibi...|       Drama|Romance|           1995|         2|\n",
      "|     25|Leaving Las Vegas...|       Drama|Romance|           1995|         2|\n",
      "|     28|   Persuasion (1995)|       Drama|Romance|           1995|         2|\n",
      "|     33|Wings of Courage ...|Adventure|Romance...|           1995|         3|\n",
      "|     35|   Carrington (1995)|       Drama|Romance|           1995|         2|\n",
      "|     39|     Clueless (1995)|      Comedy|Romance|           1995|         2|\n",
      "|     46|How to Make an Am...|       Drama|Romance|           1995|         2|\n",
      "|     48|   Pocahontas (1995)|Animation|Childre...|           1995|         5|\n",
      "|     49|When Night Is Fal...|       Drama|Romance|           1995|         2|\n",
      "|     52|Mighty Aphrodite ...|Comedy|Drama|Romance|           1995|         3|\n",
      "|     58|Postman, The (Pos...|Comedy|Drama|Romance|           1994|         3|\n",
      "|     64|Two if by Sea (1996)|      Comedy|Romance|           1996|         2|\n",
      "|     68|French Twist (Gaz...|      Comedy|Romance|           1995|         2|\n",
      "|     74| Bed of Roses (1996)|       Drama|Romance|           1996|         2|\n",
      "|     81|Things to Do in D...| Crime|Drama|Romance|           1995|         3|\n",
      "+-------+--------------------+--------------------+---------------+----------+\n",
      "only showing top 20 rows\n",
      "\n"
     ]
    }
   ],
   "source": [
    "romance = movies.where(col(\"genres\").like(\"%Romance%\"))\n",
    "romance.show()"
   ]
  },
  {
   "cell_type": "code",
   "execution_count": 30,
   "id": "38721988-2db1-4981-bb41-1993bbaf8da1",
   "metadata": {},
   "outputs": [
    {
     "name": "stdout",
     "output_type": "stream",
     "text": [
      "+-------+--------------------+--------------------+---------------+----------+\n",
      "|movieId|               title|              genres|year_of_release|num_genres|\n",
      "+-------+--------------------+--------------------+---------------+----------+\n",
      "|    163|    Desperado (1995)|Action|Romance|We...|           1995|         3|\n",
      "|    210|    Wild Bill (1995)|             Western|           1995|         1|\n",
      "|    266|Legends of the Fa...|Drama|Romance|War...|           1994|         4|\n",
      "|    303|Quick and the Dea...|Action|Thriller|W...|           1995|         3|\n",
      "|    368|     Maverick (1994)|Adventure|Comedy|...|           1994|         3|\n",
      "|    383|   Wyatt Earp (1994)|             Western|           1994|         1|\n",
      "|    416|    Bad Girls (1994)|             Western|           1994|         1|\n",
      "|    432|City Slickers II:...|Adventure|Comedy|...|           1994|         3|\n",
      "|    458|Geronimo: An Amer...|       Drama|Western|           1993|         2|\n",
      "|    487|Lightning Jack (1...|      Comedy|Western|           1994|         2|\n",
      "|    553|    Tombstone (1993)|Action|Drama|Western|           1993|         3|\n",
      "|    590|Dances with Wolve...|Adventure|Drama|W...|           1990|         3|\n",
      "|    599|Wild Bunch, The (...|   Adventure|Western|           1969|         2|\n",
      "|    714|     Dead Man (1995)|Drama|Mystery|Wes...|           1995|         3|\n",
      "|    800|    Lone Star (1996)|Drama|Mystery|Wes...|           1996|         3|\n",
      "|    948|        Giant (1956)|Drama|Romance|Wes...|           1956|         3|\n",
      "|    964|Angel and the Bad...|     Romance|Western|           1947|         2|\n",
      "|    967|  Outlaw, The (1943)|             Western|           1943|         1|\n",
      "|   1007|Apple Dumpling Ga...|Children|Comedy|W...|           1975|         3|\n",
      "|   1008|Davy Crockett, Ki...|   Adventure|Western|           1955|         2|\n",
      "+-------+--------------------+--------------------+---------------+----------+\n",
      "only showing top 20 rows\n",
      "\n"
     ]
    }
   ],
   "source": [
    "westerns = movies.where(col(\"genres\").like(\"%Western%\"))\n",
    "westerns.show()"
   ]
  },
  {
   "cell_type": "code",
   "execution_count": 31,
   "id": "cd739d98-9867-4968-967e-db46d08ddc0b",
   "metadata": {},
   "outputs": [
    {
     "name": "stdout",
     "output_type": "stream",
     "text": [
      "+-------+--------------------+------------------+---------------+----------+\n",
      "|movieId|               title|            genres|year_of_release|num_genres|\n",
      "+-------+--------------------+------------------+---------------+----------+\n",
      "|  83773|Away with Words (...|(no genres listed)|           1999|         1|\n",
      "|  84768|   Glitterbug (1994)|(no genres listed)|           1994|         1|\n",
      "|  86493|Age of the Earth,...|(no genres listed)|           1980|         1|\n",
      "|  87061|Trails (Veredas) ...|(no genres listed)|           1978|         1|\n",
      "|  91246|Milky Way (Tejút)...|(no genres listed)|           2007|         1|\n",
      "|  92435|Dancing Hawk, The...|(no genres listed)|           1978|         1|\n",
      "|  92641|Warsaw Bridge (Po...|(no genres listed)|           1990|         1|\n",
      "|  94431|Ella Lola, a la T...|(no genres listed)|           1898|         1|\n",
      "|  95750|Promise of the Fl...|(no genres listed)|           1975|         1|\n",
      "|  96479|  Nocturno 29 (1968)|(no genres listed)|           1968|         1|\n",
      "|  96651|Les hautes solitu...|(no genres listed)|           1974|         1|\n",
      "| 113545|Primus Hallucino-...|(no genres listed)|           2004|         1|\n",
      "| 114335|   La cravate (1957)|(no genres listed)|           1957|         1|\n",
      "| 114725|Study in Choreogr...|(no genres listed)|           1945|         1|\n",
      "| 115004|It's My Mother's ...|(no genres listed)|           2008|         1|\n",
      "| 115006|Spare Bed-Room (1...|(no genres listed)|           1969|         1|\n",
      "| 115893|Madame Bovary (2000)|(no genres listed)|           2000|         1|\n",
      "| 116046|Christmas Oranges...|(no genres listed)|           2012|         1|\n",
      "| 116054|Clockwork Mice (1...|(no genres listed)|           1995|         1|\n",
      "| 116096|Lettera Amorosa (...|(no genres listed)|           1995|         1|\n",
      "+-------+--------------------+------------------+---------------+----------+\n",
      "only showing top 20 rows\n",
      "\n"
     ]
    },
    {
     "data": {
      "text/plain": [
       "5062"
      ]
     },
     "execution_count": 31,
     "metadata": {},
     "output_type": "execute_result"
    }
   ],
   "source": [
    "no_genres_listed = movies.where(col(\"genres\").like(\"%(no genres listed)%\"))\n",
    "no_genres_listed.show()\n",
    "no_genres_listed.count()"
   ]
  },
  {
   "cell_type": "markdown",
   "id": "1f1169d6-af4a-49ca-9158-dd8cf4d93cfa",
   "metadata": {},
   "source": [
    "Yeah...this is not a good approach.  \n",
    "\n",
    "We want to be able to address as many generes as found in data, even though the list is available, it makes more sense to generate a list for all distinct values in the data"
   ]
  },
  {
   "cell_type": "markdown",
   "id": "589ca302-606b-4cd0-902d-a7ca6d7fb902",
   "metadata": {},
   "source": [
    "Can we create a column where there's only one 'genre' and the movie is duplicated as many times as the genre?"
   ]
  },
  {
   "cell_type": "markdown",
   "id": "b35cdf43-a00c-4cd7-b3c1-bf051af67555",
   "metadata": {},
   "source": [
    "Spark Joins to the rescue.  \n",
    "\n",
    "We'll create a ```full outer``` join (aka 'full' or 'outer') - resulting in each row in movies to be repeated once for each genere associated with it. If \"127 Hours\" has 3 genres \"Adventure|Drama|Thriller\" then it will now be in 3 rows, one each for \"adventure\", \"drama\" and \"thriller\"."
   ]
  },
  {
   "cell_type": "code",
   "execution_count": 32,
   "id": "c0da9308-4e5f-4a44-bd40-0377ac6916b6",
   "metadata": {},
   "outputs": [
    {
     "name": "stdout",
     "output_type": "stream",
     "text": [
      "+-------+--------------------+--------------------+---------------+----------+-----------+\n",
      "|movieId|               title|              genres|year_of_release|num_genres|      genre|\n",
      "+-------+--------------------+--------------------+---------------+----------+-----------+\n",
      "| 208297|\"BLOW THE NIGHT!\"...|   Documentary|Drama|           1983|         2|      Drama|\n",
      "| 208297|\"BLOW THE NIGHT!\"...|   Documentary|Drama|           1983|         2|Documentary|\n",
      "|  51372|\"Great Performanc...|             Musical|           1998|         1|    Musical|\n",
      "| 136604|#1 Cheerleader Ca...|        Comedy|Drama|           2010|         2|      Drama|\n",
      "| 136604|#1 Cheerleader Ca...|        Comedy|Drama|           2010|         2|     Comedy|\n",
      "| 183901|    #Captured (2017)|              Horror|           2017|         1|     Horror|\n",
      "| 195955|#Female Pleasure ...|         Documentary|           2018|         1|Documentary|\n",
      "| 203417|    #FollowMe (2019)|     Horror|Thriller|           2019|         2|   Thriller|\n",
      "| 203417|    #FollowMe (2019)|     Horror|Thriller|           2019|         2|     Horror|\n",
      "| 151789|      #Horror (2015)|Drama|Horror|Myst...|           2015|         4|   Thriller|\n",
      "| 151789|      #Horror (2015)|Drama|Horror|Myst...|           2015|         4|      Drama|\n",
      "| 151789|      #Horror (2015)|Drama|Horror|Myst...|           2015|         4|    Mystery|\n",
      "| 151789|      #Horror (2015)|Drama|Horror|Myst...|           2015|         4|     Horror|\n",
      "| 179057|#Lucky Number (2015)|              Comedy|           2015|         1|     Comedy|\n",
      "| 190861|   #SCREAMERS (2016)|              Horror|           2016|         1|     Horror|\n",
      "| 201174|  #SquadGoals (2018)|      Drama|Thriller|           2018|         2|   Thriller|\n",
      "| 201174|  #SquadGoals (2018)|      Drama|Thriller|           2018|         2|      Drama|\n",
      "| 205461|       #Stuck (2014)|Comedy|Drama|Romance|           2014|         3|    Romance|\n",
      "| 205461|       #Stuck (2014)|Comedy|Drama|Romance|           2014|         3|      Drama|\n",
      "| 205461|       #Stuck (2014)|Comedy|Drama|Romance|           2014|         3|     Comedy|\n",
      "| 177545| #realityhigh (2017)|              Comedy|           2017|         1|     Comedy|\n",
      "|  85177|  $ (Dollars) (1971)|  Comedy|Crime|Drama|           1971|         3|      Crime|\n",
      "|  85177|  $ (Dollars) (1971)|  Comedy|Crime|Drama|           1971|         3|      Drama|\n",
      "|  85177|  $ (Dollars) (1971)|  Comedy|Crime|Drama|           1971|         3|     Comedy|\n",
      "| 128067|$1,000 on the Bla...|             Western|           1966|         1|    Western|\n",
      "+-------+--------------------+--------------------+---------------+----------+-----------+\n",
      "only showing top 25 rows\n",
      "\n"
     ]
    }
   ],
   "source": [
    "movies_expanded_by_genre = movies.join(\n",
    "    unique_movie_genres, col(\"genres\").contains(col(\"genre\")), \"fullouter\"\n",
    ")\n",
    "# movie_genres_with_abs_freq\n",
    "movies_expanded_by_genre.orderBy(col(\"title\")).show(25, True)"
   ]
  },
  {
   "cell_type": "markdown",
   "id": "eb71a708-dd30-4ff3-b2c3-b64de6bb4b0b",
   "metadata": {},
   "source": [
    "Now we can simply filter by genre from the same dataframe."
   ]
  },
  {
   "cell_type": "code",
   "execution_count": 33,
   "id": "e96ac973-b32a-4c3e-8f7a-c52b681812ed",
   "metadata": {},
   "outputs": [
    {
     "name": "stdout",
     "output_type": "stream",
     "text": [
      "+-------+--------------------+--------------------+---------------+----------+-------+\n",
      "|movieId|               title|              genres|year_of_release|num_genres|  genre|\n",
      "+-------+--------------------+--------------------+---------------+----------+-------+\n",
      "|      3|Grumpier Old Men ...|      Comedy|Romance|           1995|         2|Romance|\n",
      "|      4|Waiting to Exhale...|Comedy|Drama|Romance|           1995|         3|Romance|\n",
      "|      7|      Sabrina (1995)|      Comedy|Romance|           1995|         2|Romance|\n",
      "|     11|American Presiden...|Comedy|Drama|Romance|           1995|         3|Romance|\n",
      "|     15|Cutthroat Island ...|Action|Adventure|...|           1995|         3|Romance|\n",
      "|     17|Sense and Sensibi...|       Drama|Romance|           1995|         2|Romance|\n",
      "|     25|Leaving Las Vegas...|       Drama|Romance|           1995|         2|Romance|\n",
      "|     28|   Persuasion (1995)|       Drama|Romance|           1995|         2|Romance|\n",
      "|     33|Wings of Courage ...|Adventure|Romance...|           1995|         3|Romance|\n",
      "|     35|   Carrington (1995)|       Drama|Romance|           1995|         2|Romance|\n",
      "|     39|     Clueless (1995)|      Comedy|Romance|           1995|         2|Romance|\n",
      "|     46|How to Make an Am...|       Drama|Romance|           1995|         2|Romance|\n",
      "|     48|   Pocahontas (1995)|Animation|Childre...|           1995|         5|Romance|\n",
      "|     49|When Night Is Fal...|       Drama|Romance|           1995|         2|Romance|\n",
      "|     52|Mighty Aphrodite ...|Comedy|Drama|Romance|           1995|         3|Romance|\n",
      "|     58|Postman, The (Pos...|Comedy|Drama|Romance|           1994|         3|Romance|\n",
      "|     64|Two if by Sea (1996)|      Comedy|Romance|           1996|         2|Romance|\n",
      "|     68|French Twist (Gaz...|      Comedy|Romance|           1995|         2|Romance|\n",
      "|     74| Bed of Roses (1996)|       Drama|Romance|           1996|         2|Romance|\n",
      "|     81|Things to Do in D...| Crime|Drama|Romance|           1995|         3|Romance|\n",
      "+-------+--------------------+--------------------+---------------+----------+-------+\n",
      "only showing top 20 rows\n",
      "\n"
     ]
    }
   ],
   "source": [
    "romance1 = movies_expanded_by_genre.filter(col(\"genre\") == \"Romance\")\n",
    "romance1.show()"
   ]
  },
  {
   "cell_type": "markdown",
   "id": "94af5cbe-66e2-4617-b8be-23107ce5ae60",
   "metadata": {},
   "source": [
    "So ```movies_expanded_by_genre``` is it."
   ]
  },
  {
   "cell_type": "markdown",
   "id": "4e5a8ce4-ac7b-4a65-8cf3-7d554e8f8b1d",
   "metadata": {},
   "source": [
    "### Find out if a movie has both genres associated with it and also has ```(no genres listed)```  \n",
    "\n",
    "* if this is the case, find out how many such movies exist in the data set"
   ]
  },
  {
   "cell_type": "code",
   "execution_count": 34,
   "id": "1c2dcede-f0a2-4640-998d-0643fc8f41a6",
   "metadata": {},
   "outputs": [
    {
     "name": "stdout",
     "output_type": "stream",
     "text": [
      "+-------+--------------------+------------------+---------------+----------+\n",
      "|movieId|               title|            genres|year_of_release|num_genres|\n",
      "+-------+--------------------+------------------+---------------+----------+\n",
      "|  83773|Away with Words (...|(no genres listed)|           1999|         1|\n",
      "|  84768|   Glitterbug (1994)|(no genres listed)|           1994|         1|\n",
      "|  86493|Age of the Earth,...|(no genres listed)|           1980|         1|\n",
      "|  87061|Trails (Veredas) ...|(no genres listed)|           1978|         1|\n",
      "|  91246|Milky Way (Tejút)...|(no genres listed)|           2007|         1|\n",
      "|  92435|Dancing Hawk, The...|(no genres listed)|           1978|         1|\n",
      "|  92641|Warsaw Bridge (Po...|(no genres listed)|           1990|         1|\n",
      "|  94431|Ella Lola, a la T...|(no genres listed)|           1898|         1|\n",
      "|  95750|Promise of the Fl...|(no genres listed)|           1975|         1|\n",
      "|  96479|  Nocturno 29 (1968)|(no genres listed)|           1968|         1|\n",
      "+-------+--------------------+------------------+---------------+----------+\n",
      "only showing top 10 rows\n",
      "\n"
     ]
    }
   ],
   "source": [
    "# filter out the movies with (no genres listed)\n",
    "# where and filter, like and contains - use what is most readable\n",
    "# also remove the %xxx% for contains...\n",
    "\n",
    "# 1\n",
    "# movies.where(col('genres').contains('no genres')).show()\n",
    "\n",
    "# 2\n",
    "# movies.where(col('genres').like('%no genres%')).show()\n",
    "\n",
    "# 3\n",
    "# movies.filter(col('genres').like('%no genres%')).show()\n",
    "\n",
    "# 4\n",
    "movies.filter(col(\"genres\").contains(\"no genres\")).show(10)"
   ]
  },
  {
   "cell_type": "code",
   "execution_count": 35,
   "id": "fa72d9be-ea70-41d8-a8d6-0b94ced8e6e3",
   "metadata": {},
   "outputs": [
    {
     "data": {
      "text/plain": [
       "0"
      ]
     },
     "execution_count": 35,
     "metadata": {},
     "output_type": "execute_result"
    }
   ],
   "source": [
    "# number of records where num_genres is more than 1 for (no genres listed)\n",
    "movies.filter(col(\"genres\").contains(\"no genres\")).filter(col(\"num_genres\") > 1).count()"
   ]
  },
  {
   "cell_type": "code",
   "execution_count": 36,
   "id": "f440a934-d906-42b2-a05c-5ad07f084e4a",
   "metadata": {},
   "outputs": [
    {
     "name": "stdout",
     "output_type": "stream",
     "text": [
      "+-------+--------------------+------------------+---------------+----------+\n",
      "|movieId|               title|            genres|year_of_release|num_genres|\n",
      "+-------+--------------------+------------------+---------------+----------+\n",
      "|  83773|Away with Words (...|(no genres listed)|           1999|         1|\n",
      "|  84768|   Glitterbug (1994)|(no genres listed)|           1994|         1|\n",
      "|  86493|Age of the Earth,...|(no genres listed)|           1980|         1|\n",
      "|  87061|Trails (Veredas) ...|(no genres listed)|           1978|         1|\n",
      "|  91246|Milky Way (Tejút)...|(no genres listed)|           2007|         1|\n",
      "|  92435|Dancing Hawk, The...|(no genres listed)|           1978|         1|\n",
      "|  92641|Warsaw Bridge (Po...|(no genres listed)|           1990|         1|\n",
      "|  94431|Ella Lola, a la T...|(no genres listed)|           1898|         1|\n",
      "|  95750|Promise of the Fl...|(no genres listed)|           1975|         1|\n",
      "|  96479|  Nocturno 29 (1968)|(no genres listed)|           1968|         1|\n",
      "+-------+--------------------+------------------+---------------+----------+\n",
      "only showing top 10 rows\n",
      "\n"
     ]
    }
   ],
   "source": [
    "# alternatively list num_genres in descending order\n",
    "movies.filter(col(\"genres\").contains(\"no genres\")).orderBy(\n",
    "    col(\"num_genres\").desc()\n",
    ").show(10)"
   ]
  },
  {
   "cell_type": "markdown",
   "id": "a89d4b8b-0119-4380-b555-8d336f340016",
   "metadata": {},
   "source": [
    "So there's no movies where ```(no genres listed)``` is mixed with other genres."
   ]
  },
  {
   "cell_type": "markdown",
   "id": "a24581a8-03c7-4e98-9850-4a28d6976014",
   "metadata": {},
   "source": [
    "# Clear cache and stop the spark cluster"
   ]
  },
  {
   "cell_type": "code",
   "execution_count": 37,
   "id": "ea7dd409-73d2-4f8b-99bc-a22cc983c86c",
   "metadata": {},
   "outputs": [],
   "source": [
    "# clear cache\n",
    "spark.catalog.clearCache()"
   ]
  },
  {
   "cell_type": "code",
   "execution_count": 38,
   "id": "22f1ab5c-6deb-4d7f-a10b-b4a2e9921330",
   "metadata": {},
   "outputs": [],
   "source": [
    "# stop spark\n",
    "spark.stop()"
   ]
  },
  {
   "cell_type": "markdown",
   "id": "284e8ec1-9180-4533-badd-bd81b2ca35b6",
   "metadata": {},
   "source": [
    "# Insights"
   ]
  },
  {
   "cell_type": "markdown",
   "id": "df40c87e-b55c-420d-a593-97af8bfdeff8",
   "metadata": {},
   "source": [
    "What have we learned from working on Problem Set 2?\n",
    "\n",
    "1. Regex based matching, pay attention to the regex group you want to extract\n",
    "1. Explode (convert array in the column value into rows) and Split (convert string into array based on a token)\n",
    "1. size() is the pySpark equivalent of len(array)\n",
    "\t* There's like 4 of these that you should [familiarize yourself](https://sparkbyexamples.com/pyspark/pyspark-explode-array-and-map-columns-to-rows/) with: ```explode()```, ```explore_outer()```, ```posexplode()```, ```posexplode_outer()```\n",
    "1. That DataFrame>Select>RDD>FlatMap>Collect thing for creating lists out of dataframe columns for plotting etc. - it's just tedious, so try to remember it\n",
    "1. [joi](https://sparkbyexamples.com/pyspark/pyspark-join-explained-with-examples/).[ns](https://github.com/spark-examples/pyspark-examples/blob/master/pyspark-join-two-dataframes.py), [joins](https://www.geeksforgeeks.org/pyspark-join-types-join-two-dataframes/), [joins](https://dzone.com/articles/pyspark-join-explained-with-examples), [can't get](https://medium.com/@achilleus/https-medium-com-joins-in-apache-spark-part-1-ce289bfc84c9) [enough](https://medium.com/@achilleus/https-medium-com-joins-in-apache-spark-part-2-5b038bc7455b) of 'em. \n",
    "1. Also, ```crossJoin``` when you need a cartesian product (cross product) and have no conditions. \n",
    "    * Spark >= 3.0. ```spark.sql.crossJoin.enable``` is ```True``` by default, if not, you'll need to ```SparkSession.config(\"spark.sql.crossJoin.enable\",True)```\n",
    "1. ```where``` and ```filter```, ```like``` and ```contains```"
   ]
  },
  {
   "cell_type": "markdown",
   "id": "d93492ee-09d4-4fdc-8312-edc49daf4708",
   "metadata": {},
   "source": [
    "# Next"
   ]
  },
  {
   "cell_type": "markdown",
   "id": "68cb3345-34d9-4fe0-a335-2a09b4953033",
   "metadata": {},
   "source": [
    "We continue our data analysis exercises with the ratings.csv data."
   ]
  }
 ],
 "metadata": {
  "kernelspec": {
   "display_name": "Python 3 (ipykernel)",
   "language": "python",
   "name": "python3"
  },
  "language_info": {
   "codemirror_mode": {
    "name": "ipython",
    "version": 3
   },
   "file_extension": ".py",
   "mimetype": "text/x-python",
   "name": "python",
   "nbconvert_exporter": "python",
   "pygments_lexer": "ipython3",
   "version": "3.11.5"
  }
 },
 "nbformat": 4,
 "nbformat_minor": 5
}
