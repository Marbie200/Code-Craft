{
 "cells": [
  {
   "cell_type": "markdown",
   "id": "70e949c1",
   "metadata": {},
   "source": [
    "# Setup\n",
    "\n",
    "This is following [10 minutes to pandas](https://pandas.pydata.org/pandas-docs/stable/user_guide/10min.html) for pandas 1.4.3"
   ]
  },
  {
   "cell_type": "code",
   "execution_count": null,
   "id": "4787d5d8",
   "metadata": {},
   "outputs": [],
   "source": [
    "import numpy as np\n",
    "import pandas as pd"
   ]
  },
  {
   "cell_type": "markdown",
   "id": "0f5df25e",
   "metadata": {},
   "source": [
    "# Object creation"
   ]
  },
  {
   "cell_type": "code",
   "execution_count": null,
   "id": "af7dad0b",
   "metadata": {},
   "outputs": [],
   "source": [
    "# Series - pass a list to pd.Series\n",
    "s1 = pd.Series([1, 2, 3, np.nan, 5])"
   ]
  },
  {
   "cell_type": "code",
   "execution_count": null,
   "id": "734aaa87",
   "metadata": {},
   "outputs": [],
   "source": [
    "s1"
   ]
  },
  {
   "cell_type": "code",
   "execution_count": null,
   "id": "1d461885",
   "metadata": {},
   "outputs": [],
   "source": [
    "# create an index to use in the dataframe\n",
    "# default frequency is D (day), so creates a DatetimeIndex of 10 days\n",
    "dates = pd.date_range('20220619', periods=10)\n",
    "dates"
   ]
  },
  {
   "cell_type": "markdown",
   "id": "238af2d0",
   "metadata": {},
   "source": [
    "just in case you are wondering, here's [all the \"offset aliases\"](https://pandas.pydata.org/docs/user_guide/timeseries.html#timeseries-offset-aliases) for Datetime"
   ]
  },
  {
   "cell_type": "code",
   "execution_count": null,
   "id": "047265e3",
   "metadata": {},
   "outputs": [],
   "source": [
    "# Dataframe - pass a Numpy array\n",
    "# create a 10 row, 4 col random number array, index by dates, give some column names\n",
    "df = pd.DataFrame(np.random.randn(10, 4), index=dates, columns=list('ABCD'))\n",
    "df"
   ]
  },
  {
   "cell_type": "code",
   "execution_count": null,
   "id": "a82e31c8",
   "metadata": {},
   "outputs": [],
   "source": [
    "# Create a dataframe by passing a dictionary of objects\n",
    "# where each object can be converted into a series-like structure\n",
    "df2 = pd.DataFrame(\n",
    "    {\n",
    "        \"A\": 1.0,\n",
    "        \"B\": pd.Timestamp(\"20220619\"),\n",
    "        \"C\": pd.Series(1, index=list(range(6)), dtype=\"float32\"),\n",
    "        \"D\": np.array([3]*6, dtype=\"int32\"),\n",
    "        \"E\": pd.Categorical([\"test\", \"train\", \"test\", \"train\", \"test\", \"train\"]),\n",
    "        \"F\": list(\"foofoo\"),\n",
    "        \"G\": \"foo\"\n",
    "    }\n",
    ")\n",
    "\n",
    "df2"
   ]
  },
  {
   "cell_type": "code",
   "execution_count": null,
   "id": "c1894984",
   "metadata": {},
   "outputs": [],
   "source": [
    "# the datatype of each of the columns would be different\n",
    "df2.dtypes"
   ]
  },
  {
   "cell_type": "markdown",
   "id": "40ccaa33",
   "metadata": {},
   "source": [
    "# Viewing Data"
   ]
  },
  {
   "cell_type": "code",
   "execution_count": null,
   "id": "fa1c9b68",
   "metadata": {},
   "outputs": [],
   "source": [
    "# top of the dataframe\n",
    "df.head()"
   ]
  },
  {
   "cell_type": "code",
   "execution_count": null,
   "id": "0bdc3e26",
   "metadata": {},
   "outputs": [],
   "source": [
    "# bottom 3 records of the dataframe\n",
    "df.tail(3)"
   ]
  },
  {
   "cell_type": "code",
   "execution_count": null,
   "id": "b73f0ca7",
   "metadata": {},
   "outputs": [],
   "source": [
    "# index of the df\n",
    "df.index"
   ]
  },
  {
   "cell_type": "code",
   "execution_count": null,
   "id": "36de6d83",
   "metadata": {},
   "outputs": [],
   "source": [
    "# columns of the df\n",
    "df.columns"
   ]
  },
  {
   "cell_type": "code",
   "execution_count": null,
   "id": "129b8d6e",
   "metadata": {},
   "outputs": [],
   "source": [
    "# .to_numpy gives a NumPy representation of the dataframe\n",
    "# this is expensive if all columns are of different data type\n",
    "df.to_numpy()"
   ]
  },
  {
   "cell_type": "code",
   "execution_count": null,
   "id": "6cd5dcec",
   "metadata": {},
   "outputs": [],
   "source": [
    "df2.to_numpy()"
   ]
  },
  {
   "cell_type": "code",
   "execution_count": null,
   "id": "91cca609",
   "metadata": {},
   "outputs": [],
   "source": [
    "# quick summary stats\n",
    "df.describe()"
   ]
  },
  {
   "cell_type": "markdown",
   "id": "58de9fb8",
   "metadata": {},
   "source": [
    "1. **count** = Count number of non-NA/null observations\n",
    "1. **max** = Maximum of the values in the object\n",
    "1. **min** = Minimum of the values in the object\n",
    "1. **mean** = Mean of the values\n",
    "1. **std** = Standard deviation of the observations\n",
    "1. **25%** = Default lower percentile\n",
    "1. **50%** = 50 percentile - same as the median \n",
    "1. **75%** = Default upper percentile"
   ]
  },
  {
   "cell_type": "code",
   "execution_count": null,
   "id": "29b4948e",
   "metadata": {},
   "outputs": [],
   "source": [
    "# change the percentiles\n",
    "df.describe(percentiles=[.1, .5, .9])"
   ]
  },
  {
   "cell_type": "code",
   "execution_count": null,
   "id": "f75430ca",
   "metadata": {},
   "outputs": [],
   "source": [
    "# E, F, G in d2 are not numeric, so do not come up in describe()\n",
    "df2.describe()"
   ]
  },
  {
   "cell_type": "code",
   "execution_count": null,
   "id": "bf5071c6",
   "metadata": {},
   "outputs": [],
   "source": [
    "# transpose the data\n",
    "# turn rows to columns and vice versa\n",
    "df.T"
   ]
  },
  {
   "cell_type": "markdown",
   "id": "00af64c9-7a0b-40e4-98dd-b81558f95a24",
   "metadata": {},
   "source": [
    "### [Axis in pandas](https://pandas.pydata.org/docs/reference/api/pandas.DataFrame.set_axis.html?highlight=set_ax#pandas.DataFrame.set_axis)\n",
    "\n",
    "```axis{0 or ‘index’, 1 or ‘columns’}```\n",
    "\n",
    "Always remember that when you specify:\n",
    "* ```axis=0``` or ```axis='index'``` you indicate that the operation should be along the _index_ (aka across the rows). More often than not indexes will go from top to bottom (vertically), but sometimes they may not (for e.g. if you use columns as index or when you have hierarchical or multi-index data).\n",
    "* ```axis=1``` or ```axis='columns'``` indicates the operation is along the columns\n",
    "\n",
    "When in doubt use the explicit version ```'index'``` or ```'columns'``` instead of ```0``` or ```1```"
   ]
  },
  {
   "cell_type": "code",
   "execution_count": null,
   "id": "716de767",
   "metadata": {},
   "outputs": [],
   "source": [
    "# sort along the axis - 1 = horizontal\n",
    "df.sort_index(axis=1, ascending=False)"
   ]
  },
  {
   "cell_type": "code",
   "execution_count": null,
   "id": "251f4ef7",
   "metadata": {},
   "outputs": [],
   "source": [
    "# sort along the axis - 0 = vertical\n",
    "df.sort_index(axis=0, ascending=False)"
   ]
  },
  {
   "cell_type": "code",
   "execution_count": null,
   "id": "674f8403",
   "metadata": {},
   "outputs": [],
   "source": [
    "# sort ascending by values in a column\n",
    "df.sort_values(by=\"A\")"
   ]
  },
  {
   "cell_type": "code",
   "execution_count": null,
   "id": "2ae60294",
   "metadata": {},
   "outputs": [],
   "source": [
    "# sort by non-numerical values\n",
    "df2.sort_values(by=\"F\", ascending=False)"
   ]
  },
  {
   "cell_type": "code",
   "execution_count": null,
   "id": "81450cb1",
   "metadata": {},
   "outputs": [],
   "source": [
    "# sort by two or more columns\n",
    "df2.sort_values(by=[\"F\", \"E\"])"
   ]
  },
  {
   "cell_type": "markdown",
   "id": "d4a509e6",
   "metadata": {},
   "source": [
    "# Selection"
   ]
  },
  {
   "cell_type": "markdown",
   "id": "d86de6b4",
   "metadata": {},
   "source": [
    "For production prefer the following instead of other data access methods (typical python methods like [\"col\"] or [a:b] slices etc.):\n",
    "\n",
    "```.at, .iat, .loc and .iloc.```"
   ]
  },
  {
   "cell_type": "markdown",
   "id": "2446ef57",
   "metadata": {},
   "source": [
    "## Getting"
   ]
  },
  {
   "cell_type": "code",
   "execution_count": null,
   "id": "121dac8a",
   "metadata": {},
   "outputs": [],
   "source": [
    "# selecting a single column returns a Series object\n",
    "df[\"A\"]"
   ]
  },
  {
   "cell_type": "code",
   "execution_count": null,
   "id": "96576e32",
   "metadata": {},
   "outputs": [],
   "source": [
    "# selecting a slice\n",
    "df[1:5]"
   ]
  },
  {
   "cell_type": "markdown",
   "id": "ce4d832b",
   "metadata": {},
   "source": [
    "## Selection by label"
   ]
  },
  {
   "cell_type": "code",
   "execution_count": null,
   "id": "47fcfa9e",
   "metadata": {},
   "outputs": [],
   "source": [
    "# selecting based on a label\n",
    "df.loc[dates[0]]"
   ]
  },
  {
   "cell_type": "code",
   "execution_count": null,
   "id": "f87ec639",
   "metadata": {},
   "outputs": [],
   "source": [
    "# select on a multi-axis by lable\n",
    "# I honestly do not know what the comment above means...help!\n",
    "df.loc[:, [\"A\", \"B\"]]"
   ]
  },
  {
   "cell_type": "code",
   "execution_count": null,
   "id": "eb0eadc2",
   "metadata": {},
   "outputs": [],
   "source": [
    "# specific index value results in reduction of dimensions\n",
    "res = df.loc[\"2022-06-20\"]\n",
    "print(res)\n",
    "print(\"res.shape = \", res.shape, \" vs. df.shape = \", df.shape)"
   ]
  },
  {
   "cell_type": "code",
   "execution_count": null,
   "id": "50068f2f",
   "metadata": {},
   "outputs": [],
   "source": [
    "# get to a specific scalar:\n",
    "#\n",
    "# method one\n",
    "df.loc[dates[0], \"A\"]"
   ]
  },
  {
   "cell_type": "code",
   "execution_count": null,
   "id": "8c57cba6",
   "metadata": {},
   "outputs": [],
   "source": [
    "#\n",
    "# method two (slightly faster than method one)\n",
    "df.at[dates[0], \"A\"]"
   ]
  },
  {
   "cell_type": "markdown",
   "id": "c3f1e054",
   "metadata": {},
   "source": [
    "## Selection by position"
   ]
  },
  {
   "cell_type": "code",
   "execution_count": null,
   "id": "cb2b56c4",
   "metadata": {},
   "outputs": [],
   "source": [
    "df.iloc[2]"
   ]
  },
  {
   "cell_type": "code",
   "execution_count": null,
   "id": "6be38225",
   "metadata": {},
   "outputs": [],
   "source": [
    "# slices - similar to NumPy / Python - [row:slice, col:slice]\n",
    "df.iloc[1:5, 0:2]"
   ]
  },
  {
   "cell_type": "code",
   "execution_count": null,
   "id": "2f8f04a6",
   "metadata": {},
   "outputs": [],
   "source": [
    "# by list of locations - similar to NumPy / Python - [[list of rows], [list of cols]]\n",
    "df.iloc[[0, 1, 2, 6], [0, 2]]"
   ]
  },
  {
   "cell_type": "code",
   "execution_count": null,
   "id": "75cb94a6",
   "metadata": {},
   "outputs": [],
   "source": [
    "# by list of locations - similar to NumPy / Python - [[list of rows], [list of cols]]\n",
    "# change the order of columns, repeact a column\n",
    "df.iloc[[0, 1, 2, 6], [2, 1, 0, 2]]"
   ]
  },
  {
   "cell_type": "code",
   "execution_count": null,
   "id": "4e5eb16f",
   "metadata": {},
   "outputs": [],
   "source": [
    "# slice rows explicitly, keep all columns\n",
    "df.iloc[[1, 2], :]"
   ]
  },
  {
   "cell_type": "code",
   "execution_count": null,
   "id": "c6805e21",
   "metadata": {},
   "outputs": [],
   "source": [
    "# slice columns, keep all rows\n",
    "df.iloc[:, [2, 3]]"
   ]
  },
  {
   "cell_type": "code",
   "execution_count": null,
   "id": "7f66e2d7",
   "metadata": {},
   "outputs": [],
   "source": [
    "# everything, because you can\n",
    "df.iloc[:, :]"
   ]
  },
  {
   "cell_type": "code",
   "execution_count": null,
   "id": "dbde001e",
   "metadata": {},
   "outputs": [],
   "source": [
    "# get to a scalar (2 methods, just like before)\n",
    "#\n",
    "# method one: use iloc\n",
    "df.iloc[1, 2]"
   ]
  },
  {
   "cell_type": "code",
   "execution_count": null,
   "id": "762a731b",
   "metadata": {},
   "outputs": [],
   "source": [
    "#\n",
    "# method two: use iat\n",
    "df.iat[1, 2]"
   ]
  },
  {
   "cell_type": "markdown",
   "id": "337cdef3",
   "metadata": {},
   "source": [
    "## Boolean Indexing"
   ]
  },
  {
   "cell_type": "code",
   "execution_count": null,
   "id": "bad1cb5d",
   "metadata": {},
   "outputs": [],
   "source": [
    "# use a value found in a single col to get data\n",
    "df[df[\"A\"] > 0]"
   ]
  },
  {
   "cell_type": "code",
   "execution_count": null,
   "id": "8808de4f",
   "metadata": {},
   "outputs": [],
   "source": [
    "# boolean across the entire DF - vals that don't match go NaN\n",
    "df[df > 0]"
   ]
  },
  {
   "cell_type": "code",
   "execution_count": null,
   "id": "93158086",
   "metadata": {},
   "outputs": [],
   "source": [
    "# add another column\n",
    "df11 = df.copy()\n",
    "df11[\"E\"] = [\"one\", \"two\", \"three\", \"four\",\n",
    "             \"two\", \"five\", \"one\", \"two\", \"three\", \"four\"]\n",
    "df11"
   ]
  },
  {
   "cell_type": "code",
   "execution_count": null,
   "id": "89df04ab",
   "metadata": {},
   "outputs": [],
   "source": [
    "# the isin() query - basically the in clause\n",
    "df11[df11[\"E\"].isin([\"two\", \"five\"])]"
   ]
  },
  {
   "cell_type": "markdown",
   "id": "1a182f16",
   "metadata": {},
   "source": [
    "## Setting values"
   ]
  },
  {
   "cell_type": "code",
   "execution_count": null,
   "id": "0d6af322",
   "metadata": {},
   "outputs": [],
   "source": [
    "# matching indexes auto-aligns values\n",
    "s1 = pd.Series(range(11, 21), index=pd.date_range('20220619', periods=10))\n",
    "s1"
   ]
  },
  {
   "cell_type": "code",
   "execution_count": null,
   "id": "e1054291",
   "metadata": {},
   "outputs": [],
   "source": [
    "df[\"F\"] = s1\n",
    "df"
   ]
  },
  {
   "cell_type": "code",
   "execution_count": null,
   "id": "89da2904",
   "metadata": {},
   "outputs": [],
   "source": [
    "# setting values by label and position\n",
    "# first let's make a quick copy\n",
    "df12 = df.copy()\n",
    "df12"
   ]
  },
  {
   "cell_type": "code",
   "execution_count": null,
   "id": "d3fd3f54",
   "metadata": {},
   "outputs": [],
   "source": [
    "# set by label\n",
    "df12.at[dates[0], \"A\"] = 0\n",
    "# set by position\n",
    "df12.iat[0, 1] = 0\n",
    "df12"
   ]
  },
  {
   "cell_type": "code",
   "execution_count": null,
   "id": "335b8064",
   "metadata": {},
   "outputs": [],
   "source": [
    "# kinda bigger replacement\n",
    "df12.loc[:, \"D\"] = np.array([5]*len(df))\n",
    "df12"
   ]
  },
  {
   "cell_type": "code",
   "execution_count": null,
   "id": "3f53b253",
   "metadata": {},
   "outputs": [],
   "source": [
    "# setting values using a boolean selection (aka where clause)\n",
    "df12[df12 > 0] = -df12\n",
    "df12"
   ]
  },
  {
   "cell_type": "markdown",
   "id": "657098c8",
   "metadata": {},
   "source": [
    "# Missing Data"
   ]
  },
  {
   "cell_type": "markdown",
   "id": "c7f7b967",
   "metadata": {},
   "source": [
    "### _reindex_\n",
    "change/add/delete index on a specified axis, returns a new dataframe"
   ]
  },
  {
   "cell_type": "code",
   "execution_count": null,
   "id": "2fe35041",
   "metadata": {},
   "outputs": [],
   "source": [
    "df13 = df.reindex(index=dates[0:4], columns=list(df.columns)+[\"G\"])\n",
    "df13"
   ]
  },
  {
   "cell_type": "markdown",
   "id": "51c716c9",
   "metadata": {},
   "source": [
    "### handling missing data\n",
    "1. _```np.nan```_\n",
    "1. _```pandas.isna()```_\n",
    "1. ```df.dropna()```\n",
    "1. ```df.fillna()```"
   ]
  },
  {
   "cell_type": "code",
   "execution_count": null,
   "id": "c9aa1fe4",
   "metadata": {},
   "outputs": [],
   "source": [
    "# missing data in pandas is np.nan\n",
    "df13.iat[1, 0] = np.nan\n",
    "df13.iloc[1:, 5] = np.random.randint(1)\n",
    "df13"
   ]
  },
  {
   "cell_type": "code",
   "execution_count": null,
   "id": "23200e22",
   "metadata": {},
   "outputs": [],
   "source": [
    "# get a boolean mask where values are NaN\n",
    "df131 = pd.isna(df13)\n",
    "df131"
   ]
  },
  {
   "cell_type": "code",
   "execution_count": null,
   "id": "d1bfc7ed",
   "metadata": {},
   "outputs": [],
   "source": [
    "# or just\n",
    "pd.isna(df13)"
   ]
  },
  {
   "cell_type": "code",
   "execution_count": null,
   "id": "d8be6b63",
   "metadata": {},
   "outputs": [],
   "source": [
    "# the original is still there\n",
    "df13"
   ]
  },
  {
   "cell_type": "code",
   "execution_count": null,
   "id": "aed86bc1",
   "metadata": {},
   "outputs": [],
   "source": [
    "# we are going to drop / replace values now, let's make a couple of copies of the dataframe\n",
    "df132 = df13.copy()\n",
    "df132"
   ]
  },
  {
   "cell_type": "code",
   "execution_count": null,
   "id": "bab84449",
   "metadata": {},
   "outputs": [],
   "source": [
    "# drop rows/columns that have missing data\n",
    "# by default it returns a new dataframe, you may want to specify inplace=True for modifying current dataframe:\n",
    "df_no_na = df132.dropna(how=\"any\")\n",
    "# how=‘any’ : If any NA values are present, drop that row or column.\n",
    "# how=‘all’ : If all values are NA, drop that row or column."
   ]
  },
  {
   "cell_type": "code",
   "execution_count": null,
   "id": "0af9cc0a",
   "metadata": {},
   "outputs": [],
   "source": [
    "# all rows/cols with missing data stripped\n",
    "df_no_na"
   ]
  },
  {
   "cell_type": "code",
   "execution_count": null,
   "id": "f63bff5c",
   "metadata": {},
   "outputs": [],
   "source": [
    "# original still intact\n",
    "df132"
   ]
  },
  {
   "cell_type": "code",
   "execution_count": null,
   "id": "de768028",
   "metadata": {},
   "outputs": [],
   "source": [
    "# drop missing data from original\n",
    "df132.dropna(how=\"any\", inplace=True)\n",
    "df132"
   ]
  },
  {
   "cell_type": "code",
   "execution_count": null,
   "id": "0d969389",
   "metadata": {},
   "outputs": [],
   "source": [
    "# fill missing data\n",
    "df133 = df13.copy()\n",
    "df133.fillna(np.pi*1000)"
   ]
  },
  {
   "cell_type": "markdown",
   "id": "02b122a0-2725-4c11-8638-115d920c709f",
   "metadata": {},
   "source": [
    "# Align and Join"
   ]
  },
  {
   "cell_type": "markdown",
   "id": "bc0b44c3-5d5a-4ca5-9855-9359ca2e5ae8",
   "metadata": {},
   "source": [
    "There needs to be a bigger notebook for this topic.\n",
    "You need to know there's \"joins\" in Pandas just like in the SQL world, \n",
    "like join and left join and right join and inner and outer and all that..."
   ]
  },
  {
   "cell_type": "markdown",
   "id": "523d32e3-1b3f-46d5-b3a3-3235b21812db",
   "metadata": {},
   "source": [
    "## Create two datasets with _mismatched_ indexes"
   ]
  },
  {
   "cell_type": "code",
   "execution_count": null,
   "id": "8e6ac250-0224-41b3-a34e-01388e77b07b",
   "metadata": {},
   "outputs": [],
   "source": [
    "# date range indexes\n",
    "idx1 = pd.date_range('2022-01-01',periods = 10)\n",
    "# 2022-01-01', '2022-01-02' don't exist in idx2\n",
    "# '2022-01-11', '2022-01-12' don't exist in idx1\n",
    "idx2 = pd.date_range('2022-01-03',periods = 10)"
   ]
  },
  {
   "cell_type": "code",
   "execution_count": null,
   "id": "ef00359f-29a5-4081-9ffd-1e633f97742e",
   "metadata": {},
   "outputs": [],
   "source": [
    "# dataframes from indexes\n",
    "d1 = pd.DataFrame(index = idx1, data = \n",
    "    {\n",
    "        'A': np.random.rand(10),\n",
    "        'B': np.random.randint(1, high=25, size = 10)\n",
    "    }\n",
    ")\n",
    "\n",
    "d2 = pd.DataFrame(index = idx2, data = \n",
    "    {\n",
    "        'A': np.random.rand(10),\n",
    "        'B': np.random.randint(1, high=25, size = 10)\n",
    "    }\n",
    ")"
   ]
  },
  {
   "cell_type": "markdown",
   "id": "7b8ea4b7-792b-417c-98e4-fb9b5bd3d48e",
   "metadata": {},
   "source": [
    "## Quick Aside: Rendering two dataframes side-by-side"
   ]
  },
  {
   "cell_type": "markdown",
   "id": "b5e36806-9453-4a68-8792-15ff6cf033d6",
   "metadata": {},
   "source": [
    "The trick of rendering 2 dataframes side-by-side was from [this](https://stackoverflow.com/questions/38783027/jupyter-notebook-display-two-pandas-tables-side-by-side) stackoverflow question."
   ]
  },
  {
   "cell_type": "code",
   "execution_count": null,
   "id": "16000250-c2aa-489b-984d-0e06478b4d12",
   "metadata": {},
   "outputs": [],
   "source": [
    "# we gon need to display both data frames side by side, so...\n",
    "from IPython.display import display_html \n",
    "def render_df_side_by_side(a,b):\n",
    "    a_styler = a.style.set_table_attributes(\"style='display:inline'\")\n",
    "    b_styler = b.style.set_table_attributes(\"style='display:inline'\")\n",
    "    display_html(a_styler._repr_html_()+b_styler._repr_html_(), raw=True)"
   ]
  },
  {
   "cell_type": "code",
   "execution_count": null,
   "id": "34aa801d-cebf-43b6-b7b2-754bd6f97cb7",
   "metadata": {},
   "outputs": [],
   "source": [
    "render_df_side_by_side(d1,d2)"
   ]
  },
  {
   "cell_type": "markdown",
   "id": "7a5a02f7-b938-46e9-8860-33ddc990cd73",
   "metadata": {},
   "source": [
    "Table rendering/styling options is [a bigger discussion](https://pandas.pydata.org/pandas-docs/stable/user_guide/style.html#) to be tackled later."
   ]
  },
  {
   "cell_type": "markdown",
   "id": "f7009112-f78a-4921-9fd6-a2cdf19bcf1c",
   "metadata": {},
   "source": [
    "## .add, .sub, .mul, .div etc."
   ]
  },
  {
   "cell_type": "markdown",
   "id": "f12393ed-5dd0-4286-a15b-998e8aedf4bd",
   "metadata": {},
   "source": [
    "flexible wrappers (```add, sub, mul, div, mod, pow```) to arithmetic operators: ```+, -, *, /, //, %, **```"
   ]
  },
  {
   "cell_type": "code",
   "execution_count": null,
   "id": "a72e3ba3-7d1c-421b-be2c-74d29e132da3",
   "metadata": {},
   "outputs": [],
   "source": [
    "# the +, -, *, /, //, %, ** operations align indexes to create a UNION of indexes\n",
    "d3 = d1+d2\n",
    "d4 = d1.sub(d2) #equivalent to d1-d2\n",
    "d5 = d1*d2\n",
    "d6 = d1.div(d2)"
   ]
  },
  {
   "cell_type": "code",
   "execution_count": null,
   "id": "8c169cc6-08cc-408f-a390-64d5a120405c",
   "metadata": {},
   "outputs": [],
   "source": [
    "# indexs not present in the other dataframe get a NaN\n",
    "d3.style.highlight_null(null_color='red')"
   ]
  },
  {
   "cell_type": "code",
   "execution_count": null,
   "id": "41750862-1d54-44b0-9e68-b419fb5495ea",
   "metadata": {},
   "outputs": [],
   "source": [
    "# sub\n",
    "d4.style.highlight_null(null_color='red')"
   ]
  },
  {
   "cell_type": "code",
   "execution_count": null,
   "id": "8fe56f80-ca02-4e38-a7e5-a25d2c569b80",
   "metadata": {},
   "outputs": [],
   "source": [
    "# mul\n",
    "d5.style.highlight_null(null_color='red')"
   ]
  },
  {
   "cell_type": "code",
   "execution_count": null,
   "id": "cabd2467-3fee-48c0-ba30-a11c27b846bb",
   "metadata": {},
   "outputs": [],
   "source": [
    "# div\n",
    "d6.style.highlight_null(null_color='red')"
   ]
  },
  {
   "cell_type": "markdown",
   "id": "ed206a3a-767b-44b4-9afa-4036caeb4def",
   "metadata": {},
   "source": [
    "### removing the NaN values from the resultant dataframe"
   ]
  },
  {
   "cell_type": "code",
   "execution_count": null,
   "id": "4bc608e5-74ff-4c65-8a75-ce5b78ad63f5",
   "metadata": {},
   "outputs": [],
   "source": [
    "# the + operation is UNION of indexes\n",
    "d31 = d1+d2\n",
    "# indexs not present in the other dataframe get a NaN\n",
    "# do you can obvs remove nan values like before\n",
    "d3.dropna().style.highlight_null(null_color='red')"
   ]
  },
  {
   "cell_type": "markdown",
   "id": "5c972727-30b2-4547-8a3a-16de4943f0a3",
   "metadata": {},
   "source": [
    "## df.align()"
   ]
  },
  {
   "cell_type": "markdown",
   "id": "1b735710-78ac-4775-a9ba-0fbf58f93bbb",
   "metadata": {},
   "source": [
    "Pandas [align](https://pandas.pydata.org/docs/reference/api/pandas.DataFrame.align.html) works to join the dataframes in interesting ways."
   ]
  },
  {
   "cell_type": "code",
   "execution_count": null,
   "id": "a9fec5b9-5d5f-4acc-b025-ca2c3edde050",
   "metadata": {},
   "outputs": [],
   "source": [
    "# align returns two dataframes - left and right as a result of a join\n",
    "# default join is outer - the union of indices will be used as index for left and right\n",
    "left, right = d1.align(d2, join='outer')\n",
    "render_df_side_by_side(left, right)"
   ]
  },
  {
   "cell_type": "code",
   "execution_count": null,
   "id": "0a40d056-d8c3-4551-8f5c-fe5695c7e4e9",
   "metadata": {},
   "outputs": [],
   "source": [
    "# inner join\n",
    "left, right = d1.align(d2, join='inner')\n",
    "render_df_side_by_side(d1,d2)"
   ]
  },
  {
   "cell_type": "code",
   "execution_count": null,
   "id": "c07d6574-1b8e-46ae-8874-311353afbf58",
   "metadata": {},
   "outputs": [],
   "source": [
    "# we can fill the NaNs with a certain value if needed\n",
    "# let's fill with -100 so we can see it clearly\n",
    "left, right = d1.align(d2, join='outer', fill_value = -100) \n",
    "render_df_side_by_side(left, right)"
   ]
  },
  {
   "cell_type": "code",
   "execution_count": null,
   "id": "cb0c4125-7e80-40a7-ba33-a4426ef244e1",
   "metadata": {},
   "outputs": [],
   "source": [
    "# left join: left index is added to right, but not the other way\n",
    "left, right = d1.align(d2, join='left') \n",
    "render_df_side_by_side(left, right)"
   ]
  },
  {
   "cell_type": "code",
   "execution_count": null,
   "id": "f125d875-2601-4768-bf67-3d0e2c6a6fc0",
   "metadata": {},
   "outputs": [],
   "source": [
    "# right join: right index is added to left, but not the other way\n",
    "left, right = d1.align(d2, join='right') \n",
    "render_df_side_by_side(left, right)"
   ]
  },
  {
   "cell_type": "markdown",
   "id": "f52b9ed1-99e4-4f4b-85e2-ebfa53510a4b",
   "metadata": {},
   "source": [
    "There's more to explore in align, and it can get confusing, so beginners be careful, take time and try to work out the result before you execute to build intuition."
   ]
  },
  {
   "cell_type": "markdown",
   "id": "07f05320",
   "metadata": {},
   "source": [
    "# Operations on data"
   ]
  },
  {
   "cell_type": "markdown",
   "id": "4d63e7dc",
   "metadata": {},
   "source": [
    "## Stats\n",
    "\n",
    "Operations in general exclude missing data"
   ]
  },
  {
   "cell_type": "code",
   "execution_count": null,
   "id": "03b17c8c",
   "metadata": {},
   "outputs": [],
   "source": [
    "# arithmetic mean, for each column (axis = 0)\n",
    "df.mean()"
   ]
  },
  {
   "cell_type": "code",
   "execution_count": null,
   "id": "3f018050",
   "metadata": {},
   "outputs": [],
   "source": [
    "# mean across a row (axis = 1)\n",
    "df.mean(1)"
   ]
  },
  {
   "cell_type": "code",
   "execution_count": null,
   "id": "0d4056a8-236b-4963-abef-40cf869a2a78",
   "metadata": {},
   "outputs": [],
   "source": []
  },
  {
   "cell_type": "code",
   "execution_count": null,
   "id": "2d647d7f-8935-416e-a4a2-b886d4c0c6eb",
   "metadata": {},
   "outputs": [],
   "source": []
  },
  {
   "cell_type": "code",
   "execution_count": null,
   "id": "b85e3a1d-6c60-4c2f-a048-7e62d9dc8725",
   "metadata": {},
   "outputs": [],
   "source": []
  },
  {
   "cell_type": "code",
   "execution_count": null,
   "id": "11de9dde",
   "metadata": {},
   "outputs": [],
   "source": []
  }
 ],
 "metadata": {
  "kernelspec": {
   "display_name": "Python 3 (ipykernel)",
   "language": "python",
   "name": "python3"
  },
  "language_info": {
   "codemirror_mode": {
    "name": "ipython",
    "version": 3
   },
   "file_extension": ".py",
   "mimetype": "text/x-python",
   "name": "python",
   "nbconvert_exporter": "python",
   "pygments_lexer": "ipython3",
   "version": "3.9.12"
  }
 },
 "nbformat": 4,
 "nbformat_minor": 5
}
