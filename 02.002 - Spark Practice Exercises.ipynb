{
 "cells": [
  {
   "cell_type": "markdown",
   "id": "1b1f80b1-cd3b-4dc0-abf8-d26c5b3c7be2",
   "metadata": {},
   "source": [
    "# Fun exercises on Spark using the Movielens Dataset"
   ]
  },
  {
   "cell_type": "markdown",
   "id": "9c29acd0-d0ac-461d-874a-74d71f8bb90c",
   "metadata": {},
   "source": [
    "We are going to use the [MovieLens](https://grouplens.org/datasets/movielens/) dataset for these exercises. This is non trivial and should expand to about 1GB on you hard-drive.\n",
    "\n",
    "Download and unzip [MovieLens 25M Dataset](https://grouplens.org/datasets/movielens/25m/) for this analysis.\n",
    "\n",
    "Either ensure the data is in ```\"./data/ml-25m\"``` folder or update the path to the data below."
   ]
  },
  {
   "cell_type": "markdown",
   "id": "5f749ba0-35b3-4e54-bc80-c104f0ec05a4",
   "metadata": {},
   "source": [
    "**Citation**:  \n",
    "*F. Maxwell Harper and Joseph A. Konstan.* 2015.  \n",
    "The MovieLens Datasets: History and Context.  \n",
    "ACM Transactions on Interactive Intelligent Systems (TiiS) 5, 4: 19:1–19:19. <https://doi.org/10.1145/2827872>  "
   ]
  },
  {
   "cell_type": "markdown",
   "id": "a3356b32-de4a-4736-a1cb-a6843c4c66ca",
   "metadata": {},
   "source": [
    "You got this.  \n"
   ]
  },
  {
   "cell_type": "code",
   "execution_count": 1,
   "id": "b082d956-2428-4c5b-b0cd-58601e9d7025",
   "metadata": {},
   "outputs": [],
   "source": [
    "# Step 1: initialize findspark\n",
    "import findspark\n",
    "findspark.init()"
   ]
  },
  {
   "cell_type": "code",
   "execution_count": 2,
   "id": "8e19959e-30bf-431e-a96c-a68eb762b247",
   "metadata": {},
   "outputs": [
    {
     "data": {
      "text/plain": [
       "'3.3.0'"
      ]
     },
     "execution_count": 2,
     "metadata": {},
     "output_type": "execute_result"
    }
   ],
   "source": [
    "# Step 2: import pyspark\n",
    "import pyspark\n",
    "from pyspark.sql import SparkSession\n",
    "pyspark.__version__"
   ]
  },
  {
   "cell_type": "code",
   "execution_count": 3,
   "id": "1ba7f159-eeca-4f67-94e2-c919d48d9501",
   "metadata": {},
   "outputs": [],
   "source": [
    "# Step 3: Create a spark session\n",
    "\n",
    "# 'local[1]' indicates spark on 1 core on the local machine, specify the number of cores needed\n",
    "# use .config(\"spark.some.config.option\", \"some-value\") for additional configuration\n",
    "\n",
    "spark = SparkSession \\\n",
    "    .builder \\\n",
    "    .master('local[1]') \\\n",
    "    .appName(\"Analyzing Movielens Data\") \\\n",
    "    .getOrCreate()\n",
    "\n",
    "# spark"
   ]
  },
  {
   "cell_type": "markdown",
   "id": "5f1a3956-8b77-4987-9db6-074544ebb975",
   "metadata": {},
   "source": [
    "# ...to read and load the data *correctly*\n",
    "\n",
    "This is typically the first problem you need to work out. You'll see.  \n",
    "  \n",
    "If you've downloaded and unzipped the data, you'll see that some of the files are quite large (genome-scores.csv is 400+ Mb, ratings.csv is 600+ Mb).  \n",
    "\n",
    "So before we start loading the data to explore further, let's go through the [readme](https://files.grouplens.org/datasets/movielens/ml-25m-README.html) file to build a strategy for loading and analyzing data without clogging up the system.  \n",
    "\n",
    "In real life, either you'll have to load files in small chunks to work out a strategy or you'll have to rely on defined schema for data.  "
   ]
  },
  {
   "cell_type": "markdown",
   "id": "a407ff43-1428-4b30-9dd3-41f9d6f4c39a",
   "metadata": {},
   "source": [
    "Here's the list of files (as of Aug 2022) that you get when you unzip the dataset:\n",
    "1. movies.csv - list of movies with at least one rating.  \n",
    "1. links.csv - IDs to generate links to the movie listing on imdb.com and themoviedb.org  \n",
    "1. ratings.csv - Each line of this file after the header row represents one rating of one movie by one user.  \n",
    "    Header: ```userId,movieId,rating,timestamp```  \n",
    "1. tags.csv - Each line of this file after the header row represents one tag applied to one movie by one user.  \n",
    "    Header: ```userId,movieId,tag,timestamp```  \n",
    "1. Tag Genome: The tag genome contains tag relevance scores for movies. See [this](http://files.grouplens.org/papers/tag_genome.pdf)  \n",
    "\t1. genome-tags.csv - A list of tags  \n",
    "\t1. genome-scores.csv - Each movie in the genome has a relevance score value for every tag in the genome  \n",
    "1. README.txt - Check out the README.txt for more details about the files.  "
   ]
  },
  {
   "cell_type": "markdown",
   "id": "8aae84cd-c7db-4f9c-a174-52c9597847f5",
   "metadata": {},
   "source": [
    "## formatting and encoding\n",
    "\n",
    "From the Readme file, we have the following observations about the data:\n",
    "1. Each file is a CSV with a single header row\n",
    "1. Separator char is ```,```\n",
    "1. Escape char is ```\"```\n",
    "1. Encoding is UTF-8\n",
    "\n",
    "Let's set these options when reading the CSV files."
   ]
  },
  {
   "cell_type": "code",
   "execution_count": 4,
   "id": "8d2051c6-afbf-44fe-afb2-6abd179a46b6",
   "metadata": {},
   "outputs": [],
   "source": [
    "from pyspark.sql.types import *\n",
    "# where possible, let's avoid inferSchema\n",
    "# \n",
    "schema_movies = StructType([\n",
    "    StructField('movieId', StringType(), False),\n",
    "    StructField('title', StringType(), False),\n",
    "    StructField('genres', StringType(), True)    \n",
    "    ])\n",
    "# \n",
    "schema_ratings = StructType([\n",
    "    StructField('userId', StringType(), False),\n",
    "    StructField('movieId', StringType(), False),\n",
    "    StructField('rating', IntegerType(), True),\n",
    "    StructField('timestamp', StringType(), True)\n",
    "    ])\n",
    "# \n",
    "schema_tags = StructType([\n",
    "    StructField('userId', StringType(), False),\n",
    "    StructField('movieId', StringType(), False),\n",
    "    StructField('tag', StringType(), True),\n",
    "    StructField('timestamp', StringType(), True)\n",
    "    ])\n",
    "# \n",
    "schema_genome_tags = ''\n",
    "schema_genome_scores = ''"
   ]
  },
  {
   "cell_type": "code",
   "execution_count": 5,
   "id": "27b47326-dc01-480f-a1bf-c163d3d75870",
   "metadata": {},
   "outputs": [],
   "source": [
    "datalocation = \"./data/ml-25m/\"\n",
    "movies_file = datalocation + 'movies.csv'\n",
    "ratings_file = datalocation + 'ratings.csv'\n",
    "tags_file = datalocation + 'tags.csv'\n",
    "genome_tags_file = datalocation + 'genome-tags.csv'\n",
    "genome_scores_file = datalocation + 'genome-scores.csv'"
   ]
  },
  {
   "cell_type": "code",
   "execution_count": 6,
   "id": "84f8f7d5-f976-4c93-92f1-1bec531580e3",
   "metadata": {},
   "outputs": [],
   "source": [
    "movies_raw = spark.read.format('csv') \\\n",
    "    .option('encoding', 'UTF-8') \\\n",
    "    .option('header', True) \\\n",
    "    .option('sep', ',') \\\n",
    "    .option('escape','\\\"') \\\n",
    "    .schema(schema_movies) \\\n",
    "    .load(movies_file)"
   ]
  },
  {
   "cell_type": "code",
   "execution_count": 7,
   "id": "04b1d217-1bbb-417e-9cd8-8609fac608fa",
   "metadata": {},
   "outputs": [
    {
     "name": "stdout",
     "output_type": "stream",
     "text": [
      "+-------+----------------------------------+-------------------------------------------+\n",
      "|movieId|title                             |genres                                     |\n",
      "+-------+----------------------------------+-------------------------------------------+\n",
      "|1      |Toy Story (1995)                  |Adventure|Animation|Children|Comedy|Fantasy|\n",
      "|2      |Jumanji (1995)                    |Adventure|Children|Fantasy                 |\n",
      "|3      |Grumpier Old Men (1995)           |Comedy|Romance                             |\n",
      "|4      |Waiting to Exhale (1995)          |Comedy|Drama|Romance                       |\n",
      "|5      |Father of the Bride Part II (1995)|Comedy                                     |\n",
      "|6      |Heat (1995)                       |Action|Crime|Thriller                      |\n",
      "|7      |Sabrina (1995)                    |Comedy|Romance                             |\n",
      "|8      |Tom and Huck (1995)               |Adventure|Children                         |\n",
      "|9      |Sudden Death (1995)               |Action                                     |\n",
      "|10     |GoldenEye (1995)                  |Action|Adventure|Thriller                  |\n",
      "+-------+----------------------------------+-------------------------------------------+\n",
      "only showing top 10 rows\n",
      "\n"
     ]
    }
   ],
   "source": [
    "movies_raw.show(10,False)"
   ]
  },
  {
   "cell_type": "code",
   "execution_count": 8,
   "id": "07b0b56b-d38f-42bd-a65b-04e2b7c65fff",
   "metadata": {},
   "outputs": [],
   "source": [
    "ratings_raw = spark.read.format('csv') \\\n",
    "    .option('encoding', 'UTF-8') \\\n",
    "    .option('header', True) \\\n",
    "    .option('sep', ',') \\\n",
    "    .option('escape','\\\"') \\\n",
    "    .schema(schema_ratings) \\\n",
    "    .load(ratings_file)"
   ]
  },
  {
   "cell_type": "code",
   "execution_count": 9,
   "id": "990e5be0-e3ed-4622-b648-15a518d8b3ca",
   "metadata": {},
   "outputs": [
    {
     "name": "stdout",
     "output_type": "stream",
     "text": [
      "+------+-------+------+----------+\n",
      "|userId|movieId|rating|timestamp |\n",
      "+------+-------+------+----------+\n",
      "|1     |296    |null  |1147880044|\n",
      "|1     |306    |null  |1147868817|\n",
      "|1     |307    |null  |1147868828|\n",
      "|1     |665    |null  |1147878820|\n",
      "|1     |899    |null  |1147868510|\n",
      "|1     |1088   |null  |1147868495|\n",
      "|1     |1175   |null  |1147868826|\n",
      "|1     |1217   |null  |1147878326|\n",
      "|1     |1237   |null  |1147868839|\n",
      "|1     |1250   |null  |1147868414|\n",
      "+------+-------+------+----------+\n",
      "only showing top 10 rows\n",
      "\n"
     ]
    }
   ],
   "source": [
    "ratings_raw.show(10, False)"
   ]
  },
  {
   "cell_type": "code",
   "execution_count": 10,
   "id": "4d5b79e6-20b3-426c-a9ce-8151be2adf24",
   "metadata": {},
   "outputs": [],
   "source": [
    "tags_raw = spark.read.format('csv') \\\n",
    "    .option('encoding', 'UTF-8') \\\n",
    "    .option('header', True) \\\n",
    "    .option('sep', ',') \\\n",
    "    .option('escape','\\\"') \\\n",
    "    .schema(schema_tags) \\\n",
    "    .load(tags_file)"
   ]
  },
  {
   "cell_type": "code",
   "execution_count": 11,
   "id": "2c130655-47cc-4440-8cc6-eea596871800",
   "metadata": {},
   "outputs": [
    {
     "name": "stdout",
     "output_type": "stream",
     "text": [
      "+------+-------+-----------------------+----------+\n",
      "|userId|movieId|tag                    |timestamp |\n",
      "+------+-------+-----------------------+----------+\n",
      "|3     |260    |classic                |1439472355|\n",
      "|3     |260    |sci-fi                 |1439472256|\n",
      "|4     |1732   |dark comedy            |1573943598|\n",
      "|4     |1732   |great dialogue         |1573943604|\n",
      "|4     |7569   |so bad it's good       |1573943455|\n",
      "|4     |44665  |unreliable narrators   |1573943619|\n",
      "|4     |115569 |tense                  |1573943077|\n",
      "|4     |115713 |artificial intelligence|1573942979|\n",
      "|4     |115713 |philosophical          |1573943033|\n",
      "|4     |115713 |tense                  |1573943042|\n",
      "+------+-------+-----------------------+----------+\n",
      "only showing top 10 rows\n",
      "\n"
     ]
    }
   ],
   "source": [
    "tags_raw.show(10, False)"
   ]
  },
  {
   "cell_type": "markdown",
   "id": "6585b63e-eef4-4d33-9c59-173544f734ca",
   "metadata": {},
   "source": [
    "Let's load the other files later."
   ]
  },
  {
   "cell_type": "markdown",
   "id": "a7e3787f-f1a2-4bca-91f4-68a212361ecd",
   "metadata": {},
   "source": [
    "Here's the exercises we'll do with this data next"
   ]
  },
  {
   "cell_type": "markdown",
   "id": "2fd0f5b6-f7bb-4afa-b6a5-40d99a4157d7",
   "metadata": {},
   "source": [
    "# Problem Set 1  - ```tags.csv```\n",
    "\n",
    "1. List all unique tags found in ```tags.csv```  \n",
    "    * Also print the execution plan  \n",
    "    * *[think]* If there are multiple ways of doing this, compare the execution plans  \n",
    "  \n",
    "1. Remove wrapping quotation marks from tags\n",
    "    * so ```\"A Christmas Carol\"``` becomes ```A Christmas Carol```\n",
    "    * sort all tags lexically  \n",
    "\n",
    "1. Which movies have the most number of tags? \n",
    "    * List movieIds in order of # of tags associated  \n",
    "\n",
    "1. Which users have added the most number of tags?\n",
    "    * List userIds in order of # of tags created  \n",
    "\n",
    "1. Which users have tagged the most number of movies?\n",
    "\n",
    "1. We want to find out if there were days of higher activity during the tagging exercise or if the tagging output was more-or-less consistent. \n",
    "    * Convert time-stamps to Day-Month-Year. \n",
    "    * Find the date range (min-date, max-date) during which the tagging activity took place.\n",
    "    * Plot number of movies tagged per day during the date range\n",
    "\n",
    "1. We want to find out how many users were active every day of the tagging activity. \n",
    "    * Plot number of users who tagged at least one movie during the tagging activity date range"
   ]
  },
  {
   "cell_type": "code",
   "execution_count": 12,
   "id": "8273dde2-9b3e-49ad-bf22-51bd1c6ef761",
   "metadata": {},
   "outputs": [
    {
     "name": "stdout",
     "output_type": "stream",
     "text": [
      "+-----------+\n",
      "|tag        |\n",
      "+-----------+\n",
      "|anime      |\n",
      "|art        |\n",
      "|traveling  |\n",
      "|Banksy     |\n",
      "|smart drugs|\n",
      "+-----------+\n",
      "only showing top 5 rows\n",
      "\n"
     ]
    }
   ],
   "source": [
    "# unique tags found in tags.csv - method 1, using distinct()\n",
    "distinct_tags = tags_raw.select('tag').distinct()\n",
    "# let's do the explaining later, so it's easy to compare methods\n",
    "# distinct_tags.explain(True)\n",
    "# show 5 rows, do not truncate\n",
    "distinct_tags.show(5, False)"
   ]
  },
  {
   "cell_type": "code",
   "execution_count": 13,
   "id": "cb92c8af-6f83-4434-991e-e6fceca74136",
   "metadata": {},
   "outputs": [
    {
     "name": "stdout",
     "output_type": "stream",
     "text": [
      "+-----------+-----+\n",
      "|tag        |count|\n",
      "+-----------+-----+\n",
      "|anime      |1531 |\n",
      "|art        |305  |\n",
      "|traveling  |14   |\n",
      "|Banksy     |19   |\n",
      "|smart drugs|17   |\n",
      "+-----------+-----+\n",
      "only showing top 5 rows\n",
      "\n"
     ]
    }
   ],
   "source": [
    "# unique tags found in tags.csv - method 2, using groupBy()\n",
    "# an aggregator like count() results in a dataframe\n",
    "distinct_tags2 = tags_raw.groupBy('tag').count()\n",
    "# let's do the explaining later, so it's easy to compare methods\n",
    "# distinct_tags2.explain(True)\n",
    "# show 5 rows, no truncate\n",
    "distinct_tags2.show(5,False)"
   ]
  },
  {
   "cell_type": "code",
   "execution_count": 14,
   "id": "daacc5c0-662f-461f-8651-cc22ed73c2eb",
   "metadata": {},
   "outputs": [],
   "source": [
    "# ignore case when sorting values\n",
    "from pyspark.sql.functions import col, lower\n"
   ]
  },
  {
   "cell_type": "markdown",
   "id": "dcfaf432-5732-4e81-831a-e03bf6531b25",
   "metadata": {},
   "source": [
    "# Problem Set 2  - ```movies.csv```\n",
    "\n",
    "1. Extract the year of release in movies.csv into a new column year_of_release  \n",
    "\n",
    "1. Prepare a yearwise list of movies - list all the movies released in 1995, then 1996 and so on...   \n",
    "\n",
    "1. List all unique genres found in ```movies.csv```, ordered lexically, case insensitive  \n",
    "\n",
    "1. Prepare a genere wise list of movies - list all the movies for 'Crime', for 'Romance', and so on...\n",
    "\n",
    "1. Add another column num_genres and list total number of genres associated with each film  \n",
    "\n",
    "1. Find number of films associated with each genre - absolute_frequency_of_genre  \n",
    "\n",
    "1. Find out if a movie has both genres associated with it and also has ```(no genres listed)``` - if this is the case, find out how many such movies exist in the data set\n",
    "\n",
    "*[think]*: Is there a 'variety' metric? sum of absolute frequencies divided by total absolute frequency?\n"
   ]
  },
  {
   "cell_type": "code",
   "execution_count": 15,
   "id": "d33f5808-8759-4429-a4ce-1cc41ea24496",
   "metadata": {},
   "outputs": [],
   "source": [
    "from pyspark.sql.functions import explode\n",
    "from pyspark.sql.functions import split"
   ]
  },
  {
   "cell_type": "code",
   "execution_count": 16,
   "id": "be87b35e-96ba-46aa-b70a-c9a7a826fdf2",
   "metadata": {},
   "outputs": [],
   "source": [
    "# unique genres found in movies.csv\n",
    "movie_genres = movies_raw.select(\n",
    "    explode( # convert each element in an array to a new row\n",
    "        split( # split the data on pipe and create an arry\n",
    "            movies_raw.genres, \"\\|\"\n",
    "        )\n",
    "    ).alias('genre')\n",
    ")"
   ]
  },
  {
   "cell_type": "code",
   "execution_count": 17,
   "id": "67b05d22-ea0c-4485-b0de-2abd30d25470",
   "metadata": {},
   "outputs": [
    {
     "name": "stdout",
     "output_type": "stream",
     "text": [
      "+------------------+-----+\n",
      "|             genre|count|\n",
      "+------------------+-----+\n",
      "|             Crime| 5319|\n",
      "|           Romance| 7719|\n",
      "|          Thriller| 8654|\n",
      "|         Adventure| 4145|\n",
      "|             Drama|25606|\n",
      "|               War| 1874|\n",
      "|       Documentary| 5605|\n",
      "|           Fantasy| 2731|\n",
      "|           Mystery| 2925|\n",
      "|           Musical| 1054|\n",
      "|         Animation| 2929|\n",
      "|         Film-Noir|  353|\n",
      "|(no genres listed)| 5062|\n",
      "|              IMAX|  195|\n",
      "|            Horror| 5989|\n",
      "|           Western| 1399|\n",
      "|            Comedy|16870|\n",
      "|          Children| 2935|\n",
      "|            Action| 7348|\n",
      "|            Sci-Fi| 3595|\n",
      "+------------------+-----+\n",
      "\n"
     ]
    }
   ],
   "source": [
    "genre_freq = movie_genres.groupBy('genre').count().alias('freq')\n",
    "genre_freq.show()\n",
    "# TODO: rename the column 'count' to 'freq'"
   ]
  },
  {
   "cell_type": "code",
   "execution_count": 19,
   "id": "32c6bc62-a515-4083-8108-92e5175c67d8",
   "metadata": {},
   "outputs": [],
   "source": [
    "# spark.stop()"
   ]
  },
  {
   "cell_type": "code",
   "execution_count": null,
   "id": "58d0d6a7-8f84-4ad5-a2e7-0a7d0e01cf9b",
   "metadata": {},
   "outputs": [],
   "source": []
  },
  {
   "cell_type": "code",
   "execution_count": null,
   "id": "cbb0df32-7948-4941-83bf-94d0163fbc4b",
   "metadata": {},
   "outputs": [],
   "source": []
  },
  {
   "cell_type": "code",
   "execution_count": null,
   "id": "d4e84ebf-4fa1-49c4-a793-6b48fde3981c",
   "metadata": {},
   "outputs": [],
   "source": []
  },
  {
   "cell_type": "code",
   "execution_count": null,
   "id": "c8279663-b503-492a-b5e6-269386950449",
   "metadata": {},
   "outputs": [],
   "source": []
  },
  {
   "cell_type": "code",
   "execution_count": null,
   "id": "52f8d491-871a-441e-b9b1-85d2d0ca9da2",
   "metadata": {},
   "outputs": [],
   "source": []
  },
  {
   "cell_type": "code",
   "execution_count": null,
   "id": "8cc2e622-5303-4c16-8d98-272afb2f5691",
   "metadata": {},
   "outputs": [],
   "source": []
  },
  {
   "cell_type": "code",
   "execution_count": null,
   "id": "884f3c87-7d8d-40d1-8339-d859405ddf4a",
   "metadata": {},
   "outputs": [],
   "source": []
  },
  {
   "cell_type": "code",
   "execution_count": null,
   "id": "44d44e10-211e-44aa-a00b-e659a6643fce",
   "metadata": {},
   "outputs": [],
   "source": []
  },
  {
   "cell_type": "markdown",
   "id": "d473ea26-cece-42e2-9174-0bc0554bfe1a",
   "metadata": {},
   "source": [
    "# Problem Set 3  - ```ratings.csv```\n",
    "\n",
    "1. Find number of films for each rating, so number of films that have at least one rating of 1, number of films that have at least one rating of 2 and so on...  \n",
    "\n",
    "1. List user-IDs in order of number of films they have rated, descending.  \n",
    "\n",
    "1. Are there users who have given multiple ratings to the same film?  "
   ]
  },
  {
   "cell_type": "markdown",
   "id": "a83be239-bb2f-46f5-8665-556a10251f61",
   "metadata": {},
   "source": [
    "# Problem Set 4  - mixing things up, ```movies + ratings```\n",
    "\n",
    "1. Prepare a list of highly rated movies, present this list by year of release and sorted in alphabetical order by movie title.  \n",
    "    * \"Highly Rated\" = movies with atleast 3 instances where users have rated the film a 4 or a 5\n",
    "    * Expected Columns in the output: ```year of release, movie title, # of 4s, # of 5s```  \n",
    "    \n",
    "1. Another approach to 'highly rated', prepare a list of 'highly rated' movies\n",
    "    * \"Highly Rated\" = sum of 4 and 5 ratings is the highest across all years\n",
    "    * Sort this list by year of release\n",
    "\n",
    "1. Which genres have recieved the highest number of ratings?\n",
    "\n",
    "1. *[think]* Can we find \"Late Bloomers\" or \"Cult Films\"? \n",
    "    * Films that were not highly rated during the year of release or were not well rated initially,but their ratings improve over time. \n",
    "    * How can we rank these in descending order of \"Cult Status\"?\n"
   ]
  },
  {
   "cell_type": "markdown",
   "id": "cae0cc87-737f-45e0-8dad-0ee253799a87",
   "metadata": {},
   "source": [
    "# Problem Set 5  \n",
    "Bonus!\n",
    "1. Cross-check tags from the tag genome, insert tag_genome_id and relevance score, save file as tags_with_relevance.csv  \n",
    "\n",
    "1. Just fun on string operations: Prepare a list of movies that have atleast two vowels except 'e' - sort the list by month and year of video release.  \n",
    "   * Expected Columns in the output: ```year of video release, month of video release, movie title, # of vowels that are not e```  "
   ]
  }
 ],
 "metadata": {
  "kernelspec": {
   "display_name": "Python 3 (ipykernel)",
   "language": "python",
   "name": "python3"
  },
  "language_info": {
   "codemirror_mode": {
    "name": "ipython",
    "version": 3
   },
   "file_extension": ".py",
   "mimetype": "text/x-python",
   "name": "python",
   "nbconvert_exporter": "python",
   "pygments_lexer": "ipython3",
   "version": "3.9.13"
  }
 },
 "nbformat": 4,
 "nbformat_minor": 5
}
