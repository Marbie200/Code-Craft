{
 "cells": [
  {
   "cell_type": "markdown",
   "id": "1b1f80b1-cd3b-4dc0-abf8-d26c5b3c7be2",
   "metadata": {},
   "source": [
    "# Fun exercises on Spark using the Movielens Dataset"
   ]
  },
  {
   "cell_type": "markdown",
   "id": "9c29acd0-d0ac-461d-874a-74d71f8bb90c",
   "metadata": {},
   "source": [
    "We are going to use the [MovieLens](https://grouplens.org/datasets/movielens/) dataset for these exercises. This is non trivial and should expand to about 1GB on you hard-drive.\n",
    "\n",
    "Download and unzip [MovieLens 25M Dataset](https://grouplens.org/datasets/movielens/25m/) for this analysis.\n",
    "\n",
    "Either ensure the data is in ```\"./data/ml-25m\"``` folder or update the path to the data below."
   ]
  },
  {
   "cell_type": "markdown",
   "id": "5f749ba0-35b3-4e54-bc80-c104f0ec05a4",
   "metadata": {},
   "source": [
    "**Citation**:  \n",
    "*F. Maxwell Harper and Joseph A. Konstan.* 2015.  \n",
    "The MovieLens Datasets: History and Context.  \n",
    "ACM Transactions on Interactive Intelligent Systems (TiiS) 5, 4: 19:1–19:19. <https://doi.org/10.1145/2827872>  "
   ]
  },
  {
   "cell_type": "markdown",
   "id": "a3356b32-de4a-4736-a1cb-a6843c4c66ca",
   "metadata": {},
   "source": [
    "You got this.  \n"
   ]
  },
  {
   "cell_type": "code",
   "execution_count": 1,
   "id": "b082d956-2428-4c5b-b0cd-58601e9d7025",
   "metadata": {},
   "outputs": [],
   "source": [
    "# Step 1: initialize findspark\n",
    "import findspark\n",
    "findspark.init()"
   ]
  },
  {
   "cell_type": "code",
   "execution_count": 2,
   "id": "8e19959e-30bf-431e-a96c-a68eb762b247",
   "metadata": {},
   "outputs": [
    {
     "data": {
      "text/plain": [
       "'3.3.0'"
      ]
     },
     "execution_count": 2,
     "metadata": {},
     "output_type": "execute_result"
    }
   ],
   "source": [
    "# Step 2: import pyspark\n",
    "import pyspark\n",
    "from pyspark.sql import SparkSession\n",
    "pyspark.__version__"
   ]
  },
  {
   "cell_type": "code",
   "execution_count": 3,
   "id": "1ba7f159-eeca-4f67-94e2-c919d48d9501",
   "metadata": {},
   "outputs": [],
   "source": [
    "# Step 3: Create a spark session\n",
    "\n",
    "# using local[*] to use as many logical cores as available, use 1 when in doubt\n",
    "# 'local[1]' indicates spark on 1 core on the local machine or specify the number of cores needed\n",
    "# use .config(\"spark.some.config.option\", \"some-value\") for additional configuration\n",
    "\n",
    "spark = SparkSession \\\n",
    "    .builder \\\n",
    "    .master('local[*]') \\\n",
    "    .appName(\"Analyzing Movielens Data\") \\\n",
    "    .getOrCreate()\n",
    "\n",
    "# spark"
   ]
  },
  {
   "cell_type": "markdown",
   "id": "5f1a3956-8b77-4987-9db6-074544ebb975",
   "metadata": {},
   "source": [
    "# ...to read and load the data *correctly*\n",
    "\n",
    "This is typically the first problem you need to work out. You'll see.  \n",
    "  \n",
    "If you've downloaded and unzipped the data, you'll see that some of the files are quite large (genome-scores.csv is 400+ Mb, ratings.csv is 600+ Mb).  \n",
    "\n",
    "So before we start loading the data to explore further, let's go through the [readme](https://files.grouplens.org/datasets/movielens/ml-25m-README.html) file to build a strategy for loading and analyzing data without clogging up the system.  \n",
    "\n",
    "In real life, either you'll have to load files in small chunks to work out a strategy or you'll have to rely on defined schema for data.  "
   ]
  },
  {
   "cell_type": "markdown",
   "id": "a407ff43-1428-4b30-9dd3-41f9d6f4c39a",
   "metadata": {},
   "source": [
    "Here's the list of files (as of Aug 2022) that you get when you unzip the dataset:\n",
    "1. **movies**.csv - list of movies with at least one rating.  \n",
    "    Header: ```movieId,title,genres```  \n",
    "1. **links**.csv - IDs to generate links to the movie listing on imdb.com and themoviedb.org  \n",
    "    Header: ```movieId,imdbId,tmdbId```  \n",
    "1. **ratings**.csv - Each line of this file after the header row represents one rating of one movie by one user.  \n",
    "    Header: ```userId,movieId,rating,timestamp```  \n",
    "1. **tags**.csv - Each line of this file after the header row represents one tag applied to one movie by one user.  \n",
    "    Header: ```userId,movieId,tag,timestamp```  \n",
    "1. Tag Genome: The tag genome contains tag relevance scores for movies. See [this](http://files.grouplens.org/papers/tag_genome.pdf)  \n",
    "\t1. **genome-tags**.csv - A list of tags  \n",
    "    Header: ```tagId,tag```  \n",
    "\t1. **genome-scores**.csv - Each movie in the genome has a relevance score value for every tag in the genome  \n",
    "    Header: ```movieId,tagId,relevance```  \n",
    "1. README.txt - Check out the README.txt for more details about the files.  "
   ]
  },
  {
   "cell_type": "markdown",
   "id": "8aae84cd-c7db-4f9c-a174-52c9597847f5",
   "metadata": {},
   "source": [
    "## formatting and encoding\n",
    "\n",
    "From the Readme file, we have the following observations about the data:\n",
    "1. Each file is a CSV with a single header row\n",
    "1. Separator char is ```,```\n",
    "1. Escape char is ```\"```\n",
    "1. Encoding is UTF-8\n",
    "\n",
    "Let's set these options when reading the CSV files."
   ]
  },
  {
   "cell_type": "code",
   "execution_count": 4,
   "id": "8d2051c6-afbf-44fe-afb2-6abd179a46b6",
   "metadata": {},
   "outputs": [],
   "source": [
    "from pyspark.sql.types import *\n",
    "# where possible, let's avoid inferSchema\n",
    "# \n",
    "schema_movies = StructType([\n",
    "    StructField('movieId', StringType(), False),\n",
    "    StructField('title', StringType(), False),\n",
    "    StructField('genres', StringType(), True)    \n",
    "    ])\n",
    "# \n",
    "schema_ratings = StructType([\n",
    "    StructField('userId', StringType(), False),\n",
    "    StructField('movieId', StringType(), False),\n",
    "    StructField('rating', IntegerType(), True),\n",
    "    StructField('timestamp', StringType(), True)\n",
    "    ])\n",
    "# \n",
    "schema_tags = StructType([\n",
    "    StructField('userId', StringType(), False),\n",
    "    StructField('movieId', StringType(), False),\n",
    "    StructField('tag', StringType(), True),\n",
    "    StructField('timestamp', StringType(), True)\n",
    "    ])\n",
    "# \n",
    "schema_genome_tags = StructType([\n",
    "    StructField('tagId', StringType(), False),\n",
    "    StructField('tag', StringType(), False)\n",
    "    ])\n",
    "# \n",
    "# using arbitrary precision signed decimals (java.math.BigDecimal) for relevance scores\n",
    "schema_genome_scores = StructType([\n",
    "    StructField('movieId', StringType(), False),\n",
    "    StructField('tagId', StringType(), False),\n",
    "    StructField('relevance', DecimalType(), False)\n",
    "    ])"
   ]
  },
  {
   "cell_type": "code",
   "execution_count": 5,
   "id": "27b47326-dc01-480f-a1bf-c163d3d75870",
   "metadata": {},
   "outputs": [],
   "source": [
    "datalocation = \"./data/ml-25m/\"\n",
    "movies_file = datalocation + 'movies.csv'\n",
    "ratings_file = datalocation + 'ratings.csv'\n",
    "tags_file = datalocation + 'tags.csv'\n",
    "genome_tags_file = datalocation + 'genome-tags.csv'\n",
    "genome_scores_file = datalocation + 'genome-scores.csv'"
   ]
  },
  {
   "cell_type": "code",
   "execution_count": 6,
   "id": "84f8f7d5-f976-4c93-92f1-1bec531580e3",
   "metadata": {},
   "outputs": [],
   "source": [
    "movies_raw = spark.read.format('csv') \\\n",
    "    .option('encoding', 'UTF-8') \\\n",
    "    .option('header', True) \\\n",
    "    .option('sep', ',') \\\n",
    "    .option('escape','\\\"') \\\n",
    "    .schema(schema_movies) \\\n",
    "    .load(movies_file)"
   ]
  },
  {
   "cell_type": "code",
   "execution_count": 7,
   "id": "04b1d217-1bbb-417e-9cd8-8609fac608fa",
   "metadata": {},
   "outputs": [
    {
     "name": "stdout",
     "output_type": "stream",
     "text": [
      "+-------+----------------------------------+-------------------------------------------+\n",
      "|movieId|title                             |genres                                     |\n",
      "+-------+----------------------------------+-------------------------------------------+\n",
      "|1      |Toy Story (1995)                  |Adventure|Animation|Children|Comedy|Fantasy|\n",
      "|2      |Jumanji (1995)                    |Adventure|Children|Fantasy                 |\n",
      "|3      |Grumpier Old Men (1995)           |Comedy|Romance                             |\n",
      "|4      |Waiting to Exhale (1995)          |Comedy|Drama|Romance                       |\n",
      "|5      |Father of the Bride Part II (1995)|Comedy                                     |\n",
      "|6      |Heat (1995)                       |Action|Crime|Thriller                      |\n",
      "|7      |Sabrina (1995)                    |Comedy|Romance                             |\n",
      "|8      |Tom and Huck (1995)               |Adventure|Children                         |\n",
      "|9      |Sudden Death (1995)               |Action                                     |\n",
      "|10     |GoldenEye (1995)                  |Action|Adventure|Thriller                  |\n",
      "+-------+----------------------------------+-------------------------------------------+\n",
      "only showing top 10 rows\n",
      "\n"
     ]
    }
   ],
   "source": [
    "movies_raw.show(10,False)"
   ]
  },
  {
   "cell_type": "code",
   "execution_count": 8,
   "id": "07b0b56b-d38f-42bd-a65b-04e2b7c65fff",
   "metadata": {},
   "outputs": [],
   "source": [
    "ratings_raw = spark.read.format('csv') \\\n",
    "    .option('encoding', 'UTF-8') \\\n",
    "    .option('header', True) \\\n",
    "    .option('sep', ',') \\\n",
    "    .option('escape','\\\"') \\\n",
    "    .schema(schema_ratings) \\\n",
    "    .load(ratings_file)"
   ]
  },
  {
   "cell_type": "code",
   "execution_count": 9,
   "id": "990e5be0-e3ed-4622-b648-15a518d8b3ca",
   "metadata": {},
   "outputs": [
    {
     "name": "stdout",
     "output_type": "stream",
     "text": [
      "+------+-------+------+----------+\n",
      "|userId|movieId|rating|timestamp |\n",
      "+------+-------+------+----------+\n",
      "|1     |296    |null  |1147880044|\n",
      "|1     |306    |null  |1147868817|\n",
      "|1     |307    |null  |1147868828|\n",
      "|1     |665    |null  |1147878820|\n",
      "|1     |899    |null  |1147868510|\n",
      "|1     |1088   |null  |1147868495|\n",
      "|1     |1175   |null  |1147868826|\n",
      "|1     |1217   |null  |1147878326|\n",
      "|1     |1237   |null  |1147868839|\n",
      "|1     |1250   |null  |1147868414|\n",
      "+------+-------+------+----------+\n",
      "only showing top 10 rows\n",
      "\n"
     ]
    }
   ],
   "source": [
    "ratings_raw.show(10, False)"
   ]
  },
  {
   "cell_type": "code",
   "execution_count": 10,
   "id": "4d5b79e6-20b3-426c-a9ce-8151be2adf24",
   "metadata": {},
   "outputs": [],
   "source": [
    "tags_raw = spark.read.format('csv') \\\n",
    "    .option('encoding', 'UTF-8') \\\n",
    "    .option('header', True) \\\n",
    "    .option('sep', ',') \\\n",
    "    .option('escape','\\\"') \\\n",
    "    .schema(schema_tags) \\\n",
    "    .load(tags_file)"
   ]
  },
  {
   "cell_type": "code",
   "execution_count": 11,
   "id": "2c130655-47cc-4440-8cc6-eea596871800",
   "metadata": {},
   "outputs": [
    {
     "name": "stdout",
     "output_type": "stream",
     "text": [
      "+------+-------+-----------------------+----------+\n",
      "|userId|movieId|tag                    |timestamp |\n",
      "+------+-------+-----------------------+----------+\n",
      "|3     |260    |classic                |1439472355|\n",
      "|3     |260    |sci-fi                 |1439472256|\n",
      "|4     |1732   |dark comedy            |1573943598|\n",
      "|4     |1732   |great dialogue         |1573943604|\n",
      "|4     |7569   |so bad it's good       |1573943455|\n",
      "|4     |44665  |unreliable narrators   |1573943619|\n",
      "|4     |115569 |tense                  |1573943077|\n",
      "|4     |115713 |artificial intelligence|1573942979|\n",
      "|4     |115713 |philosophical          |1573943033|\n",
      "|4     |115713 |tense                  |1573943042|\n",
      "+------+-------+-----------------------+----------+\n",
      "only showing top 10 rows\n",
      "\n"
     ]
    }
   ],
   "source": [
    "tags_raw.show(10, False)"
   ]
  },
  {
   "cell_type": "markdown",
   "id": "6585b63e-eef4-4d33-9c59-173544f734ca",
   "metadata": {},
   "source": [
    "Let's load the other files later."
   ]
  },
  {
   "cell_type": "markdown",
   "id": "a7e3787f-f1a2-4bca-91f4-68a212361ecd",
   "metadata": {},
   "source": [
    "Here's the exercises we'll do with this data next"
   ]
  },
  {
   "cell_type": "markdown",
   "id": "2fd0f5b6-f7bb-4afa-b6a5-40d99a4157d7",
   "metadata": {},
   "source": [
    "# Problem Set 1  - ```tags.csv```\n",
    "\n",
    "1. Some tags may have wrapping quotation marks or similar special characters, also leading/trailing spaces etc. Cleanup tags\n",
    "    * for example, the tag ```\"A Christmas Carol\"``` becomes ```A Christmas Carol``` etc.\n",
    "\n",
    "1. List all unique tags found in ```tags.csv```  \n",
    "    * sort all tags lexically \n",
    "    * Also print the execution plan  \n",
    "    * *[think]* If there are multiple ways of doing this, compare the execution plans  \n",
    "  \n",
    "1. Which movies have the most number of tags? \n",
    "    * List movieIds in order of # of tags associated  \n",
    "    * Can we find out which movies have most # of *distinct* tags?\n",
    "    * Does the ```timestamp``` column have any impact on your report?\n",
    "\n",
    "1. Which users have added the most number of tags?\n",
    "    * List userIds in order of # of tags created  \n",
    "    * Can we find out which users have created most # of *distinct* tags?\n",
    "    * Does the ```timestamp``` column have any impact on your report?\n",
    "\n",
    "1. Which users have tagged the most number of movies?\n",
    "    * Like before, can we find out which users have tagged the most # of *distinct* movies? Does this question make sense in the context of users?\n",
    "    * Does the ```timestamp``` column have any impact on your report?\n",
    "\n",
    "1. *[optional, skip on first attept]* We want to find out if there were days of higher activity during the tagging exercise or if the tagging output was more-or-less consistent. \n",
    "    * Convert time-stamps to Day-Month-Year. \n",
    "    * Find the date range (min-date, max-date) during which the tagging activity took place.\n",
    "    * Plot number of movies tagged per day during the date range\n",
    "\n",
    "1. *[optional, skip on first attept]* We want to find out how many users were active every day of the tagging activity. \n",
    "    * Plot number of users who tagged at least one movie during the tagging activity date range"
   ]
  },
  {
   "cell_type": "markdown",
   "id": "b8c9b542-bb74-4938-bf70-91f46bc69968",
   "metadata": {},
   "source": [
    "## Solutions to Problem Set 1"
   ]
  },
  {
   "cell_type": "markdown",
   "id": "36cb7c90-9337-42d9-91be-130c65affeef",
   "metadata": {},
   "source": [
    "### Cleanup  \n",
    "Some tags may have wrapping quotation marks or similar special characters, also leading/trailing spaces etc. Cleanup tags  \n",
    "\n",
    "* for example, the tag \"A Christmas Carol\" becomes A Christmas Carol etc."
   ]
  },
  {
   "cell_type": "code",
   "execution_count": 12,
   "id": "8273dde2-9b3e-49ad-bf22-51bd1c6ef761",
   "metadata": {},
   "outputs": [],
   "source": [
    "# Remove wrapping quotation marks from tags\n",
    "\n",
    "# if there's cleanup needed, \n",
    "# we do that first before finding out unique records, \n",
    "# chances are uniqueness will be affected if we don't follow this order.\n",
    "\n",
    "from pyspark.sql.functions import col, lower, regexp_replace, trim"
   ]
  },
  {
   "cell_type": "code",
   "execution_count": 13,
   "id": "39158e33-3174-41ba-91fd-10a76989ff12",
   "metadata": {},
   "outputs": [],
   "source": [
    "# define a regex pattern to use. \n",
    "# ^ indicates start of string, $ indicates end of string\n",
    "# double quote or single quote or ampersand or bang just after start of string\n",
    "pattern_start = '^\\\"|^\\'|^&|^#'\n",
    "# double quote or single quote or ampersand or bang just before end of string\n",
    "pattern_end =  '\\\"$|\\'$|&$|#$'\n",
    "pattern = pattern_start+'|'+pattern_end"
   ]
  },
  {
   "cell_type": "code",
   "execution_count": 14,
   "id": "26823fb6-1875-481c-bec1-b8e18ac148a4",
   "metadata": {},
   "outputs": [],
   "source": [
    "# create a new tags dataframe with cleaned up data \n",
    "tags = tags_raw.withColumn('tag', regexp_replace(trim(col('tag')), pattern, ''))"
   ]
  },
  {
   "cell_type": "code",
   "execution_count": 15,
   "id": "a68a2109-0e14-42e2-a10a-11e9fc5c55ce",
   "metadata": {},
   "outputs": [
    {
     "name": "stdout",
     "output_type": "stream",
     "text": [
      "+------+-------+-------------------+----------+\n",
      "|userId|movieId|                tag| timestamp|\n",
      "+------+-------+-------------------+----------+\n",
      "| 63844|   4023|\"A Christmas Carol\"|1457037403|\n",
      "+------+-------+-------------------+----------+\n",
      "\n",
      "+------+-------+-----------------+----------+\n",
      "|userId|movieId|              tag| timestamp|\n",
      "+------+-------+-----------------+----------+\n",
      "| 63844|   4023|A Christmas Carol|1457037403|\n",
      "+------+-------+-----------------+----------+\n",
      "\n"
     ]
    }
   ],
   "source": [
    "# quotes stripped and other chars too...\n",
    "tags_raw.filter(col('tag').contains('Christmas Carol')).show()\n",
    "tags.filter(col('tag').contains('Christmas Carol')).show()"
   ]
  },
  {
   "cell_type": "markdown",
   "id": "9b9abbed-9d33-42fd-8f52-cb71ea5015da",
   "metadata": {},
   "source": [
    "### List all unique tags found in ```tags.csv```  \n",
    "    * sort all tags lexically \n",
    "    * Also print the execution plan  \n",
    "    * *[think]* If there are multiple ways of doing this, compare the execution plans  "
   ]
  },
  {
   "cell_type": "code",
   "execution_count": 16,
   "id": "7e06588a-7a74-4cc6-9f59-00bfc11fcf3f",
   "metadata": {},
   "outputs": [
    {
     "name": "stdout",
     "output_type": "stream",
     "text": [
      "+------+-------+----------------+----------------+----------+\n",
      "|userId|movieId|tag             |lower tag       |timestamp |\n",
      "+------+-------+----------------+----------------+----------+\n",
      "|3     |260    |classic         |classic         |1439472355|\n",
      "|3     |260    |sci-fi          |sci-fi          |1439472256|\n",
      "|4     |1732   |dark comedy     |dark comedy     |1573943598|\n",
      "|4     |1732   |great dialogue  |great dialogue  |1573943604|\n",
      "|4     |7569   |so bad it's good|so bad it's good|1573943455|\n",
      "+------+-------+----------------+----------------+----------+\n",
      "only showing top 5 rows\n",
      "\n"
     ]
    }
   ],
   "source": [
    "# unique tags found in tags.csv - prep\n",
    "# careful - comparision should be case-insensitive \n",
    "# because 'Christmas Special' and 'Christmas special' are really the same thing\n",
    "# create a new column in tags\n",
    "tags = tags.withColumn('lower tag', lower(col('tag')))\n",
    "# reorder columns for easy readability\n",
    "tags = tags.select('userId', 'movieId', 'tag', 'lower tag', 'timestamp')\n",
    "tags.show(5,False)"
   ]
  },
  {
   "cell_type": "code",
   "execution_count": 17,
   "id": "9c442685-a28b-423e-be41-9e328526ab87",
   "metadata": {},
   "outputs": [
    {
     "name": "stdout",
     "output_type": "stream",
     "text": [
      "+-------------+\n",
      "|lower tag    |\n",
      "+-------------+\n",
      "|anime        |\n",
      "|art          |\n",
      "|traveling    |\n",
      "|travel       |\n",
      "|loss of child|\n",
      "+-------------+\n",
      "only showing top 5 rows\n",
      "\n"
     ]
    }
   ],
   "source": [
    "# unique tags found in tags.csv - method 1, using distinct()\n",
    "distinct_tags1 = tags.select('lower tag').distinct()\n",
    "# \n",
    "# let's do the explaining later, so it's easy to compare methods\n",
    "# distinct_tags.explain(True)\n",
    "# show 5 rows, do not truncate\n",
    "distinct_tags1.show(5, False)"
   ]
  },
  {
   "cell_type": "code",
   "execution_count": 18,
   "id": "cb92c8af-6f83-4434-991e-e6fceca74136",
   "metadata": {},
   "outputs": [
    {
     "name": "stdout",
     "output_type": "stream",
     "text": [
      "+-------------+-----+\n",
      "|lower tag    |count|\n",
      "+-------------+-----+\n",
      "|anime        |1585 |\n",
      "|art          |340  |\n",
      "|traveling    |14   |\n",
      "|travel       |256  |\n",
      "|loss of child|21   |\n",
      "+-------------+-----+\n",
      "only showing top 5 rows\n",
      "\n"
     ]
    }
   ],
   "source": [
    "# unique tags found in tags.csv - method 2, using groupBy()\n",
    "# an aggregator like count() results in a dataframe\n",
    "# distinct_tags2 = tags.select('lower tag').groupBy('lower tag').count()\n",
    "distinct_tags2 = tags.select('lower tag').groupBy('lower tag').count()\n",
    "# let's do the explaining later, so it's easy to compare methods\n",
    "# distinct_tags2.explain(True)\n",
    "# show 5 rows, no truncate\n",
    "distinct_tags2.show(5,False)"
   ]
  },
  {
   "cell_type": "markdown",
   "id": "56737c96-bd19-4032-a312-354b5aca786d",
   "metadata": {},
   "source": [
    "Execution plan explanations to compare distinct() and groupBy()...  \n",
    "(uncomment the lines below)"
   ]
  },
  {
   "cell_type": "code",
   "execution_count": 19,
   "id": "5221651c-18cf-4860-8b4b-0376d641c776",
   "metadata": {},
   "outputs": [],
   "source": [
    "# distinct_tags1.explain(True)"
   ]
  },
  {
   "cell_type": "code",
   "execution_count": 20,
   "id": "4270ccc7-4036-47c6-a77d-c5a0fbe08e6e",
   "metadata": {},
   "outputs": [],
   "source": [
    "# distinct_tags2.explain(True)"
   ]
  },
  {
   "cell_type": "markdown",
   "id": "b8ef3fba-5f2a-4ce5-ad25-c98a924df2b9",
   "metadata": {},
   "source": [
    "Compare the costs in the two execution plans"
   ]
  },
  {
   "cell_type": "code",
   "execution_count": 21,
   "id": "295a4f11-aa1a-4075-9b9d-3f6f88a570dc",
   "metadata": {},
   "outputs": [],
   "source": [
    "# distinct_tags1.explain(mode='cost')"
   ]
  },
  {
   "cell_type": "code",
   "execution_count": 22,
   "id": "5641a0ca-7f26-4bd0-822a-d814cb333f15",
   "metadata": {},
   "outputs": [],
   "source": [
    "# distinct_tags2.explain(mode='cost')"
   ]
  },
  {
   "cell_type": "markdown",
   "id": "7564a63c-f908-40a9-bfef-a06f86af3947",
   "metadata": {},
   "source": [
    "The two plans look identical:"
   ]
  },
  {
   "cell_type": "markdown",
   "id": "769873c9-3412-40fe-8fe1-c517524f57c8",
   "metadata": {},
   "source": [
    "**distinct()**  \n",
    "  \n",
    "```\n",
    "== Physical Plan ==\n",
    "AdaptiveSparkPlan isFinalPlan=false\n",
    "+- Sort [lower tag#130 ASC NULLS FIRST], true, 0\n",
    "   +- Exchange rangepartitioning(lower tag#130 ASC NULLS FIRST, 200), ENSURE_REQUIREMENTS, [id=#1415]\n",
    "      +- HashAggregate(keys=[lower tag#130], functions=[], output=[lower tag#130])\n",
    "         +- Exchange hashpartitioning(lower tag#130, 200), ENSURE_REQUIREMENTS, [id=#1412]\n",
    "            +- HashAggregate(keys=[lower tag#130], functions=[], output=[lower tag#130])\n",
    "               +- Project [lower(regexp_replace(trim(tag#55, None), ^\"|^'|^&|^#|\"$|'$|&$|#$, , 1)) AS lower tag#130]\n",
    "                  +- FileScan csv [tag#55] Batched: false, DataFilters: [], Format: CSV, Location: InMemoryFileIndex(1 paths)[file:/.../tags.csv], PartitionFilters: [], PushedFilters: [], ReadSchema: struct<tag:string>\n",
    "```"
   ]
  },
  {
   "cell_type": "markdown",
   "id": "f3d7dee1-0c96-423b-8145-94ae3f94ee59",
   "metadata": {},
   "source": [
    "**groupBy()**  \n",
    "  \n",
    "```\n",
    "== Physical Plan ==\n",
    "AdaptiveSparkPlan isFinalPlan=false\n",
    "+- Sort [lower tag#130 ASC NULLS FIRST], true, 0\n",
    "   +- Exchange rangepartitioning(lower tag#130 ASC NULLS FIRST, 200), ENSURE_REQUIREMENTS, [id=#1437]\n",
    "      +- HashAggregate(keys=[lower tag#130], functions=[count(1)], output=[lower tag#130, count#176L])\n",
    "         +- Exchange hashpartitioning(lower tag#130, 200), ENSURE_REQUIREMENTS, [id=#1434]\n",
    "            +- HashAggregate(keys=[lower tag#130], functions=[partial_count(1)], output=[lower tag#130, count#186L])\n",
    "               +- Project [lower(regexp_replace(trim(tag#55, None), ^\"|^'|^&|^#|\"$|'$|&$|#$, , 1)) AS lower tag#130]\n",
    "                  +- FileScan csv [tag#55] Batched: false, DataFilters: [], Format: CSV, Location: InMemoryFileIndex(1 paths)[file:/.../tags.csv], PartitionFilters: [], PushedFilters: [], ReadSchema: struct<tag:string>\n",
    "```\n"
   ]
  },
  {
   "cell_type": "markdown",
   "id": "ea3f534c-5961-4774-827a-5b542e20f8b5",
   "metadata": {},
   "source": [
    "Spark optimizes both to identical plans / Inner workings for both seem identical in the optimized execution plan.  \n",
    "\n",
    "So we tend to prefer the one that is easier to read when debugging the code.  \n",
    "\n",
    "There may be a need for both distinct() and groupBy() in the same piece of code - for readability. We'll see that a few sections later.  \n",
    "\n",
    "*In some cases, I saw (and I am probably wrong here) that the groupBy() method seems marginally more expensive in terms of memory as compared to distinct(). Log a comment/ticket/PR if you have evidence, insights, ideas to the contrary/in-support.*"
   ]
  },
  {
   "cell_type": "markdown",
   "id": "d5709669-721a-470d-9659-812d903a382f",
   "metadata": {},
   "source": [
    "#### Sort lexically"
   ]
  },
  {
   "cell_type": "code",
   "execution_count": 23,
   "id": "daacc5c0-662f-461f-8651-cc22ed73c2eb",
   "metadata": {},
   "outputs": [],
   "source": [
    "# sort unique tags lexically\n",
    "# ignore case when sorting values \n",
    "distinct_tags1 = distinct_tags1.orderBy(col('lower tag').asc())\n",
    "distinct_tags2 = distinct_tags2.orderBy(col('lower tag').asc())"
   ]
  },
  {
   "cell_type": "code",
   "execution_count": 24,
   "id": "b6bf12b9-1103-4ae9-874d-21fd595e141c",
   "metadata": {},
   "outputs": [
    {
     "name": "stdout",
     "output_type": "stream",
     "text": [
      "+-----------------------------------------------------------+\n",
      "|lower tag                                                  |\n",
      "+-----------------------------------------------------------+\n",
      "|a christmas carol                                          |\n",
      "|anti christmas                                             |\n",
      "|best christmas movie                                       |\n",
      "|christmas                                                  |\n",
      "|christmas bonus                                            |\n",
      "|christmas card                                             |\n",
      "|christmas carol                                            |\n",
      "|christmas england history                                  |\n",
      "|christmas eve                                              |\n",
      "|christmas gift                                             |\n",
      "|christmas holiday                                          |\n",
      "|christmas horror                                           |\n",
      "|christmas lights                                           |\n",
      "|christmas miracle                                          |\n",
      "|christmas morning                                          |\n",
      "|christmas movie                                            |\n",
      "|christmas music                                            |\n",
      "|christmas parade                                           |\n",
      "|christmas party                                            |\n",
      "|christmas present                                          |\n",
      "|christmas slasher                                          |\n",
      "|christmas songs                                            |\n",
      "|christmas special                                          |\n",
      "|christmas spirit                                           |\n",
      "|christmas story                                            |\n",
      "|christmas time                                             |\n",
      "|christmas tree                                             |\n",
      "|christmas tree dealer                                      |\n",
      "|christmas, dicken's                                        |\n",
      "|christmastime                                              |\n",
      "|classic christmas tale                                     |\n",
      "|father christmas                                           |\n",
      "|https://movielens.org/explore?tag=christmas&sortby=tagscore|\n",
      "|non-traditional christmas special                          |\n",
      "|saving christmas                                           |\n",
      "|see: merry christmas (joyeux noël)                         |\n",
      "+-----------------------------------------------------------+\n",
      "\n"
     ]
    }
   ],
   "source": [
    "distinct_tags1.filter(col('lower tag').contains('christmas')).show(50, False)"
   ]
  },
  {
   "cell_type": "code",
   "execution_count": 25,
   "id": "a863d5f3-f13a-4d76-a814-ec2cf1570cb1",
   "metadata": {},
   "outputs": [
    {
     "name": "stdout",
     "output_type": "stream",
     "text": [
      "+-----------------------------------------------------------+-----+\n",
      "|lower tag                                                  |count|\n",
      "+-----------------------------------------------------------+-----+\n",
      "|a christmas carol                                          |1    |\n",
      "|anti christmas                                             |1    |\n",
      "|best christmas movie                                       |7    |\n",
      "|christmas                                                  |1162 |\n",
      "|christmas bonus                                            |1    |\n",
      "|christmas card                                             |2    |\n",
      "|christmas carol                                            |11   |\n",
      "|christmas england history                                  |1    |\n",
      "|christmas eve                                              |36   |\n",
      "|christmas gift                                             |5    |\n",
      "|christmas holiday                                          |4    |\n",
      "|christmas horror                                           |12   |\n",
      "|christmas lights                                           |4    |\n",
      "|christmas miracle                                          |1    |\n",
      "|christmas morning                                          |1    |\n",
      "|christmas movie                                            |18   |\n",
      "|christmas music                                            |1    |\n",
      "|christmas parade                                           |1    |\n",
      "|christmas party                                            |25   |\n",
      "|christmas present                                          |2    |\n",
      "|christmas slasher                                          |1    |\n",
      "|christmas songs                                            |1    |\n",
      "|christmas special                                          |6    |\n",
      "|christmas spirit                                           |5    |\n",
      "|christmas story                                            |1    |\n",
      "|christmas time                                             |4    |\n",
      "|christmas tree                                             |22   |\n",
      "|christmas tree dealer                                      |1    |\n",
      "|christmas, dicken's                                        |1    |\n",
      "|christmastime                                              |2    |\n",
      "|classic christmas tale                                     |5    |\n",
      "|father christmas                                           |3    |\n",
      "|https://movielens.org/explore?tag=christmas&sortby=tagscore|1    |\n",
      "|non-traditional christmas special                          |1    |\n",
      "|saving christmas                                           |3    |\n",
      "|see: merry christmas (joyeux noël)                         |1    |\n",
      "+-----------------------------------------------------------+-----+\n",
      "\n"
     ]
    }
   ],
   "source": [
    "distinct_tags2.filter(col('lower tag').contains('christmas')).show(50, False)"
   ]
  },
  {
   "cell_type": "markdown",
   "id": "b2ecaabd-5f76-4702-8810-258336520aad",
   "metadata": {},
   "source": [
    "### Which movies have the most number of tags?  \n",
    "* List movieIds in order of # of tags associated  \n",
    "* Can we find out which movies have most # of *distinct* tags?  \n",
    "* *[optional]* Does the ```timestamp``` column have any impact on your report?  "
   ]
  },
  {
   "cell_type": "code",
   "execution_count": 26,
   "id": "ccb6777d-b91a-4d6d-8aa0-1a2fd133c854",
   "metadata": {},
   "outputs": [
    {
     "name": "stdout",
     "output_type": "stream",
     "text": [
      "+-------+-----+\n",
      "|movieId|count|\n",
      "+-------+-----+\n",
      "|    260| 6180|\n",
      "|  79132| 4767|\n",
      "|    296| 4767|\n",
      "| 109487| 3616|\n",
      "|   2959| 3612|\n",
      "|    318| 3597|\n",
      "|   2571| 3573|\n",
      "|    356| 2701|\n",
      "|   4226| 2601|\n",
      "|   7361| 2533|\n",
      "|    593| 2482|\n",
      "|   4878| 2417|\n",
      "|   4973| 2226|\n",
      "|  48780| 2126|\n",
      "| 115713| 2115|\n",
      "|  72998| 2105|\n",
      "|    541| 2081|\n",
      "|  58559| 1956|\n",
      "|     47| 1947|\n",
      "|   2858| 1904|\n",
      "+-------+-----+\n",
      "only showing top 20 rows\n",
      "\n"
     ]
    }
   ],
   "source": [
    "# movie IDs with most number of tags\n",
    "movies_by_tag_count = tags.groupBy('movieId').count()\n",
    "movies_by_tag_count.orderBy(col('count').desc()).show()"
   ]
  },
  {
   "cell_type": "markdown",
   "id": "0741bd36-ecc3-420d-a71f-13924e271f1c",
   "metadata": {},
   "source": [
    "These movies have thousands of tags??? that makes no sense... let's see what some of those are:"
   ]
  },
  {
   "cell_type": "code",
   "execution_count": 27,
   "id": "206dc640-3682-4154-af45-e4b4422236d1",
   "metadata": {},
   "outputs": [
    {
     "name": "stdout",
     "output_type": "stream",
     "text": [
      "+---------------+-----+\n",
      "|lowercase tag  |count|\n",
      "+---------------+-----+\n",
      "|sci-fi         |658  |\n",
      "|space          |302  |\n",
      "|classic        |273  |\n",
      "|science fiction|270  |\n",
      "|space adventure|263  |\n",
      "|classic sci-fi |232  |\n",
      "|action         |178  |\n",
      "|adventure      |160  |\n",
      "|fantasy        |150  |\n",
      "|star wars      |143  |\n",
      "|space opera    |139  |\n",
      "|harrison ford  |117  |\n",
      "|good vs evil   |115  |\n",
      "|epic           |112  |\n",
      "|space action   |104  |\n",
      "|space epic     |84   |\n",
      "|cult classic   |76   |\n",
      "|george lucas   |71   |\n",
      "|epic adventure |55   |\n",
      "|jedi           |55   |\n",
      "|scifi          |54   |\n",
      "|aliens         |53   |\n",
      "|futuristic     |51   |\n",
      "|scifi cult     |46   |\n",
      "|hero's journey |45   |\n",
      "+---------------+-----+\n",
      "only showing top 25 rows\n",
      "\n"
     ]
    }
   ],
   "source": [
    "tags.filter(col('movieId') == 260) \\\n",
    "    .groupBy(lower(col('tag')).alias('lowercase tag')) \\\n",
    "    .count() \\\n",
    "    .orderBy(col('count').desc()) \\\n",
    "    .show(25, False)"
   ]
  },
  {
   "cell_type": "markdown",
   "id": "af318175-bd95-4f77-8301-a59bfb125994",
   "metadata": {},
   "source": [
    "Any guesses what this movie could be?"
   ]
  },
  {
   "cell_type": "code",
   "execution_count": 28,
   "id": "9f6e1484-5ccf-4028-9e8b-1ec696337fdc",
   "metadata": {},
   "outputs": [
    {
     "name": "stdout",
     "output_type": "stream",
     "text": [
      "+-------+-----------------------------------------+-----------------------+\n",
      "|movieId|title                                    |genres                 |\n",
      "+-------+-----------------------------------------+-----------------------+\n",
      "|260    |Star Wars: Episode IV - A New Hope (1977)|Action|Adventure|Sci-Fi|\n",
      "+-------+-----------------------------------------+-----------------------+\n",
      "\n"
     ]
    }
   ],
   "source": [
    "movies_raw.filter(col('movieId') == 260).show(1, False)"
   ]
  },
  {
   "cell_type": "markdown",
   "id": "6df4964b-121b-43f5-ab38-b30e5cd910fb",
   "metadata": {},
   "source": [
    "No surprises there!"
   ]
  },
  {
   "cell_type": "markdown",
   "id": "440500e3-47f2-491c-a06d-0982d4a0dc91",
   "metadata": {},
   "source": [
    "### Which users have added the most number of tags?\n",
    "\n",
    "* List ```userIds``` in order of # of tags created\n",
    "* Can we find out which users have created most # of distinct tags?"
   ]
  },
  {
   "cell_type": "code",
   "execution_count": 29,
   "id": "81275048-fc15-47da-ad30-05537b6e3432",
   "metadata": {},
   "outputs": [
    {
     "name": "stdout",
     "output_type": "stream",
     "text": [
      "+------+------+\n",
      "|userId| count|\n",
      "+------+------+\n",
      "|  6550|183356|\n",
      "| 21096| 20317|\n",
      "| 62199| 13700|\n",
      "|160540| 12076|\n",
      "|155146| 11445|\n",
      "| 70092| 10582|\n",
      "|131347| 10195|\n",
      "| 14116| 10167|\n",
      "| 31047|  8463|\n",
      "|141263|  7114|\n",
      "| 64333|  6944|\n",
      "| 47969|  6599|\n",
      "| 15204|  6426|\n",
      "| 84824|  6209|\n",
      "|123527|  6005|\n",
      "|148457|  5960|\n",
      "| 19346|  5919|\n",
      "|  6285|  5837|\n",
      "| 96795|  5334|\n",
      "| 44444|  4941|\n",
      "+------+------+\n",
      "only showing top 20 rows\n",
      "\n"
     ]
    }
   ],
   "source": [
    "# users who have created most tags\n",
    "users_by_count_of_tag_entries = tags.groupBy('userId').count()\n",
    "users_by_count_of_tag_entries.orderBy(col('count').desc()).show()"
   ]
  },
  {
   "cell_type": "markdown",
   "id": "af3d8c11-3324-44b8-8492-90d253abfa0a",
   "metadata": {},
   "source": [
    "Can we find out which users have created most # of distinct tags?"
   ]
  },
  {
   "cell_type": "code",
   "execution_count": 30,
   "id": "0461b92d-d7b7-47e9-96b3-8b10cd1db26e",
   "metadata": {},
   "outputs": [
    {
     "name": "stdout",
     "output_type": "stream",
     "text": [
      "+------+-----+\n",
      "|userId|count|\n",
      "+------+-----+\n",
      "|  6550|20765|\n",
      "| 31047| 5574|\n",
      "|155146| 5252|\n",
      "| 62199| 4959|\n",
      "|131347| 4834|\n",
      "|160540| 4783|\n",
      "|148457| 3550|\n",
      "| 47969| 3042|\n",
      "| 14116| 2913|\n",
      "|141263| 2837|\n",
      "| 19346| 2808|\n",
      "| 96795| 2304|\n",
      "| 64333| 2268|\n",
      "| 15204| 2190|\n",
      "| 44444| 2156|\n",
      "|105728| 2150|\n",
      "|123527| 2131|\n",
      "| 34047| 2103|\n",
      "| 56238| 2018|\n",
      "| 83426| 1942|\n",
      "+------+-----+\n",
      "only showing top 20 rows\n",
      "\n"
     ]
    }
   ],
   "source": [
    "# isolate userId and tags and identify distinct pairs\n",
    "distinct_tags_by_user = tags.select('userId', 'tag').distinct()\n",
    "# count distinct tags by user\n",
    "count_distinct_tags_by_user = distinct_tags_by_user.groupBy('userId').count()\n",
    "# list count of distinct tags by user\n",
    "count_distinct_tags_by_user.orderBy(col('count').desc()).show()"
   ]
  },
  {
   "cell_type": "markdown",
   "id": "6717e5d8-9a93-42e1-b19c-d99807c1eb25",
   "metadata": {},
   "source": [
    "*Holy Sith!* \n",
    "\n",
    "*183356* tags, *20765* unique tags - UserId ```6550``` is either a beast or probably a bot!  \n",
    "\n",
    "In most cases we may want to treat this one as an outlier, further analysis may be needed before taking that decision, but it's good to know 6550 exists.  "
   ]
  },
  {
   "cell_type": "code",
   "execution_count": 31,
   "id": "7df30d92-c8eb-4cbc-8ea6-ffe3ebe5daf7",
   "metadata": {},
   "outputs": [
    {
     "name": "stdout",
     "output_type": "stream",
     "text": [
      "+------+---------------+\n",
      "|userId|tag            |\n",
      "+------+---------------+\n",
      "|6550  |007            |\n",
      "|6550  |077            |\n",
      "|6550  |10th century   |\n",
      "|6550  |11th century   |\n",
      "|6550  |12th century   |\n",
      "|6550  |13th century   |\n",
      "|6550  |14th century   |\n",
      "|6550  |15th century   |\n",
      "|6550  |16th century   |\n",
      "|6550  |17th century   |\n",
      "|6550  |1860s          |\n",
      "|6550  |18th century   |\n",
      "|6550  |1910s          |\n",
      "|6550  |1920s          |\n",
      "|6550  |1930s          |\n",
      "|6550  |1940s          |\n",
      "|6550  |1950s          |\n",
      "|6550  |1960s          |\n",
      "|6550  |1970s          |\n",
      "|6550  |1980s          |\n",
      "|6550  |1990s          |\n",
      "|6550  |19th century   |\n",
      "|6550  |1st century    |\n",
      "|6550  |2040s          |\n",
      "|6550  |20th century   |\n",
      "|6550  |21st century   |\n",
      "|6550  |25th century   |\n",
      "|6550  |2nd century    |\n",
      "|6550  |3 dimensional  |\n",
      "|6550  |360 video      |\n",
      "|6550  |3d             |\n",
      "|6550  |47 ronin       |\n",
      "|6550  |80's           |\n",
      "|6550  |80's style     |\n",
      "|6550  |Afghanistan    |\n",
      "|6550  |Africa         |\n",
      "|6550  |Agent Coulson  |\n",
      "|6550  |Area 51        |\n",
      "|6550  |Australian     |\n",
      "|6550  |B Movie        |\n",
      "|6550  |B-movie        |\n",
      "|6550  |Bane           |\n",
      "|6550  |Batgirl        |\n",
      "|6550  |Batman         |\n",
      "|6550  |Black and white|\n",
      "|6550  |Catwoman       |\n",
      "|6550  |Chucky         |\n",
      "|6550  |Criterion      |\n",
      "|6550  |DC Universe    |\n",
      "|6550  |Dario Argento  |\n",
      "+------+---------------+\n",
      "only showing top 50 rows\n",
      "\n"
     ]
    }
   ],
   "source": [
    "distinct_tags_by_user.filter(col('userId') =='6550').orderBy(col('tag')).show(50, False)"
   ]
  },
  {
   "cell_type": "markdown",
   "id": "f9d10706-3eb2-43da-a60d-816ef388ca05",
   "metadata": {},
   "source": [
    "Yeah! I'd say 6550 is some automated tagging mechanism. "
   ]
  },
  {
   "cell_type": "markdown",
   "id": "8d389f6d-735c-4137-b0a1-fe3814554d30",
   "metadata": {},
   "source": [
    "### Which users have tagged the most number of movies?\n",
    "* Like before, can we find out which users have tagged the most # of *distinct* movies? Does this question make sense in the context of users?\n",
    "* *[optional]* Does the ```timestamp``` column have any impact on your report?"
   ]
  },
  {
   "cell_type": "code",
   "execution_count": 32,
   "id": "8fe0881d-5452-42ad-9d76-130341c4f614",
   "metadata": {},
   "outputs": [
    {
     "name": "stdout",
     "output_type": "stream",
     "text": [
      "+------+-----+\n",
      "|userId|count|\n",
      "+------+-----+\n",
      "|  6550|37913|\n",
      "| 62199|10840|\n",
      "| 21096| 7547|\n",
      "| 70092| 7171|\n",
      "| 64333| 2615|\n",
      "| 14116| 2361|\n",
      "| 72360| 2073|\n",
      "|125054| 1712|\n",
      "|131347| 1602|\n",
      "| 34164| 1526|\n",
      "+------+-----+\n",
      "only showing top 10 rows\n",
      "\n"
     ]
    }
   ],
   "source": [
    "# which users have tagged the most number of movies?\n",
    "\n",
    "# approach:\n",
    "# create a df that has only users and movies\n",
    "# this df may have multiple rows for \n",
    "# same userId and movieId as each user has given many tags to each movie \n",
    "# so only pick distinct records.\n",
    "# then use groupBy and count as ususal\n",
    "\n",
    "users_and_movies_in_tags = tags.select('userId', 'movieId').distinct()\n",
    "\n",
    "users_and_movies_in_tags_count = users_and_movies_in_tags.groupBy('userId') \\\n",
    "    .count() \\\n",
    "    .orderBy(col('count').desc())\n",
    "\n",
    "users_and_movies_in_tags_count.show(10)"
   ]
  },
  {
   "cell_type": "code",
   "execution_count": 33,
   "id": "01a02110-c383-4b07-bfc0-ca6967110ba4",
   "metadata": {},
   "outputs": [
    {
     "name": "stdout",
     "output_type": "stream",
     "text": [
      "+-------+-----+\n",
      "|movieId|count|\n",
      "+-------+-----+\n",
      "|   2069|    1|\n",
      "|  85022|    1|\n",
      "|   3959|    1|\n",
      "| 119655|    1|\n",
      "|  26112|    1|\n",
      "|  60336|    1|\n",
      "|   1436|    1|\n",
      "|   3210|    1|\n",
      "|   2904|    1|\n",
      "|  35640|    1|\n",
      "+-------+-----+\n",
      "only showing top 10 rows\n",
      "\n"
     ]
    }
   ],
   "source": [
    "# check: \n",
    "# filter for any one userId, check that all movies occur only once\n",
    "users_and_movies_in_tags.filter(col('userId') == 6550) \\\n",
    "    .groupBy('movieId').count() \\\n",
    "    .orderBy(col('count').desc()) \\\n",
    "    .show(10)"
   ]
  },
  {
   "cell_type": "markdown",
   "id": "49b856f6-7bf5-464c-b0c4-d05ffb567c60",
   "metadata": {},
   "source": [
    "### Tagging activity related analysis\n",
    "\n",
    "* Convert time-stamps to Day-Month-Year.\n",
    "* Find the date range (min-date, max-date) during which the tagging activity took place.\n",
    "* Plot number of movies tagged per day during the date range"
   ]
  },
  {
   "cell_type": "code",
   "execution_count": 34,
   "id": "500f7cd3-7693-4e8f-9976-968d3a1d8045",
   "metadata": {},
   "outputs": [
    {
     "name": "stdout",
     "output_type": "stream",
     "text": [
      "+------+-------+-----------------------+-----------------------+----------+-------------------+------------+\n",
      "|userId|movieId|tag                    |lower tag              |timestamp |datetime           |tagging date|\n",
      "+------+-------+-----------------------+-----------------------+----------+-------------------+------------+\n",
      "|3     |260    |classic                |classic                |1439472355|2015-08-13 18:55:55|2015-08-13  |\n",
      "|3     |260    |sci-fi                 |sci-fi                 |1439472256|2015-08-13 18:54:16|2015-08-13  |\n",
      "|4     |1732   |dark comedy            |dark comedy            |1573943598|2019-11-17 04:03:18|2019-11-17  |\n",
      "|4     |1732   |great dialogue         |great dialogue         |1573943604|2019-11-17 04:03:24|2019-11-17  |\n",
      "|4     |7569   |so bad it's good       |so bad it's good       |1573943455|2019-11-17 04:00:55|2019-11-17  |\n",
      "|4     |44665  |unreliable narrators   |unreliable narrators   |1573943619|2019-11-17 04:03:39|2019-11-17  |\n",
      "|4     |115569 |tense                  |tense                  |1573943077|2019-11-17 03:54:37|2019-11-17  |\n",
      "|4     |115713 |artificial intelligence|artificial intelligence|1573942979|2019-11-17 03:52:59|2019-11-17  |\n",
      "|4     |115713 |philosophical          |philosophical          |1573943033|2019-11-17 03:53:53|2019-11-17  |\n",
      "|4     |115713 |tense                  |tense                  |1573943042|2019-11-17 03:54:02|2019-11-17  |\n",
      "+------+-------+-----------------------+-----------------------+----------+-------------------+------------+\n",
      "only showing top 10 rows\n",
      "\n"
     ]
    }
   ],
   "source": [
    "from pyspark.sql.functions import from_unixtime, to_date\n",
    "\n",
    "# convert unix epoch timestamp to date-time style timestamp\n",
    "tags = tags.withColumn('datetime', from_unixtime(col('timestamp')))\n",
    "# extract date from date-time timestamp\n",
    "tags = tags.withColumn('tagging date', to_date(col('datetime')))\n",
    "tags.show(10, False)"
   ]
  },
  {
   "cell_type": "code",
   "execution_count": 35,
   "id": "a8868fb8-29cd-47ce-bb3e-ee04af737d0b",
   "metadata": {},
   "outputs": [
    {
     "name": "stdout",
     "output_type": "stream",
     "text": [
      "+------------+-----+\n",
      "|tagging date|count|\n",
      "+------------+-----+\n",
      "|2018-06-10  |26871|\n",
      "|2018-05-27  |26644|\n",
      "|2018-05-28  |21775|\n",
      "|2018-05-18  |20808|\n",
      "|2018-05-25  |18488|\n",
      "+------------+-----+\n",
      "only showing top 5 rows\n",
      "\n"
     ]
    }
   ],
   "source": [
    "tagging_activity_by_date = tags.groupBy(col('tagging date')).count()\n",
    "# \n",
    "tagging_activity_by_date.orderBy(col('count').desc()).show(5, False)"
   ]
  },
  {
   "cell_type": "markdown",
   "id": "47727b92-623b-4391-9eb2-f516b2948989",
   "metadata": {},
   "source": [
    "#### date range during which the tagging activity took place\n",
    "\n",
    "* (min-date, max-date) "
   ]
  },
  {
   "cell_type": "code",
   "execution_count": 36,
   "id": "8b489616-5a8e-4d16-8f04-297ed00044c2",
   "metadata": {},
   "outputs": [
    {
     "name": "stdout",
     "output_type": "stream",
     "text": [
      "+-----------------+\n",
      "|min(tagging date)|\n",
      "+-----------------+\n",
      "|       2005-12-24|\n",
      "+-----------------+\n",
      "\n",
      "+-----------------+\n",
      "|max(tagging date)|\n",
      "+-----------------+\n",
      "|       2019-11-21|\n",
      "+-----------------+\n",
      "\n"
     ]
    }
   ],
   "source": [
    "from pyspark.sql.functions import min, max\n",
    "# \n",
    "tagging_min_date = tagging_activity_by_date.select(min(col('tagging date')))\n",
    "tagging_max_date = tagging_activity_by_date.select(max(col('tagging date')))\n",
    "# \n",
    "tagging_min_date.show()\n",
    "tagging_max_date.show()"
   ]
  },
  {
   "cell_type": "code",
   "execution_count": 37,
   "id": "e6c91c63-0ac3-47e9-b330-2950169df90e",
   "metadata": {},
   "outputs": [],
   "source": [
    "# setup matplotlib before starting plotting\n",
    "import matplotlib.pyplot as plt\n",
    "# jupyter mpl magic\n",
    "%matplotlib inline\n",
    "\n",
    "# note: in case you want to use the widget or notebook magic:\n",
    "# ensure that ipympl is also installed.\n",
    "# there may be other steps involved as well \n",
    "# for e.g. widget works based on nodeJS, so you'll have to config/enable that too"
   ]
  },
  {
   "cell_type": "code",
   "execution_count": 38,
   "id": "67d536af-1b0b-4ced-bb25-bf841e12a4a5",
   "metadata": {},
   "outputs": [],
   "source": [
    "# determine the X and Y lists for plotting.\n",
    "# converting a spark dataframe column to list:\n",
    "tagging_activity_x = tagging_activity_by_date \\\n",
    "                        .select(col('tagging date')) \\\n",
    "                        .rdd \\\n",
    "                        .flatMap(lambda x: x) \\\n",
    "                        .collect()\n",
    "\n",
    "tagging_activity_y = tagging_activity_by_date \\\n",
    "                        .select(col('count')) \\\n",
    "                        .rdd \\\n",
    "                        .flatMap(lambda x: x) \\\n",
    "                        .collect()"
   ]
  },
  {
   "cell_type": "code",
   "execution_count": 39,
   "id": "434f5ec0-2203-44bd-9655-8e71ecf44a59",
   "metadata": {},
   "outputs": [
    {
     "data": {
      "image/png": "[encoded data removed]",
      "text/plain": [
       "<Figure size 1296x720 with 1 Axes>"
      ]
     },
     "metadata": {
      "needs_background": "light"
     },
     "output_type": "display_data"
    }
   ],
   "source": [
    "plt.figure(figsize=(18,10))\n",
    "plt.bar(tagging_activity_x,tagging_activity_y)\n",
    "plt.title('count of tags by date')\n",
    "plt.xlabel('date')\n",
    "plt.ylabel('count')\n",
    "plt.show()"
   ]
  },
  {
   "cell_type": "markdown",
   "id": "3584bda4-ee84-4877-91dd-b27a31af12fe",
   "metadata": {},
   "source": [
    "Seems like the activity peaked extraordinarily around May/June 2018"
   ]
  },
  {
   "cell_type": "markdown",
   "id": "d3e6b7a2-268a-49ce-b8d3-574ed8458a58",
   "metadata": {},
   "source": [
    "### Daily active users during the tagging activity.\n",
    "\n",
    "* Plot number of users who tagged at least one movie during the tagging activity date range"
   ]
  },
  {
   "cell_type": "code",
   "execution_count": 40,
   "id": "4f81b26b-1408-42f8-be40-995548a8c1f9",
   "metadata": {},
   "outputs": [
    {
     "name": "stdout",
     "output_type": "stream",
     "text": [
      "+------------+-----+\n",
      "|tagging date|count|\n",
      "+------------+-----+\n",
      "|  2015-08-17|  180|\n",
      "|  2018-05-06|   87|\n",
      "|  2018-05-05|   78|\n",
      "|  2018-05-07|   71|\n",
      "|  2015-07-27|   64|\n",
      "+------------+-----+\n",
      "only showing top 5 rows\n",
      "\n"
     ]
    }
   ],
   "source": [
    "distinct_users_doing_tagging_by_date = tags.select('userId', 'tagging date') \\\n",
    "    .distinct() \\\n",
    "    .groupBy('tagging date') \\\n",
    "    .count()\n",
    "# \n",
    "distinct_users_doing_tagging_by_date.orderBy(col('count').desc()).show(5)"
   ]
  },
  {
   "cell_type": "code",
   "execution_count": 41,
   "id": "f25b0cec-aaa7-46aa-8f6d-5c9157b03a73",
   "metadata": {},
   "outputs": [],
   "source": [
    "# like before, we need to determine X and Y lists.\n",
    "\n",
    "distinct_users_doing_tagging_by_date_x = distinct_users_doing_tagging_by_date \\\n",
    "                                        .select(col('tagging date')) \\\n",
    "                                        .rdd \\\n",
    "                                        .flatMap(lambda x: x) \\\n",
    "                                        .collect()\n",
    "\n",
    "distinct_users_doing_tagging_by_date_y = distinct_users_doing_tagging_by_date \\\n",
    "                                        .select(col('count')) \\\n",
    "                                        .rdd \\\n",
    "                                        .flatMap(lambda x: x) \\\n",
    "                                        .collect()"
   ]
  },
  {
   "cell_type": "code",
   "execution_count": 42,
   "id": "4bba9052-f815-4a33-bf37-8e8fc7bfb8e5",
   "metadata": {},
   "outputs": [
    {
     "data": {
      "image/png": "[encoded data removed]",
      "text/plain": [
       "<Figure size 1296x360 with 1 Axes>"
      ]
     },
     "metadata": {
      "needs_background": "light"
     },
     "output_type": "display_data"
    }
   ],
   "source": [
    "plt.figure(figsize=(18,5))\n",
    "plt.bar(distinct_users_doing_tagging_by_date_x,distinct_users_doing_tagging_by_date_y)\n",
    "plt.title('Active users by date')\n",
    "plt.xlabel('date')\n",
    "plt.ylabel('count')\n",
    "plt.show()"
   ]
  },
  {
   "cell_type": "markdown",
   "id": "f9959e65-6276-4156-a866-5ad1ed8011e6",
   "metadata": {},
   "source": [
    "Seems like while there were peaks and troughs, but visually, we don't see too much variation in the daily active users"
   ]
  },
  {
   "cell_type": "markdown",
   "id": "dcfaf432-5732-4e81-831a-e03bf6531b25",
   "metadata": {},
   "source": [
    "# Problem Set 2  - ```movies.csv```\n",
    "\n",
    "1. How many unique movies exist in the ```movies.csv``` dataset?  \n",
    "\n",
    "1. Extract the year of release in movies.csv into a new column year_of_release  \n",
    "\n",
    "1. Prepare a yearwise list of movies - list all the movies released in 1995, then 1996 and so on...   \n",
    "\n",
    "1. List all unique genres found in ```movies.csv```, ordered lexically, case insensitive  \n",
    "\n",
    "1. Prepare a genere wise list of movies - list all the movies for 'Crime', for 'Romance', and so on...\n",
    "\n",
    "1. Add another column num_genres and list total number of genres associated with each film  \n",
    "\n",
    "1. Find number of films associated with each genre - absolute_frequency_of_genre  \n",
    "\n",
    "1. Find out if a movie has both genres associated with it and also has ```(no genres listed)``` - if this is the case, find out how many such movies exist in the data set\n",
    "\n",
    "*[think]*: Is there a 'variety' metric? sum of absolute frequencies divided by total absolute frequency?\n"
   ]
  },
  {
   "cell_type": "markdown",
   "id": "5bea67d1-adfc-4f8d-b199-c1c65e43116f",
   "metadata": {},
   "source": [
    "## Solutions to Problem Set 2"
   ]
  },
  {
   "cell_type": "markdown",
   "id": "970c3af6-a4ae-4fdb-8819-8cc619fb8c7e",
   "metadata": {},
   "source": [
    "### How many unique movies exist in the movies.csv dataset?"
   ]
  },
  {
   "cell_type": "code",
   "execution_count": null,
   "id": "3e27051f-e4c7-4f06-8a9e-a53b280e820c",
   "metadata": {},
   "outputs": [],
   "source": []
  },
  {
   "cell_type": "code",
   "execution_count": null,
   "id": "c4fe1090-d473-42a7-ad58-1df3194b6169",
   "metadata": {},
   "outputs": [],
   "source": []
  },
  {
   "cell_type": "code",
   "execution_count": null,
   "id": "be31309a-b71f-4b5e-8949-b29294d19125",
   "metadata": {},
   "outputs": [],
   "source": []
  },
  {
   "cell_type": "code",
   "execution_count": 43,
   "id": "d33f5808-8759-4429-a4ce-1cc41ea24496",
   "metadata": {},
   "outputs": [],
   "source": [
    "from pyspark.sql.functions import explode\n",
    "from pyspark.sql.functions import split"
   ]
  },
  {
   "cell_type": "code",
   "execution_count": 44,
   "id": "be87b35e-96ba-46aa-b70a-c9a7a826fdf2",
   "metadata": {},
   "outputs": [],
   "source": [
    "# unique genres found in movies.csv\n",
    "movie_genres = movies_raw.select(\n",
    "    explode( # convert each element in an array to a new row\n",
    "        split( # split the data on pipe and create an arry\n",
    "            movies_raw.genres, \"\\|\"\n",
    "        )\n",
    "    ).alias('genre')\n",
    ")"
   ]
  },
  {
   "cell_type": "code",
   "execution_count": 45,
   "id": "67b05d22-ea0c-4485-b0de-2abd30d25470",
   "metadata": {},
   "outputs": [
    {
     "name": "stdout",
     "output_type": "stream",
     "text": [
      "+------------------+-----+\n",
      "|             genre|count|\n",
      "+------------------+-----+\n",
      "|             Drama|25606|\n",
      "|            Comedy|16870|\n",
      "|          Thriller| 8654|\n",
      "|           Romance| 7719|\n",
      "|            Action| 7348|\n",
      "|            Horror| 5989|\n",
      "|       Documentary| 5605|\n",
      "|             Crime| 5319|\n",
      "|(no genres listed)| 5062|\n",
      "|         Adventure| 4145|\n",
      "|            Sci-Fi| 3595|\n",
      "|          Children| 2935|\n",
      "|         Animation| 2929|\n",
      "|           Mystery| 2925|\n",
      "|           Fantasy| 2731|\n",
      "|               War| 1874|\n",
      "|           Western| 1399|\n",
      "|           Musical| 1054|\n",
      "|         Film-Noir|  353|\n",
      "|              IMAX|  195|\n",
      "+------------------+-----+\n",
      "\n"
     ]
    }
   ],
   "source": [
    "genre_freq = movie_genres.groupBy('genre').count()\n",
    "genre_freq.orderBy(col('count').desc()).show()\n",
    "# TODO: rename the column 'count' to 'freq'"
   ]
  },
  {
   "cell_type": "code",
   "execution_count": 46,
   "id": "32c6bc62-a515-4083-8108-92e5175c67d8",
   "metadata": {},
   "outputs": [],
   "source": [
    "# spark.stop()"
   ]
  },
  {
   "cell_type": "code",
   "execution_count": null,
   "id": "58d0d6a7-8f84-4ad5-a2e7-0a7d0e01cf9b",
   "metadata": {},
   "outputs": [],
   "source": []
  },
  {
   "cell_type": "code",
   "execution_count": null,
   "id": "cbb0df32-7948-4941-83bf-94d0163fbc4b",
   "metadata": {},
   "outputs": [],
   "source": []
  },
  {
   "cell_type": "code",
   "execution_count": null,
   "id": "d4e84ebf-4fa1-49c4-a793-6b48fde3981c",
   "metadata": {},
   "outputs": [],
   "source": []
  },
  {
   "cell_type": "code",
   "execution_count": null,
   "id": "c8279663-b503-492a-b5e6-269386950449",
   "metadata": {},
   "outputs": [],
   "source": []
  },
  {
   "cell_type": "code",
   "execution_count": null,
   "id": "52f8d491-871a-441e-b9b1-85d2d0ca9da2",
   "metadata": {},
   "outputs": [],
   "source": []
  },
  {
   "cell_type": "code",
   "execution_count": null,
   "id": "8cc2e622-5303-4c16-8d98-272afb2f5691",
   "metadata": {},
   "outputs": [],
   "source": []
  },
  {
   "cell_type": "code",
   "execution_count": null,
   "id": "884f3c87-7d8d-40d1-8339-d859405ddf4a",
   "metadata": {},
   "outputs": [],
   "source": []
  },
  {
   "cell_type": "code",
   "execution_count": null,
   "id": "44d44e10-211e-44aa-a00b-e659a6643fce",
   "metadata": {},
   "outputs": [],
   "source": []
  },
  {
   "cell_type": "markdown",
   "id": "d473ea26-cece-42e2-9174-0bc0554bfe1a",
   "metadata": {},
   "source": [
    "# Problem Set 3  - ```ratings.csv```\n",
    "\n",
    "1. Find number of films for each rating, so number of films that have at least one rating of 1, number of films that have at least one rating of 2 and so on...  \n",
    "\n",
    "1. List user-IDs in order of number of films they have rated, descending.  \n",
    "\n",
    "1. Are there users who have given multiple ratings to the same film?  "
   ]
  },
  {
   "cell_type": "markdown",
   "id": "a83be239-bb2f-46f5-8665-556a10251f61",
   "metadata": {},
   "source": [
    "# Problem Set 4  - mixing things up, ```movies + ratings```\n",
    "\n",
    "1. Prepare a list of highly rated movies, present this list by year of release and sorted in alphabetical order by movie title.  \n",
    "    * \"Highly Rated\" = movies with atleast 3 instances where users have rated the film a 4 or a 5\n",
    "    * Expected Columns in the output: ```year of release, movie title, # of 4s, # of 5s```  \n",
    "    \n",
    "1. Another approach to 'highly rated', prepare a list of 'highly rated' movies\n",
    "    * \"Highly Rated\" = sum of 4 and 5 ratings is the highest across all years\n",
    "    * Sort this list by year of release\n",
    "\n",
    "1. Which genres have recieved the highest number of ratings?\n",
    "\n",
    "1. Prepare an ```avg_rating``` column for the movies dataframe where you add the average rating that movie has recieved rounded to 2 places of decimal\n",
    "    * If the movie has recieved no rating, add 0\n",
    "\n",
    "1. Prepare a ```rating_freq``` column for the movies dataframe where you add the number of times the movie recieved a rating\n",
    "    * If the movie did not recieve any rating, put in 0\n",
    "    \n",
    "1. Prepare a ```rating_freq_user``` column for the movied dataframe where you add the number of unique users who rated the film\n",
    "    * If no one rated the film, put in 0\n",
    "    \n",
    "1. How many films where the ```rating_freq differs``` from ```rating_freq_user```? Does this match the analysis we did for ```ratings.csv```?\n",
    "\n",
    "1. *[think]* Can we find \"Late Bloomers\" or \"Cult Films\"? \n",
    "    * Films that were not highly rated during the year of release or were not well rated initially,but their ratings improve over time. \n",
    "    * How can we rank these in descending order of \"Cult Status\"?\n"
   ]
  },
  {
   "cell_type": "markdown",
   "id": "847d6c7a-b0f4-4d9b-bdda-fb7e8b74837f",
   "metadata": {},
   "source": [
    "# Problem Set 5 - Including the Tag Genome\n",
    "\n",
    "1. Cross-check tags from the tag genome, insert tag_genome_id and relevance score, save file as tags_with_relevance.csv  \n",
    "    * columns: ```movieId, tagId, tag, relevance```\n",
    "    * this data structure would be massive as tag values would get repeated\n",
    "    * [todo]: let's reconsider this question\n"
   ]
  },
  {
   "cell_type": "markdown",
   "id": "0fadf874-87d3-4925-b78e-ebb6ca60e3e2",
   "metadata": {},
   "source": [
    "# Problem Set 6 - Writing your Outputs\n",
    "\n",
    "1. Persist the new movies dataframe with the added ```avg_rating, rating_freq, rating_freq_user``` columns."
   ]
  },
  {
   "cell_type": "markdown",
   "id": "cae0cc87-737f-45e0-8dad-0ee253799a87",
   "metadata": {},
   "source": [
    "# Problem Set 7  - Bonus!\n",
    "\n",
    "\n",
    "1. Just fun on string operations: Prepare a list of movies that have atleast two vowels except 'e' - sort the list by month and year of video release.  \n",
    "   * Expected Columns in the output: ```year of video release, month of video release, movie title, # of vowels that are not e```  "
   ]
  },
  {
   "cell_type": "code",
   "execution_count": null,
   "id": "0041b641-5441-40e1-b467-24d12be67aea",
   "metadata": {},
   "outputs": [],
   "source": []
  },
  {
   "cell_type": "code",
   "execution_count": null,
   "id": "f97794a7",
   "metadata": {},
   "outputs": [],
   "source": []
  },
  {
   "cell_type": "code",
   "execution_count": null,
   "id": "0fb7616c",
   "metadata": {},
   "outputs": [],
   "source": []
  },
  {
   "cell_type": "code",
   "execution_count": null,
   "id": "c857c623",
   "metadata": {},
   "outputs": [],
   "source": []
  }
 ],
 "metadata": {
  "kernelspec": {
   "display_name": "Python 3 (ipykernel)",
   "language": "python",
   "name": "python3"
  },
  "language_info": {
   "codemirror_mode": {
    "name": "ipython",
    "version": 3
   },
   "file_extension": ".py",
   "mimetype": "text/x-python",
   "name": "python",
   "nbconvert_exporter": "python",
   "pygments_lexer": "ipython3",
   "version": "3.9.13"
  },
  "toc-autonumbering": true,
  "toc-showcode": false
 },
 "nbformat": 4,
 "nbformat_minor": 5
}
