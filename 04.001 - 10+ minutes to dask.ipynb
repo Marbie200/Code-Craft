{
 "cells": [
  {
   "cell_type": "markdown",
   "id": "a5954332-33e8-4827-a331-767726ed5858",
   "metadata": {},
   "source": [
    "# 10+ Minutes to Dask"
   ]
  },
  {
   "cell_type": "markdown",
   "id": "0272a8dc-ed02-4643-9807-07049c51982b",
   "metadata": {},
   "source": [
    "<a href=\"https://colab.research.google.com/github/shauryashaurya/learn-data-munging/blob/main/03.001%20-%2010%2B%20minutes%20to%20dask.ipynb\" target=\"_parent\"><img src=\"https://colab.research.google.com/assets/colab-badge.svg\" alt=\"Open In Colab\"/></a>"
   ]
  },
  {
   "cell_type": "code",
   "execution_count": 2,
   "id": "4f0d32b7-7183-43ca-b500-d90ec821b046",
   "metadata": {},
   "outputs": [],
   "source": [
    "import numpy as np\n",
    "import pandas as pd\n",
    "import dask\n",
    "import dask.dataframe as dd\n",
    "import dask.array as da\n",
    "import dask.bag as db"
   ]
  },
  {
   "cell_type": "markdown",
   "id": "1082dbfc-d920-45ce-a927-8ca10c18d06c",
   "metadata": {},
   "source": [
    "# Dask Objects"
   ]
  },
  {
   "cell_type": "markdown",
   "id": "645ce091-0453-43b2-a667-1f60a50a0da4",
   "metadata": {},
   "source": [
    "## Dask DataFrames"
   ]
  },
  {
   "cell_type": "markdown",
   "id": "1aa5af05-5f93-4761-9134-dc120a009987",
   "metadata": {},
   "source": [
    "Dask Dataframes coordinate many Pandas dataframes, partitioned along an index.  \n",
    "Support a subset of the Pandas API.  \n"
   ]
  },
  {
   "cell_type": "code",
   "execution_count": 3,
   "id": "11d4b4d9-bdcc-4b6f-9897-3aed4a7efd05",
   "metadata": {},
   "outputs": [],
   "source": [
    "# dask dataframe\n",
    "# from pandas\n",
    "idx = pd.date_range(\"2023-05-06\", periods = 1000, freq=\"1H\")"
   ]
  },
  {
   "cell_type": "code",
   "execution_count": 4,
   "id": "7e69dd9e-b988-48a3-9b9c-7a8c9c70f614",
   "metadata": {},
   "outputs": [
    {
     "data": {
      "text/plain": [
       "DatetimeIndex(['2023-05-06 00:00:00', '2023-05-06 01:00:00',\n",
       "               '2023-05-06 02:00:00', '2023-05-06 03:00:00',\n",
       "               '2023-05-06 04:00:00', '2023-05-06 05:00:00',\n",
       "               '2023-05-06 06:00:00', '2023-05-06 07:00:00',\n",
       "               '2023-05-06 08:00:00', '2023-05-06 09:00:00',\n",
       "               ...\n",
       "               '2023-06-16 06:00:00', '2023-06-16 07:00:00',\n",
       "               '2023-06-16 08:00:00', '2023-06-16 09:00:00',\n",
       "               '2023-06-16 10:00:00', '2023-06-16 11:00:00',\n",
       "               '2023-06-16 12:00:00', '2023-06-16 13:00:00',\n",
       "               '2023-06-16 14:00:00', '2023-06-16 15:00:00'],\n",
       "              dtype='datetime64[ns]', length=1000, freq='H')"
      ]
     },
     "execution_count": 4,
     "metadata": {},
     "output_type": "execute_result"
    }
   ],
   "source": [
    "idx"
   ]
  },
  {
   "cell_type": "code",
   "execution_count": 5,
   "id": "6106c02d-eb7f-4b27-bf5a-1aac593c0918",
   "metadata": {},
   "outputs": [],
   "source": [
    "pd_df = pd.DataFrame({\"a\": np.arange(1000), \"b\": list(\"abcd\"*250)}, index = idx)"
   ]
  },
  {
   "cell_type": "code",
   "execution_count": 6,
   "id": "512ea774-30cf-4ad4-a6fa-c80e1cc1f8fa",
   "metadata": {},
   "outputs": [
    {
     "data": {
      "text/html": [
       "<div>\n",
       "<style scoped>\n",
       "    .dataframe tbody tr th:only-of-type {\n",
       "        vertical-align: middle;\n",
       "    }\n",
       "\n",
       "    .dataframe tbody tr th {\n",
       "        vertical-align: top;\n",
       "    }\n",
       "\n",
       "    .dataframe thead th {\n",
       "        text-align: right;\n",
       "    }\n",
       "</style>\n",
       "<table border=\"1\" class=\"dataframe\">\n",
       "  <thead>\n",
       "    <tr style=\"text-align: right;\">\n",
       "      <th></th>\n",
       "      <th>a</th>\n",
       "      <th>b</th>\n",
       "    </tr>\n",
       "  </thead>\n",
       "  <tbody>\n",
       "    <tr>\n",
       "      <th>2023-05-06 00:00:00</th>\n",
       "      <td>0</td>\n",
       "      <td>a</td>\n",
       "    </tr>\n",
       "    <tr>\n",
       "      <th>2023-05-06 01:00:00</th>\n",
       "      <td>1</td>\n",
       "      <td>b</td>\n",
       "    </tr>\n",
       "    <tr>\n",
       "      <th>2023-05-06 02:00:00</th>\n",
       "      <td>2</td>\n",
       "      <td>c</td>\n",
       "    </tr>\n",
       "    <tr>\n",
       "      <th>2023-05-06 03:00:00</th>\n",
       "      <td>3</td>\n",
       "      <td>d</td>\n",
       "    </tr>\n",
       "    <tr>\n",
       "      <th>2023-05-06 04:00:00</th>\n",
       "      <td>4</td>\n",
       "      <td>a</td>\n",
       "    </tr>\n",
       "    <tr>\n",
       "      <th>...</th>\n",
       "      <td>...</td>\n",
       "      <td>...</td>\n",
       "    </tr>\n",
       "    <tr>\n",
       "      <th>2023-06-16 11:00:00</th>\n",
       "      <td>995</td>\n",
       "      <td>d</td>\n",
       "    </tr>\n",
       "    <tr>\n",
       "      <th>2023-06-16 12:00:00</th>\n",
       "      <td>996</td>\n",
       "      <td>a</td>\n",
       "    </tr>\n",
       "    <tr>\n",
       "      <th>2023-06-16 13:00:00</th>\n",
       "      <td>997</td>\n",
       "      <td>b</td>\n",
       "    </tr>\n",
       "    <tr>\n",
       "      <th>2023-06-16 14:00:00</th>\n",
       "      <td>998</td>\n",
       "      <td>c</td>\n",
       "    </tr>\n",
       "    <tr>\n",
       "      <th>2023-06-16 15:00:00</th>\n",
       "      <td>999</td>\n",
       "      <td>d</td>\n",
       "    </tr>\n",
       "  </tbody>\n",
       "</table>\n",
       "<p>1000 rows × 2 columns</p>\n",
       "</div>"
      ],
      "text/plain": [
       "                       a  b\n",
       "2023-05-06 00:00:00    0  a\n",
       "2023-05-06 01:00:00    1  b\n",
       "2023-05-06 02:00:00    2  c\n",
       "2023-05-06 03:00:00    3  d\n",
       "2023-05-06 04:00:00    4  a\n",
       "...                  ... ..\n",
       "2023-06-16 11:00:00  995  d\n",
       "2023-06-16 12:00:00  996  a\n",
       "2023-06-16 13:00:00  997  b\n",
       "2023-06-16 14:00:00  998  c\n",
       "2023-06-16 15:00:00  999  d\n",
       "\n",
       "[1000 rows x 2 columns]"
      ]
     },
     "execution_count": 6,
     "metadata": {},
     "output_type": "execute_result"
    }
   ],
   "source": [
    "pd_df"
   ]
  },
  {
   "cell_type": "code",
   "execution_count": 7,
   "id": "c48b6f0b-d9fc-43e7-ab3c-1381a23ba939",
   "metadata": {},
   "outputs": [],
   "source": [
    "dask_df = dd.from_pandas(pd_df, npartitions=10)"
   ]
  },
  {
   "cell_type": "code",
   "execution_count": 8,
   "id": "e691868b-c86c-47ce-9e50-5cc78abe5342",
   "metadata": {},
   "outputs": [
    {
     "data": {
      "text/html": [
       "<div><strong>Dask DataFrame Structure:</strong></div>\n",
       "<div>\n",
       "<style scoped>\n",
       "    .dataframe tbody tr th:only-of-type {\n",
       "        vertical-align: middle;\n",
       "    }\n",
       "\n",
       "    .dataframe tbody tr th {\n",
       "        vertical-align: top;\n",
       "    }\n",
       "\n",
       "    .dataframe thead th {\n",
       "        text-align: right;\n",
       "    }\n",
       "</style>\n",
       "<table border=\"1\" class=\"dataframe\">\n",
       "  <thead>\n",
       "    <tr style=\"text-align: right;\">\n",
       "      <th></th>\n",
       "      <th>a</th>\n",
       "      <th>b</th>\n",
       "    </tr>\n",
       "    <tr>\n",
       "      <th>npartitions=10</th>\n",
       "      <th></th>\n",
       "      <th></th>\n",
       "    </tr>\n",
       "  </thead>\n",
       "  <tbody>\n",
       "    <tr>\n",
       "      <th>2023-05-06 00:00:00</th>\n",
       "      <td>int32</td>\n",
       "      <td>object</td>\n",
       "    </tr>\n",
       "    <tr>\n",
       "      <th>2023-05-10 04:00:00</th>\n",
       "      <td>...</td>\n",
       "      <td>...</td>\n",
       "    </tr>\n",
       "    <tr>\n",
       "      <th>...</th>\n",
       "      <td>...</td>\n",
       "      <td>...</td>\n",
       "    </tr>\n",
       "    <tr>\n",
       "      <th>2023-06-12 12:00:00</th>\n",
       "      <td>...</td>\n",
       "      <td>...</td>\n",
       "    </tr>\n",
       "    <tr>\n",
       "      <th>2023-06-16 15:00:00</th>\n",
       "      <td>...</td>\n",
       "      <td>...</td>\n",
       "    </tr>\n",
       "  </tbody>\n",
       "</table>\n",
       "</div>\n",
       "<div>Dask Name: from_pandas, 1 graph layer</div>"
      ],
      "text/plain": [
       "Dask DataFrame Structure:\n",
       "                         a       b\n",
       "npartitions=10                    \n",
       "2023-05-06 00:00:00  int32  object\n",
       "2023-05-10 04:00:00    ...     ...\n",
       "...                    ...     ...\n",
       "2023-06-12 12:00:00    ...     ...\n",
       "2023-06-16 15:00:00    ...     ...\n",
       "Dask Name: from_pandas, 1 graph layer"
      ]
     },
     "execution_count": 8,
     "metadata": {},
     "output_type": "execute_result"
    }
   ],
   "source": [
    "dask_df"
   ]
  },
  {
   "cell_type": "code",
   "execution_count": 9,
   "id": "fa17da7b-1d41-479e-8da8-d9742ab80b5e",
   "metadata": {},
   "outputs": [
    {
     "data": {
      "text/plain": [
       "(Timestamp('2023-05-06 00:00:00'),\n",
       " Timestamp('2023-05-10 04:00:00'),\n",
       " Timestamp('2023-05-14 08:00:00'),\n",
       " Timestamp('2023-05-18 12:00:00'),\n",
       " Timestamp('2023-05-22 16:00:00'),\n",
       " Timestamp('2023-05-26 20:00:00'),\n",
       " Timestamp('2023-05-31 00:00:00'),\n",
       " Timestamp('2023-06-04 04:00:00'),\n",
       " Timestamp('2023-06-08 08:00:00'),\n",
       " Timestamp('2023-06-12 12:00:00'),\n",
       " Timestamp('2023-06-16 15:00:00'))"
      ]
     },
     "execution_count": 9,
     "metadata": {},
     "output_type": "execute_result"
    }
   ],
   "source": [
    "dask_df.divisions"
   ]
  },
  {
   "cell_type": "code",
   "execution_count": 10,
   "id": "c31cf321-74a8-4d08-ba53-9bbedb692372",
   "metadata": {},
   "outputs": [
    {
     "data": {
      "text/html": [
       "<div><strong>Dask DataFrame Structure:</strong></div>\n",
       "<div>\n",
       "<style scoped>\n",
       "    .dataframe tbody tr th:only-of-type {\n",
       "        vertical-align: middle;\n",
       "    }\n",
       "\n",
       "    .dataframe tbody tr th {\n",
       "        vertical-align: top;\n",
       "    }\n",
       "\n",
       "    .dataframe thead th {\n",
       "        text-align: right;\n",
       "    }\n",
       "</style>\n",
       "<table border=\"1\" class=\"dataframe\">\n",
       "  <thead>\n",
       "    <tr style=\"text-align: right;\">\n",
       "      <th></th>\n",
       "      <th>a</th>\n",
       "      <th>b</th>\n",
       "    </tr>\n",
       "    <tr>\n",
       "      <th>npartitions=1</th>\n",
       "      <th></th>\n",
       "      <th></th>\n",
       "    </tr>\n",
       "  </thead>\n",
       "  <tbody>\n",
       "    <tr>\n",
       "      <th>2023-05-10 04:00:00</th>\n",
       "      <td>int32</td>\n",
       "      <td>object</td>\n",
       "    </tr>\n",
       "    <tr>\n",
       "      <th>2023-05-14 08:00:00</th>\n",
       "      <td>...</td>\n",
       "      <td>...</td>\n",
       "    </tr>\n",
       "  </tbody>\n",
       "</table>\n",
       "</div>\n",
       "<div>Dask Name: blocks, 2 graph layers</div>"
      ],
      "text/plain": [
       "Dask DataFrame Structure:\n",
       "                         a       b\n",
       "npartitions=1                     \n",
       "2023-05-10 04:00:00  int32  object\n",
       "2023-05-14 08:00:00    ...     ...\n",
       "Dask Name: blocks, 2 graph layers"
      ]
     },
     "execution_count": 10,
     "metadata": {},
     "output_type": "execute_result"
    }
   ],
   "source": [
    "dask_df.partitions[1]"
   ]
  },
  {
   "cell_type": "code",
   "execution_count": 11,
   "id": "b60f6f7d-63ac-4fa3-9244-31a43f75e5cf",
   "metadata": {},
   "outputs": [
    {
     "data": {
      "text/plain": [
       "a     int32\n",
       "b    object\n",
       "dtype: object"
      ]
     },
     "execution_count": 11,
     "metadata": {},
     "output_type": "execute_result"
    }
   ],
   "source": [
    "# data types of each of the columns\n",
    "dask_df.dtypes"
   ]
  },
  {
   "cell_type": "markdown",
   "id": "a9a7e8c8-9e22-467a-aa82-03091cc7f8a7",
   "metadata": {},
   "source": [
    "We can do regular Pandas stuff with Dask Dataframes now..."
   ]
  },
  {
   "cell_type": "code",
   "execution_count": 12,
   "id": "d1263b71-dde2-409d-a74a-18fee6d32f03",
   "metadata": {},
   "outputs": [],
   "source": [
    "# get a subset based on index (date-time)\n",
    "dask_df2 = dask_df.loc[idx[0:100]]"
   ]
  },
  {
   "cell_type": "code",
   "execution_count": 13,
   "id": "aedfccfb-0dc2-4c0b-bb35-bbd7e872c996",
   "metadata": {},
   "outputs": [
    {
     "data": {
      "text/html": [
       "<div><strong>Dask DataFrame Structure:</strong></div>\n",
       "<div>\n",
       "<style scoped>\n",
       "    .dataframe tbody tr th:only-of-type {\n",
       "        vertical-align: middle;\n",
       "    }\n",
       "\n",
       "    .dataframe tbody tr th {\n",
       "        vertical-align: top;\n",
       "    }\n",
       "\n",
       "    .dataframe thead th {\n",
       "        text-align: right;\n",
       "    }\n",
       "</style>\n",
       "<table border=\"1\" class=\"dataframe\">\n",
       "  <thead>\n",
       "    <tr style=\"text-align: right;\">\n",
       "      <th></th>\n",
       "      <th>a</th>\n",
       "      <th>b</th>\n",
       "    </tr>\n",
       "    <tr>\n",
       "      <th>npartitions=1</th>\n",
       "      <th></th>\n",
       "      <th></th>\n",
       "    </tr>\n",
       "  </thead>\n",
       "  <tbody>\n",
       "    <tr>\n",
       "      <th>2023-05-06 00:00:00</th>\n",
       "      <td>int32</td>\n",
       "      <td>object</td>\n",
       "    </tr>\n",
       "    <tr>\n",
       "      <th>2023-05-10 03:00:00</th>\n",
       "      <td>...</td>\n",
       "      <td>...</td>\n",
       "    </tr>\n",
       "  </tbody>\n",
       "</table>\n",
       "</div>\n",
       "<div>Dask Name: loc, 2 graph layers</div>"
      ],
      "text/plain": [
       "Dask DataFrame Structure:\n",
       "                         a       b\n",
       "npartitions=1                     \n",
       "2023-05-06 00:00:00  int32  object\n",
       "2023-05-10 03:00:00    ...     ...\n",
       "Dask Name: loc, 2 graph layers"
      ]
     },
     "execution_count": 13,
     "metadata": {},
     "output_type": "execute_result"
    }
   ],
   "source": [
    "dask_df2"
   ]
  },
  {
   "cell_type": "code",
   "execution_count": 14,
   "id": "dc4e806e-a0d9-457c-8597-703787e2afa6",
   "metadata": {},
   "outputs": [],
   "source": [
    "# perform analysis on the subset\n",
    "dask_df2_grpby_count = dask_df2.groupby(\"b\").count()"
   ]
  },
  {
   "cell_type": "code",
   "execution_count": 15,
   "id": "ab593287-fc3d-4b2c-b47c-4e5d67fa9d63",
   "metadata": {},
   "outputs": [
    {
     "data": {
      "text/html": [
       "<div>\n",
       "<style scoped>\n",
       "    .dataframe tbody tr th:only-of-type {\n",
       "        vertical-align: middle;\n",
       "    }\n",
       "\n",
       "    .dataframe tbody tr th {\n",
       "        vertical-align: top;\n",
       "    }\n",
       "\n",
       "    .dataframe thead th {\n",
       "        text-align: right;\n",
       "    }\n",
       "</style>\n",
       "<table border=\"1\" class=\"dataframe\">\n",
       "  <thead>\n",
       "    <tr style=\"text-align: right;\">\n",
       "      <th></th>\n",
       "      <th>a</th>\n",
       "    </tr>\n",
       "    <tr>\n",
       "      <th>b</th>\n",
       "      <th></th>\n",
       "    </tr>\n",
       "  </thead>\n",
       "  <tbody>\n",
       "    <tr>\n",
       "      <th>a</th>\n",
       "      <td>25</td>\n",
       "    </tr>\n",
       "    <tr>\n",
       "      <th>b</th>\n",
       "      <td>25</td>\n",
       "    </tr>\n",
       "    <tr>\n",
       "      <th>c</th>\n",
       "      <td>25</td>\n",
       "    </tr>\n",
       "    <tr>\n",
       "      <th>d</th>\n",
       "      <td>25</td>\n",
       "    </tr>\n",
       "  </tbody>\n",
       "</table>\n",
       "</div>"
      ],
      "text/plain": [
       "    a\n",
       "b    \n",
       "a  25\n",
       "b  25\n",
       "c  25\n",
       "d  25"
      ]
     },
     "execution_count": 15,
     "metadata": {},
     "output_type": "execute_result"
    }
   ],
   "source": [
    "# Dask evaluates lazy\n",
    "# nothing happens untill we call .compute()\n",
    "dask_df2_grpby_count.compute()"
   ]
  },
  {
   "cell_type": "markdown",
   "id": "12cdd36e-0ce5-454a-bf1f-2c991079add9",
   "metadata": {},
   "source": [
    "## Dask Arrays"
   ]
  },
  {
   "cell_type": "markdown",
   "id": "b51befe5-212d-4d1f-8461-425489b3c2d3",
   "metadata": {},
   "source": [
    "Dask arrays coordinate many Numpy arrays, arranged into chunks within a grid.  \n",
    "Dask arrays support a subset of Numpy API."
   ]
  },
  {
   "cell_type": "code",
   "execution_count": 16,
   "id": "c7e79481-a71f-451d-94c6-8bd8c9c05a7b",
   "metadata": {},
   "outputs": [],
   "source": [
    "np_array = np.arange(100000).reshape(200,500)"
   ]
  },
  {
   "cell_type": "code",
   "execution_count": 17,
   "id": "1984fa85-2be0-46d5-9a82-e3bfd00f5c7d",
   "metadata": {},
   "outputs": [],
   "source": [
    "dask_array = da.from_array(np_array, chunks = (100,100))"
   ]
  },
  {
   "cell_type": "code",
   "execution_count": 18,
   "id": "f0df6ff3-2f39-467d-8c29-08904fb767c1",
   "metadata": {},
   "outputs": [
    {
     "data": {
      "text/html": [
       "<table>\n",
       "    <tr>\n",
       "        <td>\n",
       "            <table style=\"border-collapse: collapse;\">\n",
       "                <thead>\n",
       "                    <tr>\n",
       "                        <td> </td>\n",
       "                        <th> Array </th>\n",
       "                        <th> Chunk </th>\n",
       "                    </tr>\n",
       "                </thead>\n",
       "                <tbody>\n",
       "                    \n",
       "                    <tr>\n",
       "                        <th> Bytes </th>\n",
       "                        <td> 390.62 kiB </td>\n",
       "                        <td> 39.06 kiB </td>\n",
       "                    </tr>\n",
       "                    \n",
       "                    <tr>\n",
       "                        <th> Shape </th>\n",
       "                        <td> (200, 500) </td>\n",
       "                        <td> (100, 100) </td>\n",
       "                    </tr>\n",
       "                    <tr>\n",
       "                        <th> Dask graph </th>\n",
       "                        <td colspan=\"2\"> 10 chunks in 1 graph layer </td>\n",
       "                    </tr>\n",
       "                    <tr>\n",
       "                        <th> Data type </th>\n",
       "                        <td colspan=\"2\"> int32 numpy.ndarray </td>\n",
       "                    </tr>\n",
       "                </tbody>\n",
       "            </table>\n",
       "        </td>\n",
       "        <td>\n",
       "        <svg width=\"170\" height=\"98\" style=\"stroke:rgb(0,0,0);stroke-width:1\" >\n",
       "\n",
       "  <!-- Horizontal lines -->\n",
       "  <line x1=\"0\" y1=\"0\" x2=\"120\" y2=\"0\" style=\"stroke-width:2\" />\n",
       "  <line x1=\"0\" y1=\"24\" x2=\"120\" y2=\"24\" />\n",
       "  <line x1=\"0\" y1=\"48\" x2=\"120\" y2=\"48\" style=\"stroke-width:2\" />\n",
       "\n",
       "  <!-- Vertical lines -->\n",
       "  <line x1=\"0\" y1=\"0\" x2=\"0\" y2=\"48\" style=\"stroke-width:2\" />\n",
       "  <line x1=\"24\" y1=\"0\" x2=\"24\" y2=\"48\" />\n",
       "  <line x1=\"48\" y1=\"0\" x2=\"48\" y2=\"48\" />\n",
       "  <line x1=\"72\" y1=\"0\" x2=\"72\" y2=\"48\" />\n",
       "  <line x1=\"96\" y1=\"0\" x2=\"96\" y2=\"48\" />\n",
       "  <line x1=\"120\" y1=\"0\" x2=\"120\" y2=\"48\" style=\"stroke-width:2\" />\n",
       "\n",
       "  <!-- Colored Rectangle -->\n",
       "  <polygon points=\"0.0,0.0 120.0,0.0 120.0,48.0 0.0,48.0\" style=\"fill:#ECB172A0;stroke-width:0\"/>\n",
       "\n",
       "  <!-- Text -->\n",
       "  <text x=\"60.000000\" y=\"68.000000\" font-size=\"1.0rem\" font-weight=\"100\" text-anchor=\"middle\" >500</text>\n",
       "  <text x=\"140.000000\" y=\"24.000000\" font-size=\"1.0rem\" font-weight=\"100\" text-anchor=\"middle\" transform=\"rotate(-90,140.000000,24.000000)\">200</text>\n",
       "</svg>\n",
       "        </td>\n",
       "    </tr>\n",
       "</table>"
      ],
      "text/plain": [
       "dask.array<array, shape=(200, 500), dtype=int32, chunksize=(100, 100), chunktype=numpy.ndarray>"
      ]
     },
     "execution_count": 18,
     "metadata": {},
     "output_type": "execute_result"
    }
   ],
   "source": [
    "dask_array"
   ]
  },
  {
   "cell_type": "code",
   "execution_count": 19,
   "id": "060f25e2-af89-4861-bbd6-0115d066af38",
   "metadata": {},
   "outputs": [
    {
     "data": {
      "text/plain": [
       "((100, 100), (100, 100, 100, 100, 100))"
      ]
     },
     "execution_count": 19,
     "metadata": {},
     "output_type": "execute_result"
    }
   ],
   "source": [
    "dask_array.chunks"
   ]
  },
  {
   "cell_type": "code",
   "execution_count": 20,
   "id": "71dd508c-a4e9-4383-9f5f-154690a5ace0",
   "metadata": {},
   "outputs": [
    {
     "data": {
      "text/html": [
       "<table>\n",
       "    <tr>\n",
       "        <td>\n",
       "            <table style=\"border-collapse: collapse;\">\n",
       "                <thead>\n",
       "                    <tr>\n",
       "                        <td> </td>\n",
       "                        <th> Array </th>\n",
       "                        <th> Chunk </th>\n",
       "                    </tr>\n",
       "                </thead>\n",
       "                <tbody>\n",
       "                    \n",
       "                    <tr>\n",
       "                        <th> Bytes </th>\n",
       "                        <td> 39.06 kiB </td>\n",
       "                        <td> 39.06 kiB </td>\n",
       "                    </tr>\n",
       "                    \n",
       "                    <tr>\n",
       "                        <th> Shape </th>\n",
       "                        <td> (100, 100) </td>\n",
       "                        <td> (100, 100) </td>\n",
       "                    </tr>\n",
       "                    <tr>\n",
       "                        <th> Dask graph </th>\n",
       "                        <td colspan=\"2\"> 1 chunks in 2 graph layers </td>\n",
       "                    </tr>\n",
       "                    <tr>\n",
       "                        <th> Data type </th>\n",
       "                        <td colspan=\"2\"> int32 numpy.ndarray </td>\n",
       "                    </tr>\n",
       "                </tbody>\n",
       "            </table>\n",
       "        </td>\n",
       "        <td>\n",
       "        <svg width=\"170\" height=\"170\" style=\"stroke:rgb(0,0,0);stroke-width:1\" >\n",
       "\n",
       "  <!-- Horizontal lines -->\n",
       "  <line x1=\"0\" y1=\"0\" x2=\"120\" y2=\"0\" style=\"stroke-width:2\" />\n",
       "  <line x1=\"0\" y1=\"120\" x2=\"120\" y2=\"120\" style=\"stroke-width:2\" />\n",
       "\n",
       "  <!-- Vertical lines -->\n",
       "  <line x1=\"0\" y1=\"0\" x2=\"0\" y2=\"120\" style=\"stroke-width:2\" />\n",
       "  <line x1=\"120\" y1=\"0\" x2=\"120\" y2=\"120\" style=\"stroke-width:2\" />\n",
       "\n",
       "  <!-- Colored Rectangle -->\n",
       "  <polygon points=\"0.0,0.0 120.0,0.0 120.0,120.0 0.0,120.0\" style=\"fill:#ECB172A0;stroke-width:0\"/>\n",
       "\n",
       "  <!-- Text -->\n",
       "  <text x=\"60.000000\" y=\"140.000000\" font-size=\"1.0rem\" font-weight=\"100\" text-anchor=\"middle\" >100</text>\n",
       "  <text x=\"140.000000\" y=\"60.000000\" font-size=\"1.0rem\" font-weight=\"100\" text-anchor=\"middle\" transform=\"rotate(-90,140.000000,60.000000)\">100</text>\n",
       "</svg>\n",
       "        </td>\n",
       "    </tr>\n",
       "</table>"
      ],
      "text/plain": [
       "dask.array<blocks, shape=(100, 100), dtype=int32, chunksize=(100, 100), chunktype=numpy.ndarray>"
      ]
     },
     "execution_count": 20,
     "metadata": {},
     "output_type": "execute_result"
    }
   ],
   "source": [
    "dask_array.blocks[1,3]"
   ]
  },
  {
   "cell_type": "code",
   "execution_count": 21,
   "id": "feb96d89-a410-4678-a2cb-03cdb07310c6",
   "metadata": {},
   "outputs": [],
   "source": [
    "# let's play with a slightly more interesting example\n",
    "# x is a matrix of random numbers\n",
    "x = da.random.random((100, 100), chunks=(10,10))"
   ]
  },
  {
   "cell_type": "code",
   "execution_count": 22,
   "id": "c83f86b1-bf9b-4cf6-b76b-9e5ebc776341",
   "metadata": {},
   "outputs": [
    {
     "data": {
      "text/html": [
       "<table>\n",
       "    <tr>\n",
       "        <td>\n",
       "            <table style=\"border-collapse: collapse;\">\n",
       "                <thead>\n",
       "                    <tr>\n",
       "                        <td> </td>\n",
       "                        <th> Array </th>\n",
       "                        <th> Chunk </th>\n",
       "                    </tr>\n",
       "                </thead>\n",
       "                <tbody>\n",
       "                    \n",
       "                    <tr>\n",
       "                        <th> Bytes </th>\n",
       "                        <td> 78.12 kiB </td>\n",
       "                        <td> 800 B </td>\n",
       "                    </tr>\n",
       "                    \n",
       "                    <tr>\n",
       "                        <th> Shape </th>\n",
       "                        <td> (100, 100) </td>\n",
       "                        <td> (10, 10) </td>\n",
       "                    </tr>\n",
       "                    <tr>\n",
       "                        <th> Dask graph </th>\n",
       "                        <td colspan=\"2\"> 100 chunks in 1 graph layer </td>\n",
       "                    </tr>\n",
       "                    <tr>\n",
       "                        <th> Data type </th>\n",
       "                        <td colspan=\"2\"> float64 numpy.ndarray </td>\n",
       "                    </tr>\n",
       "                </tbody>\n",
       "            </table>\n",
       "        </td>\n",
       "        <td>\n",
       "        <svg width=\"170\" height=\"170\" style=\"stroke:rgb(0,0,0);stroke-width:1\" >\n",
       "\n",
       "  <!-- Horizontal lines -->\n",
       "  <line x1=\"0\" y1=\"0\" x2=\"120\" y2=\"0\" style=\"stroke-width:2\" />\n",
       "  <line x1=\"0\" y1=\"12\" x2=\"120\" y2=\"12\" />\n",
       "  <line x1=\"0\" y1=\"24\" x2=\"120\" y2=\"24\" />\n",
       "  <line x1=\"0\" y1=\"36\" x2=\"120\" y2=\"36\" />\n",
       "  <line x1=\"0\" y1=\"48\" x2=\"120\" y2=\"48\" />\n",
       "  <line x1=\"0\" y1=\"60\" x2=\"120\" y2=\"60\" />\n",
       "  <line x1=\"0\" y1=\"72\" x2=\"120\" y2=\"72\" />\n",
       "  <line x1=\"0\" y1=\"84\" x2=\"120\" y2=\"84\" />\n",
       "  <line x1=\"0\" y1=\"96\" x2=\"120\" y2=\"96\" />\n",
       "  <line x1=\"0\" y1=\"108\" x2=\"120\" y2=\"108\" />\n",
       "  <line x1=\"0\" y1=\"120\" x2=\"120\" y2=\"120\" style=\"stroke-width:2\" />\n",
       "\n",
       "  <!-- Vertical lines -->\n",
       "  <line x1=\"0\" y1=\"0\" x2=\"0\" y2=\"120\" style=\"stroke-width:2\" />\n",
       "  <line x1=\"12\" y1=\"0\" x2=\"12\" y2=\"120\" />\n",
       "  <line x1=\"24\" y1=\"0\" x2=\"24\" y2=\"120\" />\n",
       "  <line x1=\"36\" y1=\"0\" x2=\"36\" y2=\"120\" />\n",
       "  <line x1=\"48\" y1=\"0\" x2=\"48\" y2=\"120\" />\n",
       "  <line x1=\"60\" y1=\"0\" x2=\"60\" y2=\"120\" />\n",
       "  <line x1=\"72\" y1=\"0\" x2=\"72\" y2=\"120\" />\n",
       "  <line x1=\"84\" y1=\"0\" x2=\"84\" y2=\"120\" />\n",
       "  <line x1=\"96\" y1=\"0\" x2=\"96\" y2=\"120\" />\n",
       "  <line x1=\"108\" y1=\"0\" x2=\"108\" y2=\"120\" />\n",
       "  <line x1=\"120\" y1=\"0\" x2=\"120\" y2=\"120\" style=\"stroke-width:2\" />\n",
       "\n",
       "  <!-- Colored Rectangle -->\n",
       "  <polygon points=\"0.0,0.0 120.0,0.0 120.0,120.0 0.0,120.0\" style=\"fill:#ECB172A0;stroke-width:0\"/>\n",
       "\n",
       "  <!-- Text -->\n",
       "  <text x=\"60.000000\" y=\"140.000000\" font-size=\"1.0rem\" font-weight=\"100\" text-anchor=\"middle\" >100</text>\n",
       "  <text x=\"140.000000\" y=\"60.000000\" font-size=\"1.0rem\" font-weight=\"100\" text-anchor=\"middle\" transform=\"rotate(-90,140.000000,60.000000)\">100</text>\n",
       "</svg>\n",
       "        </td>\n",
       "    </tr>\n",
       "</table>"
      ],
      "text/plain": [
       "dask.array<random_sample, shape=(100, 100), dtype=float64, chunksize=(10, 10), chunktype=numpy.ndarray>"
      ]
     },
     "execution_count": 22,
     "metadata": {},
     "output_type": "execute_result"
    }
   ],
   "source": [
    "x"
   ]
  },
  {
   "cell_type": "code",
   "execution_count": 23,
   "id": "deb6d88f-f162-4f67-a26f-468f8c531d87",
   "metadata": {},
   "outputs": [
    {
     "data": {
      "text/html": [
       "<table>\n",
       "    <tr>\n",
       "        <td>\n",
       "            <table style=\"border-collapse: collapse;\">\n",
       "                <thead>\n",
       "                    <tr>\n",
       "                        <td> </td>\n",
       "                        <th> Array </th>\n",
       "                        <th> Chunk </th>\n",
       "                    </tr>\n",
       "                </thead>\n",
       "                <tbody>\n",
       "                    \n",
       "                    <tr>\n",
       "                        <th> Bytes </th>\n",
       "                        <td> 78.12 kiB </td>\n",
       "                        <td> 800 B </td>\n",
       "                    </tr>\n",
       "                    \n",
       "                    <tr>\n",
       "                        <th> Shape </th>\n",
       "                        <td> (100, 100) </td>\n",
       "                        <td> (10, 10) </td>\n",
       "                    </tr>\n",
       "                    <tr>\n",
       "                        <th> Dask graph </th>\n",
       "                        <td colspan=\"2\"> 100 chunks in 3 graph layers </td>\n",
       "                    </tr>\n",
       "                    <tr>\n",
       "                        <th> Data type </th>\n",
       "                        <td colspan=\"2\"> float64 numpy.ndarray </td>\n",
       "                    </tr>\n",
       "                </tbody>\n",
       "            </table>\n",
       "        </td>\n",
       "        <td>\n",
       "        <svg width=\"170\" height=\"170\" style=\"stroke:rgb(0,0,0);stroke-width:1\" >\n",
       "\n",
       "  <!-- Horizontal lines -->\n",
       "  <line x1=\"0\" y1=\"0\" x2=\"120\" y2=\"0\" style=\"stroke-width:2\" />\n",
       "  <line x1=\"0\" y1=\"12\" x2=\"120\" y2=\"12\" />\n",
       "  <line x1=\"0\" y1=\"24\" x2=\"120\" y2=\"24\" />\n",
       "  <line x1=\"0\" y1=\"36\" x2=\"120\" y2=\"36\" />\n",
       "  <line x1=\"0\" y1=\"48\" x2=\"120\" y2=\"48\" />\n",
       "  <line x1=\"0\" y1=\"60\" x2=\"120\" y2=\"60\" />\n",
       "  <line x1=\"0\" y1=\"72\" x2=\"120\" y2=\"72\" />\n",
       "  <line x1=\"0\" y1=\"84\" x2=\"120\" y2=\"84\" />\n",
       "  <line x1=\"0\" y1=\"96\" x2=\"120\" y2=\"96\" />\n",
       "  <line x1=\"0\" y1=\"108\" x2=\"120\" y2=\"108\" />\n",
       "  <line x1=\"0\" y1=\"120\" x2=\"120\" y2=\"120\" style=\"stroke-width:2\" />\n",
       "\n",
       "  <!-- Vertical lines -->\n",
       "  <line x1=\"0\" y1=\"0\" x2=\"0\" y2=\"120\" style=\"stroke-width:2\" />\n",
       "  <line x1=\"12\" y1=\"0\" x2=\"12\" y2=\"120\" />\n",
       "  <line x1=\"24\" y1=\"0\" x2=\"24\" y2=\"120\" />\n",
       "  <line x1=\"36\" y1=\"0\" x2=\"36\" y2=\"120\" />\n",
       "  <line x1=\"48\" y1=\"0\" x2=\"48\" y2=\"120\" />\n",
       "  <line x1=\"60\" y1=\"0\" x2=\"60\" y2=\"120\" />\n",
       "  <line x1=\"72\" y1=\"0\" x2=\"72\" y2=\"120\" />\n",
       "  <line x1=\"84\" y1=\"0\" x2=\"84\" y2=\"120\" />\n",
       "  <line x1=\"96\" y1=\"0\" x2=\"96\" y2=\"120\" />\n",
       "  <line x1=\"108\" y1=\"0\" x2=\"108\" y2=\"120\" />\n",
       "  <line x1=\"120\" y1=\"0\" x2=\"120\" y2=\"120\" style=\"stroke-width:2\" />\n",
       "\n",
       "  <!-- Colored Rectangle -->\n",
       "  <polygon points=\"0.0,0.0 120.0,0.0 120.0,120.0 0.0,120.0\" style=\"fill:#ECB172A0;stroke-width:0\"/>\n",
       "\n",
       "  <!-- Text -->\n",
       "  <text x=\"60.000000\" y=\"140.000000\" font-size=\"1.0rem\" font-weight=\"100\" text-anchor=\"middle\" >100</text>\n",
       "  <text x=\"140.000000\" y=\"60.000000\" font-size=\"1.0rem\" font-weight=\"100\" text-anchor=\"middle\" transform=\"rotate(-90,140.000000,60.000000)\">100</text>\n",
       "</svg>\n",
       "        </td>\n",
       "    </tr>\n",
       "</table>"
      ],
      "text/plain": [
       "dask.array<add, shape=(100, 100), dtype=float64, chunksize=(10, 10), chunktype=numpy.ndarray>"
      ]
     },
     "execution_count": 23,
     "metadata": {},
     "output_type": "execute_result"
    }
   ],
   "source": [
    "# operations just like Numpy\n",
    "y = x + x.T\n",
    "y"
   ]
  },
  {
   "cell_type": "code",
   "execution_count": 24,
   "id": "a8cc1b4d-1711-42ba-81e5-09d742236df3",
   "metadata": {},
   "outputs": [],
   "source": [
    "z1 = y[::2, 50:].mean(axis=0)\n",
    "z2 = y[::2, 50:].mean(axis=1)"
   ]
  },
  {
   "cell_type": "code",
   "execution_count": 25,
   "id": "36d18845-44ed-479a-b81f-0ce89226f910",
   "metadata": {},
   "outputs": [
    {
     "data": {
      "text/html": [
       "<table>\n",
       "    <tr>\n",
       "        <td>\n",
       "            <table style=\"border-collapse: collapse;\">\n",
       "                <thead>\n",
       "                    <tr>\n",
       "                        <td> </td>\n",
       "                        <th> Array </th>\n",
       "                        <th> Chunk </th>\n",
       "                    </tr>\n",
       "                </thead>\n",
       "                <tbody>\n",
       "                    \n",
       "                    <tr>\n",
       "                        <th> Bytes </th>\n",
       "                        <td> 400 B </td>\n",
       "                        <td> 80 B </td>\n",
       "                    </tr>\n",
       "                    \n",
       "                    <tr>\n",
       "                        <th> Shape </th>\n",
       "                        <td> (50,) </td>\n",
       "                        <td> (10,) </td>\n",
       "                    </tr>\n",
       "                    <tr>\n",
       "                        <th> Dask graph </th>\n",
       "                        <td colspan=\"2\"> 5 chunks in 7 graph layers </td>\n",
       "                    </tr>\n",
       "                    <tr>\n",
       "                        <th> Data type </th>\n",
       "                        <td colspan=\"2\"> float64 numpy.ndarray </td>\n",
       "                    </tr>\n",
       "                </tbody>\n",
       "            </table>\n",
       "        </td>\n",
       "        <td>\n",
       "        <svg width=\"170\" height=\"79\" style=\"stroke:rgb(0,0,0);stroke-width:1\" >\n",
       "\n",
       "  <!-- Horizontal lines -->\n",
       "  <line x1=\"0\" y1=\"0\" x2=\"120\" y2=\"0\" style=\"stroke-width:2\" />\n",
       "  <line x1=\"0\" y1=\"29\" x2=\"120\" y2=\"29\" style=\"stroke-width:2\" />\n",
       "\n",
       "  <!-- Vertical lines -->\n",
       "  <line x1=\"0\" y1=\"0\" x2=\"0\" y2=\"29\" style=\"stroke-width:2\" />\n",
       "  <line x1=\"24\" y1=\"0\" x2=\"24\" y2=\"29\" />\n",
       "  <line x1=\"48\" y1=\"0\" x2=\"48\" y2=\"29\" />\n",
       "  <line x1=\"72\" y1=\"0\" x2=\"72\" y2=\"29\" />\n",
       "  <line x1=\"96\" y1=\"0\" x2=\"96\" y2=\"29\" />\n",
       "  <line x1=\"120\" y1=\"0\" x2=\"120\" y2=\"29\" style=\"stroke-width:2\" />\n",
       "\n",
       "  <!-- Colored Rectangle -->\n",
       "  <polygon points=\"0.0,0.0 120.0,0.0 120.0,29.030629010473877 0.0,29.030629010473877\" style=\"fill:#ECB172A0;stroke-width:0\"/>\n",
       "\n",
       "  <!-- Text -->\n",
       "  <text x=\"60.000000\" y=\"49.030629\" font-size=\"1.0rem\" font-weight=\"100\" text-anchor=\"middle\" >50</text>\n",
       "  <text x=\"140.000000\" y=\"14.515315\" font-size=\"1.0rem\" font-weight=\"100\" text-anchor=\"middle\" transform=\"rotate(0,140.000000,14.515315)\">1</text>\n",
       "</svg>\n",
       "        </td>\n",
       "    </tr>\n",
       "</table>"
      ],
      "text/plain": [
       "dask.array<mean_agg-aggregate, shape=(50,), dtype=float64, chunksize=(10,), chunktype=numpy.ndarray>"
      ]
     },
     "execution_count": 25,
     "metadata": {},
     "output_type": "execute_result"
    }
   ],
   "source": [
    "z1"
   ]
  },
  {
   "cell_type": "code",
   "execution_count": 26,
   "id": "e1ca14db-dc73-43a3-8039-da3021d1cfb0",
   "metadata": {},
   "outputs": [
    {
     "data": {
      "text/plain": [
       "array([0.97353801, 1.02844861, 1.06520363, 1.05446419, 0.93803455,\n",
       "       0.99803611, 1.00387065, 1.01041554, 0.95016994, 0.91659862,\n",
       "       1.02434146, 1.05890953, 0.9516734 , 0.97019368, 1.07281716,\n",
       "       1.04878525, 0.92483438, 1.04502919, 0.94282573, 0.94172099,\n",
       "       1.12537585, 1.03281995, 0.93976849, 1.0011391 , 1.07423183,\n",
       "       1.00384963, 0.92349168, 0.98070803, 1.04302798, 0.89963968,\n",
       "       0.97781067, 1.01410889, 0.9562097 , 0.94543564, 1.03873395,\n",
       "       0.98234484, 1.04494163, 0.88986827, 0.96159682, 1.03090534,\n",
       "       0.83207303, 1.09516323, 1.03234816, 1.01138979, 1.05420189,\n",
       "       0.96428564, 1.13044664, 0.91320433, 1.0505532 , 1.0544578 ])"
      ]
     },
     "execution_count": 26,
     "metadata": {},
     "output_type": "execute_result"
    }
   ],
   "source": [
    "# to actually compute z1, let's use .compute()\n",
    "z1.compute()"
   ]
  },
  {
   "cell_type": "code",
   "execution_count": 27,
   "id": "affc7f3d-28f8-4286-8be9-b62d79faaea7",
   "metadata": {},
   "outputs": [
    {
     "data": {
      "text/html": [
       "<table>\n",
       "    <tr>\n",
       "        <td>\n",
       "            <table style=\"border-collapse: collapse;\">\n",
       "                <thead>\n",
       "                    <tr>\n",
       "                        <td> </td>\n",
       "                        <th> Array </th>\n",
       "                        <th> Chunk </th>\n",
       "                    </tr>\n",
       "                </thead>\n",
       "                <tbody>\n",
       "                    \n",
       "                    <tr>\n",
       "                        <th> Bytes </th>\n",
       "                        <td> 400 B </td>\n",
       "                        <td> 40 B </td>\n",
       "                    </tr>\n",
       "                    \n",
       "                    <tr>\n",
       "                        <th> Shape </th>\n",
       "                        <td> (50,) </td>\n",
       "                        <td> (5,) </td>\n",
       "                    </tr>\n",
       "                    <tr>\n",
       "                        <th> Dask graph </th>\n",
       "                        <td colspan=\"2\"> 10 chunks in 7 graph layers </td>\n",
       "                    </tr>\n",
       "                    <tr>\n",
       "                        <th> Data type </th>\n",
       "                        <td colspan=\"2\"> float64 numpy.ndarray </td>\n",
       "                    </tr>\n",
       "                </tbody>\n",
       "            </table>\n",
       "        </td>\n",
       "        <td>\n",
       "        <svg width=\"170\" height=\"79\" style=\"stroke:rgb(0,0,0);stroke-width:1\" >\n",
       "\n",
       "  <!-- Horizontal lines -->\n",
       "  <line x1=\"0\" y1=\"0\" x2=\"120\" y2=\"0\" style=\"stroke-width:2\" />\n",
       "  <line x1=\"0\" y1=\"29\" x2=\"120\" y2=\"29\" style=\"stroke-width:2\" />\n",
       "\n",
       "  <!-- Vertical lines -->\n",
       "  <line x1=\"0\" y1=\"0\" x2=\"0\" y2=\"29\" style=\"stroke-width:2\" />\n",
       "  <line x1=\"12\" y1=\"0\" x2=\"12\" y2=\"29\" />\n",
       "  <line x1=\"24\" y1=\"0\" x2=\"24\" y2=\"29\" />\n",
       "  <line x1=\"36\" y1=\"0\" x2=\"36\" y2=\"29\" />\n",
       "  <line x1=\"48\" y1=\"0\" x2=\"48\" y2=\"29\" />\n",
       "  <line x1=\"60\" y1=\"0\" x2=\"60\" y2=\"29\" />\n",
       "  <line x1=\"72\" y1=\"0\" x2=\"72\" y2=\"29\" />\n",
       "  <line x1=\"84\" y1=\"0\" x2=\"84\" y2=\"29\" />\n",
       "  <line x1=\"96\" y1=\"0\" x2=\"96\" y2=\"29\" />\n",
       "  <line x1=\"108\" y1=\"0\" x2=\"108\" y2=\"29\" />\n",
       "  <line x1=\"120\" y1=\"0\" x2=\"120\" y2=\"29\" style=\"stroke-width:2\" />\n",
       "\n",
       "  <!-- Colored Rectangle -->\n",
       "  <polygon points=\"0.0,0.0 120.0,0.0 120.0,29.030629010473877 0.0,29.030629010473877\" style=\"fill:#ECB172A0;stroke-width:0\"/>\n",
       "\n",
       "  <!-- Text -->\n",
       "  <text x=\"60.000000\" y=\"49.030629\" font-size=\"1.0rem\" font-weight=\"100\" text-anchor=\"middle\" >50</text>\n",
       "  <text x=\"140.000000\" y=\"14.515315\" font-size=\"1.0rem\" font-weight=\"100\" text-anchor=\"middle\" transform=\"rotate(0,140.000000,14.515315)\">1</text>\n",
       "</svg>\n",
       "        </td>\n",
       "    </tr>\n",
       "</table>"
      ],
      "text/plain": [
       "dask.array<mean_agg-aggregate, shape=(50,), dtype=float64, chunksize=(5,), chunktype=numpy.ndarray>"
      ]
     },
     "execution_count": 27,
     "metadata": {},
     "output_type": "execute_result"
    }
   ],
   "source": [
    "z2"
   ]
  },
  {
   "cell_type": "code",
   "execution_count": 28,
   "id": "a87e97bc-a9ad-4739-9166-78562c53c724",
   "metadata": {},
   "outputs": [
    {
     "data": {
      "text/plain": [
       "array([1.02346259, 0.99639792, 1.02768892, 1.05014243, 0.92389502,\n",
       "       0.92748688, 0.99779037, 1.00420674, 1.00640365, 1.00734093,\n",
       "       0.94799347, 1.0443322 , 1.06873102, 0.91485425, 0.90967781,\n",
       "       0.95693231, 0.9089969 , 1.01414155, 1.07880526, 1.01263477,\n",
       "       1.07439469, 0.95186629, 1.04382879, 1.0857993 , 0.99439504,\n",
       "       1.01305053, 1.09130445, 0.9476037 , 0.89805551, 1.03457553,\n",
       "       0.97532432, 0.89716531, 1.05223143, 1.02509804, 1.01098296,\n",
       "       1.14220326, 0.9732965 , 1.0644032 , 0.97883769, 1.00693725,\n",
       "       0.96682821, 1.02720542, 0.93317276, 0.89735661, 0.96001181,\n",
       "       0.91357726, 1.0545463 , 1.00343285, 1.06527702, 1.01936537])"
      ]
     },
     "execution_count": 28,
     "metadata": {},
     "output_type": "execute_result"
    }
   ],
   "source": [
    "z2.compute()"
   ]
  },
  {
   "cell_type": "markdown",
   "id": "44083721-84ea-4157-96a9-0bb1393168d3",
   "metadata": {},
   "source": [
    "## Dask Bag"
   ]
  },
  {
   "cell_type": "markdown",
   "id": "3b227f66-aa4f-4cdc-b2ea-3e9935cd2f0b",
   "metadata": {},
   "source": [
    "Bag is unordered collection of objects allowing repeats. Use these for semi/un-structured data.  \n",
    "It's fun but slower than dataframes and arrays.  \n",
    "The [examples](https://examples.dask.org/bag.html) page is really interesting."
   ]
  },
  {
   "cell_type": "code",
   "execution_count": 29,
   "id": "27dd67d9-6995-4c31-bc1e-645b599fceb5",
   "metadata": {},
   "outputs": [],
   "source": [
    "dask_bag = db.from_sequence([1,2,3,4,5,6,7,8,9,0], npartitions = 2)"
   ]
  },
  {
   "cell_type": "code",
   "execution_count": 30,
   "id": "9cf0a2e6-abd8-4e70-8290-e3ea004dfe16",
   "metadata": {},
   "outputs": [
    {
     "data": {
      "text/plain": [
       "dask.bag<from_sequence, npartitions=2>"
      ]
     },
     "execution_count": 30,
     "metadata": {},
     "output_type": "execute_result"
    }
   ],
   "source": [
    "dask_bag"
   ]
  },
  {
   "cell_type": "code",
   "execution_count": 31,
   "id": "0a5c2205-a2fe-4d66-be06-5d97cf08c1c3",
   "metadata": {},
   "outputs": [
    {
     "data": {
      "text/plain": [
       "(1, 2)"
      ]
     },
     "execution_count": 31,
     "metadata": {},
     "output_type": "execute_result"
    }
   ],
   "source": [
    "dask_bag.take(2)"
   ]
  },
  {
   "cell_type": "code",
   "execution_count": 32,
   "id": "6516d3d9-c6e3-4912-bcc5-8c3972ec4ffc",
   "metadata": {},
   "outputs": [
    {
     "data": {
      "text/plain": [
       "(4, 5)"
      ]
     },
     "execution_count": 32,
     "metadata": {},
     "output_type": "execute_result"
    }
   ],
   "source": [
    "# dask is lazy - this one grabs values from one partition\n",
    "dask_bag.filter(lambda x: x>3).take(2)"
   ]
  },
  {
   "cell_type": "code",
   "execution_count": 33,
   "id": "4a432364-6ea1-4b83-a68d-a367d77999f4",
   "metadata": {},
   "outputs": [
    {
     "data": {
      "text/plain": [
       "[4, 5, 6, 7, 8, 9]"
      ]
     },
     "execution_count": 33,
     "metadata": {},
     "output_type": "execute_result"
    }
   ],
   "source": [
    "# Here's how we take ALL across all partitions\n",
    "dask_bag.filter(lambda x: x>3).compute()"
   ]
  },
  {
   "cell_type": "code",
   "execution_count": 34,
   "id": "28a0902b-b1df-43ab-8285-bbbeb96da9d4",
   "metadata": {},
   "outputs": [
    {
     "data": {
      "text/plain": [
       "(1, 4, 9, 16, 25)"
      ]
     },
     "execution_count": 34,
     "metadata": {},
     "output_type": "execute_result"
    }
   ],
   "source": [
    "dask_bag.map(lambda x:x*x).take(5)"
   ]
  },
  {
   "cell_type": "code",
   "execution_count": 35,
   "id": "57f03087-a6d3-401d-804f-c3dbdde04a5e",
   "metadata": {},
   "outputs": [
    {
     "data": {
      "text/plain": [
       "10"
      ]
     },
     "execution_count": 35,
     "metadata": {},
     "output_type": "execute_result"
    }
   ],
   "source": [
    "dask_bag.count().compute()"
   ]
  },
  {
   "cell_type": "code",
   "execution_count": 36,
   "id": "fbb60b04-9ff2-4fec-99d5-7b5fa1a5b049",
   "metadata": {},
   "outputs": [],
   "source": [
    "# convert to a dask dataframe\n",
    "# this is a trivial example\n",
    "dask_df_from_bag = dask_bag.to_dataframe()"
   ]
  },
  {
   "cell_type": "code",
   "execution_count": 37,
   "id": "539c01a3-cde1-4f88-8b71-d9782cad86f8",
   "metadata": {},
   "outputs": [
    {
     "data": {
      "text/html": [
       "<div><strong>Dask DataFrame Structure:</strong></div>\n",
       "<div>\n",
       "<style scoped>\n",
       "    .dataframe tbody tr th:only-of-type {\n",
       "        vertical-align: middle;\n",
       "    }\n",
       "\n",
       "    .dataframe tbody tr th {\n",
       "        vertical-align: top;\n",
       "    }\n",
       "\n",
       "    .dataframe thead th {\n",
       "        text-align: right;\n",
       "    }\n",
       "</style>\n",
       "<table border=\"1\" class=\"dataframe\">\n",
       "  <thead>\n",
       "    <tr style=\"text-align: right;\">\n",
       "      <th></th>\n",
       "      <th>0</th>\n",
       "    </tr>\n",
       "    <tr>\n",
       "      <th>npartitions=2</th>\n",
       "      <th></th>\n",
       "    </tr>\n",
       "  </thead>\n",
       "  <tbody>\n",
       "    <tr>\n",
       "      <th></th>\n",
       "      <td>int64</td>\n",
       "    </tr>\n",
       "    <tr>\n",
       "      <th></th>\n",
       "      <td>...</td>\n",
       "    </tr>\n",
       "    <tr>\n",
       "      <th></th>\n",
       "      <td>...</td>\n",
       "    </tr>\n",
       "  </tbody>\n",
       "</table>\n",
       "</div>\n",
       "<div>Dask Name: to_dataframe, 1 graph layer</div>"
      ],
      "text/plain": [
       "Dask DataFrame Structure:\n",
       "                   0\n",
       "npartitions=2       \n",
       "               int64\n",
       "                 ...\n",
       "                 ...\n",
       "Dask Name: to_dataframe, 1 graph layer"
      ]
     },
     "execution_count": 37,
     "metadata": {},
     "output_type": "execute_result"
    }
   ],
   "source": [
    "dask_df_from_bag"
   ]
  },
  {
   "cell_type": "markdown",
   "id": "49af26d9-6b5b-4473-8f4d-5d3abadbea42",
   "metadata": {},
   "source": [
    "### Build bag with complex json and convert to dataframe\n",
    "* Step 1: define a 'flatten' function\n",
    "* Step 2: map 'flatten' to the bag\n",
    "* Step 3: convert the flattened bag to dataframe using bag_instance.to_dataframe()"
   ]
  },
  {
   "cell_type": "markdown",
   "id": "7e9f534d-647a-43d9-a29d-75aa21c3859c",
   "metadata": {},
   "source": [
    "Using example from https://examples.dask.org/bag.html"
   ]
  },
  {
   "cell_type": "markdown",
   "id": "c4cc3b5b-2f7d-4b01-aa60-8600b445990e",
   "metadata": {},
   "source": [
    "#### Create Random Data"
   ]
  },
  {
   "cell_type": "code",
   "execution_count": 38,
   "id": "73ebcbe8-2df3-4767-8844-afdbbd4e971e",
   "metadata": {},
   "outputs": [],
   "source": [
    "import json\n",
    "import os"
   ]
  },
  {
   "cell_type": "code",
   "execution_count": 39,
   "id": "2d4a0b5c-1ee4-4d79-a19b-2940b5a8f9be",
   "metadata": {},
   "outputs": [],
   "source": [
    "os.makedirs(\"./data/dask-bag-example-01\", exist_ok = True)"
   ]
  },
  {
   "cell_type": "code",
   "execution_count": 40,
   "id": "71c739e4-5a83-47ae-8612-3803dd8b01bc",
   "metadata": {},
   "outputs": [],
   "source": [
    "b = dask.datasets.make_people()"
   ]
  },
  {
   "cell_type": "code",
   "execution_count": 41,
   "id": "15b68a29-76ac-4175-8d9c-5b8d1bddb9d3",
   "metadata": {},
   "outputs": [
    {
     "data": {
      "text/plain": [
       "['d:/2/shaurya-lab/learn-data-munging/data/dask-bag-example-01/0.json',\n",
       " 'd:/2/shaurya-lab/learn-data-munging/data/dask-bag-example-01/1.json',\n",
       " 'd:/2/shaurya-lab/learn-data-munging/data/dask-bag-example-01/2.json',\n",
       " 'd:/2/shaurya-lab/learn-data-munging/data/dask-bag-example-01/3.json',\n",
       " 'd:/2/shaurya-lab/learn-data-munging/data/dask-bag-example-01/4.json',\n",
       " 'd:/2/shaurya-lab/learn-data-munging/data/dask-bag-example-01/5.json',\n",
       " 'd:/2/shaurya-lab/learn-data-munging/data/dask-bag-example-01/6.json',\n",
       " 'd:/2/shaurya-lab/learn-data-munging/data/dask-bag-example-01/7.json',\n",
       " 'd:/2/shaurya-lab/learn-data-munging/data/dask-bag-example-01/8.json',\n",
       " 'd:/2/shaurya-lab/learn-data-munging/data/dask-bag-example-01/9.json']"
      ]
     },
     "execution_count": 41,
     "metadata": {},
     "output_type": "execute_result"
    }
   ],
   "source": [
    "b.map(json.dumps).to_textfiles(\"./data/dask-bag-example-01/*.json\")"
   ]
  },
  {
   "cell_type": "markdown",
   "id": "06ea2011-f590-4bee-8a21-f20f407baf1b",
   "metadata": {},
   "source": [
    "#### Read JSON Data"
   ]
  },
  {
   "cell_type": "code",
   "execution_count": 42,
   "id": "112741ec-5125-4cc4-bdbd-cb03e4bd9d3f",
   "metadata": {},
   "outputs": [],
   "source": [
    "# for windows\n",
    "# !more .\\data\\dask-bag-example-01\\0.json\n",
    "# for linux\n",
    "# !head -n 2 ./data/dask-bag-example-01/0.json"
   ]
  },
  {
   "cell_type": "code",
   "execution_count": 43,
   "id": "08cc5712-c02f-4c5b-95c8-e37fabeb0c64",
   "metadata": {},
   "outputs": [
    {
     "data": {
      "text/plain": [
       "dask.bag<loads, npartitions=10>"
      ]
     },
     "execution_count": 43,
     "metadata": {},
     "output_type": "execute_result"
    }
   ],
   "source": [
    "b = db.read_text('./data/dask-bag-example-01/*.json').map(json.loads)\n",
    "b"
   ]
  },
  {
   "cell_type": "code",
   "execution_count": 44,
   "id": "d94bc353-cf63-4d5c-8853-12d49bec8947",
   "metadata": {},
   "outputs": [
    {
     "data": {
      "text/plain": [
       "({'age': 49,\n",
       "  'name': ['Carmelo', 'Swanson'],\n",
       "  'occupation': 'Stationer',\n",
       "  'telephone': '+1-240-393-4926',\n",
       "  'address': {'address': '1062 Apollo Center', 'city': 'McMinnville'},\n",
       "  'credit-card': {'number': '3417 705685 47448', 'expiration-date': '06/16'}},\n",
       " {'age': 48,\n",
       "  'name': ['Bryant', 'Christian'],\n",
       "  'occupation': 'Booking Clerk',\n",
       "  'telephone': '+1-975-593-0915',\n",
       "  'address': {'address': '965 Barneveld Manor', 'city': 'Lake Forest'},\n",
       "  'credit-card': {'number': '3412 082280 61526', 'expiration-date': '03/24'}})"
      ]
     },
     "execution_count": 44,
     "metadata": {},
     "output_type": "execute_result"
    }
   ],
   "source": [
    "b.take(2)"
   ]
  },
  {
   "cell_type": "code",
   "execution_count": null,
   "id": "058b0e1e-33fb-427f-98fb-5e9dc89fc55c",
   "metadata": {},
   "outputs": [],
   "source": []
  }
 ],
 "metadata": {
  "kernelspec": {
   "display_name": "Python 3 (ipykernel)",
   "language": "python",
   "name": "python3"
  },
  "language_info": {
   "codemirror_mode": {
    "name": "ipython",
    "version": 3
   },
   "file_extension": ".py",
   "mimetype": "text/x-python",
   "name": "python",
   "nbconvert_exporter": "python",
   "pygments_lexer": "ipython3",
   "version": "3.10.8"
  }
 },
 "nbformat": 4,
 "nbformat_minor": 5
}
