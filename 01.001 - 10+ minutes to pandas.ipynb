{
 "cells": [
  {
   "cell_type": "markdown",
   "id": "70e949c1",
   "metadata": {},
   "source": [
    "# Setup\n",
    "\n",
    "This is following [10 minutes to pandas](https://pandas.pydata.org/pandas-docs/stable/user_guide/10min.html) for pandas 1.4.3 but may take a little more than 10 minutes to finish. Lot's of small changes, references etc. "
   ]
  },
  {
   "cell_type": "markdown",
   "id": "b9a73286",
   "metadata": {},
   "source": [
    "You can also open this notebook in Google Colab\n",
    "\n",
    "<a href=\"https://colab.research.google.com/github/shauryashaurya/learn-data-munging/blob/main/01.001%20-%2010%2B%20minutes%20to%20pandas.ipynb\" target=\"_parent\"><img src=\"https://colab.research.google.com/assets/colab-badge.svg\" alt=\"Open In Colab\"/></a>"
   ]
  },
  {
   "cell_type": "code",
   "execution_count": 29,
   "id": "4787d5d8",
   "metadata": {},
   "outputs": [],
   "source": [
    "import numpy as np\n",
    "import pandas as pd"
   ]
  },
  {
   "cell_type": "markdown",
   "id": "0f5df25e",
   "metadata": {},
   "source": [
    "# Object creation"
   ]
  },
  {
   "cell_type": "code",
   "execution_count": 30,
   "id": "af7dad0b",
   "metadata": {},
   "outputs": [],
   "source": [
    "# Series - pass a list to pd.Series\n",
    "s1 = pd.Series([1, 2, 3, np.nan, 5])"
   ]
  },
  {
   "cell_type": "code",
   "execution_count": 31,
   "id": "734aaa87",
   "metadata": {},
   "outputs": [
    {
     "data": {
      "text/plain": [
       "0    1.0\n",
       "1    2.0\n",
       "2    3.0\n",
       "3    NaN\n",
       "4    5.0\n",
       "dtype: float64"
      ]
     },
     "execution_count": 31,
     "metadata": {},
     "output_type": "execute_result"
    }
   ],
   "source": [
    "s1"
   ]
  },
  {
   "cell_type": "code",
   "execution_count": 32,
   "id": "1d461885",
   "metadata": {},
   "outputs": [
    {
     "data": {
      "text/plain": [
       "DatetimeIndex(['2022-06-19', '2022-06-20', '2022-06-21', '2022-06-22',\n",
       "               '2022-06-23', '2022-06-24', '2022-06-25', '2022-06-26',\n",
       "               '2022-06-27', '2022-06-28'],\n",
       "              dtype='datetime64[ns]', freq='D')"
      ]
     },
     "execution_count": 32,
     "metadata": {},
     "output_type": "execute_result"
    }
   ],
   "source": [
    "# create an index to use in the dataframe\n",
    "# default frequency is D (day), so creates a DatetimeIndex of 10 days\n",
    "dates = pd.date_range('20220619', periods=10)\n",
    "dates"
   ]
  },
  {
   "cell_type": "markdown",
   "id": "238af2d0",
   "metadata": {},
   "source": [
    "just in case you are wondering, here's [all the \"offset aliases\"](https://pandas.pydata.org/docs/user_guide/timeseries.html#timeseries-offset-aliases) for Datetime"
   ]
  },
  {
   "cell_type": "code",
   "execution_count": 33,
   "id": "047265e3",
   "metadata": {},
   "outputs": [
    {
     "data": {
      "text/html": [
       "<div>\n",
       "<style scoped>\n",
       "    .dataframe tbody tr th:only-of-type {\n",
       "        vertical-align: middle;\n",
       "    }\n",
       "\n",
       "    .dataframe tbody tr th {\n",
       "        vertical-align: top;\n",
       "    }\n",
       "\n",
       "    .dataframe thead th {\n",
       "        text-align: right;\n",
       "    }\n",
       "</style>\n",
       "<table border=\"1\" class=\"dataframe\">\n",
       "  <thead>\n",
       "    <tr style=\"text-align: right;\">\n",
       "      <th></th>\n",
       "      <th>A</th>\n",
       "      <th>B</th>\n",
       "      <th>C</th>\n",
       "      <th>D</th>\n",
       "    </tr>\n",
       "  </thead>\n",
       "  <tbody>\n",
       "    <tr>\n",
       "      <th>2022-06-19</th>\n",
       "      <td>0.951469</td>\n",
       "      <td>0.509845</td>\n",
       "      <td>-0.462546</td>\n",
       "      <td>-1.213506</td>\n",
       "    </tr>\n",
       "    <tr>\n",
       "      <th>2022-06-20</th>\n",
       "      <td>-0.439995</td>\n",
       "      <td>1.077854</td>\n",
       "      <td>1.328994</td>\n",
       "      <td>0.963205</td>\n",
       "    </tr>\n",
       "    <tr>\n",
       "      <th>2022-06-21</th>\n",
       "      <td>0.107086</td>\n",
       "      <td>-1.869701</td>\n",
       "      <td>-1.478948</td>\n",
       "      <td>-0.230958</td>\n",
       "    </tr>\n",
       "    <tr>\n",
       "      <th>2022-06-22</th>\n",
       "      <td>0.644756</td>\n",
       "      <td>-0.927166</td>\n",
       "      <td>-2.401900</td>\n",
       "      <td>0.737268</td>\n",
       "    </tr>\n",
       "    <tr>\n",
       "      <th>2022-06-23</th>\n",
       "      <td>-0.077502</td>\n",
       "      <td>-0.119173</td>\n",
       "      <td>0.810236</td>\n",
       "      <td>1.038025</td>\n",
       "    </tr>\n",
       "    <tr>\n",
       "      <th>2022-06-24</th>\n",
       "      <td>0.106912</td>\n",
       "      <td>-2.049418</td>\n",
       "      <td>0.320690</td>\n",
       "      <td>0.549374</td>\n",
       "    </tr>\n",
       "    <tr>\n",
       "      <th>2022-06-25</th>\n",
       "      <td>-0.151913</td>\n",
       "      <td>0.425990</td>\n",
       "      <td>1.410461</td>\n",
       "      <td>-2.099694</td>\n",
       "    </tr>\n",
       "    <tr>\n",
       "      <th>2022-06-26</th>\n",
       "      <td>-0.737959</td>\n",
       "      <td>-0.217128</td>\n",
       "      <td>-1.357031</td>\n",
       "      <td>-1.084376</td>\n",
       "    </tr>\n",
       "    <tr>\n",
       "      <th>2022-06-27</th>\n",
       "      <td>0.862039</td>\n",
       "      <td>-0.209451</td>\n",
       "      <td>-0.068883</td>\n",
       "      <td>0.666439</td>\n",
       "    </tr>\n",
       "    <tr>\n",
       "      <th>2022-06-28</th>\n",
       "      <td>-1.324962</td>\n",
       "      <td>-0.528841</td>\n",
       "      <td>-1.014416</td>\n",
       "      <td>0.667417</td>\n",
       "    </tr>\n",
       "  </tbody>\n",
       "</table>\n",
       "</div>"
      ],
      "text/plain": [
       "                   A         B         C         D\n",
       "2022-06-19  0.951469  0.509845 -0.462546 -1.213506\n",
       "2022-06-20 -0.439995  1.077854  1.328994  0.963205\n",
       "2022-06-21  0.107086 -1.869701 -1.478948 -0.230958\n",
       "2022-06-22  0.644756 -0.927166 -2.401900  0.737268\n",
       "2022-06-23 -0.077502 -0.119173  0.810236  1.038025\n",
       "2022-06-24  0.106912 -2.049418  0.320690  0.549374\n",
       "2022-06-25 -0.151913  0.425990  1.410461 -2.099694\n",
       "2022-06-26 -0.737959 -0.217128 -1.357031 -1.084376\n",
       "2022-06-27  0.862039 -0.209451 -0.068883  0.666439\n",
       "2022-06-28 -1.324962 -0.528841 -1.014416  0.667417"
      ]
     },
     "execution_count": 33,
     "metadata": {},
     "output_type": "execute_result"
    }
   ],
   "source": [
    "# Dataframe - pass a Numpy array\n",
    "# create a 10 row, 4 col random number array, index by dates, give some column names\n",
    "df = pd.DataFrame(np.random.randn(10, 4), index=dates, columns=list('ABCD'))\n",
    "df"
   ]
  },
  {
   "cell_type": "code",
   "execution_count": 34,
   "id": "a82e31c8",
   "metadata": {},
   "outputs": [
    {
     "data": {
      "text/html": [
       "<div>\n",
       "<style scoped>\n",
       "    .dataframe tbody tr th:only-of-type {\n",
       "        vertical-align: middle;\n",
       "    }\n",
       "\n",
       "    .dataframe tbody tr th {\n",
       "        vertical-align: top;\n",
       "    }\n",
       "\n",
       "    .dataframe thead th {\n",
       "        text-align: right;\n",
       "    }\n",
       "</style>\n",
       "<table border=\"1\" class=\"dataframe\">\n",
       "  <thead>\n",
       "    <tr style=\"text-align: right;\">\n",
       "      <th></th>\n",
       "      <th>A</th>\n",
       "      <th>B</th>\n",
       "      <th>C</th>\n",
       "      <th>D</th>\n",
       "      <th>E</th>\n",
       "      <th>F</th>\n",
       "      <th>G</th>\n",
       "    </tr>\n",
       "  </thead>\n",
       "  <tbody>\n",
       "    <tr>\n",
       "      <th>0</th>\n",
       "      <td>1.0</td>\n",
       "      <td>2022-06-19</td>\n",
       "      <td>1.0</td>\n",
       "      <td>3</td>\n",
       "      <td>test</td>\n",
       "      <td>f</td>\n",
       "      <td>foo</td>\n",
       "    </tr>\n",
       "    <tr>\n",
       "      <th>1</th>\n",
       "      <td>1.0</td>\n",
       "      <td>2022-06-19</td>\n",
       "      <td>1.0</td>\n",
       "      <td>3</td>\n",
       "      <td>train</td>\n",
       "      <td>o</td>\n",
       "      <td>foo</td>\n",
       "    </tr>\n",
       "    <tr>\n",
       "      <th>2</th>\n",
       "      <td>1.0</td>\n",
       "      <td>2022-06-19</td>\n",
       "      <td>1.0</td>\n",
       "      <td>3</td>\n",
       "      <td>test</td>\n",
       "      <td>o</td>\n",
       "      <td>foo</td>\n",
       "    </tr>\n",
       "    <tr>\n",
       "      <th>3</th>\n",
       "      <td>1.0</td>\n",
       "      <td>2022-06-19</td>\n",
       "      <td>1.0</td>\n",
       "      <td>3</td>\n",
       "      <td>train</td>\n",
       "      <td>f</td>\n",
       "      <td>foo</td>\n",
       "    </tr>\n",
       "    <tr>\n",
       "      <th>4</th>\n",
       "      <td>1.0</td>\n",
       "      <td>2022-06-19</td>\n",
       "      <td>1.0</td>\n",
       "      <td>3</td>\n",
       "      <td>test</td>\n",
       "      <td>o</td>\n",
       "      <td>foo</td>\n",
       "    </tr>\n",
       "    <tr>\n",
       "      <th>5</th>\n",
       "      <td>1.0</td>\n",
       "      <td>2022-06-19</td>\n",
       "      <td>1.0</td>\n",
       "      <td>3</td>\n",
       "      <td>train</td>\n",
       "      <td>o</td>\n",
       "      <td>foo</td>\n",
       "    </tr>\n",
       "  </tbody>\n",
       "</table>\n",
       "</div>"
      ],
      "text/plain": [
       "     A          B    C  D      E  F    G\n",
       "0  1.0 2022-06-19  1.0  3   test  f  foo\n",
       "1  1.0 2022-06-19  1.0  3  train  o  foo\n",
       "2  1.0 2022-06-19  1.0  3   test  o  foo\n",
       "3  1.0 2022-06-19  1.0  3  train  f  foo\n",
       "4  1.0 2022-06-19  1.0  3   test  o  foo\n",
       "5  1.0 2022-06-19  1.0  3  train  o  foo"
      ]
     },
     "execution_count": 34,
     "metadata": {},
     "output_type": "execute_result"
    }
   ],
   "source": [
    "# Create a dataframe by passing a dictionary of objects\n",
    "# where each object can be converted into a series-like structure\n",
    "df2 = pd.DataFrame(\n",
    "    {\n",
    "        \"A\": 1.0,\n",
    "        \"B\": pd.Timestamp(\"20220619\"),\n",
    "        \"C\": pd.Series(1, index=list(range(6)), dtype=\"float32\"),\n",
    "        \"D\": np.array([3]*6, dtype=\"int32\"),\n",
    "        \"E\": pd.Categorical([\"test\", \"train\", \"test\", \"train\", \"test\", \"train\"]),\n",
    "        \"F\": list(\"foofoo\"),\n",
    "        \"G\": \"foo\"\n",
    "    }\n",
    ")\n",
    "\n",
    "df2"
   ]
  },
  {
   "cell_type": "code",
   "execution_count": 35,
   "id": "c1894984",
   "metadata": {},
   "outputs": [
    {
     "data": {
      "text/plain": [
       "A           float64\n",
       "B    datetime64[ns]\n",
       "C           float32\n",
       "D             int32\n",
       "E          category\n",
       "F            object\n",
       "G            object\n",
       "dtype: object"
      ]
     },
     "execution_count": 35,
     "metadata": {},
     "output_type": "execute_result"
    }
   ],
   "source": [
    "# the datatype of each of the columns would be different\n",
    "df2.dtypes"
   ]
  },
  {
   "cell_type": "markdown",
   "id": "40ccaa33",
   "metadata": {},
   "source": [
    "# Viewing Data"
   ]
  },
  {
   "cell_type": "code",
   "execution_count": 36,
   "id": "fa1c9b68",
   "metadata": {},
   "outputs": [
    {
     "data": {
      "text/html": [
       "<div>\n",
       "<style scoped>\n",
       "    .dataframe tbody tr th:only-of-type {\n",
       "        vertical-align: middle;\n",
       "    }\n",
       "\n",
       "    .dataframe tbody tr th {\n",
       "        vertical-align: top;\n",
       "    }\n",
       "\n",
       "    .dataframe thead th {\n",
       "        text-align: right;\n",
       "    }\n",
       "</style>\n",
       "<table border=\"1\" class=\"dataframe\">\n",
       "  <thead>\n",
       "    <tr style=\"text-align: right;\">\n",
       "      <th></th>\n",
       "      <th>A</th>\n",
       "      <th>B</th>\n",
       "      <th>C</th>\n",
       "      <th>D</th>\n",
       "    </tr>\n",
       "  </thead>\n",
       "  <tbody>\n",
       "    <tr>\n",
       "      <th>2022-06-19</th>\n",
       "      <td>0.951469</td>\n",
       "      <td>0.509845</td>\n",
       "      <td>-0.462546</td>\n",
       "      <td>-1.213506</td>\n",
       "    </tr>\n",
       "    <tr>\n",
       "      <th>2022-06-20</th>\n",
       "      <td>-0.439995</td>\n",
       "      <td>1.077854</td>\n",
       "      <td>1.328994</td>\n",
       "      <td>0.963205</td>\n",
       "    </tr>\n",
       "    <tr>\n",
       "      <th>2022-06-21</th>\n",
       "      <td>0.107086</td>\n",
       "      <td>-1.869701</td>\n",
       "      <td>-1.478948</td>\n",
       "      <td>-0.230958</td>\n",
       "    </tr>\n",
       "    <tr>\n",
       "      <th>2022-06-22</th>\n",
       "      <td>0.644756</td>\n",
       "      <td>-0.927166</td>\n",
       "      <td>-2.401900</td>\n",
       "      <td>0.737268</td>\n",
       "    </tr>\n",
       "    <tr>\n",
       "      <th>2022-06-23</th>\n",
       "      <td>-0.077502</td>\n",
       "      <td>-0.119173</td>\n",
       "      <td>0.810236</td>\n",
       "      <td>1.038025</td>\n",
       "    </tr>\n",
       "  </tbody>\n",
       "</table>\n",
       "</div>"
      ],
      "text/plain": [
       "                   A         B         C         D\n",
       "2022-06-19  0.951469  0.509845 -0.462546 -1.213506\n",
       "2022-06-20 -0.439995  1.077854  1.328994  0.963205\n",
       "2022-06-21  0.107086 -1.869701 -1.478948 -0.230958\n",
       "2022-06-22  0.644756 -0.927166 -2.401900  0.737268\n",
       "2022-06-23 -0.077502 -0.119173  0.810236  1.038025"
      ]
     },
     "execution_count": 36,
     "metadata": {},
     "output_type": "execute_result"
    }
   ],
   "source": [
    "# top of the dataframe\n",
    "df.head()"
   ]
  },
  {
   "cell_type": "code",
   "execution_count": 37,
   "id": "0bdc3e26",
   "metadata": {},
   "outputs": [
    {
     "data": {
      "text/html": [
       "<div>\n",
       "<style scoped>\n",
       "    .dataframe tbody tr th:only-of-type {\n",
       "        vertical-align: middle;\n",
       "    }\n",
       "\n",
       "    .dataframe tbody tr th {\n",
       "        vertical-align: top;\n",
       "    }\n",
       "\n",
       "    .dataframe thead th {\n",
       "        text-align: right;\n",
       "    }\n",
       "</style>\n",
       "<table border=\"1\" class=\"dataframe\">\n",
       "  <thead>\n",
       "    <tr style=\"text-align: right;\">\n",
       "      <th></th>\n",
       "      <th>A</th>\n",
       "      <th>B</th>\n",
       "      <th>C</th>\n",
       "      <th>D</th>\n",
       "    </tr>\n",
       "  </thead>\n",
       "  <tbody>\n",
       "    <tr>\n",
       "      <th>2022-06-26</th>\n",
       "      <td>-0.737959</td>\n",
       "      <td>-0.217128</td>\n",
       "      <td>-1.357031</td>\n",
       "      <td>-1.084376</td>\n",
       "    </tr>\n",
       "    <tr>\n",
       "      <th>2022-06-27</th>\n",
       "      <td>0.862039</td>\n",
       "      <td>-0.209451</td>\n",
       "      <td>-0.068883</td>\n",
       "      <td>0.666439</td>\n",
       "    </tr>\n",
       "    <tr>\n",
       "      <th>2022-06-28</th>\n",
       "      <td>-1.324962</td>\n",
       "      <td>-0.528841</td>\n",
       "      <td>-1.014416</td>\n",
       "      <td>0.667417</td>\n",
       "    </tr>\n",
       "  </tbody>\n",
       "</table>\n",
       "</div>"
      ],
      "text/plain": [
       "                   A         B         C         D\n",
       "2022-06-26 -0.737959 -0.217128 -1.357031 -1.084376\n",
       "2022-06-27  0.862039 -0.209451 -0.068883  0.666439\n",
       "2022-06-28 -1.324962 -0.528841 -1.014416  0.667417"
      ]
     },
     "execution_count": 37,
     "metadata": {},
     "output_type": "execute_result"
    }
   ],
   "source": [
    "# bottom 3 records of the dataframe\n",
    "df.tail(3)"
   ]
  },
  {
   "cell_type": "code",
   "execution_count": 38,
   "id": "b73f0ca7",
   "metadata": {},
   "outputs": [
    {
     "data": {
      "text/plain": [
       "DatetimeIndex(['2022-06-19', '2022-06-20', '2022-06-21', '2022-06-22',\n",
       "               '2022-06-23', '2022-06-24', '2022-06-25', '2022-06-26',\n",
       "               '2022-06-27', '2022-06-28'],\n",
       "              dtype='datetime64[ns]', freq='D')"
      ]
     },
     "execution_count": 38,
     "metadata": {},
     "output_type": "execute_result"
    }
   ],
   "source": [
    "# index of the df\n",
    "df.index"
   ]
  },
  {
   "cell_type": "code",
   "execution_count": 39,
   "id": "36de6d83",
   "metadata": {},
   "outputs": [
    {
     "data": {
      "text/plain": [
       "Index(['A', 'B', 'C', 'D'], dtype='object')"
      ]
     },
     "execution_count": 39,
     "metadata": {},
     "output_type": "execute_result"
    }
   ],
   "source": [
    "# columns of the df\n",
    "df.columns"
   ]
  },
  {
   "cell_type": "code",
   "execution_count": 40,
   "id": "129b8d6e",
   "metadata": {},
   "outputs": [
    {
     "data": {
      "text/plain": [
       "array([[ 0.95146917,  0.50984502, -0.46254611, -1.21350584],\n",
       "       [-0.43999545,  1.07785424,  1.32899363,  0.96320468],\n",
       "       [ 0.10708634, -1.8697014 , -1.47894754, -0.2309576 ],\n",
       "       [ 0.64475584, -0.92716622, -2.40190036,  0.737268  ],\n",
       "       [-0.07750214, -0.1191733 ,  0.81023631,  1.03802485],\n",
       "       [ 0.10691187, -2.04941826,  0.3206904 ,  0.54937395],\n",
       "       [-0.15191318,  0.42598992,  1.41046083, -2.09969434],\n",
       "       [-0.73795882, -0.2171277 , -1.3570306 , -1.08437643],\n",
       "       [ 0.86203869, -0.20945078, -0.06888266,  0.66643926],\n",
       "       [-1.32496233, -0.52884103, -1.01441608,  0.66741706]])"
      ]
     },
     "execution_count": 40,
     "metadata": {},
     "output_type": "execute_result"
    }
   ],
   "source": [
    "# .to_numpy gives a NumPy representation of the dataframe\n",
    "# this is expensive if all columns are of different data type\n",
    "df.to_numpy()"
   ]
  },
  {
   "cell_type": "code",
   "execution_count": 41,
   "id": "6cd5dcec",
   "metadata": {},
   "outputs": [
    {
     "data": {
      "text/plain": [
       "array([[1.0, Timestamp('2022-06-19 00:00:00'), 1.0, 3, 'test', 'f',\n",
       "        'foo'],\n",
       "       [1.0, Timestamp('2022-06-19 00:00:00'), 1.0, 3, 'train', 'o',\n",
       "        'foo'],\n",
       "       [1.0, Timestamp('2022-06-19 00:00:00'), 1.0, 3, 'test', 'o',\n",
       "        'foo'],\n",
       "       [1.0, Timestamp('2022-06-19 00:00:00'), 1.0, 3, 'train', 'f',\n",
       "        'foo'],\n",
       "       [1.0, Timestamp('2022-06-19 00:00:00'), 1.0, 3, 'test', 'o',\n",
       "        'foo'],\n",
       "       [1.0, Timestamp('2022-06-19 00:00:00'), 1.0, 3, 'train', 'o',\n",
       "        'foo']], dtype=object)"
      ]
     },
     "execution_count": 41,
     "metadata": {},
     "output_type": "execute_result"
    }
   ],
   "source": [
    "df2.to_numpy()"
   ]
  },
  {
   "cell_type": "code",
   "execution_count": 42,
   "id": "91cca609",
   "metadata": {},
   "outputs": [
    {
     "data": {
      "text/html": [
       "<div>\n",
       "<style scoped>\n",
       "    .dataframe tbody tr th:only-of-type {\n",
       "        vertical-align: middle;\n",
       "    }\n",
       "\n",
       "    .dataframe tbody tr th {\n",
       "        vertical-align: top;\n",
       "    }\n",
       "\n",
       "    .dataframe thead th {\n",
       "        text-align: right;\n",
       "    }\n",
       "</style>\n",
       "<table border=\"1\" class=\"dataframe\">\n",
       "  <thead>\n",
       "    <tr style=\"text-align: right;\">\n",
       "      <th></th>\n",
       "      <th>A</th>\n",
       "      <th>B</th>\n",
       "      <th>C</th>\n",
       "      <th>D</th>\n",
       "    </tr>\n",
       "  </thead>\n",
       "  <tbody>\n",
       "    <tr>\n",
       "      <th>count</th>\n",
       "      <td>10.000000</td>\n",
       "      <td>10.000000</td>\n",
       "      <td>10.000000</td>\n",
       "      <td>10.000000</td>\n",
       "    </tr>\n",
       "    <tr>\n",
       "      <th>mean</th>\n",
       "      <td>-0.006007</td>\n",
       "      <td>-0.390719</td>\n",
       "      <td>-0.291334</td>\n",
       "      <td>-0.000681</td>\n",
       "    </tr>\n",
       "    <tr>\n",
       "      <th>std</th>\n",
       "      <td>0.715654</td>\n",
       "      <td>1.000944</td>\n",
       "      <td>1.278535</td>\n",
       "      <td>1.098016</td>\n",
       "    </tr>\n",
       "    <tr>\n",
       "      <th>min</th>\n",
       "      <td>-1.324962</td>\n",
       "      <td>-2.049418</td>\n",
       "      <td>-2.401900</td>\n",
       "      <td>-2.099694</td>\n",
       "    </tr>\n",
       "    <tr>\n",
       "      <th>25%</th>\n",
       "      <td>-0.367975</td>\n",
       "      <td>-0.827585</td>\n",
       "      <td>-1.271377</td>\n",
       "      <td>-0.871022</td>\n",
       "    </tr>\n",
       "    <tr>\n",
       "      <th>50%</th>\n",
       "      <td>0.014705</td>\n",
       "      <td>-0.213289</td>\n",
       "      <td>-0.265714</td>\n",
       "      <td>0.607907</td>\n",
       "    </tr>\n",
       "    <tr>\n",
       "      <th>75%</th>\n",
       "      <td>0.510338</td>\n",
       "      <td>0.289699</td>\n",
       "      <td>0.687850</td>\n",
       "      <td>0.719805</td>\n",
       "    </tr>\n",
       "    <tr>\n",
       "      <th>max</th>\n",
       "      <td>0.951469</td>\n",
       "      <td>1.077854</td>\n",
       "      <td>1.410461</td>\n",
       "      <td>1.038025</td>\n",
       "    </tr>\n",
       "  </tbody>\n",
       "</table>\n",
       "</div>"
      ],
      "text/plain": [
       "               A          B          C          D\n",
       "count  10.000000  10.000000  10.000000  10.000000\n",
       "mean   -0.006007  -0.390719  -0.291334  -0.000681\n",
       "std     0.715654   1.000944   1.278535   1.098016\n",
       "min    -1.324962  -2.049418  -2.401900  -2.099694\n",
       "25%    -0.367975  -0.827585  -1.271377  -0.871022\n",
       "50%     0.014705  -0.213289  -0.265714   0.607907\n",
       "75%     0.510338   0.289699   0.687850   0.719805\n",
       "max     0.951469   1.077854   1.410461   1.038025"
      ]
     },
     "execution_count": 42,
     "metadata": {},
     "output_type": "execute_result"
    }
   ],
   "source": [
    "# quick summary stats\n",
    "df.describe()"
   ]
  },
  {
   "cell_type": "markdown",
   "id": "58de9fb8",
   "metadata": {},
   "source": [
    "1. **count** = Count number of non-NA/null observations\n",
    "1. **max** = Maximum of the values in the object\n",
    "1. **min** = Minimum of the values in the object\n",
    "1. **mean** = Mean of the values\n",
    "1. **std** = Standard deviation of the observations\n",
    "1. **25%** = Default lower percentile\n",
    "1. **50%** = 50 percentile - same as the median \n",
    "1. **75%** = Default upper percentile"
   ]
  },
  {
   "cell_type": "code",
   "execution_count": 43,
   "id": "29b4948e",
   "metadata": {},
   "outputs": [
    {
     "data": {
      "text/html": [
       "<div>\n",
       "<style scoped>\n",
       "    .dataframe tbody tr th:only-of-type {\n",
       "        vertical-align: middle;\n",
       "    }\n",
       "\n",
       "    .dataframe tbody tr th {\n",
       "        vertical-align: top;\n",
       "    }\n",
       "\n",
       "    .dataframe thead th {\n",
       "        text-align: right;\n",
       "    }\n",
       "</style>\n",
       "<table border=\"1\" class=\"dataframe\">\n",
       "  <thead>\n",
       "    <tr style=\"text-align: right;\">\n",
       "      <th></th>\n",
       "      <th>A</th>\n",
       "      <th>B</th>\n",
       "      <th>C</th>\n",
       "      <th>D</th>\n",
       "    </tr>\n",
       "  </thead>\n",
       "  <tbody>\n",
       "    <tr>\n",
       "      <th>count</th>\n",
       "      <td>10.000000</td>\n",
       "      <td>10.000000</td>\n",
       "      <td>10.000000</td>\n",
       "      <td>10.000000</td>\n",
       "    </tr>\n",
       "    <tr>\n",
       "      <th>mean</th>\n",
       "      <td>-0.006007</td>\n",
       "      <td>-0.390719</td>\n",
       "      <td>-0.291334</td>\n",
       "      <td>-0.000681</td>\n",
       "    </tr>\n",
       "    <tr>\n",
       "      <th>std</th>\n",
       "      <td>0.715654</td>\n",
       "      <td>1.000944</td>\n",
       "      <td>1.278535</td>\n",
       "      <td>1.098016</td>\n",
       "    </tr>\n",
       "    <tr>\n",
       "      <th>min</th>\n",
       "      <td>-1.324962</td>\n",
       "      <td>-2.049418</td>\n",
       "      <td>-2.401900</td>\n",
       "      <td>-2.099694</td>\n",
       "    </tr>\n",
       "    <tr>\n",
       "      <th>10%</th>\n",
       "      <td>-0.796659</td>\n",
       "      <td>-1.887673</td>\n",
       "      <td>-1.571243</td>\n",
       "      <td>-1.302125</td>\n",
       "    </tr>\n",
       "    <tr>\n",
       "      <th>50%</th>\n",
       "      <td>0.014705</td>\n",
       "      <td>-0.213289</td>\n",
       "      <td>-0.265714</td>\n",
       "      <td>0.607907</td>\n",
       "    </tr>\n",
       "    <tr>\n",
       "      <th>90%</th>\n",
       "      <td>0.870982</td>\n",
       "      <td>0.566646</td>\n",
       "      <td>1.337140</td>\n",
       "      <td>0.970687</td>\n",
       "    </tr>\n",
       "    <tr>\n",
       "      <th>max</th>\n",
       "      <td>0.951469</td>\n",
       "      <td>1.077854</td>\n",
       "      <td>1.410461</td>\n",
       "      <td>1.038025</td>\n",
       "    </tr>\n",
       "  </tbody>\n",
       "</table>\n",
       "</div>"
      ],
      "text/plain": [
       "               A          B          C          D\n",
       "count  10.000000  10.000000  10.000000  10.000000\n",
       "mean   -0.006007  -0.390719  -0.291334  -0.000681\n",
       "std     0.715654   1.000944   1.278535   1.098016\n",
       "min    -1.324962  -2.049418  -2.401900  -2.099694\n",
       "10%    -0.796659  -1.887673  -1.571243  -1.302125\n",
       "50%     0.014705  -0.213289  -0.265714   0.607907\n",
       "90%     0.870982   0.566646   1.337140   0.970687\n",
       "max     0.951469   1.077854   1.410461   1.038025"
      ]
     },
     "execution_count": 43,
     "metadata": {},
     "output_type": "execute_result"
    }
   ],
   "source": [
    "# change the percentiles\n",
    "df.describe(percentiles=[.1, .5, .9])"
   ]
  },
  {
   "cell_type": "code",
   "execution_count": 44,
   "id": "f75430ca",
   "metadata": {},
   "outputs": [
    {
     "data": {
      "text/html": [
       "<div>\n",
       "<style scoped>\n",
       "    .dataframe tbody tr th:only-of-type {\n",
       "        vertical-align: middle;\n",
       "    }\n",
       "\n",
       "    .dataframe tbody tr th {\n",
       "        vertical-align: top;\n",
       "    }\n",
       "\n",
       "    .dataframe thead th {\n",
       "        text-align: right;\n",
       "    }\n",
       "</style>\n",
       "<table border=\"1\" class=\"dataframe\">\n",
       "  <thead>\n",
       "    <tr style=\"text-align: right;\">\n",
       "      <th></th>\n",
       "      <th>A</th>\n",
       "      <th>B</th>\n",
       "      <th>C</th>\n",
       "      <th>D</th>\n",
       "    </tr>\n",
       "  </thead>\n",
       "  <tbody>\n",
       "    <tr>\n",
       "      <th>count</th>\n",
       "      <td>6.0</td>\n",
       "      <td>6</td>\n",
       "      <td>6.0</td>\n",
       "      <td>6.0</td>\n",
       "    </tr>\n",
       "    <tr>\n",
       "      <th>mean</th>\n",
       "      <td>1.0</td>\n",
       "      <td>2022-06-19 00:00:00</td>\n",
       "      <td>1.0</td>\n",
       "      <td>3.0</td>\n",
       "    </tr>\n",
       "    <tr>\n",
       "      <th>min</th>\n",
       "      <td>1.0</td>\n",
       "      <td>2022-06-19 00:00:00</td>\n",
       "      <td>1.0</td>\n",
       "      <td>3.0</td>\n",
       "    </tr>\n",
       "    <tr>\n",
       "      <th>25%</th>\n",
       "      <td>1.0</td>\n",
       "      <td>2022-06-19 00:00:00</td>\n",
       "      <td>1.0</td>\n",
       "      <td>3.0</td>\n",
       "    </tr>\n",
       "    <tr>\n",
       "      <th>50%</th>\n",
       "      <td>1.0</td>\n",
       "      <td>2022-06-19 00:00:00</td>\n",
       "      <td>1.0</td>\n",
       "      <td>3.0</td>\n",
       "    </tr>\n",
       "    <tr>\n",
       "      <th>75%</th>\n",
       "      <td>1.0</td>\n",
       "      <td>2022-06-19 00:00:00</td>\n",
       "      <td>1.0</td>\n",
       "      <td>3.0</td>\n",
       "    </tr>\n",
       "    <tr>\n",
       "      <th>max</th>\n",
       "      <td>1.0</td>\n",
       "      <td>2022-06-19 00:00:00</td>\n",
       "      <td>1.0</td>\n",
       "      <td>3.0</td>\n",
       "    </tr>\n",
       "    <tr>\n",
       "      <th>std</th>\n",
       "      <td>0.0</td>\n",
       "      <td>NaN</td>\n",
       "      <td>0.0</td>\n",
       "      <td>0.0</td>\n",
       "    </tr>\n",
       "  </tbody>\n",
       "</table>\n",
       "</div>"
      ],
      "text/plain": [
       "         A                    B    C    D\n",
       "count  6.0                    6  6.0  6.0\n",
       "mean   1.0  2022-06-19 00:00:00  1.0  3.0\n",
       "min    1.0  2022-06-19 00:00:00  1.0  3.0\n",
       "25%    1.0  2022-06-19 00:00:00  1.0  3.0\n",
       "50%    1.0  2022-06-19 00:00:00  1.0  3.0\n",
       "75%    1.0  2022-06-19 00:00:00  1.0  3.0\n",
       "max    1.0  2022-06-19 00:00:00  1.0  3.0\n",
       "std    0.0                  NaN  0.0  0.0"
      ]
     },
     "execution_count": 44,
     "metadata": {},
     "output_type": "execute_result"
    }
   ],
   "source": [
    "# E, F, G in d2 are not numeric, so do not come up in describe()\n",
    "df2.describe()"
   ]
  },
  {
   "cell_type": "code",
   "execution_count": 45,
   "id": "bf5071c6",
   "metadata": {},
   "outputs": [
    {
     "data": {
      "text/html": [
       "<div>\n",
       "<style scoped>\n",
       "    .dataframe tbody tr th:only-of-type {\n",
       "        vertical-align: middle;\n",
       "    }\n",
       "\n",
       "    .dataframe tbody tr th {\n",
       "        vertical-align: top;\n",
       "    }\n",
       "\n",
       "    .dataframe thead th {\n",
       "        text-align: right;\n",
       "    }\n",
       "</style>\n",
       "<table border=\"1\" class=\"dataframe\">\n",
       "  <thead>\n",
       "    <tr style=\"text-align: right;\">\n",
       "      <th></th>\n",
       "      <th>2022-06-19</th>\n",
       "      <th>2022-06-20</th>\n",
       "      <th>2022-06-21</th>\n",
       "      <th>2022-06-22</th>\n",
       "      <th>2022-06-23</th>\n",
       "      <th>2022-06-24</th>\n",
       "      <th>2022-06-25</th>\n",
       "      <th>2022-06-26</th>\n",
       "      <th>2022-06-27</th>\n",
       "      <th>2022-06-28</th>\n",
       "    </tr>\n",
       "  </thead>\n",
       "  <tbody>\n",
       "    <tr>\n",
       "      <th>A</th>\n",
       "      <td>0.951469</td>\n",
       "      <td>-0.439995</td>\n",
       "      <td>0.107086</td>\n",
       "      <td>0.644756</td>\n",
       "      <td>-0.077502</td>\n",
       "      <td>0.106912</td>\n",
       "      <td>-0.151913</td>\n",
       "      <td>-0.737959</td>\n",
       "      <td>0.862039</td>\n",
       "      <td>-1.324962</td>\n",
       "    </tr>\n",
       "    <tr>\n",
       "      <th>B</th>\n",
       "      <td>0.509845</td>\n",
       "      <td>1.077854</td>\n",
       "      <td>-1.869701</td>\n",
       "      <td>-0.927166</td>\n",
       "      <td>-0.119173</td>\n",
       "      <td>-2.049418</td>\n",
       "      <td>0.425990</td>\n",
       "      <td>-0.217128</td>\n",
       "      <td>-0.209451</td>\n",
       "      <td>-0.528841</td>\n",
       "    </tr>\n",
       "    <tr>\n",
       "      <th>C</th>\n",
       "      <td>-0.462546</td>\n",
       "      <td>1.328994</td>\n",
       "      <td>-1.478948</td>\n",
       "      <td>-2.401900</td>\n",
       "      <td>0.810236</td>\n",
       "      <td>0.320690</td>\n",
       "      <td>1.410461</td>\n",
       "      <td>-1.357031</td>\n",
       "      <td>-0.068883</td>\n",
       "      <td>-1.014416</td>\n",
       "    </tr>\n",
       "    <tr>\n",
       "      <th>D</th>\n",
       "      <td>-1.213506</td>\n",
       "      <td>0.963205</td>\n",
       "      <td>-0.230958</td>\n",
       "      <td>0.737268</td>\n",
       "      <td>1.038025</td>\n",
       "      <td>0.549374</td>\n",
       "      <td>-2.099694</td>\n",
       "      <td>-1.084376</td>\n",
       "      <td>0.666439</td>\n",
       "      <td>0.667417</td>\n",
       "    </tr>\n",
       "  </tbody>\n",
       "</table>\n",
       "</div>"
      ],
      "text/plain": [
       "   2022-06-19  2022-06-20  2022-06-21  2022-06-22  2022-06-23  2022-06-24  \\\n",
       "A    0.951469   -0.439995    0.107086    0.644756   -0.077502    0.106912   \n",
       "B    0.509845    1.077854   -1.869701   -0.927166   -0.119173   -2.049418   \n",
       "C   -0.462546    1.328994   -1.478948   -2.401900    0.810236    0.320690   \n",
       "D   -1.213506    0.963205   -0.230958    0.737268    1.038025    0.549374   \n",
       "\n",
       "   2022-06-25  2022-06-26  2022-06-27  2022-06-28  \n",
       "A   -0.151913   -0.737959    0.862039   -1.324962  \n",
       "B    0.425990   -0.217128   -0.209451   -0.528841  \n",
       "C    1.410461   -1.357031   -0.068883   -1.014416  \n",
       "D   -2.099694   -1.084376    0.666439    0.667417  "
      ]
     },
     "execution_count": 45,
     "metadata": {},
     "output_type": "execute_result"
    }
   ],
   "source": [
    "# transpose the data\n",
    "# turn rows to columns and vice versa\n",
    "df.T"
   ]
  },
  {
   "cell_type": "markdown",
   "id": "00af64c9-7a0b-40e4-98dd-b81558f95a24",
   "metadata": {},
   "source": [
    "### [Axis in pandas](https://pandas.pydata.org/docs/reference/api/pandas.DataFrame.set_axis.html?highlight=set_ax#pandas.DataFrame.set_axis)\n",
    "\n",
    "```axis{0 or ‘index’, 1 or ‘columns’}```\n",
    "\n",
    "Always remember that when you specify:\n",
    "* ```axis=0``` or ```axis='index'``` you indicate that the operation should be along the _index_ (aka across the rows). More often than not indexes will go from top to bottom (vertically), but sometimes they may not (for e.g. if you use columns as index or when you have hierarchical or multi-index data).\n",
    "* ```axis=1``` or ```axis='columns'``` indicates the operation is along the columns\n",
    "\n",
    "When in doubt use the explicit version ```'index'``` or ```'columns'``` instead of ```0``` or ```1```"
   ]
  },
  {
   "cell_type": "code",
   "execution_count": 46,
   "id": "716de767",
   "metadata": {},
   "outputs": [
    {
     "data": {
      "text/html": [
       "<div>\n",
       "<style scoped>\n",
       "    .dataframe tbody tr th:only-of-type {\n",
       "        vertical-align: middle;\n",
       "    }\n",
       "\n",
       "    .dataframe tbody tr th {\n",
       "        vertical-align: top;\n",
       "    }\n",
       "\n",
       "    .dataframe thead th {\n",
       "        text-align: right;\n",
       "    }\n",
       "</style>\n",
       "<table border=\"1\" class=\"dataframe\">\n",
       "  <thead>\n",
       "    <tr style=\"text-align: right;\">\n",
       "      <th></th>\n",
       "      <th>D</th>\n",
       "      <th>C</th>\n",
       "      <th>B</th>\n",
       "      <th>A</th>\n",
       "    </tr>\n",
       "  </thead>\n",
       "  <tbody>\n",
       "    <tr>\n",
       "      <th>2022-06-19</th>\n",
       "      <td>-1.213506</td>\n",
       "      <td>-0.462546</td>\n",
       "      <td>0.509845</td>\n",
       "      <td>0.951469</td>\n",
       "    </tr>\n",
       "    <tr>\n",
       "      <th>2022-06-20</th>\n",
       "      <td>0.963205</td>\n",
       "      <td>1.328994</td>\n",
       "      <td>1.077854</td>\n",
       "      <td>-0.439995</td>\n",
       "    </tr>\n",
       "    <tr>\n",
       "      <th>2022-06-21</th>\n",
       "      <td>-0.230958</td>\n",
       "      <td>-1.478948</td>\n",
       "      <td>-1.869701</td>\n",
       "      <td>0.107086</td>\n",
       "    </tr>\n",
       "    <tr>\n",
       "      <th>2022-06-22</th>\n",
       "      <td>0.737268</td>\n",
       "      <td>-2.401900</td>\n",
       "      <td>-0.927166</td>\n",
       "      <td>0.644756</td>\n",
       "    </tr>\n",
       "    <tr>\n",
       "      <th>2022-06-23</th>\n",
       "      <td>1.038025</td>\n",
       "      <td>0.810236</td>\n",
       "      <td>-0.119173</td>\n",
       "      <td>-0.077502</td>\n",
       "    </tr>\n",
       "    <tr>\n",
       "      <th>2022-06-24</th>\n",
       "      <td>0.549374</td>\n",
       "      <td>0.320690</td>\n",
       "      <td>-2.049418</td>\n",
       "      <td>0.106912</td>\n",
       "    </tr>\n",
       "    <tr>\n",
       "      <th>2022-06-25</th>\n",
       "      <td>-2.099694</td>\n",
       "      <td>1.410461</td>\n",
       "      <td>0.425990</td>\n",
       "      <td>-0.151913</td>\n",
       "    </tr>\n",
       "    <tr>\n",
       "      <th>2022-06-26</th>\n",
       "      <td>-1.084376</td>\n",
       "      <td>-1.357031</td>\n",
       "      <td>-0.217128</td>\n",
       "      <td>-0.737959</td>\n",
       "    </tr>\n",
       "    <tr>\n",
       "      <th>2022-06-27</th>\n",
       "      <td>0.666439</td>\n",
       "      <td>-0.068883</td>\n",
       "      <td>-0.209451</td>\n",
       "      <td>0.862039</td>\n",
       "    </tr>\n",
       "    <tr>\n",
       "      <th>2022-06-28</th>\n",
       "      <td>0.667417</td>\n",
       "      <td>-1.014416</td>\n",
       "      <td>-0.528841</td>\n",
       "      <td>-1.324962</td>\n",
       "    </tr>\n",
       "  </tbody>\n",
       "</table>\n",
       "</div>"
      ],
      "text/plain": [
       "                   D         C         B         A\n",
       "2022-06-19 -1.213506 -0.462546  0.509845  0.951469\n",
       "2022-06-20  0.963205  1.328994  1.077854 -0.439995\n",
       "2022-06-21 -0.230958 -1.478948 -1.869701  0.107086\n",
       "2022-06-22  0.737268 -2.401900 -0.927166  0.644756\n",
       "2022-06-23  1.038025  0.810236 -0.119173 -0.077502\n",
       "2022-06-24  0.549374  0.320690 -2.049418  0.106912\n",
       "2022-06-25 -2.099694  1.410461  0.425990 -0.151913\n",
       "2022-06-26 -1.084376 -1.357031 -0.217128 -0.737959\n",
       "2022-06-27  0.666439 -0.068883 -0.209451  0.862039\n",
       "2022-06-28  0.667417 -1.014416 -0.528841 -1.324962"
      ]
     },
     "execution_count": 46,
     "metadata": {},
     "output_type": "execute_result"
    }
   ],
   "source": [
    "# sort along the axis - 1 = horizontal\n",
    "df.sort_index(axis=1, ascending=False)"
   ]
  },
  {
   "cell_type": "code",
   "execution_count": 47,
   "id": "251f4ef7",
   "metadata": {},
   "outputs": [
    {
     "data": {
      "text/html": [
       "<div>\n",
       "<style scoped>\n",
       "    .dataframe tbody tr th:only-of-type {\n",
       "        vertical-align: middle;\n",
       "    }\n",
       "\n",
       "    .dataframe tbody tr th {\n",
       "        vertical-align: top;\n",
       "    }\n",
       "\n",
       "    .dataframe thead th {\n",
       "        text-align: right;\n",
       "    }\n",
       "</style>\n",
       "<table border=\"1\" class=\"dataframe\">\n",
       "  <thead>\n",
       "    <tr style=\"text-align: right;\">\n",
       "      <th></th>\n",
       "      <th>A</th>\n",
       "      <th>B</th>\n",
       "      <th>C</th>\n",
       "      <th>D</th>\n",
       "    </tr>\n",
       "  </thead>\n",
       "  <tbody>\n",
       "    <tr>\n",
       "      <th>2022-06-28</th>\n",
       "      <td>-1.324962</td>\n",
       "      <td>-0.528841</td>\n",
       "      <td>-1.014416</td>\n",
       "      <td>0.667417</td>\n",
       "    </tr>\n",
       "    <tr>\n",
       "      <th>2022-06-27</th>\n",
       "      <td>0.862039</td>\n",
       "      <td>-0.209451</td>\n",
       "      <td>-0.068883</td>\n",
       "      <td>0.666439</td>\n",
       "    </tr>\n",
       "    <tr>\n",
       "      <th>2022-06-26</th>\n",
       "      <td>-0.737959</td>\n",
       "      <td>-0.217128</td>\n",
       "      <td>-1.357031</td>\n",
       "      <td>-1.084376</td>\n",
       "    </tr>\n",
       "    <tr>\n",
       "      <th>2022-06-25</th>\n",
       "      <td>-0.151913</td>\n",
       "      <td>0.425990</td>\n",
       "      <td>1.410461</td>\n",
       "      <td>-2.099694</td>\n",
       "    </tr>\n",
       "    <tr>\n",
       "      <th>2022-06-24</th>\n",
       "      <td>0.106912</td>\n",
       "      <td>-2.049418</td>\n",
       "      <td>0.320690</td>\n",
       "      <td>0.549374</td>\n",
       "    </tr>\n",
       "    <tr>\n",
       "      <th>2022-06-23</th>\n",
       "      <td>-0.077502</td>\n",
       "      <td>-0.119173</td>\n",
       "      <td>0.810236</td>\n",
       "      <td>1.038025</td>\n",
       "    </tr>\n",
       "    <tr>\n",
       "      <th>2022-06-22</th>\n",
       "      <td>0.644756</td>\n",
       "      <td>-0.927166</td>\n",
       "      <td>-2.401900</td>\n",
       "      <td>0.737268</td>\n",
       "    </tr>\n",
       "    <tr>\n",
       "      <th>2022-06-21</th>\n",
       "      <td>0.107086</td>\n",
       "      <td>-1.869701</td>\n",
       "      <td>-1.478948</td>\n",
       "      <td>-0.230958</td>\n",
       "    </tr>\n",
       "    <tr>\n",
       "      <th>2022-06-20</th>\n",
       "      <td>-0.439995</td>\n",
       "      <td>1.077854</td>\n",
       "      <td>1.328994</td>\n",
       "      <td>0.963205</td>\n",
       "    </tr>\n",
       "    <tr>\n",
       "      <th>2022-06-19</th>\n",
       "      <td>0.951469</td>\n",
       "      <td>0.509845</td>\n",
       "      <td>-0.462546</td>\n",
       "      <td>-1.213506</td>\n",
       "    </tr>\n",
       "  </tbody>\n",
       "</table>\n",
       "</div>"
      ],
      "text/plain": [
       "                   A         B         C         D\n",
       "2022-06-28 -1.324962 -0.528841 -1.014416  0.667417\n",
       "2022-06-27  0.862039 -0.209451 -0.068883  0.666439\n",
       "2022-06-26 -0.737959 -0.217128 -1.357031 -1.084376\n",
       "2022-06-25 -0.151913  0.425990  1.410461 -2.099694\n",
       "2022-06-24  0.106912 -2.049418  0.320690  0.549374\n",
       "2022-06-23 -0.077502 -0.119173  0.810236  1.038025\n",
       "2022-06-22  0.644756 -0.927166 -2.401900  0.737268\n",
       "2022-06-21  0.107086 -1.869701 -1.478948 -0.230958\n",
       "2022-06-20 -0.439995  1.077854  1.328994  0.963205\n",
       "2022-06-19  0.951469  0.509845 -0.462546 -1.213506"
      ]
     },
     "execution_count": 47,
     "metadata": {},
     "output_type": "execute_result"
    }
   ],
   "source": [
    "# sort along the axis - 0 = vertical\n",
    "df.sort_index(axis=0, ascending=False)"
   ]
  },
  {
   "cell_type": "code",
   "execution_count": 48,
   "id": "674f8403",
   "metadata": {},
   "outputs": [
    {
     "data": {
      "text/html": [
       "<div>\n",
       "<style scoped>\n",
       "    .dataframe tbody tr th:only-of-type {\n",
       "        vertical-align: middle;\n",
       "    }\n",
       "\n",
       "    .dataframe tbody tr th {\n",
       "        vertical-align: top;\n",
       "    }\n",
       "\n",
       "    .dataframe thead th {\n",
       "        text-align: right;\n",
       "    }\n",
       "</style>\n",
       "<table border=\"1\" class=\"dataframe\">\n",
       "  <thead>\n",
       "    <tr style=\"text-align: right;\">\n",
       "      <th></th>\n",
       "      <th>A</th>\n",
       "      <th>B</th>\n",
       "      <th>C</th>\n",
       "      <th>D</th>\n",
       "    </tr>\n",
       "  </thead>\n",
       "  <tbody>\n",
       "    <tr>\n",
       "      <th>2022-06-28</th>\n",
       "      <td>-1.324962</td>\n",
       "      <td>-0.528841</td>\n",
       "      <td>-1.014416</td>\n",
       "      <td>0.667417</td>\n",
       "    </tr>\n",
       "    <tr>\n",
       "      <th>2022-06-26</th>\n",
       "      <td>-0.737959</td>\n",
       "      <td>-0.217128</td>\n",
       "      <td>-1.357031</td>\n",
       "      <td>-1.084376</td>\n",
       "    </tr>\n",
       "    <tr>\n",
       "      <th>2022-06-20</th>\n",
       "      <td>-0.439995</td>\n",
       "      <td>1.077854</td>\n",
       "      <td>1.328994</td>\n",
       "      <td>0.963205</td>\n",
       "    </tr>\n",
       "    <tr>\n",
       "      <th>2022-06-25</th>\n",
       "      <td>-0.151913</td>\n",
       "      <td>0.425990</td>\n",
       "      <td>1.410461</td>\n",
       "      <td>-2.099694</td>\n",
       "    </tr>\n",
       "    <tr>\n",
       "      <th>2022-06-23</th>\n",
       "      <td>-0.077502</td>\n",
       "      <td>-0.119173</td>\n",
       "      <td>0.810236</td>\n",
       "      <td>1.038025</td>\n",
       "    </tr>\n",
       "    <tr>\n",
       "      <th>2022-06-24</th>\n",
       "      <td>0.106912</td>\n",
       "      <td>-2.049418</td>\n",
       "      <td>0.320690</td>\n",
       "      <td>0.549374</td>\n",
       "    </tr>\n",
       "    <tr>\n",
       "      <th>2022-06-21</th>\n",
       "      <td>0.107086</td>\n",
       "      <td>-1.869701</td>\n",
       "      <td>-1.478948</td>\n",
       "      <td>-0.230958</td>\n",
       "    </tr>\n",
       "    <tr>\n",
       "      <th>2022-06-22</th>\n",
       "      <td>0.644756</td>\n",
       "      <td>-0.927166</td>\n",
       "      <td>-2.401900</td>\n",
       "      <td>0.737268</td>\n",
       "    </tr>\n",
       "    <tr>\n",
       "      <th>2022-06-27</th>\n",
       "      <td>0.862039</td>\n",
       "      <td>-0.209451</td>\n",
       "      <td>-0.068883</td>\n",
       "      <td>0.666439</td>\n",
       "    </tr>\n",
       "    <tr>\n",
       "      <th>2022-06-19</th>\n",
       "      <td>0.951469</td>\n",
       "      <td>0.509845</td>\n",
       "      <td>-0.462546</td>\n",
       "      <td>-1.213506</td>\n",
       "    </tr>\n",
       "  </tbody>\n",
       "</table>\n",
       "</div>"
      ],
      "text/plain": [
       "                   A         B         C         D\n",
       "2022-06-28 -1.324962 -0.528841 -1.014416  0.667417\n",
       "2022-06-26 -0.737959 -0.217128 -1.357031 -1.084376\n",
       "2022-06-20 -0.439995  1.077854  1.328994  0.963205\n",
       "2022-06-25 -0.151913  0.425990  1.410461 -2.099694\n",
       "2022-06-23 -0.077502 -0.119173  0.810236  1.038025\n",
       "2022-06-24  0.106912 -2.049418  0.320690  0.549374\n",
       "2022-06-21  0.107086 -1.869701 -1.478948 -0.230958\n",
       "2022-06-22  0.644756 -0.927166 -2.401900  0.737268\n",
       "2022-06-27  0.862039 -0.209451 -0.068883  0.666439\n",
       "2022-06-19  0.951469  0.509845 -0.462546 -1.213506"
      ]
     },
     "execution_count": 48,
     "metadata": {},
     "output_type": "execute_result"
    }
   ],
   "source": [
    "# sort ascending by values in a column\n",
    "df.sort_values(by=\"A\")"
   ]
  },
  {
   "cell_type": "code",
   "execution_count": 49,
   "id": "2ae60294",
   "metadata": {},
   "outputs": [
    {
     "data": {
      "text/html": [
       "<div>\n",
       "<style scoped>\n",
       "    .dataframe tbody tr th:only-of-type {\n",
       "        vertical-align: middle;\n",
       "    }\n",
       "\n",
       "    .dataframe tbody tr th {\n",
       "        vertical-align: top;\n",
       "    }\n",
       "\n",
       "    .dataframe thead th {\n",
       "        text-align: right;\n",
       "    }\n",
       "</style>\n",
       "<table border=\"1\" class=\"dataframe\">\n",
       "  <thead>\n",
       "    <tr style=\"text-align: right;\">\n",
       "      <th></th>\n",
       "      <th>A</th>\n",
       "      <th>B</th>\n",
       "      <th>C</th>\n",
       "      <th>D</th>\n",
       "      <th>E</th>\n",
       "      <th>F</th>\n",
       "      <th>G</th>\n",
       "    </tr>\n",
       "  </thead>\n",
       "  <tbody>\n",
       "    <tr>\n",
       "      <th>1</th>\n",
       "      <td>1.0</td>\n",
       "      <td>2022-06-19</td>\n",
       "      <td>1.0</td>\n",
       "      <td>3</td>\n",
       "      <td>train</td>\n",
       "      <td>o</td>\n",
       "      <td>foo</td>\n",
       "    </tr>\n",
       "    <tr>\n",
       "      <th>2</th>\n",
       "      <td>1.0</td>\n",
       "      <td>2022-06-19</td>\n",
       "      <td>1.0</td>\n",
       "      <td>3</td>\n",
       "      <td>test</td>\n",
       "      <td>o</td>\n",
       "      <td>foo</td>\n",
       "    </tr>\n",
       "    <tr>\n",
       "      <th>4</th>\n",
       "      <td>1.0</td>\n",
       "      <td>2022-06-19</td>\n",
       "      <td>1.0</td>\n",
       "      <td>3</td>\n",
       "      <td>test</td>\n",
       "      <td>o</td>\n",
       "      <td>foo</td>\n",
       "    </tr>\n",
       "    <tr>\n",
       "      <th>5</th>\n",
       "      <td>1.0</td>\n",
       "      <td>2022-06-19</td>\n",
       "      <td>1.0</td>\n",
       "      <td>3</td>\n",
       "      <td>train</td>\n",
       "      <td>o</td>\n",
       "      <td>foo</td>\n",
       "    </tr>\n",
       "    <tr>\n",
       "      <th>0</th>\n",
       "      <td>1.0</td>\n",
       "      <td>2022-06-19</td>\n",
       "      <td>1.0</td>\n",
       "      <td>3</td>\n",
       "      <td>test</td>\n",
       "      <td>f</td>\n",
       "      <td>foo</td>\n",
       "    </tr>\n",
       "    <tr>\n",
       "      <th>3</th>\n",
       "      <td>1.0</td>\n",
       "      <td>2022-06-19</td>\n",
       "      <td>1.0</td>\n",
       "      <td>3</td>\n",
       "      <td>train</td>\n",
       "      <td>f</td>\n",
       "      <td>foo</td>\n",
       "    </tr>\n",
       "  </tbody>\n",
       "</table>\n",
       "</div>"
      ],
      "text/plain": [
       "     A          B    C  D      E  F    G\n",
       "1  1.0 2022-06-19  1.0  3  train  o  foo\n",
       "2  1.0 2022-06-19  1.0  3   test  o  foo\n",
       "4  1.0 2022-06-19  1.0  3   test  o  foo\n",
       "5  1.0 2022-06-19  1.0  3  train  o  foo\n",
       "0  1.0 2022-06-19  1.0  3   test  f  foo\n",
       "3  1.0 2022-06-19  1.0  3  train  f  foo"
      ]
     },
     "execution_count": 49,
     "metadata": {},
     "output_type": "execute_result"
    }
   ],
   "source": [
    "# sort by non-numerical values\n",
    "df2.sort_values(by=\"F\", ascending=False)"
   ]
  },
  {
   "cell_type": "code",
   "execution_count": 50,
   "id": "81450cb1",
   "metadata": {},
   "outputs": [
    {
     "data": {
      "text/html": [
       "<div>\n",
       "<style scoped>\n",
       "    .dataframe tbody tr th:only-of-type {\n",
       "        vertical-align: middle;\n",
       "    }\n",
       "\n",
       "    .dataframe tbody tr th {\n",
       "        vertical-align: top;\n",
       "    }\n",
       "\n",
       "    .dataframe thead th {\n",
       "        text-align: right;\n",
       "    }\n",
       "</style>\n",
       "<table border=\"1\" class=\"dataframe\">\n",
       "  <thead>\n",
       "    <tr style=\"text-align: right;\">\n",
       "      <th></th>\n",
       "      <th>A</th>\n",
       "      <th>B</th>\n",
       "      <th>C</th>\n",
       "      <th>D</th>\n",
       "      <th>E</th>\n",
       "      <th>F</th>\n",
       "      <th>G</th>\n",
       "    </tr>\n",
       "  </thead>\n",
       "  <tbody>\n",
       "    <tr>\n",
       "      <th>0</th>\n",
       "      <td>1.0</td>\n",
       "      <td>2022-06-19</td>\n",
       "      <td>1.0</td>\n",
       "      <td>3</td>\n",
       "      <td>test</td>\n",
       "      <td>f</td>\n",
       "      <td>foo</td>\n",
       "    </tr>\n",
       "    <tr>\n",
       "      <th>3</th>\n",
       "      <td>1.0</td>\n",
       "      <td>2022-06-19</td>\n",
       "      <td>1.0</td>\n",
       "      <td>3</td>\n",
       "      <td>train</td>\n",
       "      <td>f</td>\n",
       "      <td>foo</td>\n",
       "    </tr>\n",
       "    <tr>\n",
       "      <th>2</th>\n",
       "      <td>1.0</td>\n",
       "      <td>2022-06-19</td>\n",
       "      <td>1.0</td>\n",
       "      <td>3</td>\n",
       "      <td>test</td>\n",
       "      <td>o</td>\n",
       "      <td>foo</td>\n",
       "    </tr>\n",
       "    <tr>\n",
       "      <th>4</th>\n",
       "      <td>1.0</td>\n",
       "      <td>2022-06-19</td>\n",
       "      <td>1.0</td>\n",
       "      <td>3</td>\n",
       "      <td>test</td>\n",
       "      <td>o</td>\n",
       "      <td>foo</td>\n",
       "    </tr>\n",
       "    <tr>\n",
       "      <th>1</th>\n",
       "      <td>1.0</td>\n",
       "      <td>2022-06-19</td>\n",
       "      <td>1.0</td>\n",
       "      <td>3</td>\n",
       "      <td>train</td>\n",
       "      <td>o</td>\n",
       "      <td>foo</td>\n",
       "    </tr>\n",
       "    <tr>\n",
       "      <th>5</th>\n",
       "      <td>1.0</td>\n",
       "      <td>2022-06-19</td>\n",
       "      <td>1.0</td>\n",
       "      <td>3</td>\n",
       "      <td>train</td>\n",
       "      <td>o</td>\n",
       "      <td>foo</td>\n",
       "    </tr>\n",
       "  </tbody>\n",
       "</table>\n",
       "</div>"
      ],
      "text/plain": [
       "     A          B    C  D      E  F    G\n",
       "0  1.0 2022-06-19  1.0  3   test  f  foo\n",
       "3  1.0 2022-06-19  1.0  3  train  f  foo\n",
       "2  1.0 2022-06-19  1.0  3   test  o  foo\n",
       "4  1.0 2022-06-19  1.0  3   test  o  foo\n",
       "1  1.0 2022-06-19  1.0  3  train  o  foo\n",
       "5  1.0 2022-06-19  1.0  3  train  o  foo"
      ]
     },
     "execution_count": 50,
     "metadata": {},
     "output_type": "execute_result"
    }
   ],
   "source": [
    "# sort by two or more columns\n",
    "df2.sort_values(by=[\"F\", \"E\"])"
   ]
  },
  {
   "cell_type": "markdown",
   "id": "d4a509e6",
   "metadata": {},
   "source": [
    "# Selection"
   ]
  },
  {
   "cell_type": "markdown",
   "id": "d86de6b4",
   "metadata": {},
   "source": [
    "For production prefer the following instead of other data access methods (typical python methods like [\"col\"] or [a:b] slices etc.):\n",
    "\n",
    "```.at, .iat, .loc and .iloc.```"
   ]
  },
  {
   "cell_type": "markdown",
   "id": "2446ef57",
   "metadata": {},
   "source": [
    "## Getting"
   ]
  },
  {
   "cell_type": "code",
   "execution_count": 51,
   "id": "121dac8a",
   "metadata": {},
   "outputs": [
    {
     "data": {
      "text/plain": [
       "2022-06-19    0.951469\n",
       "2022-06-20   -0.439995\n",
       "2022-06-21    0.107086\n",
       "2022-06-22    0.644756\n",
       "2022-06-23   -0.077502\n",
       "2022-06-24    0.106912\n",
       "2022-06-25   -0.151913\n",
       "2022-06-26   -0.737959\n",
       "2022-06-27    0.862039\n",
       "2022-06-28   -1.324962\n",
       "Freq: D, Name: A, dtype: float64"
      ]
     },
     "execution_count": 51,
     "metadata": {},
     "output_type": "execute_result"
    }
   ],
   "source": [
    "# selecting a single column returns a Series object\n",
    "df[\"A\"]"
   ]
  },
  {
   "cell_type": "code",
   "execution_count": 52,
   "id": "96576e32",
   "metadata": {},
   "outputs": [
    {
     "data": {
      "text/html": [
       "<div>\n",
       "<style scoped>\n",
       "    .dataframe tbody tr th:only-of-type {\n",
       "        vertical-align: middle;\n",
       "    }\n",
       "\n",
       "    .dataframe tbody tr th {\n",
       "        vertical-align: top;\n",
       "    }\n",
       "\n",
       "    .dataframe thead th {\n",
       "        text-align: right;\n",
       "    }\n",
       "</style>\n",
       "<table border=\"1\" class=\"dataframe\">\n",
       "  <thead>\n",
       "    <tr style=\"text-align: right;\">\n",
       "      <th></th>\n",
       "      <th>A</th>\n",
       "      <th>B</th>\n",
       "      <th>C</th>\n",
       "      <th>D</th>\n",
       "    </tr>\n",
       "  </thead>\n",
       "  <tbody>\n",
       "    <tr>\n",
       "      <th>2022-06-20</th>\n",
       "      <td>-0.439995</td>\n",
       "      <td>1.077854</td>\n",
       "      <td>1.328994</td>\n",
       "      <td>0.963205</td>\n",
       "    </tr>\n",
       "    <tr>\n",
       "      <th>2022-06-21</th>\n",
       "      <td>0.107086</td>\n",
       "      <td>-1.869701</td>\n",
       "      <td>-1.478948</td>\n",
       "      <td>-0.230958</td>\n",
       "    </tr>\n",
       "    <tr>\n",
       "      <th>2022-06-22</th>\n",
       "      <td>0.644756</td>\n",
       "      <td>-0.927166</td>\n",
       "      <td>-2.401900</td>\n",
       "      <td>0.737268</td>\n",
       "    </tr>\n",
       "    <tr>\n",
       "      <th>2022-06-23</th>\n",
       "      <td>-0.077502</td>\n",
       "      <td>-0.119173</td>\n",
       "      <td>0.810236</td>\n",
       "      <td>1.038025</td>\n",
       "    </tr>\n",
       "  </tbody>\n",
       "</table>\n",
       "</div>"
      ],
      "text/plain": [
       "                   A         B         C         D\n",
       "2022-06-20 -0.439995  1.077854  1.328994  0.963205\n",
       "2022-06-21  0.107086 -1.869701 -1.478948 -0.230958\n",
       "2022-06-22  0.644756 -0.927166 -2.401900  0.737268\n",
       "2022-06-23 -0.077502 -0.119173  0.810236  1.038025"
      ]
     },
     "execution_count": 52,
     "metadata": {},
     "output_type": "execute_result"
    }
   ],
   "source": [
    "# selecting a slice\n",
    "df[1:5]"
   ]
  },
  {
   "cell_type": "markdown",
   "id": "ce4d832b",
   "metadata": {},
   "source": [
    "## Selection by label"
   ]
  },
  {
   "cell_type": "code",
   "execution_count": 53,
   "id": "47fcfa9e",
   "metadata": {},
   "outputs": [
    {
     "data": {
      "text/plain": [
       "A    0.951469\n",
       "B    0.509845\n",
       "C   -0.462546\n",
       "D   -1.213506\n",
       "Name: 2022-06-19 00:00:00, dtype: float64"
      ]
     },
     "execution_count": 53,
     "metadata": {},
     "output_type": "execute_result"
    }
   ],
   "source": [
    "# selecting based on a label\n",
    "df.loc[dates[0]]"
   ]
  },
  {
   "cell_type": "code",
   "execution_count": 54,
   "id": "f87ec639",
   "metadata": {},
   "outputs": [
    {
     "data": {
      "text/html": [
       "<div>\n",
       "<style scoped>\n",
       "    .dataframe tbody tr th:only-of-type {\n",
       "        vertical-align: middle;\n",
       "    }\n",
       "\n",
       "    .dataframe tbody tr th {\n",
       "        vertical-align: top;\n",
       "    }\n",
       "\n",
       "    .dataframe thead th {\n",
       "        text-align: right;\n",
       "    }\n",
       "</style>\n",
       "<table border=\"1\" class=\"dataframe\">\n",
       "  <thead>\n",
       "    <tr style=\"text-align: right;\">\n",
       "      <th></th>\n",
       "      <th>A</th>\n",
       "      <th>B</th>\n",
       "    </tr>\n",
       "  </thead>\n",
       "  <tbody>\n",
       "    <tr>\n",
       "      <th>2022-06-19</th>\n",
       "      <td>0.951469</td>\n",
       "      <td>0.509845</td>\n",
       "    </tr>\n",
       "    <tr>\n",
       "      <th>2022-06-20</th>\n",
       "      <td>-0.439995</td>\n",
       "      <td>1.077854</td>\n",
       "    </tr>\n",
       "    <tr>\n",
       "      <th>2022-06-21</th>\n",
       "      <td>0.107086</td>\n",
       "      <td>-1.869701</td>\n",
       "    </tr>\n",
       "    <tr>\n",
       "      <th>2022-06-22</th>\n",
       "      <td>0.644756</td>\n",
       "      <td>-0.927166</td>\n",
       "    </tr>\n",
       "    <tr>\n",
       "      <th>2022-06-23</th>\n",
       "      <td>-0.077502</td>\n",
       "      <td>-0.119173</td>\n",
       "    </tr>\n",
       "    <tr>\n",
       "      <th>2022-06-24</th>\n",
       "      <td>0.106912</td>\n",
       "      <td>-2.049418</td>\n",
       "    </tr>\n",
       "    <tr>\n",
       "      <th>2022-06-25</th>\n",
       "      <td>-0.151913</td>\n",
       "      <td>0.425990</td>\n",
       "    </tr>\n",
       "    <tr>\n",
       "      <th>2022-06-26</th>\n",
       "      <td>-0.737959</td>\n",
       "      <td>-0.217128</td>\n",
       "    </tr>\n",
       "    <tr>\n",
       "      <th>2022-06-27</th>\n",
       "      <td>0.862039</td>\n",
       "      <td>-0.209451</td>\n",
       "    </tr>\n",
       "    <tr>\n",
       "      <th>2022-06-28</th>\n",
       "      <td>-1.324962</td>\n",
       "      <td>-0.528841</td>\n",
       "    </tr>\n",
       "  </tbody>\n",
       "</table>\n",
       "</div>"
      ],
      "text/plain": [
       "                   A         B\n",
       "2022-06-19  0.951469  0.509845\n",
       "2022-06-20 -0.439995  1.077854\n",
       "2022-06-21  0.107086 -1.869701\n",
       "2022-06-22  0.644756 -0.927166\n",
       "2022-06-23 -0.077502 -0.119173\n",
       "2022-06-24  0.106912 -2.049418\n",
       "2022-06-25 -0.151913  0.425990\n",
       "2022-06-26 -0.737959 -0.217128\n",
       "2022-06-27  0.862039 -0.209451\n",
       "2022-06-28 -1.324962 -0.528841"
      ]
     },
     "execution_count": 54,
     "metadata": {},
     "output_type": "execute_result"
    }
   ],
   "source": [
    "# select on a multi-axis by lable\n",
    "# I honestly do not know what the comment above means...help!\n",
    "df.loc[:, [\"A\", \"B\"]]"
   ]
  },
  {
   "cell_type": "code",
   "execution_count": 55,
   "id": "eb0eadc2",
   "metadata": {},
   "outputs": [
    {
     "name": "stdout",
     "output_type": "stream",
     "text": [
      "A   -0.439995\n",
      "B    1.077854\n",
      "C    1.328994\n",
      "D    0.963205\n",
      "Name: 2022-06-20 00:00:00, dtype: float64\n",
      "res.shape =  (4,)  vs. df.shape =  (10, 4)\n"
     ]
    }
   ],
   "source": [
    "# specific index value results in reduction of dimensions\n",
    "res = df.loc[\"2022-06-20\"]\n",
    "print(res)\n",
    "print(\"res.shape = \", res.shape, \" vs. df.shape = \", df.shape)"
   ]
  },
  {
   "cell_type": "code",
   "execution_count": 56,
   "id": "50068f2f",
   "metadata": {},
   "outputs": [
    {
     "data": {
      "text/plain": [
       "0.9514691676779591"
      ]
     },
     "execution_count": 56,
     "metadata": {},
     "output_type": "execute_result"
    }
   ],
   "source": [
    "# get to a specific scalar:\n",
    "#\n",
    "# method one\n",
    "df.loc[dates[0], \"A\"]"
   ]
  },
  {
   "cell_type": "code",
   "execution_count": 57,
   "id": "8c57cba6",
   "metadata": {},
   "outputs": [
    {
     "data": {
      "text/plain": [
       "0.9514691676779591"
      ]
     },
     "execution_count": 57,
     "metadata": {},
     "output_type": "execute_result"
    }
   ],
   "source": [
    "#\n",
    "# method two (slightly faster than method one)\n",
    "df.at[dates[0], \"A\"]"
   ]
  },
  {
   "cell_type": "markdown",
   "id": "c3f1e054",
   "metadata": {},
   "source": [
    "## Selection by position"
   ]
  },
  {
   "cell_type": "code",
   "execution_count": 58,
   "id": "cb2b56c4",
   "metadata": {},
   "outputs": [
    {
     "data": {
      "text/plain": [
       "A    0.107086\n",
       "B   -1.869701\n",
       "C   -1.478948\n",
       "D   -0.230958\n",
       "Name: 2022-06-21 00:00:00, dtype: float64"
      ]
     },
     "execution_count": 58,
     "metadata": {},
     "output_type": "execute_result"
    }
   ],
   "source": [
    "df.iloc[2]"
   ]
  },
  {
   "cell_type": "code",
   "execution_count": 59,
   "id": "6be38225",
   "metadata": {},
   "outputs": [
    {
     "data": {
      "text/html": [
       "<div>\n",
       "<style scoped>\n",
       "    .dataframe tbody tr th:only-of-type {\n",
       "        vertical-align: middle;\n",
       "    }\n",
       "\n",
       "    .dataframe tbody tr th {\n",
       "        vertical-align: top;\n",
       "    }\n",
       "\n",
       "    .dataframe thead th {\n",
       "        text-align: right;\n",
       "    }\n",
       "</style>\n",
       "<table border=\"1\" class=\"dataframe\">\n",
       "  <thead>\n",
       "    <tr style=\"text-align: right;\">\n",
       "      <th></th>\n",
       "      <th>A</th>\n",
       "      <th>B</th>\n",
       "    </tr>\n",
       "  </thead>\n",
       "  <tbody>\n",
       "    <tr>\n",
       "      <th>2022-06-20</th>\n",
       "      <td>-0.439995</td>\n",
       "      <td>1.077854</td>\n",
       "    </tr>\n",
       "    <tr>\n",
       "      <th>2022-06-21</th>\n",
       "      <td>0.107086</td>\n",
       "      <td>-1.869701</td>\n",
       "    </tr>\n",
       "    <tr>\n",
       "      <th>2022-06-22</th>\n",
       "      <td>0.644756</td>\n",
       "      <td>-0.927166</td>\n",
       "    </tr>\n",
       "    <tr>\n",
       "      <th>2022-06-23</th>\n",
       "      <td>-0.077502</td>\n",
       "      <td>-0.119173</td>\n",
       "    </tr>\n",
       "  </tbody>\n",
       "</table>\n",
       "</div>"
      ],
      "text/plain": [
       "                   A         B\n",
       "2022-06-20 -0.439995  1.077854\n",
       "2022-06-21  0.107086 -1.869701\n",
       "2022-06-22  0.644756 -0.927166\n",
       "2022-06-23 -0.077502 -0.119173"
      ]
     },
     "execution_count": 59,
     "metadata": {},
     "output_type": "execute_result"
    }
   ],
   "source": [
    "# slices - similar to NumPy / Python - [row:slice, col:slice]\n",
    "df.iloc[1:5, 0:2]"
   ]
  },
  {
   "cell_type": "code",
   "execution_count": 60,
   "id": "2f8f04a6",
   "metadata": {},
   "outputs": [
    {
     "data": {
      "text/html": [
       "<div>\n",
       "<style scoped>\n",
       "    .dataframe tbody tr th:only-of-type {\n",
       "        vertical-align: middle;\n",
       "    }\n",
       "\n",
       "    .dataframe tbody tr th {\n",
       "        vertical-align: top;\n",
       "    }\n",
       "\n",
       "    .dataframe thead th {\n",
       "        text-align: right;\n",
       "    }\n",
       "</style>\n",
       "<table border=\"1\" class=\"dataframe\">\n",
       "  <thead>\n",
       "    <tr style=\"text-align: right;\">\n",
       "      <th></th>\n",
       "      <th>A</th>\n",
       "      <th>C</th>\n",
       "    </tr>\n",
       "  </thead>\n",
       "  <tbody>\n",
       "    <tr>\n",
       "      <th>2022-06-19</th>\n",
       "      <td>0.951469</td>\n",
       "      <td>-0.462546</td>\n",
       "    </tr>\n",
       "    <tr>\n",
       "      <th>2022-06-20</th>\n",
       "      <td>-0.439995</td>\n",
       "      <td>1.328994</td>\n",
       "    </tr>\n",
       "    <tr>\n",
       "      <th>2022-06-21</th>\n",
       "      <td>0.107086</td>\n",
       "      <td>-1.478948</td>\n",
       "    </tr>\n",
       "    <tr>\n",
       "      <th>2022-06-25</th>\n",
       "      <td>-0.151913</td>\n",
       "      <td>1.410461</td>\n",
       "    </tr>\n",
       "  </tbody>\n",
       "</table>\n",
       "</div>"
      ],
      "text/plain": [
       "                   A         C\n",
       "2022-06-19  0.951469 -0.462546\n",
       "2022-06-20 -0.439995  1.328994\n",
       "2022-06-21  0.107086 -1.478948\n",
       "2022-06-25 -0.151913  1.410461"
      ]
     },
     "execution_count": 60,
     "metadata": {},
     "output_type": "execute_result"
    }
   ],
   "source": [
    "# by list of locations - similar to NumPy / Python - [[list of rows], [list of cols]]\n",
    "df.iloc[[0, 1, 2, 6], [0, 2]]"
   ]
  },
  {
   "cell_type": "code",
   "execution_count": 61,
   "id": "75cb94a6",
   "metadata": {},
   "outputs": [
    {
     "data": {
      "text/html": [
       "<div>\n",
       "<style scoped>\n",
       "    .dataframe tbody tr th:only-of-type {\n",
       "        vertical-align: middle;\n",
       "    }\n",
       "\n",
       "    .dataframe tbody tr th {\n",
       "        vertical-align: top;\n",
       "    }\n",
       "\n",
       "    .dataframe thead th {\n",
       "        text-align: right;\n",
       "    }\n",
       "</style>\n",
       "<table border=\"1\" class=\"dataframe\">\n",
       "  <thead>\n",
       "    <tr style=\"text-align: right;\">\n",
       "      <th></th>\n",
       "      <th>C</th>\n",
       "      <th>B</th>\n",
       "      <th>A</th>\n",
       "      <th>C</th>\n",
       "    </tr>\n",
       "  </thead>\n",
       "  <tbody>\n",
       "    <tr>\n",
       "      <th>2022-06-19</th>\n",
       "      <td>-0.462546</td>\n",
       "      <td>0.509845</td>\n",
       "      <td>0.951469</td>\n",
       "      <td>-0.462546</td>\n",
       "    </tr>\n",
       "    <tr>\n",
       "      <th>2022-06-20</th>\n",
       "      <td>1.328994</td>\n",
       "      <td>1.077854</td>\n",
       "      <td>-0.439995</td>\n",
       "      <td>1.328994</td>\n",
       "    </tr>\n",
       "    <tr>\n",
       "      <th>2022-06-21</th>\n",
       "      <td>-1.478948</td>\n",
       "      <td>-1.869701</td>\n",
       "      <td>0.107086</td>\n",
       "      <td>-1.478948</td>\n",
       "    </tr>\n",
       "    <tr>\n",
       "      <th>2022-06-25</th>\n",
       "      <td>1.410461</td>\n",
       "      <td>0.425990</td>\n",
       "      <td>-0.151913</td>\n",
       "      <td>1.410461</td>\n",
       "    </tr>\n",
       "  </tbody>\n",
       "</table>\n",
       "</div>"
      ],
      "text/plain": [
       "                   C         B         A         C\n",
       "2022-06-19 -0.462546  0.509845  0.951469 -0.462546\n",
       "2022-06-20  1.328994  1.077854 -0.439995  1.328994\n",
       "2022-06-21 -1.478948 -1.869701  0.107086 -1.478948\n",
       "2022-06-25  1.410461  0.425990 -0.151913  1.410461"
      ]
     },
     "execution_count": 61,
     "metadata": {},
     "output_type": "execute_result"
    }
   ],
   "source": [
    "# by list of locations - similar to NumPy / Python - [[list of rows], [list of cols]]\n",
    "# change the order of columns, repeact a column\n",
    "df.iloc[[0, 1, 2, 6], [2, 1, 0, 2]]"
   ]
  },
  {
   "cell_type": "code",
   "execution_count": 62,
   "id": "4e5eb16f",
   "metadata": {},
   "outputs": [
    {
     "data": {
      "text/html": [
       "<div>\n",
       "<style scoped>\n",
       "    .dataframe tbody tr th:only-of-type {\n",
       "        vertical-align: middle;\n",
       "    }\n",
       "\n",
       "    .dataframe tbody tr th {\n",
       "        vertical-align: top;\n",
       "    }\n",
       "\n",
       "    .dataframe thead th {\n",
       "        text-align: right;\n",
       "    }\n",
       "</style>\n",
       "<table border=\"1\" class=\"dataframe\">\n",
       "  <thead>\n",
       "    <tr style=\"text-align: right;\">\n",
       "      <th></th>\n",
       "      <th>A</th>\n",
       "      <th>B</th>\n",
       "      <th>C</th>\n",
       "      <th>D</th>\n",
       "    </tr>\n",
       "  </thead>\n",
       "  <tbody>\n",
       "    <tr>\n",
       "      <th>2022-06-20</th>\n",
       "      <td>-0.439995</td>\n",
       "      <td>1.077854</td>\n",
       "      <td>1.328994</td>\n",
       "      <td>0.963205</td>\n",
       "    </tr>\n",
       "    <tr>\n",
       "      <th>2022-06-21</th>\n",
       "      <td>0.107086</td>\n",
       "      <td>-1.869701</td>\n",
       "      <td>-1.478948</td>\n",
       "      <td>-0.230958</td>\n",
       "    </tr>\n",
       "  </tbody>\n",
       "</table>\n",
       "</div>"
      ],
      "text/plain": [
       "                   A         B         C         D\n",
       "2022-06-20 -0.439995  1.077854  1.328994  0.963205\n",
       "2022-06-21  0.107086 -1.869701 -1.478948 -0.230958"
      ]
     },
     "execution_count": 62,
     "metadata": {},
     "output_type": "execute_result"
    }
   ],
   "source": [
    "# slice rows explicitly, keep all columns\n",
    "df.iloc[[1, 2], :]"
   ]
  },
  {
   "cell_type": "code",
   "execution_count": 63,
   "id": "c6805e21",
   "metadata": {},
   "outputs": [
    {
     "data": {
      "text/html": [
       "<div>\n",
       "<style scoped>\n",
       "    .dataframe tbody tr th:only-of-type {\n",
       "        vertical-align: middle;\n",
       "    }\n",
       "\n",
       "    .dataframe tbody tr th {\n",
       "        vertical-align: top;\n",
       "    }\n",
       "\n",
       "    .dataframe thead th {\n",
       "        text-align: right;\n",
       "    }\n",
       "</style>\n",
       "<table border=\"1\" class=\"dataframe\">\n",
       "  <thead>\n",
       "    <tr style=\"text-align: right;\">\n",
       "      <th></th>\n",
       "      <th>C</th>\n",
       "      <th>D</th>\n",
       "    </tr>\n",
       "  </thead>\n",
       "  <tbody>\n",
       "    <tr>\n",
       "      <th>2022-06-19</th>\n",
       "      <td>-0.462546</td>\n",
       "      <td>-1.213506</td>\n",
       "    </tr>\n",
       "    <tr>\n",
       "      <th>2022-06-20</th>\n",
       "      <td>1.328994</td>\n",
       "      <td>0.963205</td>\n",
       "    </tr>\n",
       "    <tr>\n",
       "      <th>2022-06-21</th>\n",
       "      <td>-1.478948</td>\n",
       "      <td>-0.230958</td>\n",
       "    </tr>\n",
       "    <tr>\n",
       "      <th>2022-06-22</th>\n",
       "      <td>-2.401900</td>\n",
       "      <td>0.737268</td>\n",
       "    </tr>\n",
       "    <tr>\n",
       "      <th>2022-06-23</th>\n",
       "      <td>0.810236</td>\n",
       "      <td>1.038025</td>\n",
       "    </tr>\n",
       "    <tr>\n",
       "      <th>2022-06-24</th>\n",
       "      <td>0.320690</td>\n",
       "      <td>0.549374</td>\n",
       "    </tr>\n",
       "    <tr>\n",
       "      <th>2022-06-25</th>\n",
       "      <td>1.410461</td>\n",
       "      <td>-2.099694</td>\n",
       "    </tr>\n",
       "    <tr>\n",
       "      <th>2022-06-26</th>\n",
       "      <td>-1.357031</td>\n",
       "      <td>-1.084376</td>\n",
       "    </tr>\n",
       "    <tr>\n",
       "      <th>2022-06-27</th>\n",
       "      <td>-0.068883</td>\n",
       "      <td>0.666439</td>\n",
       "    </tr>\n",
       "    <tr>\n",
       "      <th>2022-06-28</th>\n",
       "      <td>-1.014416</td>\n",
       "      <td>0.667417</td>\n",
       "    </tr>\n",
       "  </tbody>\n",
       "</table>\n",
       "</div>"
      ],
      "text/plain": [
       "                   C         D\n",
       "2022-06-19 -0.462546 -1.213506\n",
       "2022-06-20  1.328994  0.963205\n",
       "2022-06-21 -1.478948 -0.230958\n",
       "2022-06-22 -2.401900  0.737268\n",
       "2022-06-23  0.810236  1.038025\n",
       "2022-06-24  0.320690  0.549374\n",
       "2022-06-25  1.410461 -2.099694\n",
       "2022-06-26 -1.357031 -1.084376\n",
       "2022-06-27 -0.068883  0.666439\n",
       "2022-06-28 -1.014416  0.667417"
      ]
     },
     "execution_count": 63,
     "metadata": {},
     "output_type": "execute_result"
    }
   ],
   "source": [
    "# slice columns, keep all rows\n",
    "df.iloc[:, [2, 3]]"
   ]
  },
  {
   "cell_type": "code",
   "execution_count": 64,
   "id": "7f66e2d7",
   "metadata": {},
   "outputs": [
    {
     "data": {
      "text/html": [
       "<div>\n",
       "<style scoped>\n",
       "    .dataframe tbody tr th:only-of-type {\n",
       "        vertical-align: middle;\n",
       "    }\n",
       "\n",
       "    .dataframe tbody tr th {\n",
       "        vertical-align: top;\n",
       "    }\n",
       "\n",
       "    .dataframe thead th {\n",
       "        text-align: right;\n",
       "    }\n",
       "</style>\n",
       "<table border=\"1\" class=\"dataframe\">\n",
       "  <thead>\n",
       "    <tr style=\"text-align: right;\">\n",
       "      <th></th>\n",
       "      <th>A</th>\n",
       "      <th>B</th>\n",
       "      <th>C</th>\n",
       "      <th>D</th>\n",
       "    </tr>\n",
       "  </thead>\n",
       "  <tbody>\n",
       "    <tr>\n",
       "      <th>2022-06-19</th>\n",
       "      <td>0.951469</td>\n",
       "      <td>0.509845</td>\n",
       "      <td>-0.462546</td>\n",
       "      <td>-1.213506</td>\n",
       "    </tr>\n",
       "    <tr>\n",
       "      <th>2022-06-20</th>\n",
       "      <td>-0.439995</td>\n",
       "      <td>1.077854</td>\n",
       "      <td>1.328994</td>\n",
       "      <td>0.963205</td>\n",
       "    </tr>\n",
       "    <tr>\n",
       "      <th>2022-06-21</th>\n",
       "      <td>0.107086</td>\n",
       "      <td>-1.869701</td>\n",
       "      <td>-1.478948</td>\n",
       "      <td>-0.230958</td>\n",
       "    </tr>\n",
       "    <tr>\n",
       "      <th>2022-06-22</th>\n",
       "      <td>0.644756</td>\n",
       "      <td>-0.927166</td>\n",
       "      <td>-2.401900</td>\n",
       "      <td>0.737268</td>\n",
       "    </tr>\n",
       "    <tr>\n",
       "      <th>2022-06-23</th>\n",
       "      <td>-0.077502</td>\n",
       "      <td>-0.119173</td>\n",
       "      <td>0.810236</td>\n",
       "      <td>1.038025</td>\n",
       "    </tr>\n",
       "    <tr>\n",
       "      <th>2022-06-24</th>\n",
       "      <td>0.106912</td>\n",
       "      <td>-2.049418</td>\n",
       "      <td>0.320690</td>\n",
       "      <td>0.549374</td>\n",
       "    </tr>\n",
       "    <tr>\n",
       "      <th>2022-06-25</th>\n",
       "      <td>-0.151913</td>\n",
       "      <td>0.425990</td>\n",
       "      <td>1.410461</td>\n",
       "      <td>-2.099694</td>\n",
       "    </tr>\n",
       "    <tr>\n",
       "      <th>2022-06-26</th>\n",
       "      <td>-0.737959</td>\n",
       "      <td>-0.217128</td>\n",
       "      <td>-1.357031</td>\n",
       "      <td>-1.084376</td>\n",
       "    </tr>\n",
       "    <tr>\n",
       "      <th>2022-06-27</th>\n",
       "      <td>0.862039</td>\n",
       "      <td>-0.209451</td>\n",
       "      <td>-0.068883</td>\n",
       "      <td>0.666439</td>\n",
       "    </tr>\n",
       "    <tr>\n",
       "      <th>2022-06-28</th>\n",
       "      <td>-1.324962</td>\n",
       "      <td>-0.528841</td>\n",
       "      <td>-1.014416</td>\n",
       "      <td>0.667417</td>\n",
       "    </tr>\n",
       "  </tbody>\n",
       "</table>\n",
       "</div>"
      ],
      "text/plain": [
       "                   A         B         C         D\n",
       "2022-06-19  0.951469  0.509845 -0.462546 -1.213506\n",
       "2022-06-20 -0.439995  1.077854  1.328994  0.963205\n",
       "2022-06-21  0.107086 -1.869701 -1.478948 -0.230958\n",
       "2022-06-22  0.644756 -0.927166 -2.401900  0.737268\n",
       "2022-06-23 -0.077502 -0.119173  0.810236  1.038025\n",
       "2022-06-24  0.106912 -2.049418  0.320690  0.549374\n",
       "2022-06-25 -0.151913  0.425990  1.410461 -2.099694\n",
       "2022-06-26 -0.737959 -0.217128 -1.357031 -1.084376\n",
       "2022-06-27  0.862039 -0.209451 -0.068883  0.666439\n",
       "2022-06-28 -1.324962 -0.528841 -1.014416  0.667417"
      ]
     },
     "execution_count": 64,
     "metadata": {},
     "output_type": "execute_result"
    }
   ],
   "source": [
    "# everything, because you can\n",
    "df.iloc[:, :]"
   ]
  },
  {
   "cell_type": "code",
   "execution_count": 65,
   "id": "dbde001e",
   "metadata": {},
   "outputs": [
    {
     "data": {
      "text/plain": [
       "1.3289936330584233"
      ]
     },
     "execution_count": 65,
     "metadata": {},
     "output_type": "execute_result"
    }
   ],
   "source": [
    "# get to a scalar (2 methods, just like before)\n",
    "#\n",
    "# method one: use iloc\n",
    "df.iloc[1, 2]"
   ]
  },
  {
   "cell_type": "code",
   "execution_count": 66,
   "id": "762a731b",
   "metadata": {},
   "outputs": [
    {
     "data": {
      "text/plain": [
       "1.3289936330584233"
      ]
     },
     "execution_count": 66,
     "metadata": {},
     "output_type": "execute_result"
    }
   ],
   "source": [
    "#\n",
    "# method two: use iat\n",
    "df.iat[1, 2]"
   ]
  },
  {
   "cell_type": "markdown",
   "id": "337cdef3",
   "metadata": {},
   "source": [
    "## Boolean Indexing"
   ]
  },
  {
   "cell_type": "code",
   "execution_count": 67,
   "id": "bad1cb5d",
   "metadata": {},
   "outputs": [
    {
     "data": {
      "text/html": [
       "<div>\n",
       "<style scoped>\n",
       "    .dataframe tbody tr th:only-of-type {\n",
       "        vertical-align: middle;\n",
       "    }\n",
       "\n",
       "    .dataframe tbody tr th {\n",
       "        vertical-align: top;\n",
       "    }\n",
       "\n",
       "    .dataframe thead th {\n",
       "        text-align: right;\n",
       "    }\n",
       "</style>\n",
       "<table border=\"1\" class=\"dataframe\">\n",
       "  <thead>\n",
       "    <tr style=\"text-align: right;\">\n",
       "      <th></th>\n",
       "      <th>A</th>\n",
       "      <th>B</th>\n",
       "      <th>C</th>\n",
       "      <th>D</th>\n",
       "    </tr>\n",
       "  </thead>\n",
       "  <tbody>\n",
       "    <tr>\n",
       "      <th>2022-06-19</th>\n",
       "      <td>0.951469</td>\n",
       "      <td>0.509845</td>\n",
       "      <td>-0.462546</td>\n",
       "      <td>-1.213506</td>\n",
       "    </tr>\n",
       "    <tr>\n",
       "      <th>2022-06-21</th>\n",
       "      <td>0.107086</td>\n",
       "      <td>-1.869701</td>\n",
       "      <td>-1.478948</td>\n",
       "      <td>-0.230958</td>\n",
       "    </tr>\n",
       "    <tr>\n",
       "      <th>2022-06-22</th>\n",
       "      <td>0.644756</td>\n",
       "      <td>-0.927166</td>\n",
       "      <td>-2.401900</td>\n",
       "      <td>0.737268</td>\n",
       "    </tr>\n",
       "    <tr>\n",
       "      <th>2022-06-24</th>\n",
       "      <td>0.106912</td>\n",
       "      <td>-2.049418</td>\n",
       "      <td>0.320690</td>\n",
       "      <td>0.549374</td>\n",
       "    </tr>\n",
       "    <tr>\n",
       "      <th>2022-06-27</th>\n",
       "      <td>0.862039</td>\n",
       "      <td>-0.209451</td>\n",
       "      <td>-0.068883</td>\n",
       "      <td>0.666439</td>\n",
       "    </tr>\n",
       "  </tbody>\n",
       "</table>\n",
       "</div>"
      ],
      "text/plain": [
       "                   A         B         C         D\n",
       "2022-06-19  0.951469  0.509845 -0.462546 -1.213506\n",
       "2022-06-21  0.107086 -1.869701 -1.478948 -0.230958\n",
       "2022-06-22  0.644756 -0.927166 -2.401900  0.737268\n",
       "2022-06-24  0.106912 -2.049418  0.320690  0.549374\n",
       "2022-06-27  0.862039 -0.209451 -0.068883  0.666439"
      ]
     },
     "execution_count": 67,
     "metadata": {},
     "output_type": "execute_result"
    }
   ],
   "source": [
    "# use a value found in a single col to get data\n",
    "df[df[\"A\"] > 0]"
   ]
  },
  {
   "cell_type": "code",
   "execution_count": 68,
   "id": "8808de4f",
   "metadata": {},
   "outputs": [
    {
     "data": {
      "text/html": [
       "<div>\n",
       "<style scoped>\n",
       "    .dataframe tbody tr th:only-of-type {\n",
       "        vertical-align: middle;\n",
       "    }\n",
       "\n",
       "    .dataframe tbody tr th {\n",
       "        vertical-align: top;\n",
       "    }\n",
       "\n",
       "    .dataframe thead th {\n",
       "        text-align: right;\n",
       "    }\n",
       "</style>\n",
       "<table border=\"1\" class=\"dataframe\">\n",
       "  <thead>\n",
       "    <tr style=\"text-align: right;\">\n",
       "      <th></th>\n",
       "      <th>A</th>\n",
       "      <th>B</th>\n",
       "      <th>C</th>\n",
       "      <th>D</th>\n",
       "    </tr>\n",
       "  </thead>\n",
       "  <tbody>\n",
       "    <tr>\n",
       "      <th>2022-06-19</th>\n",
       "      <td>0.951469</td>\n",
       "      <td>0.509845</td>\n",
       "      <td>NaN</td>\n",
       "      <td>NaN</td>\n",
       "    </tr>\n",
       "    <tr>\n",
       "      <th>2022-06-20</th>\n",
       "      <td>NaN</td>\n",
       "      <td>1.077854</td>\n",
       "      <td>1.328994</td>\n",
       "      <td>0.963205</td>\n",
       "    </tr>\n",
       "    <tr>\n",
       "      <th>2022-06-21</th>\n",
       "      <td>0.107086</td>\n",
       "      <td>NaN</td>\n",
       "      <td>NaN</td>\n",
       "      <td>NaN</td>\n",
       "    </tr>\n",
       "    <tr>\n",
       "      <th>2022-06-22</th>\n",
       "      <td>0.644756</td>\n",
       "      <td>NaN</td>\n",
       "      <td>NaN</td>\n",
       "      <td>0.737268</td>\n",
       "    </tr>\n",
       "    <tr>\n",
       "      <th>2022-06-23</th>\n",
       "      <td>NaN</td>\n",
       "      <td>NaN</td>\n",
       "      <td>0.810236</td>\n",
       "      <td>1.038025</td>\n",
       "    </tr>\n",
       "    <tr>\n",
       "      <th>2022-06-24</th>\n",
       "      <td>0.106912</td>\n",
       "      <td>NaN</td>\n",
       "      <td>0.320690</td>\n",
       "      <td>0.549374</td>\n",
       "    </tr>\n",
       "    <tr>\n",
       "      <th>2022-06-25</th>\n",
       "      <td>NaN</td>\n",
       "      <td>0.425990</td>\n",
       "      <td>1.410461</td>\n",
       "      <td>NaN</td>\n",
       "    </tr>\n",
       "    <tr>\n",
       "      <th>2022-06-26</th>\n",
       "      <td>NaN</td>\n",
       "      <td>NaN</td>\n",
       "      <td>NaN</td>\n",
       "      <td>NaN</td>\n",
       "    </tr>\n",
       "    <tr>\n",
       "      <th>2022-06-27</th>\n",
       "      <td>0.862039</td>\n",
       "      <td>NaN</td>\n",
       "      <td>NaN</td>\n",
       "      <td>0.666439</td>\n",
       "    </tr>\n",
       "    <tr>\n",
       "      <th>2022-06-28</th>\n",
       "      <td>NaN</td>\n",
       "      <td>NaN</td>\n",
       "      <td>NaN</td>\n",
       "      <td>0.667417</td>\n",
       "    </tr>\n",
       "  </tbody>\n",
       "</table>\n",
       "</div>"
      ],
      "text/plain": [
       "                   A         B         C         D\n",
       "2022-06-19  0.951469  0.509845       NaN       NaN\n",
       "2022-06-20       NaN  1.077854  1.328994  0.963205\n",
       "2022-06-21  0.107086       NaN       NaN       NaN\n",
       "2022-06-22  0.644756       NaN       NaN  0.737268\n",
       "2022-06-23       NaN       NaN  0.810236  1.038025\n",
       "2022-06-24  0.106912       NaN  0.320690  0.549374\n",
       "2022-06-25       NaN  0.425990  1.410461       NaN\n",
       "2022-06-26       NaN       NaN       NaN       NaN\n",
       "2022-06-27  0.862039       NaN       NaN  0.666439\n",
       "2022-06-28       NaN       NaN       NaN  0.667417"
      ]
     },
     "execution_count": 68,
     "metadata": {},
     "output_type": "execute_result"
    }
   ],
   "source": [
    "# boolean across the entire DF - vals that don't match go NaN\n",
    "df[df > 0]"
   ]
  },
  {
   "cell_type": "code",
   "execution_count": 69,
   "id": "93158086",
   "metadata": {},
   "outputs": [
    {
     "data": {
      "text/html": [
       "<div>\n",
       "<style scoped>\n",
       "    .dataframe tbody tr th:only-of-type {\n",
       "        vertical-align: middle;\n",
       "    }\n",
       "\n",
       "    .dataframe tbody tr th {\n",
       "        vertical-align: top;\n",
       "    }\n",
       "\n",
       "    .dataframe thead th {\n",
       "        text-align: right;\n",
       "    }\n",
       "</style>\n",
       "<table border=\"1\" class=\"dataframe\">\n",
       "  <thead>\n",
       "    <tr style=\"text-align: right;\">\n",
       "      <th></th>\n",
       "      <th>A</th>\n",
       "      <th>B</th>\n",
       "      <th>C</th>\n",
       "      <th>D</th>\n",
       "      <th>E</th>\n",
       "    </tr>\n",
       "  </thead>\n",
       "  <tbody>\n",
       "    <tr>\n",
       "      <th>2022-06-19</th>\n",
       "      <td>0.951469</td>\n",
       "      <td>0.509845</td>\n",
       "      <td>-0.462546</td>\n",
       "      <td>-1.213506</td>\n",
       "      <td>one</td>\n",
       "    </tr>\n",
       "    <tr>\n",
       "      <th>2022-06-20</th>\n",
       "      <td>-0.439995</td>\n",
       "      <td>1.077854</td>\n",
       "      <td>1.328994</td>\n",
       "      <td>0.963205</td>\n",
       "      <td>two</td>\n",
       "    </tr>\n",
       "    <tr>\n",
       "      <th>2022-06-21</th>\n",
       "      <td>0.107086</td>\n",
       "      <td>-1.869701</td>\n",
       "      <td>-1.478948</td>\n",
       "      <td>-0.230958</td>\n",
       "      <td>three</td>\n",
       "    </tr>\n",
       "    <tr>\n",
       "      <th>2022-06-22</th>\n",
       "      <td>0.644756</td>\n",
       "      <td>-0.927166</td>\n",
       "      <td>-2.401900</td>\n",
       "      <td>0.737268</td>\n",
       "      <td>four</td>\n",
       "    </tr>\n",
       "    <tr>\n",
       "      <th>2022-06-23</th>\n",
       "      <td>-0.077502</td>\n",
       "      <td>-0.119173</td>\n",
       "      <td>0.810236</td>\n",
       "      <td>1.038025</td>\n",
       "      <td>two</td>\n",
       "    </tr>\n",
       "    <tr>\n",
       "      <th>2022-06-24</th>\n",
       "      <td>0.106912</td>\n",
       "      <td>-2.049418</td>\n",
       "      <td>0.320690</td>\n",
       "      <td>0.549374</td>\n",
       "      <td>five</td>\n",
       "    </tr>\n",
       "    <tr>\n",
       "      <th>2022-06-25</th>\n",
       "      <td>-0.151913</td>\n",
       "      <td>0.425990</td>\n",
       "      <td>1.410461</td>\n",
       "      <td>-2.099694</td>\n",
       "      <td>one</td>\n",
       "    </tr>\n",
       "    <tr>\n",
       "      <th>2022-06-26</th>\n",
       "      <td>-0.737959</td>\n",
       "      <td>-0.217128</td>\n",
       "      <td>-1.357031</td>\n",
       "      <td>-1.084376</td>\n",
       "      <td>two</td>\n",
       "    </tr>\n",
       "    <tr>\n",
       "      <th>2022-06-27</th>\n",
       "      <td>0.862039</td>\n",
       "      <td>-0.209451</td>\n",
       "      <td>-0.068883</td>\n",
       "      <td>0.666439</td>\n",
       "      <td>three</td>\n",
       "    </tr>\n",
       "    <tr>\n",
       "      <th>2022-06-28</th>\n",
       "      <td>-1.324962</td>\n",
       "      <td>-0.528841</td>\n",
       "      <td>-1.014416</td>\n",
       "      <td>0.667417</td>\n",
       "      <td>four</td>\n",
       "    </tr>\n",
       "  </tbody>\n",
       "</table>\n",
       "</div>"
      ],
      "text/plain": [
       "                   A         B         C         D      E\n",
       "2022-06-19  0.951469  0.509845 -0.462546 -1.213506    one\n",
       "2022-06-20 -0.439995  1.077854  1.328994  0.963205    two\n",
       "2022-06-21  0.107086 -1.869701 -1.478948 -0.230958  three\n",
       "2022-06-22  0.644756 -0.927166 -2.401900  0.737268   four\n",
       "2022-06-23 -0.077502 -0.119173  0.810236  1.038025    two\n",
       "2022-06-24  0.106912 -2.049418  0.320690  0.549374   five\n",
       "2022-06-25 -0.151913  0.425990  1.410461 -2.099694    one\n",
       "2022-06-26 -0.737959 -0.217128 -1.357031 -1.084376    two\n",
       "2022-06-27  0.862039 -0.209451 -0.068883  0.666439  three\n",
       "2022-06-28 -1.324962 -0.528841 -1.014416  0.667417   four"
      ]
     },
     "execution_count": 69,
     "metadata": {},
     "output_type": "execute_result"
    }
   ],
   "source": [
    "# add another column\n",
    "df11 = df.copy()\n",
    "df11[\"E\"] = [\"one\", \"two\", \"three\", \"four\",\n",
    "             \"two\", \"five\", \"one\", \"two\", \"three\", \"four\"]\n",
    "df11"
   ]
  },
  {
   "cell_type": "code",
   "execution_count": 70,
   "id": "89df04ab",
   "metadata": {},
   "outputs": [
    {
     "data": {
      "text/html": [
       "<div>\n",
       "<style scoped>\n",
       "    .dataframe tbody tr th:only-of-type {\n",
       "        vertical-align: middle;\n",
       "    }\n",
       "\n",
       "    .dataframe tbody tr th {\n",
       "        vertical-align: top;\n",
       "    }\n",
       "\n",
       "    .dataframe thead th {\n",
       "        text-align: right;\n",
       "    }\n",
       "</style>\n",
       "<table border=\"1\" class=\"dataframe\">\n",
       "  <thead>\n",
       "    <tr style=\"text-align: right;\">\n",
       "      <th></th>\n",
       "      <th>A</th>\n",
       "      <th>B</th>\n",
       "      <th>C</th>\n",
       "      <th>D</th>\n",
       "      <th>E</th>\n",
       "    </tr>\n",
       "  </thead>\n",
       "  <tbody>\n",
       "    <tr>\n",
       "      <th>2022-06-20</th>\n",
       "      <td>-0.439995</td>\n",
       "      <td>1.077854</td>\n",
       "      <td>1.328994</td>\n",
       "      <td>0.963205</td>\n",
       "      <td>two</td>\n",
       "    </tr>\n",
       "    <tr>\n",
       "      <th>2022-06-23</th>\n",
       "      <td>-0.077502</td>\n",
       "      <td>-0.119173</td>\n",
       "      <td>0.810236</td>\n",
       "      <td>1.038025</td>\n",
       "      <td>two</td>\n",
       "    </tr>\n",
       "    <tr>\n",
       "      <th>2022-06-24</th>\n",
       "      <td>0.106912</td>\n",
       "      <td>-2.049418</td>\n",
       "      <td>0.320690</td>\n",
       "      <td>0.549374</td>\n",
       "      <td>five</td>\n",
       "    </tr>\n",
       "    <tr>\n",
       "      <th>2022-06-26</th>\n",
       "      <td>-0.737959</td>\n",
       "      <td>-0.217128</td>\n",
       "      <td>-1.357031</td>\n",
       "      <td>-1.084376</td>\n",
       "      <td>two</td>\n",
       "    </tr>\n",
       "  </tbody>\n",
       "</table>\n",
       "</div>"
      ],
      "text/plain": [
       "                   A         B         C         D     E\n",
       "2022-06-20 -0.439995  1.077854  1.328994  0.963205   two\n",
       "2022-06-23 -0.077502 -0.119173  0.810236  1.038025   two\n",
       "2022-06-24  0.106912 -2.049418  0.320690  0.549374  five\n",
       "2022-06-26 -0.737959 -0.217128 -1.357031 -1.084376   two"
      ]
     },
     "execution_count": 70,
     "metadata": {},
     "output_type": "execute_result"
    }
   ],
   "source": [
    "# the isin() query - basically the in clause\n",
    "df11[df11[\"E\"].isin([\"two\", \"five\"])]"
   ]
  },
  {
   "cell_type": "markdown",
   "id": "1a182f16",
   "metadata": {},
   "source": [
    "## Setting values"
   ]
  },
  {
   "cell_type": "code",
   "execution_count": 71,
   "id": "0d6af322",
   "metadata": {},
   "outputs": [
    {
     "data": {
      "text/plain": [
       "2022-06-19    11\n",
       "2022-06-20    12\n",
       "2022-06-21    13\n",
       "2022-06-22    14\n",
       "2022-06-23    15\n",
       "2022-06-24    16\n",
       "2022-06-25    17\n",
       "2022-06-26    18\n",
       "2022-06-27    19\n",
       "2022-06-28    20\n",
       "Freq: D, dtype: int64"
      ]
     },
     "execution_count": 71,
     "metadata": {},
     "output_type": "execute_result"
    }
   ],
   "source": [
    "# matching indexes auto-aligns values\n",
    "s1 = pd.Series(range(11, 21), index=pd.date_range('20220619', periods=10))\n",
    "s1"
   ]
  },
  {
   "cell_type": "code",
   "execution_count": 72,
   "id": "e1054291",
   "metadata": {},
   "outputs": [
    {
     "data": {
      "text/html": [
       "<div>\n",
       "<style scoped>\n",
       "    .dataframe tbody tr th:only-of-type {\n",
       "        vertical-align: middle;\n",
       "    }\n",
       "\n",
       "    .dataframe tbody tr th {\n",
       "        vertical-align: top;\n",
       "    }\n",
       "\n",
       "    .dataframe thead th {\n",
       "        text-align: right;\n",
       "    }\n",
       "</style>\n",
       "<table border=\"1\" class=\"dataframe\">\n",
       "  <thead>\n",
       "    <tr style=\"text-align: right;\">\n",
       "      <th></th>\n",
       "      <th>A</th>\n",
       "      <th>B</th>\n",
       "      <th>C</th>\n",
       "      <th>D</th>\n",
       "      <th>F</th>\n",
       "    </tr>\n",
       "  </thead>\n",
       "  <tbody>\n",
       "    <tr>\n",
       "      <th>2022-06-19</th>\n",
       "      <td>0.951469</td>\n",
       "      <td>0.509845</td>\n",
       "      <td>-0.462546</td>\n",
       "      <td>-1.213506</td>\n",
       "      <td>11</td>\n",
       "    </tr>\n",
       "    <tr>\n",
       "      <th>2022-06-20</th>\n",
       "      <td>-0.439995</td>\n",
       "      <td>1.077854</td>\n",
       "      <td>1.328994</td>\n",
       "      <td>0.963205</td>\n",
       "      <td>12</td>\n",
       "    </tr>\n",
       "    <tr>\n",
       "      <th>2022-06-21</th>\n",
       "      <td>0.107086</td>\n",
       "      <td>-1.869701</td>\n",
       "      <td>-1.478948</td>\n",
       "      <td>-0.230958</td>\n",
       "      <td>13</td>\n",
       "    </tr>\n",
       "    <tr>\n",
       "      <th>2022-06-22</th>\n",
       "      <td>0.644756</td>\n",
       "      <td>-0.927166</td>\n",
       "      <td>-2.401900</td>\n",
       "      <td>0.737268</td>\n",
       "      <td>14</td>\n",
       "    </tr>\n",
       "    <tr>\n",
       "      <th>2022-06-23</th>\n",
       "      <td>-0.077502</td>\n",
       "      <td>-0.119173</td>\n",
       "      <td>0.810236</td>\n",
       "      <td>1.038025</td>\n",
       "      <td>15</td>\n",
       "    </tr>\n",
       "    <tr>\n",
       "      <th>2022-06-24</th>\n",
       "      <td>0.106912</td>\n",
       "      <td>-2.049418</td>\n",
       "      <td>0.320690</td>\n",
       "      <td>0.549374</td>\n",
       "      <td>16</td>\n",
       "    </tr>\n",
       "    <tr>\n",
       "      <th>2022-06-25</th>\n",
       "      <td>-0.151913</td>\n",
       "      <td>0.425990</td>\n",
       "      <td>1.410461</td>\n",
       "      <td>-2.099694</td>\n",
       "      <td>17</td>\n",
       "    </tr>\n",
       "    <tr>\n",
       "      <th>2022-06-26</th>\n",
       "      <td>-0.737959</td>\n",
       "      <td>-0.217128</td>\n",
       "      <td>-1.357031</td>\n",
       "      <td>-1.084376</td>\n",
       "      <td>18</td>\n",
       "    </tr>\n",
       "    <tr>\n",
       "      <th>2022-06-27</th>\n",
       "      <td>0.862039</td>\n",
       "      <td>-0.209451</td>\n",
       "      <td>-0.068883</td>\n",
       "      <td>0.666439</td>\n",
       "      <td>19</td>\n",
       "    </tr>\n",
       "    <tr>\n",
       "      <th>2022-06-28</th>\n",
       "      <td>-1.324962</td>\n",
       "      <td>-0.528841</td>\n",
       "      <td>-1.014416</td>\n",
       "      <td>0.667417</td>\n",
       "      <td>20</td>\n",
       "    </tr>\n",
       "  </tbody>\n",
       "</table>\n",
       "</div>"
      ],
      "text/plain": [
       "                   A         B         C         D   F\n",
       "2022-06-19  0.951469  0.509845 -0.462546 -1.213506  11\n",
       "2022-06-20 -0.439995  1.077854  1.328994  0.963205  12\n",
       "2022-06-21  0.107086 -1.869701 -1.478948 -0.230958  13\n",
       "2022-06-22  0.644756 -0.927166 -2.401900  0.737268  14\n",
       "2022-06-23 -0.077502 -0.119173  0.810236  1.038025  15\n",
       "2022-06-24  0.106912 -2.049418  0.320690  0.549374  16\n",
       "2022-06-25 -0.151913  0.425990  1.410461 -2.099694  17\n",
       "2022-06-26 -0.737959 -0.217128 -1.357031 -1.084376  18\n",
       "2022-06-27  0.862039 -0.209451 -0.068883  0.666439  19\n",
       "2022-06-28 -1.324962 -0.528841 -1.014416  0.667417  20"
      ]
     },
     "execution_count": 72,
     "metadata": {},
     "output_type": "execute_result"
    }
   ],
   "source": [
    "df[\"F\"] = s1\n",
    "df"
   ]
  },
  {
   "cell_type": "code",
   "execution_count": 73,
   "id": "89da2904",
   "metadata": {},
   "outputs": [
    {
     "data": {
      "text/html": [
       "<div>\n",
       "<style scoped>\n",
       "    .dataframe tbody tr th:only-of-type {\n",
       "        vertical-align: middle;\n",
       "    }\n",
       "\n",
       "    .dataframe tbody tr th {\n",
       "        vertical-align: top;\n",
       "    }\n",
       "\n",
       "    .dataframe thead th {\n",
       "        text-align: right;\n",
       "    }\n",
       "</style>\n",
       "<table border=\"1\" class=\"dataframe\">\n",
       "  <thead>\n",
       "    <tr style=\"text-align: right;\">\n",
       "      <th></th>\n",
       "      <th>A</th>\n",
       "      <th>B</th>\n",
       "      <th>C</th>\n",
       "      <th>D</th>\n",
       "      <th>F</th>\n",
       "    </tr>\n",
       "  </thead>\n",
       "  <tbody>\n",
       "    <tr>\n",
       "      <th>2022-06-19</th>\n",
       "      <td>0.951469</td>\n",
       "      <td>0.509845</td>\n",
       "      <td>-0.462546</td>\n",
       "      <td>-1.213506</td>\n",
       "      <td>11</td>\n",
       "    </tr>\n",
       "    <tr>\n",
       "      <th>2022-06-20</th>\n",
       "      <td>-0.439995</td>\n",
       "      <td>1.077854</td>\n",
       "      <td>1.328994</td>\n",
       "      <td>0.963205</td>\n",
       "      <td>12</td>\n",
       "    </tr>\n",
       "    <tr>\n",
       "      <th>2022-06-21</th>\n",
       "      <td>0.107086</td>\n",
       "      <td>-1.869701</td>\n",
       "      <td>-1.478948</td>\n",
       "      <td>-0.230958</td>\n",
       "      <td>13</td>\n",
       "    </tr>\n",
       "    <tr>\n",
       "      <th>2022-06-22</th>\n",
       "      <td>0.644756</td>\n",
       "      <td>-0.927166</td>\n",
       "      <td>-2.401900</td>\n",
       "      <td>0.737268</td>\n",
       "      <td>14</td>\n",
       "    </tr>\n",
       "    <tr>\n",
       "      <th>2022-06-23</th>\n",
       "      <td>-0.077502</td>\n",
       "      <td>-0.119173</td>\n",
       "      <td>0.810236</td>\n",
       "      <td>1.038025</td>\n",
       "      <td>15</td>\n",
       "    </tr>\n",
       "    <tr>\n",
       "      <th>2022-06-24</th>\n",
       "      <td>0.106912</td>\n",
       "      <td>-2.049418</td>\n",
       "      <td>0.320690</td>\n",
       "      <td>0.549374</td>\n",
       "      <td>16</td>\n",
       "    </tr>\n",
       "    <tr>\n",
       "      <th>2022-06-25</th>\n",
       "      <td>-0.151913</td>\n",
       "      <td>0.425990</td>\n",
       "      <td>1.410461</td>\n",
       "      <td>-2.099694</td>\n",
       "      <td>17</td>\n",
       "    </tr>\n",
       "    <tr>\n",
       "      <th>2022-06-26</th>\n",
       "      <td>-0.737959</td>\n",
       "      <td>-0.217128</td>\n",
       "      <td>-1.357031</td>\n",
       "      <td>-1.084376</td>\n",
       "      <td>18</td>\n",
       "    </tr>\n",
       "    <tr>\n",
       "      <th>2022-06-27</th>\n",
       "      <td>0.862039</td>\n",
       "      <td>-0.209451</td>\n",
       "      <td>-0.068883</td>\n",
       "      <td>0.666439</td>\n",
       "      <td>19</td>\n",
       "    </tr>\n",
       "    <tr>\n",
       "      <th>2022-06-28</th>\n",
       "      <td>-1.324962</td>\n",
       "      <td>-0.528841</td>\n",
       "      <td>-1.014416</td>\n",
       "      <td>0.667417</td>\n",
       "      <td>20</td>\n",
       "    </tr>\n",
       "  </tbody>\n",
       "</table>\n",
       "</div>"
      ],
      "text/plain": [
       "                   A         B         C         D   F\n",
       "2022-06-19  0.951469  0.509845 -0.462546 -1.213506  11\n",
       "2022-06-20 -0.439995  1.077854  1.328994  0.963205  12\n",
       "2022-06-21  0.107086 -1.869701 -1.478948 -0.230958  13\n",
       "2022-06-22  0.644756 -0.927166 -2.401900  0.737268  14\n",
       "2022-06-23 -0.077502 -0.119173  0.810236  1.038025  15\n",
       "2022-06-24  0.106912 -2.049418  0.320690  0.549374  16\n",
       "2022-06-25 -0.151913  0.425990  1.410461 -2.099694  17\n",
       "2022-06-26 -0.737959 -0.217128 -1.357031 -1.084376  18\n",
       "2022-06-27  0.862039 -0.209451 -0.068883  0.666439  19\n",
       "2022-06-28 -1.324962 -0.528841 -1.014416  0.667417  20"
      ]
     },
     "execution_count": 73,
     "metadata": {},
     "output_type": "execute_result"
    }
   ],
   "source": [
    "# setting values by label and position\n",
    "# first let's make a quick copy\n",
    "df12 = df.copy()\n",
    "df12"
   ]
  },
  {
   "cell_type": "code",
   "execution_count": 74,
   "id": "d3fd3f54",
   "metadata": {},
   "outputs": [
    {
     "data": {
      "text/html": [
       "<div>\n",
       "<style scoped>\n",
       "    .dataframe tbody tr th:only-of-type {\n",
       "        vertical-align: middle;\n",
       "    }\n",
       "\n",
       "    .dataframe tbody tr th {\n",
       "        vertical-align: top;\n",
       "    }\n",
       "\n",
       "    .dataframe thead th {\n",
       "        text-align: right;\n",
       "    }\n",
       "</style>\n",
       "<table border=\"1\" class=\"dataframe\">\n",
       "  <thead>\n",
       "    <tr style=\"text-align: right;\">\n",
       "      <th></th>\n",
       "      <th>A</th>\n",
       "      <th>B</th>\n",
       "      <th>C</th>\n",
       "      <th>D</th>\n",
       "      <th>F</th>\n",
       "    </tr>\n",
       "  </thead>\n",
       "  <tbody>\n",
       "    <tr>\n",
       "      <th>2022-06-19</th>\n",
       "      <td>0.000000</td>\n",
       "      <td>0.000000</td>\n",
       "      <td>-0.462546</td>\n",
       "      <td>-1.213506</td>\n",
       "      <td>11</td>\n",
       "    </tr>\n",
       "    <tr>\n",
       "      <th>2022-06-20</th>\n",
       "      <td>-0.439995</td>\n",
       "      <td>1.077854</td>\n",
       "      <td>1.328994</td>\n",
       "      <td>0.963205</td>\n",
       "      <td>12</td>\n",
       "    </tr>\n",
       "    <tr>\n",
       "      <th>2022-06-21</th>\n",
       "      <td>0.107086</td>\n",
       "      <td>-1.869701</td>\n",
       "      <td>-1.478948</td>\n",
       "      <td>-0.230958</td>\n",
       "      <td>13</td>\n",
       "    </tr>\n",
       "    <tr>\n",
       "      <th>2022-06-22</th>\n",
       "      <td>0.644756</td>\n",
       "      <td>-0.927166</td>\n",
       "      <td>-2.401900</td>\n",
       "      <td>0.737268</td>\n",
       "      <td>14</td>\n",
       "    </tr>\n",
       "    <tr>\n",
       "      <th>2022-06-23</th>\n",
       "      <td>-0.077502</td>\n",
       "      <td>-0.119173</td>\n",
       "      <td>0.810236</td>\n",
       "      <td>1.038025</td>\n",
       "      <td>15</td>\n",
       "    </tr>\n",
       "    <tr>\n",
       "      <th>2022-06-24</th>\n",
       "      <td>0.106912</td>\n",
       "      <td>-2.049418</td>\n",
       "      <td>0.320690</td>\n",
       "      <td>0.549374</td>\n",
       "      <td>16</td>\n",
       "    </tr>\n",
       "    <tr>\n",
       "      <th>2022-06-25</th>\n",
       "      <td>-0.151913</td>\n",
       "      <td>0.425990</td>\n",
       "      <td>1.410461</td>\n",
       "      <td>-2.099694</td>\n",
       "      <td>17</td>\n",
       "    </tr>\n",
       "    <tr>\n",
       "      <th>2022-06-26</th>\n",
       "      <td>-0.737959</td>\n",
       "      <td>-0.217128</td>\n",
       "      <td>-1.357031</td>\n",
       "      <td>-1.084376</td>\n",
       "      <td>18</td>\n",
       "    </tr>\n",
       "    <tr>\n",
       "      <th>2022-06-27</th>\n",
       "      <td>0.862039</td>\n",
       "      <td>-0.209451</td>\n",
       "      <td>-0.068883</td>\n",
       "      <td>0.666439</td>\n",
       "      <td>19</td>\n",
       "    </tr>\n",
       "    <tr>\n",
       "      <th>2022-06-28</th>\n",
       "      <td>-1.324962</td>\n",
       "      <td>-0.528841</td>\n",
       "      <td>-1.014416</td>\n",
       "      <td>0.667417</td>\n",
       "      <td>20</td>\n",
       "    </tr>\n",
       "  </tbody>\n",
       "</table>\n",
       "</div>"
      ],
      "text/plain": [
       "                   A         B         C         D   F\n",
       "2022-06-19  0.000000  0.000000 -0.462546 -1.213506  11\n",
       "2022-06-20 -0.439995  1.077854  1.328994  0.963205  12\n",
       "2022-06-21  0.107086 -1.869701 -1.478948 -0.230958  13\n",
       "2022-06-22  0.644756 -0.927166 -2.401900  0.737268  14\n",
       "2022-06-23 -0.077502 -0.119173  0.810236  1.038025  15\n",
       "2022-06-24  0.106912 -2.049418  0.320690  0.549374  16\n",
       "2022-06-25 -0.151913  0.425990  1.410461 -2.099694  17\n",
       "2022-06-26 -0.737959 -0.217128 -1.357031 -1.084376  18\n",
       "2022-06-27  0.862039 -0.209451 -0.068883  0.666439  19\n",
       "2022-06-28 -1.324962 -0.528841 -1.014416  0.667417  20"
      ]
     },
     "execution_count": 74,
     "metadata": {},
     "output_type": "execute_result"
    }
   ],
   "source": [
    "# set by label\n",
    "df12.at[dates[0], \"A\"] = 0\n",
    "# set by position\n",
    "df12.iat[0, 1] = 0\n",
    "df12"
   ]
  },
  {
   "cell_type": "code",
   "execution_count": 75,
   "id": "335b8064",
   "metadata": {},
   "outputs": [
    {
     "data": {
      "text/html": [
       "<div>\n",
       "<style scoped>\n",
       "    .dataframe tbody tr th:only-of-type {\n",
       "        vertical-align: middle;\n",
       "    }\n",
       "\n",
       "    .dataframe tbody tr th {\n",
       "        vertical-align: top;\n",
       "    }\n",
       "\n",
       "    .dataframe thead th {\n",
       "        text-align: right;\n",
       "    }\n",
       "</style>\n",
       "<table border=\"1\" class=\"dataframe\">\n",
       "  <thead>\n",
       "    <tr style=\"text-align: right;\">\n",
       "      <th></th>\n",
       "      <th>A</th>\n",
       "      <th>B</th>\n",
       "      <th>C</th>\n",
       "      <th>D</th>\n",
       "      <th>F</th>\n",
       "    </tr>\n",
       "  </thead>\n",
       "  <tbody>\n",
       "    <tr>\n",
       "      <th>2022-06-19</th>\n",
       "      <td>0.000000</td>\n",
       "      <td>0.000000</td>\n",
       "      <td>-0.462546</td>\n",
       "      <td>5.0</td>\n",
       "      <td>11</td>\n",
       "    </tr>\n",
       "    <tr>\n",
       "      <th>2022-06-20</th>\n",
       "      <td>-0.439995</td>\n",
       "      <td>1.077854</td>\n",
       "      <td>1.328994</td>\n",
       "      <td>5.0</td>\n",
       "      <td>12</td>\n",
       "    </tr>\n",
       "    <tr>\n",
       "      <th>2022-06-21</th>\n",
       "      <td>0.107086</td>\n",
       "      <td>-1.869701</td>\n",
       "      <td>-1.478948</td>\n",
       "      <td>5.0</td>\n",
       "      <td>13</td>\n",
       "    </tr>\n",
       "    <tr>\n",
       "      <th>2022-06-22</th>\n",
       "      <td>0.644756</td>\n",
       "      <td>-0.927166</td>\n",
       "      <td>-2.401900</td>\n",
       "      <td>5.0</td>\n",
       "      <td>14</td>\n",
       "    </tr>\n",
       "    <tr>\n",
       "      <th>2022-06-23</th>\n",
       "      <td>-0.077502</td>\n",
       "      <td>-0.119173</td>\n",
       "      <td>0.810236</td>\n",
       "      <td>5.0</td>\n",
       "      <td>15</td>\n",
       "    </tr>\n",
       "    <tr>\n",
       "      <th>2022-06-24</th>\n",
       "      <td>0.106912</td>\n",
       "      <td>-2.049418</td>\n",
       "      <td>0.320690</td>\n",
       "      <td>5.0</td>\n",
       "      <td>16</td>\n",
       "    </tr>\n",
       "    <tr>\n",
       "      <th>2022-06-25</th>\n",
       "      <td>-0.151913</td>\n",
       "      <td>0.425990</td>\n",
       "      <td>1.410461</td>\n",
       "      <td>5.0</td>\n",
       "      <td>17</td>\n",
       "    </tr>\n",
       "    <tr>\n",
       "      <th>2022-06-26</th>\n",
       "      <td>-0.737959</td>\n",
       "      <td>-0.217128</td>\n",
       "      <td>-1.357031</td>\n",
       "      <td>5.0</td>\n",
       "      <td>18</td>\n",
       "    </tr>\n",
       "    <tr>\n",
       "      <th>2022-06-27</th>\n",
       "      <td>0.862039</td>\n",
       "      <td>-0.209451</td>\n",
       "      <td>-0.068883</td>\n",
       "      <td>5.0</td>\n",
       "      <td>19</td>\n",
       "    </tr>\n",
       "    <tr>\n",
       "      <th>2022-06-28</th>\n",
       "      <td>-1.324962</td>\n",
       "      <td>-0.528841</td>\n",
       "      <td>-1.014416</td>\n",
       "      <td>5.0</td>\n",
       "      <td>20</td>\n",
       "    </tr>\n",
       "  </tbody>\n",
       "</table>\n",
       "</div>"
      ],
      "text/plain": [
       "                   A         B         C    D   F\n",
       "2022-06-19  0.000000  0.000000 -0.462546  5.0  11\n",
       "2022-06-20 -0.439995  1.077854  1.328994  5.0  12\n",
       "2022-06-21  0.107086 -1.869701 -1.478948  5.0  13\n",
       "2022-06-22  0.644756 -0.927166 -2.401900  5.0  14\n",
       "2022-06-23 -0.077502 -0.119173  0.810236  5.0  15\n",
       "2022-06-24  0.106912 -2.049418  0.320690  5.0  16\n",
       "2022-06-25 -0.151913  0.425990  1.410461  5.0  17\n",
       "2022-06-26 -0.737959 -0.217128 -1.357031  5.0  18\n",
       "2022-06-27  0.862039 -0.209451 -0.068883  5.0  19\n",
       "2022-06-28 -1.324962 -0.528841 -1.014416  5.0  20"
      ]
     },
     "execution_count": 75,
     "metadata": {},
     "output_type": "execute_result"
    }
   ],
   "source": [
    "# kinda bigger replacement\n",
    "df12.loc[:, \"D\"] = np.array([5]*len(df))\n",
    "df12"
   ]
  },
  {
   "cell_type": "code",
   "execution_count": 76,
   "id": "3f53b253",
   "metadata": {},
   "outputs": [
    {
     "data": {
      "text/html": [
       "<div>\n",
       "<style scoped>\n",
       "    .dataframe tbody tr th:only-of-type {\n",
       "        vertical-align: middle;\n",
       "    }\n",
       "\n",
       "    .dataframe tbody tr th {\n",
       "        vertical-align: top;\n",
       "    }\n",
       "\n",
       "    .dataframe thead th {\n",
       "        text-align: right;\n",
       "    }\n",
       "</style>\n",
       "<table border=\"1\" class=\"dataframe\">\n",
       "  <thead>\n",
       "    <tr style=\"text-align: right;\">\n",
       "      <th></th>\n",
       "      <th>A</th>\n",
       "      <th>B</th>\n",
       "      <th>C</th>\n",
       "      <th>D</th>\n",
       "      <th>F</th>\n",
       "    </tr>\n",
       "  </thead>\n",
       "  <tbody>\n",
       "    <tr>\n",
       "      <th>2022-06-19</th>\n",
       "      <td>0.000000</td>\n",
       "      <td>0.000000</td>\n",
       "      <td>-0.462546</td>\n",
       "      <td>-5.0</td>\n",
       "      <td>-11</td>\n",
       "    </tr>\n",
       "    <tr>\n",
       "      <th>2022-06-20</th>\n",
       "      <td>-0.439995</td>\n",
       "      <td>-1.077854</td>\n",
       "      <td>-1.328994</td>\n",
       "      <td>-5.0</td>\n",
       "      <td>-12</td>\n",
       "    </tr>\n",
       "    <tr>\n",
       "      <th>2022-06-21</th>\n",
       "      <td>-0.107086</td>\n",
       "      <td>-1.869701</td>\n",
       "      <td>-1.478948</td>\n",
       "      <td>-5.0</td>\n",
       "      <td>-13</td>\n",
       "    </tr>\n",
       "    <tr>\n",
       "      <th>2022-06-22</th>\n",
       "      <td>-0.644756</td>\n",
       "      <td>-0.927166</td>\n",
       "      <td>-2.401900</td>\n",
       "      <td>-5.0</td>\n",
       "      <td>-14</td>\n",
       "    </tr>\n",
       "    <tr>\n",
       "      <th>2022-06-23</th>\n",
       "      <td>-0.077502</td>\n",
       "      <td>-0.119173</td>\n",
       "      <td>-0.810236</td>\n",
       "      <td>-5.0</td>\n",
       "      <td>-15</td>\n",
       "    </tr>\n",
       "    <tr>\n",
       "      <th>2022-06-24</th>\n",
       "      <td>-0.106912</td>\n",
       "      <td>-2.049418</td>\n",
       "      <td>-0.320690</td>\n",
       "      <td>-5.0</td>\n",
       "      <td>-16</td>\n",
       "    </tr>\n",
       "    <tr>\n",
       "      <th>2022-06-25</th>\n",
       "      <td>-0.151913</td>\n",
       "      <td>-0.425990</td>\n",
       "      <td>-1.410461</td>\n",
       "      <td>-5.0</td>\n",
       "      <td>-17</td>\n",
       "    </tr>\n",
       "    <tr>\n",
       "      <th>2022-06-26</th>\n",
       "      <td>-0.737959</td>\n",
       "      <td>-0.217128</td>\n",
       "      <td>-1.357031</td>\n",
       "      <td>-5.0</td>\n",
       "      <td>-18</td>\n",
       "    </tr>\n",
       "    <tr>\n",
       "      <th>2022-06-27</th>\n",
       "      <td>-0.862039</td>\n",
       "      <td>-0.209451</td>\n",
       "      <td>-0.068883</td>\n",
       "      <td>-5.0</td>\n",
       "      <td>-19</td>\n",
       "    </tr>\n",
       "    <tr>\n",
       "      <th>2022-06-28</th>\n",
       "      <td>-1.324962</td>\n",
       "      <td>-0.528841</td>\n",
       "      <td>-1.014416</td>\n",
       "      <td>-5.0</td>\n",
       "      <td>-20</td>\n",
       "    </tr>\n",
       "  </tbody>\n",
       "</table>\n",
       "</div>"
      ],
      "text/plain": [
       "                   A         B         C    D   F\n",
       "2022-06-19  0.000000  0.000000 -0.462546 -5.0 -11\n",
       "2022-06-20 -0.439995 -1.077854 -1.328994 -5.0 -12\n",
       "2022-06-21 -0.107086 -1.869701 -1.478948 -5.0 -13\n",
       "2022-06-22 -0.644756 -0.927166 -2.401900 -5.0 -14\n",
       "2022-06-23 -0.077502 -0.119173 -0.810236 -5.0 -15\n",
       "2022-06-24 -0.106912 -2.049418 -0.320690 -5.0 -16\n",
       "2022-06-25 -0.151913 -0.425990 -1.410461 -5.0 -17\n",
       "2022-06-26 -0.737959 -0.217128 -1.357031 -5.0 -18\n",
       "2022-06-27 -0.862039 -0.209451 -0.068883 -5.0 -19\n",
       "2022-06-28 -1.324962 -0.528841 -1.014416 -5.0 -20"
      ]
     },
     "execution_count": 76,
     "metadata": {},
     "output_type": "execute_result"
    }
   ],
   "source": [
    "# setting values using a boolean selection (aka where clause)\n",
    "df12[df12 > 0] = -df12\n",
    "df12"
   ]
  },
  {
   "cell_type": "markdown",
   "id": "657098c8",
   "metadata": {},
   "source": [
    "# Missing Data"
   ]
  },
  {
   "cell_type": "markdown",
   "id": "c7f7b967",
   "metadata": {},
   "source": [
    "### _reindex_\n",
    "change/add/delete index on a specified axis, returns a new dataframe"
   ]
  },
  {
   "cell_type": "code",
   "execution_count": 77,
   "id": "2fe35041",
   "metadata": {},
   "outputs": [
    {
     "data": {
      "text/html": [
       "<div>\n",
       "<style scoped>\n",
       "    .dataframe tbody tr th:only-of-type {\n",
       "        vertical-align: middle;\n",
       "    }\n",
       "\n",
       "    .dataframe tbody tr th {\n",
       "        vertical-align: top;\n",
       "    }\n",
       "\n",
       "    .dataframe thead th {\n",
       "        text-align: right;\n",
       "    }\n",
       "</style>\n",
       "<table border=\"1\" class=\"dataframe\">\n",
       "  <thead>\n",
       "    <tr style=\"text-align: right;\">\n",
       "      <th></th>\n",
       "      <th>A</th>\n",
       "      <th>B</th>\n",
       "      <th>C</th>\n",
       "      <th>D</th>\n",
       "      <th>F</th>\n",
       "      <th>G</th>\n",
       "    </tr>\n",
       "  </thead>\n",
       "  <tbody>\n",
       "    <tr>\n",
       "      <th>2022-06-19</th>\n",
       "      <td>0.951469</td>\n",
       "      <td>0.509845</td>\n",
       "      <td>-0.462546</td>\n",
       "      <td>-1.213506</td>\n",
       "      <td>11</td>\n",
       "      <td>NaN</td>\n",
       "    </tr>\n",
       "    <tr>\n",
       "      <th>2022-06-20</th>\n",
       "      <td>-0.439995</td>\n",
       "      <td>1.077854</td>\n",
       "      <td>1.328994</td>\n",
       "      <td>0.963205</td>\n",
       "      <td>12</td>\n",
       "      <td>NaN</td>\n",
       "    </tr>\n",
       "    <tr>\n",
       "      <th>2022-06-21</th>\n",
       "      <td>0.107086</td>\n",
       "      <td>-1.869701</td>\n",
       "      <td>-1.478948</td>\n",
       "      <td>-0.230958</td>\n",
       "      <td>13</td>\n",
       "      <td>NaN</td>\n",
       "    </tr>\n",
       "    <tr>\n",
       "      <th>2022-06-22</th>\n",
       "      <td>0.644756</td>\n",
       "      <td>-0.927166</td>\n",
       "      <td>-2.401900</td>\n",
       "      <td>0.737268</td>\n",
       "      <td>14</td>\n",
       "      <td>NaN</td>\n",
       "    </tr>\n",
       "  </tbody>\n",
       "</table>\n",
       "</div>"
      ],
      "text/plain": [
       "                   A         B         C         D   F   G\n",
       "2022-06-19  0.951469  0.509845 -0.462546 -1.213506  11 NaN\n",
       "2022-06-20 -0.439995  1.077854  1.328994  0.963205  12 NaN\n",
       "2022-06-21  0.107086 -1.869701 -1.478948 -0.230958  13 NaN\n",
       "2022-06-22  0.644756 -0.927166 -2.401900  0.737268  14 NaN"
      ]
     },
     "execution_count": 77,
     "metadata": {},
     "output_type": "execute_result"
    }
   ],
   "source": [
    "df13 = df.reindex(index=dates[0:4], columns=list(df.columns)+[\"G\"])\n",
    "df13"
   ]
  },
  {
   "cell_type": "markdown",
   "id": "51c716c9",
   "metadata": {},
   "source": [
    "### handling missing data\n",
    "1. _```np.nan```_\n",
    "1. _```pandas.isna()```_\n",
    "1. ```df.dropna()```\n",
    "1. ```df.fillna()```"
   ]
  },
  {
   "cell_type": "code",
   "execution_count": 78,
   "id": "c9aa1fe4",
   "metadata": {},
   "outputs": [
    {
     "data": {
      "text/html": [
       "<div>\n",
       "<style scoped>\n",
       "    .dataframe tbody tr th:only-of-type {\n",
       "        vertical-align: middle;\n",
       "    }\n",
       "\n",
       "    .dataframe tbody tr th {\n",
       "        vertical-align: top;\n",
       "    }\n",
       "\n",
       "    .dataframe thead th {\n",
       "        text-align: right;\n",
       "    }\n",
       "</style>\n",
       "<table border=\"1\" class=\"dataframe\">\n",
       "  <thead>\n",
       "    <tr style=\"text-align: right;\">\n",
       "      <th></th>\n",
       "      <th>A</th>\n",
       "      <th>B</th>\n",
       "      <th>C</th>\n",
       "      <th>D</th>\n",
       "      <th>F</th>\n",
       "      <th>G</th>\n",
       "    </tr>\n",
       "  </thead>\n",
       "  <tbody>\n",
       "    <tr>\n",
       "      <th>2022-06-19</th>\n",
       "      <td>0.951469</td>\n",
       "      <td>0.509845</td>\n",
       "      <td>-0.462546</td>\n",
       "      <td>-1.213506</td>\n",
       "      <td>11</td>\n",
       "      <td>NaN</td>\n",
       "    </tr>\n",
       "    <tr>\n",
       "      <th>2022-06-20</th>\n",
       "      <td>NaN</td>\n",
       "      <td>1.077854</td>\n",
       "      <td>1.328994</td>\n",
       "      <td>0.963205</td>\n",
       "      <td>12</td>\n",
       "      <td>0.0</td>\n",
       "    </tr>\n",
       "    <tr>\n",
       "      <th>2022-06-21</th>\n",
       "      <td>0.107086</td>\n",
       "      <td>-1.869701</td>\n",
       "      <td>-1.478948</td>\n",
       "      <td>-0.230958</td>\n",
       "      <td>13</td>\n",
       "      <td>0.0</td>\n",
       "    </tr>\n",
       "    <tr>\n",
       "      <th>2022-06-22</th>\n",
       "      <td>0.644756</td>\n",
       "      <td>-0.927166</td>\n",
       "      <td>-2.401900</td>\n",
       "      <td>0.737268</td>\n",
       "      <td>14</td>\n",
       "      <td>0.0</td>\n",
       "    </tr>\n",
       "  </tbody>\n",
       "</table>\n",
       "</div>"
      ],
      "text/plain": [
       "                   A         B         C         D   F    G\n",
       "2022-06-19  0.951469  0.509845 -0.462546 -1.213506  11  NaN\n",
       "2022-06-20       NaN  1.077854  1.328994  0.963205  12  0.0\n",
       "2022-06-21  0.107086 -1.869701 -1.478948 -0.230958  13  0.0\n",
       "2022-06-22  0.644756 -0.927166 -2.401900  0.737268  14  0.0"
      ]
     },
     "execution_count": 78,
     "metadata": {},
     "output_type": "execute_result"
    }
   ],
   "source": [
    "# missing data in pandas is np.nan\n",
    "df13.iat[1, 0] = np.nan\n",
    "df13.iloc[1:, 5] = np.random.randint(1)\n",
    "df13"
   ]
  },
  {
   "cell_type": "code",
   "execution_count": 79,
   "id": "23200e22",
   "metadata": {},
   "outputs": [
    {
     "data": {
      "text/html": [
       "<div>\n",
       "<style scoped>\n",
       "    .dataframe tbody tr th:only-of-type {\n",
       "        vertical-align: middle;\n",
       "    }\n",
       "\n",
       "    .dataframe tbody tr th {\n",
       "        vertical-align: top;\n",
       "    }\n",
       "\n",
       "    .dataframe thead th {\n",
       "        text-align: right;\n",
       "    }\n",
       "</style>\n",
       "<table border=\"1\" class=\"dataframe\">\n",
       "  <thead>\n",
       "    <tr style=\"text-align: right;\">\n",
       "      <th></th>\n",
       "      <th>A</th>\n",
       "      <th>B</th>\n",
       "      <th>C</th>\n",
       "      <th>D</th>\n",
       "      <th>F</th>\n",
       "      <th>G</th>\n",
       "    </tr>\n",
       "  </thead>\n",
       "  <tbody>\n",
       "    <tr>\n",
       "      <th>2022-06-19</th>\n",
       "      <td>False</td>\n",
       "      <td>False</td>\n",
       "      <td>False</td>\n",
       "      <td>False</td>\n",
       "      <td>False</td>\n",
       "      <td>True</td>\n",
       "    </tr>\n",
       "    <tr>\n",
       "      <th>2022-06-20</th>\n",
       "      <td>True</td>\n",
       "      <td>False</td>\n",
       "      <td>False</td>\n",
       "      <td>False</td>\n",
       "      <td>False</td>\n",
       "      <td>False</td>\n",
       "    </tr>\n",
       "    <tr>\n",
       "      <th>2022-06-21</th>\n",
       "      <td>False</td>\n",
       "      <td>False</td>\n",
       "      <td>False</td>\n",
       "      <td>False</td>\n",
       "      <td>False</td>\n",
       "      <td>False</td>\n",
       "    </tr>\n",
       "    <tr>\n",
       "      <th>2022-06-22</th>\n",
       "      <td>False</td>\n",
       "      <td>False</td>\n",
       "      <td>False</td>\n",
       "      <td>False</td>\n",
       "      <td>False</td>\n",
       "      <td>False</td>\n",
       "    </tr>\n",
       "  </tbody>\n",
       "</table>\n",
       "</div>"
      ],
      "text/plain": [
       "                A      B      C      D      F      G\n",
       "2022-06-19  False  False  False  False  False   True\n",
       "2022-06-20   True  False  False  False  False  False\n",
       "2022-06-21  False  False  False  False  False  False\n",
       "2022-06-22  False  False  False  False  False  False"
      ]
     },
     "execution_count": 79,
     "metadata": {},
     "output_type": "execute_result"
    }
   ],
   "source": [
    "# get a boolean mask where values are NaN\n",
    "df131 = pd.isna(df13)\n",
    "df131"
   ]
  },
  {
   "cell_type": "code",
   "execution_count": 80,
   "id": "d1bfc7ed",
   "metadata": {},
   "outputs": [
    {
     "data": {
      "text/html": [
       "<div>\n",
       "<style scoped>\n",
       "    .dataframe tbody tr th:only-of-type {\n",
       "        vertical-align: middle;\n",
       "    }\n",
       "\n",
       "    .dataframe tbody tr th {\n",
       "        vertical-align: top;\n",
       "    }\n",
       "\n",
       "    .dataframe thead th {\n",
       "        text-align: right;\n",
       "    }\n",
       "</style>\n",
       "<table border=\"1\" class=\"dataframe\">\n",
       "  <thead>\n",
       "    <tr style=\"text-align: right;\">\n",
       "      <th></th>\n",
       "      <th>A</th>\n",
       "      <th>B</th>\n",
       "      <th>C</th>\n",
       "      <th>D</th>\n",
       "      <th>F</th>\n",
       "      <th>G</th>\n",
       "    </tr>\n",
       "  </thead>\n",
       "  <tbody>\n",
       "    <tr>\n",
       "      <th>2022-06-19</th>\n",
       "      <td>False</td>\n",
       "      <td>False</td>\n",
       "      <td>False</td>\n",
       "      <td>False</td>\n",
       "      <td>False</td>\n",
       "      <td>True</td>\n",
       "    </tr>\n",
       "    <tr>\n",
       "      <th>2022-06-20</th>\n",
       "      <td>True</td>\n",
       "      <td>False</td>\n",
       "      <td>False</td>\n",
       "      <td>False</td>\n",
       "      <td>False</td>\n",
       "      <td>False</td>\n",
       "    </tr>\n",
       "    <tr>\n",
       "      <th>2022-06-21</th>\n",
       "      <td>False</td>\n",
       "      <td>False</td>\n",
       "      <td>False</td>\n",
       "      <td>False</td>\n",
       "      <td>False</td>\n",
       "      <td>False</td>\n",
       "    </tr>\n",
       "    <tr>\n",
       "      <th>2022-06-22</th>\n",
       "      <td>False</td>\n",
       "      <td>False</td>\n",
       "      <td>False</td>\n",
       "      <td>False</td>\n",
       "      <td>False</td>\n",
       "      <td>False</td>\n",
       "    </tr>\n",
       "  </tbody>\n",
       "</table>\n",
       "</div>"
      ],
      "text/plain": [
       "                A      B      C      D      F      G\n",
       "2022-06-19  False  False  False  False  False   True\n",
       "2022-06-20   True  False  False  False  False  False\n",
       "2022-06-21  False  False  False  False  False  False\n",
       "2022-06-22  False  False  False  False  False  False"
      ]
     },
     "execution_count": 80,
     "metadata": {},
     "output_type": "execute_result"
    }
   ],
   "source": [
    "# or just\n",
    "pd.isna(df13)"
   ]
  },
  {
   "cell_type": "code",
   "execution_count": 81,
   "id": "d8be6b63",
   "metadata": {},
   "outputs": [
    {
     "data": {
      "text/html": [
       "<div>\n",
       "<style scoped>\n",
       "    .dataframe tbody tr th:only-of-type {\n",
       "        vertical-align: middle;\n",
       "    }\n",
       "\n",
       "    .dataframe tbody tr th {\n",
       "        vertical-align: top;\n",
       "    }\n",
       "\n",
       "    .dataframe thead th {\n",
       "        text-align: right;\n",
       "    }\n",
       "</style>\n",
       "<table border=\"1\" class=\"dataframe\">\n",
       "  <thead>\n",
       "    <tr style=\"text-align: right;\">\n",
       "      <th></th>\n",
       "      <th>A</th>\n",
       "      <th>B</th>\n",
       "      <th>C</th>\n",
       "      <th>D</th>\n",
       "      <th>F</th>\n",
       "      <th>G</th>\n",
       "    </tr>\n",
       "  </thead>\n",
       "  <tbody>\n",
       "    <tr>\n",
       "      <th>2022-06-19</th>\n",
       "      <td>0.951469</td>\n",
       "      <td>0.509845</td>\n",
       "      <td>-0.462546</td>\n",
       "      <td>-1.213506</td>\n",
       "      <td>11</td>\n",
       "      <td>NaN</td>\n",
       "    </tr>\n",
       "    <tr>\n",
       "      <th>2022-06-20</th>\n",
       "      <td>NaN</td>\n",
       "      <td>1.077854</td>\n",
       "      <td>1.328994</td>\n",
       "      <td>0.963205</td>\n",
       "      <td>12</td>\n",
       "      <td>0.0</td>\n",
       "    </tr>\n",
       "    <tr>\n",
       "      <th>2022-06-21</th>\n",
       "      <td>0.107086</td>\n",
       "      <td>-1.869701</td>\n",
       "      <td>-1.478948</td>\n",
       "      <td>-0.230958</td>\n",
       "      <td>13</td>\n",
       "      <td>0.0</td>\n",
       "    </tr>\n",
       "    <tr>\n",
       "      <th>2022-06-22</th>\n",
       "      <td>0.644756</td>\n",
       "      <td>-0.927166</td>\n",
       "      <td>-2.401900</td>\n",
       "      <td>0.737268</td>\n",
       "      <td>14</td>\n",
       "      <td>0.0</td>\n",
       "    </tr>\n",
       "  </tbody>\n",
       "</table>\n",
       "</div>"
      ],
      "text/plain": [
       "                   A         B         C         D   F    G\n",
       "2022-06-19  0.951469  0.509845 -0.462546 -1.213506  11  NaN\n",
       "2022-06-20       NaN  1.077854  1.328994  0.963205  12  0.0\n",
       "2022-06-21  0.107086 -1.869701 -1.478948 -0.230958  13  0.0\n",
       "2022-06-22  0.644756 -0.927166 -2.401900  0.737268  14  0.0"
      ]
     },
     "execution_count": 81,
     "metadata": {},
     "output_type": "execute_result"
    }
   ],
   "source": [
    "# the original is still there\n",
    "df13"
   ]
  },
  {
   "cell_type": "code",
   "execution_count": 82,
   "id": "aed86bc1",
   "metadata": {},
   "outputs": [
    {
     "data": {
      "text/html": [
       "<div>\n",
       "<style scoped>\n",
       "    .dataframe tbody tr th:only-of-type {\n",
       "        vertical-align: middle;\n",
       "    }\n",
       "\n",
       "    .dataframe tbody tr th {\n",
       "        vertical-align: top;\n",
       "    }\n",
       "\n",
       "    .dataframe thead th {\n",
       "        text-align: right;\n",
       "    }\n",
       "</style>\n",
       "<table border=\"1\" class=\"dataframe\">\n",
       "  <thead>\n",
       "    <tr style=\"text-align: right;\">\n",
       "      <th></th>\n",
       "      <th>A</th>\n",
       "      <th>B</th>\n",
       "      <th>C</th>\n",
       "      <th>D</th>\n",
       "      <th>F</th>\n",
       "      <th>G</th>\n",
       "    </tr>\n",
       "  </thead>\n",
       "  <tbody>\n",
       "    <tr>\n",
       "      <th>2022-06-19</th>\n",
       "      <td>0.951469</td>\n",
       "      <td>0.509845</td>\n",
       "      <td>-0.462546</td>\n",
       "      <td>-1.213506</td>\n",
       "      <td>11</td>\n",
       "      <td>NaN</td>\n",
       "    </tr>\n",
       "    <tr>\n",
       "      <th>2022-06-20</th>\n",
       "      <td>NaN</td>\n",
       "      <td>1.077854</td>\n",
       "      <td>1.328994</td>\n",
       "      <td>0.963205</td>\n",
       "      <td>12</td>\n",
       "      <td>0.0</td>\n",
       "    </tr>\n",
       "    <tr>\n",
       "      <th>2022-06-21</th>\n",
       "      <td>0.107086</td>\n",
       "      <td>-1.869701</td>\n",
       "      <td>-1.478948</td>\n",
       "      <td>-0.230958</td>\n",
       "      <td>13</td>\n",
       "      <td>0.0</td>\n",
       "    </tr>\n",
       "    <tr>\n",
       "      <th>2022-06-22</th>\n",
       "      <td>0.644756</td>\n",
       "      <td>-0.927166</td>\n",
       "      <td>-2.401900</td>\n",
       "      <td>0.737268</td>\n",
       "      <td>14</td>\n",
       "      <td>0.0</td>\n",
       "    </tr>\n",
       "  </tbody>\n",
       "</table>\n",
       "</div>"
      ],
      "text/plain": [
       "                   A         B         C         D   F    G\n",
       "2022-06-19  0.951469  0.509845 -0.462546 -1.213506  11  NaN\n",
       "2022-06-20       NaN  1.077854  1.328994  0.963205  12  0.0\n",
       "2022-06-21  0.107086 -1.869701 -1.478948 -0.230958  13  0.0\n",
       "2022-06-22  0.644756 -0.927166 -2.401900  0.737268  14  0.0"
      ]
     },
     "execution_count": 82,
     "metadata": {},
     "output_type": "execute_result"
    }
   ],
   "source": [
    "# we are going to drop / replace values now, let's make a couple of copies of the dataframe\n",
    "df132 = df13.copy()\n",
    "df132"
   ]
  },
  {
   "cell_type": "code",
   "execution_count": 83,
   "id": "bab84449",
   "metadata": {},
   "outputs": [],
   "source": [
    "# drop rows/columns that have missing data\n",
    "# by default it returns a new dataframe, you may want to specify inplace=True for modifying current dataframe:\n",
    "df_no_na = df132.dropna(how=\"any\")\n",
    "# how=‘any’ : If any NA values are present, drop that row or column.\n",
    "# how=‘all’ : If all values are NA, drop that row or column."
   ]
  },
  {
   "cell_type": "code",
   "execution_count": 84,
   "id": "0af9cc0a",
   "metadata": {},
   "outputs": [
    {
     "data": {
      "text/html": [
       "<div>\n",
       "<style scoped>\n",
       "    .dataframe tbody tr th:only-of-type {\n",
       "        vertical-align: middle;\n",
       "    }\n",
       "\n",
       "    .dataframe tbody tr th {\n",
       "        vertical-align: top;\n",
       "    }\n",
       "\n",
       "    .dataframe thead th {\n",
       "        text-align: right;\n",
       "    }\n",
       "</style>\n",
       "<table border=\"1\" class=\"dataframe\">\n",
       "  <thead>\n",
       "    <tr style=\"text-align: right;\">\n",
       "      <th></th>\n",
       "      <th>A</th>\n",
       "      <th>B</th>\n",
       "      <th>C</th>\n",
       "      <th>D</th>\n",
       "      <th>F</th>\n",
       "      <th>G</th>\n",
       "    </tr>\n",
       "  </thead>\n",
       "  <tbody>\n",
       "    <tr>\n",
       "      <th>2022-06-21</th>\n",
       "      <td>0.107086</td>\n",
       "      <td>-1.869701</td>\n",
       "      <td>-1.478948</td>\n",
       "      <td>-0.230958</td>\n",
       "      <td>13</td>\n",
       "      <td>0.0</td>\n",
       "    </tr>\n",
       "    <tr>\n",
       "      <th>2022-06-22</th>\n",
       "      <td>0.644756</td>\n",
       "      <td>-0.927166</td>\n",
       "      <td>-2.401900</td>\n",
       "      <td>0.737268</td>\n",
       "      <td>14</td>\n",
       "      <td>0.0</td>\n",
       "    </tr>\n",
       "  </tbody>\n",
       "</table>\n",
       "</div>"
      ],
      "text/plain": [
       "                   A         B         C         D   F    G\n",
       "2022-06-21  0.107086 -1.869701 -1.478948 -0.230958  13  0.0\n",
       "2022-06-22  0.644756 -0.927166 -2.401900  0.737268  14  0.0"
      ]
     },
     "execution_count": 84,
     "metadata": {},
     "output_type": "execute_result"
    }
   ],
   "source": [
    "# all rows/cols with missing data stripped\n",
    "df_no_na"
   ]
  },
  {
   "cell_type": "code",
   "execution_count": 85,
   "id": "f63bff5c",
   "metadata": {},
   "outputs": [
    {
     "data": {
      "text/html": [
       "<div>\n",
       "<style scoped>\n",
       "    .dataframe tbody tr th:only-of-type {\n",
       "        vertical-align: middle;\n",
       "    }\n",
       "\n",
       "    .dataframe tbody tr th {\n",
       "        vertical-align: top;\n",
       "    }\n",
       "\n",
       "    .dataframe thead th {\n",
       "        text-align: right;\n",
       "    }\n",
       "</style>\n",
       "<table border=\"1\" class=\"dataframe\">\n",
       "  <thead>\n",
       "    <tr style=\"text-align: right;\">\n",
       "      <th></th>\n",
       "      <th>A</th>\n",
       "      <th>B</th>\n",
       "      <th>C</th>\n",
       "      <th>D</th>\n",
       "      <th>F</th>\n",
       "      <th>G</th>\n",
       "    </tr>\n",
       "  </thead>\n",
       "  <tbody>\n",
       "    <tr>\n",
       "      <th>2022-06-19</th>\n",
       "      <td>0.951469</td>\n",
       "      <td>0.509845</td>\n",
       "      <td>-0.462546</td>\n",
       "      <td>-1.213506</td>\n",
       "      <td>11</td>\n",
       "      <td>NaN</td>\n",
       "    </tr>\n",
       "    <tr>\n",
       "      <th>2022-06-20</th>\n",
       "      <td>NaN</td>\n",
       "      <td>1.077854</td>\n",
       "      <td>1.328994</td>\n",
       "      <td>0.963205</td>\n",
       "      <td>12</td>\n",
       "      <td>0.0</td>\n",
       "    </tr>\n",
       "    <tr>\n",
       "      <th>2022-06-21</th>\n",
       "      <td>0.107086</td>\n",
       "      <td>-1.869701</td>\n",
       "      <td>-1.478948</td>\n",
       "      <td>-0.230958</td>\n",
       "      <td>13</td>\n",
       "      <td>0.0</td>\n",
       "    </tr>\n",
       "    <tr>\n",
       "      <th>2022-06-22</th>\n",
       "      <td>0.644756</td>\n",
       "      <td>-0.927166</td>\n",
       "      <td>-2.401900</td>\n",
       "      <td>0.737268</td>\n",
       "      <td>14</td>\n",
       "      <td>0.0</td>\n",
       "    </tr>\n",
       "  </tbody>\n",
       "</table>\n",
       "</div>"
      ],
      "text/plain": [
       "                   A         B         C         D   F    G\n",
       "2022-06-19  0.951469  0.509845 -0.462546 -1.213506  11  NaN\n",
       "2022-06-20       NaN  1.077854  1.328994  0.963205  12  0.0\n",
       "2022-06-21  0.107086 -1.869701 -1.478948 -0.230958  13  0.0\n",
       "2022-06-22  0.644756 -0.927166 -2.401900  0.737268  14  0.0"
      ]
     },
     "execution_count": 85,
     "metadata": {},
     "output_type": "execute_result"
    }
   ],
   "source": [
    "# original still intact\n",
    "df132"
   ]
  },
  {
   "cell_type": "code",
   "execution_count": 86,
   "id": "de768028",
   "metadata": {},
   "outputs": [
    {
     "data": {
      "text/html": [
       "<div>\n",
       "<style scoped>\n",
       "    .dataframe tbody tr th:only-of-type {\n",
       "        vertical-align: middle;\n",
       "    }\n",
       "\n",
       "    .dataframe tbody tr th {\n",
       "        vertical-align: top;\n",
       "    }\n",
       "\n",
       "    .dataframe thead th {\n",
       "        text-align: right;\n",
       "    }\n",
       "</style>\n",
       "<table border=\"1\" class=\"dataframe\">\n",
       "  <thead>\n",
       "    <tr style=\"text-align: right;\">\n",
       "      <th></th>\n",
       "      <th>A</th>\n",
       "      <th>B</th>\n",
       "      <th>C</th>\n",
       "      <th>D</th>\n",
       "      <th>F</th>\n",
       "      <th>G</th>\n",
       "    </tr>\n",
       "  </thead>\n",
       "  <tbody>\n",
       "    <tr>\n",
       "      <th>2022-06-21</th>\n",
       "      <td>0.107086</td>\n",
       "      <td>-1.869701</td>\n",
       "      <td>-1.478948</td>\n",
       "      <td>-0.230958</td>\n",
       "      <td>13</td>\n",
       "      <td>0.0</td>\n",
       "    </tr>\n",
       "    <tr>\n",
       "      <th>2022-06-22</th>\n",
       "      <td>0.644756</td>\n",
       "      <td>-0.927166</td>\n",
       "      <td>-2.401900</td>\n",
       "      <td>0.737268</td>\n",
       "      <td>14</td>\n",
       "      <td>0.0</td>\n",
       "    </tr>\n",
       "  </tbody>\n",
       "</table>\n",
       "</div>"
      ],
      "text/plain": [
       "                   A         B         C         D   F    G\n",
       "2022-06-21  0.107086 -1.869701 -1.478948 -0.230958  13  0.0\n",
       "2022-06-22  0.644756 -0.927166 -2.401900  0.737268  14  0.0"
      ]
     },
     "execution_count": 86,
     "metadata": {},
     "output_type": "execute_result"
    }
   ],
   "source": [
    "# drop missing data from original\n",
    "df132.dropna(how=\"any\", inplace=True)\n",
    "df132"
   ]
  },
  {
   "cell_type": "code",
   "execution_count": 87,
   "id": "0d969389",
   "metadata": {},
   "outputs": [
    {
     "data": {
      "text/html": [
       "<div>\n",
       "<style scoped>\n",
       "    .dataframe tbody tr th:only-of-type {\n",
       "        vertical-align: middle;\n",
       "    }\n",
       "\n",
       "    .dataframe tbody tr th {\n",
       "        vertical-align: top;\n",
       "    }\n",
       "\n",
       "    .dataframe thead th {\n",
       "        text-align: right;\n",
       "    }\n",
       "</style>\n",
       "<table border=\"1\" class=\"dataframe\">\n",
       "  <thead>\n",
       "    <tr style=\"text-align: right;\">\n",
       "      <th></th>\n",
       "      <th>A</th>\n",
       "      <th>B</th>\n",
       "      <th>C</th>\n",
       "      <th>D</th>\n",
       "      <th>F</th>\n",
       "      <th>G</th>\n",
       "    </tr>\n",
       "  </thead>\n",
       "  <tbody>\n",
       "    <tr>\n",
       "      <th>2022-06-19</th>\n",
       "      <td>0.951469</td>\n",
       "      <td>0.509845</td>\n",
       "      <td>-0.462546</td>\n",
       "      <td>-1.213506</td>\n",
       "      <td>11</td>\n",
       "      <td>3141.592654</td>\n",
       "    </tr>\n",
       "    <tr>\n",
       "      <th>2022-06-20</th>\n",
       "      <td>3141.592654</td>\n",
       "      <td>1.077854</td>\n",
       "      <td>1.328994</td>\n",
       "      <td>0.963205</td>\n",
       "      <td>12</td>\n",
       "      <td>0.000000</td>\n",
       "    </tr>\n",
       "    <tr>\n",
       "      <th>2022-06-21</th>\n",
       "      <td>0.107086</td>\n",
       "      <td>-1.869701</td>\n",
       "      <td>-1.478948</td>\n",
       "      <td>-0.230958</td>\n",
       "      <td>13</td>\n",
       "      <td>0.000000</td>\n",
       "    </tr>\n",
       "    <tr>\n",
       "      <th>2022-06-22</th>\n",
       "      <td>0.644756</td>\n",
       "      <td>-0.927166</td>\n",
       "      <td>-2.401900</td>\n",
       "      <td>0.737268</td>\n",
       "      <td>14</td>\n",
       "      <td>0.000000</td>\n",
       "    </tr>\n",
       "  </tbody>\n",
       "</table>\n",
       "</div>"
      ],
      "text/plain": [
       "                      A         B         C         D   F            G\n",
       "2022-06-19     0.951469  0.509845 -0.462546 -1.213506  11  3141.592654\n",
       "2022-06-20  3141.592654  1.077854  1.328994  0.963205  12     0.000000\n",
       "2022-06-21     0.107086 -1.869701 -1.478948 -0.230958  13     0.000000\n",
       "2022-06-22     0.644756 -0.927166 -2.401900  0.737268  14     0.000000"
      ]
     },
     "execution_count": 87,
     "metadata": {},
     "output_type": "execute_result"
    }
   ],
   "source": [
    "# fill missing data\n",
    "df133 = df13.copy()\n",
    "df133.fillna(np.pi*1000)"
   ]
  },
  {
   "cell_type": "markdown",
   "id": "02b122a0-2725-4c11-8638-115d920c709f",
   "metadata": {},
   "source": [
    "# Align and Join"
   ]
  },
  {
   "cell_type": "markdown",
   "id": "bc0b44c3-5d5a-4ca5-9855-9359ca2e5ae8",
   "metadata": {},
   "source": [
    "There needs to be a bigger notebook for this topic.\n",
    "You need to know there's \"joins\" in Pandas just like in the SQL world, \n",
    "like join and left join and right join and inner and outer and all that...\n",
    "Here we'll explore these in the context of the align function - 'aligning' the indexes of two dataframes.\n",
    "Later we'll see these again in the context of _merging_ two data frames."
   ]
  },
  {
   "cell_type": "markdown",
   "id": "523d32e3-1b3f-46d5-b3a3-3235b21812db",
   "metadata": {},
   "source": [
    "## Create two datasets with _mismatched_ indexes"
   ]
  },
  {
   "cell_type": "code",
   "execution_count": 88,
   "id": "8e6ac250-0224-41b3-a34e-01388e77b07b",
   "metadata": {},
   "outputs": [],
   "source": [
    "# date range indexes\n",
    "idx1 = pd.date_range('2022-01-01',periods = 10)\n",
    "# 2022-01-01', '2022-01-02' don't exist in idx2\n",
    "# '2022-01-11', '2022-01-12' don't exist in idx1\n",
    "idx2 = pd.date_range('2022-01-03',periods = 10)"
   ]
  },
  {
   "cell_type": "code",
   "execution_count": 89,
   "id": "ef00359f-29a5-4081-9ffd-1e633f97742e",
   "metadata": {},
   "outputs": [],
   "source": [
    "# dataframes from indexes\n",
    "d1 = pd.DataFrame(index = idx1, data = \n",
    "    {\n",
    "        'A': np.random.rand(10),\n",
    "        'B': np.random.randint(1, high=25, size = 10)\n",
    "    }\n",
    ")\n",
    "\n",
    "d2 = pd.DataFrame(index = idx2, data = \n",
    "    {\n",
    "        'A': np.random.rand(10),\n",
    "        'B': np.random.randint(1, high=25, size = 10)\n",
    "    }\n",
    ")"
   ]
  },
  {
   "cell_type": "markdown",
   "id": "7b8ea4b7-792b-417c-98e4-fb9b5bd3d48e",
   "metadata": {},
   "source": [
    "## Quick Aside: Rendering two dataframes side-by-side"
   ]
  },
  {
   "cell_type": "markdown",
   "id": "b5e36806-9453-4a68-8792-15ff6cf033d6",
   "metadata": {},
   "source": [
    "The trick of rendering 2 dataframes side-by-side was from [this](https://stackoverflow.com/questions/38783027/jupyter-notebook-display-two-pandas-tables-side-by-side) stackoverflow question."
   ]
  },
  {
   "cell_type": "code",
   "execution_count": 90,
   "id": "16000250-c2aa-489b-984d-0e06478b4d12",
   "metadata": {},
   "outputs": [],
   "source": [
    "# we gon need to display both data frames side by side, so...\n",
    "from IPython.display import display_html \n",
    "def render_df_side_by_side(a, b, a_title = \"\", b_title = \"\"):\n",
    "    a_styler = a.style.set_table_attributes(\"style='display:inline'\").set_caption(a_title)\n",
    "    b_styler = b.style.set_table_attributes(\"style='display:inline'\").set_caption(b_title)\n",
    "    display_html(a_styler._repr_html_()+b_styler._repr_html_(), raw=True)"
   ]
  },
  {
   "cell_type": "code",
   "execution_count": 91,
   "id": "34aa801d-cebf-43b6-b7b2-754bd6f97cb7",
   "metadata": {},
   "outputs": [
    {
     "data": {
      "text/html": [
       "<style type=\"text/css\">\n",
       "</style>\n",
       "<table id=\"T_c86cf\" style='display:inline'>\n",
       "  <thead>\n",
       "    <tr>\n",
       "      <th class=\"blank level0\" >&nbsp;</th>\n",
       "      <th id=\"T_c86cf_level0_col0\" class=\"col_heading level0 col0\" >A</th>\n",
       "      <th id=\"T_c86cf_level0_col1\" class=\"col_heading level0 col1\" >B</th>\n",
       "    </tr>\n",
       "  </thead>\n",
       "  <tbody>\n",
       "    <tr>\n",
       "      <th id=\"T_c86cf_level0_row0\" class=\"row_heading level0 row0\" >2022-01-01 00:00:00</th>\n",
       "      <td id=\"T_c86cf_row0_col0\" class=\"data row0 col0\" >0.962470</td>\n",
       "      <td id=\"T_c86cf_row0_col1\" class=\"data row0 col1\" >3</td>\n",
       "    </tr>\n",
       "    <tr>\n",
       "      <th id=\"T_c86cf_level0_row1\" class=\"row_heading level0 row1\" >2022-01-02 00:00:00</th>\n",
       "      <td id=\"T_c86cf_row1_col0\" class=\"data row1 col0\" >0.398679</td>\n",
       "      <td id=\"T_c86cf_row1_col1\" class=\"data row1 col1\" >18</td>\n",
       "    </tr>\n",
       "    <tr>\n",
       "      <th id=\"T_c86cf_level0_row2\" class=\"row_heading level0 row2\" >2022-01-03 00:00:00</th>\n",
       "      <td id=\"T_c86cf_row2_col0\" class=\"data row2 col0\" >0.559279</td>\n",
       "      <td id=\"T_c86cf_row2_col1\" class=\"data row2 col1\" >19</td>\n",
       "    </tr>\n",
       "    <tr>\n",
       "      <th id=\"T_c86cf_level0_row3\" class=\"row_heading level0 row3\" >2022-01-04 00:00:00</th>\n",
       "      <td id=\"T_c86cf_row3_col0\" class=\"data row3 col0\" >0.373105</td>\n",
       "      <td id=\"T_c86cf_row3_col1\" class=\"data row3 col1\" >15</td>\n",
       "    </tr>\n",
       "    <tr>\n",
       "      <th id=\"T_c86cf_level0_row4\" class=\"row_heading level0 row4\" >2022-01-05 00:00:00</th>\n",
       "      <td id=\"T_c86cf_row4_col0\" class=\"data row4 col0\" >0.125091</td>\n",
       "      <td id=\"T_c86cf_row4_col1\" class=\"data row4 col1\" >3</td>\n",
       "    </tr>\n",
       "    <tr>\n",
       "      <th id=\"T_c86cf_level0_row5\" class=\"row_heading level0 row5\" >2022-01-06 00:00:00</th>\n",
       "      <td id=\"T_c86cf_row5_col0\" class=\"data row5 col0\" >0.518255</td>\n",
       "      <td id=\"T_c86cf_row5_col1\" class=\"data row5 col1\" >12</td>\n",
       "    </tr>\n",
       "    <tr>\n",
       "      <th id=\"T_c86cf_level0_row6\" class=\"row_heading level0 row6\" >2022-01-07 00:00:00</th>\n",
       "      <td id=\"T_c86cf_row6_col0\" class=\"data row6 col0\" >0.544124</td>\n",
       "      <td id=\"T_c86cf_row6_col1\" class=\"data row6 col1\" >5</td>\n",
       "    </tr>\n",
       "    <tr>\n",
       "      <th id=\"T_c86cf_level0_row7\" class=\"row_heading level0 row7\" >2022-01-08 00:00:00</th>\n",
       "      <td id=\"T_c86cf_row7_col0\" class=\"data row7 col0\" >0.350458</td>\n",
       "      <td id=\"T_c86cf_row7_col1\" class=\"data row7 col1\" >23</td>\n",
       "    </tr>\n",
       "    <tr>\n",
       "      <th id=\"T_c86cf_level0_row8\" class=\"row_heading level0 row8\" >2022-01-09 00:00:00</th>\n",
       "      <td id=\"T_c86cf_row8_col0\" class=\"data row8 col0\" >0.394983</td>\n",
       "      <td id=\"T_c86cf_row8_col1\" class=\"data row8 col1\" >19</td>\n",
       "    </tr>\n",
       "    <tr>\n",
       "      <th id=\"T_c86cf_level0_row9\" class=\"row_heading level0 row9\" >2022-01-10 00:00:00</th>\n",
       "      <td id=\"T_c86cf_row9_col0\" class=\"data row9 col0\" >0.848783</td>\n",
       "      <td id=\"T_c86cf_row9_col1\" class=\"data row9 col1\" >4</td>\n",
       "    </tr>\n",
       "  </tbody>\n",
       "</table>\n",
       "<style type=\"text/css\">\n",
       "</style>\n",
       "<table id=\"T_93530\" style='display:inline'>\n",
       "  <thead>\n",
       "    <tr>\n",
       "      <th class=\"blank level0\" >&nbsp;</th>\n",
       "      <th id=\"T_93530_level0_col0\" class=\"col_heading level0 col0\" >A</th>\n",
       "      <th id=\"T_93530_level0_col1\" class=\"col_heading level0 col1\" >B</th>\n",
       "    </tr>\n",
       "  </thead>\n",
       "  <tbody>\n",
       "    <tr>\n",
       "      <th id=\"T_93530_level0_row0\" class=\"row_heading level0 row0\" >2022-01-03 00:00:00</th>\n",
       "      <td id=\"T_93530_row0_col0\" class=\"data row0 col0\" >0.264750</td>\n",
       "      <td id=\"T_93530_row0_col1\" class=\"data row0 col1\" >14</td>\n",
       "    </tr>\n",
       "    <tr>\n",
       "      <th id=\"T_93530_level0_row1\" class=\"row_heading level0 row1\" >2022-01-04 00:00:00</th>\n",
       "      <td id=\"T_93530_row1_col0\" class=\"data row1 col0\" >0.616892</td>\n",
       "      <td id=\"T_93530_row1_col1\" class=\"data row1 col1\" >9</td>\n",
       "    </tr>\n",
       "    <tr>\n",
       "      <th id=\"T_93530_level0_row2\" class=\"row_heading level0 row2\" >2022-01-05 00:00:00</th>\n",
       "      <td id=\"T_93530_row2_col0\" class=\"data row2 col0\" >0.179158</td>\n",
       "      <td id=\"T_93530_row2_col1\" class=\"data row2 col1\" >10</td>\n",
       "    </tr>\n",
       "    <tr>\n",
       "      <th id=\"T_93530_level0_row3\" class=\"row_heading level0 row3\" >2022-01-06 00:00:00</th>\n",
       "      <td id=\"T_93530_row3_col0\" class=\"data row3 col0\" >0.837396</td>\n",
       "      <td id=\"T_93530_row3_col1\" class=\"data row3 col1\" >20</td>\n",
       "    </tr>\n",
       "    <tr>\n",
       "      <th id=\"T_93530_level0_row4\" class=\"row_heading level0 row4\" >2022-01-07 00:00:00</th>\n",
       "      <td id=\"T_93530_row4_col0\" class=\"data row4 col0\" >0.237599</td>\n",
       "      <td id=\"T_93530_row4_col1\" class=\"data row4 col1\" >7</td>\n",
       "    </tr>\n",
       "    <tr>\n",
       "      <th id=\"T_93530_level0_row5\" class=\"row_heading level0 row5\" >2022-01-08 00:00:00</th>\n",
       "      <td id=\"T_93530_row5_col0\" class=\"data row5 col0\" >0.975567</td>\n",
       "      <td id=\"T_93530_row5_col1\" class=\"data row5 col1\" >2</td>\n",
       "    </tr>\n",
       "    <tr>\n",
       "      <th id=\"T_93530_level0_row6\" class=\"row_heading level0 row6\" >2022-01-09 00:00:00</th>\n",
       "      <td id=\"T_93530_row6_col0\" class=\"data row6 col0\" >0.184468</td>\n",
       "      <td id=\"T_93530_row6_col1\" class=\"data row6 col1\" >13</td>\n",
       "    </tr>\n",
       "    <tr>\n",
       "      <th id=\"T_93530_level0_row7\" class=\"row_heading level0 row7\" >2022-01-10 00:00:00</th>\n",
       "      <td id=\"T_93530_row7_col0\" class=\"data row7 col0\" >0.584673</td>\n",
       "      <td id=\"T_93530_row7_col1\" class=\"data row7 col1\" >4</td>\n",
       "    </tr>\n",
       "    <tr>\n",
       "      <th id=\"T_93530_level0_row8\" class=\"row_heading level0 row8\" >2022-01-11 00:00:00</th>\n",
       "      <td id=\"T_93530_row8_col0\" class=\"data row8 col0\" >0.203321</td>\n",
       "      <td id=\"T_93530_row8_col1\" class=\"data row8 col1\" >17</td>\n",
       "    </tr>\n",
       "    <tr>\n",
       "      <th id=\"T_93530_level0_row9\" class=\"row_heading level0 row9\" >2022-01-12 00:00:00</th>\n",
       "      <td id=\"T_93530_row9_col0\" class=\"data row9 col0\" >0.879404</td>\n",
       "      <td id=\"T_93530_row9_col1\" class=\"data row9 col1\" >9</td>\n",
       "    </tr>\n",
       "  </tbody>\n",
       "</table>\n"
      ]
     },
     "metadata": {},
     "output_type": "display_data"
    }
   ],
   "source": [
    "render_df_side_by_side(d1,d2)"
   ]
  },
  {
   "cell_type": "markdown",
   "id": "7a5a02f7-b938-46e9-8860-33ddc990cd73",
   "metadata": {},
   "source": [
    "Table rendering/styling options is [a bigger discussion](https://pandas.pydata.org/pandas-docs/stable/user_guide/style.html#) to be tackled later."
   ]
  },
  {
   "cell_type": "markdown",
   "id": "f7009112-f78a-4921-9fd6-a2cdf19bcf1c",
   "metadata": {},
   "source": [
    "## .add, .sub, .mul, .div etc."
   ]
  },
  {
   "cell_type": "markdown",
   "id": "f12393ed-5dd0-4286-a15b-998e8aedf4bd",
   "metadata": {},
   "source": [
    "flexible wrappers (```add, sub, mul, div, mod, pow```) to arithmetic operators: ```+, -, *, /, //, %, **```"
   ]
  },
  {
   "cell_type": "code",
   "execution_count": 92,
   "id": "a72e3ba3-7d1c-421b-be2c-74d29e132da3",
   "metadata": {},
   "outputs": [],
   "source": [
    "# the +, -, *, /, //, %, ** operations align indexes to create a UNION of indexes\n",
    "d3 = d1+d2\n",
    "d4 = d1.sub(d2) #equivalent to d1-d2\n",
    "d5 = d1*d2\n",
    "d6 = d1.div(d2)"
   ]
  },
  {
   "cell_type": "code",
   "execution_count": 93,
   "id": "8c169cc6-08cc-408f-a390-64d5a120405c",
   "metadata": {},
   "outputs": [
    {
     "ename": "TypeError",
     "evalue": "Styler.highlight_null() got an unexpected keyword argument 'null_color'",
     "output_type": "error",
     "traceback": [
      "\u001b[1;31m---------------------------------------------------------------------------\u001b[0m",
      "\u001b[1;31mTypeError\u001b[0m                                 Traceback (most recent call last)",
      "Cell \u001b[1;32mIn[93], line 2\u001b[0m\n\u001b[0;32m      1\u001b[0m \u001b[38;5;66;03m# indexs not present in the other dataframe get a NaN\u001b[39;00m\n\u001b[1;32m----> 2\u001b[0m \u001b[43md3\u001b[49m\u001b[38;5;241;43m.\u001b[39;49m\u001b[43mstyle\u001b[49m\u001b[38;5;241;43m.\u001b[39;49m\u001b[43mhighlight_null\u001b[49m\u001b[43m(\u001b[49m\u001b[43mnull_color\u001b[49m\u001b[38;5;241;43m=\u001b[39;49m\u001b[38;5;124;43m'\u001b[39;49m\u001b[38;5;124;43mred\u001b[39;49m\u001b[38;5;124;43m'\u001b[39;49m\u001b[43m)\u001b[49m\n",
      "\u001b[1;31mTypeError\u001b[0m: Styler.highlight_null() got an unexpected keyword argument 'null_color'"
     ]
    }
   ],
   "source": [
    "# indexs not present in the other dataframe get a NaN\n",
    "d3.style.highlight_null(null_color='red')"
   ]
  },
  {
   "cell_type": "code",
   "execution_count": null,
   "id": "41750862-1d54-44b0-9e68-b419fb5495ea",
   "metadata": {},
   "outputs": [],
   "source": [
    "# sub\n",
    "d4.style.highlight_null(null_color='red')"
   ]
  },
  {
   "cell_type": "code",
   "execution_count": null,
   "id": "8fe56f80-ca02-4e38-a7e5-a25d2c569b80",
   "metadata": {},
   "outputs": [],
   "source": [
    "# mul\n",
    "d5.style.highlight_null(null_color='red')"
   ]
  },
  {
   "cell_type": "code",
   "execution_count": null,
   "id": "cabd2467-3fee-48c0-ba30-a11c27b846bb",
   "metadata": {},
   "outputs": [],
   "source": [
    "# div\n",
    "d6.style.highlight_null(null_color='red')"
   ]
  },
  {
   "cell_type": "markdown",
   "id": "ed206a3a-767b-44b4-9afa-4036caeb4def",
   "metadata": {},
   "source": [
    "### removing the NaN values from the resultant dataframe"
   ]
  },
  {
   "cell_type": "code",
   "execution_count": null,
   "id": "4bc608e5-74ff-4c65-8a75-ce5b78ad63f5",
   "metadata": {},
   "outputs": [],
   "source": [
    "# the + operation is UNION of indexes\n",
    "d31 = d1+d2\n",
    "# indexs not present in the other dataframe get a NaN\n",
    "# do you can obvs remove nan values like before\n",
    "d3.dropna().style.highlight_null(null_color='red')"
   ]
  },
  {
   "cell_type": "markdown",
   "id": "5c972727-30b2-4547-8a3a-16de4943f0a3",
   "metadata": {},
   "source": [
    "## df.align()"
   ]
  },
  {
   "cell_type": "markdown",
   "id": "1b735710-78ac-4775-a9ba-0fbf58f93bbb",
   "metadata": {},
   "source": [
    "Pandas [align](https://pandas.pydata.org/docs/reference/api/pandas.DataFrame.align.html) works to join the dataframes in interesting ways."
   ]
  },
  {
   "cell_type": "code",
   "execution_count": null,
   "id": "a9fec5b9-5d5f-4acc-b025-ca2c3edde050",
   "metadata": {},
   "outputs": [],
   "source": [
    "# align returns two dataframes - left and right as a result of a join\n",
    "# default join is outer - the union of indices will be used as index for left and right\n",
    "left, right = d1.align(d2, join='outer')\n",
    "render_df_side_by_side(left, right)"
   ]
  },
  {
   "cell_type": "code",
   "execution_count": null,
   "id": "0a40d056-d8c3-4551-8f5c-fe5695c7e4e9",
   "metadata": {},
   "outputs": [],
   "source": [
    "# inner join\n",
    "left, right = d1.align(d2, join='inner')\n",
    "render_df_side_by_side(d1,d2)"
   ]
  },
  {
   "cell_type": "code",
   "execution_count": null,
   "id": "c07d6574-1b8e-46ae-8874-311353afbf58",
   "metadata": {},
   "outputs": [],
   "source": [
    "# we can fill the NaNs with a certain value if needed\n",
    "# let's fill with -100 so we can see it clearly\n",
    "left, right = d1.align(d2, join='outer', fill_value = -100) \n",
    "render_df_side_by_side(left, right)"
   ]
  },
  {
   "cell_type": "code",
   "execution_count": null,
   "id": "cb0c4125-7e80-40a7-ba33-a4426ef244e1",
   "metadata": {},
   "outputs": [],
   "source": [
    "# left join: left index is added to right, but not the other way\n",
    "left, right = d1.align(d2, join='left') \n",
    "render_df_side_by_side(left, right)"
   ]
  },
  {
   "cell_type": "code",
   "execution_count": null,
   "id": "f125d875-2601-4768-bf67-3d0e2c6a6fc0",
   "metadata": {},
   "outputs": [],
   "source": [
    "# right join: right index is added to left, but not the other way\n",
    "left, right = d1.align(d2, join='right') \n",
    "render_df_side_by_side(left, right)"
   ]
  },
  {
   "cell_type": "markdown",
   "id": "f52b9ed1-99e4-4f4b-85e2-ebfa53510a4b",
   "metadata": {},
   "source": [
    "There's more to explore in align, and it can get confusing, so beginners be careful, take time and try to work out the result before you execute to build intuition."
   ]
  },
  {
   "cell_type": "markdown",
   "id": "07f05320",
   "metadata": {},
   "source": [
    "# Operations on data"
   ]
  },
  {
   "cell_type": "markdown",
   "id": "4d63e7dc",
   "metadata": {},
   "source": [
    "## Stats\n",
    "\n",
    "Operations in general *exclude* missing data"
   ]
  },
  {
   "cell_type": "code",
   "execution_count": null,
   "id": "03b17c8c",
   "metadata": {},
   "outputs": [],
   "source": [
    "# arithmetic mean, for each column (axis = 0)\n",
    "df.mean()"
   ]
  },
  {
   "cell_type": "code",
   "execution_count": null,
   "id": "3f018050",
   "metadata": {},
   "outputs": [],
   "source": [
    "# mean across a row (axis = 1)\n",
    "df.mean(1)"
   ]
  },
  {
   "cell_type": "markdown",
   "id": "3888f390-b994-48a9-b96c-ea53c3dd42b8",
   "metadata": {},
   "source": [
    "## Apply"
   ]
  },
  {
   "cell_type": "code",
   "execution_count": null,
   "id": "2d647d7f-8935-416e-a4a2-b886d4c0c6eb",
   "metadata": {},
   "outputs": [],
   "source": [
    "# apply custom lambdas\n",
    "df.apply(lambda x: x.max()-x.min())"
   ]
  },
  {
   "cell_type": "code",
   "execution_count": null,
   "id": "893f7a11-f0f8-4448-8fcb-e8d93f1e3902",
   "metadata": {},
   "outputs": [],
   "source": [
    "df"
   ]
  },
  {
   "cell_type": "code",
   "execution_count": null,
   "id": "b85e3a1d-6c60-4c2f-a048-7e62d9dc8725",
   "metadata": {},
   "outputs": [],
   "source": [
    "# each subsequent value is a sum of all values before it in the respective column\n",
    "cumsum_df = df.apply(np.cumsum)\n",
    "render_df_side_by_side(df, cumsum_df, \"OG Dataframe\", \"Cumulative Sum\")"
   ]
  },
  {
   "cell_type": "markdown",
   "id": "d0ed5a3d-c547-4a00-b2dd-c3662c287076",
   "metadata": {},
   "source": [
    "## Histogramming\n",
    "\n",
    "Frequencies, 'nuff said\n",
    "\n",
    "```value_counts()```"
   ]
  },
  {
   "cell_type": "code",
   "execution_count": null,
   "id": "8cc8b7c2-d286-48c5-a7aa-d386332a87d6",
   "metadata": {},
   "outputs": [],
   "source": [
    "series1 = pd.Series(np.random.randint(0,5, size = 25))\n",
    "series1.value_counts()"
   ]
  },
  {
   "cell_type": "markdown",
   "id": "6b108c7e-f34a-4b00-81e0-a3364ba45011",
   "metadata": {},
   "source": [
    "## String Methods"
   ]
  },
  {
   "cell_type": "code",
   "execution_count": null,
   "id": "9828a43e-d298-4c0f-9a7a-9d46064d1831",
   "metadata": {},
   "outputs": [],
   "source": [
    "# build a series\n",
    "some_string = \"SERIes and Index are EqUIppeD WITh A seT Of stRINg PROCESSING METHoDs In tHe ```sTR``` attrIBute THAT MakE IT eASy To oPerATE ON EACh ELEmeNt OF The aRrAY. NOtE thAt PAtTERN-maTching in ```sTR``` gENeralLY UsES reGUlAr eXpreSsiONs bY DEfault (aND In Some cases AlwayS uSEs tHeM).\"\n",
    "str_series = pd.Series(some_string.split()) # split splits on whitespace by default"
   ]
  },
  {
   "cell_type": "code",
   "execution_count": null,
   "id": "4aabc0c5-4a47-4e54-beca-85320cb560b8",
   "metadata": {},
   "outputs": [],
   "source": [
    "# manipulating the case - lower, upper etc.\n",
    "# also the length of each string, split, replace, yada yada...\n",
    "# very important when cleaning data (column names may have stupid whitespace, bad case, spacing etc.)\n",
    "low = str_series.str.lower()\n",
    "up = str_series.str.upper()\n",
    "\n",
    "low_up_df = pd.DataFrame(\n",
    "    {\n",
    "        'og': str_series,\n",
    "        'length': str_series.str.len(),\n",
    "        'low': low,\n",
    "        'up': up,\n",
    "        'split_low_on_i': low.str.split('i', expand = False), # expand = True will break this usecase, try elsewhere\n",
    "        'replace_a_with_star_in_low': low.str.replace('a','*', case=False, regex=True) # yeah, you can mess with regular expns\n",
    "    })\n",
    "\n",
    "low_up_df.tail(10)"
   ]
  },
  {
   "cell_type": "markdown",
   "id": "22d4cc53-f193-4ab0-b7c6-4145e8cece93",
   "metadata": {},
   "source": [
    "See [here](https://pandas.pydata.org/pandas-docs/stable/user_guide/text.html#text-string-methods) for more string operations."
   ]
  },
  {
   "cell_type": "markdown",
   "id": "b0f4150c-f198-4811-9e09-3c29d39d289b",
   "metadata": {},
   "source": [
    "# Merge\n",
    "\n",
    "Combine series and dataframes, use set logic for indexes and relational algebra for joins/merges"
   ]
  },
  {
   "cell_type": "markdown",
   "id": "e2817c7f-ebca-40ca-96cb-31a07e573efc",
   "metadata": {},
   "source": [
    "## Concat\n",
    "\n",
    "Chill, we've done this before. The same join = inner/outer/left/right drill. "
   ]
  },
  {
   "cell_type": "code",
   "execution_count": null,
   "id": "436dff92-e0f8-4bc4-ae3f-02c5df72bcc6",
   "metadata": {},
   "outputs": [],
   "source": [
    "# let's make some more dataframes\n",
    "concatDF = pd.DataFrame(np.random.randn(10,4)) # 10 rows and 4 columns of random numbers\n",
    "pieces = [concatDF[:3], concatDF[3:7], concatDF[7:]]\n",
    "reconstructedDF = pd.concat(pieces)\n",
    "display('broken DFs: ',pieces)\n",
    "render_df_side_by_side(concatDF, reconstructedDF, \"OG\", \"Concatenated\")"
   ]
  },
  {
   "cell_type": "markdown",
   "id": "e0d13628-c4f0-414c-9c5e-a52e32a5f0af",
   "metadata": {},
   "source": [
    "_From the [page](https://pandas.pydata.org/pandas-docs/stable/user_guide/10min.html#concat)_:\n",
    "Adding a column to a DataFrame is relatively fast. However, adding a row requires a copy, and may be expensive. We recommend passing a pre-built list of records to the DataFrame constructor instead of building a DataFrame by iteratively appending records to it."
   ]
  },
  {
   "cell_type": "markdown",
   "id": "fa827337-7c18-459b-b84e-c9277f8340a2",
   "metadata": {},
   "source": [
    "## Join\n",
    "SQL style merges. "
   ]
  },
  {
   "cell_type": "code",
   "execution_count": null,
   "id": "4e41561b-74f3-495f-bc0c-ad267e84abef",
   "metadata": {},
   "outputs": [],
   "source": [
    "# two data frames\n",
    "sl = pd.Series(np.random.randint(10, size=6))\n",
    "sr = sl.shift(2).fillna(0).astype(int)\n",
    "left = pd.DataFrame(\n",
    "    {\n",
    "        'key': list('ABCDEF'),\n",
    "        'lval': sl\n",
    "    }\n",
    ")\n",
    "\n",
    "right = pd.DataFrame(\n",
    "    {\n",
    "        'key': list('ABBCDE'),\n",
    "        'rval': sr\n",
    "    }\n",
    ")"
   ]
  },
  {
   "cell_type": "code",
   "execution_count": null,
   "id": "4fbbc991-2e9a-4265-b1b4-7de2084d4f9c",
   "metadata": {},
   "outputs": [],
   "source": [
    "render_df_side_by_side(left, right, 'left', 'right')"
   ]
  },
  {
   "cell_type": "code",
   "execution_count": null,
   "id": "2e38650d-b762-481a-a252-165c65fe75e9",
   "metadata": {},
   "outputs": [],
   "source": [
    "result = pd.merge(left, right, on='key')\n",
    "result"
   ]
  },
  {
   "cell_type": "markdown",
   "id": "32e2f676-5bb3-405a-9a27-d534a58b26a1",
   "metadata": {},
   "source": [
    "# Grouping"
   ]
  },
  {
   "cell_type": "markdown",
   "id": "49ab1756-7b19-425e-8044-77c1b613e2d2",
   "metadata": {},
   "source": [
    "\"Group By\" really means one or more of the following happening:\n",
    "1. **Split**: data is broken into groups based on some criteria\n",
    "2. **Apply**: a data operation is executed on each of those groups\n",
    "3. **Combine**: the results are combined back into a data structure"
   ]
  },
  {
   "cell_type": "code",
   "execution_count": null,
   "id": "898efdc9-0ea1-4310-b7da-b3db4ba7d12e",
   "metadata": {},
   "outputs": [],
   "source": [
    "grp_df = pd.DataFrame(\n",
    "    {\n",
    "        'colA': list('AABCAABDAA'),\n",
    "        'colB': list('1234567890'),\n",
    "        'colC': np.random.randn(10),\n",
    "        'colD': np.random.randn(10)\n",
    "    }\n",
    ")\n",
    "grp_df"
   ]
  },
  {
   "cell_type": "code",
   "execution_count": null,
   "id": "ec3cf0c2-1127-4a75-8ee7-561495930180",
   "metadata": {},
   "outputs": [],
   "source": [
    "# a DataFrameGroupBy object object\n",
    "grpby = grp_df.groupby('colA')\n",
    "\n",
    "# list all the groups found\n",
    "g = grpby.groups\n",
    "g"
   ]
  },
  {
   "cell_type": "code",
   "execution_count": null,
   "id": "966c0fd8-f882-4d55-bc24-06b066ed2610",
   "metadata": {},
   "outputs": [],
   "source": [
    "# to create a dataframe from the group use something like\n",
    "grpby.get_group('A')"
   ]
  },
  {
   "cell_type": "markdown",
   "id": "97e46415-52a8-4c2d-a1cd-f0128b3eccf4",
   "metadata": {},
   "source": [
    "### Find all the groups"
   ]
  },
  {
   "cell_type": "code",
   "execution_count": null,
   "id": "46a92f57-ff5e-44dd-b073-723c8310c882",
   "metadata": {
    "tags": []
   },
   "outputs": [],
   "source": [
    "# but we may not know all the groups in the dataframe.\n",
    "# so got to find a way to list all groups as dataframes.\n",
    "# \n",
    "# some basic python helps create a list of groupby names\n",
    "grpby_labels_list = [*g.keys()] # using the unpacking operator *\n",
    "# alternatively\n",
    "# grpby_labels_list = list(g.keys())\n",
    "grpby_labels_list"
   ]
  },
  {
   "cell_type": "code",
   "execution_count": null,
   "id": "adf5da95-690d-4fbc-868a-8b9449a08be4",
   "metadata": {},
   "outputs": [],
   "source": [
    "# create a dict where the group label is the key and the group dataframe is the value\n",
    "grps = {lbl: grpby.get_group(lbl) for lbl in grpby_labels_list}\n",
    "\n",
    "# now use the dict to access individual dataframes created out of the groupby operation\n",
    "grps['B']\n",
    "\n",
    "# question: can we create a dataframe of dataframes?"
   ]
  },
  {
   "cell_type": "code",
   "execution_count": null,
   "id": "a91ffd37-ed36-423f-8628-fd68606865d2",
   "metadata": {},
   "outputs": [],
   "source": [
    "# You can see the datatype of the value is a pandas dataframe\n",
    "type(grps['A'])"
   ]
  },
  {
   "cell_type": "code",
   "execution_count": null,
   "id": "06829a89-e7c4-471a-861d-6573b53a9f26",
   "metadata": {},
   "outputs": [],
   "source": [
    "# make a function of it all...\n",
    "def get_all_groups(df_grpby):\n",
    "    return {lbl: df_grpby.get_group(lbl) for lbl in list(df_grpby.groups.keys())}"
   ]
  },
  {
   "cell_type": "code",
   "execution_count": null,
   "id": "9b4e0533-eed0-4baf-bb0a-8e60a5ccd600",
   "metadata": {},
   "outputs": [],
   "source": [
    "grps = get_all_groups(grp_df.groupby('colA'))\n",
    "grps"
   ]
  },
  {
   "cell_type": "code",
   "execution_count": null,
   "id": "35c709fa-dc97-40b4-96ff-bf517667fd8a",
   "metadata": {},
   "outputs": [],
   "source": [
    "# get a sum of values from each group\n",
    "grp_df.groupby('colA').sum()"
   ]
  },
  {
   "cell_type": "code",
   "execution_count": null,
   "id": "65d91600-d4f0-43d6-911f-979542ef9dc2",
   "metadata": {},
   "outputs": [],
   "source": [
    "# let's add one more column to the dataframe\n",
    "# we can try grouping on two columns\n",
    "grp_df['colE'] = list('1231231231')\n",
    "grp_df"
   ]
  },
  {
   "cell_type": "code",
   "execution_count": null,
   "id": "995da10c-2f43-4a52-87eb-ca83b04aedb4",
   "metadata": {},
   "outputs": [],
   "source": [
    "g2 = grp_df.groupby(['colA','colE'])\n",
    "grps2 = get_all_groups(g2)\n",
    "grps2"
   ]
  },
  {
   "cell_type": "code",
   "execution_count": null,
   "id": "ac07414f-2a8f-4cf4-b735-8ddfffe73562",
   "metadata": {},
   "outputs": [],
   "source": [
    "render_df_side_by_side(grps2[('A','1')], grps2[('A','2')], 'A,1', 'A,2')"
   ]
  },
  {
   "cell_type": "markdown",
   "id": "6b6327b4-f233-4d7b-a383-139310edcf69",
   "metadata": {},
   "source": [
    "# Reshaping\n",
    "\n",
    "Stacking and Pivot Tables.\n",
    "This really warrants more practice, at least go through [the page](https://pandas.pydata.org/pandas-docs/stable/user_guide/reshaping.html#)"
   ]
  },
  {
   "cell_type": "markdown",
   "id": "939a9c86-65ee-4ec8-ab5f-8f8ef19b6fd9",
   "metadata": {},
   "source": [
    "## Stacking"
   ]
  },
  {
   "cell_type": "code",
   "execution_count": null,
   "id": "60ae0949-a510-4392-8268-1b01602de72d",
   "metadata": {},
   "outputs": [],
   "source": [
    "tuples = list(\n",
    "    zip(\n",
    "        *[\n",
    "            [\"bar\", \"bar\", \"baz\", \"baz\", \"foo\", \"foo\", \"qux\", \"qux\"],\n",
    "            [\"one\", \"two\", \"one\", \"two\", \"one\", \"two\", \"one\", \"two\"],\n",
    "        ]\n",
    "    )\n",
    ")"
   ]
  },
  {
   "cell_type": "markdown",
   "id": "08c94cce-46f7-49d7-af63-800838e4680e",
   "metadata": {},
   "source": [
    "If the syntax [*expression](https://docs.python.org/dev/reference/expressions.html#calls) appears in the function call, expression must evaluate to an iterable. Elements from these iterables are treated as if they were additional positional arguments.\n",
    "\n",
    "...although the *expression syntax may appear after explicit keyword arguments, it is processed before the keyword arguments (and any **expression arguments)"
   ]
  },
  {
   "cell_type": "code",
   "execution_count": null,
   "id": "eb508095-4871-4cbd-8777-b2dc534a9df2",
   "metadata": {},
   "outputs": [],
   "source": [
    "# starred expressions...\n",
    "def f(a,b):\n",
    "    print(a, ' ', b)\n",
    "    \n",
    "f (b=1, *(2,)) # works, the tuple (iterable) is expanded, 2 is assigned to a, then b fills the next argument slot\n",
    "# f (a=1, *(2,)) # FAILS, multiple values for argument 'a'"
   ]
  },
  {
   "cell_type": "code",
   "execution_count": null,
   "id": "29efca8b-a8f9-4605-bb88-fccf60a595c6",
   "metadata": {},
   "outputs": [],
   "source": [
    "tuples"
   ]
  },
  {
   "cell_type": "code",
   "execution_count": null,
   "id": "db8d2fc5-684f-4210-8a4c-b8f132b1b915",
   "metadata": {},
   "outputs": [],
   "source": [
    "stack_idx = pd.MultiIndex.from_tuples(tuples, names = ['first', 'second'])"
   ]
  },
  {
   "cell_type": "code",
   "execution_count": null,
   "id": "8bd74b5c-6239-4574-8ef1-b7847d5df8a2",
   "metadata": {},
   "outputs": [],
   "source": [
    "stack_df = pd.DataFrame(np.random.randn(8,2), index = stack_idx, columns = ['a','b'])\n",
    "stack_df"
   ]
  },
  {
   "cell_type": "code",
   "execution_count": null,
   "id": "e9dc7eda-5d15-4939-bca5-10998a57d1dd",
   "metadata": {},
   "outputs": [],
   "source": [
    "# stack really just combines the columns\n",
    "stacked = stack_df.stack()\n",
    "stacked"
   ]
  },
  {
   "cell_type": "code",
   "execution_count": null,
   "id": "26403ce2-dac4-4688-b6ea-254ae49785c7",
   "metadata": {},
   "outputs": [],
   "source": [
    "# unstacked brings back the two columns\n",
    "# by default unstacks the last level\n",
    "unstacked = stacked.unstack()\n",
    "unstacked"
   ]
  },
  {
   "cell_type": "code",
   "execution_count": null,
   "id": "4a219179-a6f9-41e1-8be7-4e5812a0f44b",
   "metadata": {},
   "outputs": [],
   "source": [
    "stacked.unstack(1)"
   ]
  },
  {
   "cell_type": "code",
   "execution_count": null,
   "id": "062195e0-49a7-4d1d-9749-0e045f772e2c",
   "metadata": {},
   "outputs": [],
   "source": [
    "stacked.unstack(0)"
   ]
  },
  {
   "cell_type": "code",
   "execution_count": null,
   "id": "9c8ea173-47a7-4c4d-b29e-4cca0e117ec7",
   "metadata": {},
   "outputs": [],
   "source": [
    "# you can basically pivot the columns and rows using a combination of stack() and unstack()\n",
    "unstacked.unstack()"
   ]
  },
  {
   "cell_type": "markdown",
   "id": "322e32ba-3a10-4098-896a-4520f2fa1551",
   "metadata": {},
   "source": [
    "## Pivot Tables"
   ]
  },
  {
   "cell_type": "code",
   "execution_count": null,
   "id": "e1662ffb-c3db-4e17-a40c-3e3a9739af3a",
   "metadata": {},
   "outputs": [],
   "source": [
    "# we're now just using data created in the pandas documentation - just cause, time.\n",
    "pivot_tables_df = pd.DataFrame(\n",
    "    {\n",
    "        \"A\": [\"one\", \"one\", \"two\", \"three\"] * 3,\n",
    "        \"B\": [\"A\", \"B\", \"C\"] * 4,\n",
    "        \"C\": [\"foo\", \"foo\", \"foo\", \"bar\", \"bar\", \"bar\"] * 2,\n",
    "        \"D\": np.random.randn(12),\n",
    "        \"E\": np.random.randn(12),\n",
    "    }\n",
    ")\n",
    "pivot_tables_df"
   ]
  },
  {
   "cell_type": "code",
   "execution_count": null,
   "id": "01127d4c-2c2e-4b97-a1b9-e743e2fe918a",
   "metadata": {},
   "outputs": [],
   "source": [
    "# simple pivot tables - data, values to aggregate, index, columns to pivot along\n",
    "pd.pivot_table(pivot_tables_df, values = 'D', index = ['A', 'B'], columns = ['C'])"
   ]
  },
  {
   "cell_type": "code",
   "execution_count": null,
   "id": "5238e3a4-ecaa-48b6-83a6-77537e52fb0c",
   "metadata": {},
   "outputs": [],
   "source": [
    "# more'n one columns of values\n",
    "# mark all NaN as zero (0)\n",
    "pd.pivot_table(pivot_tables_df, values = ['D', 'E'], index = ['A', 'B'], columns = ['C']).fillna(0)"
   ]
  },
  {
   "cell_type": "markdown",
   "id": "219f2a75-08bc-4982-ad53-22da308a6c0d",
   "metadata": {},
   "source": [
    "# Time Series"
   ]
  },
  {
   "cell_type": "markdown",
   "id": "82ecb6ce-c63b-4067-9172-8672e4a6e4f0",
   "metadata": {},
   "source": [
    "## Resample\n",
    "We may need to resample data to a different time-frequency. \n",
    "Like get data every second and resample to data every 5 minutes and so on..."
   ]
  },
  {
   "cell_type": "code",
   "execution_count": null,
   "id": "0fe8256f-b39f-4c06-9f4c-feb0b41c4ea4",
   "metadata": {},
   "outputs": [],
   "source": [
    "rng = pd.date_range('01/01/2022', periods = 1000, freq = 'S')"
   ]
  },
  {
   "cell_type": "code",
   "execution_count": null,
   "id": "ace24b39-2154-4dab-bdd0-e659eb4a0c85",
   "metadata": {},
   "outputs": [],
   "source": [
    "ts = pd.Series(np.random.randint(0,500, len(rng)), index=rng)"
   ]
  },
  {
   "cell_type": "code",
   "execution_count": null,
   "id": "3e238263-3b4e-4206-bbf2-64b3eff296a1",
   "metadata": {},
   "outputs": [],
   "source": [
    "ts.resample('5min').sum()"
   ]
  },
  {
   "cell_type": "markdown",
   "id": "5b0f867f-1c9f-4481-82e9-a67c97156dbb",
   "metadata": {},
   "source": [
    "read up on [date offset strings](https://pandas.pydata.org/pandas-docs/stable/user_guide/timeseries.html#dateoffset-objects) like '5min' etc."
   ]
  },
  {
   "cell_type": "markdown",
   "id": "56f878bf-3cec-474c-a826-3ae609b88e38",
   "metadata": {},
   "source": [
    "## Timezones"
   ]
  },
  {
   "cell_type": "code",
   "execution_count": null,
   "id": "4e93d223-51da-4edc-831c-2a2e43890532",
   "metadata": {},
   "outputs": [],
   "source": [
    "# timezone representation\n",
    "rng2 = pd.date_range('01/01/2022', periods = 500, freq='D')\n",
    "ts2 = pd.Series(np.random.randint(0,365, len(rng2)), index=rng2)\n",
    "ts2_utc = ts2.tz_localize('UTC')"
   ]
  },
  {
   "cell_type": "code",
   "execution_count": null,
   "id": "83b2e118-aaca-49b6-bdf4-a1cf70702fa9",
   "metadata": {},
   "outputs": [],
   "source": [
    "# convert to US/Eastern\n",
    "ts2_utc.tz_convert('US/Eastern')"
   ]
  },
  {
   "cell_type": "markdown",
   "id": "d980e88b-cc02-4d70-a701-fdd4adf6a1cb",
   "metadata": {},
   "source": [
    "## Time span representations\n",
    "\n",
    "Converting between periods and timestamps.\n",
    "\n",
    "Period is a _timespan_ - span of time between two timestamps."
   ]
  },
  {
   "cell_type": "code",
   "execution_count": null,
   "id": "86714901-348e-4c41-bf33-88b7211035a0",
   "metadata": {},
   "outputs": [],
   "source": [
    "# month - end of each \n",
    "rng3 = pd.date_range('01/01/2022', periods = 12, freq='M')\n",
    "rng3"
   ]
  },
  {
   "cell_type": "code",
   "execution_count": null,
   "id": "336b7101-d0dc-490d-8e8e-48e248faa44d",
   "metadata": {},
   "outputs": [],
   "source": [
    "ts3 = pd.Series(np.random.randn(len(rng3)), index = rng3)\n",
    "ts3"
   ]
  },
  {
   "cell_type": "code",
   "execution_count": null,
   "id": "2331b616-5617-45da-b497-54006474f71b",
   "metadata": {},
   "outputs": [],
   "source": [
    "ps = ts3.to_period()\n",
    "ps"
   ]
  },
  {
   "cell_type": "code",
   "execution_count": null,
   "id": "850e1d1f-a5d9-4b40-9caa-c3cb5b25bea7",
   "metadata": {},
   "outputs": [],
   "source": [
    "ps.to_timestamp()"
   ]
  },
  {
   "cell_type": "markdown",
   "id": "be1a3a66-72f1-406a-997a-c6d330b0dd79",
   "metadata": {},
   "source": [
    "A more complex use-case:\n",
    "convert a _quarterly frequency_ with _year ending in November_ to _9am_ of _the end of the month_ _following_ the _quarter end_"
   ]
  },
  {
   "cell_type": "code",
   "execution_count": null,
   "id": "65c75d83-d483-4cd5-87da-a2597d0d3654",
   "metadata": {},
   "outputs": [],
   "source": [
    "prng = pd.period_range('1990Q1', '2022Q4', freq='Q-NOV')\n",
    "type(prng)"
   ]
  },
  {
   "cell_type": "code",
   "execution_count": null,
   "id": "e558b452-0cac-4f7b-bb95-dc0fc477dd7a",
   "metadata": {},
   "outputs": [],
   "source": [
    "ts4 = pd.Series(np.random.randn(len(prng)), index=prng)\n",
    "ts4.head()"
   ]
  },
  {
   "cell_type": "code",
   "execution_count": null,
   "id": "f3dfc213-33bc-46e1-87c9-1f40d5122371",
   "metadata": {},
   "outputs": [],
   "source": [
    "ts4.index = (prng.asfreq('M', 'e') +1).asfreq('H', 's')+9\n",
    "ts4.head()"
   ]
  },
  {
   "cell_type": "markdown",
   "id": "93cfda67-177c-4a53-9750-0196a6c62706",
   "metadata": {},
   "source": [
    "# Categoricals\n",
    "\n",
    "[This page](https://pandas.pydata.org/pandas-docs/stable/user_guide/categorical.html#categorical).\n",
    "\n",
    "For e.g., gender, social class, blood type, country affiliation, observation time or rating via Likert scales.\n",
    "Categorical data. Categories allow (usually) fixed number of possible values. Categorical data may have some order, but not support numerical operations (for e.g., 'strongly agree', 'agree', 'disagree', 'strongly disagree')."
   ]
  },
  {
   "cell_type": "code",
   "execution_count": null,
   "id": "d3fb44fa-2273-489f-86b0-2ac2a76cff94",
   "metadata": {},
   "outputs": [],
   "source": [
    "cat_df = pd.DataFrame(\n",
    "    {\"id\": list('123456'), \"raw_grade\":list('abbaae')}\n",
    ")\n",
    "cat_df"
   ]
  },
  {
   "cell_type": "code",
   "execution_count": null,
   "id": "460c7707-b726-4f68-a9d3-60166bc48c0a",
   "metadata": {},
   "outputs": [],
   "source": [
    "# convert the raw_grade col to categories\n",
    "cat_df['grade'] = cat_df['raw_grade'].astype('category')\n",
    "cat_df"
   ]
  },
  {
   "cell_type": "code",
   "execution_count": null,
   "id": "e57c35c6-6c7e-44db-a9fc-e68c26b1958b",
   "metadata": {},
   "outputs": [],
   "source": [
    "# list of categories\n",
    "cat_df['grade']"
   ]
  },
  {
   "cell_type": "code",
   "execution_count": null,
   "id": "fdaf1740-d2ea-472e-a875-1140a25d9610",
   "metadata": {},
   "outputs": [],
   "source": [
    "# can give more meaningful names here\n",
    "# direct assignment to Series.cat.categories()\n",
    "cat_df['grade'].cat.categories = ['very good', 'meh', 'very bad']\n",
    "cat_df['grade']"
   ]
  },
  {
   "cell_type": "code",
   "execution_count": null,
   "id": "bf9b1b39-258b-4350-ab21-66e42415f19e",
   "metadata": {},
   "outputs": [],
   "source": [
    "cat_df"
   ]
  },
  {
   "cell_type": "code",
   "execution_count": null,
   "id": "de216545-6070-4104-89f8-fb88e16942d7",
   "metadata": {},
   "outputs": [],
   "source": [
    "# list of categories \n",
    "list(cat_df['grade'].cat.categories)\n",
    "\n",
    "# categorical.CategoricalAccessor encapsulates all changes to categoricals\n",
    "# for e.g., set_categories or remove_categories\n",
    "# dir(cat_df['grade'].cat)"
   ]
  },
  {
   "cell_type": "code",
   "execution_count": null,
   "id": "1aae6f42-89f0-4a26-aadc-8544adbb0503",
   "metadata": {},
   "outputs": [],
   "source": [
    "# add more categories\n",
    "cat_df['grade'] = cat_df['grade'].cat.set_categories([\"very bad\", \"bad\", \"meh\", \"good\", \"very good\"])\n",
    "# new list of categories\n",
    "list(cat_df['grade'].cat.categories)"
   ]
  },
  {
   "cell_type": "code",
   "execution_count": null,
   "id": "a1ae727b-8a19-454c-8bf8-6466a517b906",
   "metadata": {},
   "outputs": [],
   "source": [
    "# now when we can sort the dataframe in order of categories (not lexical)\n",
    "sorted_cat_df = cat_df.sort_values(by='grade')\n",
    "render_df_side_by_side(cat_df, sorted_cat_df, 'OG', 'Sorted')"
   ]
  },
  {
   "cell_type": "code",
   "execution_count": null,
   "id": "b6250aac-8c26-47d9-8e96-5c71c2d9558c",
   "metadata": {},
   "outputs": [],
   "source": [
    "# grouping\n",
    "cat_grp = cat_df.groupby('grade')\n",
    "cat_grp.get_group('very good')"
   ]
  },
  {
   "cell_type": "code",
   "execution_count": null,
   "id": "503507ad-9138-4266-8a18-137a62f1893d",
   "metadata": {},
   "outputs": [],
   "source": [
    "# count elements\n",
    "cat_grp.size()"
   ]
  },
  {
   "cell_type": "markdown",
   "id": "7973d26b-661e-45c5-a012-a1c54a582688",
   "metadata": {},
   "source": []
  },
  {
   "cell_type": "code",
   "execution_count": null,
   "id": "ed7b25d4-b6a8-405e-9d29-d9833494be58",
   "metadata": {},
   "outputs": [],
   "source": []
  },
  {
   "cell_type": "code",
   "execution_count": null,
   "id": "9088bb89-55dd-4fc5-a29c-997ef37fa0b4",
   "metadata": {},
   "outputs": [],
   "source": []
  },
  {
   "cell_type": "code",
   "execution_count": null,
   "id": "305eb8db-582d-418f-a073-2f701b62eaa2",
   "metadata": {},
   "outputs": [],
   "source": []
  },
  {
   "cell_type": "code",
   "execution_count": null,
   "id": "ce7984ac-09ee-4da6-98c4-c50b2d7e37f4",
   "metadata": {},
   "outputs": [],
   "source": []
  }
 ],
 "metadata": {
  "kernelspec": {
   "display_name": "Python 3 (ipykernel)",
   "language": "python",
   "name": "python3"
  },
  "language_info": {
   "codemirror_mode": {
    "name": "ipython",
    "version": 3
   },
   "file_extension": ".py",
   "mimetype": "text/x-python",
   "name": "python",
   "nbconvert_exporter": "python",
   "pygments_lexer": "ipython3",
   "version": "3.10.8"
  },
  "toc-autonumbering": true,
  "toc-showcode": false,
  "toc-showtags": false
 },
 "nbformat": 4,
 "nbformat_minor": 5
}
