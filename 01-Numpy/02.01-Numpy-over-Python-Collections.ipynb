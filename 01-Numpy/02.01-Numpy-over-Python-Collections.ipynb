{
 "cells": [
  {
   "cell_type": "markdown",
   "id": "34276364-937b-4421-b80a-4e506c2cd500",
   "metadata": {
    "editable": true,
    "slideshow": {
     "slide_type": ""
    },
    "tags": []
   },
   "source": [
    "# NumPy vs. Python Collections"
   ]
  },
  {
   "cell_type": "code",
   "execution_count": null,
   "id": "fdd3e99d-d705-45c6-9409-b425d5e67e04",
   "metadata": {},
   "outputs": [],
   "source": []
  },
  {
   "cell_type": "markdown",
   "id": "517569a2-927c-47e9-8656-cbbd1c2aa61a",
   "metadata": {
    "editable": true,
    "slideshow": {
     "slide_type": ""
    },
    "tags": []
   },
   "source": [
    "### <font color='green'>__Support for Google Colab__  </font>  \n",
    "    \n",
    "open this notebook in Colab using the following button:  \n",
    "  \n",
    "<a href=\"https://colab.research.google.com/github/shauryashaurya/learn-data-munging/blob/main/01-Numpy/02.01-Numpy-over-Python-Collections.ipynb\" target=\"_parent\"><img src=\"https://colab.research.google.com/assets/colab-badge.svg\" alt=\"Open In Colab\"/></a>  \n",
    "\n",
    "  \n",
    "<font color='green'>uncomment and execute the cell below to setup and run this notebook on Google Colab.</font>"
   ]
  },
  {
   "cell_type": "code",
   "execution_count": 1,
   "id": "a2c32b19-76d4-48ff-9555-8d091742a368",
   "metadata": {
    "editable": true,
    "slideshow": {
     "slide_type": ""
    },
    "tags": []
   },
   "outputs": [],
   "source": [
    "import time\n",
    "import sys\n",
    "import numpy as np"
   ]
  },
  {
   "cell_type": "code",
   "execution_count": 2,
   "id": "327f86ce-03b3-469d-a703-020c21b2a24a",
   "metadata": {},
   "outputs": [
    {
     "data": {
      "text/plain": [
       "'1.26.0'"
      ]
     },
     "execution_count": 2,
     "metadata": {},
     "output_type": "execute_result"
    }
   ],
   "source": [
    "np.__version__"
   ]
  },
  {
   "cell_type": "code",
   "execution_count": 3,
   "id": "bfd1e750-4aa4-4032-a356-afa416ba01fd",
   "metadata": {},
   "outputs": [
    {
     "name": "stdout",
     "output_type": "stream",
     "text": [
      "Python List Time: 0.26999974250793457\n",
      "NumPy Array Time: 0.006022214889526367\n",
      "Numpy performing 44.83396017261174 times faster than Python Lists\n"
     ]
    }
   ],
   "source": [
    "# NumPy is faster\n",
    "# 1. Contiguous storage\n",
    "# 2. Leverage datatypes\n",
    "\n",
    "# ten million\n",
    "big_number = 10000000\n",
    "\n",
    "# List\n",
    "python_list = list(range(big_number))\n",
    "\n",
    "start_time = time.time()\n",
    "sum_list = sum(python_list)\n",
    "list_time = time.time() - start_time\n",
    "\n",
    "# NumPy Array\n",
    "numpy_array = np.array(range(big_number), dtype=np.int64)\n",
    "\n",
    "start_time_np = time.time()\n",
    "sum_array = np.sum(numpy_array)\n",
    "numpy_time = time.time() - start_time_np\n",
    "\n",
    "print(f\"Python List Time: {list_time}\")\n",
    "print(f\"NumPy Array Time: {numpy_time}\")\n",
    "print(f\"Numpy performing {list_time/numpy_time} times faster than Python Lists\")"
   ]
  },
  {
   "cell_type": "code",
   "execution_count": 4,
   "id": "cda75018-9b40-4525-8586-5f20342d9c4d",
   "metadata": {},
   "outputs": [
    {
     "name": "stdout",
     "output_type": "stream",
     "text": [
      "Python List Operation Time: 0.07199692726135254\n",
      "NumPy Array Operation Time: 0.0010018348693847656\n",
      "Numpy performing 71.86506425511661 times faster than Python Lists\n"
     ]
    }
   ],
   "source": [
    "# one million, two million\n",
    "lst1 = [i for i in range(1000000)]\n",
    "lst2 = [i for i in range(1000000, 2000000)]\n",
    "\n",
    "arr1 = np.array(lst1)\n",
    "arr2 = np.array(lst2)\n",
    "\n",
    "# Python List\n",
    "start_time1 = time.time()\n",
    "result_list = [a + b for a, b in zip(lst1, lst2)]\n",
    "list_time1 = time.time() - start_time1\n",
    "\n",
    "# NumPy Array\n",
    "start_time_np1 = time.time()\n",
    "result_array = arr1 + arr2\n",
    "numpy_time1 = time.time() - start_time_np1\n",
    "\n",
    "print(f\"Python List Operation Time: {list_time1}\")\n",
    "print(f\"NumPy Array Operation Time: {numpy_time1}\")\n",
    "print(f\"Numpy performing {list_time1/numpy_time1} times faster than Python Lists\")"
   ]
  },
  {
   "cell_type": "markdown",
   "id": "e3d65706-31a0-4644-8bfa-fd3c7409c511",
   "metadata": {},
   "source": [
    "NumPy promotes the types to the smallest size and smallest scalar kind that fits all the elements.\n",
    "This type promotion can be counter intuitive sometimes.\n",
    "See: \n",
    "* [Type Casting Rules](https://numpy.org/doc/stable/user/basics.ufuncs.html#type-casting-rules)\n",
    "* [```numpy.result_type```](https://numpy.org/doc/stable/reference/generated/numpy.result_type.html#numpy-result-type)\n",
    "* [```numpy.promote_types```](https://numpy.org/doc/stable/reference/generated/numpy.promote_types.html#numpy-promote-types)\n"
   ]
  },
  {
   "cell_type": "code",
   "execution_count": 5,
   "id": "a10d5ace-496e-47cd-8b19-4102bbee1fda",
   "metadata": {},
   "outputs": [
    {
     "name": "stdout",
     "output_type": "stream",
     "text": [
      "inconsistent_array1.dtype =  <U11\n",
      "inconsistent_array2 exception:  invalid literal for int() with base 10: 'two'\n",
      "inconsistent_array3.dtype =  int64\n"
     ]
    }
   ],
   "source": [
    "# handling inconsistent data in NumPy\n",
    "try:\n",
    "\tinconsistent_array1 = np.array([1, \"two\", 3, '!'])\n",
    "\tprint(\"inconsistent_array1.dtype = \",inconsistent_array1.dtype)\n",
    "except Exception as e:\n",
    "\tprint(e)\n",
    "# \n",
    "try:\n",
    "\t# throws exception for inconsistent_array2 as elements do not match the specified dtype\n",
    "\tinconsistent_array2 = np.array([1, \"two\", 3, '!'], dtype=np.int32)\n",
    "\tprint(inconsistent_array2.dtype)\n",
    "except Exception as e:\n",
    "\tprint(\"inconsistent_array2 exception: \",e)\n",
    "# \n",
    "try:\n",
    "\t# specify the dtype - makes things more reliable (and faster!)\n",
    "\tinconsistent_array3 = np.array([1, 2, 3, 4], dtype=np.int64)\n",
    "\tprint(\"inconsistent_array3.dtype = \",inconsistent_array3.dtype)\n",
    "except Exception as e:\n",
    "\tprint(e)\n",
    "# "
   ]
  },
  {
   "cell_type": "code",
   "execution_count": 6,
   "id": "6fe76483-ebc8-4fab-b12a-431e5d013de2",
   "metadata": {},
   "outputs": [
    {
     "data": {
      "text/plain": [
       "(8,)"
      ]
     },
     "execution_count": 6,
     "metadata": {},
     "output_type": "execute_result"
    }
   ],
   "source": [
    "inconsistent_array3.strides"
   ]
  },
  {
   "cell_type": "code",
   "execution_count": 7,
   "id": "ca824085-80ec-4f5a-929f-ab5e02ee996b",
   "metadata": {},
   "outputs": [
    {
     "name": "stdout",
     "output_type": "stream",
     "text": [
      "NumPy ctypes 1913757649632\n",
      "<numpy.core._internal.c_longlong_Array_1 object at 0x000001BDA3EB5050>\n",
      "16\n",
      "NumPy ctypes.data 1913757649632\n",
      "NumPy ctypes 1913757650304\n",
      "<numpy.core._internal.c_longlong_Array_1 object at 0x000001BDA3EB5050>\n",
      "20\n",
      "NumPy ctypes.data 1913757650304\n",
      "NumPy array element 0: memory address = 1914546642800, (1913758215008, False)\n",
      "NumPy array element 1: memory address = 1914546642800, (1913758215008, False)\n",
      "NumPy array element 2: memory address = 1914546642800, (1913758215008, False)\n",
      "NumPy array element 3: memory address = 1914546642800, (1913758215008, False)\n",
      "NumPy array element 4: memory address = 1914546642800, (1913758215008, False)\n",
      "Python list element 0: memory address = 140734664053544\n",
      "Python list element 1: memory address = 140734664053576\n",
      "Python list element 2: memory address = 140734664053608\n",
      "Python list element 3: memory address = 140734664053640\n"
     ]
    }
   ],
   "source": [
    "# NumPy array\n",
    "arr = np.array([1, 2, 3, 4], dtype=np.int32)    \n",
    "# \n",
    "print(f\"NumPy ctypes {arr.ctypes.data}\\n{arr.ctypes.strides}\\n{arr.nbytes}\")\n",
    "print(f\"NumPy ctypes.data {arr.ctypes.data}\")\n",
    "# add another element to the array - see how size changes\n",
    "arr = np.append(arr, [5])\n",
    "print(f\"NumPy ctypes {arr.ctypes.data}\\n{arr.ctypes.strides}\\n{arr.nbytes}\")\n",
    "print(f\"NumPy ctypes.data {arr.ctypes.data}\")\n",
    "# \n",
    "for idx in range(len(arr)):\n",
    "\t# __array_interface__['data'] is a tuple (address for 0th element, mutable) \n",
    "    print(f\"NumPy array element {idx}: memory address = {id(arr[idx])}, {arr[idx].__array_interface__['data']}\")\n",
    "# \n",
    "# Python list\n",
    "lst = [1, 2, 3, 4]\n",
    "for idx, item in enumerate(lst):\n",
    "    print(f\"Python list element {idx}: memory address = {id(item)}\")"
   ]
  },
  {
   "cell_type": "markdown",
   "id": "a4a2fafc-d50b-494c-95cf-4f1571f99999",
   "metadata": {},
   "source": [
    "Python lists have a significant memory overhead because they store more than just the data (like object type info, size, reference count, etc.).  \n",
    "NumPy arrays, being homogeneous, cut down on this overhead."
   ]
  },
  {
   "cell_type": "code",
   "execution_count": 8,
   "id": "39ac9b84-e9d0-4e84-8de9-2bc0431fabe4",
   "metadata": {},
   "outputs": [
    {
     "name": "stdout",
     "output_type": "stream",
     "text": [
      "Size of Python list: 80000056 bytes\n",
      "Size of NumPy array: 40000000 bytes\n"
     ]
    }
   ],
   "source": [
    "# NumPy consuming less memory\n",
    "lst = list(range(big_number))\n",
    "print(f\"Size of Python list: {sys.getsizeof(lst)} bytes\")\n",
    "\n",
    "arr = np.array(lst)\n",
    "print(f\"Size of NumPy array: {arr.nbytes} bytes\")"
   ]
  },
  {
   "cell_type": "code",
   "execution_count": 9,
   "id": "a870ad67-e375-489b-933a-01fed5f75a30",
   "metadata": {},
   "outputs": [
    {
     "name": "stdout",
     "output_type": "stream",
     "text": [
      "Row-major order:\n",
      "[1 2 3 4 5 6 7 8 9]\n",
      "[[1 2 3]\n",
      " [4 5 6]\n",
      " [7 8 9]]\n",
      "\n",
      "Column-major order:\n",
      "[1 4 7 2 5 8 3 6 9]\n",
      "[[1 2 3]\n",
      " [4 5 6]\n",
      " [7 8 9]]\n",
      "\n",
      "Row-major to Column-major:\n",
      "[1 4 7 2 5 8 3 6 9]\n",
      "[[1 2 3]\n",
      " [4 5 6]\n",
      " [7 8 9]]\n",
      "\n",
      "Column-major to Row-major:\n",
      "[1 2 3 4 5 6 7 8 9]\n",
      "[[1 2 3]\n",
      " [4 5 6]\n",
      " [7 8 9]]\n"
     ]
    }
   ],
   "source": [
    "# row order, column order\n",
    "\n",
    "arr_c = np.array([[1, 2, 3], [4, 5, 6], [7, 8, 9]], order='C')\n",
    "arr_f = np.array([[1, 2, 3], [4, 5, 6], [7, 8, 9]], order='F')\n",
    "\n",
    "print(\"Row-major order:\")\n",
    "print(arr_c.ravel(order='C'))\n",
    "print(arr_c)\n",
    "# \n",
    "print(\"\\nColumn-major order:\")\n",
    "print(arr_f.ravel(order='F'))\n",
    "print(arr_f)\n",
    "# \n",
    "arr_c_to_f = arr_c.ravel(order='F').reshape(arr_c.shape, order = 'F')\n",
    "arr_f_to_c = arr_f.ravel(order='C').reshape(arr_f.shape, order = 'C')\n",
    "# this gets mondo confusing.. \n",
    "# add lots of comments\n",
    "# even if they explain the code over and over\n",
    "# over-communicate - confusion confuses\n",
    "print(\"\\nRow-major to Column-major:\")\n",
    "print(arr_c_to_f.ravel(order='F'))\n",
    "print(arr_c_to_f)\n",
    "print(\"\\nColumn-major to Row-major:\")\n",
    "print(arr_f_to_c.ravel(order='C'))\n",
    "print(arr_f_to_c)"
   ]
  },
  {
   "cell_type": "code",
   "execution_count": 10,
   "id": "531c8280-1cf3-41ac-a597-43312d16de49",
   "metadata": {
    "editable": true,
    "slideshow": {
     "slide_type": ""
    },
    "tags": []
   },
   "outputs": [
    {
     "name": "stdout",
     "output_type": "stream",
     "text": [
      "Memory locations for C-order:\n",
      "1 <memory at 0x000001BDA3EAA200>\n",
      "2 <memory at 0x000001BDA3EAA200>\n",
      "3 <memory at 0x000001BDA3EAA200>\n",
      "4 <memory at 0x000001BDA3EAA200>\n",
      "5 <memory at 0x000001BDA3EAA200>\n",
      "6 <memory at 0x000001BDA3EAA200>\n",
      "7 <memory at 0x000001BDA3EAA200>\n",
      "8 <memory at 0x000001BDA3EAA200>\n",
      "9 <memory at 0x000001BDA3EAA200>\n",
      "\n",
      "Memory locations for F-order:\n",
      "1 <memory at 0x000001BDA3EAA200>\n",
      "2 <memory at 0x000001BDA3EAA200>\n",
      "3 <memory at 0x000001BDA3EAA200>\n",
      "4 <memory at 0x000001BDA3EAA200>\n",
      "5 <memory at 0x000001BDA3EAA200>\n",
      "6 <memory at 0x000001BDA3EAA200>\n",
      "7 <memory at 0x000001BDA3EAA200>\n",
      "8 <memory at 0x000001BDA3EAA200>\n",
      "9 <memory at 0x000001BDA3EAA200>\n"
     ]
    }
   ],
   "source": [
    "def print_memory(arr):\n",
    "    for i in range(arr.shape[0]):\n",
    "        for j in range(arr.shape[1]):\n",
    "            print(arr[i, j], arr[i, j].data)\n",
    "\n",
    "print(\"Memory locations for C-order:\")\n",
    "print_memory(arr_c)\n",
    "print(\"\\nMemory locations for F-order:\")\n",
    "print_memory(arr_f)"
   ]
  }
 ],
 "metadata": {
  "kernelspec": {
   "display_name": "Python 3 (ipykernel)",
   "language": "python",
   "name": "python3"
  },
  "language_info": {
   "codemirror_mode": {
    "name": "ipython",
    "version": 3
   },
   "file_extension": ".py",
   "mimetype": "text/x-python",
   "name": "python",
   "nbconvert_exporter": "python",
   "pygments_lexer": "ipython3",
   "version": "3.11.4"
  }
 },
 "nbformat": 4,
 "nbformat_minor": 5
}
