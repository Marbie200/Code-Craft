{
 "cells": [
  {
   "cell_type": "markdown",
   "id": "34276364-937b-4421-b80a-4e506c2cd500",
   "metadata": {
    "editable": true,
    "slideshow": {
     "slide_type": ""
    },
    "tags": []
   },
   "source": [
    "# NumPy vs. Python Collections"
   ]
  },
  {
   "cell_type": "markdown",
   "id": "7ca89514-887a-458a-bdad-79f60ac9e4d6",
   "metadata": {},
   "source": [
    "![Python Collections compared to NumPy](./../images/data_munging_01-Numpy-02.png)"
   ]
  },
  {
   "cell_type": "markdown",
   "id": "517569a2-927c-47e9-8656-cbbd1c2aa61a",
   "metadata": {
    "editable": true,
    "slideshow": {
     "slide_type": ""
    },
    "tags": []
   },
   "source": [
    "### <font color='green'>__Support for Google Colab__  </font>  \n",
    "    \n",
    "open this notebook in Colab using the following button:  \n",
    "  \n",
    "<a href=\"https://colab.research.google.com/github/shauryashaurya/learn-data-munging/blob/main/01-Numpy/02.01-Numpy-over-Python-Collections.ipynb\" target=\"_parent\"><img src=\"https://colab.research.google.com/assets/colab-badge.svg\" alt=\"Open In Colab\"/></a>  \n",
    "\n",
    "  \n",
    "<font color='green'>uncomment and execute the cell below to setup and run this notebook on Google Colab.</font>"
   ]
  },
  {
   "cell_type": "code",
   "execution_count": 1,
   "id": "08a46c72-99a2-478d-ad96-9fdb8a14f02b",
   "metadata": {
    "editable": true,
    "slideshow": {
     "slide_type": ""
    },
    "tags": []
   },
   "outputs": [],
   "source": [
    "# # SETUP FOR COLAB: select all the lines below and uncomment (CTRL+/ on windows)\n",
    "# # Let's download and unzip the Small MovieLens Dataset\n",
    "# ! mkdir ./../data\n",
    "# ! wget -q https://files.grouplens.org/datasets/movielens/ml-latest-small.zip\n",
    "# ! unzip ./ml-latest-small.zip -d ./../data/"
   ]
  },
  {
   "cell_type": "markdown",
   "id": "94456db6-d981-41e2-a6da-d2625c94293e",
   "metadata": {
    "editable": true,
    "slideshow": {
     "slide_type": ""
    },
    "tags": []
   },
   "source": [
    "# Setup and suchlike"
   ]
  },
  {
   "cell_type": "code",
   "execution_count": 2,
   "id": "a2c32b19-76d4-48ff-9555-8d091742a368",
   "metadata": {
    "editable": true,
    "slideshow": {
     "slide_type": ""
    },
    "tags": []
   },
   "outputs": [],
   "source": [
    "import time\n",
    "import sys\n",
    "import numpy as np"
   ]
  },
  {
   "cell_type": "code",
   "execution_count": 3,
   "id": "327f86ce-03b3-469d-a703-020c21b2a24a",
   "metadata": {
    "editable": true,
    "slideshow": {
     "slide_type": ""
    },
    "tags": []
   },
   "outputs": [
    {
     "data": {
      "text/plain": [
       "'1.26.2'"
      ]
     },
     "execution_count": 3,
     "metadata": {},
     "output_type": "execute_result"
    }
   ],
   "source": [
    "np.__version__"
   ]
  },
  {
   "cell_type": "markdown",
   "id": "ba26bc61-941b-46fd-bfd7-c5c32340afda",
   "metadata": {
    "editable": true,
    "slideshow": {
     "slide_type": ""
    },
    "tags": []
   },
   "source": [
    "# Performance over Python Lists"
   ]
  },
  {
   "cell_type": "code",
   "execution_count": 4,
   "id": "bfd1e750-4aa4-4032-a356-afa416ba01fd",
   "metadata": {
    "editable": true,
    "slideshow": {
     "slide_type": ""
    },
    "tags": []
   },
   "outputs": [
    {
     "name": "stdout",
     "output_type": "stream",
     "text": [
      "Python List Time: 0.2040574550628662\n",
      "NumPy Array Time: 0.00608515739440918\n",
      "Numpy performing 33.53363632801786 times faster than Python Lists\n"
     ]
    }
   ],
   "source": [
    "# NumPy is faster\n",
    "# 1. Contiguous storage\n",
    "# 2. Leverage datatypes\n",
    "\n",
    "# ten million\n",
    "big_number = 10000000\n",
    "\n",
    "# List\n",
    "python_list = list(range(big_number))\n",
    "\n",
    "start_time = time.time()\n",
    "sum_list = sum(python_list)\n",
    "list_time = time.time() - start_time\n",
    "\n",
    "# NumPy Array\n",
    "numpy_array = np.array(range(big_number), dtype=np.int64)\n",
    "\n",
    "start_time_np = time.time()\n",
    "sum_array = np.sum(numpy_array)\n",
    "numpy_time = time.time() - start_time_np\n",
    "\n",
    "print(f\"Python List Time: {list_time}\")\n",
    "print(f\"NumPy Array Time: {numpy_time}\")\n",
    "print(f\"Numpy performing {list_time/numpy_time} times faster than Python Lists\")"
   ]
  },
  {
   "cell_type": "code",
   "execution_count": 5,
   "id": "cda75018-9b40-4525-8586-5f20342d9c4d",
   "metadata": {
    "editable": true,
    "slideshow": {
     "slide_type": ""
    },
    "tags": []
   },
   "outputs": [
    {
     "name": "stdout",
     "output_type": "stream",
     "text": [
      "Python List Operation Time: 0.0559992790222168\n",
      "NumPy Array Operation Time: 0.0009839534759521484\n",
      "Numpy performing 56.91252725951054 times faster than Python Lists\n"
     ]
    }
   ],
   "source": [
    "# one million, two million\n",
    "lst1 = [i for i in range(1000000)]\n",
    "lst2 = [i for i in range(1000000, 2000000)]\n",
    "\n",
    "arr1 = np.array(lst1)\n",
    "arr2 = np.array(lst2)\n",
    "\n",
    "# Python List\n",
    "start_time1 = time.time()\n",
    "result_list = [a + b for a, b in zip(lst1, lst2)]\n",
    "list_time1 = time.time() - start_time1\n",
    "\n",
    "# NumPy Array\n",
    "start_time_np1 = time.time()\n",
    "result_array = arr1 + arr2\n",
    "numpy_time1 = time.time() - start_time_np1\n",
    "\n",
    "print(f\"Python List Operation Time: {list_time1}\")\n",
    "print(f\"NumPy Array Operation Time: {numpy_time1}\")\n",
    "print(f\"Numpy performing {list_time1/numpy_time1} times faster than Python Lists\")"
   ]
  },
  {
   "cell_type": "markdown",
   "id": "d4e7082a-d334-4649-9905-1a7128864991",
   "metadata": {
    "editable": true,
    "slideshow": {
     "slide_type": ""
    },
    "tags": []
   },
   "source": [
    "# How NumPy handles Data Types"
   ]
  },
  {
   "cell_type": "markdown",
   "id": "e3d65706-31a0-4644-8bfa-fd3c7409c511",
   "metadata": {
    "editable": true,
    "slideshow": {
     "slide_type": ""
    },
    "tags": []
   },
   "source": [
    "NumPy promotes the types to the smallest size and smallest scalar kind that fits all the elements.\n",
    "This type promotion can be counter intuitive sometimes.\n",
    "See: \n",
    "* [Type Casting Rules](https://numpy.org/doc/stable/user/basics.ufuncs.html#type-casting-rules)\n",
    "* [```numpy.result_type```](https://numpy.org/doc/stable/reference/generated/numpy.result_type.html#numpy-result-type)\n",
    "* [```numpy.promote_types```](https://numpy.org/doc/stable/reference/generated/numpy.promote_types.html#numpy-promote-types)\n"
   ]
  },
  {
   "cell_type": "code",
   "execution_count": 6,
   "id": "a10d5ace-496e-47cd-8b19-4102bbee1fda",
   "metadata": {
    "editable": true,
    "slideshow": {
     "slide_type": ""
    },
    "tags": []
   },
   "outputs": [
    {
     "name": "stdout",
     "output_type": "stream",
     "text": [
      "inconsistent_array1.dtype =  <U11\n",
      "inconsistent_array2 exception:  invalid literal for int() with base 10: 'two'\n",
      "inconsistent_array3.dtype =  int64\n"
     ]
    }
   ],
   "source": [
    "# handling inconsistent data in NumPy\n",
    "try:\n",
    "\tinconsistent_array1 = np.array([1, \"two\", 3, '!'])\n",
    "\tprint(\"inconsistent_array1.dtype = \",inconsistent_array1.dtype)\n",
    "except Exception as e:\n",
    "\tprint(e)\n",
    "# \n",
    "try:\n",
    "\t# throws exception for inconsistent_array2 as elements do not match the specified dtype\n",
    "\tinconsistent_array2 = np.array([1, \"two\", 3, '!'], dtype=np.int32)\n",
    "\tprint(inconsistent_array2.dtype)\n",
    "except Exception as e:\n",
    "\tprint(\"inconsistent_array2 exception: \",e)\n",
    "# \n",
    "try:\n",
    "\t# specify the dtype - makes things more reliable (and faster!)\n",
    "\tinconsistent_array3 = np.array([1, 2, 3, 4], dtype=np.int64)\n",
    "\tprint(\"inconsistent_array3.dtype = \",inconsistent_array3.dtype)\n",
    "except Exception as e:\n",
    "\tprint(e)\n",
    "# "
   ]
  },
  {
   "cell_type": "code",
   "execution_count": 7,
   "id": "6fe76483-ebc8-4fab-b12a-431e5d013de2",
   "metadata": {
    "editable": true,
    "slideshow": {
     "slide_type": ""
    },
    "tags": []
   },
   "outputs": [
    {
     "data": {
      "text/plain": [
       "(8,)"
      ]
     },
     "execution_count": 7,
     "metadata": {},
     "output_type": "execute_result"
    }
   ],
   "source": [
    "inconsistent_array3.strides"
   ]
  },
  {
   "cell_type": "markdown",
   "id": "4fc75806-2545-42b5-a765-6859ec3436cf",
   "metadata": {
    "editable": true,
    "slideshow": {
     "slide_type": ""
    },
    "tags": []
   },
   "source": [
    "# NumPy uses contiguous blocks of data in memory\n",
    "  \n",
    "![Row-Wise Representation of Data](./../images/PyDataGlobal2023-PythonvsNumpy-rowandcol.drawio.png)"
   ]
  },
  {
   "cell_type": "code",
   "execution_count": 8,
   "id": "ca824085-80ec-4f5a-929f-ab5e02ee996b",
   "metadata": {
    "editable": true,
    "slideshow": {
     "slide_type": ""
    },
    "tags": []
   },
   "outputs": [
    {
     "name": "stdout",
     "output_type": "stream",
     "text": [
      "NumPy ctypes 1770104670544\n",
      "<numpy.core._internal.c_longlong_Array_1 object at 0x0000019C31A592D0>\n",
      "16\n",
      "NumPy ctypes.data 1770104670544\n",
      "NumPy ctypes 1770104670576\n",
      "<numpy.core._internal.c_longlong_Array_1 object at 0x0000019C31A591D0>\n",
      "20\n",
      "NumPy ctypes.data 1770104670576\n",
      "NumPy array element 0: memory address = 1770883228048, (1770081209120, False)\n",
      "NumPy array element 1: memory address = 1770883228048, (1770081209120, False)\n",
      "NumPy array element 2: memory address = 1770883228048, (1770081209120, False)\n",
      "NumPy array element 3: memory address = 1770883228048, (1770081209120, False)\n",
      "NumPy array element 4: memory address = 1770883228048, (1770081209120, False)\n",
      "Python list element 0: memory address = 140736721097512\n",
      "Python list element 1: memory address = 140736721097544\n",
      "Python list element 2: memory address = 140736721097576\n",
      "Python list element 3: memory address = 140736721097608\n"
     ]
    }
   ],
   "source": [
    "# NumPy array\n",
    "arr = np.array([1, 2, 3, 4], dtype=np.int32)    \n",
    "# \n",
    "print(f\"NumPy ctypes {arr.ctypes.data}\\n{arr.ctypes.strides}\\n{arr.nbytes}\")\n",
    "print(f\"NumPy ctypes.data {arr.ctypes.data}\")\n",
    "# add another element to the array - see how size changes\n",
    "arr = np.append(arr, [5])\n",
    "print(f\"NumPy ctypes {arr.ctypes.data}\\n{arr.ctypes.strides}\\n{arr.nbytes}\")\n",
    "print(f\"NumPy ctypes.data {arr.ctypes.data}\")\n",
    "# \n",
    "for idx in range(len(arr)):\n",
    "\t# __array_interface__['data'] is a tuple (address for 0th element, mutable) \n",
    "\t# Gives you same address each time, \n",
    "\t# because it's expecting to traverse the array using offsets - 'strides' in NumPy\n",
    "\t# a stragety only applicable when you traverse a contiguous block of data\n",
    "    print(f\"NumPy array element {idx}: memory address = {id(arr[idx])}, {arr[idx].__array_interface__['data']}\")\n",
    "# \n",
    "# Python list\n",
    "lst = [1, 2, 3, 4]\n",
    "for idx, item in enumerate(lst):\n",
    "    print(f\"Python list element {idx}: memory address = {id(item)}\")"
   ]
  },
  {
   "cell_type": "markdown",
   "id": "5d1c0d9d-f990-4c03-a046-76ed9ade030f",
   "metadata": {
    "editable": true,
    "slideshow": {
     "slide_type": ""
    },
    "tags": []
   },
   "source": [
    "# How strict data-types in NumPy reduce memory overhead\n",
    "\n",
    "We saw that Python data structures come with a lot of functions that help with duck-typing and other general purpose data analysis tasks. "
   ]
  },
  {
   "cell_type": "markdown",
   "id": "a4a2fafc-d50b-494c-95cf-4f1571f99999",
   "metadata": {
    "editable": true,
    "slideshow": {
     "slide_type": ""
    },
    "tags": []
   },
   "source": [
    "Python lists have a significant memory overhead because they store more than just the data (like object type info, size, reference count, etc.).  \n",
    "NumPy arrays, being homogeneous, cut down on this overhead."
   ]
  },
  {
   "cell_type": "code",
   "execution_count": 9,
   "id": "39ac9b84-e9d0-4e84-8de9-2bc0431fabe4",
   "metadata": {
    "editable": true,
    "slideshow": {
     "slide_type": ""
    },
    "tags": []
   },
   "outputs": [
    {
     "name": "stdout",
     "output_type": "stream",
     "text": [
      "Size of Python list: 80000056 bytes or 78125.05 Kb\n",
      "Size of NumPy array: 40000000 bytes or 39062.5 Kb\n",
      "\n",
      "\n",
      "Compared to Python lists, NumPy consumes approximately 50.0% less memory\n"
     ]
    }
   ],
   "source": [
    "# NumPy consuming less memory\n",
    "lst = list(range(big_number))\n",
    "lst_size = sys.getsizeof(lst)\n",
    "print(f\"Size of Python list: {lst_size} bytes or {round(lst_size/1024, 2)} Kb\")\n",
    "\n",
    "np_arr = np.array(lst, dtype = np.dtype(int))\n",
    "np_arr_size = np_arr.nbytes\n",
    "print(f\"Size of NumPy array: {np_arr_size} bytes or {round(np_arr_size/1024, 2)} Kb\")\n",
    "print('\\n')\n",
    "print(f\"Compared to Python lists, NumPy consumes approximately \\\n",
    "{round(((lst_size-np_arr_size)/lst_size)*100,2)}% less memory\")"
   ]
  },
  {
   "cell_type": "markdown",
   "id": "f2bc1672-54a0-4132-91f1-237aa70f11f3",
   "metadata": {},
   "source": [
    "Some references for you to keep handy when dealing with NumPy Arrays and data types ([dtypes](https://numpy.org/doc/stable/reference/generated/numpy.dtype.html#numpy.dtype)):\n",
    "* NumPy [Structured Arrays](https://numpy.org/doc/stable/user/basics.rec.html#structured-arrays)\n",
    "* [The array interface protocol](https://numpy.org/doc/stable/reference/arrays.interface.html#arrays-interface)\n",
    "* [Data type objects](https://numpy.org/doc/stable/reference/arrays.dtypes.html#arrays-dtypes-constructing)\n",
    "* Built-in [Scalars](https://numpy.org/doc/stable/reference/arrays.scalars.html#scalars)"
   ]
  },
  {
   "cell_type": "markdown",
   "id": "5eb31461-f2fb-4065-a152-76ed5d483094",
   "metadata": {},
   "source": [
    "# Implementing a naive ```GroupBy``` with NumPy\n",
    "\n",
    "We have our Movies dataset and we want to find out the answers to the following questions\n",
    "* How many movies were released each year?\n",
    "* On average how many movies were released per year?"
   ]
  },
  {
   "cell_type": "markdown",
   "id": "a1937819-c97e-4325-bd38-5d2ea9e4d7a8",
   "metadata": {},
   "source": [
    "### Get the _Small_ MovieLens Dataset"
   ]
  },
  {
   "cell_type": "markdown",
   "id": "b6997b92-769f-4214-b9cf-7f268b12a201",
   "metadata": {},
   "source": [
    "We'll use the [small MovieLens dataset](https://grouplens.org/datasets/movielens/#:~:text=Small%3A%20100%2C000%20ratings%20and%203%2C600%20tag%20applications) here.\n",
    "\n",
    "Download it and unzip to the data folder under the name `ml-latest-small`.\n",
    "\n",
    "This dataset expands to about 3.2 MB on your local disk. "
   ]
  },
  {
   "cell_type": "markdown",
   "id": "5687f200-7bde-4829-9d66-7d32a717df77",
   "metadata": {},
   "source": [
    "# Locate the data"
   ]
  },
  {
   "cell_type": "code",
   "execution_count": 10,
   "id": "0e319d54-92ef-4c59-917e-4fadf4cb8609",
   "metadata": {},
   "outputs": [],
   "source": [
    "datalocation = \"./../data/ml-latest-small/\""
   ]
  },
  {
   "cell_type": "code",
   "execution_count": 11,
   "id": "b7f9b4ae-a1d2-4521-b4fa-806f6d4c1493",
   "metadata": {},
   "outputs": [],
   "source": [
    "# specify file names\n",
    "file_path_movies = datalocation + \"movies.csv\"\n",
    "file_path_links = datalocation + \"links.csv\"\n",
    "file_path_ratings = datalocation + \"ratings.csv\"\n",
    "file_path_tags = datalocation + \"tags.csv\""
   ]
  },
  {
   "cell_type": "markdown",
   "id": "d7438e1b-7406-47e8-af5e-b21a674983f5",
   "metadata": {},
   "source": [
    "# Load the dataset(s)\n",
    "\n",
    "From the ```README.txt``` file in the small MovieLens dataset:\n",
    "The dataset files are written as [**comma-separated values**](http://en.wikipedia.org/wiki/Comma-separated_values) files with a **single header row**. Columns that contain commas (`,`) are **escaped using double-quotes (`\"`)**. These files are encoded as **UTF-8**. If accented characters in movie titles or tag values (e.g. Misérables, Les (1995)) display incorrectly, make sure that any program reading the data, such as a text editor, terminal, or script, is configured for UTF-8.\n",
    "\n",
    "So, we specify:\n",
    "* Separator - ```,```\n",
    "* Escape Character - ```\"```\n",
    "* Encoding - ```UTF-8```\n",
    "\n",
    "We need to find a way to load the data set where titles like  \"American President, The (1995)\" don't break the CSV loading process"
   ]
  },
  {
   "cell_type": "code",
   "execution_count": 12,
   "id": "e359314a-9c28-41b5-af91-26f5886b1aac",
   "metadata": {},
   "outputs": [],
   "source": [
    "# we'll need regex to handle the escape characters and extract the year\n",
    "import re"
   ]
  },
  {
   "cell_type": "markdown",
   "id": "7212bd26-b3f1-4dc1-8053-e8949f916b71",
   "metadata": {},
   "source": [
    "We'll use regex to match here.  \n",
    "Something like [regex101](https://regex101.com/r/pWPPbM/1) is really helpful in building the expression.  \n",
    "\n",
    "If we wanted to just select the comma that is surrounded by quotes, we would use a technique is called [look ahead](https://www.regular-expressions.info/lookaround.html). \n",
    "\n",
    "``` Python\n",
    "# Splitting by comma but not inside quotes\n",
    "# r',(?=\")'\n",
    "```"
   ]
  },
  {
   "cell_type": "markdown",
   "id": "0486dcf8-ca2b-45fa-9c49-e30e48451be8",
   "metadata": {},
   "source": [
    "Wait, there's not general purpose 'Group by' in NumPy.  \n",
    "So, we'll have to implement our own.   \n",
    "fun!"
   ]
  },
  {
   "cell_type": "code",
   "execution_count": 13,
   "id": "6046e34b-e52e-4840-a4a5-fd5db626f94c",
   "metadata": {},
   "outputs": [],
   "source": [
    "# load the movies.csv dataset, knowing the idisyncracies involved (like that comma-quote thing etc.)\n",
    "data = []\n",
    "# regex to extract 4 digits between parenthesis\n",
    "year_match_regex = '\\((\\d{4})\\)'\n",
    "with open(file_path_movies, 'r', encoding='utf-8') as file:\n",
    "\tnext(file)  # Skip the header line\n",
    "\tfor line in file:\n",
    "\t\t# split by the comma\n",
    "\t\tparts = re.split(r',', line.strip())\n",
    "\t\t# skip empty or malformed lines\n",
    "\t\tif len(parts) >= 3:\n",
    "\t\t\t# \n",
    "\t\t\tmovie_id = int(parts[0])\n",
    "\t\t\t# Combine all elements except the first (movie ID) and last (genres)\n",
    "\t\t\ttitle = ','.join(parts[1:-1]).strip('\"')\n",
    "\t\t\t# extract year into a new column\n",
    "\t\t\tyr_match = re.search(year_match_regex, title)\n",
    "\t\t\tyear = int(yr_match.group(1)) if yr_match else None\n",
    "\t\t\t# \n",
    "\t\t\tgenres = parts[-1]\n",
    "\t\t\tdata.append([movie_id, title, year, genres])\n",
    "movies = np.array(data)"
   ]
  },
  {
   "cell_type": "code",
   "execution_count": 14,
   "id": "0399d972-8f1f-424b-9765-37e83508c017",
   "metadata": {},
   "outputs": [
    {
     "name": "stdout",
     "output_type": "stream",
     "text": [
      "data shape:  9742 , 4\n",
      "movies.shape:  (9742, 4)\n"
     ]
    }
   ],
   "source": [
    "print('data shape: ',len(data),',', len(data[0]))\n",
    "print('movies.shape: ',movies.shape)"
   ]
  },
  {
   "cell_type": "code",
   "execution_count": 15,
   "id": "f7a95da4-238e-4968-932f-e0c36d6d9932",
   "metadata": {},
   "outputs": [
    {
     "name": "stdout",
     "output_type": "stream",
     "text": [
      "[[1, 'Toy Story (1995)', 1995, 'Adventure|Animation|Children|Comedy|Fantasy'], [2, 'Jumanji (1995)', 1995, 'Adventure|Children|Fantasy'], [3, 'Grumpier Old Men (1995)', 1995, 'Comedy|Romance'], [4, 'Waiting to Exhale (1995)', 1995, 'Comedy|Drama|Romance'], [5, 'Father of the Bride Part II (1995)', 1995, 'Comedy']]\n"
     ]
    },
    {
     "data": {
      "text/plain": [
       "array([[1, 'Toy Story (1995)', 1995,\n",
       "        'Adventure|Animation|Children|Comedy|Fantasy'],\n",
       "       [2, 'Jumanji (1995)', 1995, 'Adventure|Children|Fantasy'],\n",
       "       [3, 'Grumpier Old Men (1995)', 1995, 'Comedy|Romance'],\n",
       "       [4, 'Waiting to Exhale (1995)', 1995, 'Comedy|Drama|Romance'],\n",
       "       [5, 'Father of the Bride Part II (1995)', 1995, 'Comedy'],\n",
       "       [6, 'Heat (1995)', 1995, 'Action|Crime|Thriller'],\n",
       "       [7, 'Sabrina (1995)', 1995, 'Comedy|Romance'],\n",
       "       [8, 'Tom and Huck (1995)', 1995, 'Adventure|Children'],\n",
       "       [9, 'Sudden Death (1995)', 1995, 'Action'],\n",
       "       [10, 'GoldenEye (1995)', 1995, 'Action|Adventure|Thriller']],\n",
       "      dtype=object)"
      ]
     },
     "execution_count": 15,
     "metadata": {},
     "output_type": "execute_result"
    }
   ],
   "source": [
    "# head\n",
    "print(data[:5])\n",
    "movies[:10]"
   ]
  },
  {
   "cell_type": "code",
   "execution_count": 16,
   "id": "ceafb65c-7522-45a0-b122-0b52449bb188",
   "metadata": {},
   "outputs": [],
   "source": [
    "# define a group by method, use dictionaries\n",
    "def group_by(data, key_index):\n",
    "\tgroups = {}\n",
    "\tfor row in data:\n",
    "\t\tkey = row[key_index]\n",
    "\t\tif key not in groups:\n",
    "\t\t\tgroups[key] = []\n",
    "\t\tgroups[key].append(row)\n",
    "\treturn groups"
   ]
  },
  {
   "cell_type": "code",
   "execution_count": 17,
   "id": "fe3269bb-7edc-4d7c-9fa6-a54e83376ecd",
   "metadata": {},
   "outputs": [],
   "source": [
    "# define a count function on top of the group_by\n",
    "def count(data, key_index):\n",
    "\tgroups = group_by(data, key_index)\n",
    "\tcount_dict = {key: len(value) for key, value in groups.items()}\n",
    "\treturn np.array(list(count_dict.items()), dtype='object')"
   ]
  },
  {
   "cell_type": "code",
   "execution_count": 18,
   "id": "9b9ef2f9-975d-454e-9a8b-df5ff6f4e46e",
   "metadata": {},
   "outputs": [],
   "source": [
    "count_of_movies_by_year = count(movies,2)\n",
    "average_number_of_movies_released_each_year = np.mean(count_of_movies_by_year[:,1].astype(int))"
   ]
  },
  {
   "cell_type": "code",
   "execution_count": 19,
   "id": "2b5bb29f-ca43-4af8-8e6a-fcaa2c9fedfa",
   "metadata": {},
   "outputs": [
    {
     "data": {
      "text/plain": [
       "array([259, 237, 276, 44, 167, 42, 198, 43, 63, 47, 87, 147, 147, 142, 16,\n",
       "       25, 35, 92, 59, 33, 36, 37, 42, 165, 260, 39, 10, 16, 22, 33, 34,\n",
       "       31, 23, 11, 16, 37, 39, 23, 18, 30, 23, 21, 23, 17, 15, 20, 13, 18,\n",
       "       30, 25, 9, 42, 45, 47, 69, 153, 139, 89, 59, 126, 42, 40, 83, 101,\n",
       "       20, 12, 14, 1, 258, 4, 5, 7, 4, 263, 283, 5, 1, 1, 4, 4, 294, 311,\n",
       "       279, 2, 1, 5, 279, 4, 1, 273, 295, 1, 13, 1, 284, 269, 282, 247,\n",
       "       254, 233, 239, 278, 274, 218, 147, 41, 1], dtype=object)"
      ]
     },
     "execution_count": 19,
     "metadata": {},
     "output_type": "execute_result"
    }
   ],
   "source": [
    "count_of_movies_by_year[:,1]"
   ]
  },
  {
   "cell_type": "code",
   "execution_count": 20,
   "id": "6ee90050-3b12-4c0b-aa84-84022eae3642",
   "metadata": {},
   "outputs": [
    {
     "data": {
      "text/plain": [
       "91.04672897196262"
      ]
     },
     "execution_count": 20,
     "metadata": {},
     "output_type": "execute_result"
    }
   ],
   "source": [
    "average_number_of_movies_released_each_year"
   ]
  },
  {
   "cell_type": "markdown",
   "id": "29bda8cc-d124-4ea5-a2de-c39426c2e104",
   "metadata": {
    "editable": true,
    "slideshow": {
     "slide_type": ""
    },
    "tags": []
   },
   "source": [
    "# Row Oriented vs Columnar\n",
    "\n",
    "<font color='red'><em>This bit gets real confusing, real fast, so please ignore it in the first pass.</em></font>"
   ]
  },
  {
   "cell_type": "code",
   "execution_count": 21,
   "id": "a870ad67-e375-489b-933a-01fed5f75a30",
   "metadata": {
    "editable": true,
    "slideshow": {
     "slide_type": ""
    },
    "tags": []
   },
   "outputs": [
    {
     "name": "stdout",
     "output_type": "stream",
     "text": [
      "Row-major order:\n",
      "[1 2 3 4 5 6 7 8 9]\n",
      "[[1 2 3]\n",
      " [4 5 6]\n",
      " [7 8 9]]\n",
      "\n",
      "Column-major order:\n",
      "[1 4 7 2 5 8 3 6 9]\n",
      "[[1 2 3]\n",
      " [4 5 6]\n",
      " [7 8 9]]\n",
      "\n",
      "Row-major to Column-major:\n",
      "[1 4 7 2 5 8 3 6 9]\n",
      "[[1 2 3]\n",
      " [4 5 6]\n",
      " [7 8 9]]\n",
      "\n",
      "Column-major to Row-major:\n",
      "[1 2 3 4 5 6 7 8 9]\n",
      "[[1 2 3]\n",
      " [4 5 6]\n",
      " [7 8 9]]\n"
     ]
    }
   ],
   "source": [
    "# row order, column order\n",
    "\n",
    "arr_c = np.array([[1, 2, 3], [4, 5, 6], [7, 8, 9]], order='C')\n",
    "arr_f = np.array([[1, 2, 3], [4, 5, 6], [7, 8, 9]], order='F')\n",
    "\n",
    "print(\"Row-major order:\")\n",
    "print(arr_c.ravel(order='C'))\n",
    "print(arr_c)\n",
    "# \n",
    "print(\"\\nColumn-major order:\")\n",
    "print(arr_f.ravel(order='F'))\n",
    "print(arr_f)\n",
    "# \n",
    "arr_c_to_f = arr_c.ravel(order='F').reshape(arr_c.shape, order = 'F')\n",
    "arr_f_to_c = arr_f.ravel(order='C').reshape(arr_f.shape, order = 'C')\n",
    "# this gets mondo confusing.. \n",
    "# add lots of comments\n",
    "# even if they explain the code over and over\n",
    "# over-communicate - confusion confuses\n",
    "print(\"\\nRow-major to Column-major:\")\n",
    "print(arr_c_to_f.ravel(order='F'))\n",
    "print(arr_c_to_f)\n",
    "print(\"\\nColumn-major to Row-major:\")\n",
    "print(arr_f_to_c.ravel(order='C'))\n",
    "print(arr_f_to_c)"
   ]
  },
  {
   "cell_type": "code",
   "execution_count": 22,
   "id": "531c8280-1cf3-41ac-a597-43312d16de49",
   "metadata": {
    "editable": true,
    "slideshow": {
     "slide_type": ""
    },
    "tags": []
   },
   "outputs": [
    {
     "name": "stdout",
     "output_type": "stream",
     "text": [
      "Memory locations for C-order:\n",
      "1 <memory at 0x0000019C31A560C0>\n",
      "2 <memory at 0x0000019C31A560C0>\n",
      "3 <memory at 0x0000019C31A560C0>\n",
      "4 <memory at 0x0000019C31A560C0>\n",
      "5 <memory at 0x0000019C31A560C0>\n",
      "6 <memory at 0x0000019C31A560C0>\n",
      "7 <memory at 0x0000019C31A560C0>\n",
      "8 <memory at 0x0000019C31A560C0>\n",
      "9 <memory at 0x0000019C31A560C0>\n",
      "\n",
      "Memory locations for F-order:\n",
      "1 <memory at 0x0000019C31A560C0>\n",
      "2 <memory at 0x0000019C31A560C0>\n",
      "3 <memory at 0x0000019C31A560C0>\n",
      "4 <memory at 0x0000019C31A560C0>\n",
      "5 <memory at 0x0000019C31A560C0>\n",
      "6 <memory at 0x0000019C31A560C0>\n",
      "7 <memory at 0x0000019C31A560C0>\n",
      "8 <memory at 0x0000019C31A560C0>\n",
      "9 <memory at 0x0000019C31A560C0>\n"
     ]
    }
   ],
   "source": [
    "def print_memory(arr):\n",
    "    for i in range(arr.shape[0]):\n",
    "        for j in range(arr.shape[1]):\n",
    "            print(arr[i, j], arr[i, j].data)\n",
    "\n",
    "print(\"Memory locations for C-order:\")\n",
    "print_memory(arr_c)\n",
    "print(\"\\nMemory locations for F-order:\")\n",
    "print_memory(arr_f)"
   ]
  }
 ],
 "metadata": {
  "kernelspec": {
   "display_name": "Python 3 (ipykernel)",
   "language": "python",
   "name": "python3"
  },
  "language_info": {
   "codemirror_mode": {
    "name": "ipython",
    "version": 3
   },
   "file_extension": ".py",
   "mimetype": "text/x-python",
   "name": "python",
   "nbconvert_exporter": "python",
   "pygments_lexer": "ipython3",
   "version": "3.11.4"
  }
 },
 "nbformat": 4,
 "nbformat_minor": 5
}
