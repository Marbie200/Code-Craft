{
  "nbformat": 4,
  "nbformat_minor": 0,
  "metadata": {
    "colab": {
      "provenance": [],
      "authorship_tag": "ABX9TyPnGP8KncYt25UmKm6TXEa1",
      "include_colab_link": true
    },
    "kernelspec": {
      "name": "python3",
      "display_name": "Python 3"
    },
    "language_info": {
      "name": "python"
    }
  },
  "cells": [
    {
      "cell_type": "markdown",
      "metadata": {
        "id": "view-in-github",
        "colab_type": "text"
      },
      "source": [
        "<a href=\"https://colab.research.google.com/github/shauryashaurya/learn-data-munging/blob/main/02.000%20(optional)%20Setup_Spark_in_Google_Colab.ipynb\" target=\"_parent\"><img src=\"https://colab.research.google.com/assets/colab-badge.svg\" alt=\"Open In Colab\"/></a>"
      ]
    },
    {
      "cell_type": "code",
      "execution_count": 3,
      "metadata": {
        "colab": {
          "base_uri": "https://localhost:8080/"
        },
        "id": "rQ2J1c0zRg7D",
        "outputId": "46f7c939-4a29-45e2-da07-1cc353346e08"
      },
      "outputs": [
        {
          "output_type": "stream",
          "name": "stdout",
          "text": [
            "NAME=\"Ubuntu\"\n",
            "VERSION=\"18.04.6 LTS (Bionic Beaver)\"\n",
            "ID=ubuntu\n",
            "ID_LIKE=debian\n",
            "PRETTY_NAME=\"Ubuntu 18.04.6 LTS\"\n",
            "VERSION_ID=\"18.04\"\n",
            "HOME_URL=\"https://www.ubuntu.com/\"\n",
            "SUPPORT_URL=\"https://help.ubuntu.com/\"\n",
            "BUG_REPORT_URL=\"https://bugs.launchpad.net/ubuntu/\"\n",
            "PRIVACY_POLICY_URL=\"https://www.ubuntu.com/legal/terms-and-policies/privacy-policy\"\n",
            "VERSION_CODENAME=bionic\n",
            "UBUNTU_CODENAME=bionic\n"
          ]
        }
      ],
      "source": [
        "# find out OS details\n",
        "! cat /etc/os-release"
      ]
    },
    {
      "cell_type": "code",
      "source": [
        "# see if java is available\n",
        "! java -version"
      ],
      "metadata": {
        "colab": {
          "base_uri": "https://localhost:8080/"
        },
        "id": "_Pt_uDtJRko8",
        "outputId": "1afaa5ae-fa82-4e9a-bc28-fb25a12a1989"
      },
      "execution_count": 20,
      "outputs": [
        {
          "output_type": "stream",
          "name": "stdout",
          "text": [
            "openjdk version \"11.0.17\" 2022-10-18\n",
            "OpenJDK Runtime Environment (build 11.0.17+8-post-Ubuntu-1ubuntu218.04)\n",
            "OpenJDK 64-Bit Server VM (build 11.0.17+8-post-Ubuntu-1ubuntu218.04, mixed mode, sharing)\n"
          ]
        }
      ]
    },
    {
      "cell_type": "code",
      "source": [
        "# spark needs JAVA_HOME and SPARK_HOME variables set.\n",
        "# to do that\n",
        "# we've got to locate java\n",
        "! whereis java"
      ],
      "metadata": {
        "colab": {
          "base_uri": "https://localhost:8080/"
        },
        "id": "jycPMjnJWUlG",
        "outputId": "a4c44a9e-4348-437e-bf5a-de96c1701d56"
      },
      "execution_count": 23,
      "outputs": [
        {
          "output_type": "stream",
          "name": "stdout",
          "text": [
            "java: /usr/bin/java /usr/share/java /usr/share/man/man1/java.1.gz\n"
          ]
        }
      ]
    },
    {
      "cell_type": "code",
      "source": [
        "# let's check more details so we can supply exact details to JAVA_HOME\n",
        "! find / -iname \"*openjdk-*\""
      ],
      "metadata": {
        "colab": {
          "base_uri": "https://localhost:8080/"
        },
        "id": "2BkgXWcdWxje",
        "outputId": "602450d0-23f5-4495-e73c-5c13a513b261"
      },
      "execution_count": 22,
      "outputs": [
        {
          "output_type": "stream",
          "name": "stdout",
          "text": [
            "/var/lib/dpkg/info/openjdk-11-jdk-headless:amd64.prerm\n",
            "/var/lib/dpkg/info/openjdk-11-jre-headless:amd64.conffiles\n",
            "/var/lib/dpkg/info/openjdk-11-jdk-headless:amd64.md5sums\n",
            "/var/lib/dpkg/info/openjdk-11-jre-headless:amd64.list\n",
            "/var/lib/dpkg/info/openjdk-11-jre-headless:amd64.postinst\n",
            "/var/lib/dpkg/info/openjdk-11-jdk-headless:amd64.list\n",
            "/var/lib/dpkg/info/openjdk-11-jre:amd64.prerm\n",
            "/var/lib/dpkg/info/openjdk-11-jre:amd64.md5sums\n",
            "/var/lib/dpkg/info/openjdk-11-jre:amd64.postinst\n",
            "/var/lib/dpkg/info/openjdk-11-jre:amd64.list\n",
            "/var/lib/dpkg/info/openjdk-11-jdk-headless:amd64.postinst\n",
            "/var/lib/dpkg/info/openjdk-11-jre-headless:amd64.prerm\n",
            "/var/lib/dpkg/info/openjdk-11-jdk-headless:amd64.preinst\n",
            "/var/lib/dpkg/info/openjdk-11-jre-headless:amd64.md5sums\n",
            "/var/lib/dpkg/info/openjdk-11-jre-headless:amd64.postrm\n",
            "/usr/lib/jvm/java-11-openjdk-amd64\n",
            "/usr/lib/jvm/.java-1.11.0-openjdk-amd64.jinfo\n",
            "/usr/lib/jvm/java-1.11.0-openjdk-amd64\n",
            "/usr/lib/debug/usr/lib/jvm/java-11-openjdk-amd64\n",
            "/usr/lib/debug/usr/lib/jvm/java-1.11.0-openjdk-amd64\n",
            "/usr/share/pixmaps/openjdk-11.xpm\n",
            "/usr/share/lintian/overrides/openjdk-11-jre\n",
            "/usr/share/lintian/overrides/openjdk-11-jre-headless\n",
            "/usr/share/doc/openjdk-11-jre\n",
            "/usr/share/doc/openjdk-11-jdk-headless\n",
            "/usr/share/doc/openjdk-11-jre-headless\n",
            "/usr/share/gdb/auto-load/usr/lib/jvm/java-11-openjdk-amd64\n",
            "/usr/share/apport/package-hooks/source_openjdk-lts.py\n",
            "/usr/share/mime-info/openjdk-11-archive.mime\n",
            "/usr/share/mime-info/openjdk-11-archive.keys\n",
            "/usr/share/applications/openjdk-11-java.desktop\n",
            "/usr/share/application-registry/openjdk-11-archive.applications\n",
            "/usr/share/icons/hicolor/16x16/apps/openjdk-11.png\n",
            "/usr/share/icons/hicolor/24x24/apps/openjdk-11.png\n",
            "/usr/share/icons/hicolor/48x48/apps/openjdk-11.png\n",
            "/usr/share/icons/hicolor/32x32/apps/openjdk-11.png\n",
            "find: ‘/proc/45/task/45/net’: Invalid argument\n",
            "find: ‘/proc/45/net’: Invalid argument\n"
          ]
        }
      ]
    },
    {
      "cell_type": "code",
      "source": [
        "# grab spark\n",
        "# as of Dec 2022, the latest version is 3.2.3, get the link from Apache Spark's website\n",
        "! wget -q https://dlcdn.apache.org/spark/spark-3.2.3/spark-3.2.3-bin-hadoop3.2.tgz\n",
        "# unzip spark\n",
        "!tar xf spark-3.2.3-bin-hadoop3.2.tgz"
      ],
      "metadata": {
        "id": "Akd__KdqSWRF"
      },
      "execution_count": 13,
      "outputs": []
    },
    {
      "cell_type": "code",
      "source": [
        "# install findspark package\n",
        "!pip install -q findspark"
      ],
      "metadata": {
        "id": "53U4TuMITsAi"
      },
      "execution_count": 12,
      "outputs": []
    },
    {
      "cell_type": "code",
      "source": [
        "# now the folder we are working in is \"content\"\n",
        "! ls ../content"
      ],
      "metadata": {
        "colab": {
          "base_uri": "https://localhost:8080/"
        },
        "id": "jlhN6wvBVfrY",
        "outputId": "531952de-1908-40f2-9c9f-b081a30ec699"
      },
      "execution_count": 17,
      "outputs": [
        {
          "output_type": "stream",
          "name": "stdout",
          "text": [
            "sample_data  spark-3.2.3-bin-hadoop3.2\tspark-3.2.3-bin-hadoop3.2.tgz\n"
          ]
        }
      ]
    },
    {
      "cell_type": "code",
      "source": [
        "# got to provide JAVA_HOME and SPARK_HOME vairables\n",
        "import os\n",
        "os.environ[\"JAVA_HOME\"] = \"/usr/lib/jvm/java-11-openjdk-amd64\"\n",
        "os.environ[\"SPARK_HOME\"] = \"/content/spark-3.2.3-bin-hadoop3.2\""
      ],
      "metadata": {
        "id": "W6B0UuvPVtBM"
      },
      "execution_count": 24,
      "outputs": []
    },
    {
      "cell_type": "code",
      "source": [
        "# Now we initialize spark like before"
      ],
      "metadata": {
        "id": "xITc7EjHdHEu"
      },
      "execution_count": null,
      "outputs": []
    },
    {
      "cell_type": "code",
      "source": [
        "# Step 1: initialize findspark\n",
        "import findspark\n",
        "findspark.init()"
      ],
      "metadata": {
        "id": "2jEVYi6mUYZ-"
      },
      "execution_count": 25,
      "outputs": []
    },
    {
      "cell_type": "code",
      "source": [
        "# Step 2: import pyspark\n",
        "import pyspark\n",
        "from pyspark.sql import SparkSession\n",
        "pyspark.__version__"
      ],
      "metadata": {
        "colab": {
          "base_uri": "https://localhost:8080/",
          "height": 35
        },
        "id": "dbblGcx7csTM",
        "outputId": "8adce291-057c-469b-a678-9fd814cda511"
      },
      "execution_count": 26,
      "outputs": [
        {
          "output_type": "execute_result",
          "data": {
            "text/plain": [
              "'3.2.3'"
            ],
            "application/vnd.google.colaboratory.intrinsic+json": {
              "type": "string"
            }
          },
          "metadata": {},
          "execution_count": 26
        }
      ]
    },
    {
      "cell_type": "code",
      "source": [
        "# Step 3: Create a spark session\n",
        "\n",
        "# 'local[1]' indicates spark on 1 core on the local machine (the Ubuntu VM on colab in this case), \n",
        "# specify the number of cores needed - we'll use local[*] in this case to engage as many cores as available\n",
        "# use .config(\"spark.some.config.option\", \"some-value\") for additional configuration\n",
        "\n",
        "spark = SparkSession \\\n",
        "    .builder \\\n",
        "    .master('local[*]') \\\n",
        "    .appName(\"Setup-Spark-in-Google-Colab\") \\\n",
        "    .getOrCreate()"
      ],
      "metadata": {
        "id": "yWqPQh1DcwTb"
      },
      "execution_count": 29,
      "outputs": []
    },
    {
      "cell_type": "code",
      "source": [
        "spark"
      ],
      "metadata": {
        "colab": {
          "base_uri": "https://localhost:8080/",
          "height": 219
        },
        "id": "XjSJWTY8c4xj",
        "outputId": "a8f84a28-9b3e-45ea-e00e-82b5302327cc"
      },
      "execution_count": 30,
      "outputs": [
        {
          "output_type": "execute_result",
          "data": {
            "text/plain": [
              "<pyspark.sql.session.SparkSession at 0x7fa7984db190>"
            ],
            "text/html": [
              "\n",
              "            <div>\n",
              "                <p><b>SparkSession - in-memory</b></p>\n",
              "                \n",
              "        <div>\n",
              "            <p><b>SparkContext</b></p>\n",
              "\n",
              "            <p><a href=\"http://951befdfdece:4040\">Spark UI</a></p>\n",
              "\n",
              "            <dl>\n",
              "              <dt>Version</dt>\n",
              "                <dd><code>v3.2.3</code></dd>\n",
              "              <dt>Master</dt>\n",
              "                <dd><code>local[*]</code></dd>\n",
              "              <dt>AppName</dt>\n",
              "                <dd><code>10+ minutes to pyspark</code></dd>\n",
              "            </dl>\n",
              "        </div>\n",
              "        \n",
              "            </div>\n",
              "        "
            ]
          },
          "metadata": {},
          "execution_count": 30
        }
      ]
    },
    {
      "cell_type": "code",
      "source": [],
      "metadata": {
        "id": "PARHZ5SzdcNA"
      },
      "execution_count": null,
      "outputs": []
    }
  ]
}