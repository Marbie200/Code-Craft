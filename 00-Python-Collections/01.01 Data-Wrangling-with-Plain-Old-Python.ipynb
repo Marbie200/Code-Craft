{
 "cells": [
  {
   "cell_type": "markdown",
   "id": "7e9f4107-83a1-4cf6-8340-9f9454b57eae",
   "metadata": {},
   "source": [
    "# Data Wrangling in Python  \n",
    "*Exploring the __MovieLens__ dataset using the Python Collections module*  \n",
    "\n",
    "**Part 1: Basic collections in Python**"
   ]
  },
  {
   "cell_type": "markdown",
   "id": "f21bef00-086e-44fd-b516-01016a08432d",
   "metadata": {},
   "source": [
    "### <font color='green'>__Support for Google Colab__  </font>  \n",
    "    \n",
    "open this notebook in Colab using the following button:  \n",
    "  \n",
    "<a href=\"https://colab.research.google.com/github/shauryashaurya/learn-data-munging/blob/main/00-Python-Collections/01.01%20Data-Wrangling-with-Plain-Old-Python.ipynb\" target=\"_parent\"><img src=\"https://colab.research.google.com/assets/colab-badge.svg\" alt=\"Open In Colab\"/></a>  \n",
    "\n",
    "  \n",
    "<font color='green'>uncomment and execute the cell below to setup and run this notebook on Google Colab.</font>"
   ]
  },
  {
   "cell_type": "code",
   "execution_count": 1,
   "id": "cbba6f93-2b10-45bf-9975-a41d30ffd219",
   "metadata": {},
   "outputs": [],
   "source": [
    "# # SETUP FOR COLAB: select all the lines below and uncomment (CTRL+/ on windows)\n",
    "# # Let's download and unzip the Small MovieLens Dataset\n",
    "# ! mkdir ./../data\n",
    "# ! wget -q https://files.grouplens.org/datasets/movielens/ml-latest-small.zip\n",
    "# ! unzip ./ml-latest-small.zip -d ./../data/"
   ]
  },
  {
   "cell_type": "markdown",
   "id": "868129c9-cedd-4513-997b-53f9427b6f1a",
   "metadata": {},
   "source": [
    "### Get the _Small_ MovieLens Dataset"
   ]
  },
  {
   "cell_type": "markdown",
   "id": "67afc9a9-31b8-483d-89c1-699867c8700b",
   "metadata": {},
   "source": [
    "We'll use the [small MovieLens dataset](https://grouplens.org/datasets/movielens/#:~:text=Small%3A%20100%2C000%20ratings%20and%203%2C600%20tag%20applications) here.\n",
    "\n",
    "Download it and unzip to the data folder under the name `ml-latest-small`.\n",
    "\n",
    "This dataset expands to about 3.2 MB on your local disk. "
   ]
  },
  {
   "cell_type": "code",
   "execution_count": 2,
   "id": "4a045b14-f578-47ad-9972-a3f5aaba0911",
   "metadata": {},
   "outputs": [],
   "source": [
    "datalocation = \"./../data/ml-latest-small/\""
   ]
  },
  {
   "cell_type": "code",
   "execution_count": 3,
   "id": "0428c276-5ef7-4bde-addf-3bb79337783d",
   "metadata": {},
   "outputs": [],
   "source": [
    "# specify file names\n",
    "file_path_movies = datalocation + \"movies.csv\"\n",
    "file_path_links = datalocation + \"links.csv\"\n",
    "file_path_ratings = datalocation + \"ratings.csv\"\n",
    "file_path_tags = datalocation + \"tags.csv\""
   ]
  },
  {
   "cell_type": "markdown",
   "id": "ef2dcf83-2665-4c52-9134-39afdd9a53c8",
   "metadata": {},
   "source": [
    "#### Exploring the data"
   ]
  },
  {
   "cell_type": "code",
   "execution_count": 4,
   "id": "c30d8a75-d0e1-4b82-b419-fdcfa503cb31",
   "metadata": {},
   "outputs": [],
   "source": [
    "# old school print 10 lines of the file\n",
    "def renderlines(file_name=file_path_movies, numlines=10):\n",
    "    file_data = open(file_name, \"r\")\n",
    "    c = 0\n",
    "    lines_limit = 10\n",
    "    for line in file_data:\n",
    "        print(line)\n",
    "        # condition tested after printing,\n",
    "        # so at least lines_limit+1 lines will be printed\n",
    "        c = c + 1\n",
    "        if c > lines_limit:\n",
    "            break\n",
    "    file_data.close()"
   ]
  },
  {
   "cell_type": "code",
   "execution_count": 5,
   "id": "e1d229de-29ca-4411-a1b7-0c3c5cd4b1c4",
   "metadata": {},
   "outputs": [
    {
     "name": "stdout",
     "output_type": "stream",
     "text": [
      "movieId,title,genres\n",
      "\n",
      "1,Toy Story (1995),Adventure|Animation|Children|Comedy|Fantasy\n",
      "\n",
      "2,Jumanji (1995),Adventure|Children|Fantasy\n",
      "\n",
      "3,Grumpier Old Men (1995),Comedy|Romance\n",
      "\n",
      "4,Waiting to Exhale (1995),Comedy|Drama|Romance\n",
      "\n",
      "5,Father of the Bride Part II (1995),Comedy\n",
      "\n",
      "6,Heat (1995),Action|Crime|Thriller\n",
      "\n",
      "7,Sabrina (1995),Comedy|Romance\n",
      "\n",
      "8,Tom and Huck (1995),Adventure|Children\n",
      "\n",
      "9,Sudden Death (1995),Action\n",
      "\n",
      "10,GoldenEye (1995),Action|Adventure|Thriller\n",
      "\n"
     ]
    }
   ],
   "source": [
    "# movies file is default\n",
    "renderlines()"
   ]
  },
  {
   "cell_type": "code",
   "execution_count": 6,
   "id": "411c845a-bd4d-4522-b9c8-2630c18e768b",
   "metadata": {},
   "outputs": [
    {
     "name": "stdout",
     "output_type": "stream",
     "text": [
      "movieId,imdbId,tmdbId\n",
      "\n",
      "1,0114709,862\n",
      "\n",
      "2,0113497,8844\n",
      "\n",
      "3,0113228,15602\n",
      "\n",
      "4,0114885,31357\n",
      "\n",
      "5,0113041,11862\n",
      "\n",
      "6,0113277,949\n",
      "\n",
      "7,0114319,11860\n",
      "\n",
      "8,0112302,45325\n",
      "\n",
      "9,0114576,9091\n",
      "\n",
      "10,0113189,710\n",
      "\n"
     ]
    }
   ],
   "source": [
    "renderlines(file_path_links, 10)"
   ]
  },
  {
   "cell_type": "code",
   "execution_count": 7,
   "id": "c293c474-0cd8-43e3-956d-59cc4ccbee37",
   "metadata": {},
   "outputs": [
    {
     "name": "stdout",
     "output_type": "stream",
     "text": [
      "userId,movieId,tag,timestamp\n",
      "\n",
      "2,60756,funny,1445714994\n",
      "\n",
      "2,60756,Highly quotable,1445714996\n",
      "\n",
      "2,60756,will ferrell,1445714992\n",
      "\n",
      "2,89774,Boxing story,1445715207\n",
      "\n",
      "2,89774,MMA,1445715200\n",
      "\n",
      "2,89774,Tom Hardy,1445715205\n",
      "\n",
      "2,106782,drugs,1445715054\n",
      "\n",
      "2,106782,Leonardo DiCaprio,1445715051\n",
      "\n",
      "2,106782,Martin Scorsese,1445715056\n",
      "\n",
      "7,48516,way too long,1169687325\n",
      "\n"
     ]
    }
   ],
   "source": [
    "renderlines(file_path_tags, 10)"
   ]
  },
  {
   "cell_type": "code",
   "execution_count": 8,
   "id": "cd8e2849-2d59-42bc-ac79-199a7dca7e62",
   "metadata": {},
   "outputs": [
    {
     "name": "stdout",
     "output_type": "stream",
     "text": [
      "userId,movieId,rating,timestamp\n",
      "\n",
      "1,1,4.0,964982703\n",
      "\n",
      "1,3,4.0,964981247\n",
      "\n",
      "1,6,4.0,964982224\n",
      "\n",
      "1,47,5.0,964983815\n",
      "\n",
      "1,50,5.0,964982931\n",
      "\n",
      "1,70,3.0,964982400\n",
      "\n",
      "1,101,5.0,964980868\n",
      "\n",
      "1,110,4.0,964982176\n",
      "\n",
      "1,151,5.0,964984041\n",
      "\n",
      "1,157,5.0,964984100\n",
      "\n"
     ]
    }
   ],
   "source": [
    "renderlines(file_path_ratings, 10)"
   ]
  },
  {
   "cell_type": "markdown",
   "id": "35aa5acf-5afc-4392-87d4-1dbcedc87d74",
   "metadata": {},
   "source": [
    "### **Basic Python Collections**\n",
    "Examples using the MovieLens Dataset"
   ]
  },
  {
   "cell_type": "markdown",
   "id": "1c21b381-7b00-4fe4-9def-e6cf171bb85a",
   "metadata": {},
   "source": [
    "#### 1. **Lists**\r",
    "Oordered sequences of elements, and they are mutable.\r\n",
    "\r\n",
    "**Example:** Extract all movie titles from the dataset into a list."
   ]
  },
  {
   "cell_type": "code",
   "execution_count": 9,
   "id": "38179ae2-a3fa-495f-9851-854d1f71de96",
   "metadata": {},
   "outputs": [
    {
     "name": "stdout",
     "output_type": "stream",
     "text": [
      "FIRST 5\n",
      "Toy Story (1995)\n",
      "Jumanji (1995)\n",
      "Grumpier Old Men (1995)\n",
      "Waiting to Exhale (1995)\n",
      "Father of the Bride Part II (1995)\n",
      "---\n",
      "LAST 5\n",
      "Black Butler: Book of the Atlantic (2017)\n",
      "No Game No Life: Zero (2017)\n",
      "Flint (2017)\n",
      "Bungo Stray Dogs: Dead Apple (2018)\n",
      "Andrew Dice Clay: Dice Rules (1991)\n"
     ]
    }
   ],
   "source": [
    "# using list comprehensions\n",
    "movie_titles = [\n",
    "    line.split(\",\")[1]\n",
    "    for line in open(\n",
    "        file_path_movies, \"r\", encoding=\"utf-8\", newline=\"\\r\\n\"\n",
    "    ).readlines()[1:]\n",
    "]\n",
    "#\n",
    "print(\"FIRST 5\")\n",
    "print(\"\\n\".join(movie_titles[:5]))  # Print the first 5 movie titles, each in a new line\n",
    "print(\"---\\nLAST 5\")\n",
    "print(\"\\n\".join(movie_titles[-5:]))  # Print the last 5 movie titles, each in a new line"
   ]
  },
  {
   "cell_type": "markdown",
   "id": "3f0c9ee5-8082-4d98-9ac8-3baf642a0ad2",
   "metadata": {},
   "source": [
    "#### 2. **Tuples**\r\n",
    "Tuples are ordered, immutable sequences.\r\n",
    "\r\n",
    "**Example:** Pair each movie with its genres in a tuple."
   ]
  },
  {
   "cell_type": "code",
   "execution_count": 10,
   "id": "38472cf7-6a34-4000-bbc4-30467712996b",
   "metadata": {},
   "outputs": [
    {
     "name": "stdout",
     "output_type": "stream",
     "text": [
      "FIRST 5\n",
      "[('Toy Story (1995)', 'Adventure|Animation|Children|Comedy|Fantasy\\r\\n'), ('Jumanji (1995)', 'Adventure|Children|Fantasy\\r\\n'), ('Grumpier Old Men (1995)', 'Comedy|Romance\\r\\n'), ('Waiting to Exhale (1995)', 'Comedy|Drama|Romance\\r\\n'), ('Father of the Bride Part II (1995)', 'Comedy\\r\\n')]\n",
      "---\n",
      "LAST 5\n",
      "[('Black Butler: Book of the Atlantic (2017)', 'Action|Animation|Comedy|Fantasy\\r\\n'), ('No Game No Life: Zero (2017)', 'Animation|Comedy|Fantasy\\r\\n'), ('Flint (2017)', 'Drama\\r\\n'), ('Bungo Stray Dogs: Dead Apple (2018)', 'Action|Animation\\r\\n'), ('Andrew Dice Clay: Dice Rules (1991)', 'Comedy\\r\\n')]\n"
     ]
    }
   ],
   "source": [
    "# choose the second and third values in the row\n",
    "# read the file\n",
    "# skip the header\n",
    "# built a list of tuples\n",
    "movie_genre_pairs = [\n",
    "    (line.split(\",\")[1], line.split(\",\")[2])\n",
    "    for line in open(\n",
    "        file_path_movies, \"r\", encoding=\"utf-8\", newline=\"\\r\\n\"\n",
    "    ).readlines()[1:]\n",
    "]\n",
    "#\n",
    "print(\"FIRST 5\")\n",
    "print(movie_genre_pairs[:5])  # Print the first 5 (movie, genre) pairs\n",
    "print(\"---\\nLAST 5\")\n",
    "print(movie_genre_pairs[-5:])  # Print the last 5 (movie, genre) pairs"
   ]
  },
  {
   "cell_type": "markdown",
   "id": "3eb72c3c-799c-485e-8980-0e98655c8cf5",
   "metadata": {},
   "source": [
    "#### 3. **Dictionaries**\r\n",
    "Dictionaries map keys to values. They are mutable and keys are unique.\r\n",
    "\r\n",
    "**Example:** Create a dictionary where movie IDs are keys and movie titles are values."
   ]
  },
  {
   "cell_type": "code",
   "execution_count": 11,
   "id": "a61edd7e-59bd-4783-9c18-fb86526d325e",
   "metadata": {},
   "outputs": [
    {
     "name": "stdout",
     "output_type": "stream",
     "text": [
      "FIRST 5\n",
      "[('1', 'Toy Story (1995)'), ('2', 'Jumanji (1995)'), ('3', 'Grumpier Old Men (1995)'), ('4', 'Waiting to Exhale (1995)'), ('5', 'Father of the Bride Part II (1995)')]\n",
      "---\n",
      "LAST 5\n",
      "[('193581', 'Black Butler: Book of the Atlantic (2017)'), ('193583', 'No Game No Life: Zero (2017)'), ('193585', 'Flint (2017)'), ('193587', 'Bungo Stray Dogs: Dead Apple (2018)'), ('193609', 'Andrew Dice Clay: Dice Rules (1991)')]\n"
     ]
    }
   ],
   "source": [
    "movie_dict = {}\n",
    "with open(file_path_movies, \"r\", encoding=\"utf-8\", newline=\"\\r\\n\") as file:\n",
    "    next(file)  # skip the header\n",
    "    for line in file:\n",
    "        data = line.split(\",\")\n",
    "        movie_id, title = data[0], data[1]\n",
    "        movie_dict[movie_id] = title\n",
    "#\n",
    "print(\"FIRST 5\")\n",
    "print(list(movie_dict.items())[:5])  # Print the first 5 id-title pairs\n",
    "print(\"---\\nLAST 5\")\n",
    "print(list(movie_dict.items())[-5:])  # Print the last 5 id-title pairs"
   ]
  },
  {
   "cell_type": "markdown",
   "id": "57a276a3-e3d8-4336-9212-251e2535a38d",
   "metadata": {},
   "source": [
    "with this dictionary, we can query a movie title using it's id"
   ]
  },
  {
   "cell_type": "code",
   "execution_count": 12,
   "id": "98670faa-8c56-430c-99a7-f57c1a107037",
   "metadata": {},
   "outputs": [
    {
     "data": {
      "text/plain": [
       "'Star Wars: Episode IV - A New Hope (1977)'"
      ]
     },
     "execution_count": 12,
     "metadata": {},
     "output_type": "execute_result"
    }
   ],
   "source": [
    "movie_dict[\"260\"]"
   ]
  },
  {
   "cell_type": "markdown",
   "id": "9aac5359-3933-4ac8-bf7a-d2dabcbd5e9d",
   "metadata": {},
   "source": [
    "#### 4. **Sets**\r\n",
    "Sets are unordered collections of unique elements.\r\n",
    "\r\n",
    "**Example:** Extract all unique genres from the dataset."
   ]
  },
  {
   "cell_type": "code",
   "execution_count": 13,
   "id": "2ce0da00-c2c1-479e-b7d2-b5cab5e48d3b",
   "metadata": {},
   "outputs": [
    {
     "name": "stdout",
     "output_type": "stream",
     "text": [
      "[' The (1995)\"']\n",
      "[' The (Cité des enfants perdus']\n",
      "[' the Beloved Country (1995)\"']\n",
      "[' The (1995)\"']\n",
      "[' The (1995)\"']\n",
      "[' The (Postino']\n",
      "[' The (1995)\"']\n",
      "[' Les (1995)\"']\n",
      "[' The (1995)\"']\n",
      "[' The (1996)\"']\n",
      "[' The (Badkonake sefid) (1995)\"']\n",
      "[' La) (1995)\"']\n",
      "[' The (1995)\"']\n",
      "[' The (1995)\"']\n",
      "[' Steal Little (1995)\"']\n",
      "{' The (1973)\"', ' The (1988)\"', ' The) (1971)\"', ' The (Dîner de cons', ' Missouri (2017)\"', ' The (2010)\"', ' The (Yôkai daisensô) (2005)\"', ' The (1939)\"', ' The (Rayon vert', ' The (Zatôichi) (2003)\"', ' The (Bad ma ra khahad bord) (1999)\"', ' Lenin! (2003)\"', ' the Bad', ' La (1954)\"', ' Mrs. Brown) (1997)\"', ' The (1980)\"', ' The (Giardino dei Finzi-Contini', ' The (Vie rêvée des anges', ' An (2006)\"', ' The (Flickan som lekte med elden) (2009)\"', ' Dry Place', ' The (Scaphandre et le papillon', ' The) (Jing wu men) (1972)\"', ' A (Un Prophète) (2009)\"', ' A (1923)\"', ' Le (Raven', ' The (Les quatre cents coups) (1959)\"', ' The (1997)\"', ' The (1996)\"', ' The (Jui kuen II) (1994)\"', ' Sam (1972)\"', ' The (Zerkalo) (1975)\"', ' Stupid (1964)\"', ' So Close (In weiter Ferne', ' The (Imbalsamatore', ' A (1940)\"', ' Where Art Thou? (2000)\"', ' The (Aparajito) (1957)\"', ' The (Gattopardo', ' The (1916)\"', ' A (Giornata particolare', ' Tonya (2017)\"', ' the Witch and the Wardrobe', ' The (Ville est tranquille', ' A (1987)\"', ' Companheiro?) (1997)\"', ' The (Xi yan) (1993)\"', ' A (2004)\"', ' The (Les invasions barbares) (2003)\"', ' The (Voskhozhdeniye) (1977)\"', ' La (Môme', ' The (Die Unabsichtliche Entführung der Frau Elfriede Ott) (2010)\"', ' I Love You Not (1996)\"', ' A (1938)\"', ' The (Chiavi di casa', ' Mine and Ours (1968)\"', ' Maybe (2008)\"', ' and Good Luck. (2005)\"', ' The (a.k.a. The Secret of My Success) (1987)\"', ' The (a.k.a. Malli) (Theeviravaathi) (1998)\"', ' The (L\\'illusionniste) (2010)\"', ' The (Xiao quan guai zhao) (1979)\"', ' The (Offret - Sacraficatio) (1986)\"', ' Le (2003)\"', ' The (Atanarjuat) (2001)\"', ' The (Espinazo del diablo', ' The (Toki o kakeru shôjo) (2006)\"', ' c\\'est l\\'aventure) (1972)\"', ' A (Un  condamné à mort s\\'est échappé ou Le vent souffle où il veut) (1956)\"', ' The (Montaña sagrada', ' The) (1993)\"', ' Summer', ' The (Salute of the Jugger', ' An (1981)\"', ' An (1990)\"', ' The (Ningen no joken I) (1959)\"', ' The (Ucho) (1970)\"', ' An (2008)\"', ' ce héros.) (1991)\"', ' A (1949)\"', ' The (Das leben der Anderen) (2006)\"', ' The (a.k.a. Chavez: Inside the Coup) (2003)\"', ' The (2011)\"', ' Le (Godson', ' A (Un coeur en hiver) (1992)\"', ' Texas (1999)\"', ' Something', ' eine Symphonie des Grauens) (1922)\"', ' El (1984)\"', ' The (De weg naar het zuiden) (1981)\"', ' A (1985)\"', ' The (1945)\"', ' The (1986)\"', ' Les) (1959)\"', ' The (1944)\"', ' A (1954)\"', ' An (1982)\"', ' Texas Pop. 81 (1998)\"', ' The (1984)\"', ' An (1998)\"', ' The (1961)\"', ' The (Mostro', ' An (Liaison pornographique', ' The (Città delle donne', 'Fantasy', ' The) (2011)\"', ' The (Ultimo bacio', ' The (Beast', ' The (1942)\"', ' The (Retour de Martin Guerre', ' Los) (2002)\"', ' The (1955)\"', ' The (Ehe der Maria Braun', ' Das (Boat', ' The (Histoire d\\'O) (1975)\"', ' Voyager (1942)\"', ' A (Ying hung boon sik II) (1987)\"', ' The (Double Vie de Véronique', ' The (1989)\"', \" L' (Adventure\", ' A (1974)\"', ' Should We See It from the Side or the Bottom? (2017)\"', ' L\\') (2002)\"', ' The (1915)\"', ' The (House of Usher) (1960)\"', ' The (Final Destination 4) (Final Destination in 3-D', ' The (1934)\"', ' Part 1 (2012)\"', ' The: The Curse of the Judas Chalice (2008)\"', ' The) (Heisei tanuki gassen pompoko) (1994)\"', ' La (Nikita) (1990)\"', ' La) (1995)\"', ' A (Un long dimanche de fiançailles) (2004)\"', ' Inc. (2001)\"', ' Alaska (1999)\"', ' Les) (1974)\"', ' The (1936)\"', ' A (1982)\"', ' Gossip & Trickery (2017)\"', ' The (Katakuri-ke no kôfuku) (2001)\"', ' The (Klass) (2007)\"', ' Myself & Irene (2000)\"', ' God! You Devil (1984)\"', ' The (1966)\"', ' A (2001)\"', ' The (Testimone dello sposo', ' Charlie Brown (1966)\"', ' A) (1994)\"', ' The) (Sol del membrillo', ' un ami qui vous veut du bien) (2000)\"', ' The (Bride of Frankenstein) (1935)\"', ' The (Ningen no joken III) (1961)\"', ' Mr. Chips (1939)\"', ' A (1991)\"', ' The (La collectionneuse) (1967)\"', ' The (Unhold', ' A (1983)\"', ' The (Jungfrukällan) (1960)\"', ' The (a.k.a. Omen III: The Final Conflict) (1981)\"', ' The (Locataire', ' The (a.k.a. Warrior King) (Tom yum goong) (2005)\"', ' The (Anglaise et le duc', ' The (Placard', ' The (Ultimo uomo della Terra', ' The (Das Testament des Dr. Mabuse) (1933)\"', ' Miss Simone? (2015)\"', ' The (1949)\"', 'Crime\\r\\n', ' Les (1995)\"', ' Big City (1988)\"', ' The (Vangelo secondo Matteo', ' The (Amerikanische Freund', ' New York (1977)\"', ' The (1933)\"', ' Robot (2004)\"', ' La) (1982)\"', ' The (Kivenpyörittäjän kylä) (1995)\"', ' A (2013)\"', ' The (1924)\"', ' The (Tystnaden) (1963)\"', ' Pa. (2001)\"', ' A (Janghwa', ' Le) (1949)\"', \" The (Passion de Jeanne d'Arc\", ' A (1997)\"', ' The (1979)\"', ' Caesar! (2016)\"', ' Madly', ' A (1935)\"', 'Drama', ' The (a.k.a. Dangerous Female) (1931)\"', ' The (2004)\"', ' Me and Dupree (2006)\"', ' The (1972)\"', ' The (L\\'enfant) (2005)\"', ' The) (1951)\"', ' The (1990)\"', ' Then the Fireworks (1997)\"', ' The (Sixth Man', ' Easy Credit and the Era of Predatory Lenders (2006)\"', ' A (Ningen Johatsu) (1967)\"', ' A) (1991)\"', ' The (Homme qui plantait des arbres', ' The (Män som hatar kvinnor) (2009)\"', ' 3 Weeks and 2 Days (4 luni', ' The (Los Amantes del Círculo Polar) (1998)\"', ' El (1970)\"', ' A (2002)\"', ' The (Danza de la realidad', ' The (Stille nach dem Schuß', ' The (Tulitikkutehtaan tyttö) (1990)\"', ' The (Phörpa) (1999)\"', ' The (Uccello dalle piume di cristallo', ' The (1975)\"', ' The (Xin du bi dao) (1971)\"', ' The (1964)\"', ' Part 2 (2013)\"', ' The (Día de la Bestia', ' Wrong Number (1948)\"', ' A (1999)\"', ' The) (2001)\"', ' The (Tayna tretey planety) (1981)\"', ' La) (1994)\"', ' The (Amant', 'Mystery', ' Blood Out (1993)\"', ' The (La Zona) (2007)\"', ' A (2010)\"', ' The (Mies vailla menneisyyttä) (2002)\"', ' The (Koto no ha no niwa) (2013)\"', ' The (1960)\"', ' Gawker and Trials of a Free Press (2017)\"', ' A (Jodaeiye Nader az Simin) (2011)\"', ' The (Parapluies de Cherbourg', ' The (La meglio gioventù) (2003)\"', ' The (Appartement', ' the Red-Nosed Reindeer (1964)\"', 'Mystery\\r\\n', ' Women & Children (2014)\"', ' Professore! (Io speriamo che me la cavo) (1992)\"', ' The (Chûgoku no chôjin) (1998)\"', ' The (Les douze travaux d\\'Astérix) (1976)\"', ' The (Crimen Ferpecto) (Ferpect Crime) (2004)\"', ' An (Un été inoubliable) (1994)\"', ' An (1995)\"', ' The (Geschichte vom weinenden Kamel', ' The (Name der Rose', ' I Love You (2009)\"', ' The (Les glaneurs et la glaneuse) (2000)\"', ' The (1932)\"', ' The (1952)\"', ' The (1926)\"', ' The (Charme discret de la bourgeoisie', ' Sell Hard', ' Le (2009)\"', 'Animation\\r\\n', ' The) (Fate ignoranti', \" The (Femme d'à côté\", ' The (Jin líng shí san chai) (2011)\"', ' The (Les Femmes du 6ème Étage) (2010)\"', ' His Life and Music', ' Open City (a.k.a. Open City) (Roma', ' The (1995)\"', ' The (Fast and the Furious 3', ' The (1958)\"', ' Da (2000)\"', ' A (1988)\"', 'Action\\r\\n', ' A (1937)\"', ' A (1959)\"', ' the Jury (1982)\"', ' The (1954)\"', ' Pussycat (1965)\"', 'Western', ' A (Zhestokij Romans) (1984)\"', ' A (1971)\"', ' The (Planète sauvage', '000 Fingers of Dr. T', ' The (Hyôryuu-gai) (2000)\"', ' The (Blaue Engel', ' A (1994)\"', ' The (Immaturi) (2011)\"', ' The (Brice de Nice) (2005)\"', ' The (1987)\"', ' the Ironman (Tetsuo) (1988)\"', 'Action', ' The (Bacheha-Ye Aseman) (1997)\"', ' I Blew Up the Kid (1992)\"', ' The (Cabinet des Dr. Caligari.', ' A (1996)\"', ' Last Summer (1959)\"', ' The (Apur Sansar) (1959)\"', ' The (Conformista', ' Part II', ' The (Dernier métro', ' The (Choristes', ' Fast Women (2000)\"', ' The (Festen) (1998)\"', ' The (2015)\"', ' The (Huitième jour', ' Texas (1984)\"', ' The (a.k.a. Code Name: Trixie) (1973)\"', ' The (1953)\"', ' The (1928)\"', ' The (1948)\"', ' Part III', ' Himself (1983)\"', \" The (Déclin de l'empire américain\", ' El) (2006)\"', ' The (Der Knochenmann) (2009)\"', ' A (a.k.a. Sequins) (Brodeuses) (2004)\"', ' The (2014)\"', ' The (2009)\"', ' Rest & Motion (1993)\"', ' The (Hwal) (2005)\"', ' I) (1963)\"', ' Jr. (1928)\"', ' A (Krótki film o milosci) (1988)\"', ' The (Ballon rouge', ' Caucasian Style (Kavkazskaya plennitsa) (1967)\"', ' One Night (Deux jours', ' Vietnam (1987)\"', ' Hot Summer', ' Jr. (1999)\"', ' The (Kari-gurashi no Arietti) (2010)\"', ' A (1958)\"', ' The (Dai-bosatsu tôge) (1966)\"', ' A (1993)\"', ' The (Bambini ci guardano', ' Burma! (1945)\"', ' The (a.k.a. LXG) (2003)\"', ' der Zorn Gottes) (1972)\"', ' The (1982)\"', ' Thongs and Perfect Snogging (2008)\"', ' The (Kaze tachinu) (2013)\"', ' An (2012)\"', ' The) (1952)\"', ' M.D. (1963)\"', ' The (Sindrome di Stendhal', ' Der) (2004)\"', ' The (Entre les murs) (2008)\"', ' The (1962)\"', ' The (1970)\"', ' La) (1960)\"', ' The (Professione: reporter) (1975)\"', 'Drama\\r\\n', ' The (Portiere di notte', ' Caution (Se', ' Hello: On Broadway (2017)\"', ' Les (1998)\"', ' The (a.k.a. The Legend of the Pianist on the Ocean) (Leggenda del pianista sull\\'oceano) (1998)\"', ' The (2012)\"', ' The (Die xue shuang xiong) (1989)\"', ' Trains & Automobiles (1987)\"', ' The (Beloe solntse pustyni) (1970)\"', ' A (Per un pugno di dollari) (1964)\"', ' kimi ni) (1997)\"', ' The (Gwoemul) (2006)\"', ' The (Stanza del figlio', ' Le (1994)\"', 'Film-Noir\\r\\n', ' A (2007)\"', ' The (Le professionnel) (1981)\"', ' I\\'m A Zombie (2012)\"', ' Book and Candle (1958)\"', ' The (Legend of Fong Sai-Yuk', ' The: Dorkness Rising (2008)\"', ' The (1940)\"', ' Le (Hole', 'Western\\r\\n', ' A (Ying hung boon sik) (1986)\"', ' The (1992)\"', ' The (Trolljegeren) (2010)\"', ' The (La Caduta degli dei) (1969)\"', ' The (1993)\"', ' An (Conte d\\'automne) (1998)\"', ' The (La historia oficial) (1985)\"', ' A (1992)\"', ' God! (1977)\"', ' The (Letyat zhuravli) (1957)\"', ' A (Conte d\\'été) (1996)\"', ' The (1994)\"', ' La (2005)\"', ' Goethe 2 (2015)\"', ' The (Mar adentro) (2004)\"', ' The (1938)\"', ' The (Ours', ' A (1984)\"', ' The (La promesse) (1996)\"', 'Musical', ' The (La science des rêves) (2006)\"', ' The (Rekopis znaleziony w Saragossie) (1965)\"', ' The (Rang-e khoda) (1999)\"', ' The (Auf der anderen Seite) (2007)\"', ' The (1991)\"', ' Le) (1970)\"', ' An (2005)\"', ' Stupid', ' The (Sib) (1998)\"', ' The (1978)\"', ' The) (2009)\"', ' La (1960)\"', ' The (Visiteurs', ' The (1943)\"', ' Mine and Ours (2005)\"', ' Today and Tomorrow (Ieri', ' The) (1955)\"', ' The (Dekalog) (1989)\"', ' A (Xia nu) (1971)\"', ' The (1967)\"', 'Film-Noir', ' She Said (1991)\"', ' The (Imposible', 'Horror', ' Rosie (2014)\"', ' USA (2015)\"', ' The (Forbrydelsens Element) (1984)\"', ' une étrange aventure de Lemmy Caution) (1965)\"', ' A (1998)\"', ' The (Mad Max 2) (1981)\"', ' I Love You (Paris', ' The (Chelovek s kino-apparatom) (1929)\"', '000 Leagues Under the Sea (1916)\"', ' The (Die Fetten Jahre sind vorbei) (2004)\"', ' Le) (2001)\"', ' Hear No Evil (1989)\"', ' An (1991)\"', ' A (1989)\"', ' The (1921)\"', ' The (2000)\"', ' and Heaven Too (1940)\"', ' Like Son (1987)\"', ' Don\\'t Run (1966)\"', ' The (Boum', ' An (1951)\"', ' An (1997)\"', ' The (1969)\"', ' in the white foam. (1984)\"', ' 60 (2016)\"', ' Los) (2007)\"', ' The (Surrogate', ' Le) (1957)\"', ' Don\\'t They? (1969)\"', ' The (Dubei dao) (1967)\"', ' Cheap & Out of Control (1997)\"', ' The) (1968)\"', ' The (La decima vittima) (1965)\"', ' La) (1987)\"', ' She Wolf of the SS (1974)\"', ' So Below (2014)\"', ' Horrible Life of Leni Riefenstahl', ' The (Brilliantovaya ruka) (1968)\"', ' Stroke of Genius (2004)\"', ' The (1971)\"', ' The (Fille sur le pont', ' The (La Horde) (2009)\"', ' Sweet Charlotte (1964)\"', ' Mad', ' The (1977)\"', ' An (2000)\"', ' The (De helaasheid der dingen) (2009)\"', 'Sci-Fi', ' Little Sheba (1952)\"', ' White & Blonde (2003)\"', ' A (2008)\"', ' The (Bian Lian) (1996)\"', 'Documentary\\r\\n', ' A (1932)\"', ' Les (2000)\"', ' A (Chi Trova Un Amico', ' The (Narayama bushiko) (1983)\"', ' The (2007)\"', ' The (École de la chair', ' The (Vozvrashcheniye) (2003)\"', ' The (Yi dai zong shi) (2013)\"', ' The (Ningen no joken II) (1959)\"', ' An (1989)\"', ' The (Wo de fu qin mu qin) (1999)\"', ' The (Jagten) (2012)\"', ' The (1976)\"', ' The (1925)\"', ' Queen of the Desert', ' The (Koneko monogatari) (1986)\"', ' The) (Paura nella città dei morti viventi) (1980)\"', ' The (Mùi du du xhan - L\\'odeur de la papaye verte) (1993)\"', ' The (Shura Yukihime) (2001)\"', ' An (1999)\"', ' A (2012)\"', ' The) (1981)\"', ' Hidden Dragon (Wo hu cang long) (2000)\"', ' The (1983)\"', ' Le) (1963)\"', ' Stock & Two Smoking Barrels (1998)\"', ' A (Dalkomhan insaeng) (2005)\"', ' The (Badkonake sefid) (1995)\"', ' The (1947)\"', ' The (Die Fälscher) (2007)\"', ' The (El secreto de sus ojos) (2009)\"', ' The (Boum 2', ' The (Gin gwai) (Jian gui) (2002)\"', ' The (Hussard sur le toit', ' The (Migliore offerta', ' The (La doublure) (2006)\"', \" The (battre mon coeur s'est arrêté\", ' The (Ciénaga', ' The (Kaguyahime no monogatari) (2013)\"', 'Comedy', '(no genres listed)\\r\\n', ' The (1930)\"', 'Adventure', ' The) (2003)\"', ' The (Salaire de la peur', ' The (Grand bleu', ' The (First Sequence) (2009)\"', ' I (a.k.a. The Young and the Passionate) (1953)\"', ' The (1931)\"', ' A (1986)\"', ' The (La tigre e la neve) (2005)\"', ' The (1963)\"', ' The (Ladri di saponette) (1989)\"', ' Man (2009)\"', ' Legs and Tails (1986)\"', ' The (2001)\"', ' Walk on Girl (2017)\"', 'Children', ' La) (2000)\"', 'IMAX\\r\\n', ' The (a.k.a. Return of the Dragon) (Meng long guo jiang) (1972)\"', ' La) (1981)\"', ' An (Chien andalou', ' The (Fists of Fury) (Tang shan da xiong) (1971)\"', ' The (Olvidados', ' But That\\'s OK (Saibogujiman kwenchana) (2006)\"', ' King of the Wild Frontier (1955)\"', ' You Sucker (1971)\"', ' The (Dak miu mai shing) (2001)\"', 'Children\\r\\n', ' White Cat (Crna macka', ' Call... (2012)\"', ' A (Scrooge) (1951)\"', ' Boys! (1966)\"', ' Thanks for Everything! Julie Newmar (1995)\"', ' Le (Last Battle', ' El) (2001)\"', ' The (Blechtrommel', 'Romance\\r\\n', ' Llena eres de gracia) (2004)\"', ' The (Kakushi-toride no san-akunin) (1958)\"', ' The (Orfanato', '000 Days on Earth (2014)\"', ' A (1947)\"', ' Beth Cooper (2009)\"', ' Der) (1987)\"', ' Les) (1996)\"', ' A (1995)\"', ' The (1927)\"', ' We Shrunk Ourselves (1997)\"', ' The (Diarios de motocicleta) (2004)\"', 'Documentary', ' The (Grønne slagtere', ' The (Welle', ' The (La vieille dame et les pigeons) (1997)\"', 'Adventure\\r\\n', ' Longer and Uncut (1999)\"', '000 BC (2008)\"', ' A (2003)\"', ' the Bad and the Ugly', ' A (2005)\"', 'Sci-Fi\\r\\n', ' A (1961)\"', ' The (Passion', ' The) (1984)\"', ' The (Krieger und die Kaiserin', ' Corrina (1994)\"', ' Esq. (2017)\"', ' An (2009)\"', ' Les) (1953)\"', ' La) (2005)\"', ' The: Wicked Prayer (2005)\"', ' L\\' (1934)\"', ' The (Bikur Ha-Tizmoret) (2007)\"', ' The (1950)\"', ' or Enjoy Your Bath! (Ironiya sudby', ' Guido (1997)\"', ' Il (2008)\"', ' The (Das weiße Band) (2009)\"', ' The (Dayereh) (2000)\"', ' God! Book II (1980)\"', ' Inc. (2008)\"', ' Il) (1992)\"', ' The: The Case of the Christmas Caper (1995)\"', ' Ron Burgundy (2004)\"', ' The (1965)\"', 'Romance', ' The (Le mari de la coiffeuse) (1990)\"', ' Le (Red Circle', ' The (La pianiste) (2001)\"', ' The (1974)\"', ' The (1985)\"', ' Le) (1990)\"', ' An (1957)\"', ' A (femme est une femme', ' Like Son (2011)\"', ' Une) (1988)\"', ' The (1935)\"', ' The (1946)\"', ' La) (2003)\"', ' Way Back', ' The (Jing ke ci qin wang) (1999)\"', ' Food', ' Bang', ' The (1981)\"', ' Les) (1992)\"', ' Deadly Night (1984)\"', ' Stronger', ' The  (2009)\"', ' The (Cité des enfants perdus', ' The (Marcelino pan y vino) (1955)\"', ' The (1951)\"', ' The (Boy in the Striped Pyjamas', 'Horror\\r\\n', ' The (2003)\"', ' The Hairy Bird) (1998)\"', ' An (1986)\"', ' The (1956)\"', ' The (La prima cosa bella) (2010)\"', ' The (1998)\"', ' The (Grande Bellezza', ' The (1957)\"', ' The (2013)\"', ' The (Luftslottet som sprängdes) (2009)\"', ' Dolly! (1969)\"', 'Thriller\\r\\n', ' The (Violon rouge', ' The (Spoorloos) (1988)\"', ' The (Carabiniers', ' Who Lives at Home (2012)\"', ' The (Abominable Snowman of the Himalayas', ' The (Gatto a nove code', ' A (1957)\"', 'Animation', ' A (Panique au village) (2009)\"', ' The (1999)\"', ' Tiger Lily? (1966)\"', ' The (Les triplettes de Belleville) (2003)\"', ' Simon (2018)\"', ' The (Idioterne) (1998)\"', ' Interrupted (1999)\"', '000 Leagues Under the Sea (1954)\"', ' A (Plan parfait', ' A (2009)\"', ' The (1929)\"', ' A (Fille seule', ' Les (2012)\"', ' The (1937)\"', ' The (L\\'auberge espagnole) (2002)\"', ' A (1977)\"', ' El (1992)\"', ' The (1923)\"', ' Two', ' Les) (1982)\"', ' The (Notte', 'Musical\\r\\n', ' The (Scorta', ' The (Grande silenzio', ' Man! (2018)\"', ' A (Un homme et une femme) (1966)\"', ' The (Procès', ' I Shrunk the Kids (1989)\"', ' La (1987)\"', 'Crime', ' The (Crimen del padre Amaro', 'War', ' The (Kataude mashin gâru) (2008)\"', ' Goethe (Fack Ju Göhte) (2013)\"', ' Le) (1964)\"', ' The (Chugyeogja) (2008)\"', ' The) (2013)\"', ' La (1978)\"', ' The: The Rise of the Politics of Fear (2004)\"', ' The (Postino', ' Frankenstein (2014)\"', ' The (2002)\"', ' The (Direktøren for det hele) (2006)\"', ' Drugs & Taxation (2013)\"', ' A (2011)\"', ' The (Neko no ongaeshi) (2002)\"', ' King of the Monsters! (Kaijû-ô Gojira) (1956)\"', ' The (2008)\"', ' the Widow and the Wardrobe (2011)\"', ' The (Sukai kurora) (2008)\"', ' A (1951)\"', ' A (1966)\"', ' The (La battaglia di Algeri) (1966)\"', 'Fantasy\\r\\n', ' A (Voyage dans la lune', ' The (La piel que habito) (2011)\"', ' Doc? (1972)\"', ' the Russians Are Coming', ' The) (Yama no oto) (1954)\"', ' The (Tasogare Seibei) (2002)\"', ' The (1959)\"', ' The (La règle du jeu) (1939)\"', ' New York (2008)\"', ' The (1917)\"', ' The (La flor de mi secreto) (1995)\"', ' The (2005)\"', ' An (2014)\"', ' The (1941)\"', ' A (1964)\"', 'Thriller', ' the Beloved Country (1995)\"', ' The (a.k.a. Caravan of Courage: An Ewok Adventure) (1984)\"', ' Steal Little (1995)\"', ' A (2014)\"', ' Dolly Bell) (1981)\"', ' Lies', ' La (1962)\"', ' A (1975)\"', ' A (1965)\"', ' Les) (2004)\"', '5) (2008)\"', ' Black Heart (1990)\"', ' The (Ángel exterminador', ' A (Sinnui yauwan) (1987)\"', ' A (2006)\"', ' the White Gorilla (2011)\"', 'War\\r\\n', ' The (Kukushka) (2002)\"', ' The (2006)\"', ' or The 120 Days of Sodom (Salò o le 120 giornate di Sodoma) (1976)\"', ' the Lonesome Cougar (1967)\"', ' Tailor', ' The) (1980)\"', ' Where\\'s My Car? (2000)\"', ' A (Srpski film) (2010)\"', ' The (Sjunde inseglet', ' Der (2008)\"', ' The (Le voleur) (1967)\"', ' The (1968)\"', ' A (Pura formalità', 'Comedy\\r\\n', ' The (Rivières pourpres', ' The (Veuve de Saint-Pierre', ' The (a.k.a. The Murderer) (Hwanghae) (2010)\"', ' A (Krótki film o zabijaniu) (1988)\"'}\n"
     ]
    }
   ],
   "source": [
    "genres_set = set()\n",
    "with open(file_path_movies, \"r\", encoding=\"utf-8\", newline=\"\\r\\n\") as file:\n",
    "    next(file)  # skip the header\n",
    "    #\n",
    "    lines_with_too_many_commas = 0\n",
    "    for line in file:\n",
    "        row_data = line.split(\",\")\n",
    "        genres = row_data[2].split(\"|\")\n",
    "        # some titles may have commas\n",
    "        # we'll switch to the CSV reader to address it better\n",
    "        # we can implement our own CSV reader but\n",
    "        # it's probably a distraction for this notebook\n",
    "        if len(row_data) > 3 and lines_with_too_many_commas < 15:\n",
    "            lines_with_too_many_commas += 1\n",
    "            print(genres)\n",
    "        genres_set.update(genres)\n",
    "# the movie titles have commas in them, find a way to escape those\n",
    "print(genres_set)"
   ]
  },
  {
   "cell_type": "code",
   "execution_count": 14,
   "id": "383c219c-235c-40fd-8d4f-275f8ef1b955",
   "metadata": {},
   "outputs": [
    {
     "name": "stdout",
     "output_type": "stream",
     "text": [
      "['Comedy', 'Drama', 'Romance\\r\\n']\n",
      "['Adventure', 'Drama', 'Fantasy', 'Mystery', 'Sci-Fi\\r\\n']\n",
      "['Drama\\r\\n']\n",
      "['Crime', 'Mystery', 'Thriller\\r\\n']\n",
      "['Children', 'Comedy\\r\\n']\n",
      "['Comedy', 'Drama', 'Romance\\r\\n']\n",
      "['Adventure', 'Children', 'Fantasy\\r\\n']\n",
      "['Drama', 'War\\r\\n']\n",
      "['Action', 'Crime', 'Drama', 'Thriller\\r\\n']\n",
      "['Drama', 'Thriller\\r\\n']\n",
      "['Children', 'Drama\\r\\n']\n",
      "['Crime', 'Drama\\r\\n']\n",
      "['Drama', 'Romance\\r\\n']\n",
      "['Crime', 'Drama\\r\\n']\n",
      "['Comedy\\r\\n']\n",
      "{'Sci-Fi\\r\\n', 'Children\\r\\n', 'Mystery\\r\\n', 'Drama', 'Horror\\r\\n', 'Musical', 'Fantasy', 'Musical\\r\\n', 'Drama\\r\\n', 'Thriller', 'Animation\\r\\n', 'Crime', 'War', 'Thriller\\r\\n', 'Film-Noir', 'Romance\\r\\n', 'Action\\r\\n', 'Horror', 'Sci-Fi', 'Western', 'War\\r\\n', 'Documentary\\r\\n', 'Romance', 'Comedy', 'Documentary', '(no genres listed)\\r\\n', 'Animation', 'Adventure', 'Film-Noir\\r\\n', 'Crime\\r\\n', 'Adventure\\r\\n', 'Children', 'Comedy\\r\\n', 'IMAX\\r\\n', 'Western\\r\\n', 'Fantasy\\r\\n', 'Mystery', 'Action'}\n"
     ]
    }
   ],
   "source": [
    "# for now lets read the last element in each row\n",
    "# same code as before...\n",
    "genres_set = set()\n",
    "with open(file_path_movies, \"r\", encoding=\"utf-8\", newline=\"\\r\\n\") as file:\n",
    "    next(file)  # skip the header\n",
    "    #\n",
    "    lines_with_too_many_commas = 0\n",
    "    for line in file:\n",
    "        row_data = line.split(\",\")\n",
    "        genres = row_data[-1].split(\"|\")\n",
    "        # some titles may have commas\n",
    "        if len(row_data) > 3 and lines_with_too_many_commas < 15:\n",
    "            lines_with_too_many_commas += 1\n",
    "            print(genres)\n",
    "        genres_set.update(genres)\n",
    "# the movie titles have commas in them, but now we should only see genres...\n",
    "print(genres_set)"
   ]
  },
  {
   "cell_type": "markdown",
   "id": "39f879ef-7625-42b4-beea-fa243784039d",
   "metadata": {},
   "source": [
    "### **The `collections` Module**\n",
    "\n",
    "The `collections` module in Python offers a set of alternative collection datatypes that can augment the basic ones.\n",
    "This gives us powerful tools for specialized tasks. \n"
   ]
  },
  {
   "cell_type": "markdown",
   "id": "9a861549-76f5-4543-a3d9-8f816810a240",
   "metadata": {},
   "source": [
    "#### 1. **`namedtuple`: Tuple Subclass with Named Fields**\n",
    "- Provides clarity without the memory overhead of a full class.\n",
    "- Useful in scenarios where you might use structs in C.\n",
    "\n",
    "**Example:** Representing a movie with its title, genre, and rating."
   ]
  },
  {
   "cell_type": "code",
   "execution_count": 39,
   "id": "1be4ffd2-75cc-40bd-9029-be7c7a6b3fba",
   "metadata": {},
   "outputs": [
    {
     "name": "stdout",
     "output_type": "stream",
     "text": [
      "The first space opera blockbuster \n",
      " that excited all he interest in the \n",
      " idea of A Hero's Journey was: \n",
      " *Star Wars: Episode IV - A New Hope (1977)*\n"
     ]
    }
   ],
   "source": [
    "from collections import namedtuple\n",
    "# \n",
    "Movie = namedtuple(\"Movie\", [\"title\", \"genre\", \"rating\"])\n",
    "space_opera_the_first = Movie(\"Star Wars: Episode IV - A New Hope (1977)\", \"Sci-Fi\", 8.8)\n",
    "#\n",
    "print(f\"The first space opera blockbuster \\n \\\n",
    "that excited all he interest in the \\n \\\n",
    "idea of A Hero's Journey was: \\n \\\n",
    "*{space_opera_the_first.title}*\")  # Output: Inception :P"
   ]
  },
  {
   "cell_type": "markdown",
   "id": "fc02c6bb-fe59-4100-8e90-1d701306dc39",
   "metadata": {},
   "source": [
    "#### 2. **`deque`: Double-Ended Queue**\n",
    "- Allows for fast appends and pops from both ends.\n",
    "- Useful for maintaining a sliding window or implementing certain types of parsers.\n",
    "\n",
    "**Example:** Maintaining a fixed-size window of the last N ratings for a movie."
   ]
  },
  {
   "cell_type": "code",
   "execution_count": 16,
   "id": "f38c44a8-0c3f-4ee8-992c-30647b0c40e5",
   "metadata": {},
   "outputs": [
    {
     "name": "stdout",
     "output_type": "stream",
     "text": [
      "deque([8.0, 8.3, 7.8, 8.2, 8.0], maxlen=5)\n"
     ]
    }
   ],
   "source": [
    "from collections import deque\n",
    "\n",
    "last_five_ratings = deque(maxlen=5)\n",
    "for rating in [7.5, 8.0, 8.3, 7.8, 8.2, 8.0]:\n",
    "    last_five_ratings.append(rating)\n",
    "\n",
    "print(last_five_ratings)  # Output: deque([8.0, 8.3, 7.8, 8.2, 8.0], maxlen=5)"
   ]
  },
  {
   "cell_type": "markdown",
   "id": "31a4d14a-7e80-4272-a287-127e7a4f8e82",
   "metadata": {},
   "source": [
    "#### 3. **`Counter`: Counting Elements**\r\n",
    "- Facilitates counting elements in an iterable.\r\n",
    "- Useful for tasks like token counting or histogram creation.\r\n",
    "\r\n",
    "**Example:** Counting genres in a list of movies."
   ]
  },
  {
   "cell_type": "code",
   "execution_count": 17,
   "id": "042a887a-8945-4872-a105-2751205cc708",
   "metadata": {},
   "outputs": [
    {
     "name": "stdout",
     "output_type": "stream",
     "text": [
      "Counter({'Action': 3, 'Drama': 2, 'Sci-Fi': 2})\n"
     ]
    }
   ],
   "source": [
    "from collections import Counter\n",
    "\n",
    "genres = [\"Action\", \"Drama\", \"Action\", \"Sci-Fi\", \"Drama\", \"Sci-Fi\", \"Action\"]\n",
    "genre_count = Counter(genres)\n",
    "print(genre_count)  # Output: Counter({'Action': 3, 'Drama': 2, 'Sci-Fi': 2})"
   ]
  },
  {
   "cell_type": "code",
   "execution_count": 18,
   "id": "5a1d1768-c211-436a-829c-5302e7fef256",
   "metadata": {},
   "outputs": [],
   "source": [
    "genres = []\n",
    "with open(file_path_movies, \"r\", encoding=\"utf-8\", newline=\"\\r\\n\") as file:\n",
    "    next(file)  # skip the header\n",
    "    for line in file:\n",
    "        row_data = line.split(\",\")\n",
    "        # read from end of line, avoid running into commas in titles\n",
    "        genres_in_row = row_data[-1].split(\"|\")\n",
    "        # strip the newlines\n",
    "        genres_in_row = [g.strip() for g in genres_in_row]\n",
    "        genres.append(genres_in_row)"
   ]
  },
  {
   "cell_type": "markdown",
   "id": "1de6d59c-9830-487c-b1e1-616221132a08",
   "metadata": {},
   "source": [
    "Try this again with a lambda and a map:"
   ]
  },
  {
   "cell_type": "code",
   "execution_count": 19,
   "id": "3fa39042-0531-48ba-9725-4053c821c0c0",
   "metadata": {},
   "outputs": [
    {
     "name": "stdout",
     "output_type": "stream",
     "text": [
      "[['Adventure', 'Animation', 'Children', 'Comedy', 'Fantasy'], ['Adventure', 'Children', 'Fantasy'], ['Comedy', 'Romance'], ['Comedy', 'Drama', 'Romance'], ['Comedy'], ['Action', 'Crime', 'Thriller'], ['Comedy', 'Romance'], ['Adventure', 'Children'], ['Action'], ['Action', 'Adventure', 'Thriller']]\n"
     ]
    }
   ],
   "source": [
    "print(genres[:10])"
   ]
  },
  {
   "cell_type": "code",
   "execution_count": 30,
   "id": "d918b926-2a03-4527-a5e9-f5709364073b",
   "metadata": {},
   "outputs": [],
   "source": [
    "genres2 = list( \\\n",
    "\tmap( \\\n",
    "\t\tlambda gen: gen.split(',')[-1].split('|'), \\\n",
    "\t\topen(file_path_movies, \"r\", encoding=\"utf-8\", newline=\"\\r\\n\") \\\n",
    "\t) \\\n",
    ")"
   ]
  },
  {
   "cell_type": "code",
   "execution_count": 31,
   "id": "8fa76f2a-e7ec-478a-b811-172f7be45565",
   "metadata": {},
   "outputs": [
    {
     "name": "stdout",
     "output_type": "stream",
     "text": [
      "[['Adventure', 'Animation', 'Children', 'Comedy', 'Fantasy\\r\\n'], ['Adventure', 'Children', 'Fantasy\\r\\n'], ['Comedy', 'Romance\\r\\n'], ['Comedy', 'Drama', 'Romance\\r\\n'], ['Comedy\\r\\n'], ['Action', 'Crime', 'Thriller\\r\\n'], ['Comedy', 'Romance\\r\\n'], ['Adventure', 'Children\\r\\n'], ['Action\\r\\n']]\n"
     ]
    }
   ],
   "source": [
    "print(genres2[1:10]) #skip first line, header"
   ]
  },
  {
   "cell_type": "markdown",
   "id": "c9b5c7a9-3ffa-40f4-a061-ce6fd18b5b59",
   "metadata": {},
   "source": [
    "```genres``` and ```genres2``` are similar.  \n",
    "\n",
    "However, I submit that while genres2 is a more concise form, it is not necessarily a more readable form.  \n",
    "\n",
    "List Comprehensions, like Regular Expressions are a double edged sword.  \n",
    "Too complex and they may create maintenance overhead later. \n",
    "\n",
    "erm...\n",
    "_Having said that..._"
   ]
  },
  {
   "cell_type": "code",
   "execution_count": 32,
   "id": "bf699f70-aed3-4808-a4b7-0ad990d4887d",
   "metadata": {},
   "outputs": [],
   "source": [
    "# flatten genres - list comprehensions\n",
    "# they need you to be smart\n",
    "# and sometimes make people who read your code feel dumb\n",
    "genres = [genre for genre_row in genres for genre in genre_row]\n",
    "# whoa! quick note on how to read this follows"
   ]
  },
  {
   "cell_type": "code",
   "execution_count": 21,
   "id": "330275fe-4f83-4c5a-8461-72f7a9d64ecb",
   "metadata": {},
   "outputs": [
    {
     "name": "stdout",
     "output_type": "stream",
     "text": [
      "Counter({'Drama': 4361, 'Comedy': 3756, 'Thriller': 1894, 'Action': 1828, 'Romance': 1596, 'Adventure': 1263, 'Crime': 1199, 'Sci-Fi': 980, 'Horror': 978, 'Fantasy': 779, 'Children': 664, 'Animation': 611, 'Mystery': 573, 'Documentary': 440, 'War': 382, 'Musical': 334, 'Western': 167, 'IMAX': 158, 'Film-Noir': 87, '(no genres listed)': 34})\n"
     ]
    }
   ],
   "source": [
    "movielens_genre_count = Counter(genres)\n",
    "print(movielens_genre_count)"
   ]
  },
  {
   "cell_type": "markdown",
   "id": "ddd1f88f-a8d4-495b-ab7f-d6995559f23a",
   "metadata": {},
   "source": [
    "---\n",
    "---\n",
    "  \n",
    "##### <font color='green'>Tangent</font>: List Comprehensions, Nested comprehensions, Flattening nested lists  \n",
    "  \n",
    "<font color='red'>___skip this if you are new to data wrangling or running these notebooks for the first time___ </font>  \n",
    "  \n",
    "reading [list comprehensions](https://docs.python.org/3.11/tutorial/datastructures.html#list-comprehensions)...is kinda simple.\n",
    "\n",
    "Imagine a basic scenario - we have elements (comma separate) arranged in multiple lines in a file.\n",
    "\n",
    "```\n",
    "FILE\n",
    "   |\n",
    "   |--line 01\n",
    "   |      |\n",
    "   |      |--CSV elements\n",
    "   |\n",
    "   |--line 02\n",
    "   |      |\n",
    "   |      |--CSV elements\n",
    "   |\n",
    "   |--line 03\n",
    "   |      |\n",
    "   |      |--CSV elements\n",
    "   |...so on\n",
    "```\n",
    "a basic for loop that reads lines from a file into a list:\n",
    "``` Python\n",
    "output = []\n",
    "# iterate over container\n",
    "# each iteration returns an element from the container\n",
    "for line in open(file,'r'):\n",
    "    # do some processing/transformation on the element\n",
    "    output.append(line)\n",
    "```\n",
    "\n",
    "using [```map(function, iterable)```](https://docs.python.org/3/library/functions.html#map) this can be written as:\n",
    "``` Python\n",
    "# map a lambda function on to every element of the file iterable\n",
    "# \n",
    "output = list(map(lambda line: line, open(file,'r')))\n",
    "```\n",
    "  \n",
    "and...\n",
    "translates to a list comprehension of:\n",
    "``` Python\n",
    "# output_list = [some_xform_on_element for element in container]\n",
    "output = [line for line in open(file,'r')]\n",
    "```\n",
    "\n",
    "---\n",
    "__nesting list comprehensions__:  \n",
    "now if the line had comma separated elements, we'll have to use a nested for loop:\n",
    "``` Python\n",
    "output = []\n",
    "# Loop 1 - Outer Loop\n",
    "for line in open(file,'r'):\n",
    "    # Loop 2 - Inner Loop - extract elements\n",
    "    line_list = line.split(',')\n",
    "    for element in line_list:\n",
    "        # do some processing/transformation on the element\n",
    "        output.append(element)\n",
    "```\n",
    "  \n",
    "compress outer loop using a ```map()```:  \n",
    "``` Python\n",
    "output = list( \\ # Loop 1 - Outer Loop\n",
    "    map( \\\n",
    "        lambda line: line, \\\n",
    "        open(file,'r') \\\n",
    "    ) \\\n",
    ")\n",
    "```\n",
    "build the inner loop now:  \n",
    "``` Python\n",
    "output = list( \\ # Loop 2 - Inner Loop - extract elements\n",
    "    map( \\\n",
    "        lambda element: element, \n",
    "        list( \\ # Loop 1 - Outer Loop\n",
    "            map( \\\n",
    "                lambda line: line, \\\n",
    "                open(file,'r') \\\n",
    "            ) \\\n",
    "        )\n",
    "    )\n",
    ")\n",
    "```\n",
    "Let's do a nested list comprehension now.  \n",
    "What we'd like to think will work is:  \n",
    "``` Python\n",
    "# WRONG!!\n",
    "out = [x # inner loop first #outer loop here]\n",
    "```\n",
    "but this is where it gets counter intuitive, the correct way to nest comprehensions is:  \n",
    "``` Python\n",
    "# Correct: LOOPS FOLLOW THE SAME ORDER AS THE FOR LOOP EQUIVALENT\n",
    "out = [x #outer-loop-here-that-returns-inner-iterable #inner-loop-here-that-returns-x]\n",
    "```\n",
    "So, in our example:\n",
    "``` Python\n",
    "# returns a flat list of \n",
    "output = [element for line in open(file,'r') for element in line]\n",
    "```\n",
    "\n",
    "[This blog post](https://treyhunner.com/2015/12/python-list-comprehensions-now-in-color/) does a much better job of explaining list comprehensions than the note above. There's a separate notebook in this folder that helps practice list comprehensions.  \n",
    "  \n",
    "If you read the code we used to flatten the genres list, it'll make more sense now.  \n",
    "\n",
    "---  \n",
    "---  \n",
    "  "
   ]
  },
  {
   "cell_type": "markdown",
   "id": "f502b8f3-fc06-4267-a651-2b4ede53426e",
   "metadata": {},
   "source": [
    "#### 4. **`OrderedDict`: Dict subclass that remembers the order entries were added**\n",
    "- Maintains the order of insertion.\n",
    "- Especially relevant for tasks where order matters, like configuration parsing or specific serialization tasks.\n",
    "\n",
    "**Example:** Storing movies and their ratings in the order they were rated."
   ]
  },
  {
   "cell_type": "code",
   "execution_count": 22,
   "id": "3f428f1d-896a-4605-85df-edbe246fc3c8",
   "metadata": {},
   "outputs": [
    {
     "name": "stdout",
     "output_type": "stream",
     "text": [
      "Inception: 8.8\n",
      "Interstellar: 8.6\n",
      "Dunkirk: 7.9\n"
     ]
    }
   ],
   "source": [
    "from collections import OrderedDict\n",
    "\n",
    "movie_ratings = OrderedDict()\n",
    "movie_ratings[\"Inception\"] = 8.8\n",
    "movie_ratings[\"Interstellar\"] = 8.6\n",
    "movie_ratings[\"Dunkirk\"] = 7.9\n",
    "\n",
    "for movie, rating in movie_ratings.items():\n",
    "    print(f\"{movie}: {rating}\")  # same order as added"
   ]
  },
  {
   "cell_type": "markdown",
   "id": "04d430cc-843d-44fc-8ab8-eec4e500fdfa",
   "metadata": {},
   "source": [
    "[todo: load movies data and ratings, create an orderd dict based on timestamps - may be too advanced for the workshop]"
   ]
  },
  {
   "cell_type": "markdown",
   "id": "c7286625-08cf-4647-85b3-67eb7db9aa64",
   "metadata": {},
   "source": [
    "#### 5. **`defaultdict`: Dict subclass with a default value for missing keys**\r\n",
    "- Helps in avoiding \"key not found\" errors.\r\n",
    "- Commonly used in graph algorithms, multi-value dictionaries, or accumulators.\r\n",
    "\r\n",
    "**Example:** Storing a list of ratings for each movie."
   ]
  },
  {
   "cell_type": "code",
   "execution_count": 23,
   "id": "f0b5b694-5187-48c0-85a0-05c6dc258c26",
   "metadata": {},
   "outputs": [
    {
     "name": "stdout",
     "output_type": "stream",
     "text": [
      "[8.5, 8.6, 8.7]\n",
      "[]\n"
     ]
    }
   ],
   "source": [
    "from collections import defaultdict\n",
    "\n",
    "movie_ratings = defaultdict(list)\n",
    "movie_ratings[\"Inception\"].extend([8.5, 8.6, 8.7])\n",
    "print(movie_ratings[\"Inception\"])  # Output: [8.5, 8.6, 8.7]\n",
    "print(movie_ratings[\"Unknown Movie\"])  # Output: [], without error"
   ]
  },
  {
   "cell_type": "code",
   "execution_count": null,
   "id": "dd298b5c-5105-45fb-84a6-60ab177eed50",
   "metadata": {},
   "outputs": [],
   "source": []
  },
  {
   "cell_type": "code",
   "execution_count": null,
   "id": "9aa4c109-2eee-46ac-8177-8dd9caa35eff",
   "metadata": {},
   "outputs": [],
   "source": []
  },
  {
   "cell_type": "code",
   "execution_count": null,
   "id": "5c90ad76-3592-4ed7-8c9f-fc67b94648d2",
   "metadata": {},
   "outputs": [],
   "source": []
  },
  {
   "cell_type": "markdown",
   "id": "e9cd9648-5a13-446f-a775-76616ace03c1",
   "metadata": {},
   "source": [
    "# Next"
   ]
  },
  {
   "cell_type": "markdown",
   "id": "f30f9979-d5c1-4fa6-875d-76e2c017ec76",
   "metadata": {},
   "source": [
    "We look at itertools and functools"
   ]
  }
 ],
 "metadata": {
  "kernelspec": {
   "display_name": "Python 3 (ipykernel)",
   "language": "python",
   "name": "python3"
  },
  "language_info": {
   "codemirror_mode": {
    "name": "ipython",
    "version": 3
   },
   "file_extension": ".py",
   "mimetype": "text/x-python",
   "name": "python",
   "nbconvert_exporter": "python",
   "pygments_lexer": "ipython3",
   "version": "3.11.4"
  }
 },
 "nbformat": 4,
 "nbformat_minor": 5
}
