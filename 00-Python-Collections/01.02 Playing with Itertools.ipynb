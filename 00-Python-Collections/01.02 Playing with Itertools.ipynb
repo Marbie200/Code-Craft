{
 "cells": [
  {
   "cell_type": "markdown",
   "id": "7e9f4107-83a1-4cf6-8340-9f9454b57eae",
   "metadata": {},
   "source": [
    "# Data Wrangling in Python  \n",
    "*Using Itertools with the __MovieLens__ dataset*  "
   ]
  },
  {
   "cell_type": "markdown",
   "id": "02609311-3f22-483a-826d-846559bdcace",
   "metadata": {},
   "source": [
    "**Part 2: Playing with Itertools**  \n",
    "  \n",
    "![Playing with Itertools](./../images/data_munging_00-Python-Collections-02.png)"
   ]
  },
  {
   "cell_type": "markdown",
   "id": "f21bef00-086e-44fd-b516-01016a08432d",
   "metadata": {},
   "source": [
    "### <font color='green'>__Support for Google Colab__  </font>  \n",
    "    \n",
    "open this notebook in Colab using the following button:  \n",
    "  \n",
    "<a href=\"https://colab.research.google.com/github/shauryashaurya/learn-data-munging/blob/main/00-Python-Collections/01.02%20Playing%20with%20Itertools.ipynb\" target=\"_parent\"><img src=\"https://colab.research.google.com/assets/colab-badge.svg\" alt=\"Open In Colab\"/></a>  \n",
    "\n",
    "  \n",
    "<font color='green'>uncomment and execute the cell below to setup and run this notebook on Google Colab.</font>"
   ]
  },
  {
   "cell_type": "code",
   "execution_count": 1,
   "id": "cbba6f93-2b10-45bf-9975-a41d30ffd219",
   "metadata": {},
   "outputs": [],
   "source": [
    "# # SETUP FOR COLAB: select all the lines below and uncomment (CTRL+/ on windows)\n",
    "# # Let's download and unzip the Small MovieLens Dataset\n",
    "# ! mkdir ./../data\n",
    "# ! wget -q https://files.grouplens.org/datasets/movielens/ml-latest-small.zip\n",
    "# ! unzip ./ml-latest-small.zip -d ./../data/"
   ]
  },
  {
   "cell_type": "markdown",
   "id": "868129c9-cedd-4513-997b-53f9427b6f1a",
   "metadata": {},
   "source": [
    "### Get the _Small_ MovieLens Dataset"
   ]
  },
  {
   "cell_type": "markdown",
   "id": "67afc9a9-31b8-483d-89c1-699867c8700b",
   "metadata": {},
   "source": [
    "We'll use the [small MovieLens dataset](https://grouplens.org/datasets/movielens/#:~:text=Small%3A%20100%2C000%20ratings%20and%203%2C600%20tag%20applications) here.\n",
    "\n",
    "Download it and unzip to the data folder under the name `ml-latest-small`.\n",
    "\n",
    "This dataset expands to about 3.2 MB on your local disk. "
   ]
  },
  {
   "cell_type": "code",
   "execution_count": 2,
   "id": "4a045b14-f578-47ad-9972-a3f5aaba0911",
   "metadata": {},
   "outputs": [],
   "source": [
    "datalocation = \"./../data/ml-latest-small/\""
   ]
  },
  {
   "cell_type": "code",
   "execution_count": 3,
   "id": "0428c276-5ef7-4bde-addf-3bb79337783d",
   "metadata": {},
   "outputs": [],
   "source": [
    "# specify file names\n",
    "file_path_movies = datalocation + \"movies.csv\"\n",
    "file_path_links = datalocation + \"links.csv\"\n",
    "file_path_ratings = datalocation + \"ratings.csv\"\n",
    "file_path_tags = datalocation + \"tags.csv\""
   ]
  },
  {
   "cell_type": "code",
   "execution_count": 4,
   "id": "dd298b5c-5105-45fb-84a6-60ab177eed50",
   "metadata": {},
   "outputs": [
    {
     "name": "stdout",
     "output_type": "stream",
     "text": [
      "8192\n"
     ]
    },
    {
     "data": {
      "text/plain": [
       "['__doc__',\n",
       " '__loader__',\n",
       " '__name__',\n",
       " '__package__',\n",
       " '__spec__',\n",
       " '_grouper',\n",
       " '_tee',\n",
       " '_tee_dataobject',\n",
       " 'accumulate',\n",
       " 'chain',\n",
       " 'combinations',\n",
       " 'combinations_with_replacement',\n",
       " 'compress',\n",
       " 'count',\n",
       " 'cycle',\n",
       " 'dropwhile',\n",
       " 'filterfalse',\n",
       " 'groupby',\n",
       " 'islice',\n",
       " 'pairwise',\n",
       " 'permutations',\n",
       " 'product',\n",
       " 'repeat',\n",
       " 'starmap',\n",
       " 'takewhile',\n",
       " 'tee',\n",
       " 'zip_longest']"
      ]
     },
     "execution_count": 4,
     "metadata": {},
     "output_type": "execute_result"
    }
   ],
   "source": [
    "import itertools\n",
    "from itertools import permutations\n",
    "import io\n",
    "import time\n",
    "print(io.DEFAULT_BUFFER_SIZE)\n",
    "\n",
    "dir(itertools)"
   ]
  },
  {
   "cell_type": "code",
   "execution_count": 5,
   "id": "9aa4c109-2eee-46ac-8177-8dd9caa35eff",
   "metadata": {},
   "outputs": [
    {
     "name": "stdout",
     "output_type": "stream",
     "text": [
      "2.45 ms ± 152 µs per loop (mean ± std. dev. of 7 runs, 100 loops each)\n"
     ]
    }
   ],
   "source": [
    "%%timeit\n",
    "count = 0\n",
    "start = time.time()\n",
    "for line in open(file_path_movies, 'r', buffering=100000000, encoding='utf-8'):\n",
    "\tcount += 1\n",
    "total = time.time() - start"
   ]
  },
  {
   "cell_type": "code",
   "execution_count": 6,
   "id": "76787aac-5c5f-46c8-b8ec-5bf872a2ea92",
   "metadata": {},
   "outputs": [
    {
     "name": "stdout",
     "output_type": "stream",
     "text": [
      "2.32 ms ± 182 µs per loop (mean ± std. dev. of 7 runs, 100 loops each)\n"
     ]
    }
   ],
   "source": [
    "%%timeit\n",
    "count = 0\n",
    "start = time.time()\n",
    "for line in open(file_path_movies, 'r', buffering=1000000, encoding='utf-8'):\n",
    "\tcount += 1\n",
    "total = time.time() - start"
   ]
  },
  {
   "cell_type": "code",
   "execution_count": 7,
   "id": "72bd4551-af8b-41d8-8c95-3436e14af329",
   "metadata": {},
   "outputs": [
    {
     "name": "stdout",
     "output_type": "stream",
     "text": [
      "2.97 ms ± 331 µs per loop (mean ± std. dev. of 7 runs, 100 loops each)\n"
     ]
    }
   ],
   "source": [
    "%%timeit\n",
    "count = 0\n",
    "start = time.time()\n",
    "for line in open(file_path_movies, 'r', buffering=1000, encoding='utf-8'):\n",
    "\tcount += 1\n",
    "total = time.time() - start"
   ]
  },
  {
   "cell_type": "code",
   "execution_count": 8,
   "id": "291b033f-279e-4ce2-b612-e136f68fd8eb",
   "metadata": {},
   "outputs": [
    {
     "name": "stdout",
     "output_type": "stream",
     "text": [
      "3.58 ms ± 535 µs per loop (mean ± std. dev. of 7 runs, 100 loops each)\n"
     ]
    }
   ],
   "source": [
    "%%timeit\n",
    "count = 0\n",
    "start = time.time()\n",
    "for line in open(file_path_movies, 'r', buffering=-1, encoding='utf-8'):\n",
    "\tcount += 1\n",
    "total = time.time() - start"
   ]
  },
  {
   "cell_type": "code",
   "execution_count": 12,
   "id": "572373a5-9618-4021-b81e-6593f22b6597",
   "metadata": {},
   "outputs": [
    {
     "name": "stdout",
     "output_type": "stream",
     "text": [
      "2.04 ms ± 40.3 µs per loop (mean ± std. dev. of 7 runs, 1,000 loops each)\n"
     ]
    }
   ],
   "source": [
    "%%timeit\n",
    "count = 0\n",
    "start = time.time()\n",
    "for line in open(file_path_movies, 'r', encoding='utf-8'):\n",
    "\tcount += 1\n",
    "total = time.time() - start"
   ]
  },
  {
   "cell_type": "code",
   "execution_count": 42,
   "id": "5c90ad76-3592-4ed7-8c9f-fc67b94648d2",
   "metadata": {},
   "outputs": [
    {
     "name": "stdout",
     "output_type": "stream",
     "text": [
      "2.31 ms ± 101 µs per loop (mean ± std. dev. of 7 runs, 100 loops each)\n"
     ]
    }
   ],
   "source": [
    "%%timeit\n",
    "\n",
    "from collections import Counter\n",
    "lst = [len(l) for l in open(file_path_movies, 'r', encoding='utf-8', buffering = 1000)]\n",
    "# lst2 = [l for l in open(file_path_movies, 'r', encoding='utf-8')]\n",
    "count = Counter(lst)"
   ]
  },
  {
   "cell_type": "code",
   "execution_count": 40,
   "id": "89c2135e-cc7c-4dbb-9108-b1f45c92b8d8",
   "metadata": {},
   "outputs": [
    {
     "data": {
      "text/plain": [
       "Counter({43: 327,\n",
       "         44: 321,\n",
       "         38: 312,\n",
       "         39: 300,\n",
       "         42: 296,\n",
       "         45: 295,\n",
       "         40: 293,\n",
       "         46: 287,\n",
       "         41: 284,\n",
       "         47: 284,\n",
       "         50: 282,\n",
       "         48: 275,\n",
       "         49: 262,\n",
       "         37: 258,\n",
       "         51: 253,\n",
       "         33: 228,\n",
       "         35: 226,\n",
       "         36: 217,\n",
       "         53: 213,\n",
       "         52: 208,\n",
       "         34: 201,\n",
       "         54: 192,\n",
       "         56: 189,\n",
       "         55: 187,\n",
       "         32: 181,\n",
       "         31: 180,\n",
       "         57: 165,\n",
       "         30: 152,\n",
       "         58: 147,\n",
       "         60: 145,\n",
       "         59: 140,\n",
       "         29: 133,\n",
       "         62: 120,\n",
       "         61: 120,\n",
       "         63: 108,\n",
       "         64: 106,\n",
       "         66: 96,\n",
       "         65: 89,\n",
       "         28: 87,\n",
       "         67: 84,\n",
       "         69: 83,\n",
       "         68: 73,\n",
       "         27: 73,\n",
       "         73: 68,\n",
       "         26: 66,\n",
       "         71: 66,\n",
       "         70: 65,\n",
       "         72: 64,\n",
       "         74: 63,\n",
       "         76: 61,\n",
       "         77: 57,\n",
       "         75: 52,\n",
       "         25: 50,\n",
       "         24: 41,\n",
       "         82: 37,\n",
       "         78: 34,\n",
       "         81: 32,\n",
       "         88: 31,\n",
       "         79: 31,\n",
       "         84: 29,\n",
       "         80: 28,\n",
       "         83: 27,\n",
       "         87: 26,\n",
       "         86: 24,\n",
       "         85: 19,\n",
       "         95: 17,\n",
       "         23: 16,\n",
       "         90: 16,\n",
       "         98: 15,\n",
       "         89: 15,\n",
       "         94: 14,\n",
       "         93: 14,\n",
       "         92: 14,\n",
       "         22: 13,\n",
       "         96: 12,\n",
       "         97: 11,\n",
       "         99: 10,\n",
       "         102: 10,\n",
       "         91: 9,\n",
       "         103: 8,\n",
       "         108: 6,\n",
       "         107: 6,\n",
       "         112: 6,\n",
       "         101: 5,\n",
       "         106: 5,\n",
       "         104: 5,\n",
       "         21: 4,\n",
       "         115: 4,\n",
       "         113: 4,\n",
       "         100: 4,\n",
       "         123: 3,\n",
       "         114: 3,\n",
       "         116: 3,\n",
       "         132: 3,\n",
       "         110: 3,\n",
       "         111: 3,\n",
       "         119: 3,\n",
       "         105: 3,\n",
       "         126: 2,\n",
       "         109: 2,\n",
       "         138: 2,\n",
       "         133: 2,\n",
       "         125: 2,\n",
       "         161: 2,\n",
       "         136: 2,\n",
       "         118: 2,\n",
       "         128: 2,\n",
       "         137: 2,\n",
       "         134: 2,\n",
       "         117: 1,\n",
       "         124: 1,\n",
       "         20: 1,\n",
       "         127: 1,\n",
       "         122: 1,\n",
       "         208: 1,\n",
       "         131: 1,\n",
       "         151: 1,\n",
       "         141: 1,\n",
       "         182: 1,\n",
       "         159: 1})"
      ]
     },
     "execution_count": 40,
     "metadata": {},
     "output_type": "execute_result"
    }
   ],
   "source": [
    "count"
   ]
  },
  {
   "cell_type": "markdown",
   "id": "e9cd9648-5a13-446f-a775-76616ace03c1",
   "metadata": {},
   "source": [
    "# Next"
   ]
  },
  {
   "cell_type": "markdown",
   "id": "f30f9979-d5c1-4fa6-875d-76e2c017ec76",
   "metadata": {},
   "source": [
    "We look at itertools and functools"
   ]
  }
 ],
 "metadata": {
  "kernelspec": {
   "display_name": "Python 3 (ipykernel)",
   "language": "python",
   "name": "python3"
  },
  "language_info": {
   "codemirror_mode": {
    "name": "ipython",
    "version": 3
   },
   "file_extension": ".py",
   "mimetype": "text/x-python",
   "name": "python",
   "nbconvert_exporter": "python",
   "pygments_lexer": "ipython3",
   "version": "3.11.4"
  }
 },
 "nbformat": 4,
 "nbformat_minor": 5
}
