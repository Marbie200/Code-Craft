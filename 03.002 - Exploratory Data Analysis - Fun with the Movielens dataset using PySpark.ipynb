{
 "cells": [
  {
   "cell_type": "markdown",
   "id": "1b1f80b1-cd3b-4dc0-abf8-d26c5b3c7be2",
   "metadata": {},
   "source": [
    "# Exploratory Data Analysis using __PySpark__  \n",
    "*Fun with the __MovieLens__ dataset*  "
   ]
  },
  {
   "cell_type": "markdown",
   "id": "eaaa64fe",
   "metadata": {},
   "source": [
    "<font color='green'>__Support for Google Colab__  </font>\n",
    "\n",
    "<font color='green'>Look for the \"_Sidebar_: Google Colab\" section below to setup and run this Spark notebook on Google Colab.</font>"
   ]
  },
  {
   "cell_type": "markdown",
   "id": "9c29acd0-d0ac-461d-874a-74d71f8bb90c",
   "metadata": {},
   "source": [
    "## Overview\n",
    "Features of the PySpark DataFrames most commonly used in data analysis - select, filter, join, groupby, pivot, and windows.  \n",
    "Instead of toy examples and '10 minutes to xx' we load an actual dataset and ask meaningful questions about it.\n",
    "  \n",
    "We'll use the [MovieLens](https://grouplens.org/datasets/movielens/) dataset for these exercises.  \n",
    "This dataset is non trivial and should expand to about __1GB__ on you hard-drive.  \n",
    "\n",
    "Download and unzip [MovieLens 25M Dataset](https://grouplens.org/datasets/movielens/25m/) for this analysis.\n",
    "\n",
    "Either ensure the data is in ```\"./data/ml-25m\"``` folder or update the path to the data below."
   ]
  },
  {
   "cell_type": "markdown",
   "id": "5f749ba0-35b3-4e54-bc80-c104f0ec05a4",
   "metadata": {},
   "source": [
    "**Citation**:  \n",
    "*F. Maxwell Harper and Joseph A. Konstan.* 2015.  \n",
    "The MovieLens Datasets: History and Context.  \n",
    "ACM Transactions on Interactive Intelligent Systems (TiiS) 5, 4: 19:1–19:19. <https://doi.org/10.1145/2827872>  "
   ]
  },
  {
   "cell_type": "markdown",
   "id": "a3356b32-de4a-4736-a1cb-a6843c4c66ca",
   "metadata": {},
   "source": [
    "You got this.  \n"
   ]
  },
  {
   "cell_type": "markdown",
   "id": "98d47d6d-47a2-4c8e-b5b6-b644ad0048c4",
   "metadata": {},
   "source": [
    "## Approach\n",
    "\n",
    "The idea is to tackle simple Spark use-cases first and move on to more complex ones.  \n",
    "\n",
    "Starting with simply loading the data into a dataframe, we then perform a data evaluation, some cleanup and finally analysis. We first ask questions based on individual data files, then move on to combining data from multiple files.\n",
    "\n",
    "We are going to try and avoid the more mathematically involved parts of exploratory data analysis - for e.g. statistical analysis on various features etc. - the core focus in the ability to grok pyspark functions and have fun while doing it.  \n",
    "\n",
    "By the end you'd not only have an idea of PySpark, but also how we ask questions and analyze a chunk of data.  \n",
    "\n",
    "_You may also end up with a watch-list to binge on your next weekend._ :)   "
   ]
  },
  {
   "cell_type": "markdown",
   "id": "1b50e8f7",
   "metadata": {},
   "source": [
    "## _Sidebar_: Google Colab\n",
    "\n",
    "You don't need to run this on your local machine.\n",
    "The notebook is setup to run on Google Colab as well.\n",
    "\n",
    "For a detailed description of how this is setup, see the [02.000 (optional) Setup_Spark_in_Google_Colab](https://github.com/shauryashaurya/learn-data-munging/blob/main/02.000%20(optional)%20Setup_Spark_in_Google_Colab.ipynb) notebook\n",
    "\n",
    "Open the notebook in Google Colab using the following button, then uncomment the setup marked # SETUP FOR COLAB  \n",
    "  \n",
    "  \n",
    "<a href=\"https://colab.research.google.com/github/shauryashaurya/learn-data-munging/blob/main/02.002%20-%20Exploratory%20Data%20Analysis%20-%20Fun%20with%20the%20Movielens%20dataset%20using%20PySpark.ipynb\" target=\"_parent\"><img src=\"https://colab.research.google.com/assets/colab-badge.svg\" alt=\"Open In Colab\"/></a>\n",
    "\n",
    "  \n",
    "_NOTE: keep the # SETUP FOR COLAB step below commented (disabled) when you are running this notebook locally_"
   ]
  },
  {
   "cell_type": "code",
   "execution_count": 1,
   "id": "8b2f6703",
   "metadata": {},
   "outputs": [],
   "source": [
    "# SETUP FOR COLAB: select all the lines below and uncomment (CTRL+/ on windows)\n",
    "\n",
    "# # grab spark\n",
    "# # as of 2023-06-23, the latest version is 3.4.1, get the link from Apache Spark's website\n",
    "# ! wget -q https://dlcdn.apache.org/spark/spark-3.4.1/spark-3.4.1-bin-hadoop3.tgz\n",
    "# # unzip spark\n",
    "# !tar xf spark-3.4.1-bin-hadoop3.tgz\n",
    "# # install findspark package\n",
    "# !pip install -q findspark\n",
    "# # Let's download and unzip the MovieLens 25M Dataset as well.\n",
    "# ! mkdir ./data\n",
    "# ! wget -q https://files.grouplens.org/datasets/movielens/ml-25m.zip\n",
    "# ! unzip ./ml-25m.zip -d ./data/\n",
    "\n",
    "# # got to provide JAVA_HOME and SPARK_HOME vairables\n",
    "# import os\n",
    "# os.environ[\"JAVA_HOME\"] = \"/usr/lib/jvm/java-11-openjdk-amd64\"\n",
    "# os.environ[\"SPARK_HOME\"] = \"/content/spark-3.2.3-bin-hadoop3.2\""
   ]
  },
  {
   "cell_type": "markdown",
   "id": "8ce95dee-f358-4d3a-8274-c7eb2b96acc7",
   "metadata": {},
   "source": [
    "## Setup the Spark Cluster"
   ]
  },
  {
   "cell_type": "code",
   "execution_count": 2,
   "id": "b082d956-2428-4c5b-b0cd-58601e9d7025",
   "metadata": {},
   "outputs": [],
   "source": [
    "# Step 1: initialize findspark\n",
    "import findspark\n",
    "\n",
    "findspark.init()"
   ]
  },
  {
   "cell_type": "code",
   "execution_count": 3,
   "id": "8e19959e-30bf-431e-a96c-a68eb762b247",
   "metadata": {},
   "outputs": [
    {
     "data": {
      "text/plain": [
       "'3.4.1'"
      ]
     },
     "execution_count": 3,
     "metadata": {},
     "output_type": "execute_result"
    }
   ],
   "source": [
    "# Step 2: import pyspark\n",
    "import pyspark\n",
    "from pyspark.sql import SparkSession\n",
    "\n",
    "pyspark.__version__"
   ]
  },
  {
   "cell_type": "code",
   "execution_count": 4,
   "id": "1ba7f159-eeca-4f67-94e2-c919d48d9501",
   "metadata": {},
   "outputs": [],
   "source": [
    "# Step 3: Create a spark session\n",
    "\n",
    "# using local[*] to use as many logical cores as available, use 1 when in doubt\n",
    "# 'local[1]' indicates spark on 1 core on the local machine or specify the number of cores needed\n",
    "# use .config(\"spark.some.config.option\", \"some-value\") for additional configuration\n",
    "\n",
    "spark = (\n",
    "    SparkSession.builder.master(\"local[*]\")\n",
    "    .appName(\"Analyzing Movielens Data\")\n",
    "    .getOrCreate()\n",
    ")\n",
    "\n",
    "# spark"
   ]
  },
  {
   "cell_type": "markdown",
   "id": "5f1a3956-8b77-4987-9db6-074544ebb975",
   "metadata": {},
   "source": [
    "# ...to read and load the data *correctly*\n",
    "\n",
    "This is typically the first problem you need to work out. You'll see.  \n",
    "  \n",
    "If you've downloaded and unzipped the data, you'll see that some of the files are quite large (genome-scores.csv is 400+ Mb, ratings.csv is 600+ Mb).  \n",
    "\n",
    "So before we start loading the data to explore further, let's go through the [readme](https://files.grouplens.org/datasets/movielens/ml-25m-README.html) file to build a strategy for loading and analyzing data without clogging up the system.  \n",
    "\n",
    "In real life, either you'll have to load files in small chunks to work out a strategy or you'll have to rely on defined schema for data.  "
   ]
  },
  {
   "cell_type": "markdown",
   "id": "92a51e1b-a303-4138-a0c1-551b444fe9ee",
   "metadata": {},
   "source": [
    "## Schema"
   ]
  },
  {
   "cell_type": "markdown",
   "id": "a407ff43-1428-4b30-9dd3-41f9d6f4c39a",
   "metadata": {},
   "source": [
    "Here's the list of files (as of Aug 2022) that you get when you unzip the dataset:\n",
    "1. **movies**.csv - list of movies with at least one rating.  \n",
    "    Header: ```movieId,title,genres```  \n",
    "1. **links**.csv - IDs to generate links to the movie listing on imdb.com and themoviedb.org  \n",
    "    Header: ```movieId,imdbId,tmdbId```  \n",
    "1. **ratings**.csv - Each line of this file after the header row represents one rating of one movie by one user.  \n",
    "    Header: ```userId,movieId,rating,timestamp```  \n",
    "1. **tags**.csv - Each line of this file after the header row represents one tag applied to one movie by one user.  \n",
    "    Header: ```userId,movieId,tag,timestamp```  \n",
    "1. Tag Genome: The tag genome contains tag relevance scores for movies. See [this](http://files.grouplens.org/papers/tag_genome.pdf)  \n",
    "\t1. **genome-tags**.csv - A list of tags  \n",
    "    Header: ```tagId,tag```  \n",
    "\t1. **genome-scores**.csv - Each movie in the genome has a relevance score value for every tag in the genome  \n",
    "    Header: ```movieId,tagId,relevance```  \n",
    "1. README.txt - Check out the README.txt for more details about the files.  "
   ]
  },
  {
   "cell_type": "markdown",
   "id": "d8f79c88-35b5-4afe-ba29-7fde0f7815d7",
   "metadata": {},
   "source": [
    "## Data encoding details"
   ]
  },
  {
   "cell_type": "markdown",
   "id": "8aae84cd-c7db-4f9c-a174-52c9597847f5",
   "metadata": {},
   "source": [
    "From the Readme file, we have the following observations about the data:\n",
    "1. Each file is a CSV with a single header row\n",
    "1. Separator char is ```,```\n",
    "1. Escape char is ```\"```\n",
    "1. Encoding is UTF-8\n",
    "\n",
    "Let's set these options when reading the CSV files."
   ]
  },
  {
   "cell_type": "markdown",
   "id": "0b7348c5-ea97-40ca-8e62-9ebabf75d841",
   "metadata": {},
   "source": []
  },
  {
   "cell_type": "code",
   "execution_count": 5,
   "id": "8d2051c6-afbf-44fe-afb2-6abd179a46b6",
   "metadata": {},
   "outputs": [],
   "source": [
    "from pyspark.sql.types import *\n",
    "\n",
    "# where possible, let's avoid inferSchema\n",
    "#\n",
    "schema_movies = StructType(\n",
    "    [\n",
    "        StructField(\"movieId\", StringType(), False),\n",
    "        StructField(\"title\", StringType(), False),\n",
    "        StructField(\"genres\", StringType(), True),\n",
    "    ]\n",
    ")\n",
    "#\n",
    "schema_links = StructType(\n",
    "    [\n",
    "        StructField(\"movieId\", StringType(), False),\n",
    "        StructField(\"imdbId\", StringType(), True),\n",
    "        StructField(\"tmdbId\", StringType(), True),\n",
    "    ]\n",
    ")\n",
    "#\n",
    "schema_ratings = StructType(\n",
    "    [\n",
    "        StructField(\"userId\", StringType(), False),\n",
    "        StructField(\"movieId\", StringType(), False),\n",
    "        StructField(\"rating\", FloatType(), True),\n",
    "        StructField(\"timestamp\", StringType(), True),\n",
    "    ]\n",
    ")\n",
    "#\n",
    "schema_tags = StructType(\n",
    "    [\n",
    "        StructField(\"userId\", StringType(), False),\n",
    "        StructField(\"movieId\", StringType(), False),\n",
    "        StructField(\"tag\", StringType(), True),\n",
    "        StructField(\"timestamp\", StringType(), True),\n",
    "    ]\n",
    ")\n",
    "#\n",
    "schema_genome_tags = StructType(\n",
    "    [\n",
    "\t\tStructField(\"tagId\", StringType(), False), \n",
    "\t\tStructField(\"tag\", StringType(), False)\n",
    "\t]\n",
    ")\n",
    "#\n",
    "# using arbitrary precision signed decimals (java.math.BigDecimal) for relevance scores\n",
    "schema_genome_scores = StructType(\n",
    "    [\n",
    "        StructField(\"movieId\", StringType(), False),\n",
    "        StructField(\"tagId\", StringType(), False),\n",
    "        StructField(\"relevance\", DecimalType(), False),\n",
    "    ]\n",
    ")"
   ]
  },
  {
   "cell_type": "code",
   "execution_count": 6,
   "id": "27b47326-dc01-480f-a1bf-c163d3d75870",
   "metadata": {},
   "outputs": [],
   "source": [
    "datalocation = \"./data/ml-25m/\"\n",
    "file_path_movies = datalocation + \"movies.csv\"\n",
    "file_path_links = datalocation + \"links.csv\"\n",
    "file_path_ratings = datalocation + \"ratings.csv\"\n",
    "file_path_tags = datalocation + \"tags.csv\"\n",
    "file_path_genome_tags = datalocation + \"genome-tags.csv\"\n",
    "file_path_genome_scores = datalocation + \"genome-scores.csv\""
   ]
  },
  {
   "cell_type": "markdown",
   "id": "1c01259b-3fe5-4d4a-a040-99027254e3ce",
   "metadata": {},
   "source": [
    "## Loading the data"
   ]
  },
  {
   "cell_type": "markdown",
   "id": "9b97d64a-92ed-4ea8-81dd-816d8f34480f",
   "metadata": {},
   "source": [
    "Let's load each file in turn and observe, just to get a sense of familiarity with the data.  "
   ]
  },
  {
   "cell_type": "code",
   "execution_count": 7,
   "id": "84f8f7d5-f976-4c93-92f1-1bec531580e3",
   "metadata": {},
   "outputs": [],
   "source": [
    "movies_raw = (\n",
    "    spark.read.format(\"csv\")\n",
    "    .option(\"encoding\", \"UTF-8\")\n",
    "    .option(\"header\", True)\n",
    "    .option(\"sep\", \",\")\n",
    "    .option(\"escape\", '\"')\n",
    "    .schema(schema_movies)\n",
    "    .load(file_path_movies)\n",
    ")"
   ]
  },
  {
   "cell_type": "markdown",
   "id": "32a127c2-46fb-4f8c-a4d3-ce72492286b3",
   "metadata": {},
   "source": [
    "#### A note on comparing the *method-chaining* syntax between pandas and pyspark:  \n",
    "Pandas supports that nice \"method chaining\" syntax where you can club everything in parens  \n",
    "and write one operation per line  \n",
    "to do that in spark,  \n",
    "we use the multi-line format - end each line with a space-backslash  \n",
    "and python will continue to add the next line to your single link of code  \n",
    "good thing about the pandas syntax is   \n",
    "you can comment a line and the next one is picked up just fine  \n",
    "also you can pipe() things to another variable for debugging or capturing state  \n",
    "we need to explore how to do that in pyspark  \n",
    "commenting in the middle definetely breaks in pyspark.  "
   ]
  },
  {
   "cell_type": "code",
   "execution_count": 8,
   "id": "04b1d217-1bbb-417e-9cd8-8609fac608fa",
   "metadata": {},
   "outputs": [
    {
     "name": "stdout",
     "output_type": "stream",
     "text": [
      "+-------+----------------------------------+-------------------------------------------+\n",
      "|movieId|title                             |genres                                     |\n",
      "+-------+----------------------------------+-------------------------------------------+\n",
      "|1      |Toy Story (1995)                  |Adventure|Animation|Children|Comedy|Fantasy|\n",
      "|2      |Jumanji (1995)                    |Adventure|Children|Fantasy                 |\n",
      "|3      |Grumpier Old Men (1995)           |Comedy|Romance                             |\n",
      "|4      |Waiting to Exhale (1995)          |Comedy|Drama|Romance                       |\n",
      "|5      |Father of the Bride Part II (1995)|Comedy                                     |\n",
      "|6      |Heat (1995)                       |Action|Crime|Thriller                      |\n",
      "|7      |Sabrina (1995)                    |Comedy|Romance                             |\n",
      "|8      |Tom and Huck (1995)               |Adventure|Children                         |\n",
      "|9      |Sudden Death (1995)               |Action                                     |\n",
      "|10     |GoldenEye (1995)                  |Action|Adventure|Thriller                  |\n",
      "+-------+----------------------------------+-------------------------------------------+\n",
      "only showing top 10 rows\n",
      "\n"
     ]
    }
   ],
   "source": [
    "movies_raw.show(10, False)"
   ]
  },
  {
   "cell_type": "code",
   "execution_count": 9,
   "id": "d55eb626-18b6-4d31-ab23-1fedbd540355",
   "metadata": {},
   "outputs": [],
   "source": [
    "links_raw = (\n",
    "    spark.read.format(\"csv\")\n",
    "    .option(\"encoding\", \"UTF-8\")\n",
    "    .option(\"header\", True)\n",
    "    .option(\"sep\", \",\")\n",
    "    .option(\"escape\", '\"')\n",
    "    .schema(schema_links)\n",
    "    .load(file_path_links)\n",
    ")"
   ]
  },
  {
   "cell_type": "code",
   "execution_count": 10,
   "id": "ea5acfc4-2f83-42f4-90ba-7a25401fd9cb",
   "metadata": {},
   "outputs": [
    {
     "name": "stdout",
     "output_type": "stream",
     "text": [
      "+-------+-------+------+\n",
      "|movieId|imdbId |tmdbId|\n",
      "+-------+-------+------+\n",
      "|1      |0114709|862   |\n",
      "|2      |0113497|8844  |\n",
      "|3      |0113228|15602 |\n",
      "|4      |0114885|31357 |\n",
      "|5      |0113041|11862 |\n",
      "|6      |0113277|949   |\n",
      "|7      |0114319|11860 |\n",
      "|8      |0112302|45325 |\n",
      "|9      |0114576|9091  |\n",
      "|10     |0113189|710   |\n",
      "+-------+-------+------+\n",
      "only showing top 10 rows\n",
      "\n"
     ]
    }
   ],
   "source": [
    "links_raw.show(10, False)"
   ]
  },
  {
   "cell_type": "code",
   "execution_count": 11,
   "id": "07b0b56b-d38f-42bd-a65b-04e2b7c65fff",
   "metadata": {},
   "outputs": [],
   "source": [
    "ratings_raw = (\n",
    "    spark.read.format(\"csv\")\n",
    "    .option(\"encoding\", \"UTF-8\")\n",
    "    .option(\"header\", True)\n",
    "    .option(\"sep\", \",\")\n",
    "    .option(\"escape\", '\"')\n",
    "    .schema(schema_ratings)\n",
    "    .load(file_path_ratings)\n",
    ")"
   ]
  },
  {
   "cell_type": "code",
   "execution_count": 12,
   "id": "990e5be0-e3ed-4622-b648-15a518d8b3ca",
   "metadata": {},
   "outputs": [
    {
     "name": "stdout",
     "output_type": "stream",
     "text": [
      "+------+-------+------+----------+\n",
      "|userId|movieId|rating|timestamp |\n",
      "+------+-------+------+----------+\n",
      "|1     |296    |5.0   |1147880044|\n",
      "|1     |306    |3.5   |1147868817|\n",
      "|1     |307    |5.0   |1147868828|\n",
      "|1     |665    |5.0   |1147878820|\n",
      "|1     |899    |3.5   |1147868510|\n",
      "|1     |1088   |4.0   |1147868495|\n",
      "|1     |1175   |3.5   |1147868826|\n",
      "|1     |1217   |3.5   |1147878326|\n",
      "|1     |1237   |5.0   |1147868839|\n",
      "|1     |1250   |4.0   |1147868414|\n",
      "+------+-------+------+----------+\n",
      "only showing top 10 rows\n",
      "\n"
     ]
    }
   ],
   "source": [
    "ratings_raw.show(10, False)"
   ]
  },
  {
   "cell_type": "code",
   "execution_count": 13,
   "id": "4d5b79e6-20b3-426c-a9ce-8151be2adf24",
   "metadata": {},
   "outputs": [],
   "source": [
    "tags_raw = (\n",
    "    spark.read.format(\"csv\")\n",
    "    .option(\"encoding\", \"UTF-8\")\n",
    "    .option(\"header\", True)\n",
    "    .option(\"sep\", \",\")\n",
    "    .option(\"escape\", '\"')\n",
    "    .schema(schema_tags)\n",
    "    .load(file_path_tags)\n",
    ")"
   ]
  },
  {
   "cell_type": "code",
   "execution_count": 14,
   "id": "2c130655-47cc-4440-8cc6-eea596871800",
   "metadata": {},
   "outputs": [
    {
     "name": "stdout",
     "output_type": "stream",
     "text": [
      "+------+-------+-----------------------+----------+\n",
      "|userId|movieId|tag                    |timestamp |\n",
      "+------+-------+-----------------------+----------+\n",
      "|3     |260    |classic                |1439472355|\n",
      "|3     |260    |sci-fi                 |1439472256|\n",
      "|4     |1732   |dark comedy            |1573943598|\n",
      "|4     |1732   |great dialogue         |1573943604|\n",
      "|4     |7569   |so bad it's good       |1573943455|\n",
      "|4     |44665  |unreliable narrators   |1573943619|\n",
      "|4     |115569 |tense                  |1573943077|\n",
      "|4     |115713 |artificial intelligence|1573942979|\n",
      "|4     |115713 |philosophical          |1573943033|\n",
      "|4     |115713 |tense                  |1573943042|\n",
      "+------+-------+-----------------------+----------+\n",
      "only showing top 10 rows\n",
      "\n"
     ]
    }
   ],
   "source": [
    "tags_raw.show(10, False)"
   ]
  },
  {
   "cell_type": "markdown",
   "id": "6585b63e-eef4-4d33-9c59-173544f734ca",
   "metadata": {},
   "source": [
    "In most cases, prefer loading files in a just-in-time manner to conserve memory and computing resources.  \n",
    "\n",
    "IRL you'd load a file only when needed - big data means big memory, big processing, big everything but it doesn't mean big bull in a china shop. Brute force is rarely going to be the answer - you've got to learn to be lean in your approach. "
   ]
  },
  {
   "cell_type": "markdown",
   "id": "a7e3787f-f1a2-4bca-91f4-68a212361ecd",
   "metadata": {},
   "source": [
    "We will next start analysing the data through a series of exercises."
   ]
  },
  {
   "cell_type": "markdown",
   "id": "2fd0f5b6-f7bb-4afa-b6a5-40d99a4157d7",
   "metadata": {},
   "source": [
    "# Problem Set 1  - ```tags.csv```\n",
    "\n",
    "1. Some tags may have wrapping quotation marks or similar special characters, also leading/trailing spaces etc. Cleanup tags\n",
    "    * for example, the tag ```\"A Christmas Carol\"``` becomes ```A Christmas Carol``` etc.\n",
    "\n",
    "1. List all unique tags found in ```tags.csv```  \n",
    "    * sort all tags lexically \n",
    "    * Also print the execution plan  \n",
    "    * *[think]* If there are multiple ways of doing this, compare the execution plans  \n",
    "  \n",
    "1. Which movies have the most number of tags? \n",
    "    * List movieIds in order of # of tags associated  \n",
    "    * Can we find out which movies have most # of *distinct* tags?\n",
    "    * Does the ```timestamp``` column have any impact on your report?\n",
    "\n",
    "1. Which users have added the most number of tags?\n",
    "    * List userIds in order of # of tags created  \n",
    "    * Can we find out which users have created most # of *distinct* tags?\n",
    "    * Does the ```timestamp``` column have any impact on your report?\n",
    "\n",
    "1. Which users have tagged the most number of movies?\n",
    "    * Like before, can we find out which users have tagged the most # of *distinct* movies? Does this question make sense in the context of users?\n",
    "    * Does the ```timestamp``` column have any impact on your report?\n",
    "\n",
    "1. *[optional, skip on first attept]* We want to find out if there were days of higher activity during the tagging exercise or if the tagging output was more-or-less consistent. \n",
    "    * Convert time-stamps to Day-Month-Year. \n",
    "    * Find the date range (min-date, max-date) during which the tagging activity took place.\n",
    "    * Plot number of movies tagged per day during the date range\n",
    "\n",
    "1. *[optional, skip on first attept]* We want to find out how many users were active every day of the tagging activity. \n",
    "    * Plot number of users who tagged at least one movie during the tagging activity date range"
   ]
  },
  {
   "cell_type": "markdown",
   "id": "b8c9b542-bb74-4938-bf70-91f46bc69968",
   "metadata": {},
   "source": [
    "## Solutions to Problem Set 1"
   ]
  },
  {
   "cell_type": "markdown",
   "id": "36cb7c90-9337-42d9-91be-130c65affeef",
   "metadata": {},
   "source": [
    "### Cleanup  \n",
    "Some tags may have wrapping quotation marks or similar special characters, also leading/trailing spaces etc. Cleanup tags  \n",
    "\n",
    "* for example, the tag \"A Christmas Carol\" becomes A Christmas Carol etc."
   ]
  },
  {
   "cell_type": "code",
   "execution_count": 15,
   "id": "8273dde2-9b3e-49ad-bf22-51bd1c6ef761",
   "metadata": {},
   "outputs": [],
   "source": [
    "# Remove wrapping quotation marks from tags\n",
    "\n",
    "# if there's cleanup needed,\n",
    "# we do that first before finding out unique records,\n",
    "# chances are uniqueness will be affected if we don't follow this order.\n",
    "\n",
    "from pyspark.sql.functions import col, lower, regexp_replace, trim"
   ]
  },
  {
   "cell_type": "code",
   "execution_count": 16,
   "id": "39158e33-3174-41ba-91fd-10a76989ff12",
   "metadata": {},
   "outputs": [],
   "source": [
    "# define a regex pattern to use.\n",
    "# ^ indicates start of string, $ indicates end of string\n",
    "# double quote or single quote or ampersand or bang just after start of string\n",
    "pattern_start = \"^\\\"|^'|^&|^#\"\n",
    "# double quote or single quote or ampersand or bang just before end of string\n",
    "pattern_end = \"\\\"$|'$|&$|#$\"\n",
    "pattern = pattern_start + \"|\" + pattern_end"
   ]
  },
  {
   "cell_type": "code",
   "execution_count": 17,
   "id": "26823fb6-1875-481c-bec1-b8e18ac148a4",
   "metadata": {},
   "outputs": [],
   "source": [
    "# create a new tags dataframe with cleaned up data\n",
    "tags = tags_raw.withColumn(\"tag\", regexp_replace(trim(col(\"tag\")), pattern, \"\"))"
   ]
  },
  {
   "cell_type": "code",
   "execution_count": 18,
   "id": "a68a2109-0e14-42e2-a10a-11e9fc5c55ce",
   "metadata": {},
   "outputs": [
    {
     "name": "stdout",
     "output_type": "stream",
     "text": [
      "+------+-------+-------------------+----------+\n",
      "|userId|movieId|                tag| timestamp|\n",
      "+------+-------+-------------------+----------+\n",
      "| 63844|   4023|\"A Christmas Carol\"|1457037403|\n",
      "+------+-------+-------------------+----------+\n",
      "\n",
      "+------+-------+-----------------+----------+\n",
      "|userId|movieId|              tag| timestamp|\n",
      "+------+-------+-----------------+----------+\n",
      "| 63844|   4023|A Christmas Carol|1457037403|\n",
      "+------+-------+-----------------+----------+\n",
      "\n"
     ]
    }
   ],
   "source": [
    "# quotes stripped and other chars too...\n",
    "tags_raw.filter(col(\"tag\").contains(\"Christmas Carol\")).show()\n",
    "tags.filter(col(\"tag\").contains(\"Christmas Carol\")).show()"
   ]
  },
  {
   "cell_type": "markdown",
   "id": "9b9abbed-9d33-42fd-8f52-cb71ea5015da",
   "metadata": {},
   "source": [
    "### List all unique tags found in ```tags.csv```  \n",
    "    * sort all tags lexically \n",
    "    * Also print the execution plan  \n",
    "    * *[think]* If there are multiple ways of doing this, compare the execution plans  "
   ]
  },
  {
   "cell_type": "code",
   "execution_count": 19,
   "id": "7e06588a-7a74-4cc6-9f59-00bfc11fcf3f",
   "metadata": {},
   "outputs": [
    {
     "name": "stdout",
     "output_type": "stream",
     "text": [
      "+------+-------+----------------+----------------+----------+\n",
      "|userId|movieId|tag             |lower tag       |timestamp |\n",
      "+------+-------+----------------+----------------+----------+\n",
      "|3     |260    |classic         |classic         |1439472355|\n",
      "|3     |260    |sci-fi          |sci-fi          |1439472256|\n",
      "|4     |1732   |dark comedy     |dark comedy     |1573943598|\n",
      "|4     |1732   |great dialogue  |great dialogue  |1573943604|\n",
      "|4     |7569   |so bad it's good|so bad it's good|1573943455|\n",
      "+------+-------+----------------+----------------+----------+\n",
      "only showing top 5 rows\n",
      "\n"
     ]
    }
   ],
   "source": [
    "# unique tags found in tags.csv - prep\n",
    "# careful - comparision should be case-insensitive\n",
    "# because 'Christmas Special' and 'Christmas special' are really the same thing\n",
    "# create a new column in tags\n",
    "tags = tags.withColumn(\"lower tag\", lower(col(\"tag\")))\n",
    "# reorder columns for easy readability\n",
    "tags = tags.select(\"userId\", \"movieId\", \"tag\", \"lower tag\", \"timestamp\")\n",
    "tags.show(5, False)"
   ]
  },
  {
   "cell_type": "code",
   "execution_count": 20,
   "id": "9c442685-a28b-423e-be41-9e328526ab87",
   "metadata": {},
   "outputs": [
    {
     "name": "stdout",
     "output_type": "stream",
     "text": [
      "+-------------+\n",
      "|lower tag    |\n",
      "+-------------+\n",
      "|anime        |\n",
      "|art          |\n",
      "|traveling    |\n",
      "|travel       |\n",
      "|loss of child|\n",
      "+-------------+\n",
      "only showing top 5 rows\n",
      "\n"
     ]
    }
   ],
   "source": [
    "# unique tags found in tags.csv - method 1, using distinct()\n",
    "distinct_tags1 = tags.select(\"lower tag\").distinct()\n",
    "#\n",
    "# let's do the explaining later, so it's easy to compare methods\n",
    "# distinct_tags.explain(True)\n",
    "# show 5 rows, do not truncate\n",
    "distinct_tags1.show(5, False)"
   ]
  },
  {
   "cell_type": "code",
   "execution_count": 21,
   "id": "cb92c8af-6f83-4434-991e-e6fceca74136",
   "metadata": {},
   "outputs": [
    {
     "name": "stdout",
     "output_type": "stream",
     "text": [
      "+-------------+-----+\n",
      "|lower tag    |count|\n",
      "+-------------+-----+\n",
      "|anime        |1585 |\n",
      "|art          |340  |\n",
      "|traveling    |14   |\n",
      "|travel       |256  |\n",
      "|loss of child|21   |\n",
      "+-------------+-----+\n",
      "only showing top 5 rows\n",
      "\n"
     ]
    }
   ],
   "source": [
    "# unique tags found in tags.csv - method 2, using groupBy()\n",
    "# an aggregator like count() results in a dataframe\n",
    "# distinct_tags2 = tags.select('lower tag').groupBy('lower tag').count()\n",
    "distinct_tags2 = tags.select(\"lower tag\").groupBy(\"lower tag\").count()\n",
    "# let's do the explaining later, so it's easy to compare methods\n",
    "# distinct_tags2.explain(True)\n",
    "# show 5 rows, no truncate\n",
    "distinct_tags2.show(5, False)"
   ]
  },
  {
   "cell_type": "markdown",
   "id": "56737c96-bd19-4032-a312-354b5aca786d",
   "metadata": {},
   "source": [
    "Execution plan explanations to compare distinct() and groupBy()...  \n",
    "(uncomment the lines below)"
   ]
  },
  {
   "cell_type": "code",
   "execution_count": 22,
   "id": "5221651c-18cf-4860-8b4b-0376d641c776",
   "metadata": {},
   "outputs": [],
   "source": [
    "# distinct_tags1.explain(True)"
   ]
  },
  {
   "cell_type": "code",
   "execution_count": 23,
   "id": "4270ccc7-4036-47c6-a77d-c5a0fbe08e6e",
   "metadata": {},
   "outputs": [],
   "source": [
    "# distinct_tags2.explain(True)"
   ]
  },
  {
   "cell_type": "markdown",
   "id": "b8ef3fba-5f2a-4ce5-ad25-c98a924df2b9",
   "metadata": {},
   "source": [
    "Compare the costs in the two execution plans"
   ]
  },
  {
   "cell_type": "code",
   "execution_count": 24,
   "id": "295a4f11-aa1a-4075-9b9d-3f6f88a570dc",
   "metadata": {},
   "outputs": [],
   "source": [
    "# distinct_tags1.explain(mode='cost')"
   ]
  },
  {
   "cell_type": "code",
   "execution_count": 25,
   "id": "5641a0ca-7f26-4bd0-822a-d814cb333f15",
   "metadata": {},
   "outputs": [],
   "source": [
    "# distinct_tags2.explain(mode='cost')"
   ]
  },
  {
   "cell_type": "markdown",
   "id": "7564a63c-f908-40a9-bfef-a06f86af3947",
   "metadata": {},
   "source": [
    "The two plans look identical:"
   ]
  },
  {
   "cell_type": "markdown",
   "id": "769873c9-3412-40fe-8fe1-c517524f57c8",
   "metadata": {},
   "source": [
    "**distinct()**  \n",
    "  \n",
    "```\n",
    "== Physical Plan ==\n",
    "AdaptiveSparkPlan isFinalPlan=false\n",
    "+- Sort [lower tag#130 ASC NULLS FIRST], true, 0\n",
    "   +- Exchange rangepartitioning(lower tag#130 ASC NULLS FIRST, 200), ENSURE_REQUIREMENTS, [id=#1415]\n",
    "      +- HashAggregate(keys=[lower tag#130], functions=[], output=[lower tag#130])\n",
    "         +- Exchange hashpartitioning(lower tag#130, 200), ENSURE_REQUIREMENTS, [id=#1412]\n",
    "            +- HashAggregate(keys=[lower tag#130], functions=[], output=[lower tag#130])\n",
    "               +- Project [lower(regexp_replace(trim(tag#55, None), ^\"|^'|^&|^#|\"$|'$|&$|#$, , 1)) AS lower tag#130]\n",
    "                  +- FileScan csv [tag#55] Batched: false, DataFilters: [], Format: CSV, Location: InMemoryFileIndex(1 paths)[file:/.../tags.csv], PartitionFilters: [], PushedFilters: [], ReadSchema: struct<tag:string>\n",
    "```"
   ]
  },
  {
   "cell_type": "markdown",
   "id": "f3d7dee1-0c96-423b-8145-94ae3f94ee59",
   "metadata": {},
   "source": [
    "**groupBy()**  \n",
    "  \n",
    "```\n",
    "== Physical Plan ==\n",
    "AdaptiveSparkPlan isFinalPlan=false\n",
    "+- Sort [lower tag#130 ASC NULLS FIRST], true, 0\n",
    "   +- Exchange rangepartitioning(lower tag#130 ASC NULLS FIRST, 200), ENSURE_REQUIREMENTS, [id=#1437]\n",
    "      +- HashAggregate(keys=[lower tag#130], functions=[count(1)], output=[lower tag#130, count#176L])\n",
    "         +- Exchange hashpartitioning(lower tag#130, 200), ENSURE_REQUIREMENTS, [id=#1434]\n",
    "            +- HashAggregate(keys=[lower tag#130], functions=[partial_count(1)], output=[lower tag#130, count#186L])\n",
    "               +- Project [lower(regexp_replace(trim(tag#55, None), ^\"|^'|^&|^#|\"$|'$|&$|#$, , 1)) AS lower tag#130]\n",
    "                  +- FileScan csv [tag#55] Batched: false, DataFilters: [], Format: CSV, Location: InMemoryFileIndex(1 paths)[file:/.../tags.csv], PartitionFilters: [], PushedFilters: [], ReadSchema: struct<tag:string>\n",
    "```\n"
   ]
  },
  {
   "cell_type": "markdown",
   "id": "ea3f534c-5961-4774-827a-5b542e20f8b5",
   "metadata": {},
   "source": [
    "Spark optimizes both to identical plans / Inner workings for both seem identical in the optimized execution plan.  \n",
    "\n",
    "So we tend to prefer the one that is easier to read when debugging the code.  \n",
    "\n",
    "There may be a need for both distinct() and groupBy() in the same piece of code - for readability. We'll see that a few sections later.  \n",
    "\n",
    "*In some cases, I saw (and I am probably wrong here) that the groupBy() method seems marginally more expensive in terms of memory as compared to distinct(). Log a comment/ticket/PR if you have evidence, insights, ideas to the contrary/in-support.*"
   ]
  },
  {
   "cell_type": "markdown",
   "id": "d5709669-721a-470d-9659-812d903a382f",
   "metadata": {},
   "source": [
    "#### Sort lexically"
   ]
  },
  {
   "cell_type": "code",
   "execution_count": 26,
   "id": "daacc5c0-662f-461f-8651-cc22ed73c2eb",
   "metadata": {},
   "outputs": [],
   "source": [
    "# sort unique tags lexically\n",
    "# ignore case when sorting values\n",
    "distinct_tags1 = distinct_tags1.orderBy(col(\"lower tag\").asc())\n",
    "distinct_tags2 = distinct_tags2.orderBy(col(\"lower tag\").asc())"
   ]
  },
  {
   "cell_type": "code",
   "execution_count": 27,
   "id": "b6bf12b9-1103-4ae9-874d-21fd595e141c",
   "metadata": {},
   "outputs": [
    {
     "name": "stdout",
     "output_type": "stream",
     "text": [
      "+-----------------------------------------------------------+\n",
      "|lower tag                                                  |\n",
      "+-----------------------------------------------------------+\n",
      "|a christmas carol                                          |\n",
      "|anti christmas                                             |\n",
      "|best christmas movie                                       |\n",
      "|christmas                                                  |\n",
      "|christmas bonus                                            |\n",
      "|christmas card                                             |\n",
      "|christmas carol                                            |\n",
      "|christmas england history                                  |\n",
      "|christmas eve                                              |\n",
      "|christmas gift                                             |\n",
      "|christmas holiday                                          |\n",
      "|christmas horror                                           |\n",
      "|christmas lights                                           |\n",
      "|christmas miracle                                          |\n",
      "|christmas morning                                          |\n",
      "|christmas movie                                            |\n",
      "|christmas music                                            |\n",
      "|christmas parade                                           |\n",
      "|christmas party                                            |\n",
      "|christmas present                                          |\n",
      "|christmas slasher                                          |\n",
      "|christmas songs                                            |\n",
      "|christmas special                                          |\n",
      "|christmas spirit                                           |\n",
      "|christmas story                                            |\n",
      "|christmas time                                             |\n",
      "|christmas tree                                             |\n",
      "|christmas tree dealer                                      |\n",
      "|christmas, dicken's                                        |\n",
      "|christmastime                                              |\n",
      "|classic christmas tale                                     |\n",
      "|father christmas                                           |\n",
      "|https://movielens.org/explore?tag=christmas&sortby=tagscore|\n",
      "|non-traditional christmas special                          |\n",
      "|saving christmas                                           |\n",
      "|see: merry christmas (joyeux noël)                         |\n",
      "+-----------------------------------------------------------+\n",
      "\n"
     ]
    }
   ],
   "source": [
    "distinct_tags1.filter(col(\"lower tag\").contains(\"christmas\")).show(50, False)"
   ]
  },
  {
   "cell_type": "code",
   "execution_count": 28,
   "id": "a863d5f3-f13a-4d76-a814-ec2cf1570cb1",
   "metadata": {},
   "outputs": [
    {
     "name": "stdout",
     "output_type": "stream",
     "text": [
      "+-----------------------------------------------------------+-----+\n",
      "|lower tag                                                  |count|\n",
      "+-----------------------------------------------------------+-----+\n",
      "|a christmas carol                                          |1    |\n",
      "|anti christmas                                             |1    |\n",
      "|best christmas movie                                       |7    |\n",
      "|christmas                                                  |1162 |\n",
      "|christmas bonus                                            |1    |\n",
      "|christmas card                                             |2    |\n",
      "|christmas carol                                            |11   |\n",
      "|christmas england history                                  |1    |\n",
      "|christmas eve                                              |36   |\n",
      "|christmas gift                                             |5    |\n",
      "|christmas holiday                                          |4    |\n",
      "|christmas horror                                           |12   |\n",
      "|christmas lights                                           |4    |\n",
      "|christmas miracle                                          |1    |\n",
      "|christmas morning                                          |1    |\n",
      "|christmas movie                                            |18   |\n",
      "|christmas music                                            |1    |\n",
      "|christmas parade                                           |1    |\n",
      "|christmas party                                            |25   |\n",
      "|christmas present                                          |2    |\n",
      "|christmas slasher                                          |1    |\n",
      "|christmas songs                                            |1    |\n",
      "|christmas special                                          |6    |\n",
      "|christmas spirit                                           |5    |\n",
      "|christmas story                                            |1    |\n",
      "|christmas time                                             |4    |\n",
      "|christmas tree                                             |22   |\n",
      "|christmas tree dealer                                      |1    |\n",
      "|christmas, dicken's                                        |1    |\n",
      "|christmastime                                              |2    |\n",
      "|classic christmas tale                                     |5    |\n",
      "|father christmas                                           |3    |\n",
      "|https://movielens.org/explore?tag=christmas&sortby=tagscore|1    |\n",
      "|non-traditional christmas special                          |1    |\n",
      "|saving christmas                                           |3    |\n",
      "|see: merry christmas (joyeux noël)                         |1    |\n",
      "+-----------------------------------------------------------+-----+\n",
      "\n"
     ]
    }
   ],
   "source": [
    "distinct_tags2.filter(col(\"lower tag\").contains(\"christmas\")).show(50, False)"
   ]
  },
  {
   "cell_type": "markdown",
   "id": "b2ecaabd-5f76-4702-8810-258336520aad",
   "metadata": {},
   "source": [
    "### Which movies have the most number of tags?  \n",
    "* List movieIds in order of # of tags associated  \n",
    "* Can we find out which movies have most # of *distinct* tags?  \n",
    "* *[optional]* Does the ```timestamp``` column have any impact on your report?  "
   ]
  },
  {
   "cell_type": "code",
   "execution_count": 29,
   "id": "ccb6777d-b91a-4d6d-8aa0-1a2fd133c854",
   "metadata": {},
   "outputs": [
    {
     "name": "stdout",
     "output_type": "stream",
     "text": [
      "+-------+-----+\n",
      "|movieId|count|\n",
      "+-------+-----+\n",
      "|    260| 6180|\n",
      "|    296| 4767|\n",
      "|  79132| 4767|\n",
      "| 109487| 3616|\n",
      "|   2959| 3612|\n",
      "|    318| 3597|\n",
      "|   2571| 3573|\n",
      "|    356| 2701|\n",
      "|   4226| 2601|\n",
      "|   7361| 2533|\n",
      "|    593| 2482|\n",
      "|   4878| 2417|\n",
      "|   4973| 2226|\n",
      "|  48780| 2126|\n",
      "| 115713| 2115|\n",
      "|  72998| 2105|\n",
      "|    541| 2081|\n",
      "|  58559| 1956|\n",
      "|     47| 1947|\n",
      "|   2858| 1904|\n",
      "+-------+-----+\n",
      "only showing top 20 rows\n",
      "\n"
     ]
    }
   ],
   "source": [
    "# movie IDs with most number of tags\n",
    "movies_by_tag_count = tags.groupBy(\"movieId\").count()\n",
    "movies_by_tag_count.orderBy(col(\"count\").desc()).show()"
   ]
  },
  {
   "cell_type": "markdown",
   "id": "0741bd36-ecc3-420d-a71f-13924e271f1c",
   "metadata": {},
   "source": [
    "These movies have thousands of tags??? that makes no sense... let's see what some of those are:"
   ]
  },
  {
   "cell_type": "code",
   "execution_count": 30,
   "id": "206dc640-3682-4154-af45-e4b4422236d1",
   "metadata": {},
   "outputs": [
    {
     "name": "stdout",
     "output_type": "stream",
     "text": [
      "+---------------+-----+\n",
      "|lowercase tag  |count|\n",
      "+---------------+-----+\n",
      "|sci-fi         |658  |\n",
      "|space          |302  |\n",
      "|classic        |273  |\n",
      "|science fiction|270  |\n",
      "|space adventure|263  |\n",
      "|classic sci-fi |232  |\n",
      "|action         |178  |\n",
      "|adventure      |160  |\n",
      "|fantasy        |150  |\n",
      "|star wars      |143  |\n",
      "|space opera    |139  |\n",
      "|harrison ford  |117  |\n",
      "|good vs evil   |115  |\n",
      "|epic           |112  |\n",
      "|space action   |104  |\n",
      "|space epic     |84   |\n",
      "|cult classic   |76   |\n",
      "|george lucas   |71   |\n",
      "|epic adventure |55   |\n",
      "|jedi           |55   |\n",
      "|scifi          |54   |\n",
      "|aliens         |53   |\n",
      "|futuristic     |51   |\n",
      "|scifi cult     |46   |\n",
      "|hero's journey |45   |\n",
      "+---------------+-----+\n",
      "only showing top 25 rows\n",
      "\n"
     ]
    }
   ],
   "source": [
    "tags.filter(col(\"movieId\") == 260).groupBy(\n",
    "    lower(col(\"tag\")).alias(\"lowercase tag\")\n",
    ").count().orderBy(col(\"count\").desc()).show(25, False)"
   ]
  },
  {
   "cell_type": "markdown",
   "id": "af318175-bd95-4f77-8301-a59bfb125994",
   "metadata": {},
   "source": [
    "Any guesses what this movie could be?"
   ]
  },
  {
   "cell_type": "code",
   "execution_count": 31,
   "id": "9f6e1484-5ccf-4028-9e8b-1ec696337fdc",
   "metadata": {},
   "outputs": [
    {
     "name": "stdout",
     "output_type": "stream",
     "text": [
      "+-------+-----------------------------------------+-----------------------+\n",
      "|movieId|title                                    |genres                 |\n",
      "+-------+-----------------------------------------+-----------------------+\n",
      "|260    |Star Wars: Episode IV - A New Hope (1977)|Action|Adventure|Sci-Fi|\n",
      "+-------+-----------------------------------------+-----------------------+\n",
      "\n"
     ]
    }
   ],
   "source": [
    "movies_raw.filter(col(\"movieId\") == 260).show(1, False)"
   ]
  },
  {
   "cell_type": "markdown",
   "id": "6df4964b-121b-43f5-ab38-b30e5cd910fb",
   "metadata": {},
   "source": [
    "No surprises there!"
   ]
  },
  {
   "cell_type": "markdown",
   "id": "440500e3-47f2-491c-a06d-0982d4a0dc91",
   "metadata": {},
   "source": [
    "### Which users have added the most number of tags?\n",
    "\n",
    "* List ```userIds``` in order of # of tags created\n",
    "* Can we find out which users have created most # of distinct tags?"
   ]
  },
  {
   "cell_type": "code",
   "execution_count": 32,
   "id": "81275048-fc15-47da-ad30-05537b6e3432",
   "metadata": {},
   "outputs": [
    {
     "name": "stdout",
     "output_type": "stream",
     "text": [
      "+------+------+\n",
      "|userId| count|\n",
      "+------+------+\n",
      "|  6550|183356|\n",
      "| 21096| 20317|\n",
      "| 62199| 13700|\n",
      "|160540| 12076|\n",
      "|155146| 11445|\n",
      "| 70092| 10582|\n",
      "|131347| 10195|\n",
      "| 14116| 10167|\n",
      "| 31047|  8463|\n",
      "|141263|  7114|\n",
      "| 64333|  6944|\n",
      "| 47969|  6599|\n",
      "| 15204|  6426|\n",
      "| 84824|  6209|\n",
      "|123527|  6005|\n",
      "|148457|  5960|\n",
      "| 19346|  5919|\n",
      "|  6285|  5837|\n",
      "| 96795|  5334|\n",
      "| 44444|  4941|\n",
      "+------+------+\n",
      "only showing top 20 rows\n",
      "\n"
     ]
    }
   ],
   "source": [
    "# users who have created most tags\n",
    "users_by_count_of_tag_entries = tags.groupBy(\"userId\").count()\n",
    "users_by_count_of_tag_entries.orderBy(col(\"count\").desc()).show()"
   ]
  },
  {
   "cell_type": "markdown",
   "id": "af3d8c11-3324-44b8-8492-90d253abfa0a",
   "metadata": {},
   "source": [
    "Can we find out which users have created most # of distinct tags?"
   ]
  },
  {
   "cell_type": "code",
   "execution_count": 33,
   "id": "0461b92d-d7b7-47e9-96b3-8b10cd1db26e",
   "metadata": {},
   "outputs": [
    {
     "name": "stdout",
     "output_type": "stream",
     "text": [
      "+------+-----+\n",
      "|userId|count|\n",
      "+------+-----+\n",
      "|  6550|20765|\n",
      "| 31047| 5574|\n",
      "|155146| 5252|\n",
      "| 62199| 4959|\n",
      "|131347| 4834|\n",
      "|160540| 4783|\n",
      "|148457| 3550|\n",
      "| 47969| 3042|\n",
      "| 14116| 2913|\n",
      "|141263| 2837|\n",
      "| 19346| 2808|\n",
      "| 96795| 2304|\n",
      "| 64333| 2268|\n",
      "| 15204| 2190|\n",
      "| 44444| 2156|\n",
      "|105728| 2150|\n",
      "|123527| 2131|\n",
      "| 34047| 2103|\n",
      "| 56238| 2018|\n",
      "| 83426| 1942|\n",
      "+------+-----+\n",
      "only showing top 20 rows\n",
      "\n"
     ]
    }
   ],
   "source": [
    "# isolate userId and tags and identify distinct pairs\n",
    "distinct_tags_by_user = tags.select(\"userId\", \"tag\").distinct()\n",
    "# count distinct tags by user\n",
    "count_distinct_tags_by_user = distinct_tags_by_user.groupBy(\"userId\").count()\n",
    "# list count of distinct tags by user\n",
    "count_distinct_tags_by_user.orderBy(col(\"count\").desc()).show()"
   ]
  },
  {
   "cell_type": "markdown",
   "id": "6717e5d8-9a93-42e1-b19c-d99807c1eb25",
   "metadata": {},
   "source": [
    "*Holy Sith!* \n",
    "\n",
    "*183356* tags, *20765* unique tags - UserId ```6550``` is either a beast or probably a bot!  \n",
    "\n",
    "In most cases we may want to treat this one as an outlier, further analysis may be needed before taking that decision, but it's good to know 6550 exists.  "
   ]
  },
  {
   "cell_type": "code",
   "execution_count": 34,
   "id": "7df30d92-c8eb-4cbc-8ea6-ffe3ebe5daf7",
   "metadata": {},
   "outputs": [
    {
     "name": "stdout",
     "output_type": "stream",
     "text": [
      "+------+---------------+\n",
      "|userId|tag            |\n",
      "+------+---------------+\n",
      "|6550  |007            |\n",
      "|6550  |077            |\n",
      "|6550  |10th century   |\n",
      "|6550  |11th century   |\n",
      "|6550  |12th century   |\n",
      "|6550  |13th century   |\n",
      "|6550  |14th century   |\n",
      "|6550  |15th century   |\n",
      "|6550  |16th century   |\n",
      "|6550  |17th century   |\n",
      "|6550  |1860s          |\n",
      "|6550  |18th century   |\n",
      "|6550  |1910s          |\n",
      "|6550  |1920s          |\n",
      "|6550  |1930s          |\n",
      "|6550  |1940s          |\n",
      "|6550  |1950s          |\n",
      "|6550  |1960s          |\n",
      "|6550  |1970s          |\n",
      "|6550  |1980s          |\n",
      "|6550  |1990s          |\n",
      "|6550  |19th century   |\n",
      "|6550  |1st century    |\n",
      "|6550  |2040s          |\n",
      "|6550  |20th century   |\n",
      "|6550  |21st century   |\n",
      "|6550  |25th century   |\n",
      "|6550  |2nd century    |\n",
      "|6550  |3 dimensional  |\n",
      "|6550  |360 video      |\n",
      "|6550  |3d             |\n",
      "|6550  |47 ronin       |\n",
      "|6550  |80's           |\n",
      "|6550  |80's style     |\n",
      "|6550  |Afghanistan    |\n",
      "|6550  |Africa         |\n",
      "|6550  |Agent Coulson  |\n",
      "|6550  |Area 51        |\n",
      "|6550  |Australian     |\n",
      "|6550  |B Movie        |\n",
      "|6550  |B-movie        |\n",
      "|6550  |Bane           |\n",
      "|6550  |Batgirl        |\n",
      "|6550  |Batman         |\n",
      "|6550  |Black and white|\n",
      "|6550  |Catwoman       |\n",
      "|6550  |Chucky         |\n",
      "|6550  |Criterion      |\n",
      "|6550  |DC Universe    |\n",
      "|6550  |Dario Argento  |\n",
      "+------+---------------+\n",
      "only showing top 50 rows\n",
      "\n"
     ]
    }
   ],
   "source": [
    "distinct_tags_by_user.filter(col(\"userId\") == \"6550\").orderBy(col(\"tag\")).show(\n",
    "    50, False\n",
    ")"
   ]
  },
  {
   "cell_type": "markdown",
   "id": "f9d10706-3eb2-43da-a60d-816ef388ca05",
   "metadata": {},
   "source": [
    "Yeah! I'd say 6550 is some automated tagging mechanism. "
   ]
  },
  {
   "cell_type": "markdown",
   "id": "8d389f6d-735c-4137-b0a1-fe3814554d30",
   "metadata": {},
   "source": [
    "### Which users have tagged the most number of movies?\n",
    "* Like before, can we find out which users have tagged the most # of *distinct* movies? Does this question make sense in the context of users?\n",
    "* *[optional]* Does the ```timestamp``` column have any impact on your report?"
   ]
  },
  {
   "cell_type": "code",
   "execution_count": 35,
   "id": "8fe0881d-5452-42ad-9d76-130341c4f614",
   "metadata": {},
   "outputs": [
    {
     "name": "stdout",
     "output_type": "stream",
     "text": [
      "+------+-----+\n",
      "|userId|count|\n",
      "+------+-----+\n",
      "|  6550|37913|\n",
      "| 62199|10840|\n",
      "| 21096| 7547|\n",
      "| 70092| 7171|\n",
      "| 64333| 2615|\n",
      "| 14116| 2361|\n",
      "| 72360| 2073|\n",
      "|125054| 1712|\n",
      "|131347| 1602|\n",
      "| 34164| 1526|\n",
      "+------+-----+\n",
      "only showing top 10 rows\n",
      "\n"
     ]
    }
   ],
   "source": [
    "# which users have tagged the most number of movies?\n",
    "\n",
    "# approach:\n",
    "# create a df that has only users and movies\n",
    "# this df may have multiple rows for\n",
    "# same userId and movieId as each user has given many tags to each movie\n",
    "# so only pick distinct records.\n",
    "# then use groupBy and count as ususal\n",
    "\n",
    "users_and_movies_in_tags = tags.select(\"userId\", \"movieId\").distinct()\n",
    "\n",
    "users_and_movies_in_tags_count = (\n",
    "    users_and_movies_in_tags.groupBy(\"userId\").count().orderBy(col(\"count\").desc())\n",
    ")\n",
    "\n",
    "users_and_movies_in_tags_count.show(10)"
   ]
  },
  {
   "cell_type": "code",
   "execution_count": 36,
   "id": "01a02110-c383-4b07-bfc0-ca6967110ba4",
   "metadata": {},
   "outputs": [
    {
     "name": "stdout",
     "output_type": "stream",
     "text": [
      "+-------+-----+\n",
      "|movieId|count|\n",
      "+-------+-----+\n",
      "|   2069|    1|\n",
      "|  85022|    1|\n",
      "|   3959|    1|\n",
      "| 119655|    1|\n",
      "|  26112|    1|\n",
      "|  60336|    1|\n",
      "|   1436|    1|\n",
      "|   3210|    1|\n",
      "|   2904|    1|\n",
      "|  35640|    1|\n",
      "+-------+-----+\n",
      "only showing top 10 rows\n",
      "\n"
     ]
    }
   ],
   "source": [
    "# check:\n",
    "# filter for any one userId, check that all movies occur only once\n",
    "users_and_movies_in_tags.filter(col(\"userId\") == 6550).groupBy(\n",
    "    \"movieId\"\n",
    ").count().orderBy(col(\"count\").desc()).show(10)"
   ]
  },
  {
   "cell_type": "markdown",
   "id": "49b856f6-7bf5-464c-b0c4-d05ffb567c60",
   "metadata": {},
   "source": [
    "### Tagging activity related analysis\n",
    "\n",
    "* Convert time-stamps to Day-Month-Year.\n",
    "* Find the date range (min-date, max-date) during which the tagging activity took place.\n",
    "* Plot number of movies tagged per day during the date range"
   ]
  },
  {
   "cell_type": "code",
   "execution_count": 37,
   "id": "500f7cd3-7693-4e8f-9976-968d3a1d8045",
   "metadata": {},
   "outputs": [
    {
     "name": "stdout",
     "output_type": "stream",
     "text": [
      "+------+-------+-----------------------+-----------------------+----------+-------------------+------------+\n",
      "|userId|movieId|tag                    |lower tag              |timestamp |datetime           |tagging date|\n",
      "+------+-------+-----------------------+-----------------------+----------+-------------------+------------+\n",
      "|3     |260    |classic                |classic                |1439472355|2015-08-13 18:55:55|2015-08-13  |\n",
      "|3     |260    |sci-fi                 |sci-fi                 |1439472256|2015-08-13 18:54:16|2015-08-13  |\n",
      "|4     |1732   |dark comedy            |dark comedy            |1573943598|2019-11-17 04:03:18|2019-11-17  |\n",
      "|4     |1732   |great dialogue         |great dialogue         |1573943604|2019-11-17 04:03:24|2019-11-17  |\n",
      "|4     |7569   |so bad it's good       |so bad it's good       |1573943455|2019-11-17 04:00:55|2019-11-17  |\n",
      "|4     |44665  |unreliable narrators   |unreliable narrators   |1573943619|2019-11-17 04:03:39|2019-11-17  |\n",
      "|4     |115569 |tense                  |tense                  |1573943077|2019-11-17 03:54:37|2019-11-17  |\n",
      "|4     |115713 |artificial intelligence|artificial intelligence|1573942979|2019-11-17 03:52:59|2019-11-17  |\n",
      "|4     |115713 |philosophical          |philosophical          |1573943033|2019-11-17 03:53:53|2019-11-17  |\n",
      "|4     |115713 |tense                  |tense                  |1573943042|2019-11-17 03:54:02|2019-11-17  |\n",
      "+------+-------+-----------------------+-----------------------+----------+-------------------+------------+\n",
      "only showing top 10 rows\n",
      "\n"
     ]
    }
   ],
   "source": [
    "from pyspark.sql.functions import from_unixtime, to_date\n",
    "\n",
    "# convert unix epoch timestamp to date-time style timestamp\n",
    "tags = tags.withColumn(\"datetime\", from_unixtime(col(\"timestamp\")))\n",
    "# extract date from date-time timestamp\n",
    "tags = tags.withColumn(\"tagging date\", to_date(col(\"datetime\")))\n",
    "tags.show(10, False)"
   ]
  },
  {
   "cell_type": "code",
   "execution_count": 38,
   "id": "a8868fb8-29cd-47ce-bb3e-ee04af737d0b",
   "metadata": {},
   "outputs": [
    {
     "name": "stdout",
     "output_type": "stream",
     "text": [
      "+------------+-----+\n",
      "|tagging date|count|\n",
      "+------------+-----+\n",
      "|2018-06-10  |26871|\n",
      "|2018-05-27  |26644|\n",
      "|2018-05-28  |21775|\n",
      "|2018-05-18  |20808|\n",
      "|2018-05-25  |18488|\n",
      "+------------+-----+\n",
      "only showing top 5 rows\n",
      "\n"
     ]
    }
   ],
   "source": [
    "tagging_activity_by_date = tags.groupBy(col(\"tagging date\")).count()\n",
    "#\n",
    "tagging_activity_by_date.orderBy(col(\"count\").desc()).show(5, False)"
   ]
  },
  {
   "cell_type": "markdown",
   "id": "47727b92-623b-4391-9eb2-f516b2948989",
   "metadata": {},
   "source": [
    "#### date range during which the tagging activity took place\n",
    "\n",
    "* (min-date, max-date) "
   ]
  },
  {
   "cell_type": "code",
   "execution_count": 39,
   "id": "8b489616-5a8e-4d16-8f04-297ed00044c2",
   "metadata": {},
   "outputs": [
    {
     "name": "stdout",
     "output_type": "stream",
     "text": [
      "+-----------------+\n",
      "|min(tagging date)|\n",
      "+-----------------+\n",
      "|       2005-12-24|\n",
      "+-----------------+\n",
      "\n",
      "+-----------------+\n",
      "|max(tagging date)|\n",
      "+-----------------+\n",
      "|       2019-11-21|\n",
      "+-----------------+\n",
      "\n",
      "+-------+-----------------+\n",
      "|summary|            count|\n",
      "+-------+-----------------+\n",
      "|  count|             5056|\n",
      "|   mean|           216.25|\n",
      "| stddev|848.8262672935343|\n",
      "|    min|                1|\n",
      "|    25%|               61|\n",
      "|    50%|              120|\n",
      "|    75%|              224|\n",
      "|    max|            26871|\n",
      "+-------+-----------------+\n",
      "\n"
     ]
    }
   ],
   "source": [
    "from pyspark.sql.functions import avg, max, min\n",
    "\n",
    "#\n",
    "tagging_min_date = tagging_activity_by_date.select(min(col(\"tagging date\")))\n",
    "tagging_max_date = tagging_activity_by_date.select(max(col(\"tagging date\")))\n",
    "#\n",
    "tagging_min_date.show()\n",
    "tagging_max_date.show()\n",
    "# tagging_activity_by_date.select(min(col('count'))).show()\n",
    "# tagging_activity_by_date.select(max(col('count'))).show()\n",
    "# tagging_activity_by_date.select(avg(col('count'))).show()\n",
    "tagging_activity_by_date.summary().show()"
   ]
  },
  {
   "cell_type": "code",
   "execution_count": 40,
   "id": "e6c91c63-0ac3-47e9-b330-2950169df90e",
   "metadata": {},
   "outputs": [],
   "source": [
    "# setup matplotlib before starting plotting\n",
    "import matplotlib.pyplot as plt\n",
    "\n",
    "# jupyter mpl magic\n",
    "%matplotlib inline\n",
    "\n",
    "# note: in case you want to use the widget or notebook magic:\n",
    "# ensure that ipympl is also installed.\n",
    "# there may be other steps involved as well\n",
    "# for e.g. widget works based on nodeJS, so you'll have to config/enable that too"
   ]
  },
  {
   "cell_type": "code",
   "execution_count": 41,
   "id": "67d536af-1b0b-4ced-bb25-bf841e12a4a5",
   "metadata": {},
   "outputs": [],
   "source": [
    "# determine the X and Y lists for plotting.\n",
    "# converting a spark dataframe column to list:\n",
    "tagging_activity_x = (\n",
    "    tagging_activity_by_date.select(col(\"tagging date\"))\n",
    "    .rdd.flatMap(lambda x: x)\n",
    "    .collect()\n",
    ")\n",
    "\n",
    "tagging_activity_y = (\n",
    "    tagging_activity_by_date.select(col(\"count\")).rdd.flatMap(lambda x: x).collect()\n",
    ")"
   ]
  },
  {
   "cell_type": "code",
   "execution_count": 42,
   "id": "434f5ec0-2203-44bd-9655-8e71ecf44a59",
   "metadata": {},
   "outputs": [
    {
     "data": {
      "image/png": "[encoded data removed]",
      "text/plain": [
       "<Figure size 1800x600 with 1 Axes>"
      ]
     },
     "metadata": {},
     "output_type": "display_data"
    }
   ],
   "source": [
    "plt.figure(figsize=(18, 6))\n",
    "plt.bar(tagging_activity_x, tagging_activity_y)\n",
    "# Don't need to skew the graph with some really high counts\n",
    "# limit to 1500\n",
    "ax = plt.gca()\n",
    "ax.set_ylim([0, 1500])\n",
    "plt.title(\"count of tags by date\")\n",
    "plt.xlabel(\"date\")\n",
    "plt.ylabel(\"count\")\n",
    "plt.show()"
   ]
  },
  {
   "cell_type": "markdown",
   "id": "3584bda4-ee84-4877-91dd-b27a31af12fe",
   "metadata": {},
   "source": [
    "Seems like the activity peaked extraordinarily around May/June 2018"
   ]
  },
  {
   "cell_type": "markdown",
   "id": "d3e6b7a2-268a-49ce-b8d3-574ed8458a58",
   "metadata": {},
   "source": [
    "### Daily active users during the tagging activity.\n",
    "\n",
    "* Plot number of users who tagged at least one movie during the tagging activity date range"
   ]
  },
  {
   "cell_type": "code",
   "execution_count": 43,
   "id": "4f81b26b-1408-42f8-be40-995548a8c1f9",
   "metadata": {},
   "outputs": [
    {
     "name": "stdout",
     "output_type": "stream",
     "text": [
      "+------------+-----+\n",
      "|tagging date|count|\n",
      "+------------+-----+\n",
      "|  2015-08-17|  180|\n",
      "|  2018-05-06|   87|\n",
      "|  2018-05-05|   78|\n",
      "|  2018-05-07|   71|\n",
      "|  2015-07-27|   64|\n",
      "+------------+-----+\n",
      "only showing top 5 rows\n",
      "\n",
      "+-------+-----------------+\n",
      "|summary|            count|\n",
      "+-------+-----------------+\n",
      "|  count|             5056|\n",
      "|   mean|16.48378164556962|\n",
      "| stddev|9.770346849818784|\n",
      "|    min|                1|\n",
      "|    25%|               10|\n",
      "|    50%|               15|\n",
      "|    75%|               21|\n",
      "|    max|              180|\n",
      "+-------+-----------------+\n",
      "\n"
     ]
    }
   ],
   "source": [
    "distinct_users_doing_tagging_by_date = (\n",
    "    tags.select(\"userId\", \"tagging date\").distinct().groupBy(\"tagging date\").count()\n",
    ")\n",
    "#\n",
    "distinct_users_doing_tagging_by_date.orderBy(col(\"count\").desc()).show(5)\n",
    "distinct_users_doing_tagging_by_date.summary().show()"
   ]
  },
  {
   "cell_type": "code",
   "execution_count": 44,
   "id": "f25b0cec-aaa7-46aa-8f6d-5c9157b03a73",
   "metadata": {},
   "outputs": [],
   "source": [
    "# like before, we need to determine X and Y lists.\n",
    "\n",
    "distinct_users_doing_tagging_by_date_x = (\n",
    "    distinct_users_doing_tagging_by_date.select(col(\"tagging date\"))\n",
    "    .rdd.flatMap(lambda x: x)\n",
    "    .collect()\n",
    ")\n",
    "\n",
    "distinct_users_doing_tagging_by_date_y = (\n",
    "    distinct_users_doing_tagging_by_date.select(col(\"count\"))\n",
    "    .rdd.flatMap(lambda x: x)\n",
    "    .collect()\n",
    ")"
   ]
  },
  {
   "cell_type": "code",
   "execution_count": 45,
   "id": "4bba9052-f815-4a33-bf37-8e8fc7bfb8e5",
   "metadata": {},
   "outputs": [
    {
     "data": {
      "image/png": "[encoded data removed]",
      "text/plain": [
       "<Figure size 1800x500 with 1 Axes>"
      ]
     },
     "metadata": {},
     "output_type": "display_data"
    }
   ],
   "source": [
    "plt.figure(figsize=(18, 5))\n",
    "plt.bar(distinct_users_doing_tagging_by_date_x, distinct_users_doing_tagging_by_date_y)\n",
    "# limit the y axis, some observations may go beyond the ceiling\n",
    "ax = plt.gca()\n",
    "ax.set_ylim([0, 50])\n",
    "plt.title(\"Active users by date\")\n",
    "plt.xlabel(\"date\")\n",
    "plt.ylabel(\"count\")\n",
    "plt.show()"
   ]
  },
  {
   "cell_type": "markdown",
   "id": "f9959e65-6276-4156-a866-5ad1ed8011e6",
   "metadata": {},
   "source": [
    "Seems like while there were peaks and troughs, but visually, we don't see too much variation in the daily active users"
   ]
  },
  {
   "cell_type": "markdown",
   "id": "7f5a6b0b-fc6a-4964-9737-99b29ddadb6c",
   "metadata": {},
   "source": [
    "## Insights from Problem Set 1"
   ]
  },
  {
   "cell_type": "markdown",
   "id": "f94e1f9b-f728-4e53-8a9c-7991d82681fd",
   "metadata": {},
   "source": [
    "What have we learned from working on Problem Set 1?\n",
    "\n",
    "1. Try to get a specific schema\n",
    "1. Clean up data before analysis or aggregation\n",
    "1. Clearly document weather you need case sensitive or case insensitive comparisions\n",
    "1. Use ```df.withColumn``` to create new columns\n",
    "1. ```col().contains()``` is like the ```LIKE``` clause in SQL, partial matches etc.\n",
    "1. Spark Columns: Only use literal name where it's trivial, otherwise prefer ```col('name')```\n",
    "1. ```distinct()``` vs ```groupBy()```\n",
    "1. To convert a column in a spark data frame to a list (for plotting data or other uses) you isolate the column, convert to rdd, flatmap, collect.\n",
    "  \n",
    "1. and another thing... use ```spark.catalog.clearCache()``` to clear the cache"
   ]
  },
  {
   "cell_type": "code",
   "execution_count": 46,
   "id": "c7c777d7-7072-4660-a099-1f425bdb4cee",
   "metadata": {},
   "outputs": [],
   "source": [
    "# clear cache\n",
    "spark.catalog.clearCache()"
   ]
  },
  {
   "cell_type": "markdown",
   "id": "dcfaf432-5732-4e81-831a-e03bf6531b25",
   "metadata": {},
   "source": [
    "# Problem Set 2  - ```movies.csv```\n",
    "\n",
    "1. How many unique movies exist in the ```movies.csv``` dataset?  \n",
    "\n",
    "1. Prepare a yearwise list of movies - Extract the year of release in movies.csv into a new column year_of_release   \n",
    "\n",
    "1. List all unique genres found in ```movies.csv```, ordered lexically, case insensitive  \n",
    "\n",
    "1. Prepare a genere wise list of movies - list all the movies for 'Crime', for 'Romance', and so on...  \n",
    "\n",
    "1. Find number of films associated with each genre - add a new column to the movies dataframe: ```absolute_frequency_of_genre```  \n",
    "\n",
    "1. Add another column ```num_genres``` and list total number of genres associated with each film  \n",
    "\n",
    "1. Find out if a movie has both genres associated with it and also has ```(no genres listed)``` - if this is the case, find out how many such movies exist in the data set\n"
   ]
  },
  {
   "cell_type": "markdown",
   "id": "5bea67d1-adfc-4f8d-b199-c1c65e43116f",
   "metadata": {},
   "source": [
    "## Solutions to Problem Set 2"
   ]
  },
  {
   "cell_type": "markdown",
   "id": "970c3af6-a4ae-4fdb-8819-8cc619fb8c7e",
   "metadata": {},
   "source": [
    "### How many unique movies exist in the movies.csv dataset?"
   ]
  },
  {
   "cell_type": "code",
   "execution_count": 47,
   "id": "d4413ab6-a4f9-4fa9-a397-fcb547857d57",
   "metadata": {},
   "outputs": [
    {
     "name": "stdout",
     "output_type": "stream",
     "text": [
      "+-------+--------------------+--------------------+\n",
      "|movieId|               title|              genres|\n",
      "+-------+--------------------+--------------------+\n",
      "|      1|    Toy Story (1995)|Adventure|Animati...|\n",
      "|      2|      Jumanji (1995)|Adventure|Childre...|\n",
      "|      3|Grumpier Old Men ...|      Comedy|Romance|\n",
      "|      4|Waiting to Exhale...|Comedy|Drama|Romance|\n",
      "|      5|Father of the Bri...|              Comedy|\n",
      "+-------+--------------------+--------------------+\n",
      "only showing top 5 rows\n",
      "\n"
     ]
    }
   ],
   "source": [
    "# this is what the movies_raw data looks like:\n",
    "movies_raw.show(5)"
   ]
  },
  {
   "cell_type": "markdown",
   "id": "26c098f3-816c-4f91-b9c1-2a352ecd1617",
   "metadata": {},
   "source": [
    "Let's think about uniqueness \n",
    "* Do we look at ```movieId``` for uniqueness or ```title```?\n",
    "* ```movieId``` sound like the right choice, as it'll keep the data consistent with tags, tag-relevance and ratings etc.\n",
    "* *What could break here?* Let's try to articulate our assumptions and test them\n",
    "* Can we assume that *primary keys mean unique movies*?\n",
    "* Let's test that assumption, if it breaks, we'll know that our solutions must account for multiple ```movieId``` pointing to the same ```title```\n",
    "* Following from above, can we assume that if the value in ```title``` matches for multiple ```movieId``` values then it's the same movie?\n",
    "* Again, let's test this by building and reviewing the IMDB links"
   ]
  },
  {
   "cell_type": "code",
   "execution_count": 48,
   "id": "3e27051f-e4c7-4f06-8a9e-a53b280e820c",
   "metadata": {},
   "outputs": [
    {
     "name": "stdout",
     "output_type": "stream",
     "text": [
      "+--------------------+-----+\n",
      "|               title|count|\n",
      "+--------------------+-----+\n",
      "|     Casanova (2005)|    2|\n",
      "|Another World (2014)|    2|\n",
      "|     Believer (2018)|    2|\n",
      "|         Eros (2004)|    2|\n",
      "|Let There Be Ligh...|    2|\n",
      "|    Slow Burn (2000)|    2|\n",
      "|   Absolution (2015)|    2|\n",
      "|     Paradise (2013)|    2|\n",
      "|  The Promise (2016)|    2|\n",
      "|        Reset (2017)|    2|\n",
      "|The Midnight Man ...|    2|\n",
      "|         Eden (2014)|    2|\n",
      "+--------------------+-----+\n",
      "only showing top 12 rows\n",
      "\n"
     ]
    },
    {
     "data": {
      "text/plain": [
       "98"
      ]
     },
     "execution_count": 48,
     "metadata": {},
     "output_type": "execute_result"
    }
   ],
   "source": [
    "movies_with_matching_titles = (\n",
    "    movies_raw.groupby(col(\"title\")).count().filter(col(\"count\") > 1)\n",
    ")\n",
    "movies_with_matching_titles.orderBy(col(\"count\").desc()).show(12)\n",
    "movies_with_matching_titles.count()"
   ]
  },
  {
   "cell_type": "code",
   "execution_count": 49,
   "id": "c4fe1090-d473-42a7-ad58-1df3194b6169",
   "metadata": {},
   "outputs": [
    {
     "name": "stdout",
     "output_type": "stream",
     "text": [
      "+-------+---------------+--------------------+\n",
      "|movieId|          title|              genres|\n",
      "+-------+---------------+--------------------+\n",
      "|  42015|Casanova (2005)|Action|Adventure|...|\n",
      "| 128862|Casanova (2005)|Comedy|Drama|Romance|\n",
      "+-------+---------------+--------------------+\n",
      "\n"
     ]
    }
   ],
   "source": [
    "movies_raw.filter(col(\"title\") == \"Casanova (2005)\").show()"
   ]
  },
  {
   "cell_type": "code",
   "execution_count": 50,
   "id": "be31309a-b71f-4b5e-8949-b29294d19125",
   "metadata": {},
   "outputs": [
    {
     "name": "stdout",
     "output_type": "stream",
     "text": [
      "+-------+-------+------+\n",
      "|movieId| imdbId|tmdbId|\n",
      "+-------+-------+------+\n",
      "|  42015|0402894|  9681|\n",
      "+-------+-------+------+\n",
      "\n",
      "+-------+-------+------+\n",
      "|movieId| imdbId|tmdbId|\n",
      "+-------+-------+------+\n",
      "| 128862|0427042|122023|\n",
      "+-------+-------+------+\n",
      "\n"
     ]
    }
   ],
   "source": [
    "# links look different\n",
    "links_raw.filter(col(\"movieId\") == \"42015\").show()\n",
    "links_raw.filter(col(\"movieId\") == \"128862\").show()"
   ]
  },
  {
   "cell_type": "code",
   "execution_count": 51,
   "id": "82ad942b-3597-489f-8945-374b217384cf",
   "metadata": {},
   "outputs": [],
   "source": [
    "# Right join to work out movieIds for all the movies with matching titles\n",
    "movies_with_multiple_title_matches = movies_raw.join(\n",
    "    movies_with_matching_titles, \"title\", \"right\"\n",
    ")"
   ]
  },
  {
   "cell_type": "code",
   "execution_count": 52,
   "id": "08339c91-c2f3-4d58-b5ab-0e622569177c",
   "metadata": {},
   "outputs": [],
   "source": [
    "# compare the imdbId values for all movies with matching 'title' values in movies_raw\n",
    "links_for_movies_with_multiple_title_matches = movies_with_multiple_title_matches.join(\n",
    "    links_raw, \"movieId\", \"left\"\n",
    ")"
   ]
  },
  {
   "cell_type": "code",
   "execution_count": 53,
   "id": "0d1003c2-be44-4a47-8527-089fa030a8f5",
   "metadata": {},
   "outputs": [
    {
     "name": "stdout",
     "output_type": "stream",
     "text": [
      "+-------+--------------------+--------------------+-----+-------+------+\n",
      "|movieId|               title|              genres|count| imdbId|tmdbId|\n",
      "+-------+--------------------+--------------------+-----+-------+------+\n",
      "| 128862|     Casanova (2005)|Comedy|Drama|Romance|    2|0427042|122023|\n",
      "|  42015|     Casanova (2005)|Action|Adventure|...|    2|0402894|  9681|\n",
      "| 156686|Another World (2014)|  (no genres listed)|    2|3500888|355925|\n",
      "| 140633|Another World (2014)|         Documentary|    2|3326110|262897|\n",
      "| 198947|     Believer (2018)|        Action|Crime|    2|7095654|518963|\n",
      "| 190199|     Believer (2018)|         Documentary|    2|7689424|490001|\n",
      "| 147002|         Eros (2004)|       Drama|Romance|    2|0343663| 39850|\n",
      "|  32600|         Eros (2004)|               Drama|    2|0377059|  null|\n",
      "| 191867|Let There Be Ligh...|         Documentary|    2|6184774|438442|\n",
      "| 179783|Let There Be Ligh...|  (no genres listed)|    2|5804314|480881|\n",
      "+-------+--------------------+--------------------+-----+-------+------+\n",
      "only showing top 10 rows\n",
      "\n"
     ]
    }
   ],
   "source": [
    "links_for_movies_with_multiple_title_matches.show(10)"
   ]
  },
  {
   "cell_type": "code",
   "execution_count": 54,
   "id": "f2373292-dc66-4a81-bde1-fb98a469b750",
   "metadata": {},
   "outputs": [
    {
     "name": "stdout",
     "output_type": "stream",
     "text": [
      "+--------+-----+\n",
      "|  imdbId|count|\n",
      "+--------+-----+\n",
      "| 6306400|    1|\n",
      "| 2463842|    1|\n",
      "|10376068|    1|\n",
      "| 0449040|    1|\n",
      "| 0377059|    1|\n",
      "+--------+-----+\n",
      "only showing top 5 rows\n",
      "\n"
     ]
    }
   ],
   "source": [
    "# counts are all 1 - therefore all movies with matching titles still are unique movies\n",
    "links_for_movies_with_multiple_title_matches.groupBy(col(\"imdbId\")).count().orderBy(\n",
    "    col(\"count\").desc()\n",
    ").show(5)\n",
    "\n",
    "# conclusion: all movies in movies.csv are unique."
   ]
  },
  {
   "cell_type": "code",
   "execution_count": 55,
   "id": "74c59bc6-c0a2-47ae-9b48-a29fcf1c1891",
   "metadata": {},
   "outputs": [
    {
     "data": {
      "text/plain": [
       "62423"
      ]
     },
     "execution_count": 55,
     "metadata": {},
     "output_type": "execute_result"
    }
   ],
   "source": [
    "# number of unique movies in movies.csv\n",
    "movies_raw.distinct().count()"
   ]
  },
  {
   "cell_type": "markdown",
   "id": "ef390c94-8a18-4e6f-8781-d8f61f6ae2b3",
   "metadata": {},
   "source": [
    "The [site](https://grouplens.org/datasets/movielens/25m/) also reads:  \n",
    "\n",
    "\"MovieLens 25M movie ratings. Stable benchmark dataset. 25 million ratings and one million tag applications applied to 62,000 movies by 162,000 users. Includes tag genome data with 15 million relevance scores across 1,129 tags. Released 12/2019\"\n",
    "\n",
    "So we seem to be in the right ballpark here.  \n",
    "Let's continue with our analysis."
   ]
  },
  {
   "cell_type": "markdown",
   "id": "1aec309a-0237-4f68-82b2-2dba1c5a5633",
   "metadata": {},
   "source": [
    "### Extract the year of release in movies.csv into a new column year_of_release"
   ]
  },
  {
   "cell_type": "code",
   "execution_count": 56,
   "id": "219d556a-8161-4d94-b436-de2a06b935e7",
   "metadata": {},
   "outputs": [
    {
     "name": "stdout",
     "output_type": "stream",
     "text": [
      "\\(([0-9]{4})\\)$\n"
     ]
    }
   ],
   "source": [
    "# let's build a regex pattern to isolate the year of release\n",
    "# this should be the last set of parenthesis in the title\n",
    "# the regex needs a backslash to escape the parenthesis symbols, as these are used to identify groups\n",
    "open_paren = \"\\\\(\"\n",
    "close_paren = \"\\\\)\"\n",
    "# this should have only 4 digits between the parenthesis\n",
    "year_pattern = \"([0-9]{4})\"\n",
    "# the title should end with the closing parenthesis\n",
    "close_paren = close_paren + \"$\"\n",
    "# ignore whitespace\n",
    "# keep unicode in mind\n",
    "# global\n",
    "# options_pattern = '/gxu'\n",
    "# final pattern: the options_pattern thing is not supported in python\n",
    "year_of_release_regex = open_paren + year_pattern + close_paren  # +options_pattern\n",
    "print(year_of_release_regex)"
   ]
  },
  {
   "cell_type": "code",
   "execution_count": 57,
   "id": "9b15c736-12cc-4499-b7bf-b8c01d7fced7",
   "metadata": {},
   "outputs": [],
   "source": [
    "from pyspark.sql.functions import regexp_extract"
   ]
  },
  {
   "cell_type": "code",
   "execution_count": 58,
   "id": "a1dec6f9-df77-4664-8733-8713d54bc6a1",
   "metadata": {},
   "outputs": [
    {
     "name": "stdout",
     "output_type": "stream",
     "text": [
      "+-------+--------------------+--------------------+-----------------+-----------------+\n",
      "|movieId|               title|              genres|year_of_release_0|year_of_release_1|\n",
      "+-------+--------------------+--------------------+-----------------+-----------------+\n",
      "|      1|    Toy Story (1995)|Adventure|Animati...|           (1995)|             1995|\n",
      "|      2|      Jumanji (1995)|Adventure|Childre...|           (1995)|             1995|\n",
      "|      3|Grumpier Old Men ...|      Comedy|Romance|           (1995)|             1995|\n",
      "|      4|Waiting to Exhale...|Comedy|Drama|Romance|           (1995)|             1995|\n",
      "|      5|Father of the Bri...|              Comedy|           (1995)|             1995|\n",
      "|      6|         Heat (1995)|Action|Crime|Thri...|           (1995)|             1995|\n",
      "|      7|      Sabrina (1995)|      Comedy|Romance|           (1995)|             1995|\n",
      "|      8| Tom and Huck (1995)|  Adventure|Children|           (1995)|             1995|\n",
      "|      9| Sudden Death (1995)|              Action|           (1995)|             1995|\n",
      "|     10|    GoldenEye (1995)|Action|Adventure|...|           (1995)|             1995|\n",
      "+-------+--------------------+--------------------+-----------------+-----------------+\n",
      "only showing top 10 rows\n",
      "\n"
     ]
    }
   ],
   "source": [
    "# our regex has 2 groups,\n",
    "# 0 gives the first group match i.e. (1995)\n",
    "# 1 gives the next group match i.e. 1995\n",
    "movies_raw.withColumn(\n",
    "    \"year_of_release_0\", regexp_extract(col(\"title\"), year_of_release_regex, 0)\n",
    ").withColumn(\n",
    "    \"year_of_release_1\", regexp_extract(col(\"title\"), year_of_release_regex, 1)\n",
    ").show(\n",
    "    10\n",
    ")"
   ]
  },
  {
   "cell_type": "code",
   "execution_count": 59,
   "id": "0c555738-2c01-449e-acd0-7ba1cfe5ee42",
   "metadata": {},
   "outputs": [],
   "source": [
    "# so we'll use group 1 to create our dataframe\n",
    "movies = movies_raw.withColumn(\n",
    "    \"year_of_release\", regexp_extract(col(\"title\"), year_of_release_regex, 1)\n",
    ")"
   ]
  },
  {
   "cell_type": "code",
   "execution_count": 60,
   "id": "13bd6444-a1e0-45e0-b35d-ff367d18fb4c",
   "metadata": {},
   "outputs": [
    {
     "name": "stdout",
     "output_type": "stream",
     "text": [
      "+-------+--------------------+--------------------+---------------+\n",
      "|movieId|               title|              genres|year_of_release|\n",
      "+-------+--------------------+--------------------+---------------+\n",
      "|      1|    Toy Story (1995)|Adventure|Animati...|           1995|\n",
      "|      2|      Jumanji (1995)|Adventure|Childre...|           1995|\n",
      "|      3|Grumpier Old Men ...|      Comedy|Romance|           1995|\n",
      "|      4|Waiting to Exhale...|Comedy|Drama|Romance|           1995|\n",
      "|      5|Father of the Bri...|              Comedy|           1995|\n",
      "|      6|         Heat (1995)|Action|Crime|Thri...|           1995|\n",
      "|      7|      Sabrina (1995)|      Comedy|Romance|           1995|\n",
      "|      8| Tom and Huck (1995)|  Adventure|Children|           1995|\n",
      "|      9| Sudden Death (1995)|              Action|           1995|\n",
      "|     10|    GoldenEye (1995)|Action|Adventure|...|           1995|\n",
      "+-------+--------------------+--------------------+---------------+\n",
      "only showing top 10 rows\n",
      "\n"
     ]
    }
   ],
   "source": [
    "movies.show(10)"
   ]
  },
  {
   "cell_type": "markdown",
   "id": "78d53750-8ce0-4730-8e88-32654ccac34c",
   "metadata": {},
   "source": [
    "### List all unique genres found in movies.csv, ordered lexically, case insensitive"
   ]
  },
  {
   "cell_type": "code",
   "execution_count": 61,
   "id": "258f4050-2430-40d4-bca9-dc72b3164a38",
   "metadata": {},
   "outputs": [],
   "source": [
    "from pyspark.sql.functions import explode, split"
   ]
  },
  {
   "cell_type": "code",
   "execution_count": 62,
   "id": "b2541b40-c525-4c86-8cad-dadafda472ec",
   "metadata": {},
   "outputs": [],
   "source": [
    "# unique genres found in movies.csv\n",
    "movie_genres = movies_raw.select(\n",
    "    explode(  # convert each element in an array to a new row\n",
    "        split(movies_raw.genres, \"\\|\")  # split the data on pipe and create an arry\n",
    "    ).alias(\"genre\")\n",
    ")"
   ]
  },
  {
   "cell_type": "code",
   "execution_count": 63,
   "id": "d287aa72-4e19-42f4-9f4c-c85bc7883568",
   "metadata": {},
   "outputs": [
    {
     "name": "stdout",
     "output_type": "stream",
     "text": [
      "+------------------+\n",
      "|             genre|\n",
      "+------------------+\n",
      "|             Crime|\n",
      "|           Romance|\n",
      "|          Thriller|\n",
      "|         Adventure|\n",
      "|             Drama|\n",
      "|               War|\n",
      "|       Documentary|\n",
      "|           Fantasy|\n",
      "|           Mystery|\n",
      "|           Musical|\n",
      "|         Animation|\n",
      "|         Film-Noir|\n",
      "|(no genres listed)|\n",
      "|              IMAX|\n",
      "|            Horror|\n",
      "|           Western|\n",
      "|            Comedy|\n",
      "|          Children|\n",
      "|            Action|\n",
      "|            Sci-Fi|\n",
      "+------------------+\n",
      "\n"
     ]
    }
   ],
   "source": [
    "unique_movie_genres = movie_genres.distinct()\n",
    "unique_movie_genres.show()"
   ]
  },
  {
   "cell_type": "markdown",
   "id": "2c3e53a4-435f-45b9-b17a-f62cd498538c",
   "metadata": {},
   "source": [
    "### Find number of films associated with each genre - absolute_frequency_of_genre  "
   ]
  },
  {
   "cell_type": "code",
   "execution_count": 64,
   "id": "48e84ae7-94d5-42bc-9480-25498028538c",
   "metadata": {},
   "outputs": [
    {
     "name": "stdout",
     "output_type": "stream",
     "text": [
      "+------------------+---------------------------+\n",
      "|             genre|absolute_frequency_of_genre|\n",
      "+------------------+---------------------------+\n",
      "|             Drama|                      25606|\n",
      "|            Comedy|                      16870|\n",
      "|          Thriller|                       8654|\n",
      "|           Romance|                       7719|\n",
      "|            Action|                       7348|\n",
      "|            Horror|                       5989|\n",
      "|       Documentary|                       5605|\n",
      "|             Crime|                       5319|\n",
      "|(no genres listed)|                       5062|\n",
      "|         Adventure|                       4145|\n",
      "|            Sci-Fi|                       3595|\n",
      "|          Children|                       2935|\n",
      "|         Animation|                       2929|\n",
      "|           Mystery|                       2925|\n",
      "|           Fantasy|                       2731|\n",
      "|               War|                       1874|\n",
      "|           Western|                       1399|\n",
      "|           Musical|                       1054|\n",
      "|         Film-Noir|                        353|\n",
      "|              IMAX|                        195|\n",
      "+------------------+---------------------------+\n",
      "\n"
     ]
    }
   ],
   "source": [
    "movie_genres_with_abs_freq = movie_genres.groupBy(\"genre\").count()\n",
    "movie_genres_with_abs_freq = movie_genres_with_abs_freq.orderBy(\n",
    "    col(\"count\").desc()\n",
    ").withColumnRenamed(\"count\", \"absolute_frequency_of_genre\")\n",
    "\n",
    "movie_genres_with_abs_freq.show()\n",
    "# TODO: rename the column 'count' to 'freq'"
   ]
  },
  {
   "cell_type": "code",
   "execution_count": 65,
   "id": "00f21d6d-2f2f-4238-8ca7-fcc315868043",
   "metadata": {},
   "outputs": [
    {
     "data": {
      "image/png": "[encoded data removed]",
      "text/plain": [
       "<Figure size 2000x500 with 1 Axes>"
      ]
     },
     "metadata": {},
     "output_type": "display_data"
    }
   ],
   "source": [
    "# convert each column to a list\n",
    "movie_genres_with_abs_freq_x = (\n",
    "    movie_genres_with_abs_freq.select(col(\"genre\")).rdd.flatMap(lambda x: x).collect()\n",
    ")\n",
    "movie_genres_with_abs_freq_y = (\n",
    "    movie_genres_with_abs_freq.select(col(\"absolute_frequency_of_genre\"))\n",
    "    .rdd.flatMap(lambda x: x)\n",
    "    .collect()\n",
    ")\n",
    "\n",
    "plt.figure(figsize=(20, 5))\n",
    "plt.bar(movie_genres_with_abs_freq_x, movie_genres_with_abs_freq_y)\n",
    "plt.title(\"Absolute Frequencies of Genres\")\n",
    "plt.xlabel(\"Genre\")\n",
    "plt.ylabel(\"Number Of Movies\")\n",
    "plt.show()"
   ]
  },
  {
   "cell_type": "markdown",
   "id": "821be388-0c4c-46b7-aca1-2c18d3d90433",
   "metadata": {},
   "source": [
    "### List total number of genres associated with each film\n",
    "\n",
    "* Add another column num_genres and list total number of genres associated with each film"
   ]
  },
  {
   "cell_type": "code",
   "execution_count": 66,
   "id": "034407d8-3fa7-4873-baad-a53653424854",
   "metadata": {},
   "outputs": [],
   "source": [
    "# like before we'll split the genres column on | and count the elements\n",
    "#\n",
    "from pyspark.sql.functions import size\n",
    "\n",
    "movies = movies.withColumn(\"num_genres\", size(split(col(\"genres\"), \"\\|\")))"
   ]
  },
  {
   "cell_type": "code",
   "execution_count": 67,
   "id": "b7514311-631e-4460-817d-9f95f594b282",
   "metadata": {},
   "outputs": [
    {
     "name": "stdout",
     "output_type": "stream",
     "text": [
      "+-------+----------------------------------+-------------------------------------------+---------------+----------+\n",
      "|movieId|title                             |genres                                     |year_of_release|num_genres|\n",
      "+-------+----------------------------------+-------------------------------------------+---------------+----------+\n",
      "|1      |Toy Story (1995)                  |Adventure|Animation|Children|Comedy|Fantasy|1995           |5         |\n",
      "|2      |Jumanji (1995)                    |Adventure|Children|Fantasy                 |1995           |3         |\n",
      "|3      |Grumpier Old Men (1995)           |Comedy|Romance                             |1995           |2         |\n",
      "|4      |Waiting to Exhale (1995)          |Comedy|Drama|Romance                       |1995           |3         |\n",
      "|5      |Father of the Bride Part II (1995)|Comedy                                     |1995           |1         |\n",
      "|6      |Heat (1995)                       |Action|Crime|Thriller                      |1995           |3         |\n",
      "|7      |Sabrina (1995)                    |Comedy|Romance                             |1995           |2         |\n",
      "|8      |Tom and Huck (1995)               |Adventure|Children                         |1995           |2         |\n",
      "|9      |Sudden Death (1995)               |Action                                     |1995           |1         |\n",
      "|10     |GoldenEye (1995)                  |Action|Adventure|Thriller                  |1995           |3         |\n",
      "+-------+----------------------------------+-------------------------------------------+---------------+----------+\n",
      "only showing top 10 rows\n",
      "\n"
     ]
    }
   ],
   "source": [
    "movies.show(10, False)"
   ]
  },
  {
   "cell_type": "markdown",
   "id": "a906b62d-70d4-4abf-b7e3-ba04e7cd1059",
   "metadata": {},
   "source": [
    "### Prepare a genere wise list of movies\n",
    "\n",
    "* list all the movies for 'Crime', for 'Romance', and so on..."
   ]
  },
  {
   "cell_type": "markdown",
   "id": "95b39275-ebbb-4382-9738-fcaa781269c1",
   "metadata": {},
   "source": [
    "A naive appoach would be to filter movies for each genre that we know. This is doable as the number of genres we found is small. But it's not flexible and will need revision as new genres come to light. In practice, we may need something that's more dynamic."
   ]
  },
  {
   "cell_type": "code",
   "execution_count": 68,
   "id": "dc957ffc-3225-4507-95ae-80528cf7103c",
   "metadata": {},
   "outputs": [
    {
     "name": "stdout",
     "output_type": "stream",
     "text": [
      "+-------+--------------------+--------------------+---------------+----------+\n",
      "|movieId|               title|              genres|year_of_release|num_genres|\n",
      "+-------+--------------------+--------------------+---------------+----------+\n",
      "|      3|Grumpier Old Men ...|      Comedy|Romance|           1995|         2|\n",
      "|      4|Waiting to Exhale...|Comedy|Drama|Romance|           1995|         3|\n",
      "|      7|      Sabrina (1995)|      Comedy|Romance|           1995|         2|\n",
      "|     11|American Presiden...|Comedy|Drama|Romance|           1995|         3|\n",
      "|     15|Cutthroat Island ...|Action|Adventure|...|           1995|         3|\n",
      "|     17|Sense and Sensibi...|       Drama|Romance|           1995|         2|\n",
      "|     25|Leaving Las Vegas...|       Drama|Romance|           1995|         2|\n",
      "|     28|   Persuasion (1995)|       Drama|Romance|           1995|         2|\n",
      "|     33|Wings of Courage ...|Adventure|Romance...|           1995|         3|\n",
      "|     35|   Carrington (1995)|       Drama|Romance|           1995|         2|\n",
      "|     39|     Clueless (1995)|      Comedy|Romance|           1995|         2|\n",
      "|     46|How to Make an Am...|       Drama|Romance|           1995|         2|\n",
      "|     48|   Pocahontas (1995)|Animation|Childre...|           1995|         5|\n",
      "|     49|When Night Is Fal...|       Drama|Romance|           1995|         2|\n",
      "|     52|Mighty Aphrodite ...|Comedy|Drama|Romance|           1995|         3|\n",
      "|     58|Postman, The (Pos...|Comedy|Drama|Romance|           1994|         3|\n",
      "|     64|Two if by Sea (1996)|      Comedy|Romance|           1996|         2|\n",
      "|     68|French Twist (Gaz...|      Comedy|Romance|           1995|         2|\n",
      "|     74| Bed of Roses (1996)|       Drama|Romance|           1996|         2|\n",
      "|     81|Things to Do in D...| Crime|Drama|Romance|           1995|         3|\n",
      "+-------+--------------------+--------------------+---------------+----------+\n",
      "only showing top 20 rows\n",
      "\n"
     ]
    }
   ],
   "source": [
    "romance = movies.where(col(\"genres\").like(\"%Romance%\"))\n",
    "romance.show()"
   ]
  },
  {
   "cell_type": "code",
   "execution_count": 69,
   "id": "4a7ca923-39a5-404e-8d2b-d002f1a4bf3b",
   "metadata": {},
   "outputs": [
    {
     "name": "stdout",
     "output_type": "stream",
     "text": [
      "+-------+--------------------+--------------------+---------------+----------+\n",
      "|movieId|               title|              genres|year_of_release|num_genres|\n",
      "+-------+--------------------+--------------------+---------------+----------+\n",
      "|    163|    Desperado (1995)|Action|Romance|We...|           1995|         3|\n",
      "|    210|    Wild Bill (1995)|             Western|           1995|         1|\n",
      "|    266|Legends of the Fa...|Drama|Romance|War...|           1994|         4|\n",
      "|    303|Quick and the Dea...|Action|Thriller|W...|           1995|         3|\n",
      "|    368|     Maverick (1994)|Adventure|Comedy|...|           1994|         3|\n",
      "|    383|   Wyatt Earp (1994)|             Western|           1994|         1|\n",
      "|    416|    Bad Girls (1994)|             Western|           1994|         1|\n",
      "|    432|City Slickers II:...|Adventure|Comedy|...|           1994|         3|\n",
      "|    458|Geronimo: An Amer...|       Drama|Western|           1993|         2|\n",
      "|    487|Lightning Jack (1...|      Comedy|Western|           1994|         2|\n",
      "|    553|    Tombstone (1993)|Action|Drama|Western|           1993|         3|\n",
      "|    590|Dances with Wolve...|Adventure|Drama|W...|           1990|         3|\n",
      "|    599|Wild Bunch, The (...|   Adventure|Western|           1969|         2|\n",
      "|    714|     Dead Man (1995)|Drama|Mystery|Wes...|           1995|         3|\n",
      "|    800|    Lone Star (1996)|Drama|Mystery|Wes...|           1996|         3|\n",
      "|    948|        Giant (1956)|Drama|Romance|Wes...|           1956|         3|\n",
      "|    964|Angel and the Bad...|     Romance|Western|           1947|         2|\n",
      "|    967|  Outlaw, The (1943)|             Western|           1943|         1|\n",
      "|   1007|Apple Dumpling Ga...|Children|Comedy|W...|           1975|         3|\n",
      "|   1008|Davy Crockett, Ki...|   Adventure|Western|           1955|         2|\n",
      "+-------+--------------------+--------------------+---------------+----------+\n",
      "only showing top 20 rows\n",
      "\n"
     ]
    }
   ],
   "source": [
    "westerns = movies.where(col(\"genres\").like(\"%Western%\"))\n",
    "westerns.show()"
   ]
  },
  {
   "cell_type": "code",
   "execution_count": 70,
   "id": "824b08f5-6dce-41a2-a373-e1fc11962a53",
   "metadata": {},
   "outputs": [
    {
     "name": "stdout",
     "output_type": "stream",
     "text": [
      "+-------+--------------------+------------------+---------------+----------+\n",
      "|movieId|               title|            genres|year_of_release|num_genres|\n",
      "+-------+--------------------+------------------+---------------+----------+\n",
      "|  83773|Away with Words (...|(no genres listed)|           1999|         1|\n",
      "|  84768|   Glitterbug (1994)|(no genres listed)|           1994|         1|\n",
      "|  86493|Age of the Earth,...|(no genres listed)|           1980|         1|\n",
      "|  87061|Trails (Veredas) ...|(no genres listed)|           1978|         1|\n",
      "|  91246|Milky Way (Tejút)...|(no genres listed)|           2007|         1|\n",
      "|  92435|Dancing Hawk, The...|(no genres listed)|           1978|         1|\n",
      "|  92641|Warsaw Bridge (Po...|(no genres listed)|           1990|         1|\n",
      "|  94431|Ella Lola, a la T...|(no genres listed)|           1898|         1|\n",
      "|  95750|Promise of the Fl...|(no genres listed)|           1975|         1|\n",
      "|  96479|  Nocturno 29 (1968)|(no genres listed)|           1968|         1|\n",
      "|  96651|Les hautes solitu...|(no genres listed)|           1974|         1|\n",
      "| 113545|Primus Hallucino-...|(no genres listed)|           2004|         1|\n",
      "| 114335|   La cravate (1957)|(no genres listed)|           1957|         1|\n",
      "| 114725|Study in Choreogr...|(no genres listed)|           1945|         1|\n",
      "| 115004|It's My Mother's ...|(no genres listed)|           2008|         1|\n",
      "| 115006|Spare Bed-Room (1...|(no genres listed)|           1969|         1|\n",
      "| 115893|Madame Bovary (2000)|(no genres listed)|           2000|         1|\n",
      "| 116046|Christmas Oranges...|(no genres listed)|           2012|         1|\n",
      "| 116054|Clockwork Mice (1...|(no genres listed)|           1995|         1|\n",
      "| 116096|Lettera Amorosa (...|(no genres listed)|           1995|         1|\n",
      "+-------+--------------------+------------------+---------------+----------+\n",
      "only showing top 20 rows\n",
      "\n"
     ]
    },
    {
     "data": {
      "text/plain": [
       "5062"
      ]
     },
     "execution_count": 70,
     "metadata": {},
     "output_type": "execute_result"
    }
   ],
   "source": [
    "no_genres_listed = movies.where(col(\"genres\").like(\"%(no genres listed)%\"))\n",
    "no_genres_listed.show()\n",
    "no_genres_listed.count()"
   ]
  },
  {
   "cell_type": "markdown",
   "id": "23135e8f-f637-4627-a86f-f3fbaa9b6c44",
   "metadata": {},
   "source": [
    "Yeah...this is not a good approach.  \n",
    "\n",
    "We want to be able to address as many generes as found in data, even though the list is available, it makes more sense to generate a list for all distinct values in the data"
   ]
  },
  {
   "cell_type": "markdown",
   "id": "458002d0-c3a0-4712-a74a-a801bc13a543",
   "metadata": {},
   "source": [
    "Can we create a column where there's only one 'genre' and the movie is duplicated as many times as the genre?"
   ]
  },
  {
   "cell_type": "markdown",
   "id": "75beb984-f2b8-45b0-af00-900982e05e80",
   "metadata": {},
   "source": [
    "Spark Joins to the rescue.  \n",
    "\n",
    "We'll create a ```full outer``` join (aka 'full' or 'outer') - resulting in each row in movies to be repeated once for each genere associated with it. If \"127 Hours\" has 3 genres \"Adventure|Drama|Thriller\" then it will now be in 3 rows, one each for \"adventure\", \"drama\" and \"thriller\"."
   ]
  },
  {
   "cell_type": "code",
   "execution_count": 71,
   "id": "99c2902a-2fb9-4eef-91ae-acc5612e4580",
   "metadata": {},
   "outputs": [
    {
     "name": "stdout",
     "output_type": "stream",
     "text": [
      "+-------+--------------------+--------------------+---------------+----------+-----------+\n",
      "|movieId|               title|              genres|year_of_release|num_genres|      genre|\n",
      "+-------+--------------------+--------------------+---------------+----------+-----------+\n",
      "| 208297|\"BLOW THE NIGHT!\"...|   Documentary|Drama|           1983|         2|      Drama|\n",
      "| 208297|\"BLOW THE NIGHT!\"...|   Documentary|Drama|           1983|         2|Documentary|\n",
      "|  51372|\"Great Performanc...|             Musical|           1998|         1|    Musical|\n",
      "| 136604|#1 Cheerleader Ca...|        Comedy|Drama|           2010|         2|      Drama|\n",
      "| 136604|#1 Cheerleader Ca...|        Comedy|Drama|           2010|         2|     Comedy|\n",
      "| 183901|    #Captured (2017)|              Horror|           2017|         1|     Horror|\n",
      "| 195955|#Female Pleasure ...|         Documentary|           2018|         1|Documentary|\n",
      "| 203417|    #FollowMe (2019)|     Horror|Thriller|           2019|         2|   Thriller|\n",
      "| 203417|    #FollowMe (2019)|     Horror|Thriller|           2019|         2|     Horror|\n",
      "| 151789|      #Horror (2015)|Drama|Horror|Myst...|           2015|         4|   Thriller|\n",
      "| 151789|      #Horror (2015)|Drama|Horror|Myst...|           2015|         4|      Drama|\n",
      "| 151789|      #Horror (2015)|Drama|Horror|Myst...|           2015|         4|    Mystery|\n",
      "| 151789|      #Horror (2015)|Drama|Horror|Myst...|           2015|         4|     Horror|\n",
      "| 179057|#Lucky Number (2015)|              Comedy|           2015|         1|     Comedy|\n",
      "| 190861|   #SCREAMERS (2016)|              Horror|           2016|         1|     Horror|\n",
      "| 201174|  #SquadGoals (2018)|      Drama|Thriller|           2018|         2|   Thriller|\n",
      "| 201174|  #SquadGoals (2018)|      Drama|Thriller|           2018|         2|      Drama|\n",
      "| 205461|       #Stuck (2014)|Comedy|Drama|Romance|           2014|         3|    Romance|\n",
      "| 205461|       #Stuck (2014)|Comedy|Drama|Romance|           2014|         3|      Drama|\n",
      "| 205461|       #Stuck (2014)|Comedy|Drama|Romance|           2014|         3|     Comedy|\n",
      "| 177545| #realityhigh (2017)|              Comedy|           2017|         1|     Comedy|\n",
      "|  85177|  $ (Dollars) (1971)|  Comedy|Crime|Drama|           1971|         3|      Crime|\n",
      "|  85177|  $ (Dollars) (1971)|  Comedy|Crime|Drama|           1971|         3|      Drama|\n",
      "|  85177|  $ (Dollars) (1971)|  Comedy|Crime|Drama|           1971|         3|     Comedy|\n",
      "| 128067|$1,000 on the Bla...|             Western|           1966|         1|    Western|\n",
      "+-------+--------------------+--------------------+---------------+----------+-----------+\n",
      "only showing top 25 rows\n",
      "\n"
     ]
    }
   ],
   "source": [
    "movies_expanded_by_genre = movies.join(\n",
    "    unique_movie_genres, col(\"genres\").contains(col(\"genre\")), \"fullouter\"\n",
    ")\n",
    "# movie_genres_with_abs_freq\n",
    "movies_expanded_by_genre.orderBy(col(\"title\")).show(25, True)"
   ]
  },
  {
   "cell_type": "markdown",
   "id": "3911a83b-c0b8-46be-b5e4-4b2c75372ef7",
   "metadata": {},
   "source": [
    "Now we can simply filter by genre from the same dataframe."
   ]
  },
  {
   "cell_type": "code",
   "execution_count": 72,
   "id": "6bf0bf58-007a-4001-ad7a-1098ef7b6b4f",
   "metadata": {},
   "outputs": [
    {
     "name": "stdout",
     "output_type": "stream",
     "text": [
      "+-------+--------------------+--------------------+---------------+----------+-------+\n",
      "|movieId|               title|              genres|year_of_release|num_genres|  genre|\n",
      "+-------+--------------------+--------------------+---------------+----------+-------+\n",
      "|      3|Grumpier Old Men ...|      Comedy|Romance|           1995|         2|Romance|\n",
      "|      4|Waiting to Exhale...|Comedy|Drama|Romance|           1995|         3|Romance|\n",
      "|      7|      Sabrina (1995)|      Comedy|Romance|           1995|         2|Romance|\n",
      "|     11|American Presiden...|Comedy|Drama|Romance|           1995|         3|Romance|\n",
      "|     15|Cutthroat Island ...|Action|Adventure|...|           1995|         3|Romance|\n",
      "|     17|Sense and Sensibi...|       Drama|Romance|           1995|         2|Romance|\n",
      "|     25|Leaving Las Vegas...|       Drama|Romance|           1995|         2|Romance|\n",
      "|     28|   Persuasion (1995)|       Drama|Romance|           1995|         2|Romance|\n",
      "|     33|Wings of Courage ...|Adventure|Romance...|           1995|         3|Romance|\n",
      "|     35|   Carrington (1995)|       Drama|Romance|           1995|         2|Romance|\n",
      "|     39|     Clueless (1995)|      Comedy|Romance|           1995|         2|Romance|\n",
      "|     46|How to Make an Am...|       Drama|Romance|           1995|         2|Romance|\n",
      "|     48|   Pocahontas (1995)|Animation|Childre...|           1995|         5|Romance|\n",
      "|     49|When Night Is Fal...|       Drama|Romance|           1995|         2|Romance|\n",
      "|     52|Mighty Aphrodite ...|Comedy|Drama|Romance|           1995|         3|Romance|\n",
      "|     58|Postman, The (Pos...|Comedy|Drama|Romance|           1994|         3|Romance|\n",
      "|     64|Two if by Sea (1996)|      Comedy|Romance|           1996|         2|Romance|\n",
      "|     68|French Twist (Gaz...|      Comedy|Romance|           1995|         2|Romance|\n",
      "|     74| Bed of Roses (1996)|       Drama|Romance|           1996|         2|Romance|\n",
      "|     81|Things to Do in D...| Crime|Drama|Romance|           1995|         3|Romance|\n",
      "+-------+--------------------+--------------------+---------------+----------+-------+\n",
      "only showing top 20 rows\n",
      "\n"
     ]
    }
   ],
   "source": [
    "romance1 = movies_expanded_by_genre.filter(col(\"genre\") == \"Romance\")\n",
    "romance1.show()"
   ]
  },
  {
   "cell_type": "markdown",
   "id": "bcbbd1b3-4e2f-45c5-9cce-9fb0a7cf00d5",
   "metadata": {},
   "source": [
    "So ```movies_expanded_by_genre``` is it."
   ]
  },
  {
   "cell_type": "markdown",
   "id": "3baed05a-cf69-420e-a384-67fee34b7ae4",
   "metadata": {},
   "source": [
    "### Find out if a movie has both genres associated with it and also has ```(no genres listed)```  \n",
    "\n",
    "* if this is the case, find out how many such movies exist in the data set"
   ]
  },
  {
   "cell_type": "code",
   "execution_count": 73,
   "id": "c2c68593-03d3-4013-8f11-804404035927",
   "metadata": {},
   "outputs": [
    {
     "name": "stdout",
     "output_type": "stream",
     "text": [
      "+-------+--------------------+------------------+---------------+----------+\n",
      "|movieId|               title|            genres|year_of_release|num_genres|\n",
      "+-------+--------------------+------------------+---------------+----------+\n",
      "|  83773|Away with Words (...|(no genres listed)|           1999|         1|\n",
      "|  84768|   Glitterbug (1994)|(no genres listed)|           1994|         1|\n",
      "|  86493|Age of the Earth,...|(no genres listed)|           1980|         1|\n",
      "|  87061|Trails (Veredas) ...|(no genres listed)|           1978|         1|\n",
      "|  91246|Milky Way (Tejút)...|(no genres listed)|           2007|         1|\n",
      "|  92435|Dancing Hawk, The...|(no genres listed)|           1978|         1|\n",
      "|  92641|Warsaw Bridge (Po...|(no genres listed)|           1990|         1|\n",
      "|  94431|Ella Lola, a la T...|(no genres listed)|           1898|         1|\n",
      "|  95750|Promise of the Fl...|(no genres listed)|           1975|         1|\n",
      "|  96479|  Nocturno 29 (1968)|(no genres listed)|           1968|         1|\n",
      "+-------+--------------------+------------------+---------------+----------+\n",
      "only showing top 10 rows\n",
      "\n"
     ]
    }
   ],
   "source": [
    "# filter out the movies with (no genres listed)\n",
    "# where and filter, like and contains - use what is most readable\n",
    "# also remove the %xxx% for contains...\n",
    "\n",
    "# 1\n",
    "# movies.where(col('genres').contains('no genres')).show()\n",
    "\n",
    "# 2\n",
    "# movies.where(col('genres').like('%no genres%')).show()\n",
    "\n",
    "# 3\n",
    "# movies.filter(col('genres').like('%no genres%')).show()\n",
    "\n",
    "# 4\n",
    "movies.filter(col(\"genres\").contains(\"no genres\")).show(10)"
   ]
  },
  {
   "cell_type": "code",
   "execution_count": 74,
   "id": "4b47cc50-3536-46fa-8946-a6dc9d47ea05",
   "metadata": {},
   "outputs": [
    {
     "data": {
      "text/plain": [
       "0"
      ]
     },
     "execution_count": 74,
     "metadata": {},
     "output_type": "execute_result"
    }
   ],
   "source": [
    "# number of records where num_genres is more than 1 for (no genres listed)\n",
    "movies.filter(col(\"genres\").contains(\"no genres\")).filter(col(\"num_genres\") > 1).count()"
   ]
  },
  {
   "cell_type": "code",
   "execution_count": 75,
   "id": "48022e0a-364f-46c8-b46e-f70a6d5b2a50",
   "metadata": {},
   "outputs": [
    {
     "name": "stdout",
     "output_type": "stream",
     "text": [
      "+-------+--------------------+------------------+---------------+----------+\n",
      "|movieId|               title|            genres|year_of_release|num_genres|\n",
      "+-------+--------------------+------------------+---------------+----------+\n",
      "|  83773|Away with Words (...|(no genres listed)|           1999|         1|\n",
      "|  84768|   Glitterbug (1994)|(no genres listed)|           1994|         1|\n",
      "|  86493|Age of the Earth,...|(no genres listed)|           1980|         1|\n",
      "|  87061|Trails (Veredas) ...|(no genres listed)|           1978|         1|\n",
      "|  91246|Milky Way (Tejút)...|(no genres listed)|           2007|         1|\n",
      "|  92435|Dancing Hawk, The...|(no genres listed)|           1978|         1|\n",
      "|  92641|Warsaw Bridge (Po...|(no genres listed)|           1990|         1|\n",
      "|  94431|Ella Lola, a la T...|(no genres listed)|           1898|         1|\n",
      "|  95750|Promise of the Fl...|(no genres listed)|           1975|         1|\n",
      "|  96479|  Nocturno 29 (1968)|(no genres listed)|           1968|         1|\n",
      "+-------+--------------------+------------------+---------------+----------+\n",
      "only showing top 10 rows\n",
      "\n"
     ]
    }
   ],
   "source": [
    "# alternatively list num_genres in descending order\n",
    "movies.filter(col(\"genres\").contains(\"no genres\")).orderBy(\n",
    "    col(\"num_genres\").desc()\n",
    ").show(10)"
   ]
  },
  {
   "cell_type": "markdown",
   "id": "127d9364-93a8-4a8c-92ce-69d33382bb1c",
   "metadata": {},
   "source": [
    "So there's no movies where ```(no genres listed)``` is mixed with other genres."
   ]
  },
  {
   "cell_type": "markdown",
   "id": "3428ef8c-6e46-482b-820e-25c540b4787b",
   "metadata": {},
   "source": [
    "## Insights from Problem Set 2"
   ]
  },
  {
   "cell_type": "markdown",
   "id": "459913a7-fe32-4156-b980-f653c305a0ad",
   "metadata": {},
   "source": [
    "What have we learned from working on Problem Set 2?\n",
    "\n",
    "1. Regex based matching, pay attention to the regex group you want to extract\n",
    "1. Explode (convert array in the column value into rows) and Split (convert string into array based on a token)\n",
    "1. size() is the pySpark equivalent of len(array)\n",
    "\t* There's like 4 of these that you should [familiarize yourself](https://sparkbyexamples.com/pyspark/pyspark-explode-array-and-map-columns-to-rows/) with: ```explode()```, ```explore_outer()```, ```posexplode()```, ```posexplode_outer()```\n",
    "1. That DataFrame>Select>RDD>FlatMap>Collect thing for creating lists out of dataframe columns for plotting etc. - it's just tedious, so try to remember it\n",
    "1. [joi](https://sparkbyexamples.com/pyspark/pyspark-join-explained-with-examples/).[ns](https://github.com/spark-examples/pyspark-examples/blob/master/pyspark-join-two-dataframes.py), [joins](https://www.geeksforgeeks.org/pyspark-join-types-join-two-dataframes/), [joins](https://dzone.com/articles/pyspark-join-explained-with-examples), [can't get](https://medium.com/@achilleus/https-medium-com-joins-in-apache-spark-part-1-ce289bfc84c9) [enough](https://medium.com/@achilleus/https-medium-com-joins-in-apache-spark-part-2-5b038bc7455b) of 'em. \n",
    "1. Also, ```crossJoin``` when you need a cartesian product (cross product) and have no conditions. \n",
    "    * Spark >= 3.0. ```spark.sql.crossJoin.enable``` is ```True``` by default, if not, you'll need to ```SparkSession.config(\"spark.sql.crossJoin.enable\",True)```\n",
    "1. ```where``` and ```filter```, ```like``` and ```contains```"
   ]
  },
  {
   "cell_type": "code",
   "execution_count": 76,
   "id": "2b41ccf6-5b55-4f1e-a2b2-c2e1be350dfc",
   "metadata": {},
   "outputs": [],
   "source": [
    "# clear the cache again...\n",
    "spark.catalog.clearCache()"
   ]
  },
  {
   "cell_type": "markdown",
   "id": "d473ea26-cece-42e2-9174-0bc0554bfe1a",
   "metadata": {},
   "source": [
    "# Problem Set 3  - ```ratings.csv```\n",
    "\n",
    "1. Find number of films for each rating, so number of films that have at least one rating of 1, number of films that have at least one rating of 2 and so on...  \n",
    "\n",
    "1. List user-IDs in order of number of films they have rated, descending.  \n",
    "\n",
    "1. Are there users who have given multiple ratings to the same film?  "
   ]
  },
  {
   "cell_type": "markdown",
   "id": "4bb491cf-29ac-423a-bf0b-4daada558340",
   "metadata": {},
   "source": [
    "## Solutions to Problem Set 3"
   ]
  },
  {
   "cell_type": "markdown",
   "id": "14c082a1-ccfd-4e03-97fd-3dcb675d4758",
   "metadata": {},
   "source": [
    "### Find number of films for each rating\n",
    "\n",
    "* so number of films that have at least one rating of 1, number of films that have at least one rating of 2 and so on..."
   ]
  },
  {
   "cell_type": "code",
   "execution_count": 77,
   "id": "c7fc3444-abba-42e3-87fa-0f4e4ef74880",
   "metadata": {},
   "outputs": [
    {
     "name": "stdout",
     "output_type": "stream",
     "text": [
      "+------+-------+------+----------+\n",
      "|userId|movieId|rating| timestamp|\n",
      "+------+-------+------+----------+\n",
      "|     1|    296|   5.0|1147880044|\n",
      "|     1|    306|   3.5|1147868817|\n",
      "|     1|    307|   5.0|1147868828|\n",
      "|     1|    665|   5.0|1147878820|\n",
      "|     1|    899|   3.5|1147868510|\n",
      "|     1|   1088|   4.0|1147868495|\n",
      "|     1|   1175|   3.5|1147868826|\n",
      "|     1|   1217|   3.5|1147878326|\n",
      "|     1|   1237|   5.0|1147868839|\n",
      "|     1|   1250|   4.0|1147868414|\n",
      "+------+-------+------+----------+\n",
      "only showing top 10 rows\n",
      "\n"
     ]
    }
   ],
   "source": [
    "# to refresh, here's what ratings data looks like\n",
    "ratings_raw.show(10)"
   ]
  },
  {
   "cell_type": "code",
   "execution_count": 78,
   "id": "080f7519-3fdb-4832-bf58-2f6f78d824b4",
   "metadata": {},
   "outputs": [],
   "source": [
    "absolute_freq_ratings = ratings_raw.groupBy(\"rating\").count()"
   ]
  },
  {
   "cell_type": "code",
   "execution_count": 79,
   "id": "ace8e718-7918-45bd-90e1-6b9b148688f8",
   "metadata": {},
   "outputs": [
    {
     "name": "stdout",
     "output_type": "stream",
     "text": [
      "+------+-------+\n",
      "|rating|  count|\n",
      "+------+-------+\n",
      "|   4.0|6639798|\n",
      "|   3.0|4896928|\n",
      "|   5.0|3612474|\n",
      "|   3.5|3177318|\n",
      "|   4.5|2200539|\n",
      "|   2.0|1640868|\n",
      "|   2.5|1262797|\n",
      "|   1.0| 776815|\n",
      "|   1.5| 399490|\n",
      "|   0.5| 393068|\n",
      "+------+-------+\n",
      "\n"
     ]
    }
   ],
   "source": [
    "absolute_freq_ratings.orderBy(col(\"count\").desc()).show()"
   ]
  },
  {
   "cell_type": "code",
   "execution_count": 80,
   "id": "fc505f36-c53d-40fd-b9fc-11b152daa12a",
   "metadata": {},
   "outputs": [
    {
     "data": {
      "image/png": "[encoded data removed]",
      "text/plain": [
       "<Figure size 1800x500 with 1 Axes>"
      ]
     },
     "metadata": {},
     "output_type": "display_data"
    }
   ],
   "source": [
    "# convert each column to a list\n",
    "absolute_freq_ratings_x = (\n",
    "    absolute_freq_ratings.select(col(\"rating\")).rdd.flatMap(lambda x: x).collect()\n",
    ")\n",
    "absolute_freq_ratings_y = (\n",
    "    absolute_freq_ratings.select(col(\"count\")).rdd.flatMap(lambda x: x).collect()\n",
    ")\n",
    "\n",
    "plt.figure(figsize=(18, 5))\n",
    "plt.bar(absolute_freq_ratings_x, absolute_freq_ratings_y)\n",
    "plt.title(\"Absolute Frequencies of Ratings\")\n",
    "plt.xlabel(\"Rating\")\n",
    "plt.ylabel(\"Number Of Movies\")\n",
    "plt.show()"
   ]
  },
  {
   "cell_type": "markdown",
   "id": "3b6cea07-be27-4435-b0a7-d62577f1ae16",
   "metadata": {},
   "source": [
    "### List user-IDs in order of number of films they have rated, descending"
   ]
  },
  {
   "cell_type": "code",
   "execution_count": 81,
   "id": "f6f13487-0840-42b6-87e8-d0e551b6e690",
   "metadata": {},
   "outputs": [],
   "source": [
    "rating_freq_by_user = ratings_raw.groupBy(\"userId\").count()"
   ]
  },
  {
   "cell_type": "code",
   "execution_count": 82,
   "id": "ce295db4-23a9-4b71-9a6e-84d46101e0b8",
   "metadata": {},
   "outputs": [
    {
     "name": "stdout",
     "output_type": "stream",
     "text": [
      "+------+-----+\n",
      "|userId|count|\n",
      "+------+-----+\n",
      "| 72315|32202|\n",
      "| 80974| 9178|\n",
      "|137293| 8913|\n",
      "| 33844| 7919|\n",
      "| 20055| 7488|\n",
      "|109731| 6647|\n",
      "| 92046| 6564|\n",
      "| 49403| 6553|\n",
      "| 30879| 5693|\n",
      "|115102| 5649|\n",
      "|110971| 5633|\n",
      "| 75309| 5525|\n",
      "| 78849| 5276|\n",
      "| 61010| 5244|\n",
      "| 29803| 5219|\n",
      "|122011| 5160|\n",
      "| 57548| 5066|\n",
      "| 93855| 5045|\n",
      "|103611| 4861|\n",
      "| 34987| 4831|\n",
      "+------+-----+\n",
      "only showing top 20 rows\n",
      "\n"
     ]
    }
   ],
   "source": [
    "rating_freq_by_user.orderBy(col(\"count\").desc()).show()"
   ]
  },
  {
   "cell_type": "code",
   "execution_count": 83,
   "id": "2fe06a58-6d6e-44f4-996f-1e1693d47bf1",
   "metadata": {},
   "outputs": [
    {
     "data": {
      "text/plain": [
       "162541"
      ]
     },
     "execution_count": 83,
     "metadata": {},
     "output_type": "execute_result"
    }
   ],
   "source": [
    "rating_freq_by_user.count()"
   ]
  },
  {
   "cell_type": "markdown",
   "id": "f1c285b8-f364-43bd-91bf-984a64943088",
   "metadata": {},
   "source": [
    "That's a lot of ratings by a lot of users...  \n",
    "\n",
    "Some of these like ```72315``` def seem like a bot - or a human whose spent a lot of time regularly watching films - if we estimate a film to be 90 minutes on an average, it comes to about 48303 hours - that's like 5.5 years of 24/7 movie-watching! In practice this would've taken the person 8-10 times longer (considering 3 hours of movies daily - no holidays) - so 44 to 55 years of movies... - yeah, I'll bet this was some automated thing\n",
    "\n"
   ]
  },
  {
   "cell_type": "markdown",
   "id": "d7822406-a5bc-4155-bd09-54ae7d388d38",
   "metadata": {},
   "source": [
    "### Are there users who have given multiple ratings to the same film?"
   ]
  },
  {
   "cell_type": "code",
   "execution_count": 84,
   "id": "cf19ac20-cd46-44d5-a51f-bb2c72c27573",
   "metadata": {},
   "outputs": [],
   "source": [
    "usr_movie_count = ratings_raw.groupBy(\"userId\", \"movieId\").count()"
   ]
  },
  {
   "cell_type": "code",
   "execution_count": 85,
   "id": "604b81f5-9c3e-4b63-b7bd-49db55b0685c",
   "metadata": {},
   "outputs": [
    {
     "name": "stdout",
     "output_type": "stream",
     "text": [
      "+------+-------+-----+\n",
      "|userId|movieId|count|\n",
      "+------+-------+-----+\n",
      "|     1|   1260|    1|\n",
      "|     1|   2068|    1|\n",
      "|     1|   1217|    1|\n",
      "|     1|    306|    1|\n",
      "|     1|   2012|    1|\n",
      "|     1|   5269|    1|\n",
      "|     1|   1653|    1|\n",
      "|     1|   5912|    1|\n",
      "|     1|   1175|    1|\n",
      "|     1|   6539|    1|\n",
      "+------+-------+-----+\n",
      "only showing top 10 rows\n",
      "\n"
     ]
    }
   ],
   "source": [
    "usr_movie_count.orderBy(col(\"count\").asc()).show(10)"
   ]
  },
  {
   "cell_type": "markdown",
   "id": "40807068-b272-4d0d-97a8-7da09f6eea0e",
   "metadata": {},
   "source": [
    "Doesn't seem like users have rated the same movie multiple times.\n",
    "*[think]* is there another way to confirm this?"
   ]
  },
  {
   "cell_type": "markdown",
   "id": "d1a078bf-d66f-4c99-a31a-e4a56763257c",
   "metadata": {},
   "source": [
    "## Insights from Problem Set 3"
   ]
  },
  {
   "cell_type": "markdown",
   "id": "4b22ed75-9e23-40c5-867c-a729ec9a57a2",
   "metadata": {},
   "source": [
    "We are practicing some of the same stuff, however ```ratings``` is a substantially larger dataset - we need to be more careful with joins etc."
   ]
  },
  {
   "cell_type": "code",
   "execution_count": 86,
   "id": "4aa80faf-d8f7-4029-b9c5-19542f3055a6",
   "metadata": {},
   "outputs": [],
   "source": [
    "# like always, clear the cache\n",
    "spark.catalog.clearCache()"
   ]
  },
  {
   "cell_type": "markdown",
   "id": "a83be239-bb2f-46f5-8665-556a10251f61",
   "metadata": {},
   "source": [
    "# Problem Set 4  - mixing things up, ```movies + ratings```\n",
    "\n",
    "1. Prepare an ```avg_rating``` column for the movies dataframe where you add the average rating that movie has recieved rounded to 4 decimal places\n",
    "    * If the movie has recieved no rating, add 0\n",
    "\n",
    "1. Prepare a ```rating_freq``` column for the movies dataframe where you add the number of times the movie recieved a rating\n",
    "    * If the movie did not recieve any rating, put in 0\n",
    "    \n",
    "1. Prepare a ```rating_freq_user``` column for the movied dataframe where you add the number of unique users who rated the film\n",
    "    * If no one rated the film, put in 0\n",
    "    \n",
    "1. How many films where the ```rating_freq``` differs from ```rating_freq_user```? Does this match the analysis we did for ```ratings.csv```?\n",
    "\n",
    "1. Which genres have recieved the highest number of ratings?\n",
    "\n",
    "1. What are the 20 highest rated movies in each genre?\n",
    "    * *[think]* one way to find our 'highest rated' would be by summing all the occurances of 4 and 5 stars for each movie in each genre and sorting from highest to lowest\n",
    "\n",
    "1. Prepare a list of highly rated movies, present this list by year of release and sorted in alphabetical order by movie title.  \n",
    "    * \"Highly Rated\" = movies with atleast 3 instances where users have rated the film a 4 or a 5\n",
    "    * Expected Columns in the output: ```year of release, movie title, # of 4s, # of 5s```  \n",
    "    \n",
    "1. Another approach to 'highly rated', prepare a list of 'highly rated' movies\n",
    "    * \"Highly Rated\" = sum of 4 and 5 ratings is the highest across all years\n",
    "    * Sort this list by year of release\n",
    "\n",
    "1. *[think]* Can we find \"Late Bloomers\" or \"Cult Films\"? \n",
    "    * Films that were not highly rated during the year of release or were not well rated initially,but their ratings improve over time. \n",
    "    * How can we rank these in descending order of \"Cult Status\"?\n"
   ]
  },
  {
   "cell_type": "markdown",
   "id": "88afc17f-5da0-4ee6-a833-d7fc6f034eb6",
   "metadata": {},
   "source": [
    "## Solutions to Problem Set 4"
   ]
  },
  {
   "cell_type": "markdown",
   "id": "b4dcec29-cbd6-4727-8558-42cfe834267c",
   "metadata": {},
   "source": [
    "### Average rating that movie has recieved rounded to 4 decimal places\n",
    "\n",
    "* Prepare an ```avg_rating``` column for the movies dataframe where you add the average rating that movie has recieved rounded to 2 places of decimal\n",
    "    * If the movie has recieved no rating, add 0"
   ]
  },
  {
   "cell_type": "code",
   "execution_count": 87,
   "id": "36dc2bc8-4491-4cc8-af05-f4571a85814e",
   "metadata": {},
   "outputs": [
    {
     "name": "stdout",
     "output_type": "stream",
     "text": [
      "+-------+----------------+--------------------+---------------+----------+\n",
      "|movieId|           title|              genres|year_of_release|num_genres|\n",
      "+-------+----------------+--------------------+---------------+----------+\n",
      "|      1|Toy Story (1995)|Adventure|Animati...|           1995|         5|\n",
      "|      2|  Jumanji (1995)|Adventure|Childre...|           1995|         3|\n",
      "+-------+----------------+--------------------+---------------+----------+\n",
      "only showing top 2 rows\n",
      "\n",
      "+------+-------+------+----------+\n",
      "|userId|movieId|rating| timestamp|\n",
      "+------+-------+------+----------+\n",
      "|     1|    296|   5.0|1147880044|\n",
      "|     1|    306|   3.5|1147868817|\n",
      "+------+-------+------+----------+\n",
      "only showing top 2 rows\n",
      "\n"
     ]
    }
   ],
   "source": [
    "movies.show(2)\n",
    "ratings_raw.show(2)"
   ]
  },
  {
   "cell_type": "code",
   "execution_count": 88,
   "id": "7f71e440-8d7d-476e-8d63-d3d348bd4d12",
   "metadata": {},
   "outputs": [],
   "source": [
    "from pyspark.sql.functions import round\n",
    "\n",
    "avg_ratings_grpby = ratings_raw.groupBy(col(\"movieId\"))\n",
    "avg_ratings = avg_ratings_grpby.avg()\n",
    "avg_ratings = avg_ratings.select(col(\"movieId\"), round(col(\"avg(rating)\"), 4))\n",
    "avg_ratings = avg_ratings.withColumnRenamed(\"round(avg(rating), 4)\", \"avg_rating\")\n",
    "avg_ratings = avg_ratings.withColumnRenamed(\"movieId\", \"movieId_with_rating\")"
   ]
  },
  {
   "cell_type": "code",
   "execution_count": 89,
   "id": "fced5eec-ce9f-424c-9034-295727828fd0",
   "metadata": {},
   "outputs": [
    {
     "name": "stdout",
     "output_type": "stream",
     "text": [
      "+-------------------+----------+\n",
      "|movieId_with_rating|avg_rating|\n",
      "+-------------------+----------+\n",
      "|                296|    4.1889|\n",
      "|               2294|    3.2363|\n",
      "|              48738|     3.841|\n",
      "|              88140|    3.5156|\n",
      "|             115713|    3.9694|\n",
      "+-------------------+----------+\n",
      "only showing top 5 rows\n",
      "\n"
     ]
    }
   ],
   "source": [
    "avg_ratings.show(5)"
   ]
  },
  {
   "cell_type": "code",
   "execution_count": 90,
   "id": "bf5d07c1-6689-4759-8472-5ea21dfb5232",
   "metadata": {},
   "outputs": [
    {
     "name": "stdout",
     "output_type": "stream",
     "text": [
      "+-------+-------------------+------------------+\n",
      "|summary|movieId_with_rating|        avg_rating|\n",
      "+-------+-------------------+------------------+\n",
      "|  count|              59047|             59047|\n",
      "|   mean| 120692.74806510068|3.0713741663420597|\n",
      "| stddev|   64452.5081942799|0.7398398652302268|\n",
      "|    min|                  1|               0.5|\n",
      "|    max|              99999|               5.0|\n",
      "+-------+-------------------+------------------+\n",
      "\n"
     ]
    }
   ],
   "source": [
    "avg_ratings.describe().show()"
   ]
  },
  {
   "cell_type": "code",
   "execution_count": 91,
   "id": "18a8c93c-cc62-47e7-8bde-72c86ac5d5f5",
   "metadata": {},
   "outputs": [],
   "source": [
    "movies_with_avg_rating = movies.join(\n",
    "    avg_ratings, movies.movieId == avg_ratings.movieId_with_rating, \"inner\"\n",
    ").drop(col(\"movieId_with_rating\"))"
   ]
  },
  {
   "cell_type": "code",
   "execution_count": 92,
   "id": "9ae573f4-88e0-4a1d-a3f2-cf229ddc4c3f",
   "metadata": {},
   "outputs": [
    {
     "name": "stdout",
     "output_type": "stream",
     "text": [
      "+-------+--------------------+--------------------+---------------+----------+----------+\n",
      "|movieId|               title|              genres|year_of_release|num_genres|avg_rating|\n",
      "+-------+--------------------+--------------------+---------------+----------+----------+\n",
      "| 202437|    The Climb (2019)|  (no genres listed)|           2019|         1|       0.5|\n",
      "| 204506|  The Dip Run (2018)|  (no genres listed)|           2018|         1|       0.5|\n",
      "| 164304|Homeless in Ameri...|  (no genres listed)|           2004|         1|       0.5|\n",
      "| 151379|Operation Zucker ...|  (no genres listed)|           2013|         1|       0.5|\n",
      "|  80781| Vampitheatre (2009)|              Horror|           2009|         1|       0.5|\n",
      "| 205841| Don't Let Go (2019)|Horror|Sci-Fi|Thr...|           2019|         3|       0.5|\n",
      "| 179185|Bloodfisted Broth...|              Action|           1978|         1|       0.5|\n",
      "| 205371|Black Sabbath: Th...|         Documentary|           2017|         1|       0.5|\n",
      "| 120410|   From Above (2013)|       Drama|Romance|           2013|         2|       0.5|\n",
      "| 124558|       Lizzie (2013)|            Thriller|           2013|         1|       0.5|\n",
      "| 200460|     Kac Wawa (2012)|              Comedy|           2012|         1|       0.5|\n",
      "| 160329|I Love Hong Kong ...|              Comedy|           2012|         1|       0.5|\n",
      "| 148416|The 12 Disasters ...|              Sci-Fi|           2012|         1|       0.5|\n",
      "| 197473|Marco Polo Junior...|           Animation|           1972|         1|       0.5|\n",
      "| 154071|         Amar (2009)|       Drama|Romance|           2009|         2|       0.5|\n",
      "| 203741|Escape: Human Car...|        Action|Drama|           1998|         2|       0.5|\n",
      "| 195183|Dead Squad: Templ...|              Horror|           2018|         1|       0.5|\n",
      "| 123633|A Green Journey (...|       Drama|Romance|           1990|         2|       0.5|\n",
      "| 197135|             Old Man|  (no genres listed)|               |         1|       0.5|\n",
      "| 202487|Walking with Cave...|  (no genres listed)|           2003|         1|       0.5|\n",
      "+-------+--------------------+--------------------+---------------+----------+----------+\n",
      "only showing top 20 rows\n",
      "\n"
     ]
    }
   ],
   "source": [
    "movies_with_avg_rating.orderBy(col(\"avg_rating\").asc()).show()"
   ]
  },
  {
   "cell_type": "code",
   "execution_count": 93,
   "id": "12dd6bce-2110-4ec7-b561-b1db0726f03e",
   "metadata": {},
   "outputs": [
    {
     "data": {
      "text/plain": [
       "59047"
      ]
     },
     "execution_count": 93,
     "metadata": {},
     "output_type": "execute_result"
    }
   ],
   "source": [
    "movies_with_avg_rating.count()"
   ]
  },
  {
   "cell_type": "code",
   "execution_count": 94,
   "id": "f3444854-d1d4-4590-81c4-ea49f1e5201b",
   "metadata": {},
   "outputs": [
    {
     "data": {
      "text/plain": [
       "62423"
      ]
     },
     "execution_count": 94,
     "metadata": {},
     "output_type": "execute_result"
    }
   ],
   "source": [
    "movies.count()"
   ]
  },
  {
   "cell_type": "markdown",
   "id": "c5e92099-f743-4f69-a784-786226eb6c56",
   "metadata": {},
   "source": [
    "hold on, why the count is different...?  \n",
    "Are there movies that have never been rated? Which ones are these?"
   ]
  },
  {
   "cell_type": "code",
   "execution_count": 95,
   "id": "b59aeea5-d1e2-48ec-8a21-7f6c9b08bded",
   "metadata": {},
   "outputs": [],
   "source": [
    "# leftanti join, aka anti join, all the records in left that don't match right\n",
    "\n",
    "# joining with movies_with_avg_rating.movieId_with_rating results in ambiguous join\n",
    "# (seems to stem from the fact that movies_with_avg_rating has 2 movieId columns, still, why?)\n",
    "# movies_with_no_ratings = movies \\\n",
    "#         .join(movies_with_avg_rating,\n",
    "#               movies.movieId == movies_with_avg_rating.movieId_with_rating,\n",
    "#               'leftanti')\n",
    "\n",
    "# this works\n",
    "movies_with_no_ratings = movies.join(\n",
    "    movies_with_avg_rating, movies.movieId == movies_with_avg_rating.movieId, \"leftanti\"\n",
    ")\n",
    "\n",
    "# this also works\n",
    "# join with avg_ratings instead\n",
    "# movies_with_no_ratings = movies \\\n",
    "#         .join(avg_ratings,\n",
    "#               movies.movieId == avg_ratings.movieId_with_rating, 'leftanti')"
   ]
  },
  {
   "cell_type": "code",
   "execution_count": 96,
   "id": "daffdd72-228f-4766-bea5-77ff34203663",
   "metadata": {},
   "outputs": [
    {
     "name": "stdout",
     "output_type": "stream",
     "text": [
      "+-------+----------------------------------------------+----------------------+---------------+----------+\n",
      "|movieId|title                                         |genres                |year_of_release|num_genres|\n",
      "+-------+----------------------------------------------+----------------------+---------------+----------+\n",
      "|107774 |When the North Wind Blows (1974)              |Adventure|Drama       |1974           |2         |\n",
      "|108637 |Al Jennings of Oklahoma (1951)                |Action|Romance|Western|1951           |3         |\n",
      "|108995 |Between Two Women (Surrounded by Women) (1937)|Drama|Romance         |1937           |2         |\n",
      "|109512 |Anna Lucasta (1949)                           |Drama                 |1949           |1         |\n",
      "|109837 |Blackjack Ketchum, Desperado (1956)           |Western               |1956           |1         |\n",
      "+-------+----------------------------------------------+----------------------+---------------+----------+\n",
      "only showing top 5 rows\n",
      "\n"
     ]
    }
   ],
   "source": [
    "movies_with_no_ratings.show(5, truncate=False)"
   ]
  },
  {
   "cell_type": "code",
   "execution_count": 97,
   "id": "aaf4a9d7-828a-4850-83f1-519c21440221",
   "metadata": {},
   "outputs": [
    {
     "data": {
      "text/plain": [
       "3376"
      ]
     },
     "execution_count": 97,
     "metadata": {},
     "output_type": "execute_result"
    }
   ],
   "source": [
    "movies_with_no_ratings.count()"
   ]
  },
  {
   "cell_type": "code",
   "execution_count": 98,
   "id": "fc428e97-bf0d-4e52-8151-272e12e411a8",
   "metadata": {},
   "outputs": [],
   "source": [
    "count_all_movies = movies.count()\n",
    "count_movies_with_avg_rating = movies_with_avg_rating.count()\n",
    "count_movies_with_no_ratings = movies_with_no_ratings.count()\n",
    "# test if numbers add up...\n",
    "do_numbers_add_up = (\n",
    "    count_all_movies - count_movies_with_avg_rating\n",
    ") == count_movies_with_no_ratings"
   ]
  },
  {
   "cell_type": "code",
   "execution_count": 99,
   "id": "7f69316b-f9a2-42fd-8831-42254d4c11c3",
   "metadata": {},
   "outputs": [
    {
     "name": "stdout",
     "output_type": "stream",
     "text": [
      "all movies in our dataset =  62423\n",
      "movies that have average ratings =  59047\n",
      "movies with no ratings =  3376\n",
      "do the numbers match? (rated + not rated = total)?  True\n"
     ]
    }
   ],
   "source": [
    "print(\"all movies in our dataset = \", count_all_movies)\n",
    "print(\"movies that have average ratings = \", count_movies_with_avg_rating)\n",
    "print(\"movies with no ratings = \", count_movies_with_no_ratings)\n",
    "print(\"do the numbers match? (rated + not rated = total)? \", do_numbers_add_up)"
   ]
  },
  {
   "cell_type": "markdown",
   "id": "e6fed861-93d7-4cea-9e8b-f610c1af18e4",
   "metadata": {},
   "source": [
    "Yeah, seems like there's movies in the dataset that have never been rated. Interesting!"
   ]
  },
  {
   "cell_type": "markdown",
   "id": "13c75356-59ac-493f-9e78-6097472eb76d",
   "metadata": {},
   "source": [
    "There may be a question around verifying the calculation above vs just matching ```movies``` dataset with ```raw_ratings```... so let's try that real quick too..."
   ]
  },
  {
   "cell_type": "code",
   "execution_count": 100,
   "id": "f8822440-603f-427b-b769-4cb1fc2ff34e",
   "metadata": {},
   "outputs": [],
   "source": [
    "movies_not_rated = movies.join(\n",
    "    ratings_raw, movies.movieId == ratings_raw.movieId, \"leftanti\"\n",
    ")"
   ]
  },
  {
   "cell_type": "code",
   "execution_count": 101,
   "id": "0874f7a1-82bb-47ce-b5a3-088072201f6c",
   "metadata": {},
   "outputs": [
    {
     "name": "stdout",
     "output_type": "stream",
     "text": [
      "+-------+-------------------------------------------+----------------------+---------------+----------+\n",
      "|movieId|title                                      |genres                |year_of_release|num_genres|\n",
      "+-------+-------------------------------------------+----------------------+---------------+----------+\n",
      "|108637 |Al Jennings of Oklahoma (1951)             |Action|Romance|Western|1951           |3         |\n",
      "|109512 |Anna Lucasta (1949)                        |Drama                 |1949           |1         |\n",
      "|111464 |Top Banana (1954)                          |Comedy|Musical|Romance|1954           |3         |\n",
      "|113168 |Apache Ambush (1955)                       |Western               |1955           |1         |\n",
      "|113195 |6,000 Enemies (Six Thousand Enemies) (1939)|Crime|Drama|Romance   |1939           |3         |\n",
      "+-------+-------------------------------------------+----------------------+---------------+----------+\n",
      "only showing top 5 rows\n",
      "\n"
     ]
    }
   ],
   "source": [
    "movies_not_rated.show(5, truncate=False)"
   ]
  },
  {
   "cell_type": "code",
   "execution_count": 102,
   "id": "ddb9d469-bb67-4cdc-8d5e-438fd3cb3fc5",
   "metadata": {},
   "outputs": [],
   "source": [
    "count_movies_not_rated = movies_not_rated.count()\n",
    "# test if numbers add up...again\n",
    "do_numbers_add_up2 = (\n",
    "    count_all_movies - count_movies_with_avg_rating\n",
    ") == count_movies_not_rated"
   ]
  },
  {
   "cell_type": "code",
   "execution_count": 103,
   "id": "a9f35804-869c-4393-a4a7-993ff1a6df3d",
   "metadata": {},
   "outputs": [
    {
     "name": "stdout",
     "output_type": "stream",
     "text": [
      "all movies in our dataset =  62423\n",
      "movies that have average ratings =  59047\n",
      "movies with no ratings... part deux =  3376\n",
      "do the numbers match? (rated + not rated = total)?  True\n"
     ]
    }
   ],
   "source": [
    "print(\"all movies in our dataset = \", count_all_movies)\n",
    "print(\"movies that have average ratings = \", count_movies_with_avg_rating)\n",
    "print(\"movies with no ratings... part deux = \", count_movies_not_rated)\n",
    "print(\"do the numbers match? (rated + not rated = total)? \", do_numbers_add_up2)"
   ]
  },
  {
   "cell_type": "markdown",
   "id": "82a19ec7-0ee7-432b-8655-61bb7c626096",
   "metadata": {},
   "source": [
    "So analysis paralysis but we are on the right track - there are about 3376 movies that do not have ratings..."
   ]
  },
  {
   "cell_type": "markdown",
   "id": "b03d3661-f23f-45b8-a41a-2426b280c4d1",
   "metadata": {},
   "source": [
    "#### Standardized values in a column"
   ]
  },
  {
   "cell_type": "code",
   "execution_count": 104,
   "id": "592fd5a6-ee1a-4051-8138-c4ed61805a9a",
   "metadata": {},
   "outputs": [
    {
     "name": "stdout",
     "output_type": "stream",
     "text": [
      "+-------+--------------------+--------------------+---------------+----------+----------+\n",
      "|movieId|               title|              genres|year_of_release|num_genres|avg_rating|\n",
      "+-------+--------------------+--------------------+---------------+----------+----------+\n",
      "|    296| Pulp Fiction (1994)|Comedy|Crime|Dram...|           1994|         4|    4.1889|\n",
      "|   2294|         Antz (1998)|Adventure|Animati...|           1998|         5|    3.2363|\n",
      "|  48738|Last King of Scot...|      Drama|Thriller|           2006|         2|     3.841|\n",
      "|  88140|Captain America: ...|Action|Adventure|...|           2011|         5|    3.5156|\n",
      "| 115713|   Ex Machina (2015)|Drama|Sci-Fi|Thri...|           2015|         3|    3.9694|\n",
      "+-------+--------------------+--------------------+---------------+----------+----------+\n",
      "only showing top 5 rows\n",
      "\n"
     ]
    }
   ],
   "source": [
    "# Just for fun (and future needs)\n",
    "# let's find out mean number of genres\n",
    "# and mean avg_rating for movies\n",
    "from pyspark.sql.functions import mean\n",
    "\n",
    "# quick look at what our dataframe looks like\n",
    "movies_with_avg_rating.show(5)"
   ]
  },
  {
   "cell_type": "code",
   "execution_count": 105,
   "id": "c218bd0e-9ea2-4ed9-b878-ad201509978e",
   "metadata": {},
   "outputs": [],
   "source": [
    "movies_with_avg_rating_means = movies_with_avg_rating.agg(\n",
    "    {\"num_genres\": \"mean\", \"avg_rating\": \"mean\"}\n",
    ").collect()"
   ]
  },
  {
   "cell_type": "code",
   "execution_count": 106,
   "id": "56713adf-1d9f-4e8b-aefb-7ae00e860581",
   "metadata": {},
   "outputs": [
    {
     "name": "stdout",
     "output_type": "stream",
     "text": [
      "avg number of genres for a movie:  1.8110657611733025\n",
      "mean avg_rating of a movie:  3.0713741663420597\n"
     ]
    }
   ],
   "source": [
    "print(\"avg number of genres for a movie: \", movies_with_avg_rating_means[0][0])\n",
    "print(\"mean avg_rating of a movie: \", movies_with_avg_rating_means[0][1])"
   ]
  },
  {
   "cell_type": "code",
   "execution_count": 107,
   "id": "463153a1-604c-4fb5-bb67-7f058164e3e5",
   "metadata": {},
   "outputs": [
    {
     "name": "stdout",
     "output_type": "stream",
     "text": [
      "+------------------+------------------+------------------+------------------+\n",
      "|   mean_num_genres| stddev_num_genres|   mean_avg_rating| stddev_avg_rating|\n",
      "+------------------+------------------+------------------+------------------+\n",
      "|1.8110657611733025|0.9697369178961486|3.0713741663420597|0.7398398652302268|\n",
      "+------------------+------------------+------------------+------------------+\n",
      "\n"
     ]
    }
   ],
   "source": [
    "# Ah! what the hell, let's create standardized values for # of genres and avg_rating anyway\n",
    "# standardized values are where mean = 0 and standard deviation = 1\n",
    "# from pyspark.sql.functions import mean\n",
    "from pyspark.sql.functions import stddev\n",
    "\n",
    "movies_with_avg_rating_mean_and_stddev = movies_with_avg_rating.select(\n",
    "    mean(\"num_genres\").alias(\"mean_num_genres\"),\n",
    "    stddev(\"num_genres\").alias(\"stddev_num_genres\"),\n",
    "    mean(\"avg_rating\").alias(\"mean_avg_rating\"),\n",
    "    stddev(\"avg_rating\").alias(\"stddev_avg_rating\"),\n",
    ")\n",
    "# let's first see what these look like\n",
    "movies_with_avg_rating_mean_and_stddev.show()"
   ]
  },
  {
   "cell_type": "code",
   "execution_count": 108,
   "id": "19d50e4f-f976-499e-ba13-e1ec2f933504",
   "metadata": {},
   "outputs": [],
   "source": [
    "# roundabout way of getting to the values\n",
    "mean_num_genres = movies_with_avg_rating_mean_and_stddev.first()[\"mean_num_genres\"]\n",
    "stddev_num_genres = movies_with_avg_rating_mean_and_stddev.first()[\"stddev_num_genres\"]\n",
    "mean_avg_rating = movies_with_avg_rating_mean_and_stddev.first()[\"mean_avg_rating\"]\n",
    "stddev_avg_rating = movies_with_avg_rating_mean_and_stddev.first()[\"stddev_avg_rating\"]\n",
    "\n",
    "# ideally you'd just do: mean_val1, stddev_val1 = df.select(mean('val1'), stddev('val1')).first()"
   ]
  },
  {
   "cell_type": "code",
   "execution_count": 109,
   "id": "9ccb8387-ae10-4ef4-8e31-b8c05ac3cf32",
   "metadata": {},
   "outputs": [],
   "source": [
    "# standardize num_genres\n",
    "movies_with_avg_rating = movies_with_avg_rating.withColumn(\n",
    "    \"std_num_genres\", (col(\"num_genres\") - mean_num_genres) / stddev_num_genres\n",
    ")\n",
    "# standardize avg_rating\n",
    "movies_with_avg_rating = movies_with_avg_rating.withColumn(\n",
    "    \"std_avg_rating\", (col(\"avg_rating\") - mean_avg_rating) / stddev_avg_rating\n",
    ")"
   ]
  },
  {
   "cell_type": "markdown",
   "id": "5f07f727-cb7b-4174-88ac-fbb88789b590",
   "metadata": {},
   "source": [
    "Let's explore the upper and lower bounds of our standardized columns..."
   ]
  },
  {
   "cell_type": "code",
   "execution_count": 110,
   "id": "441b095e-ea6e-4d0a-a582-938f526473b1",
   "metadata": {},
   "outputs": [
    {
     "name": "stdout",
     "output_type": "stream",
     "text": [
      "+-------+--------------------+--------------------+---------------+----------+----------+-----------------+--------------------+\n",
      "|movieId|               title|              genres|year_of_release|num_genres|avg_rating|   std_num_genres|      std_avg_rating|\n",
      "+-------+--------------------+--------------------+---------------+----------+----------+-----------------+--------------------+\n",
      "|  81132|       Rubber (2010)|Action|Adventure|...|           2010|        10|    2.9785|8.444490549656138|  -0.125532795280177|\n",
      "|  26093|Wonderful World o...|Adventure|Animati...|           1962|         8|    3.3667|6.382075514102976|  0.3991753452837246|\n",
      "|   5018|     Motorama (1991)|Adventure|Comedy|...|           1991|         8|    3.0909|6.382075514102976|0.026391972878974438|\n",
      "| 166163| Black Butler (2014)|Action|Adventure|...|           2014|         7|       2.5|5.350867996326395|  -0.772294375032436|\n",
      "|   4719|Osmosis Jones (2001)|Action|Animation|...|           2001|         7|    2.8728|5.350867996326395| -0.2684015496789521|\n",
      "|  52462|Aqua Teen Hunger ...|Action|Adventure|...|           2007|         7|    3.2219|5.350867996326395| 0.20345731655200702|\n",
      "|  71999|Aelita: The Queen...|Action|Adventure|...|           1924|         7|    3.1667|5.350867996326395| 0.12884657631726346|\n",
      "+-------+--------------------+--------------------+---------------+----------+----------+-----------------+--------------------+\n",
      "only showing top 7 rows\n",
      "\n"
     ]
    }
   ],
   "source": [
    "movies_with_avg_rating.sort(col(\"std_num_genres\").desc()).show(7)"
   ]
  },
  {
   "cell_type": "code",
   "execution_count": 111,
   "id": "fccecbe5-d7f4-4ea9-9123-12e8922f0dee",
   "metadata": {},
   "outputs": [
    {
     "name": "stdout",
     "output_type": "stream",
     "text": [
      "+-------+--------------------+--------+---------------+----------+----------+------------------+--------------------+\n",
      "|movieId|               title|  genres|year_of_release|num_genres|avg_rating|    std_num_genres|      std_avg_rating|\n",
      "+-------+--------------------+--------+---------------+----------+----------+------------------+--------------------+\n",
      "|   4003|She's Having a Ba...|  Comedy|           1988|         1|    2.8583|-0.836377110333095|-0.28800038542902046|\n",
      "| 134158|Return to Sender ...|Thriller|           2015|         1|    2.8636|-0.836377110333095|-0.28083667305140914|\n",
      "|   1436|Falling in Love A...|  Comedy|           1980|         1|    3.0484|-0.836377110333095|-0.03105289052639...|\n",
      "|    757|Ashes of Time (Du...|   Drama|           1994|         1|     3.543|-0.836377110333095|  0.6374701551276609|\n",
      "|   1006| Chamber, The (1996)|   Drama|           1996|         1|     3.232|-0.836377110333095| 0.21710891938481333|\n",
      "| 192283|Crazy Rich Asians...|  Comedy|           2018|         1|    3.4728|-0.836377110333095|  0.5425847572204325|\n",
      "|  77339|Dunwich Horror, T...|  Horror|           2009|         1|      1.95|-0.836377110333095| -1.5156984896902053|\n",
      "+-------+--------------------+--------+---------------+----------+----------+------------------+--------------------+\n",
      "only showing top 7 rows\n",
      "\n"
     ]
    }
   ],
   "source": [
    "movies_with_avg_rating.sort(col(\"std_num_genres\").asc()).show(7)"
   ]
  },
  {
   "cell_type": "code",
   "execution_count": 112,
   "id": "e285d4d6-6bb1-44c1-8e17-096d4ab8c3ee",
   "metadata": {},
   "outputs": [
    {
     "name": "stdout",
     "output_type": "stream",
     "text": [
      "+-------+--------------------+--------------------+---------------+----------+----------+-------------------+------------------+\n",
      "|movieId|               title|              genres|year_of_release|num_genres|avg_rating|     std_num_genres|    std_avg_rating|\n",
      "+-------+--------------------+--------------------+---------------+----------+----------+-------------------+------------------+\n",
      "| 135222|  Blue Summer (1973)|        Comedy|Drama|           1973|         2|       5.0|0.19483040744348654|2.6068152370483326|\n",
      "| 139547|Placebo: Soulmate...|  (no genres listed)|           2004|         1|       5.0| -0.836377110333095|2.6068152370483326|\n",
      "| 146487|Maciste in Hell o...|  (no genres listed)|           1964|         1|       5.0| -0.836377110333095|2.6068152370483326|\n",
      "| 121051|A Matter of Time ...|Drama|Fantasy|Rom...|           1976|         3|       5.0|  1.226037925220068|2.6068152370483326|\n",
      "| 193131|   Mary & Tim (1996)|  (no genres listed)|           1996|         1|       5.0| -0.836377110333095|2.6068152370483326|\n",
      "| 123541|      Geordie (1955)|       Drama|Romance|           1955|         2|       5.0|0.19483040744348654|2.6068152370483326|\n",
      "| 137964|   Casualties (1997)|      Drama|Thriller|           1997|         2|       5.0|0.19483040744348654|2.6068152370483326|\n",
      "+-------+--------------------+--------------------+---------------+----------+----------+-------------------+------------------+\n",
      "only showing top 7 rows\n",
      "\n"
     ]
    }
   ],
   "source": [
    "movies_with_avg_rating.sort(col(\"std_avg_rating\").desc()).show(7)"
   ]
  },
  {
   "cell_type": "code",
   "execution_count": 113,
   "id": "7e56c305-a73b-416f-ab37-13e4234c41ad",
   "metadata": {},
   "outputs": [
    {
     "name": "stdout",
     "output_type": "stream",
     "text": [
      "+-------+--------------------+--------------------+---------------+----------+----------+-------------------+------------------+\n",
      "|movieId|               title|              genres|year_of_release|num_genres|avg_rating|     std_num_genres|    std_avg_rating|\n",
      "+-------+--------------------+--------------------+---------------+----------+----------+-------------------+------------------+\n",
      "| 204774|A Haunting On Dic...|Documentary|Drama...|           2017|         3|       0.5|  1.226037925220068|-3.475582064697051|\n",
      "| 205371|Black Sabbath: Th...|         Documentary|           2017|         1|       0.5| -0.836377110333095|-3.475582064697051|\n",
      "| 207163|         Oleg (2019)|               Drama|           2019|         1|       0.5| -0.836377110333095|-3.475582064697051|\n",
      "| 205403|      Teacher (2019)|  (no genres listed)|           2019|         1|       0.5| -0.836377110333095|-3.475582064697051|\n",
      "| 197467|A Connecticut Yan...|  (no genres listed)|           1970|         1|       0.5| -0.836377110333095|-3.475582064697051|\n",
      "| 160329|I Love Hong Kong ...|              Comedy|           2012|         1|       0.5| -0.836377110333095|-3.475582064697051|\n",
      "| 201737|    The Lodge (2019)|        Drama|Horror|           2019|         2|       0.5|0.19483040744348654|-3.475582064697051|\n",
      "+-------+--------------------+--------------------+---------------+----------+----------+-------------------+------------------+\n",
      "only showing top 7 rows\n",
      "\n"
     ]
    }
   ],
   "source": [
    "movies_with_avg_rating.sort(col(\"std_avg_rating\").asc()).show(7)"
   ]
  },
  {
   "cell_type": "code",
   "execution_count": 114,
   "id": "74444188-873a-4e65-b44f-c8ad16d817e0",
   "metadata": {
    "tags": []
   },
   "outputs": [
    {
     "name": "stdout",
     "output_type": "stream",
     "text": [
      "+-------+----------------------+----------------------+\n",
      "|summary|std_num_genres        |std_avg_rating        |\n",
      "+-------+----------------------+----------------------+\n",
      "|count  |59047                 |59047                 |\n",
      "|mean   |1.1822037281445901E-14|1.1370946072266992E-14|\n",
      "|stddev |1.0000000000000009    |0.9999999999999993    |\n",
      "|min    |-0.836377110333095    |-3.475582064697051    |\n",
      "|max    |8.444490549656138     |2.6068152370483326    |\n",
      "+-------+----------------------+----------------------+\n",
      "\n"
     ]
    }
   ],
   "source": [
    "# check\n",
    "\n",
    "movies_with_avg_rating.describe([\"std_num_genres\", \"std_avg_rating\"]).show(10, False)"
   ]
  },
  {
   "cell_type": "code",
   "execution_count": 115,
   "id": "75ebc99d-1bbe-4447-9761-366f21664266",
   "metadata": {},
   "outputs": [],
   "source": [
    "# also...\n",
    "(\n",
    "    mean_std_avg_rating,\n",
    "    stddev_std_avg_rating,\n",
    "    mean_std_num_genres,\n",
    "    stddev_std_num_genres,\n",
    ") = movies_with_avg_rating.select(\n",
    "    mean(\"std_avg_rating\"),\n",
    "    stddev(\"std_avg_rating\"),\n",
    "    mean(\"std_num_genres\"),\n",
    "    stddev(\"std_num_genres\"),\n",
    ").first()"
   ]
  },
  {
   "cell_type": "code",
   "execution_count": 116,
   "id": "c009a0cf-f077-4801-b259-17a9647567d0",
   "metadata": {},
   "outputs": [
    {
     "name": "stdout",
     "output_type": "stream",
     "text": [
      "mean_std_avg_rating:  1.1370946072266992e-14\n",
      "stddev_std_avg_rating:  0.9999999999999993\n",
      "mean_std_num_genres:  1.1822037281445901e-14\n",
      "stddev_std_num_genres:  1.0000000000000009\n",
      "\n",
      "...or fixing for floating point operations, we get...\n",
      "mean_std_avg_rating:  0.0\n",
      "stddev_std_avg_rating:  1.0\n",
      "mean_std_num_genres:  0.0\n",
      "stddev_std_num_genres:  1.0\n"
     ]
    }
   ],
   "source": [
    "print(\"mean_std_avg_rating: \", mean_std_avg_rating)\n",
    "print(\"stddev_std_avg_rating: \", stddev_std_avg_rating)\n",
    "print(\"mean_std_num_genres: \", mean_std_num_genres)\n",
    "print(\"stddev_std_num_genres: \", stddev_std_num_genres)\n",
    "print(\"\\n...or fixing for floating point operations, we get...\")\n",
    "print(\"mean_std_avg_rating: \", str(__builtins__.round(mean_std_avg_rating, 0)))\n",
    "print(\"stddev_std_avg_rating: \", str(__builtins__.round(stddev_std_avg_rating, 0)))\n",
    "print(\"mean_std_num_genres: \", str(__builtins__.round(mean_std_num_genres, 0)))\n",
    "print(\"stddev_std_num_genres: \", str(__builtins__.round(stddev_std_num_genres, 0)))"
   ]
  },
  {
   "cell_type": "markdown",
   "id": "e84aea57-bf5b-4803-a58f-110ca169e6e7",
   "metadata": {},
   "source": [
    "#### Sidebar: the ```round``` function - ```pyspark.sql``` vs python built-in  \n",
    "  \n",
    "You'll notice the use of ```__builtins__``` above.\n",
    "That's cause we've imported ```pyspark.sql.functions.round``` already, so ```round``` now points to the pyspark 'round' function.   \n",
    "\n",
    "If we need to use the python round function, we need to specify how to find it... hence we use ```__builtins__```.\n",
    "\n",
    "_howlarious!_"
   ]
  },
  {
   "cell_type": "markdown",
   "id": "82089252-b1dd-4fbe-89bf-49e249870c80",
   "metadata": {},
   "source": [
    "#### Some graphs to visualize standardized values vs actual values\n",
    "\n",
    "Playing with some graphs - just to get a visual sense of standardized num_genres and avg_rating\n",
    "\n",
    "_These plots are taking a long time to render - so the cells in this section would largely be commented out._  \n",
    "_Uncomment these to see the plots while you go out to get a coffee._  "
   ]
  },
  {
   "cell_type": "code",
   "execution_count": 117,
   "id": "11aff060-399e-40e4-aefc-ea10f563da85",
   "metadata": {},
   "outputs": [],
   "source": [
    "# # movies_with_avg_rating sorted by standardized num_genres\n",
    "# movies_with_avg_rating_std_num_genres_asc = movies_with_avg_rating.sort(col('std_num_genres').asc())\n",
    "# #\n",
    "# # convert each column to a list\n",
    "# # X\n",
    "# movies_with_avg_rating_movieId_x = movies_with_avg_rating_std_num_genres_asc \\\n",
    "#                                         .select(col('movieId')) \\\n",
    "#                                         .rdd \\\n",
    "#                                         .flatMap(lambda x: x) \\\n",
    "#                                         .collect()\n",
    "\n",
    "# # Y\n",
    "# movies_with_avg_rating_std_num_genres_y = movies_with_avg_rating_std_num_genres_asc \\\n",
    "#                                         .select(round(col('std_num_genres'), 0)) \\\n",
    "#                                         .rdd \\\n",
    "#                                         .flatMap(lambda x: x) \\\n",
    "#                                         .collect()\n",
    "# # Y - num_genres\n",
    "# movies_with_avg_rating_num_genres_y = movies_with_avg_rating_std_num_genres_asc \\\n",
    "#                                         .select(col('num_genres')) \\\n",
    "#                                         .rdd \\\n",
    "#                                         .flatMap(lambda x: x) \\\n",
    "#                                         .collect()"
   ]
  },
  {
   "cell_type": "code",
   "execution_count": 118,
   "id": "b4a2cc89-a2b0-41cf-b2ba-623ad34d139d",
   "metadata": {},
   "outputs": [
    {
     "data": {
      "image/png": "[encoded data removed]",
      "text/plain": [
       "<Figure size 900x300 with 1 Axes>"
      ]
     },
     "metadata": {},
     "output_type": "display_data"
    }
   ],
   "source": [
    "# plt.figure(figsize=(9,3))\n",
    "# # standardized values\n",
    "# plt.scatter(movies_with_avg_rating_movieId_x,movies_with_avg_rating_std_num_genres_y, color=['#eed0cacc'], s = 42, alpha = 0.25)\n",
    "# # actual values\n",
    "# plt.scatter(movies_with_avg_rating_movieId_x,movies_with_avg_rating_num_genres_y, color=['#71566433'], s = 10, alpha = 0.8)\n",
    "# plt.title('std_num genres vs movieId')\n",
    "# plt.xlabel('movieId')\n",
    "# plt.ylabel('std_num_genres')\n",
    "# plt.show()"
   ]
  },
  {
   "cell_type": "code",
   "execution_count": 119,
   "id": "a6d97290-c43b-4524-9991-5f92cca3883a",
   "metadata": {},
   "outputs": [],
   "source": [
    "# # movies_with_avg_rating sorted by standardized avg_rating\n",
    "# movies_with_avg_rating_std_avg_rating_asc = movies_with_avg_rating.sort(round(col('std_avg_rating'),0).asc())\n",
    "# #\n",
    "# # convert each column to a list\n",
    "# # movies_with_avg_rating\n",
    "# # X\n",
    "# movies_with_avg_rating_movieId_x = movies_with_avg_rating \\\n",
    "#                                         .select(col('movieId')) \\\n",
    "#                                         .rdd \\\n",
    "#                                         .flatMap(lambda x: x) \\\n",
    "#                                         .collect()\n",
    "# # Y\n",
    "# movies_with_avg_rating_std_avg_rating_y = movies_with_avg_rating \\\n",
    "#                                         .select(round(col('std_avg_rating'),0)) \\\n",
    "#                                         .rdd \\\n",
    "#                                         .flatMap(lambda x: x) \\\n",
    "#                                         .collect()\n",
    "# # Y - avg_rating\n",
    "# movies_with_avg_rating_avg_rating_y = movies_with_avg_rating \\\n",
    "#                                         .select(round(col('avg_rating'),0)) \\\n",
    "#                                         .rdd \\\n",
    "#                                         .flatMap(lambda x: x) \\\n",
    "#                                         .collect()"
   ]
  },
  {
   "cell_type": "code",
   "execution_count": 120,
   "id": "3f0739f1-28e2-43af-b810-f9fc6a93b25e",
   "metadata": {},
   "outputs": [
    {
     "data": {
      "image/png": "[encoded data removed]",
      "text/plain": [
       "<Figure size 900x300 with 1 Axes>"
      ]
     },
     "metadata": {},
     "output_type": "display_data"
    }
   ],
   "source": [
    "# plt.figure(figsize=(9,3))\n",
    "# # standardized values\n",
    "# plt.bar(movies_with_avg_rating_movieId_x,movies_with_avg_rating_std_avg_rating_y, color=['#2954368C'])\n",
    "# # actual values\n",
    "# plt.bar(movies_with_avg_rating_movieId_x,movies_with_avg_rating_avg_rating_y, color=['#F6E28C48'])\n",
    "# plt.title('std_avg_rating vs movieId')\n",
    "# plt.xlabel('movieId')\n",
    "# plt.ylabel('std_avg_rating')\n",
    "# plt.show()"
   ]
  },
  {
   "cell_type": "code",
   "execution_count": 121,
   "id": "35ff9be9-1314-4a09-93bc-89f5616e8c8b",
   "metadata": {},
   "outputs": [
    {
     "data": {
      "image/png": "[encoded data removed]",
      "text/plain": [
       "<Figure size 900x300 with 1 Axes>"
      ]
     },
     "metadata": {},
     "output_type": "display_data"
    }
   ],
   "source": [
    "# plt.figure(figsize=(9,3))\n",
    "# # standardized values\n",
    "# plt.scatter(movies_with_avg_rating_std_avg_rating_y,movies_with_avg_rating_std_num_genres_y, s = 42, alpha = 0.25)\n",
    "# # actual values\n",
    "# plt.scatter(movies_with_avg_rating_avg_rating_y,movies_with_avg_rating_num_genres_y, s = 10, alpha = 0.8)\n",
    "# plt.title('std_num_genres vs std_avg_rating')\n",
    "# plt.xlabel('std_avg_rating')\n",
    "# plt.ylabel('std_num_genres')\n",
    "# plt.show()"
   ]
  },
  {
   "cell_type": "code",
   "execution_count": 122,
   "id": "356ee0f5-dd19-473f-b83e-2acaa56a3129",
   "metadata": {},
   "outputs": [
    {
     "data": {
      "image/png": "[encoded data removed]",
      "text/plain": [
       "<Figure size 900x300 with 1 Axes>"
      ]
     },
     "metadata": {},
     "output_type": "display_data"
    }
   ],
   "source": [
    "# # let's pivot the graph above...\n",
    "# plt.figure(figsize=(9,3))\n",
    "# # standardized values (but X and Y are swapped)\n",
    "# plt.scatter(movies_with_avg_rating_std_num_genres_y,movies_with_avg_rating_std_avg_rating_y, s = 42, alpha = 0.25)\n",
    "# # actual values (X and Y swapped)\n",
    "# plt.scatter(movies_with_avg_rating_num_genres_y,movies_with_avg_rating_avg_rating_y, s = 10, alpha = 0.8)\n",
    "# plt.title('std_num_genres vs std_avg_rating')\n",
    "# plt.ylabel('std_avg_rating')\n",
    "# plt.xlabel('std_num_genres')\n",
    "# plt.show()"
   ]
  },
  {
   "cell_type": "markdown",
   "id": "28311695-c997-4b3a-a8a1-7fdedfa6a3fb",
   "metadata": {},
   "source": [
    "### The number of times the movie recieved a rating\n",
    "\n",
    "* Prepare a ```rating_freq``` column for the movies dataframe where you add the number of times the movie recieved a rating\n",
    "    * If the movie did not recieve any rating, put in 0"
   ]
  },
  {
   "cell_type": "code",
   "execution_count": 123,
   "id": "462c6e31-9fa3-4581-a32a-1ff0b73b576c",
   "metadata": {},
   "outputs": [],
   "source": [
    "rating_freq = (\n",
    "    ratings_raw.groupBy(col(\"movieId\"))\n",
    "    .count()\n",
    "    .withColumnRenamed(\"count\", \"rating_freq\")\n",
    "    .withColumnRenamed(\"movieId\", \"movieId_rating_freq\")\n",
    ")"
   ]
  },
  {
   "cell_type": "code",
   "execution_count": 124,
   "id": "63cdd8cc-33b3-49d7-83b2-a1051d25b4f8",
   "metadata": {},
   "outputs": [
    {
     "name": "stdout",
     "output_type": "stream",
     "text": [
      "+-------------------+-----------+\n",
      "|movieId_rating_freq|rating_freq|\n",
      "+-------------------+-----------+\n",
      "|                356|      81491|\n",
      "|                318|      81482|\n",
      "|                296|      79672|\n",
      "|                593|      74127|\n",
      "|               2571|      72674|\n",
      "+-------------------+-----------+\n",
      "only showing top 5 rows\n",
      "\n"
     ]
    }
   ],
   "source": [
    "rating_freq.orderBy(col(\"count\").desc()).show(5)"
   ]
  },
  {
   "cell_type": "code",
   "execution_count": 125,
   "id": "d5771597-fdc1-4191-8b58-2246fa77cc50",
   "metadata": {},
   "outputs": [],
   "source": [
    "movies_with_avg_rating = movies_with_avg_rating.join(\n",
    "    rating_freq,\n",
    "    movies_with_avg_rating.movieId == rating_freq.movieId_rating_freq,\n",
    "    \"left\",\n",
    ").drop(col(\"movieId_rating_freq\"))\n",
    "\n",
    "\n",
    "# movies_with_rating_freq = movies_with_rating_freq.withColumnRenamed('count', 'rating_freq')"
   ]
  },
  {
   "cell_type": "code",
   "execution_count": 126,
   "id": "1467967f-f9cf-4600-8c69-87c6e87e39fe",
   "metadata": {},
   "outputs": [
    {
     "name": "stdout",
     "output_type": "stream",
     "text": [
      "+-------+--------------------+--------------------+---------------+----------+----------+-------------------+------------------+-----------+\n",
      "|movieId|               title|              genres|year_of_release|num_genres|avg_rating|     std_num_genres|    std_avg_rating|rating_freq|\n",
      "+-------+--------------------+--------------------+---------------+----------+----------+-------------------+------------------+-----------+\n",
      "|    356| Forrest Gump (1994)|Comedy|Drama|Roma...|           1994|         4|     4.048| 2.2572454429966498|1.3200502967679761|      81491|\n",
      "|    318|Shawshank Redempt...|         Crime|Drama|           1994|         2|    4.4136|0.19483040744348654|1.8142112864386672|      81482|\n",
      "|    296| Pulp Fiction (1994)|Comedy|Crime|Dram...|           1994|         4|    4.1889| 2.2572454429966498|1.5104969145048486|      79672|\n",
      "|    593|Silence of the La...|Crime|Horror|Thri...|           1991|         3|    4.1513|  1.226037925220068|1.4596751059391533|      74127|\n",
      "|   2571|  Matrix, The (1999)|Action|Sci-Fi|Thr...|           1999|         3|    4.1541|  1.226037925220068|1.4634597087046834|      72674|\n",
      "+-------+--------------------+--------------------+---------------+----------+----------+-------------------+------------------+-----------+\n",
      "only showing top 5 rows\n",
      "\n"
     ]
    }
   ],
   "source": [
    "movies_with_avg_rating.orderBy(col(\"rating_freq\").desc()).show(5, truncate=True)"
   ]
  },
  {
   "cell_type": "markdown",
   "id": "929b1f94-77bc-4cc2-af65-64358b8b2661",
   "metadata": {},
   "source": [
    "### Number of unique users who rated the film\n",
    "\n",
    "* Prepare a ```rating_freq_user``` column for the movies dataframe where you add the number of unique users who rated the film\n",
    "    * If no one rated the film, put in 0"
   ]
  },
  {
   "cell_type": "code",
   "execution_count": 127,
   "id": "936231a6-6e11-473a-b45b-8b8ea3bf2178",
   "metadata": {},
   "outputs": [],
   "source": [
    "spark.catalog.clearCache()"
   ]
  },
  {
   "cell_type": "code",
   "execution_count": 128,
   "id": "ac617588-db3d-4642-9454-af473f8a81bd",
   "metadata": {},
   "outputs": [],
   "source": [
    "rating_user_freq_aggregate = ratings_raw.groupBy(col(\"userId\"), col(\"movieId\")).count()"
   ]
  },
  {
   "cell_type": "code",
   "execution_count": 129,
   "id": "e1839057-33df-4774-bcb1-322e07084a55",
   "metadata": {},
   "outputs": [
    {
     "name": "stdout",
     "output_type": "stream",
     "text": [
      "+------+-------+-----+\n",
      "|userId|movieId|count|\n",
      "+------+-------+-----+\n",
      "|     3| 102445|    1|\n",
      "|     4|   5418|    1|\n",
      "|     4|  34405|    1|\n",
      "|     5|    337|    1|\n",
      "|    12|    592|    1|\n",
      "+------+-------+-----+\n",
      "only showing top 5 rows\n",
      "\n"
     ]
    }
   ],
   "source": [
    "rating_user_freq_aggregate.show(5)"
   ]
  },
  {
   "cell_type": "code",
   "execution_count": 130,
   "id": "ec6bb243-7013-48ec-8cff-ade7479830ff",
   "metadata": {},
   "outputs": [],
   "source": [
    "rating_user_and_movie = rating_user_freq_aggregate.select(col(\"userId\"), col(\"movieId\"))"
   ]
  },
  {
   "cell_type": "code",
   "execution_count": 131,
   "id": "8f992dce-6e4c-4cc2-87f4-314c185a5b71",
   "metadata": {},
   "outputs": [
    {
     "name": "stdout",
     "output_type": "stream",
     "text": [
      "+------+-------+\n",
      "|userId|movieId|\n",
      "+------+-------+\n",
      "|100   |260    |\n",
      "|1000  |2145   |\n",
      "|1000  |3186   |\n",
      "|10005 |4993   |\n",
      "|10008 |28     |\n",
      "+------+-------+\n",
      "only showing top 5 rows\n",
      "\n"
     ]
    }
   ],
   "source": [
    "rating_user_and_movie.show(5, False)"
   ]
  },
  {
   "cell_type": "code",
   "execution_count": 132,
   "id": "bd572e2b-04e0-4bb2-9ab0-ed7c4f3cc238",
   "metadata": {
    "tags": []
   },
   "outputs": [
    {
     "data": {
      "text/plain": [
       "25000095"
      ]
     },
     "execution_count": 132,
     "metadata": {},
     "output_type": "execute_result"
    }
   ],
   "source": [
    "rating_user_and_movie.count()"
   ]
  },
  {
   "cell_type": "code",
   "execution_count": 133,
   "id": "4d4171d4-0980-4691-95cc-2c8cc1f62b58",
   "metadata": {},
   "outputs": [
    {
     "data": {
      "text/plain": [
       "25000095"
      ]
     },
     "execution_count": 133,
     "metadata": {},
     "output_type": "execute_result"
    }
   ],
   "source": [
    "rating_user_and_movie.distinct().count()"
   ]
  },
  {
   "cell_type": "markdown",
   "id": "ece24997-acae-4e3e-83c0-8b8965676786",
   "metadata": {},
   "source": [
    "seems like no user has given multiple votes to the same movie..."
   ]
  },
  {
   "cell_type": "markdown",
   "id": "f0a1773c-681a-4568-8fd2-5b77d049c21e",
   "metadata": {},
   "source": [
    "### How many films where the ```rating_freq``` differs from ```rating_freq_user```? Does this match the analysis we did for ```ratings.csv```?\n",
    "\n",
    "*Keeping it around for now - this might turn out to be superfluous / vague*"
   ]
  },
  {
   "cell_type": "markdown",
   "id": "d4d1652d-c52a-4a1a-8507-8d8e0e1ad435",
   "metadata": {},
   "source": [
    "this question becomes superflouous in light of above... "
   ]
  },
  {
   "cell_type": "code",
   "execution_count": 134,
   "id": "55228e51-519a-45c1-a9c9-990c3dfc0db3",
   "metadata": {},
   "outputs": [],
   "source": [
    "# as seen above"
   ]
  },
  {
   "cell_type": "markdown",
   "id": "2d17652e-e57f-41d6-9fbe-ad81fdc7098b",
   "metadata": {},
   "source": [
    "### Which genres have recieved the highest number of ratings?"
   ]
  },
  {
   "cell_type": "markdown",
   "id": "378a923e-f2fe-4105-a39a-29b0616944e7",
   "metadata": {},
   "source": [
    "Intuition says that this could match the results of \"4.1.4 number of films associated with each genre\""
   ]
  },
  {
   "cell_type": "code",
   "execution_count": null,
   "id": "45fba0a5-e3f3-4029-adf5-fa6a441fdeff",
   "metadata": {},
   "outputs": [],
   "source": []
  },
  {
   "cell_type": "code",
   "execution_count": null,
   "id": "5d260724-3c8c-4765-af0c-c6e95cd958c8",
   "metadata": {},
   "outputs": [],
   "source": []
  },
  {
   "cell_type": "code",
   "execution_count": null,
   "id": "55778dd2-43a6-4195-b6ec-c6a24c6b3138",
   "metadata": {},
   "outputs": [],
   "source": []
  },
  {
   "cell_type": "code",
   "execution_count": null,
   "id": "9592aaea-4855-4e20-bc61-d531c4113922",
   "metadata": {},
   "outputs": [],
   "source": []
  },
  {
   "cell_type": "markdown",
   "id": "6f62166f-5e50-4b4e-950c-18d609aa629f",
   "metadata": {},
   "source": [
    "### What are the 20 highest rated movies in each genre?\n",
    "\n",
    "* one way to find our 'highest rated' would be by summing all the occurances of 4 and 5 stars for each movie in each genre and sorting from highest to lowest"
   ]
  },
  {
   "cell_type": "code",
   "execution_count": null,
   "id": "96529d7f-b696-4d88-8c8d-228817208d36",
   "metadata": {},
   "outputs": [],
   "source": []
  },
  {
   "cell_type": "code",
   "execution_count": null,
   "id": "ebc95ebe-1bc7-4007-b4c2-ad53e96b536d",
   "metadata": {},
   "outputs": [],
   "source": []
  },
  {
   "cell_type": "code",
   "execution_count": null,
   "id": "be936b49-8f37-4a7a-953a-0282697285a9",
   "metadata": {},
   "outputs": [],
   "source": []
  },
  {
   "cell_type": "markdown",
   "id": "4c1ad9f8-d8bc-419f-8ac1-22f8c2a3ae2b",
   "metadata": {},
   "source": [
    "### List of *highly rated* movies\n",
    "\n",
    "* Prepare a list of highly rated movies, present this list by year of release and sorted in alphabetical order by movie title.\n",
    "    * \"Highly Rated\" = movies with atleast 3 instances where users have rated the film a 4 or a 5\n",
    "    * Expected Columns in the output: ```year of release, movie title, # of 4s, # of 5s```  "
   ]
  },
  {
   "cell_type": "code",
   "execution_count": null,
   "id": "01a6afa1-427f-4e13-8fb8-4577704f754b",
   "metadata": {},
   "outputs": [],
   "source": []
  },
  {
   "cell_type": "code",
   "execution_count": null,
   "id": "972a46f8-abaf-400a-87cb-2917a132147e",
   "metadata": {},
   "outputs": [],
   "source": []
  },
  {
   "cell_type": "code",
   "execution_count": null,
   "id": "bd3c9576-1379-41b2-9874-929c0683a9d8",
   "metadata": {},
   "outputs": [],
   "source": []
  },
  {
   "cell_type": "markdown",
   "id": "af08b74c-7e31-4cc1-bab0-60f86acf18d8",
   "metadata": {},
   "source": [
    "### List of *highly rated* movies - Approach 2\n",
    "\n",
    "* Another approach to 'highly rated', prepare a list of 'highly rated' movies where:\n",
    "    * \"Highly Rated\" = sum of 4 and 5 ratings is the highest across all years\n",
    "    * Sort this list by year of release"
   ]
  },
  {
   "cell_type": "code",
   "execution_count": null,
   "id": "63f99f88-e05e-4963-bcbb-be5076ad74c9",
   "metadata": {},
   "outputs": [],
   "source": []
  },
  {
   "cell_type": "code",
   "execution_count": null,
   "id": "6302a591-7e06-4ec5-a572-bfee9c1d2e92",
   "metadata": {},
   "outputs": [],
   "source": []
  },
  {
   "cell_type": "code",
   "execution_count": null,
   "id": "ab911207-4417-4321-966e-be64dbcf0d7c",
   "metadata": {},
   "outputs": [],
   "source": []
  },
  {
   "cell_type": "markdown",
   "id": "e15d7d3b-4411-47de-bf35-52c6cf19e111",
   "metadata": {},
   "source": [
    "### Can we find \"Late Bloomers\" or \"Cult Films\"? "
   ]
  },
  {
   "cell_type": "code",
   "execution_count": null,
   "id": "4995189a-caa6-4715-b935-c828a06d6645",
   "metadata": {},
   "outputs": [],
   "source": []
  },
  {
   "cell_type": "code",
   "execution_count": null,
   "id": "3c5a247b-bafb-42a1-a28b-d3f32943e7ec",
   "metadata": {},
   "outputs": [],
   "source": []
  },
  {
   "cell_type": "code",
   "execution_count": null,
   "id": "4ee51469-791d-4687-a52b-e3d9a49eddfb",
   "metadata": {},
   "outputs": [],
   "source": []
  },
  {
   "cell_type": "code",
   "execution_count": null,
   "id": "8ba981dc-da30-497e-8491-818c3f8303f8",
   "metadata": {},
   "outputs": [],
   "source": []
  },
  {
   "cell_type": "code",
   "execution_count": null,
   "id": "639c42bd-5b22-41c5-a59c-a02cd679b7c8",
   "metadata": {},
   "outputs": [],
   "source": []
  },
  {
   "cell_type": "markdown",
   "id": "bcad1e25-1c84-464e-b823-95534ea28265",
   "metadata": {},
   "source": [
    "## Insights from Problem Set 4"
   ]
  },
  {
   "cell_type": "code",
   "execution_count": null,
   "id": "0d6b61aa-d061-481b-b6e5-186494fc4615",
   "metadata": {},
   "outputs": [],
   "source": []
  },
  {
   "cell_type": "code",
   "execution_count": null,
   "id": "6b27dded-6d0c-45d9-85c6-043d84120ae4",
   "metadata": {},
   "outputs": [],
   "source": []
  },
  {
   "cell_type": "code",
   "execution_count": null,
   "id": "39bb53af-e374-40cb-bea6-9b3961fa9f70",
   "metadata": {},
   "outputs": [],
   "source": []
  },
  {
   "cell_type": "code",
   "execution_count": null,
   "id": "74bb9c47-4661-4bd2-b71a-b2ecf48ca5b0",
   "metadata": {},
   "outputs": [],
   "source": []
  },
  {
   "cell_type": "code",
   "execution_count": null,
   "id": "3800ae16-a178-49c0-9319-f572cf82a482",
   "metadata": {},
   "outputs": [],
   "source": []
  },
  {
   "cell_type": "code",
   "execution_count": null,
   "id": "8e5958b3-bfad-40c6-a24f-e26d896e49f1",
   "metadata": {},
   "outputs": [],
   "source": []
  },
  {
   "cell_type": "code",
   "execution_count": null,
   "id": "46eee507-fddd-4f62-8362-7f54c8512642",
   "metadata": {},
   "outputs": [],
   "source": []
  },
  {
   "cell_type": "code",
   "execution_count": null,
   "id": "1880614a-b74e-4b43-a4ec-7e68d491f2b6",
   "metadata": {},
   "outputs": [],
   "source": []
  },
  {
   "cell_type": "code",
   "execution_count": null,
   "id": "3e6be1f0-a837-4e3f-b765-67e727beae9e",
   "metadata": {},
   "outputs": [],
   "source": []
  },
  {
   "cell_type": "code",
   "execution_count": null,
   "id": "ca21fc5c-6ccb-4c1d-bf6d-9ebbfa1856d8",
   "metadata": {},
   "outputs": [],
   "source": []
  },
  {
   "cell_type": "code",
   "execution_count": null,
   "id": "fd2c2dc0-23c1-4770-837a-9127c1b290a0",
   "metadata": {},
   "outputs": [],
   "source": []
  },
  {
   "cell_type": "markdown",
   "id": "cae0cc87-737f-45e0-8dad-0ee253799a87",
   "metadata": {},
   "source": [
    "# Problem Set 7  - Bonus!\n",
    "\n",
    "\n",
    "1. Writing your Outputs: Persist the new movies dataframe with the added ```avg_rating, rating_freq, rating_freq_user``` columns to local disk in CSV format  \n",
    "\n",
    "1. Just fun on string operations: Prepare a list of movies that have atleast two vowels except 'e' - sort the list by month and year of video release.  \n",
    "   * sample output: ```year of video release, month of video release, movie title, # of e, # of vowels that are not e```  \n",
    "   \n",
    "1. Combinations of generes in ```movies```: Think about combinations of 2 genres...    \n",
    "    * What is the frequency of each **pair** of genres? That is how many films belong to each unique pair of genres? \n",
    "        * For e.g. how many times do adventure and romance occur together? etc.\n",
    "    * Are there generes that never occur together? \n",
    "    * Are there generes that always occur together? \n",
    "        * For e.g. in a multi-genre movie, whenever ```Comedy``` occurs is it always accompanied by ```Adventure```?\n",
    "\n",
    "1. *[optional]* Is there a way to create a 2D matrix of genres - which clearly displays the absolute frequency of any pair of genres? *(hint: try pivot tables)*  \n",
    "\n",
    "  \n",
    "\n",
    "*[think]*: Is there a 'variety' metric? sum of absolute frequencies divided by total absolute frequency?  "
   ]
  },
  {
   "cell_type": "code",
   "execution_count": null,
   "id": "0041b641-5441-40e1-b467-24d12be67aea",
   "metadata": {},
   "outputs": [],
   "source": []
  },
  {
   "cell_type": "markdown",
   "id": "50dc975f-7d6e-4509-a341-ee04574f2873",
   "metadata": {},
   "source": [
    "### Combinations of generes: Think about combinations of 2 genres...  \n",
    "\n",
    "* What is the frequency of each genre pair of occuring together? \n",
    "    * For e.g. how many times do adventure and romance occur together? etc.\n",
    "* Are there generes that never occur together? \n",
    "* Are there generes that always occur together? \n",
    "    * For e.g. in a multi-genre movie, whenever ```Comedy``` occurs is it always accompanied by ```Adventure```?"
   ]
  },
  {
   "cell_type": "markdown",
   "id": "5186bb5b-1a27-4152-87cf-3d92256f43c4",
   "metadata": {
    "tags": []
   },
   "source": [
    "#### Find all pairs of genres\n",
    "\n",
    "We'll need to generate a new dataframe which has all **bi**grams (pair of 2 genres occuring together) of genres.\n",
    "\n",
    "see: [n-grams](https://en.wikipedia.org/wiki/N-gram) aka Q-grams  \n",
    "Another [note on n-grams](https://web.stanford.edu/~jurafsky/slp3/3.pdf)."
   ]
  },
  {
   "cell_type": "markdown",
   "id": "bac7d7e1-fbee-4919-8d81-2fad584bff68",
   "metadata": {},
   "source": [
    "#####  **Approach 1**  \n",
    "  \n",
    "A seemingly obvious method would be to use ```df.crossJoin``` *(and ```df.withColumnRenamed``` to avoid confusing column names)*...  \n",
    "Let's try that first and see...  "
   ]
  },
  {
   "cell_type": "code",
   "execution_count": 135,
   "id": "be87b35e-96ba-46aa-b70a-c9a7a826fdf2",
   "metadata": {},
   "outputs": [],
   "source": [
    "# first create two columns, resulting in all combinations\n",
    "# filter out duplicates (no duplicates - no records with same value in col1 and col2)\n",
    "# this filters out movies with only one genre defined\n",
    "movie_genre_bigrams_1 = (\n",
    "    unique_movie_genres.select(col(\"genre\"))\n",
    "    .withColumnRenamed(\"genre\", \"genre1\")\n",
    "    .crossJoin(\n",
    "        unique_movie_genres.select(col(\"genre\")).withColumnRenamed(\"genre\", \"genre2\")\n",
    "    )\n",
    "    .filter(col(\"genre1\") != col(\"genre2\"))\n",
    ")"
   ]
  },
  {
   "cell_type": "code",
   "execution_count": 136,
   "id": "6cbde84d-cb20-431f-bcce-2571167ff3fc",
   "metadata": {},
   "outputs": [],
   "source": [
    "# create another column where genre values are concatenated - just so we are able to see the values clearly\n",
    "from pyspark.sql.functions import concat_ws\n",
    "\n",
    "movie_genre_bigrams_1 = movie_genre_bigrams_1.withColumn(\n",
    "    \"2_genre_combos\", concat_ws(\"|\", col(\"genre1\"), col(\"genre2\"))\n",
    ")"
   ]
  },
  {
   "cell_type": "code",
   "execution_count": 137,
   "id": "67b05d22-ea0c-4485-b0de-2abd30d25470",
   "metadata": {},
   "outputs": [
    {
     "name": "stdout",
     "output_type": "stream",
     "text": [
      "+-------+------------------+--------------------+\n",
      "| genre1|            genre2|      2_genre_combos|\n",
      "+-------+------------------+--------------------+\n",
      "|  Crime|           Romance|       Crime|Romance|\n",
      "|  Crime|          Thriller|      Crime|Thriller|\n",
      "|  Crime|         Adventure|     Crime|Adventure|\n",
      "|  Crime|             Drama|         Crime|Drama|\n",
      "|  Crime|               War|           Crime|War|\n",
      "|  Crime|       Documentary|   Crime|Documentary|\n",
      "|  Crime|           Fantasy|       Crime|Fantasy|\n",
      "|  Crime|           Mystery|       Crime|Mystery|\n",
      "|  Crime|           Musical|       Crime|Musical|\n",
      "|  Crime|         Animation|     Crime|Animation|\n",
      "|  Crime|         Film-Noir|     Crime|Film-Noir|\n",
      "|  Crime|(no genres listed)|Crime|(no genres ...|\n",
      "|  Crime|              IMAX|          Crime|IMAX|\n",
      "|  Crime|            Horror|        Crime|Horror|\n",
      "|  Crime|           Western|       Crime|Western|\n",
      "|  Crime|            Comedy|        Crime|Comedy|\n",
      "|  Crime|          Children|      Crime|Children|\n",
      "|  Crime|            Action|        Crime|Action|\n",
      "|  Crime|            Sci-Fi|        Crime|Sci-Fi|\n",
      "|Romance|             Crime|       Romance|Crime|\n",
      "+-------+------------------+--------------------+\n",
      "only showing top 20 rows\n",
      "\n"
     ]
    }
   ],
   "source": [
    "movie_genre_bigrams_1.show()"
   ]
  },
  {
   "cell_type": "markdown",
   "id": "793eab23-01fa-4de0-9a36-13af5ad5a474",
   "metadata": {},
   "source": [
    "*OBSERVATION*: A problem with the dataset above is that for the context of our data, ```Crime|Romance``` is the same as ```Romance|Crime```, we need to find an efficient way that our analysis is independent of the order of genres in the concatenated string.  \n",
    "\n",
    "We need to look for *combinations* not *permutations* as the order of genres is not significant for our purposes.\n",
    "\n",
    "I have a suspicion that this cross-join based approach may not work for solving the actual question - that how many unique movies exist for every combination of genre... let's try solving it and find out."
   ]
  },
  {
   "cell_type": "markdown",
   "id": "515746c9-e828-49e9-ae78-9c5594f7dd8d",
   "metadata": {},
   "source": [
    "##### What is the frequency of each pair of genres? - **Approach 1**\n",
    "\n",
    "aka How many films belong to each unique pair of genres?  \n",
    "* For e.g. how many times do adventure and romance occur together? etc.  \n",
    "  \n",
    "Wokay... keeping the *observation* in mind, let's see how we'd solve for a list of movies"
   ]
  },
  {
   "cell_type": "code",
   "execution_count": 138,
   "id": "cbb0df32-7948-4941-83bf-94d0163fbc4b",
   "metadata": {},
   "outputs": [],
   "source": [
    "# all the movies in expanded genre where the genre matches genre1 in co\n",
    "\n",
    "compound_condition = [\n",
    "    (movies_expanded_by_genre[\"genre\"] == movie_genre_bigrams_1[\"genre1\"]),\n",
    "    (movies_expanded_by_genre[\"genres\"].contains(movie_genre_bigrams_1[\"genre2\"])),\n",
    "]\n",
    "movies_with_bigrams_1 = movies_expanded_by_genre.join(\n",
    "    movie_genre_bigrams_1, compound_condition, \"inner\"\n",
    ").orderBy(col(\"title\").asc())"
   ]
  },
  {
   "cell_type": "code",
   "execution_count": 139,
   "id": "a30f7716-5786-4827-8240-b2520b50284d",
   "metadata": {},
   "outputs": [
    {
     "name": "stdout",
     "output_type": "stream",
     "text": [
      "+-------+-------------------------------------------------------+-----------------------------+---------------+----------+-----------+-----------+-----------+-----------------+\n",
      "|movieId|title                                                  |genres                       |year_of_release|num_genres|genre      |genre1     |genre2     |2_genre_combos   |\n",
      "+-------+-------------------------------------------------------+-----------------------------+---------------+----------+-----------+-----------+-----------+-----------------+\n",
      "|208297 |\"BLOW THE NIGHT!\" Let's Spend the Night Together (1983)|Documentary|Drama            |1983           |2         |Drama      |Drama      |Documentary|Drama|Documentary|\n",
      "|208297 |\"BLOW THE NIGHT!\" Let's Spend the Night Together (1983)|Documentary|Drama            |1983           |2         |Documentary|Documentary|Drama      |Documentary|Drama|\n",
      "|136604 |#1 Cheerleader Camp (2010)                             |Comedy|Drama                 |2010           |2         |Drama      |Drama      |Comedy     |Drama|Comedy     |\n",
      "|136604 |#1 Cheerleader Camp (2010)                             |Comedy|Drama                 |2010           |2         |Comedy     |Comedy     |Drama      |Comedy|Drama     |\n",
      "|203417 |#FollowMe (2019)                                       |Horror|Thriller              |2019           |2         |Thriller   |Thriller   |Horror     |Thriller|Horror  |\n",
      "|203417 |#FollowMe (2019)                                       |Horror|Thriller              |2019           |2         |Horror     |Horror     |Thriller   |Horror|Thriller  |\n",
      "|151789 |#Horror (2015)                                         |Drama|Horror|Mystery|Thriller|2015           |4         |Drama      |Drama      |Horror     |Drama|Horror     |\n",
      "|151789 |#Horror (2015)                                         |Drama|Horror|Mystery|Thriller|2015           |4         |Thriller   |Thriller   |Horror     |Thriller|Horror  |\n",
      "|151789 |#Horror (2015)                                         |Drama|Horror|Mystery|Thriller|2015           |4         |Thriller   |Thriller   |Mystery    |Thriller|Mystery |\n",
      "|151789 |#Horror (2015)                                         |Drama|Horror|Mystery|Thriller|2015           |4         |Thriller   |Thriller   |Drama      |Thriller|Drama   |\n",
      "|151789 |#Horror (2015)                                         |Drama|Horror|Mystery|Thriller|2015           |4         |Drama      |Drama      |Mystery    |Drama|Mystery    |\n",
      "|151789 |#Horror (2015)                                         |Drama|Horror|Mystery|Thriller|2015           |4         |Drama      |Drama      |Thriller   |Drama|Thriller   |\n",
      "|151789 |#Horror (2015)                                         |Drama|Horror|Mystery|Thriller|2015           |4         |Mystery    |Mystery    |Horror     |Mystery|Horror   |\n",
      "|151789 |#Horror (2015)                                         |Drama|Horror|Mystery|Thriller|2015           |4         |Mystery    |Mystery    |Drama      |Mystery|Drama    |\n",
      "|151789 |#Horror (2015)                                         |Drama|Horror|Mystery|Thriller|2015           |4         |Mystery    |Mystery    |Thriller   |Mystery|Thriller |\n",
      "+-------+-------------------------------------------------------+-----------------------------+---------------+----------+-----------+-----------+-----------+-----------------+\n",
      "only showing top 15 rows\n",
      "\n"
     ]
    }
   ],
   "source": [
    "movies_with_bigrams_1.show(15, False)"
   ]
  },
  {
   "cell_type": "markdown",
   "id": "ca57cb32-44f0-4b4d-baad-729b648964cb",
   "metadata": {},
   "source": [
    "Yeah...  \n",
    "As expected, we get twice the number of results. One for ```Thriller|Horror``` and another for ```Horror|Thriller```  \n"
   ]
  },
  {
   "cell_type": "code",
   "execution_count": 140,
   "id": "bf39eff4-0e96-4c46-ac17-9b4fc2e0f9fa",
   "metadata": {},
   "outputs": [],
   "source": [
    "# just for fun\n",
    "movie_bigram_1_freq = movies_with_bigrams_1.groupBy(\"genre1\", \"genre2\").count()"
   ]
  },
  {
   "cell_type": "code",
   "execution_count": 141,
   "id": "1d652f28-dbe0-45a8-93d5-79836a4ada28",
   "metadata": {},
   "outputs": [
    {
     "name": "stdout",
     "output_type": "stream",
     "text": [
      "+------+-----------+-----+\n",
      "|genre1|     genre2|count|\n",
      "+------+-----------+-----+\n",
      "|Comedy|      Drama| 4603|\n",
      "|Comedy|    Romance| 3450|\n",
      "|Comedy|     Action| 1333|\n",
      "|Comedy|   Children| 1169|\n",
      "|Comedy|      Crime| 1044|\n",
      "|Comedy|  Adventure| 1004|\n",
      "|Comedy|  Animation|  855|\n",
      "|Comedy|    Fantasy|  836|\n",
      "|Comedy|     Horror|  790|\n",
      "|Comedy|   Thriller|  647|\n",
      "|Comedy|     Sci-Fi|  577|\n",
      "|Comedy|    Musical|  519|\n",
      "|Comedy|    Mystery|  364|\n",
      "|Comedy|    Western|  215|\n",
      "|Comedy|Documentary|  200|\n",
      "|Comedy|        War|  180|\n",
      "|Comedy|       IMAX|   29|\n",
      "|Comedy|  Film-Noir|    9|\n",
      "+------+-----------+-----+\n",
      "\n",
      "+-------+-----------+-----+\n",
      "| genre1|     genre2|count|\n",
      "+-------+-----------+-----+\n",
      "|Romance|      Drama| 4654|\n",
      "|Romance|     Comedy| 3450|\n",
      "|Romance|     Action|  543|\n",
      "|Romance|   Thriller|  488|\n",
      "|Romance|  Adventure|  436|\n",
      "|Romance|      Crime|  397|\n",
      "|Romance|    Fantasy|  390|\n",
      "|Romance|    Musical|  352|\n",
      "|Romance|        War|  275|\n",
      "|Romance|    Mystery|  259|\n",
      "|Romance|   Children|  208|\n",
      "|Romance|    Western|  170|\n",
      "|Romance|     Sci-Fi|  167|\n",
      "|Romance|     Horror|  129|\n",
      "|Romance|  Animation|  112|\n",
      "|Romance|  Film-Noir|   37|\n",
      "|Romance|Documentary|   27|\n",
      "|Romance|       IMAX|   10|\n",
      "+-------+-----------+-----+\n",
      "\n"
     ]
    }
   ],
   "source": [
    "# compare counts of two sets to see if they match\n",
    "movie_bigram_1_freq.filter(col(\"genre1\") == \"Comedy\").orderBy(col(\"count\").desc()).show(\n",
    "    25\n",
    ")\n",
    "movie_bigram_1_freq.filter(col(\"genre1\") == \"Romance\").orderBy(\n",
    "    col(\"count\").desc()\n",
    ").show(25)"
   ]
  },
  {
   "cell_type": "markdown",
   "id": "bd67ffc3-3451-4816-977f-4ec655294481",
   "metadata": {},
   "source": [
    "The counts seem to match but in some cases there's odd numbers here... like ```Romance|Action``` has 543 movies - how does that work?"
   ]
  },
  {
   "cell_type": "code",
   "execution_count": 142,
   "id": "5267ec3b-8bea-42e4-93a3-0225c7916be7",
   "metadata": {},
   "outputs": [
    {
     "name": "stdout",
     "output_type": "stream",
     "text": [
      "+-----------------------------------------------------------------------------------------------------------+\n",
      "|title                                                                                                      |\n",
      "+-----------------------------------------------------------------------------------------------------------+\n",
      "|'49-'17 (1917)                                                                                             |\n",
      "|4 for Texas (1963)                                                                                         |\n",
      "|800 Bullets (800 Balas) (2002)                                                                             |\n",
      "|A Man from Boulevard des Capucines (1987)                                                                  |\n",
      "|A Million Ways to Die in the West (2014)                                                                   |\n",
      "|A Talent for Loving (1969)                                                                                 |\n",
      "|A Ticket to Tomahawk (1950)                                                                                |\n",
      "|A Visit from the Incubus (2001)                                                                            |\n",
      "|Ace High (1968)                                                                                            |\n",
      "|Adios Amigo (1976)                                                                                         |\n",
      "|Advance to the Rear (1964)                                                                                 |\n",
      "|Alien Outlaw (1985)                                                                                        |\n",
      "|Alive or Preferably Dead (1969)                                                                            |\n",
      "|Almost Heroes (1998)                                                                                       |\n",
      "|Along Came Jones (1945)                                                                                    |\n",
      "|American Outlaws (2001)                                                                                    |\n",
      "|An Eastern Westerner (1920)                                                                                |\n",
      "|Annie Get Your Gun (1950)                                                                                  |\n",
      "|Apple Dumpling Gang Rides Again, The (1979)                                                                |\n",
      "|Apple Dumpling Gang, The (1975)                                                                            |\n",
      "|Aquí llega Condemor, el pecador de la pradera (1996)                                                       |\n",
      "|Back to the Future Part III (1990)                                                                         |\n",
      "|Bad Man's River (1971)                                                                                     |\n",
      "|Ballad of Cable Hogue, The (1970)                                                                          |\n",
      "|Bandidas (2006)                                                                                            |\n",
      "|Barbary Coast Gent (Gold Town) (Honest Thief, The) (1944)                                                  |\n",
      "|Barbed Wire (1952)                                                                                         |\n",
      "|Belle of the Nineties (1934)                                                                               |\n",
      "|Belle of the Yukon (1944)                                                                                  |\n",
      "|Big Hand for the Little Lady, A (1966)                                                                     |\n",
      "|Big Money Rustlas (Big Money Ru$tla$) (2010)                                                               |\n",
      "|Billy Blazes, Esq. (1919)                                                                                  |\n",
      "|Blazing Saddles (1974)                                                                                     |\n",
      "|Blue Montana Skies (1939)                                                                                  |\n",
      "|Boot Hill (1969)                                                                                           |\n",
      "|Border Feud (1947)                                                                                         |\n",
      "|Bowery Buckaroos (1947)                                                                                    |\n",
      "|Broken Down Film (1985)                                                                                    |\n",
      "|Brothers O'Toole, The (1973)                                                                               |\n",
      "|Buck Benny Rides Again (1940)                                                                              |\n",
      "|Buddy Goes West (Occhio alla penna) (1981)                                                                 |\n",
      "|Buffalo Bill and the Indians, or Sitting Bull's History Lesson (a.k.a. Buffalo Bill and the Indians) (1976)|\n",
      "|Cain's Cutthroats (1970)                                                                                   |\n",
      "|Callaway Went Thataway (1951)                                                                              |\n",
      "|Cannibal! The Musical (a.k.a. Alferd Packer: The Musical) (1996)                                           |\n",
      "|Carambola's Philosophy: In the Right Pocket (1975)                                                         |\n",
      "|Carry On Cowboy (1966)                                                                                     |\n",
      "|Castaway Cowboy, The (1974)                                                                                |\n",
      "|Cat Ballou (1965)                                                                                          |\n",
      "|Catlow (1971)                                                                                              |\n",
      "+-----------------------------------------------------------------------------------------------------------+\n",
      "only showing top 50 rows\n",
      "\n"
     ]
    }
   ],
   "source": [
    "movies_with_bigrams_1.filter(col(\"genre1\") == \"Comedy\").filter(\n",
    "    col(\"genre2\") == \"Western\"\n",
    ").select(col(\"title\")).show(50, False)"
   ]
  },
  {
   "cell_type": "markdown",
   "id": "f03fc46f-54e2-4bba-8690-1541093cad3d",
   "metadata": {},
   "source": [
    "##### Approach 2\n",
    "\n",
    "Using the n-gram function?"
   ]
  },
  {
   "cell_type": "code",
   "execution_count": null,
   "id": "52f8d491-871a-441e-b9b1-85d2d0ca9da2",
   "metadata": {},
   "outputs": [],
   "source": []
  },
  {
   "cell_type": "code",
   "execution_count": null,
   "id": "8cc2e622-5303-4c16-8d98-272afb2f5691",
   "metadata": {},
   "outputs": [],
   "source": []
  },
  {
   "cell_type": "code",
   "execution_count": null,
   "id": "884f3c87-7d8d-40d1-8339-d859405ddf4a",
   "metadata": {},
   "outputs": [],
   "source": []
  },
  {
   "cell_type": "code",
   "execution_count": null,
   "id": "61e1eba9-e786-4a90-a064-e401da5bab72",
   "metadata": {},
   "outputs": [],
   "source": []
  },
  {
   "cell_type": "code",
   "execution_count": null,
   "id": "f97794a7",
   "metadata": {},
   "outputs": [],
   "source": []
  },
  {
   "cell_type": "code",
   "execution_count": 143,
   "id": "0fb7616c",
   "metadata": {},
   "outputs": [],
   "source": [
    "spark.catalog.clearCache()"
   ]
  },
  {
   "cell_type": "code",
   "execution_count": 145,
   "id": "c857c623",
   "metadata": {},
   "outputs": [],
   "source": [
    "# spark.stop()"
   ]
  },
  {
   "cell_type": "code",
   "execution_count": null,
   "id": "3b4d5323-1839-493e-8b89-5479e5e82194",
   "metadata": {},
   "outputs": [],
   "source": []
  }
 ],
 "metadata": {
  "kernelspec": {
   "display_name": "Python 3 (ipykernel)",
   "language": "python",
   "name": "python3"
  },
  "language_info": {
   "codemirror_mode": {
    "name": "ipython",
    "version": 3
   },
   "file_extension": ".py",
   "mimetype": "text/x-python",
   "name": "python",
   "nbconvert_exporter": "python",
   "pygments_lexer": "ipython3",
   "version": "3.11.4"
  },
  "toc-autonumbering": true,
  "toc-showcode": false,
  "vscode": {
   "interpreter": {
    "hash": "878c26efb34055ef625dfbb6be8693c85c1b35f012c90aec291ada177cc85114"
   }
  }
 },
 "nbformat": 4,
 "nbformat_minor": 5
}
