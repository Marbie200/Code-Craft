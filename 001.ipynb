{
 "cells": [
  {
   "cell_type": "code",
   "execution_count": 1,
   "id": "4787d5d8",
   "metadata": {},
   "outputs": [],
   "source": [
    "import numpy as np\n",
    "import pandas as pd"
   ]
  },
  {
   "cell_type": "markdown",
   "id": "0f5df25e",
   "metadata": {},
   "source": [
    "# Object creation"
   ]
  },
  {
   "cell_type": "code",
   "execution_count": 2,
   "id": "af7dad0b",
   "metadata": {},
   "outputs": [],
   "source": [
    "# Series - pass a list to pd.Series\n",
    "s1 = pd.Series([1,2,3,np.nan,5])"
   ]
  },
  {
   "cell_type": "code",
   "execution_count": 4,
   "id": "734aaa87",
   "metadata": {},
   "outputs": [
    {
     "data": {
      "text/plain": [
       "0    1.0\n",
       "1    2.0\n",
       "2    3.0\n",
       "3    NaN\n",
       "4    5.0\n",
       "dtype: float64"
      ]
     },
     "execution_count": 4,
     "metadata": {},
     "output_type": "execute_result"
    }
   ],
   "source": [
    "s1"
   ]
  },
  {
   "cell_type": "code",
   "execution_count": 9,
   "id": "1d461885",
   "metadata": {},
   "outputs": [
    {
     "data": {
      "text/plain": [
       "DatetimeIndex(['2022-06-19', '2022-06-20', '2022-06-21', '2022-06-22',\n",
       "               '2022-06-23', '2022-06-24', '2022-06-25', '2022-06-26',\n",
       "               '2022-06-27', '2022-06-28'],\n",
       "              dtype='datetime64[ns]', freq='D')"
      ]
     },
     "execution_count": 9,
     "metadata": {},
     "output_type": "execute_result"
    }
   ],
   "source": [
    "# create an index to use in the dataframe\n",
    "# default frequency is D (day), so creates a DatetimeIndex of 10 days\n",
    "dates = pd.date_range('20220619', periods=10)\n",
    "dates"
   ]
  },
  {
   "cell_type": "code",
   "execution_count": 10,
   "id": "047265e3",
   "metadata": {},
   "outputs": [
    {
     "data": {
      "text/html": [
       "<div>\n",
       "<style scoped>\n",
       "    .dataframe tbody tr th:only-of-type {\n",
       "        vertical-align: middle;\n",
       "    }\n",
       "\n",
       "    .dataframe tbody tr th {\n",
       "        vertical-align: top;\n",
       "    }\n",
       "\n",
       "    .dataframe thead th {\n",
       "        text-align: right;\n",
       "    }\n",
       "</style>\n",
       "<table border=\"1\" class=\"dataframe\">\n",
       "  <thead>\n",
       "    <tr style=\"text-align: right;\">\n",
       "      <th></th>\n",
       "      <th>A</th>\n",
       "      <th>B</th>\n",
       "      <th>C</th>\n",
       "      <th>D</th>\n",
       "    </tr>\n",
       "  </thead>\n",
       "  <tbody>\n",
       "    <tr>\n",
       "      <th>2022-06-19</th>\n",
       "      <td>-1.072325</td>\n",
       "      <td>-1.046005</td>\n",
       "      <td>-0.003978</td>\n",
       "      <td>0.511407</td>\n",
       "    </tr>\n",
       "    <tr>\n",
       "      <th>2022-06-20</th>\n",
       "      <td>1.240048</td>\n",
       "      <td>1.289383</td>\n",
       "      <td>0.003928</td>\n",
       "      <td>0.219628</td>\n",
       "    </tr>\n",
       "    <tr>\n",
       "      <th>2022-06-21</th>\n",
       "      <td>0.611471</td>\n",
       "      <td>1.074300</td>\n",
       "      <td>-0.095557</td>\n",
       "      <td>-1.576244</td>\n",
       "    </tr>\n",
       "    <tr>\n",
       "      <th>2022-06-22</th>\n",
       "      <td>0.441314</td>\n",
       "      <td>0.738755</td>\n",
       "      <td>0.424051</td>\n",
       "      <td>1.427570</td>\n",
       "    </tr>\n",
       "    <tr>\n",
       "      <th>2022-06-23</th>\n",
       "      <td>-1.003586</td>\n",
       "      <td>-0.351290</td>\n",
       "      <td>-0.596840</td>\n",
       "      <td>1.415009</td>\n",
       "    </tr>\n",
       "    <tr>\n",
       "      <th>2022-06-24</th>\n",
       "      <td>0.677987</td>\n",
       "      <td>0.085579</td>\n",
       "      <td>0.105735</td>\n",
       "      <td>0.774904</td>\n",
       "    </tr>\n",
       "    <tr>\n",
       "      <th>2022-06-25</th>\n",
       "      <td>-0.941332</td>\n",
       "      <td>-0.495097</td>\n",
       "      <td>0.403465</td>\n",
       "      <td>1.993419</td>\n",
       "    </tr>\n",
       "    <tr>\n",
       "      <th>2022-06-26</th>\n",
       "      <td>-0.709616</td>\n",
       "      <td>1.190575</td>\n",
       "      <td>0.223282</td>\n",
       "      <td>-0.552828</td>\n",
       "    </tr>\n",
       "    <tr>\n",
       "      <th>2022-06-27</th>\n",
       "      <td>0.655756</td>\n",
       "      <td>0.697084</td>\n",
       "      <td>0.081403</td>\n",
       "      <td>0.524118</td>\n",
       "    </tr>\n",
       "    <tr>\n",
       "      <th>2022-06-28</th>\n",
       "      <td>0.978310</td>\n",
       "      <td>0.550906</td>\n",
       "      <td>0.692504</td>\n",
       "      <td>0.308789</td>\n",
       "    </tr>\n",
       "  </tbody>\n",
       "</table>\n",
       "</div>"
      ],
      "text/plain": [
       "                   A         B         C         D\n",
       "2022-06-19 -1.072325 -1.046005 -0.003978  0.511407\n",
       "2022-06-20  1.240048  1.289383  0.003928  0.219628\n",
       "2022-06-21  0.611471  1.074300 -0.095557 -1.576244\n",
       "2022-06-22  0.441314  0.738755  0.424051  1.427570\n",
       "2022-06-23 -1.003586 -0.351290 -0.596840  1.415009\n",
       "2022-06-24  0.677987  0.085579  0.105735  0.774904\n",
       "2022-06-25 -0.941332 -0.495097  0.403465  1.993419\n",
       "2022-06-26 -0.709616  1.190575  0.223282 -0.552828\n",
       "2022-06-27  0.655756  0.697084  0.081403  0.524118\n",
       "2022-06-28  0.978310  0.550906  0.692504  0.308789"
      ]
     },
     "execution_count": 10,
     "metadata": {},
     "output_type": "execute_result"
    }
   ],
   "source": [
    "# Dataframe - pass a Numpy array\n",
    "# create a 10 row, 4 col random number array, index by dates, give some column names\n",
    "df = pd.DataFrame(np.random.randn(10,4), index = dates, columns = list('ABCD'))\n",
    "df"
   ]
  },
  {
   "cell_type": "code",
   "execution_count": null,
   "id": "a82e31c8",
   "metadata": {},
   "outputs": [],
   "source": []
  }
 ],
 "metadata": {
  "kernelspec": {
   "display_name": "Python 3 (ipykernel)",
   "language": "python",
   "name": "python3"
  },
  "language_info": {
   "codemirror_mode": {
    "name": "ipython",
    "version": 3
   },
   "file_extension": ".py",
   "mimetype": "text/x-python",
   "name": "python",
   "nbconvert_exporter": "python",
   "pygments_lexer": "ipython3",
   "version": "3.9.12"
  }
 },
 "nbformat": 4,
 "nbformat_minor": 5
}
